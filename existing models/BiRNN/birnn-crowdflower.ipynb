{
 "cells": [
  {
   "cell_type": "code",
   "execution_count": 1,
   "id": "13872d1b",
   "metadata": {
    "execution": {
     "iopub.execute_input": "2021-11-13T08:23:00.003701Z",
     "iopub.status.busy": "2021-11-13T08:23:00.002027Z",
     "iopub.status.idle": "2021-11-13T08:23:06.121670Z",
     "shell.execute_reply": "2021-11-13T08:23:06.120677Z",
     "shell.execute_reply.started": "2021-11-13T08:20:32.186671Z"
    },
    "id": "e75ddd0a",
    "papermill": {
     "duration": 6.148027,
     "end_time": "2021-11-13T08:23:06.121837",
     "exception": false,
     "start_time": "2021-11-13T08:22:59.973810",
     "status": "completed"
    },
    "tags": []
   },
   "outputs": [],
   "source": [
    "import numpy as np\n",
    "import pandas as pd\n",
    "\n",
    "from gensim import corpora\n",
    "from nltk.corpus import stopwords\n",
    "from nltk.tokenize import word_tokenize \n",
    "from nltk.stem import SnowballStemmer\n",
    "\n",
    "from keras.preprocessing import sequence\n",
    "from keras.utils import np_utils\n",
    "from keras.models import Sequential\n",
    "from keras.layers import Dense, Dropout, Activation, Embedding\n",
    "from keras.layers import LSTM\n",
    "from sklearn import preprocessing\n",
    "from sklearn.metrics import (precision_score, recall_score,\n",
    "                             f1_score, accuracy_score,mean_squared_error,mean_absolute_error)\n",
    "np.random.seed(0)\n",
    "from tensorflow.keras.optimizers import RMSprop\n",
    "from keras import callbacks\n",
    "from keras.callbacks import ModelCheckpoint, EarlyStopping, ReduceLROnPlateau, CSVLogger\n"
   ]
  },
  {
   "cell_type": "markdown",
   "id": "54079e17",
   "metadata": {
    "id": "07ae1ceb",
    "papermill": {
     "duration": 0.020191,
     "end_time": "2021-11-13T08:23:06.163961",
     "exception": false,
     "start_time": "2021-11-13T08:23:06.143770",
     "status": "completed"
    },
    "tags": []
   },
   "source": [
    "### word2vec"
   ]
  },
  {
   "cell_type": "code",
   "execution_count": 2,
   "id": "34e1ebd0",
   "metadata": {
    "execution": {
     "iopub.execute_input": "2021-11-13T08:23:06.210409Z",
     "iopub.status.busy": "2021-11-13T08:23:06.209619Z",
     "iopub.status.idle": "2021-11-13T08:23:06.211487Z",
     "shell.execute_reply": "2021-11-13T08:23:06.211940Z",
     "shell.execute_reply.started": "2021-11-13T08:20:45.455378Z"
    },
    "id": "d10b7218",
    "papermill": {
     "duration": 0.027271,
     "end_time": "2021-11-13T08:23:06.212065",
     "exception": false,
     "start_time": "2021-11-13T08:23:06.184794",
     "status": "completed"
    },
    "tags": []
   },
   "outputs": [],
   "source": [
    "from __future__ import print_function\n",
    "from collections import OrderedDict\n",
    "\n",
    "import time\n",
    "import _pickle as cPickle\n",
    "\n",
    "import urllib\n",
    "import matplotlib.pyplot as plt\n",
    "\n",
    "import os\n",
    "import sys\n",
    "import codecs\n",
    "import re\n",
    "import numpy as np\n",
    "\n",
    "parameters = OrderedDict()\n",
    "parameters['word_dim'] = 300"
   ]
  },
  {
   "cell_type": "code",
   "execution_count": 3,
   "id": "48878ced",
   "metadata": {
    "execution": {
     "iopub.execute_input": "2021-11-13T08:23:06.256479Z",
     "iopub.status.busy": "2021-11-13T08:23:06.255965Z",
     "iopub.status.idle": "2021-11-13T08:23:06.501444Z",
     "shell.execute_reply": "2021-11-13T08:23:06.501919Z",
     "shell.execute_reply.started": "2021-11-13T08:21:49.467387Z"
    },
    "id": "1d4efccc",
    "outputId": "a95adc00-e531-4825-eb60-e5521de1d945",
    "papermill": {
     "duration": 0.26995,
     "end_time": "2021-11-13T08:23:06.502073",
     "exception": false,
     "start_time": "2021-11-13T08:23:06.232123",
     "status": "completed"
    },
    "tags": []
   },
   "outputs": [
    {
     "data": {
      "text/html": [
       "<div>\n",
       "<style scoped>\n",
       "    .dataframe tbody tr th:only-of-type {\n",
       "        vertical-align: middle;\n",
       "    }\n",
       "\n",
       "    .dataframe tbody tr th {\n",
       "        vertical-align: top;\n",
       "    }\n",
       "\n",
       "    .dataframe thead th {\n",
       "        text-align: right;\n",
       "    }\n",
       "</style>\n",
       "<table border=\"1\" class=\"dataframe\">\n",
       "  <thead>\n",
       "    <tr style=\"text-align: right;\">\n",
       "      <th></th>\n",
       "      <th>tweet_id</th>\n",
       "      <th>sentiment</th>\n",
       "      <th>author</th>\n",
       "      <th>content</th>\n",
       "    </tr>\n",
       "  </thead>\n",
       "  <tbody>\n",
       "    <tr>\n",
       "      <th>0</th>\n",
       "      <td>tweet_id</td>\n",
       "      <td>sentiment</td>\n",
       "      <td>author</td>\n",
       "      <td>content</td>\n",
       "    </tr>\n",
       "    <tr>\n",
       "      <th>1</th>\n",
       "      <td>1956967341</td>\n",
       "      <td>empty</td>\n",
       "      <td>xoshayzers</td>\n",
       "      <td>@tiffanylue i know  i was listenin to bad habi...</td>\n",
       "    </tr>\n",
       "    <tr>\n",
       "      <th>2</th>\n",
       "      <td>1956967666</td>\n",
       "      <td>sadness</td>\n",
       "      <td>wannamama</td>\n",
       "      <td>Layin n bed with a headache  ughhhh...waitin o...</td>\n",
       "    </tr>\n",
       "    <tr>\n",
       "      <th>3</th>\n",
       "      <td>1956967696</td>\n",
       "      <td>sadness</td>\n",
       "      <td>coolfunky</td>\n",
       "      <td>Funeral ceremony...gloomy friday...</td>\n",
       "    </tr>\n",
       "    <tr>\n",
       "      <th>4</th>\n",
       "      <td>1956967789</td>\n",
       "      <td>enthusiasm</td>\n",
       "      <td>czareaquino</td>\n",
       "      <td>wants to hang out with friends SOON!</td>\n",
       "    </tr>\n",
       "  </tbody>\n",
       "</table>\n",
       "</div>"
      ],
      "text/plain": [
       "     tweet_id   sentiment       author  \\\n",
       "0    tweet_id   sentiment       author   \n",
       "1  1956967341       empty   xoshayzers   \n",
       "2  1956967666     sadness    wannamama   \n",
       "3  1956967696     sadness    coolfunky   \n",
       "4  1956967789  enthusiasm  czareaquino   \n",
       "\n",
       "                                             content  \n",
       "0                                            content  \n",
       "1  @tiffanylue i know  i was listenin to bad habi...  \n",
       "2  Layin n bed with a headache  ughhhh...waitin o...  \n",
       "3                Funeral ceremony...gloomy friday...  \n",
       "4               wants to hang out with friends SOON!  "
      ]
     },
     "execution_count": 3,
     "metadata": {},
     "output_type": "execute_result"
    }
   ],
   "source": [
    "datanew = pd.read_csv('../input/crowdflowerdata/text_emotion.csv', sep=',', engine='python', names=['tweet_id', 'sentiment', 'author', 'content'])\n",
    "datanew.head()"
   ]
  },
  {
   "cell_type": "code",
   "execution_count": 4,
   "id": "3f02cdaf",
   "metadata": {
    "execution": {
     "iopub.execute_input": "2021-11-13T08:23:06.555349Z",
     "iopub.status.busy": "2021-11-13T08:23:06.554599Z",
     "iopub.status.idle": "2021-11-13T08:23:06.597772Z",
     "shell.execute_reply": "2021-11-13T08:23:06.598258Z",
     "shell.execute_reply.started": "2021-11-12T01:27:43.279865Z"
    },
    "id": "f3b30e52",
    "outputId": "3c4a0254-956a-475f-e261-b9d3b348bd94",
    "papermill": {
     "duration": 0.075262,
     "end_time": "2021-11-13T08:23:06.598401",
     "exception": false,
     "start_time": "2021-11-13T08:23:06.523139",
     "status": "completed"
    },
    "tags": []
   },
   "outputs": [
    {
     "data": {
      "text/html": [
       "<div>\n",
       "<style scoped>\n",
       "    .dataframe tbody tr th:only-of-type {\n",
       "        vertical-align: middle;\n",
       "    }\n",
       "\n",
       "    .dataframe tbody tr th {\n",
       "        vertical-align: top;\n",
       "    }\n",
       "\n",
       "    .dataframe thead th {\n",
       "        text-align: right;\n",
       "    }\n",
       "</style>\n",
       "<table border=\"1\" class=\"dataframe\">\n",
       "  <thead>\n",
       "    <tr style=\"text-align: right;\">\n",
       "      <th></th>\n",
       "      <th>tweet_id</th>\n",
       "      <th>onehot_sentiment</th>\n",
       "      <th>sentiment</th>\n",
       "      <th>author</th>\n",
       "      <th>content</th>\n",
       "    </tr>\n",
       "  </thead>\n",
       "  <tbody>\n",
       "    <tr>\n",
       "      <th>0</th>\n",
       "      <td>tweet_id</td>\n",
       "      <td>[0.0, 0.0, 0.0, 0.0, 0.0, 0.0, 0.0, 0.0, 0.0, ...</td>\n",
       "      <td>sentiment</td>\n",
       "      <td>author</td>\n",
       "      <td>content</td>\n",
       "    </tr>\n",
       "    <tr>\n",
       "      <th>1</th>\n",
       "      <td>1956967341</td>\n",
       "      <td>[0.0, 0.0, 1.0, 0.0, 0.0, 0.0, 0.0, 0.0, 0.0, ...</td>\n",
       "      <td>empty</td>\n",
       "      <td>xoshayzers</td>\n",
       "      <td>@tiffanylue i know  i was listenin to bad habi...</td>\n",
       "    </tr>\n",
       "    <tr>\n",
       "      <th>2</th>\n",
       "      <td>1956967666</td>\n",
       "      <td>[0.0, 0.0, 0.0, 0.0, 0.0, 0.0, 0.0, 0.0, 0.0, ...</td>\n",
       "      <td>sadness</td>\n",
       "      <td>wannamama</td>\n",
       "      <td>Layin n bed with a headache  ughhhh...waitin o...</td>\n",
       "    </tr>\n",
       "    <tr>\n",
       "      <th>3</th>\n",
       "      <td>1956967696</td>\n",
       "      <td>[0.0, 0.0, 0.0, 0.0, 0.0, 0.0, 0.0, 0.0, 0.0, ...</td>\n",
       "      <td>sadness</td>\n",
       "      <td>coolfunky</td>\n",
       "      <td>Funeral ceremony...gloomy friday...</td>\n",
       "    </tr>\n",
       "    <tr>\n",
       "      <th>4</th>\n",
       "      <td>1956967789</td>\n",
       "      <td>[0.0, 0.0, 0.0, 1.0, 0.0, 0.0, 0.0, 0.0, 0.0, ...</td>\n",
       "      <td>enthusiasm</td>\n",
       "      <td>czareaquino</td>\n",
       "      <td>wants to hang out with friends SOON!</td>\n",
       "    </tr>\n",
       "    <tr>\n",
       "      <th>...</th>\n",
       "      <td>...</td>\n",
       "      <td>...</td>\n",
       "      <td>...</td>\n",
       "      <td>...</td>\n",
       "      <td>...</td>\n",
       "    </tr>\n",
       "    <tr>\n",
       "      <th>39996</th>\n",
       "      <td>1753918954</td>\n",
       "      <td>[0.0, 0.0, 0.0, 0.0, 0.0, 0.0, 0.0, 0.0, 1.0, ...</td>\n",
       "      <td>neutral</td>\n",
       "      <td>showMe_Heaven</td>\n",
       "      <td>@JohnLloydTaylor</td>\n",
       "    </tr>\n",
       "    <tr>\n",
       "      <th>39997</th>\n",
       "      <td>1753919001</td>\n",
       "      <td>[0.0, 0.0, 0.0, 0.0, 0.0, 0.0, 0.0, 1.0, 0.0, ...</td>\n",
       "      <td>love</td>\n",
       "      <td>drapeaux</td>\n",
       "      <td>Happy Mothers Day  All my love</td>\n",
       "    </tr>\n",
       "    <tr>\n",
       "      <th>39998</th>\n",
       "      <td>1753919005</td>\n",
       "      <td>[0.0, 0.0, 0.0, 0.0, 0.0, 0.0, 0.0, 1.0, 0.0, ...</td>\n",
       "      <td>love</td>\n",
       "      <td>JenniRox</td>\n",
       "      <td>Happy Mother's Day to all the mommies out ther...</td>\n",
       "    </tr>\n",
       "    <tr>\n",
       "      <th>39999</th>\n",
       "      <td>1753919043</td>\n",
       "      <td>[0.0, 0.0, 0.0, 0.0, 0.0, 1.0, 0.0, 0.0, 0.0, ...</td>\n",
       "      <td>happiness</td>\n",
       "      <td>ipdaman1</td>\n",
       "      <td>@niariley WASSUP BEAUTIFUL!!! FOLLOW ME!!  PEE...</td>\n",
       "    </tr>\n",
       "    <tr>\n",
       "      <th>40000</th>\n",
       "      <td>1753919049</td>\n",
       "      <td>[0.0, 0.0, 0.0, 0.0, 0.0, 0.0, 0.0, 1.0, 0.0, ...</td>\n",
       "      <td>love</td>\n",
       "      <td>Alpharalpha</td>\n",
       "      <td>@mopedronin bullet train from tokyo    the gf ...</td>\n",
       "    </tr>\n",
       "  </tbody>\n",
       "</table>\n",
       "<p>40001 rows × 5 columns</p>\n",
       "</div>"
      ],
      "text/plain": [
       "         tweet_id                                   onehot_sentiment  \\\n",
       "0        tweet_id  [0.0, 0.0, 0.0, 0.0, 0.0, 0.0, 0.0, 0.0, 0.0, ...   \n",
       "1      1956967341  [0.0, 0.0, 1.0, 0.0, 0.0, 0.0, 0.0, 0.0, 0.0, ...   \n",
       "2      1956967666  [0.0, 0.0, 0.0, 0.0, 0.0, 0.0, 0.0, 0.0, 0.0, ...   \n",
       "3      1956967696  [0.0, 0.0, 0.0, 0.0, 0.0, 0.0, 0.0, 0.0, 0.0, ...   \n",
       "4      1956967789  [0.0, 0.0, 0.0, 1.0, 0.0, 0.0, 0.0, 0.0, 0.0, ...   \n",
       "...           ...                                                ...   \n",
       "39996  1753918954  [0.0, 0.0, 0.0, 0.0, 0.0, 0.0, 0.0, 0.0, 1.0, ...   \n",
       "39997  1753919001  [0.0, 0.0, 0.0, 0.0, 0.0, 0.0, 0.0, 1.0, 0.0, ...   \n",
       "39998  1753919005  [0.0, 0.0, 0.0, 0.0, 0.0, 0.0, 0.0, 1.0, 0.0, ...   \n",
       "39999  1753919043  [0.0, 0.0, 0.0, 0.0, 0.0, 1.0, 0.0, 0.0, 0.0, ...   \n",
       "40000  1753919049  [0.0, 0.0, 0.0, 0.0, 0.0, 0.0, 0.0, 1.0, 0.0, ...   \n",
       "\n",
       "        sentiment         author  \\\n",
       "0       sentiment         author   \n",
       "1           empty     xoshayzers   \n",
       "2         sadness      wannamama   \n",
       "3         sadness      coolfunky   \n",
       "4      enthusiasm    czareaquino   \n",
       "...           ...            ...   \n",
       "39996     neutral  showMe_Heaven   \n",
       "39997        love       drapeaux   \n",
       "39998        love       JenniRox   \n",
       "39999   happiness       ipdaman1   \n",
       "40000        love    Alpharalpha   \n",
       "\n",
       "                                                 content  \n",
       "0                                                content  \n",
       "1      @tiffanylue i know  i was listenin to bad habi...  \n",
       "2      Layin n bed with a headache  ughhhh...waitin o...  \n",
       "3                    Funeral ceremony...gloomy friday...  \n",
       "4                   wants to hang out with friends SOON!  \n",
       "...                                                  ...  \n",
       "39996                                   @JohnLloydTaylor  \n",
       "39997                     Happy Mothers Day  All my love  \n",
       "39998  Happy Mother's Day to all the mommies out ther...  \n",
       "39999  @niariley WASSUP BEAUTIFUL!!! FOLLOW ME!!  PEE...  \n",
       "40000  @mopedronin bullet train from tokyo    the gf ...  \n",
       "\n",
       "[40001 rows x 5 columns]"
      ]
     },
     "execution_count": 4,
     "metadata": {},
     "output_type": "execute_result"
    }
   ],
   "source": [
    "## encode sentiment column to onehot\n",
    "from sklearn.preprocessing import OneHotEncoder\n",
    "\n",
    "enc = OneHotEncoder(handle_unknown='ignore')\n",
    "enc.fit(datanew['sentiment'].to_numpy().reshape(-1, 1))\n",
    "onehot_sentiment = enc.transform(datanew['sentiment'].to_numpy().reshape(-1, 1)).toarray()\n",
    "# onehot_sentiment = onehot_sentiment.reshape((40000, 1, 13))\n",
    "datanew.insert(1, \"onehot_sentiment\", list(onehot_sentiment))\n",
    "datanew"
   ]
  },
  {
   "cell_type": "markdown",
   "id": "095488a7",
   "metadata": {
    "id": "8df8ec3d",
    "papermill": {
     "duration": 0.024409,
     "end_time": "2021-11-13T08:23:06.644193",
     "exception": false,
     "start_time": "2021-11-13T08:23:06.619784",
     "status": "completed"
    },
    "tags": []
   },
   "source": [
    "### encode word"
   ]
  },
  {
   "cell_type": "code",
   "execution_count": 5,
   "id": "c88c7e05",
   "metadata": {
    "execution": {
     "iopub.execute_input": "2021-11-13T08:23:06.696411Z",
     "iopub.status.busy": "2021-11-13T08:23:06.695606Z",
     "iopub.status.idle": "2021-11-13T08:23:06.697504Z",
     "shell.execute_reply": "2021-11-13T08:23:06.697936Z",
     "shell.execute_reply.started": "2021-11-12T01:27:47.192427Z"
    },
    "id": "9d02a586",
    "papermill": {
     "duration": 0.032839,
     "end_time": "2021-11-13T08:23:06.698069",
     "exception": false,
     "start_time": "2021-11-13T08:23:06.665230",
     "status": "completed"
    },
    "tags": []
   },
   "outputs": [],
   "source": [
    "def create_dico(item_list):\n",
    "    \"\"\"\n",
    "    Create a dictionary of items from a list of list of items.\n",
    "    (item:count) pairs\n",
    "    \"\"\"\n",
    "    assert type(item_list) is list\n",
    "    dico = {}\n",
    "    for items in item_list:\n",
    "        for item in items:\n",
    "            if item not in dico:\n",
    "                dico[item] = 1\n",
    "            else:\n",
    "                dico[item] += 1\n",
    "    return dico\n",
    "\n",
    "def create_mapping(dico):\n",
    "    \"\"\"\n",
    "    Create a mapping (item to ID / ID to item) from a dictionary.\n",
    "    Items are ordered by decreasing frequency.\n",
    "    \"\"\"\n",
    "    sorted_items = sorted(dico.items(), key=lambda x: (-x[1], x[0]))\n",
    "    id_to_item = {i: v[0] for i, v in enumerate(sorted_items)}\n",
    "    item_to_id = {v: k for k, v in id_to_item.items()}\n",
    "    return item_to_id, id_to_item\n",
    "\n",
    "def word_mapping(sentences, lower):\n",
    "    \"\"\"\n",
    "    Create a dictionary and a mapping of words, sorted by frequency.\n",
    "    \n",
    "    return:\n",
    "    dico: dictionary of (word:frequency) pairs\n",
    "    word_to_id: dictionary of (word, id)\n",
    "    id_to_word: dictionary of (id, word)\n",
    "    \"\"\"\n",
    "    words = [[x.lower() if lower else x[0] for x in s] for s in sentences]\n",
    "    dico = create_dico(words)\n",
    "    dico['<UNK>'] = 10000000 #UNK tag for unknown words\n",
    "    word_to_id, id_to_word = create_mapping(dico)\n",
    "    print(\"Found %i unique words (%i in total)\" % (\n",
    "        len(dico), sum(len(x) for x in words)\n",
    "    ))\n",
    "    return dico, word_to_id, id_to_word"
   ]
  },
  {
   "cell_type": "code",
   "execution_count": 6,
   "id": "f76c2cc4",
   "metadata": {
    "execution": {
     "iopub.execute_input": "2021-11-13T08:23:06.745327Z",
     "iopub.status.busy": "2021-11-13T08:23:06.744537Z",
     "iopub.status.idle": "2021-11-13T08:23:06.898138Z",
     "shell.execute_reply": "2021-11-13T08:23:06.898742Z",
     "shell.execute_reply.started": "2021-11-12T01:27:50.047807Z"
    },
    "papermill": {
     "duration": 0.179581,
     "end_time": "2021-11-13T08:23:06.898955",
     "exception": false,
     "start_time": "2021-11-13T08:23:06.719374",
     "status": "completed"
    },
    "tags": []
   },
   "outputs": [
    {
     "name": "stdout",
     "output_type": "stream",
     "text": [
      "[nltk_data] Downloading package punkt to /usr/share/nltk_data...\n",
      "[nltk_data]   Package punkt is already up-to-date!\n"
     ]
    },
    {
     "data": {
      "text/plain": [
       "True"
      ]
     },
     "execution_count": 6,
     "metadata": {},
     "output_type": "execute_result"
    }
   ],
   "source": [
    "import nltk\n",
    "nltk.download('punkt')"
   ]
  },
  {
   "cell_type": "code",
   "execution_count": 7,
   "id": "391eafd0",
   "metadata": {
    "execution": {
     "iopub.execute_input": "2021-11-13T08:23:06.948430Z",
     "iopub.status.busy": "2021-11-13T08:23:06.946643Z",
     "iopub.status.idle": "2021-11-13T08:23:16.791683Z",
     "shell.execute_reply": "2021-11-13T08:23:16.791188Z",
     "shell.execute_reply.started": "2021-11-12T01:27:57.041443Z"
    },
    "id": "32536d06",
    "papermill": {
     "duration": 9.870385,
     "end_time": "2021-11-13T08:23:16.791818",
     "exception": false,
     "start_time": "2021-11-13T08:23:06.921433",
     "status": "completed"
    },
    "tags": []
   },
   "outputs": [],
   "source": [
    "## tokenising sentences\n",
    "raw_content = datanew['content'].to_numpy()\n",
    "\n",
    "processed_docs = []\n",
    "for doc in raw_content:\n",
    "    tokens = word_tokenize(doc)\n",
    "#        filtered = [word for word in tokens if word not in stop_words]\n",
    "#        stemmed = [stemmer.stem(word) for word in filtered]\n",
    "    processed_docs.append(tokens)"
   ]
  },
  {
   "cell_type": "code",
   "execution_count": 8,
   "id": "b91c8e2c",
   "metadata": {
    "execution": {
     "iopub.execute_input": "2021-11-13T08:23:17.082447Z",
     "iopub.status.busy": "2021-11-13T08:23:17.067390Z",
     "iopub.status.idle": "2021-11-13T08:23:17.430489Z",
     "shell.execute_reply": "2021-11-13T08:23:17.430018Z",
     "shell.execute_reply.started": "2021-11-12T01:28:03.437899Z"
    },
    "id": "a2e10b86",
    "outputId": "2055160b-570b-4238-aa1d-05f8d4f2566f",
    "papermill": {
     "duration": 0.615008,
     "end_time": "2021-11-13T08:23:17.430612",
     "exception": false,
     "start_time": "2021-11-13T08:23:16.815604",
     "status": "completed"
    },
    "tags": []
   },
   "outputs": [
    {
     "name": "stdout",
     "output_type": "stream",
     "text": [
      "Found 52746 unique words (654847 in total)\n"
     ]
    }
   ],
   "source": [
    "dico_words,word_to_id,id_to_word = word_mapping(processed_docs, True)"
   ]
  },
  {
   "cell_type": "code",
   "execution_count": 9,
   "id": "a74d845e",
   "metadata": {
    "execution": {
     "iopub.execute_input": "2021-11-13T08:23:17.482904Z",
     "iopub.status.busy": "2021-11-13T08:23:17.481960Z",
     "iopub.status.idle": "2021-11-13T08:23:17.484259Z",
     "shell.execute_reply": "2021-11-13T08:23:17.484672Z",
     "shell.execute_reply.started": "2021-11-12T01:28:06.454192Z"
    },
    "id": "03254b00",
    "papermill": {
     "duration": 0.031331,
     "end_time": "2021-11-13T08:23:17.484821",
     "exception": false,
     "start_time": "2021-11-13T08:23:17.453490",
     "status": "completed"
    },
    "tags": []
   },
   "outputs": [],
   "source": [
    "def lower_case(x,lower=False):\n",
    "    if lower:\n",
    "        return x.lower()  \n",
    "    else:\n",
    "        return x"
   ]
  },
  {
   "cell_type": "code",
   "execution_count": 10,
   "id": "ade29362",
   "metadata": {
    "execution": {
     "iopub.execute_input": "2021-11-13T08:23:17.594108Z",
     "iopub.status.busy": "2021-11-13T08:23:17.558217Z",
     "iopub.status.idle": "2021-11-13T08:23:18.256731Z",
     "shell.execute_reply": "2021-11-13T08:23:18.257152Z",
     "shell.execute_reply.started": "2021-11-12T01:29:33.982416Z"
    },
    "id": "022ab1c7",
    "outputId": "21c18dfe-5969-46d3-e795-0f3cbe47e28d",
    "papermill": {
     "duration": 0.747442,
     "end_time": "2021-11-13T08:23:18.257312",
     "exception": false,
     "start_time": "2021-11-13T08:23:17.509870",
     "status": "completed"
    },
    "tags": []
   },
   "outputs": [
    {
     "name": "stdout",
     "output_type": "stream",
     "text": [
      "40001 sentences\n"
     ]
    }
   ],
   "source": [
    "def prepare_dataset(sentences, word_to_id, lower=False):\n",
    "    \"\"\"\n",
    "    Prepare the dataset. Return a list of lists of dictionaries containing:\n",
    "        - word indexes\n",
    "        - word char indexes\n",
    "        - tag indexes\n",
    "    \"\"\"\n",
    "    data = []\n",
    "    for s in sentences:\n",
    "        str_words = [w for w in s]\n",
    "        words = [word_to_id[lower_case(w,lower) if lower_case(w,lower) in word_to_id else '<UNK>']\n",
    "                 for w in str_words]\n",
    "        data.append({\n",
    "            'str_words': str_words, #list of all words in the sentence\n",
    "            'words': words, #list of word index for all words in the sentence\n",
    "        })\n",
    "    return data\n",
    "\n",
    "data = prepare_dataset(\n",
    "    processed_docs, word_to_id, True\n",
    ")\n",
    "\n",
    "print(\"{} sentences\".format(len(data)))"
   ]
  },
  {
   "cell_type": "code",
   "execution_count": 11,
   "id": "b55169eb",
   "metadata": {
    "execution": {
     "iopub.execute_input": "2021-11-13T08:23:18.310298Z",
     "iopub.status.busy": "2021-11-13T08:23:18.309734Z",
     "iopub.status.idle": "2021-11-13T08:24:27.113489Z",
     "shell.execute_reply": "2021-11-13T08:24:27.114130Z",
     "shell.execute_reply.started": "2021-11-12T01:29:37.252935Z"
    },
    "id": "7ef648e2",
    "outputId": "a5384b73-b9d6-4bb2-97ec-fc17d86f26b6",
    "papermill": {
     "duration": 68.834383,
     "end_time": "2021-11-13T08:24:27.114325",
     "exception": false,
     "start_time": "2021-11-13T08:23:18.279942",
     "status": "completed"
    },
    "scrolled": true,
    "tags": []
   },
   "outputs": [
    {
     "name": "stdout",
     "output_type": "stream",
     "text": [
      "Loaded 400000 pretrained embeddings.\n"
     ]
    }
   ],
   "source": [
    "all_word_embeds = {}\n",
    "for i, line in enumerate(codecs.open('../input/crowdflowerdata/glove.6B.300d.txt', 'r', 'utf-8')):\n",
    "    s = line.strip().split()\n",
    "    if len(s) == parameters['word_dim'] + 1:\n",
    "        all_word_embeds[s[0]] = np.array([float(i) for i in s[1:]])\n",
    "\n",
    "#Intializing Word Embedding Matrix\n",
    "word_embeds = np.random.uniform(-np.sqrt(0.06), np.sqrt(0.06), (len(word_to_id), parameters['word_dim']))\n",
    "\n",
    "for w in word_to_id:\n",
    "    if w in all_word_embeds:\n",
    "        word_embeds[word_to_id[w]] = all_word_embeds[w]\n",
    "    elif w.lower() in all_word_embeds:\n",
    "        word_embeds[word_to_id[w]] = all_word_embeds[w.lower()]\n",
    "\n",
    "print('Loaded %i pretrained embeddings.' % len(all_word_embeds))"
   ]
  },
  {
   "cell_type": "code",
   "execution_count": 12,
   "id": "14d1776a",
   "metadata": {
    "execution": {
     "iopub.execute_input": "2021-11-13T08:24:27.200047Z",
     "iopub.status.busy": "2021-11-13T08:24:27.195024Z",
     "iopub.status.idle": "2021-11-13T08:24:27.397330Z",
     "shell.execute_reply": "2021-11-13T08:24:27.396803Z",
     "shell.execute_reply.started": "2021-11-12T01:30:51.005089Z"
    },
    "id": "8c8e52f8",
    "papermill": {
     "duration": 0.259277,
     "end_time": "2021-11-13T08:24:27.397466",
     "exception": false,
     "start_time": "2021-11-13T08:24:27.138189",
     "status": "completed"
    },
    "tags": []
   },
   "outputs": [],
   "source": [
    "word_indices = [i['words'] for i in data]\n",
    "padded_indices = []\n",
    "for sent in word_indices:\n",
    "    padding_size = 110 - len(sent)\n",
    "    padded = sent + [0 for i in range(padding_size)]\n",
    "    padded_indices.append(padded)"
   ]
  },
  {
   "cell_type": "code",
   "execution_count": 13,
   "id": "2030bda4",
   "metadata": {
    "execution": {
     "iopub.execute_input": "2021-11-13T08:24:27.716244Z",
     "iopub.status.busy": "2021-11-13T08:24:27.715464Z",
     "iopub.status.idle": "2021-11-13T08:24:27.718627Z",
     "shell.execute_reply": "2021-11-13T08:24:27.719057Z",
     "shell.execute_reply.started": "2021-11-12T01:30:53.112562Z"
    },
    "id": "c79a5d1e",
    "outputId": "651f4a86-6d0c-4238-8f54-f3366510cc6a",
    "papermill": {
     "duration": 0.298579,
     "end_time": "2021-11-13T08:24:27.719206",
     "exception": false,
     "start_time": "2021-11-13T08:24:27.420627",
     "status": "completed"
    },
    "tags": []
   },
   "outputs": [
    {
     "data": {
      "text/html": [
       "<div>\n",
       "<style scoped>\n",
       "    .dataframe tbody tr th:only-of-type {\n",
       "        vertical-align: middle;\n",
       "    }\n",
       "\n",
       "    .dataframe tbody tr th {\n",
       "        vertical-align: top;\n",
       "    }\n",
       "\n",
       "    .dataframe thead th {\n",
       "        text-align: right;\n",
       "    }\n",
       "</style>\n",
       "<table border=\"1\" class=\"dataframe\">\n",
       "  <thead>\n",
       "    <tr style=\"text-align: right;\">\n",
       "      <th></th>\n",
       "      <th>tweet_id</th>\n",
       "      <th>padded_indices</th>\n",
       "      <th>onehot_sentiment</th>\n",
       "      <th>sentiment</th>\n",
       "      <th>author</th>\n",
       "      <th>content</th>\n",
       "    </tr>\n",
       "  </thead>\n",
       "  <tbody>\n",
       "    <tr>\n",
       "      <th>0</th>\n",
       "      <td>tweet_id</td>\n",
       "      <td>[2301, 0, 0, 0, 0, 0, 0, 0, 0, 0, 0, 0, 0, 0, ...</td>\n",
       "      <td>[0.0, 0.0, 0.0, 0.0, 0.0, 0.0, 0.0, 0.0, 0.0, ...</td>\n",
       "      <td>sentiment</td>\n",
       "      <td>author</td>\n",
       "      <td>content</td>\n",
       "    </tr>\n",
       "    <tr>\n",
       "      <th>1</th>\n",
       "      <td>1956967341</td>\n",
       "      <td>[4, 48864, 1, 67, 1, 36, 3311, 5, 138, 4779, 8...</td>\n",
       "      <td>[0.0, 0.0, 1.0, 0.0, 0.0, 0.0, 0.0, 0.0, 0.0, ...</td>\n",
       "      <td>empty</td>\n",
       "      <td>xoshayzers</td>\n",
       "      <td>@tiffanylue i know  i was listenin to bad habi...</td>\n",
       "    </tr>\n",
       "    <tr>\n",
       "      <th>2</th>\n",
       "      <td>1956967666</td>\n",
       "      <td>[12504, 316, 162, 33, 8, 439, 3667, 13, 2272, ...</td>\n",
       "      <td>[0.0, 0.0, 0.0, 0.0, 0.0, 0.0, 0.0, 0.0, 0.0, ...</td>\n",
       "      <td>sadness</td>\n",
       "      <td>wannamama</td>\n",
       "      <td>Layin n bed with a headache  ughhhh...waitin o...</td>\n",
       "    </tr>\n",
       "    <tr>\n",
       "      <th>3</th>\n",
       "      <td>1956967696</td>\n",
       "      <td>[2713, 4125, 13, 1714, 246, 13, 0, 0, 0, 0, 0,...</td>\n",
       "      <td>[0.0, 0.0, 0.0, 0.0, 0.0, 0.0, 0.0, 0.0, 0.0, ...</td>\n",
       "      <td>sadness</td>\n",
       "      <td>coolfunky</td>\n",
       "      <td>Funeral ceremony...gloomy friday...</td>\n",
       "    </tr>\n",
       "    <tr>\n",
       "      <th>4</th>\n",
       "      <td>1956967789</td>\n",
       "      <td>[441, 5, 700, 43, 33, 227, 186, 2, 0, 0, 0, 0,...</td>\n",
       "      <td>[0.0, 0.0, 0.0, 1.0, 0.0, 0.0, 0.0, 0.0, 0.0, ...</td>\n",
       "      <td>enthusiasm</td>\n",
       "      <td>czareaquino</td>\n",
       "      <td>wants to hang out with friends SOON!</td>\n",
       "    </tr>\n",
       "    <tr>\n",
       "      <th>...</th>\n",
       "      <td>...</td>\n",
       "      <td>...</td>\n",
       "      <td>...</td>\n",
       "      <td>...</td>\n",
       "      <td>...</td>\n",
       "      <td>...</td>\n",
       "    </tr>\n",
       "    <tr>\n",
       "      <th>39996</th>\n",
       "      <td>1753918954</td>\n",
       "      <td>[4, 6649, 0, 0, 0, 0, 0, 0, 0, 0, 0, 0, 0, 0, ...</td>\n",
       "      <td>[0.0, 0.0, 0.0, 0.0, 0.0, 0.0, 0.0, 0.0, 1.0, ...</td>\n",
       "      <td>neutral</td>\n",
       "      <td>showMe_Heaven</td>\n",
       "      <td>@JohnLloydTaylor</td>\n",
       "    </tr>\n",
       "    <tr>\n",
       "      <th>39997</th>\n",
       "      <td>1753919001</td>\n",
       "      <td>[61, 157, 32, 40, 9, 56, 0, 0, 0, 0, 0, 0, 0, ...</td>\n",
       "      <td>[0.0, 0.0, 0.0, 0.0, 0.0, 0.0, 0.0, 1.0, 0.0, ...</td>\n",
       "      <td>love</td>\n",
       "      <td>drapeaux</td>\n",
       "      <td>Happy Mothers Day  All my love</td>\n",
       "    </tr>\n",
       "    <tr>\n",
       "      <th>39998</th>\n",
       "      <td>1753919005</td>\n",
       "      <td>[61, 141, 18, 32, 5, 40, 6, 1576, 43, 71, 7, 3...</td>\n",
       "      <td>[0.0, 0.0, 0.0, 0.0, 0.0, 0.0, 0.0, 1.0, 0.0, ...</td>\n",
       "      <td>love</td>\n",
       "      <td>JenniRox</td>\n",
       "      <td>Happy Mother's Day to all the mommies out ther...</td>\n",
       "    </tr>\n",
       "    <tr>\n",
       "      <th>39999</th>\n",
       "      <td>1753919043</td>\n",
       "      <td>[4, 8652, 2806, 388, 2, 2, 2, 262, 24, 2, 2, 6...</td>\n",
       "      <td>[0.0, 0.0, 0.0, 0.0, 0.0, 1.0, 0.0, 0.0, 0.0, ...</td>\n",
       "      <td>happiness</td>\n",
       "      <td>ipdaman1</td>\n",
       "      <td>@niariley WASSUP BEAUTIFUL!!! FOLLOW ME!!  PEE...</td>\n",
       "    </tr>\n",
       "    <tr>\n",
       "      <th>40000</th>\n",
       "      <td>1753919049</td>\n",
       "      <td>[4, 12956, 7641, 1051, 63, 2996, 6, 2716, 12, ...</td>\n",
       "      <td>[0.0, 0.0, 0.0, 0.0, 0.0, 0.0, 0.0, 1.0, 0.0, ...</td>\n",
       "      <td>love</td>\n",
       "      <td>Alpharalpha</td>\n",
       "      <td>@mopedronin bullet train from tokyo    the gf ...</td>\n",
       "    </tr>\n",
       "  </tbody>\n",
       "</table>\n",
       "<p>40001 rows × 6 columns</p>\n",
       "</div>"
      ],
      "text/plain": [
       "         tweet_id                                     padded_indices  \\\n",
       "0        tweet_id  [2301, 0, 0, 0, 0, 0, 0, 0, 0, 0, 0, 0, 0, 0, ...   \n",
       "1      1956967341  [4, 48864, 1, 67, 1, 36, 3311, 5, 138, 4779, 8...   \n",
       "2      1956967666  [12504, 316, 162, 33, 8, 439, 3667, 13, 2272, ...   \n",
       "3      1956967696  [2713, 4125, 13, 1714, 246, 13, 0, 0, 0, 0, 0,...   \n",
       "4      1956967789  [441, 5, 700, 43, 33, 227, 186, 2, 0, 0, 0, 0,...   \n",
       "...           ...                                                ...   \n",
       "39996  1753918954  [4, 6649, 0, 0, 0, 0, 0, 0, 0, 0, 0, 0, 0, 0, ...   \n",
       "39997  1753919001  [61, 157, 32, 40, 9, 56, 0, 0, 0, 0, 0, 0, 0, ...   \n",
       "39998  1753919005  [61, 141, 18, 32, 5, 40, 6, 1576, 43, 71, 7, 3...   \n",
       "39999  1753919043  [4, 8652, 2806, 388, 2, 2, 2, 262, 24, 2, 2, 6...   \n",
       "40000  1753919049  [4, 12956, 7641, 1051, 63, 2996, 6, 2716, 12, ...   \n",
       "\n",
       "                                        onehot_sentiment   sentiment  \\\n",
       "0      [0.0, 0.0, 0.0, 0.0, 0.0, 0.0, 0.0, 0.0, 0.0, ...   sentiment   \n",
       "1      [0.0, 0.0, 1.0, 0.0, 0.0, 0.0, 0.0, 0.0, 0.0, ...       empty   \n",
       "2      [0.0, 0.0, 0.0, 0.0, 0.0, 0.0, 0.0, 0.0, 0.0, ...     sadness   \n",
       "3      [0.0, 0.0, 0.0, 0.0, 0.0, 0.0, 0.0, 0.0, 0.0, ...     sadness   \n",
       "4      [0.0, 0.0, 0.0, 1.0, 0.0, 0.0, 0.0, 0.0, 0.0, ...  enthusiasm   \n",
       "...                                                  ...         ...   \n",
       "39996  [0.0, 0.0, 0.0, 0.0, 0.0, 0.0, 0.0, 0.0, 1.0, ...     neutral   \n",
       "39997  [0.0, 0.0, 0.0, 0.0, 0.0, 0.0, 0.0, 1.0, 0.0, ...        love   \n",
       "39998  [0.0, 0.0, 0.0, 0.0, 0.0, 0.0, 0.0, 1.0, 0.0, ...        love   \n",
       "39999  [0.0, 0.0, 0.0, 0.0, 0.0, 1.0, 0.0, 0.0, 0.0, ...   happiness   \n",
       "40000  [0.0, 0.0, 0.0, 0.0, 0.0, 0.0, 0.0, 1.0, 0.0, ...        love   \n",
       "\n",
       "              author                                            content  \n",
       "0             author                                            content  \n",
       "1         xoshayzers  @tiffanylue i know  i was listenin to bad habi...  \n",
       "2          wannamama  Layin n bed with a headache  ughhhh...waitin o...  \n",
       "3          coolfunky                Funeral ceremony...gloomy friday...  \n",
       "4        czareaquino               wants to hang out with friends SOON!  \n",
       "...              ...                                                ...  \n",
       "39996  showMe_Heaven                                   @JohnLloydTaylor  \n",
       "39997       drapeaux                     Happy Mothers Day  All my love  \n",
       "39998       JenniRox  Happy Mother's Day to all the mommies out ther...  \n",
       "39999       ipdaman1  @niariley WASSUP BEAUTIFUL!!! FOLLOW ME!!  PEE...  \n",
       "40000    Alpharalpha  @mopedronin bullet train from tokyo    the gf ...  \n",
       "\n",
       "[40001 rows x 6 columns]"
      ]
     },
     "execution_count": 13,
     "metadata": {},
     "output_type": "execute_result"
    }
   ],
   "source": [
    "datanew.insert(1, \"padded_indices\", list(padded_indices))\n",
    "datanew"
   ]
  },
  {
   "cell_type": "code",
   "execution_count": 14,
   "id": "d0ef7cc7",
   "metadata": {
    "execution": {
     "iopub.execute_input": "2021-11-13T08:24:27.776413Z",
     "iopub.status.busy": "2021-11-13T08:24:27.772284Z",
     "iopub.status.idle": "2021-11-13T08:24:27.784006Z",
     "shell.execute_reply": "2021-11-13T08:24:27.783378Z",
     "shell.execute_reply.started": "2021-11-12T01:30:55.742452Z"
    },
    "id": "7c70f61b",
    "outputId": "6fe89a08-31ef-40c1-f88b-fa88f77aea79",
    "papermill": {
     "duration": 0.041527,
     "end_time": "2021-11-13T08:24:27.784161",
     "exception": false,
     "start_time": "2021-11-13T08:24:27.742634",
     "status": "completed"
    },
    "tags": []
   },
   "outputs": [
    {
     "name": "stdout",
     "output_type": "stream",
     "text": [
      "X train:  28000 (28000,)\n",
      "y train:  28000 (28000,)\n",
      "y test:  12001 (12001,)\n"
     ]
    }
   ],
   "source": [
    "from sklearn.model_selection import train_test_split\n",
    "X = datanew['padded_indices'].to_numpy()\n",
    "y = datanew['onehot_sentiment'].to_numpy()\n",
    "X_train, X_test, y_train, y_test = train_test_split(X, y, test_size=0.3, random_state=42)\n",
    "print(\"X train: \", len(X_train), X_train.shape)\n",
    "print(\"y train: \", len(y_train), y_train.shape)\n",
    "print(\"y test: \", len(y_test), y_test.shape)"
   ]
  },
  {
   "cell_type": "code",
   "execution_count": 15,
   "id": "3e3d3346",
   "metadata": {
    "execution": {
     "iopub.execute_input": "2021-11-13T08:24:27.881726Z",
     "iopub.status.busy": "2021-11-13T08:24:27.876649Z",
     "iopub.status.idle": "2021-11-13T08:24:28.873879Z",
     "shell.execute_reply": "2021-11-13T08:24:28.874773Z",
     "shell.execute_reply.started": "2021-11-12T01:30:58.652199Z"
    },
    "id": "8e9a7b3d",
    "outputId": "1e58c475-b84c-48ee-d979-2535c512e544",
    "papermill": {
     "duration": 1.065921,
     "end_time": "2021-11-13T08:24:28.875015",
     "exception": false,
     "start_time": "2021-11-13T08:24:27.809094",
     "status": "completed"
    },
    "tags": []
   },
   "outputs": [
    {
     "name": "stdout",
     "output_type": "stream",
     "text": [
      "(28000, 110)\n",
      "(28000, 14)\n",
      "(12001, 110)\n",
      "(12001, 14)\n"
     ]
    }
   ],
   "source": [
    "X_train = np.array([np.array(x) for x in X_train])\n",
    "y_train = np.array([np.array(x) for x in y_train])\n",
    "X_test = np.array([np.array(x) for x in X_test])\n",
    "y_test = np.array([np.array(x) for x in y_test])\n",
    "\n",
    "print(X_train.shape)\n",
    "print(y_train.shape)\n",
    "print(X_test.shape)\n",
    "print(y_test.shape)"
   ]
  },
  {
   "cell_type": "markdown",
   "id": "da89966d",
   "metadata": {
    "id": "e9f90c2c",
    "papermill": {
     "duration": 0.02512,
     "end_time": "2021-11-13T08:24:28.926089",
     "exception": false,
     "start_time": "2021-11-13T08:24:28.900969",
     "status": "completed"
    },
    "tags": []
   },
   "source": [
    "### RNN with lstm model"
   ]
  },
  {
   "cell_type": "code",
   "execution_count": 16,
   "id": "4df34610",
   "metadata": {
    "execution": {
     "iopub.execute_input": "2021-11-13T08:24:28.979877Z",
     "iopub.status.busy": "2021-11-13T08:24:28.979069Z",
     "iopub.status.idle": "2021-11-13T08:24:28.981526Z",
     "shell.execute_reply": "2021-11-13T08:24:28.981110Z",
     "shell.execute_reply.started": "2021-11-11T16:37:28.361512Z"
    },
    "id": "0706cfa6",
    "papermill": {
     "duration": 0.030539,
     "end_time": "2021-11-13T08:24:28.981637",
     "exception": false,
     "start_time": "2021-11-13T08:24:28.951098",
     "status": "completed"
    },
    "tags": []
   },
   "outputs": [],
   "source": [
    "# so that dont have to rerun\n",
    "import tensorflow as tf\n",
    "tf.compat.v1.reset_default_graph()"
   ]
  },
  {
   "cell_type": "code",
   "execution_count": 17,
   "id": "4dd0a0aa",
   "metadata": {
    "execution": {
     "iopub.execute_input": "2021-11-13T08:24:29.063906Z",
     "iopub.status.busy": "2021-11-13T08:24:29.058689Z",
     "iopub.status.idle": "2021-11-13T08:24:32.599008Z",
     "shell.execute_reply": "2021-11-13T08:24:32.599466Z",
     "shell.execute_reply.started": "2021-11-12T01:31:07.341322Z"
    },
    "id": "031cf79f",
    "papermill": {
     "duration": 3.593852,
     "end_time": "2021-11-13T08:24:32.599620",
     "exception": false,
     "start_time": "2021-11-13T08:24:29.005768",
     "status": "completed"
    },
    "tags": []
   },
   "outputs": [
    {
     "name": "stderr",
     "output_type": "stream",
     "text": [
      "2021-11-13 08:24:29.242945: I tensorflow/stream_executor/cuda/cuda_gpu_executor.cc:937] successful NUMA node read from SysFS had negative value (-1), but there must be at least one NUMA node, so returning NUMA node zero\n",
      "2021-11-13 08:24:29.348415: I tensorflow/stream_executor/cuda/cuda_gpu_executor.cc:937] successful NUMA node read from SysFS had negative value (-1), but there must be at least one NUMA node, so returning NUMA node zero\n",
      "2021-11-13 08:24:29.349146: I tensorflow/stream_executor/cuda/cuda_gpu_executor.cc:937] successful NUMA node read from SysFS had negative value (-1), but there must be at least one NUMA node, so returning NUMA node zero\n",
      "2021-11-13 08:24:29.350315: I tensorflow/core/platform/cpu_feature_guard.cc:142] This TensorFlow binary is optimized with oneAPI Deep Neural Network Library (oneDNN) to use the following CPU instructions in performance-critical operations:  AVX2 AVX512F FMA\n",
      "To enable them in other operations, rebuild TensorFlow with the appropriate compiler flags.\n",
      "2021-11-13 08:24:29.351293: I tensorflow/stream_executor/cuda/cuda_gpu_executor.cc:937] successful NUMA node read from SysFS had negative value (-1), but there must be at least one NUMA node, so returning NUMA node zero\n",
      "2021-11-13 08:24:29.351999: I tensorflow/stream_executor/cuda/cuda_gpu_executor.cc:937] successful NUMA node read from SysFS had negative value (-1), but there must be at least one NUMA node, so returning NUMA node zero\n",
      "2021-11-13 08:24:29.352639: I tensorflow/stream_executor/cuda/cuda_gpu_executor.cc:937] successful NUMA node read from SysFS had negative value (-1), but there must be at least one NUMA node, so returning NUMA node zero\n",
      "2021-11-13 08:24:31.210626: I tensorflow/stream_executor/cuda/cuda_gpu_executor.cc:937] successful NUMA node read from SysFS had negative value (-1), but there must be at least one NUMA node, so returning NUMA node zero\n",
      "2021-11-13 08:24:31.212467: I tensorflow/stream_executor/cuda/cuda_gpu_executor.cc:937] successful NUMA node read from SysFS had negative value (-1), but there must be at least one NUMA node, so returning NUMA node zero\n",
      "2021-11-13 08:24:31.213576: I tensorflow/stream_executor/cuda/cuda_gpu_executor.cc:937] successful NUMA node read from SysFS had negative value (-1), but there must be at least one NUMA node, so returning NUMA node zero\n",
      "2021-11-13 08:24:31.214486: I tensorflow/core/common_runtime/gpu/gpu_device.cc:1510] Created device /job:localhost/replica:0/task:0/device:GPU:0 with 15403 MB memory:  -> device: 0, name: Tesla P100-PCIE-16GB, pci bus id: 0000:00:04.0, compute capability: 6.0\n",
      "/opt/conda/lib/python3.7/site-packages/keras/layers/legacy_rnn/rnn_cell_impl.py:415: UserWarning: `tf.nn.rnn_cell.BasicRNNCell` is deprecated and will be removed in a future version. This class is equivalent as `tf.keras.layers.SimpleRNNCell`, and will be replaced by that in Tensorflow 2.0.\n",
      "  warnings.warn(\"`tf.nn.rnn_cell.BasicRNNCell` is deprecated and will be \"\n",
      "/opt/conda/lib/python3.7/site-packages/keras/engine/base_layer.py:2223: UserWarning: `layer.add_variable` is deprecated and will be removed in a future version. Please use `layer.add_weight` method instead.\n",
      "  warnings.warn('`layer.add_variable` is deprecated and '\n"
     ]
    },
    {
     "name": "stdout",
     "output_type": "stream",
     "text": [
      "embedding: (2, 10, 300)\n",
      "rnn: (2, 10, 300)\n",
      "flatten: (2, 3000)\n"
     ]
    }
   ],
   "source": [
    "import tensorflow as tf\n",
    "\n",
    "class RNNModel:\n",
    "\n",
    "    def __init__(self,\n",
    "        embedding,\n",
    "        em_drop_rate = 0.5,\n",
    "        rnn_units   = 300,\n",
    "        rnn_drop_rate = 0.2):\n",
    "        '''Constructor.\n",
    "        # Parameters:\n",
    "        embedding: Numpy array representing the embedding.\n",
    "        em_drop_rate: Drop rate after the embedding layer.\n",
    "        lstm_units: Size of the internal states of the LSTM cells.\n",
    "        lstm_drop_rate: Drop rate after the lstm layer.\n",
    "        '''\n",
    "        self._embedding      = embedding\n",
    "        self._em_drop_rate   = em_drop_rate\n",
    "        self._rnn_units     = rnn_units\n",
    "        self._rnn_drop_rate = rnn_drop_rate\n",
    "\n",
    "    def __call__(self, input):\n",
    "        self._embedding_tf = self._create_embedding_layer(\n",
    "            self._em_drop_rate, self._embedding, input)\n",
    "\n",
    "        self._rnn_tf = self._create_rnn_layer(\n",
    "            self._rnn_units,\n",
    "            self._rnn_drop_rate,\n",
    "            self._embedding_tf)\n",
    "\n",
    "        self._flatten_tf = self._create_flatten_layer(self._rnn_tf)\n",
    "\n",
    "        return self._flatten_tf\n",
    "\n",
    "    def summary(self):\n",
    "        print(\"embedding: \" + str(self._embedding_tf.shape))\n",
    "        print(\"rnn: \" + str(self._rnn_tf.shape))\n",
    "        print(\"flatten: \" + str(self._flatten_tf.shape))\n",
    "\n",
    "    # this function converts each word from input_x into dense vector of dimension 300 (dimension depending on word2vec)\n",
    "    # embedding  = word_vector\n",
    "    def _create_embedding_layer(self, em_drop_rate, embedding, input_x):\n",
    "        embedding = tf.Variable(initial_value=embedding)\n",
    "\n",
    "        embedded_chars = tf.nn.embedding_lookup(  # lookup word_vector(embedding) by index (input_x)\n",
    "            embedding, tf.cast(input_x, 'int32'))\n",
    "\n",
    "        return tf.nn.dropout(embedded_chars, rate=em_drop_rate)\n",
    "\n",
    "    def _create_rnn_layer(self, rnn_units, rnn_drop_rate, embedding):\n",
    "        rnn_cell = tf.compat.v1.nn.rnn_cell.BasicRNNCell(rnn_units)\n",
    "        sequence = tf.unstack(embedding, axis=1) #embedded input words\n",
    "        \n",
    "        # hs, _, _ are outputs, output_state_fw, output_state_bw respectively\n",
    "        hs, _, _ = tf.compat.v1.nn.static_bidirectional_rnn(rnn_cell, rnn_cell, #forward and backward direction\n",
    "            sequence, #input\n",
    "            dtype=tf.float32)\n",
    "        \n",
    "        hs = tf.stack(\n",
    "            values=hs,\n",
    "            axis=1)\n",
    "        ss = tf.math.reduce_sum(\n",
    "            tf.reshape(hs, shape=[-1, hs.shape[1], 2, rnn_units]),\n",
    "            axis=2\n",
    "        )\n",
    "\n",
    "        return tf.nn.dropout(ss, rate=rnn_drop_rate)\n",
    "\n",
    "    def _create_flatten_layer(self, tensor):\n",
    "        return tf.reshape(tensor, [-1, tensor.shape[1] * tensor.shape[2]])\n",
    "\n",
    "\n",
    "if __name__ == '__main__':\n",
    "    embedding_size  = 300\n",
    "    num_words       = 1000\n",
    "    sentence_length = 10\n",
    "\n",
    "    embedding = [\n",
    "        [float(i) for i in range(embedding_size)] for _ in range(num_words)\n",
    "    ]\n",
    "    data = [\n",
    "        [i     for i in range(sentence_length)],\n",
    "        [i + 1 for i in range(sentence_length)]\n",
    "    ]\n",
    "\n",
    "    model = RNNModel(embedding)\n",
    "    model(data)\n",
    "    model.summary()"
   ]
  },
  {
   "cell_type": "code",
   "execution_count": 18,
   "id": "d2700e21",
   "metadata": {
    "execution": {
     "iopub.execute_input": "2021-11-13T08:24:32.687468Z",
     "iopub.status.busy": "2021-11-13T08:24:32.686589Z",
     "iopub.status.idle": "2021-11-13T08:24:33.156665Z",
     "shell.execute_reply": "2021-11-13T08:24:33.156197Z",
     "shell.execute_reply.started": "2021-11-12T01:31:10.599363Z"
    },
    "id": "b9022754",
    "papermill": {
     "duration": 0.529557,
     "end_time": "2021-11-13T08:24:33.156795",
     "exception": false,
     "start_time": "2021-11-13T08:24:32.627238",
     "status": "completed"
    },
    "tags": []
   },
   "outputs": [],
   "source": [
    "import tensorflow as tf\n",
    "from numba import jit, cuda\n",
    "\n",
    "class Classifier:\n",
    "\n",
    "    def __init__(self, model, input_length, output_length):\n",
    "        '''Constructor.\n",
    "        # Parameters:\n",
    "        input_length: sentence length (max number of words in sentence)\n",
    "        output_length: number of classes of sentiment\n",
    "        '''\n",
    "        self.model = model\n",
    "        self.input_length = input_length\n",
    "        self.output_length = output_length\n",
    "\n",
    "    def compile(self, batch_size=32):\n",
    "        tf.compat.v1.disable_eager_execution()\n",
    "        self._ds_x = tf.compat.v1.placeholder(tf.float32, [None, self.input_length])\n",
    "        self._ds_y = tf.compat.v1.placeholder(tf.float32, [None, self.output_length])\n",
    "\n",
    "        ds = tf.compat.v1.data.Dataset.from_tensor_slices((self._ds_x, self._ds_y))\n",
    "        ds = ds.batch(batch_size)\n",
    "\n",
    "        self._ds_it = ds.make_initializable_iterator()\n",
    "        self._input, self._labels = self._ds_it.get_next()\n",
    "\n",
    "        self._features = self.model(self._input)\n",
    "        self._output = _create_dense_layer(self._features, self.output_length)\n",
    "\n",
    "        self._create_acc_computations()\n",
    "        self._create_backpropagation()\n",
    "\n",
    "        self._session = tf.compat.v1.Session()\n",
    "        self._session.run(tf.compat.v1.global_variables_initializer())\n",
    "        self._session.run(tf.compat.v1.local_variables_initializer())\n",
    "\n",
    "    def _create_acc_computations(self):\n",
    "        self._predictions = tf.argmax(self._output, 1)\n",
    "        labels = tf.argmax(self._labels, 1)\n",
    "        self._accuracy = tf.reduce_mean(\n",
    "            tf.cast(tf.equal(self._predictions, labels), 'float32'))\n",
    "\n",
    "    def _create_backpropagation(self):\n",
    "        losses = tf.compat.v1.nn.softmax_cross_entropy_with_logits_v2(\n",
    "            logits=self._output,\n",
    "            labels=self._labels)\n",
    "        self._loss = tf.reduce_mean(losses)\n",
    "\n",
    "        optimizer = tf.compat.v1.train.AdamOptimizer(0.001)\n",
    "        global_step = tf.Variable(0, name=\"global_step\", trainable=False)\n",
    "        grads_and_vars = optimizer.compute_gradients(self._loss)\n",
    "\n",
    "        self._train_op = optimizer.apply_gradients(\n",
    "            grads_and_vars, global_step=global_step)\n",
    "\n",
    "    def summary(self):\n",
    "        print('input:', self._input.shape)\n",
    "        self.model.summary()\n",
    "        print('output:', self._output.shape)\n",
    "\n",
    "#     @jit(target =\"cuda\")  \n",
    "    def train(self, X_train, y_train, X_eval, y_eval, epochs=20):\n",
    "        import time\n",
    "        start_train = time.time()\n",
    "        losslist = []\n",
    "        acclist = []\n",
    "        val_losslist = []\n",
    "        val_acclist =[]\n",
    "\n",
    "        for e in range(epochs):\n",
    "            start_time = time.time()\n",
    "            loss, acc = self._train(X_train, y_train)\n",
    "            losslist.append(loss)\n",
    "            acclist.append(acc)\n",
    "            duration = time.time() - start_time\n",
    "\n",
    "            val_loss, val_acc = self._eval(X_eval, y_eval)\n",
    "            val_losslist.append(val_loss)\n",
    "            val_acclist.append(val_acc)\n",
    "\n",
    "            output = 'Epoch: {}, loss = {:.4f}, acc = {:.4f}, val_loss = {:.4f}, val_acc = {:.4f}, Time = {:.2f}s'\n",
    "            print(output.format(e + 1, loss, acc, val_loss, val_acc, duration))\n",
    "        \n",
    "        total_duration = time.time() - start_train\n",
    "        return losslist, acclist, val_losslist, val_acclist, total_duration\n",
    "\n",
    "#     @jit(target =\"cuda\")  \n",
    "    def _train(self, X_train, y_train):\n",
    "        import numpy as np\n",
    "\n",
    "        self._session.run(\n",
    "            fetches=self._ds_it.initializer,\n",
    "            feed_dict={\n",
    "                self._ds_x: X_train,\n",
    "                self._ds_y: y_train\n",
    "            })\n",
    "        loss, acc, = [], []\n",
    "        while True:\n",
    "            try:\n",
    "                _, vloss, vacc = self._session.run(\n",
    "                    fetches=[self._train_op, self._loss, self._accuracy])\n",
    "\n",
    "                loss.append(vloss)\n",
    "                acc.append(vacc)\n",
    "            except tf.errors.OutOfRangeError:\n",
    "                break\n",
    "        # endwhile\n",
    "\n",
    "        loss, acc = np.mean(loss), np.mean(acc)\n",
    "        return loss, acc\n",
    "\n",
    "    def _eval(self, X_val, y_val):\n",
    "        self._session.run(\n",
    "            fetches=self._ds_it.initializer,\n",
    "            feed_dict={\n",
    "                self._ds_x: X_val,\n",
    "                self._ds_y: y_val\n",
    "            })\n",
    "\n",
    "        loss, acc, = 0, 0\n",
    "        while True:\n",
    "            try:\n",
    "                l, vloss, vacc = self._session.run(\n",
    "                    fetches=[self._labels, self._loss, self._accuracy])\n",
    "\n",
    "                loss += vloss * len(l)\n",
    "                acc += vacc * len(l)\n",
    "            except tf.errors.OutOfRangeError:\n",
    "                break\n",
    "\n",
    "        return loss / len(X_val), acc / len(X_val)\n",
    "\n",
    "    def predict(self, X):\n",
    "        import numpy as np\n",
    "\n",
    "        self._session.run(self._ds_it.initializer,\n",
    "                         feed_dict={\n",
    "                             self._ds_x: X,\n",
    "                             self._ds_y: np.empty((len(X), self.output_length))\n",
    "                         }\n",
    "                         )\n",
    "\n",
    "        pred = list()\n",
    "        while True:\n",
    "            try:\n",
    "                ppred = self._session.run(tf.nn.softmax(self._output))\n",
    "\n",
    "                pred.extend(map(lambda l: l.tolist(), ppred))\n",
    "            except tf.errors.OutOfRangeError:\n",
    "                break\n",
    "\n",
    "        return pred\n",
    "\n",
    "def _create_dense_layer(x, output_length):\n",
    "    '''Creates a dense layer\n",
    "    '''\n",
    "    input_size = x.shape[1] #.value\n",
    "    W = tf.Variable(\n",
    "        initial_value=tf.random.truncated_normal(\n",
    "            shape=[input_size, output_length],\n",
    "            stddev=0.1))\n",
    "    b = tf.Variable(\n",
    "        initial_value=tf.random.truncated_normal(\n",
    "            shape=[output_length]))\n",
    "\n",
    "    dense = tf.compat.v1.nn.xw_plus_b(x, W, b)\n",
    "\n",
    "    return dense\n",
    "\n",
    "\n",
    "if __name__ == '__main__':\n",
    "    pass"
   ]
  },
  {
   "cell_type": "code",
   "execution_count": 19,
   "id": "664ab775",
   "metadata": {
    "execution": {
     "iopub.execute_input": "2021-11-13T08:24:33.215921Z",
     "iopub.status.busy": "2021-11-13T08:24:33.214851Z",
     "iopub.status.idle": "2021-11-13T08:39:24.524877Z",
     "shell.execute_reply": "2021-11-13T08:39:24.525477Z",
     "shell.execute_reply.started": "2021-11-12T01:31:11.162698Z"
    },
    "id": "5d641e4d",
    "outputId": "8c53a9a4-45c0-442b-9413-83cfe8625813",
    "papermill": {
     "duration": 891.343398,
     "end_time": "2021-11-13T08:39:24.525727",
     "exception": false,
     "start_time": "2021-11-13T08:24:33.182329",
     "status": "completed"
    },
    "tags": []
   },
   "outputs": [
    {
     "name": "stderr",
     "output_type": "stream",
     "text": [
      "/opt/conda/lib/python3.7/site-packages/keras/engine/base_layer_v1.py:1684: UserWarning: `layer.add_variable` is deprecated and will be removed in a future version. Please use `layer.add_weight` method instead.\n",
      "  warnings.warn('`layer.add_variable` is deprecated and '\n",
      "2021-11-13 08:24:37.880048: I tensorflow/stream_executor/cuda/cuda_gpu_executor.cc:937] successful NUMA node read from SysFS had negative value (-1), but there must be at least one NUMA node, so returning NUMA node zero\n",
      "2021-11-13 08:24:37.881174: I tensorflow/stream_executor/cuda/cuda_gpu_executor.cc:937] successful NUMA node read from SysFS had negative value (-1), but there must be at least one NUMA node, so returning NUMA node zero\n",
      "2021-11-13 08:24:37.881877: I tensorflow/stream_executor/cuda/cuda_gpu_executor.cc:937] successful NUMA node read from SysFS had negative value (-1), but there must be at least one NUMA node, so returning NUMA node zero\n",
      "2021-11-13 08:24:37.882658: I tensorflow/stream_executor/cuda/cuda_gpu_executor.cc:937] successful NUMA node read from SysFS had negative value (-1), but there must be at least one NUMA node, so returning NUMA node zero\n",
      "2021-11-13 08:24:37.883364: I tensorflow/stream_executor/cuda/cuda_gpu_executor.cc:937] successful NUMA node read from SysFS had negative value (-1), but there must be at least one NUMA node, so returning NUMA node zero\n",
      "2021-11-13 08:24:37.883964: I tensorflow/core/common_runtime/gpu/gpu_device.cc:1510] Created device /job:localhost/replica:0/task:0/device:GPU:0 with 15403 MB memory:  -> device: 0, name: Tesla P100-PCIE-16GB, pci bus id: 0000:00:04.0, compute capability: 6.0\n"
     ]
    },
    {
     "name": "stdout",
     "output_type": "stream",
     "text": [
      "input: (None, 110)\n",
      "embedding: (None, 110, 300)\n",
      "rnn: (None, 110, 300)\n",
      "flatten: (None, 33000)\n",
      "output: (None, 14)\n",
      "Epoch: 1, loss = 7.3194, acc = 0.1821, val_loss = 5.0185, val_acc = 0.2088, Time = 27.64s\n",
      "Epoch: 2, loss = 3.9586, acc = 0.2541, val_loss = 4.2738, val_acc = 0.1957, Time = 25.73s\n",
      "Epoch: 3, loss = 3.0618, acc = 0.3086, val_loss = 3.9715, val_acc = 0.2149, Time = 27.64s\n",
      "Epoch: 4, loss = 2.5424, acc = 0.3763, val_loss = 3.9146, val_acc = 0.2262, Time = 27.14s\n",
      "Epoch: 5, loss = 2.1139, acc = 0.4585, val_loss = 4.0919, val_acc = 0.2168, Time = 27.51s\n",
      "Epoch: 6, loss = 1.7926, acc = 0.5303, val_loss = 4.4560, val_acc = 0.2054, Time = 27.60s\n",
      "Epoch: 7, loss = 1.5486, acc = 0.5938, val_loss = 4.6588, val_acc = 0.2176, Time = 27.44s\n",
      "Epoch: 8, loss = 1.3740, acc = 0.6438, val_loss = 5.1045, val_acc = 0.2141, Time = 25.79s\n",
      "Epoch: 9, loss = 1.2460, acc = 0.6819, val_loss = 5.3359, val_acc = 0.2224, Time = 27.58s\n",
      "Epoch: 10, loss = 1.1213, acc = 0.7184, val_loss = 5.7302, val_acc = 0.2168, Time = 27.81s\n",
      "Epoch: 11, loss = 1.0548, acc = 0.7446, val_loss = 6.1210, val_acc = 0.2343, Time = 27.25s\n",
      "Epoch: 12, loss = 0.9900, acc = 0.7667, val_loss = 6.5978, val_acc = 0.2434, Time = 27.57s\n",
      "Epoch: 13, loss = 0.9471, acc = 0.7849, val_loss = 7.0941, val_acc = 0.2333, Time = 25.27s\n",
      "Epoch: 14, loss = 0.8995, acc = 0.8023, val_loss = 7.5917, val_acc = 0.2271, Time = 25.47s\n",
      "Epoch: 15, loss = 0.8416, acc = 0.8186, val_loss = 8.2448, val_acc = 0.2223, Time = 27.14s\n",
      "Epoch: 16, loss = 0.8183, acc = 0.8285, val_loss = 8.5810, val_acc = 0.2149, Time = 26.57s\n",
      "Epoch: 17, loss = 0.7947, acc = 0.8399, val_loss = 9.1218, val_acc = 0.2256, Time = 27.53s\n",
      "Epoch: 18, loss = 0.7654, acc = 0.8516, val_loss = 9.5340, val_acc = 0.2306, Time = 26.54s\n",
      "Epoch: 19, loss = 0.7217, acc = 0.8612, val_loss = 10.1471, val_acc = 0.2095, Time = 28.10s\n",
      "Epoch: 20, loss = 10.1774, acc = 0.6474, val_loss = 10.1730, val_acc = 0.2102, Time = 27.71s\n",
      "total time taken:  884.8139357566833\n",
      "Predictions: [[0.00019395662820897996, 0.0007524213287979364, 0.03254135698080063, 0.00010258803376927972, 0.00985998660326004, 0.0074991765432059765, 0.003732787212356925, 0.0006561374757438898, 0.055075641721487045, 3.87833351851441e-05, 0.42283132672309875, 7.443381466742949e-10, 0.0006796487723477185, 0.4660361111164093], [8.79622621141607e-06, 2.921053601312451e-05, 0.07420311868190765, 0.007959315553307533, 0.08308590203523636, 0.07772544771432877, 0.00011108804028481245, 0.0006905623013153672, 0.0013368420768529177, 0.0766577422618866, 0.4231649935245514, 1.0802961858402682e-09, 0.025134826079010963, 0.22989213466644287]]\n",
      "Real: [[0. 0. 0. 0. 0. 0. 0. 0. 0. 0. 0. 0. 0. 1.]\n",
      " [0. 0. 0. 0. 0. 0. 0. 0. 0. 0. 1. 0. 0. 0.]]\n"
     ]
    }
   ],
   "source": [
    "import pickle\n",
    "import numpy as np\n",
    "import sys\n",
    "# from fen.classifier import Classifier\n",
    "# from fen.pzhou_tf import ZhouBLSTMCNNModel\n",
    "\n",
    "if __name__ == '__main__':\n",
    "\n",
    "#     (X_train, y_train), (X_eval, y_eval) = (X_train, y_train), (X_test, y_test)\n",
    "\n",
    "    word_vector = word_embeds\n",
    "    word_vector = word_vector.astype('float32')\n",
    "    \n",
    "    sentence_length = X_train[0].shape[0] # sentence length = 37 -- if less than 37, remaining is 0\n",
    "    num_classes = y_train[0].shape[0] # 6 sentiment classes\n",
    "\n",
    "    # tf.debugging.set_log_device_placement(True)\n",
    "    # with tf.device('/device:GPU:0'):\n",
    "    model = RNNModel(embedding=word_vector) #pass in word_vector as lookup table\n",
    "\n",
    "    classifier = Classifier(\n",
    "        model=model,\n",
    "        input_length=sentence_length,\n",
    "        output_length=num_classes)\n",
    "\n",
    "    classifier.compile(batch_size=32)\n",
    "    classifier.summary()\n",
    "    loss, acc, val_loss, val_acc, duration = classifier.train(\n",
    "        X_train=X_train,\n",
    "        y_train=y_train,\n",
    "        X_eval=X_test,\n",
    "        y_eval=y_test,\n",
    "        epochs=20\n",
    "    )\n",
    "\n",
    "    print(\"total time taken: \", duration)\n",
    "    print(\"Predictions:\", classifier.predict(X_train[0:2]))\n",
    "    print(\"Real:\", y_train[0:2])"
   ]
  },
  {
   "cell_type": "code",
   "execution_count": 20,
   "id": "52ffce07",
   "metadata": {
    "execution": {
     "iopub.execute_input": "2021-11-13T08:39:24.597049Z",
     "iopub.status.busy": "2021-11-13T08:39:24.596208Z",
     "iopub.status.idle": "2021-11-13T08:39:24.598195Z",
     "shell.execute_reply": "2021-11-13T08:39:24.598567Z",
     "shell.execute_reply.started": "2021-11-12T01:31:37.732733Z"
    },
    "papermill": {
     "duration": 0.037498,
     "end_time": "2021-11-13T08:39:24.598712",
     "exception": false,
     "start_time": "2021-11-13T08:39:24.561214",
     "status": "completed"
    },
    "tags": []
   },
   "outputs": [],
   "source": [
    "### Plot graphs"
   ]
  },
  {
   "cell_type": "code",
   "execution_count": 21,
   "id": "3d4d0ecd",
   "metadata": {
    "execution": {
     "iopub.execute_input": "2021-11-13T08:39:24.680756Z",
     "iopub.status.busy": "2021-11-13T08:39:24.680111Z",
     "iopub.status.idle": "2021-11-13T08:39:24.870730Z",
     "shell.execute_reply": "2021-11-13T08:39:24.871145Z",
     "shell.execute_reply.started": "2021-11-12T01:31:37.734810Z"
    },
    "papermill": {
     "duration": 0.241497,
     "end_time": "2021-11-13T08:39:24.871299",
     "exception": false,
     "start_time": "2021-11-13T08:39:24.629802",
     "status": "completed"
    },
    "tags": []
   },
   "outputs": [
    {
     "data": {
      "image/png": "[encoded data removed]",
      "text/plain": [
       "<Figure size 432x288 with 1 Axes>"
      ]
     },
     "metadata": {
      "needs_background": "light"
     },
     "output_type": "display_data"
    }
   ],
   "source": [
    "epochslist = [i for i in range(0,20)]\n",
    "plt.plot(epochslist, loss)\n",
    "plt.title('training loss')\n",
    "plt.xlabel('epochs')\n",
    "plt.ylabel('training loss')\n",
    "plt.show()"
   ]
  },
  {
   "cell_type": "code",
   "execution_count": 22,
   "id": "12945ef2",
   "metadata": {
    "execution": {
     "iopub.execute_input": "2021-11-13T08:39:24.956300Z",
     "iopub.status.busy": "2021-11-13T08:39:24.944814Z",
     "iopub.status.idle": "2021-11-13T08:39:25.134595Z",
     "shell.execute_reply": "2021-11-13T08:39:25.134161Z",
     "shell.execute_reply.started": "2021-11-12T01:31:37.736739Z"
    },
    "papermill": {
     "duration": 0.230936,
     "end_time": "2021-11-13T08:39:25.134726",
     "exception": false,
     "start_time": "2021-11-13T08:39:24.903790",
     "status": "completed"
    },
    "tags": []
   },
   "outputs": [
    {
     "data": {
      "image/png": "[encoded data removed]",
      "text/plain": [
       "<Figure size 432x288 with 1 Axes>"
      ]
     },
     "metadata": {
      "needs_background": "light"
     },
     "output_type": "display_data"
    }
   ],
   "source": [
    "plt.plot(epochslist, acc)\n",
    "plt.title('training acc')\n",
    "plt.xlabel('epochs')\n",
    "plt.ylabel('training acc')\n",
    "plt.show()"
   ]
  },
  {
   "cell_type": "code",
   "execution_count": 23,
   "id": "b15a8713",
   "metadata": {
    "execution": {
     "iopub.execute_input": "2021-11-13T08:39:25.219081Z",
     "iopub.status.busy": "2021-11-13T08:39:25.218136Z",
     "iopub.status.idle": "2021-11-13T08:39:25.400282Z",
     "shell.execute_reply": "2021-11-13T08:39:25.399769Z",
     "shell.execute_reply.started": "2021-11-12T01:31:37.738603Z"
    },
    "papermill": {
     "duration": 0.232859,
     "end_time": "2021-11-13T08:39:25.400407",
     "exception": false,
     "start_time": "2021-11-13T08:39:25.167548",
     "status": "completed"
    },
    "tags": []
   },
   "outputs": [
    {
     "data": {
      "image/png": "[encoded data removed]",
      "text/plain": [
       "<Figure size 432x288 with 1 Axes>"
      ]
     },
     "metadata": {
      "needs_background": "light"
     },
     "output_type": "display_data"
    }
   ],
   "source": [
    "plt.plot(epochslist, val_loss)\n",
    "plt.title('validation loss')\n",
    "plt.xlabel('epochs')\n",
    "plt.ylabel('validation loss')\n",
    "plt.show()"
   ]
  },
  {
   "cell_type": "code",
   "execution_count": 24,
   "id": "87a823ea",
   "metadata": {
    "execution": {
     "iopub.execute_input": "2021-11-13T08:39:25.493233Z",
     "iopub.status.busy": "2021-11-13T08:39:25.491992Z",
     "iopub.status.idle": "2021-11-13T08:39:25.666667Z",
     "shell.execute_reply": "2021-11-13T08:39:25.667151Z",
     "shell.execute_reply.started": "2021-11-12T01:31:37.740404Z"
    },
    "papermill": {
     "duration": 0.232666,
     "end_time": "2021-11-13T08:39:25.667310",
     "exception": false,
     "start_time": "2021-11-13T08:39:25.434644",
     "status": "completed"
    },
    "tags": []
   },
   "outputs": [
    {
     "data": {
      "image/png": "[encoded data removed]",
      "text/plain": [
       "<Figure size 432x288 with 1 Axes>"
      ]
     },
     "metadata": {
      "needs_background": "light"
     },
     "output_type": "display_data"
    }
   ],
   "source": [
    "plt.plot(epochslist, val_acc)\n",
    "plt.title('validation acc')\n",
    "plt.xlabel('epochs')\n",
    "plt.ylabel('validation acc')\n",
    "plt.show()"
   ]
  },
  {
   "cell_type": "markdown",
   "id": "074be588",
   "metadata": {
    "id": "4cf86072",
    "papermill": {
     "duration": 0.03418,
     "end_time": "2021-11-13T08:39:25.736158",
     "exception": false,
     "start_time": "2021-11-13T08:39:25.701978",
     "status": "completed"
    },
    "tags": []
   },
   "source": [
    "### testing"
   ]
  },
  {
   "cell_type": "code",
   "execution_count": 25,
   "id": "0ef3a1ae",
   "metadata": {
    "execution": {
     "iopub.execute_input": "2021-11-13T08:39:25.810144Z",
     "iopub.status.busy": "2021-11-13T08:39:25.809514Z",
     "iopub.status.idle": "2021-11-13T08:39:25.813040Z",
     "shell.execute_reply": "2021-11-13T08:39:25.812322Z",
     "shell.execute_reply.started": "2021-11-12T01:31:37.742197Z"
    },
    "id": "28711b61",
    "papermill": {
     "duration": 0.042366,
     "end_time": "2021-11-13T08:39:25.813199",
     "exception": false,
     "start_time": "2021-11-13T08:39:25.770833",
     "status": "completed"
    },
    "tags": []
   },
   "outputs": [
    {
     "name": "stdout",
     "output_type": "stream",
     "text": [
      "Num GPUs Available:  1\n"
     ]
    }
   ],
   "source": [
    "import tensorflow as tf\n",
    "print(\"Num GPUs Available: \", len(tf.config.list_physical_devices('GPU')))"
   ]
  },
  {
   "cell_type": "code",
   "execution_count": 26,
   "id": "c05c5b21",
   "metadata": {
    "execution": {
     "iopub.execute_input": "2021-11-13T08:39:25.892571Z",
     "iopub.status.busy": "2021-11-13T08:39:25.891569Z",
     "iopub.status.idle": "2021-11-13T08:39:25.896334Z",
     "shell.execute_reply": "2021-11-13T08:39:25.896827Z",
     "shell.execute_reply.started": "2021-11-12T01:31:37.744001Z"
    },
    "id": "KOEsMV5N1tpq",
    "papermill": {
     "duration": 0.048569,
     "end_time": "2021-11-13T08:39:25.897003",
     "exception": false,
     "start_time": "2021-11-13T08:39:25.848434",
     "status": "completed"
    },
    "tags": []
   },
   "outputs": [
    {
     "name": "stdout",
     "output_type": "stream",
     "text": [
      "Found GPU at: /device:GPU:0\n"
     ]
    },
    {
     "name": "stderr",
     "output_type": "stream",
     "text": [
      "2021-11-13 08:39:25.886657: I tensorflow/stream_executor/cuda/cuda_gpu_executor.cc:937] successful NUMA node read from SysFS had negative value (-1), but there must be at least one NUMA node, so returning NUMA node zero\n",
      "2021-11-13 08:39:25.887240: I tensorflow/stream_executor/cuda/cuda_gpu_executor.cc:937] successful NUMA node read from SysFS had negative value (-1), but there must be at least one NUMA node, so returning NUMA node zero\n",
      "2021-11-13 08:39:25.887579: I tensorflow/stream_executor/cuda/cuda_gpu_executor.cc:937] successful NUMA node read from SysFS had negative value (-1), but there must be at least one NUMA node, so returning NUMA node zero\n",
      "2021-11-13 08:39:25.888054: I tensorflow/stream_executor/cuda/cuda_gpu_executor.cc:937] successful NUMA node read from SysFS had negative value (-1), but there must be at least one NUMA node, so returning NUMA node zero\n",
      "2021-11-13 08:39:25.888430: I tensorflow/stream_executor/cuda/cuda_gpu_executor.cc:937] successful NUMA node read from SysFS had negative value (-1), but there must be at least one NUMA node, so returning NUMA node zero\n",
      "2021-11-13 08:39:25.888730: I tensorflow/core/common_runtime/gpu/gpu_device.cc:1510] Created device /device:GPU:0 with 15403 MB memory:  -> device: 0, name: Tesla P100-PCIE-16GB, pci bus id: 0000:00:04.0, compute capability: 6.0\n"
     ]
    }
   ],
   "source": [
    "device_name = tf.test.gpu_device_name()\n",
    "if device_name != '/device:GPU:0':\n",
    "  raise SystemError('GPU device not found')\n",
    "print('Found GPU at: {}'.format(device_name))"
   ]
  }
 ],
 "metadata": {
  "kernelspec": {
   "display_name": "Python 3",
   "language": "python",
   "name": "python3"
  },
  "language_info": {
   "codemirror_mode": {
    "name": "ipython",
    "version": 3
   },
   "file_extension": ".py",
   "mimetype": "text/x-python",
   "name": "python",
   "nbconvert_exporter": "python",
   "pygments_lexer": "ipython3",
   "version": "3.7.10"
  },
  "papermill": {
   "default_parameters": {},
   "duration": 996.662484,
   "end_time": "2021-11-13T08:39:29.562065",
   "environment_variables": {},
   "exception": null,
   "input_path": "__notebook__.ipynb",
   "output_path": "__notebook__.ipynb",
   "parameters": {},
   "start_time": "2021-11-13T08:22:52.899581",
   "version": "2.3.3"
  }
 },
 "nbformat": 4,
 "nbformat_minor": 5
}
