{
 "cells": [
  {
   "cell_type": "code",
   "execution_count": 1,
   "id": "74f80faa",
   "metadata": {
    "execution": {
     "iopub.execute_input": "2021-11-13T13:22:39.222727Z",
     "iopub.status.busy": "2021-11-13T13:22:39.220619Z",
     "iopub.status.idle": "2021-11-13T13:22:46.601916Z",
     "shell.execute_reply": "2021-11-13T13:22:46.602608Z",
     "shell.execute_reply.started": "2021-11-12T01:27:25.273299Z"
    },
    "id": "e75ddd0a",
    "papermill": {
     "duration": 7.461827,
     "end_time": "2021-11-13T13:22:46.602917",
     "exception": false,
     "start_time": "2021-11-13T13:22:39.141090",
     "status": "completed"
    },
    "tags": []
   },
   "outputs": [],
   "source": [
    "import numpy as np\n",
    "import pandas as pd\n",
    "\n",
    "from gensim import corpora\n",
    "from nltk.corpus import stopwords\n",
    "from nltk.tokenize import word_tokenize \n",
    "from nltk.stem import SnowballStemmer\n",
    "\n",
    "from keras.preprocessing import sequence\n",
    "from keras.utils import np_utils\n",
    "from keras.models import Sequential\n",
    "from keras.layers import Dense, Dropout, Activation, Embedding\n",
    "from keras.layers import LSTM\n",
    "from sklearn import preprocessing\n",
    "from sklearn.metrics import (precision_score, recall_score,\n",
    "                             f1_score, accuracy_score,mean_squared_error,mean_absolute_error)\n",
    "np.random.seed(0)\n",
    "from tensorflow.keras.optimizers import RMSprop\n",
    "from keras import callbacks\n",
    "from keras.callbacks import ModelCheckpoint, EarlyStopping, ReduceLROnPlateau, CSVLogger\n"
   ]
  },
  {
   "cell_type": "markdown",
   "id": "3534702c",
   "metadata": {
    "id": "07ae1ceb",
    "papermill": {
     "duration": 0.030411,
     "end_time": "2021-11-13T13:22:46.666252",
     "exception": false,
     "start_time": "2021-11-13T13:22:46.635841",
     "status": "completed"
    },
    "tags": []
   },
   "source": [
    "### word2vec"
   ]
  },
  {
   "cell_type": "code",
   "execution_count": 2,
   "id": "ea540d73",
   "metadata": {
    "execution": {
     "iopub.execute_input": "2021-11-13T13:22:46.736453Z",
     "iopub.status.busy": "2021-11-13T13:22:46.735225Z",
     "iopub.status.idle": "2021-11-13T13:22:46.737796Z",
     "shell.execute_reply": "2021-11-13T13:22:46.738447Z",
     "shell.execute_reply.started": "2021-11-12T01:27:34.02243Z"
    },
    "id": "d10b7218",
    "papermill": {
     "duration": 0.041497,
     "end_time": "2021-11-13T13:22:46.738619",
     "exception": false,
     "start_time": "2021-11-13T13:22:46.697122",
     "status": "completed"
    },
    "tags": []
   },
   "outputs": [],
   "source": [
    "from __future__ import print_function\n",
    "from collections import OrderedDict\n",
    "\n",
    "import time\n",
    "import _pickle as cPickle\n",
    "\n",
    "import urllib\n",
    "import matplotlib.pyplot as plt\n",
    "\n",
    "import os\n",
    "import sys\n",
    "import codecs\n",
    "import re\n",
    "import numpy as np\n",
    "\n",
    "parameters = OrderedDict()\n",
    "parameters['word_dim'] = 300"
   ]
  },
  {
   "cell_type": "code",
   "execution_count": 3,
   "id": "7e2e8447",
   "metadata": {
    "execution": {
     "iopub.execute_input": "2021-11-13T13:22:46.808296Z",
     "iopub.status.busy": "2021-11-13T13:22:46.807125Z",
     "iopub.status.idle": "2021-11-13T13:22:46.809460Z",
     "shell.execute_reply": "2021-11-13T13:22:46.810032Z"
    },
    "papermill": {
     "duration": 0.040544,
     "end_time": "2021-11-13T13:22:46.810230",
     "exception": false,
     "start_time": "2021-11-13T13:22:46.769686",
     "status": "completed"
    },
    "tags": []
   },
   "outputs": [],
   "source": [
    "def importtxtfile(path):\n",
    "    df = open(path, 'r')\n",
    "    df = [line.strip().split('\\t') for line in df.readlines()]\n",
    "    df = pd.DataFrame(df, columns = ['id' , 'tweet', 'tweettype', 'score'])\n",
    "    df = df.drop([0], axis=0)\n",
    "    return df"
   ]
  },
  {
   "cell_type": "code",
   "execution_count": 4,
   "id": "fce96760",
   "metadata": {
    "execution": {
     "iopub.execute_input": "2021-11-13T13:22:46.877166Z",
     "iopub.status.busy": "2021-11-13T13:22:46.876036Z",
     "iopub.status.idle": "2021-11-13T13:22:46.968966Z",
     "shell.execute_reply": "2021-11-13T13:22:46.969694Z",
     "shell.execute_reply.started": "2021-11-12T01:27:40.795779Z"
    },
    "id": "1d4efccc",
    "outputId": "a95adc00-e531-4825-eb60-e5521de1d945",
    "papermill": {
     "duration": 0.128516,
     "end_time": "2021-11-13T13:22:46.969930",
     "exception": false,
     "start_time": "2021-11-13T13:22:46.841414",
     "status": "completed"
    },
    "tags": []
   },
   "outputs": [
    {
     "data": {
      "text/html": [
       "<div>\n",
       "<style scoped>\n",
       "    .dataframe tbody tr th:only-of-type {\n",
       "        vertical-align: middle;\n",
       "    }\n",
       "\n",
       "    .dataframe tbody tr th {\n",
       "        vertical-align: top;\n",
       "    }\n",
       "\n",
       "    .dataframe thead th {\n",
       "        text-align: right;\n",
       "    }\n",
       "</style>\n",
       "<table border=\"1\" class=\"dataframe\">\n",
       "  <thead>\n",
       "    <tr style=\"text-align: right;\">\n",
       "      <th></th>\n",
       "      <th>id</th>\n",
       "      <th>tweet</th>\n",
       "      <th>tweettype</th>\n",
       "      <th>score</th>\n",
       "    </tr>\n",
       "  </thead>\n",
       "  <tbody>\n",
       "    <tr>\n",
       "      <th>1</th>\n",
       "      <td>10000</td>\n",
       "      <td>How the fu*k! Who the heck! moved my fridge!.....</td>\n",
       "      <td>anger</td>\n",
       "      <td>0.938</td>\n",
       "    </tr>\n",
       "    <tr>\n",
       "      <th>2</th>\n",
       "      <td>10001</td>\n",
       "      <td>So my Indian Uber driver just called someone t...</td>\n",
       "      <td>anger</td>\n",
       "      <td>0.896</td>\n",
       "    </tr>\n",
       "    <tr>\n",
       "      <th>3</th>\n",
       "      <td>10002</td>\n",
       "      <td>@DPD_UK I asked for my parcel to be delivered ...</td>\n",
       "      <td>anger</td>\n",
       "      <td>0.896</td>\n",
       "    </tr>\n",
       "    <tr>\n",
       "      <th>4</th>\n",
       "      <td>10003</td>\n",
       "      <td>so ef whichever butt wipe pulled the fire alar...</td>\n",
       "      <td>anger</td>\n",
       "      <td>0.896</td>\n",
       "    </tr>\n",
       "    <tr>\n",
       "      <th>5</th>\n",
       "      <td>10004</td>\n",
       "      <td>Don't join @BTCare they put the phone down on ...</td>\n",
       "      <td>anger</td>\n",
       "      <td>0.896</td>\n",
       "    </tr>\n",
       "    <tr>\n",
       "      <th>...</th>\n",
       "      <td>...</td>\n",
       "      <td>...</td>\n",
       "      <td>...</td>\n",
       "      <td>...</td>\n",
       "    </tr>\n",
       "    <tr>\n",
       "      <th>782</th>\n",
       "      <td>40781</td>\n",
       "      <td>@VivienLloyd Thank you so much! Just home - st...</td>\n",
       "      <td>sadness</td>\n",
       "      <td>0.104</td>\n",
       "    </tr>\n",
       "    <tr>\n",
       "      <th>783</th>\n",
       "      <td>40782</td>\n",
       "      <td>Just put the winter duvet on ☃️❄️🌬☔️</td>\n",
       "      <td>sadness</td>\n",
       "      <td>0.104</td>\n",
       "    </tr>\n",
       "    <tr>\n",
       "      <th>784</th>\n",
       "      <td>40783</td>\n",
       "      <td>@SilkInSide @TommyJoeRatliff that's so pretty!...</td>\n",
       "      <td>sadness</td>\n",
       "      <td>0.088</td>\n",
       "    </tr>\n",
       "    <tr>\n",
       "      <th>785</th>\n",
       "      <td>40784</td>\n",
       "      <td>@BluesfestByron second artist announcement loo...</td>\n",
       "      <td>sadness</td>\n",
       "      <td>0.083</td>\n",
       "    </tr>\n",
       "    <tr>\n",
       "      <th>786</th>\n",
       "      <td>40785</td>\n",
       "      <td>I can literally eat creamy pesto pasta topped ...</td>\n",
       "      <td>sadness</td>\n",
       "      <td>0.083</td>\n",
       "    </tr>\n",
       "  </tbody>\n",
       "</table>\n",
       "<p>3613 rows × 4 columns</p>\n",
       "</div>"
      ],
      "text/plain": [
       "        id                                              tweet tweettype  score\n",
       "1    10000  How the fu*k! Who the heck! moved my fridge!.....     anger  0.938\n",
       "2    10001  So my Indian Uber driver just called someone t...     anger  0.896\n",
       "3    10002  @DPD_UK I asked for my parcel to be delivered ...     anger  0.896\n",
       "4    10003  so ef whichever butt wipe pulled the fire alar...     anger  0.896\n",
       "5    10004  Don't join @BTCare they put the phone down on ...     anger  0.896\n",
       "..     ...                                                ...       ...    ...\n",
       "782  40781  @VivienLloyd Thank you so much! Just home - st...   sadness  0.104\n",
       "783  40782              Just put the winter duvet on ☃️❄️🌬☔️    sadness  0.104\n",
       "784  40783  @SilkInSide @TommyJoeRatliff that's so pretty!...   sadness  0.088\n",
       "785  40784  @BluesfestByron second artist announcement loo...   sadness  0.083\n",
       "786  40785  I can literally eat creamy pesto pasta topped ...   sadness  0.083\n",
       "\n",
       "[3613 rows x 4 columns]"
      ]
     },
     "execution_count": 4,
     "metadata": {},
     "output_type": "execute_result"
    }
   ],
   "source": [
    "angerdatatrain = importtxtfile('../input/wassadata/anger-ratings-0to1.train.txt')\n",
    "feardatatrain = importtxtfile('../input/wassadata/fear-ratings-0to1.train.txt')\n",
    "joydatatrain = importtxtfile('../input/wassadata/joy-ratings-0to1.train.txt')\n",
    "sadnessdatatrain = importtxtfile('../input/wassadata/sadness-ratings-0to1.train.txt')\n",
    "traindata = pd.concat([angerdatatrain, feardatatrain, joydatatrain, sadnessdatatrain])\n",
    "traindata"
   ]
  },
  {
   "cell_type": "code",
   "execution_count": 5,
   "id": "7ebbe2e6",
   "metadata": {
    "execution": {
     "iopub.execute_input": "2021-11-13T13:22:47.039478Z",
     "iopub.status.busy": "2021-11-13T13:22:47.038662Z",
     "iopub.status.idle": "2021-11-13T13:22:47.077866Z",
     "shell.execute_reply": "2021-11-13T13:22:47.078481Z"
    },
    "papermill": {
     "duration": 0.076721,
     "end_time": "2021-11-13T13:22:47.078652",
     "exception": false,
     "start_time": "2021-11-13T13:22:47.001931",
     "status": "completed"
    },
    "tags": []
   },
   "outputs": [
    {
     "data": {
      "text/html": [
       "<div>\n",
       "<style scoped>\n",
       "    .dataframe tbody tr th:only-of-type {\n",
       "        vertical-align: middle;\n",
       "    }\n",
       "\n",
       "    .dataframe tbody tr th {\n",
       "        vertical-align: top;\n",
       "    }\n",
       "\n",
       "    .dataframe thead th {\n",
       "        text-align: right;\n",
       "    }\n",
       "</style>\n",
       "<table border=\"1\" class=\"dataframe\">\n",
       "  <thead>\n",
       "    <tr style=\"text-align: right;\">\n",
       "      <th></th>\n",
       "      <th>id</th>\n",
       "      <th>tweet</th>\n",
       "      <th>tweettype</th>\n",
       "      <th>score</th>\n",
       "    </tr>\n",
       "  </thead>\n",
       "  <tbody>\n",
       "    <tr>\n",
       "      <th>1</th>\n",
       "      <td>10857</td>\n",
       "      <td>@ZubairSabirPTI  pls dont insult the word 'Molna'</td>\n",
       "      <td>anger</td>\n",
       "      <td>0.479</td>\n",
       "    </tr>\n",
       "    <tr>\n",
       "      <th>2</th>\n",
       "      <td>10858</td>\n",
       "      <td>@ArcticFantasy I would have almost took offens...</td>\n",
       "      <td>anger</td>\n",
       "      <td>0.458</td>\n",
       "    </tr>\n",
       "    <tr>\n",
       "      <th>3</th>\n",
       "      <td>10859</td>\n",
       "      <td>@IllinoisLoyalty that Rutgers game was an abom...</td>\n",
       "      <td>anger</td>\n",
       "      <td>0.562</td>\n",
       "    </tr>\n",
       "    <tr>\n",
       "      <th>4</th>\n",
       "      <td>10860</td>\n",
       "      <td>@CozanGaming that's what lisa asked before she...</td>\n",
       "      <td>anger</td>\n",
       "      <td>0.500</td>\n",
       "    </tr>\n",
       "    <tr>\n",
       "      <th>5</th>\n",
       "      <td>10861</td>\n",
       "      <td>Sometimes I get mad over something so minuscul...</td>\n",
       "      <td>anger</td>\n",
       "      <td>0.708</td>\n",
       "    </tr>\n",
       "    <tr>\n",
       "      <th>...</th>\n",
       "      <td>...</td>\n",
       "      <td>...</td>\n",
       "      <td>...</td>\n",
       "      <td>...</td>\n",
       "    </tr>\n",
       "    <tr>\n",
       "      <th>70</th>\n",
       "      <td>40855</td>\n",
       "      <td>Common app just randomly logged me out as I wa...</td>\n",
       "      <td>sadness</td>\n",
       "      <td>0.833</td>\n",
       "    </tr>\n",
       "    <tr>\n",
       "      <th>71</th>\n",
       "      <td>40856</td>\n",
       "      <td>I'd rather laugh with the rarest genius, in be...</td>\n",
       "      <td>sadness</td>\n",
       "      <td>0.688</td>\n",
       "    </tr>\n",
       "    <tr>\n",
       "      <th>72</th>\n",
       "      <td>40857</td>\n",
       "      <td>If you #invest in my new #film I will stop ask...</td>\n",
       "      <td>sadness</td>\n",
       "      <td>0.458</td>\n",
       "    </tr>\n",
       "    <tr>\n",
       "      <th>73</th>\n",
       "      <td>40858</td>\n",
       "      <td>Just watched Django Unchained, Other people ma...</td>\n",
       "      <td>sadness</td>\n",
       "      <td>0.333</td>\n",
       "    </tr>\n",
       "    <tr>\n",
       "      <th>74</th>\n",
       "      <td>40859</td>\n",
       "      <td>@KeithOlbermann depressing how despicable Trum...</td>\n",
       "      <td>sadness</td>\n",
       "      <td>0.708</td>\n",
       "    </tr>\n",
       "  </tbody>\n",
       "</table>\n",
       "<p>347 rows × 4 columns</p>\n",
       "</div>"
      ],
      "text/plain": [
       "       id                                              tweet tweettype  score\n",
       "1   10857  @ZubairSabirPTI  pls dont insult the word 'Molna'     anger  0.479\n",
       "2   10858  @ArcticFantasy I would have almost took offens...     anger  0.458\n",
       "3   10859  @IllinoisLoyalty that Rutgers game was an abom...     anger  0.562\n",
       "4   10860  @CozanGaming that's what lisa asked before she...     anger  0.500\n",
       "5   10861  Sometimes I get mad over something so minuscul...     anger  0.708\n",
       "..    ...                                                ...       ...    ...\n",
       "70  40855  Common app just randomly logged me out as I wa...   sadness  0.833\n",
       "71  40856  I'd rather laugh with the rarest genius, in be...   sadness  0.688\n",
       "72  40857  If you #invest in my new #film I will stop ask...   sadness  0.458\n",
       "73  40858  Just watched Django Unchained, Other people ma...   sadness  0.333\n",
       "74  40859  @KeithOlbermann depressing how despicable Trum...   sadness  0.708\n",
       "\n",
       "[347 rows x 4 columns]"
      ]
     },
     "execution_count": 5,
     "metadata": {},
     "output_type": "execute_result"
    }
   ],
   "source": [
    "angerdatatest = importtxtfile('../input/wassadata/anger-ratings-0to1.dev.gold.txt')\n",
    "feardatatest = importtxtfile('../input/wassadata/fear-ratings-0to1.dev.gold.txt')\n",
    "joydatatest = importtxtfile('../input/wassadata/joy-ratings-0to1.dev.gold.txt')\n",
    "sadnessdatatest = importtxtfile('../input/wassadata/sadness-ratings-0to1.dev.gold.txt')\n",
    "valdata = pd.concat([angerdatatest, feardatatest, joydatatest, sadnessdatatest])\n",
    "valdata"
   ]
  },
  {
   "cell_type": "code",
   "execution_count": 6,
   "id": "9bc22f60",
   "metadata": {
    "execution": {
     "iopub.execute_input": "2021-11-13T13:22:47.151731Z",
     "iopub.status.busy": "2021-11-13T13:22:47.150555Z",
     "iopub.status.idle": "2021-11-13T13:22:47.166807Z",
     "shell.execute_reply": "2021-11-13T13:22:47.165986Z"
    },
    "papermill": {
     "duration": 0.054548,
     "end_time": "2021-11-13T13:22:47.166955",
     "exception": false,
     "start_time": "2021-11-13T13:22:47.112407",
     "status": "completed"
    },
    "tags": []
   },
   "outputs": [
    {
     "data": {
      "text/html": [
       "<div>\n",
       "<style scoped>\n",
       "    .dataframe tbody tr th:only-of-type {\n",
       "        vertical-align: middle;\n",
       "    }\n",
       "\n",
       "    .dataframe tbody tr th {\n",
       "        vertical-align: top;\n",
       "    }\n",
       "\n",
       "    .dataframe thead th {\n",
       "        text-align: right;\n",
       "    }\n",
       "</style>\n",
       "<table border=\"1\" class=\"dataframe\">\n",
       "  <thead>\n",
       "    <tr style=\"text-align: right;\">\n",
       "      <th></th>\n",
       "      <th>index</th>\n",
       "      <th>id</th>\n",
       "      <th>tweet</th>\n",
       "      <th>tweettype</th>\n",
       "      <th>score</th>\n",
       "    </tr>\n",
       "  </thead>\n",
       "  <tbody>\n",
       "    <tr>\n",
       "      <th>0</th>\n",
       "      <td>1</td>\n",
       "      <td>10000</td>\n",
       "      <td>How the fu*k! Who the heck! moved my fridge!.....</td>\n",
       "      <td>anger</td>\n",
       "      <td>0.938</td>\n",
       "    </tr>\n",
       "    <tr>\n",
       "      <th>1</th>\n",
       "      <td>2</td>\n",
       "      <td>10001</td>\n",
       "      <td>So my Indian Uber driver just called someone t...</td>\n",
       "      <td>anger</td>\n",
       "      <td>0.896</td>\n",
       "    </tr>\n",
       "    <tr>\n",
       "      <th>2</th>\n",
       "      <td>3</td>\n",
       "      <td>10002</td>\n",
       "      <td>@DPD_UK I asked for my parcel to be delivered ...</td>\n",
       "      <td>anger</td>\n",
       "      <td>0.896</td>\n",
       "    </tr>\n",
       "    <tr>\n",
       "      <th>3</th>\n",
       "      <td>4</td>\n",
       "      <td>10003</td>\n",
       "      <td>so ef whichever butt wipe pulled the fire alar...</td>\n",
       "      <td>anger</td>\n",
       "      <td>0.896</td>\n",
       "    </tr>\n",
       "    <tr>\n",
       "      <th>4</th>\n",
       "      <td>5</td>\n",
       "      <td>10004</td>\n",
       "      <td>Don't join @BTCare they put the phone down on ...</td>\n",
       "      <td>anger</td>\n",
       "      <td>0.896</td>\n",
       "    </tr>\n",
       "    <tr>\n",
       "      <th>...</th>\n",
       "      <td>...</td>\n",
       "      <td>...</td>\n",
       "      <td>...</td>\n",
       "      <td>...</td>\n",
       "      <td>...</td>\n",
       "    </tr>\n",
       "    <tr>\n",
       "      <th>3955</th>\n",
       "      <td>70</td>\n",
       "      <td>40855</td>\n",
       "      <td>Common app just randomly logged me out as I wa...</td>\n",
       "      <td>sadness</td>\n",
       "      <td>0.833</td>\n",
       "    </tr>\n",
       "    <tr>\n",
       "      <th>3956</th>\n",
       "      <td>71</td>\n",
       "      <td>40856</td>\n",
       "      <td>I'd rather laugh with the rarest genius, in be...</td>\n",
       "      <td>sadness</td>\n",
       "      <td>0.688</td>\n",
       "    </tr>\n",
       "    <tr>\n",
       "      <th>3957</th>\n",
       "      <td>72</td>\n",
       "      <td>40857</td>\n",
       "      <td>If you #invest in my new #film I will stop ask...</td>\n",
       "      <td>sadness</td>\n",
       "      <td>0.458</td>\n",
       "    </tr>\n",
       "    <tr>\n",
       "      <th>3958</th>\n",
       "      <td>73</td>\n",
       "      <td>40858</td>\n",
       "      <td>Just watched Django Unchained, Other people ma...</td>\n",
       "      <td>sadness</td>\n",
       "      <td>0.333</td>\n",
       "    </tr>\n",
       "    <tr>\n",
       "      <th>3959</th>\n",
       "      <td>74</td>\n",
       "      <td>40859</td>\n",
       "      <td>@KeithOlbermann depressing how despicable Trum...</td>\n",
       "      <td>sadness</td>\n",
       "      <td>0.708</td>\n",
       "    </tr>\n",
       "  </tbody>\n",
       "</table>\n",
       "<p>3960 rows × 5 columns</p>\n",
       "</div>"
      ],
      "text/plain": [
       "      index     id                                              tweet  \\\n",
       "0         1  10000  How the fu*k! Who the heck! moved my fridge!.....   \n",
       "1         2  10001  So my Indian Uber driver just called someone t...   \n",
       "2         3  10002  @DPD_UK I asked for my parcel to be delivered ...   \n",
       "3         4  10003  so ef whichever butt wipe pulled the fire alar...   \n",
       "4         5  10004  Don't join @BTCare they put the phone down on ...   \n",
       "...     ...    ...                                                ...   \n",
       "3955     70  40855  Common app just randomly logged me out as I wa...   \n",
       "3956     71  40856  I'd rather laugh with the rarest genius, in be...   \n",
       "3957     72  40857  If you #invest in my new #film I will stop ask...   \n",
       "3958     73  40858  Just watched Django Unchained, Other people ma...   \n",
       "3959     74  40859  @KeithOlbermann depressing how despicable Trum...   \n",
       "\n",
       "     tweettype  score  \n",
       "0        anger  0.938  \n",
       "1        anger  0.896  \n",
       "2        anger  0.896  \n",
       "3        anger  0.896  \n",
       "4        anger  0.896  \n",
       "...        ...    ...  \n",
       "3955   sadness  0.833  \n",
       "3956   sadness  0.688  \n",
       "3957   sadness  0.458  \n",
       "3958   sadness  0.333  \n",
       "3959   sadness  0.708  \n",
       "\n",
       "[3960 rows x 5 columns]"
      ]
     },
     "execution_count": 6,
     "metadata": {},
     "output_type": "execute_result"
    }
   ],
   "source": [
    "datanew = pd.concat([traindata, valdata])\n",
    "datanew = datanew.reset_index()\n",
    "datanew"
   ]
  },
  {
   "cell_type": "code",
   "execution_count": 7,
   "id": "2b85d166",
   "metadata": {
    "execution": {
     "iopub.execute_input": "2021-11-13T13:22:47.246547Z",
     "iopub.status.busy": "2021-11-13T13:22:47.245598Z",
     "iopub.status.idle": "2021-11-13T13:22:47.263999Z",
     "shell.execute_reply": "2021-11-13T13:22:47.264741Z"
    },
    "papermill": {
     "duration": 0.06323,
     "end_time": "2021-11-13T13:22:47.264911",
     "exception": false,
     "start_time": "2021-11-13T13:22:47.201681",
     "status": "completed"
    },
    "tags": []
   },
   "outputs": [
    {
     "data": {
      "text/html": [
       "<div>\n",
       "<style scoped>\n",
       "    .dataframe tbody tr th:only-of-type {\n",
       "        vertical-align: middle;\n",
       "    }\n",
       "\n",
       "    .dataframe tbody tr th {\n",
       "        vertical-align: top;\n",
       "    }\n",
       "\n",
       "    .dataframe thead th {\n",
       "        text-align: right;\n",
       "    }\n",
       "</style>\n",
       "<table border=\"1\" class=\"dataframe\">\n",
       "  <thead>\n",
       "    <tr style=\"text-align: right;\">\n",
       "      <th></th>\n",
       "      <th>index</th>\n",
       "      <th>id</th>\n",
       "      <th>tweet</th>\n",
       "      <th>tweettype</th>\n",
       "      <th>score</th>\n",
       "    </tr>\n",
       "  </thead>\n",
       "  <tbody>\n",
       "    <tr>\n",
       "      <th>0</th>\n",
       "      <td>1</td>\n",
       "      <td>10000</td>\n",
       "      <td>How the fu*k! Who the heck! moved my fridge!.....</td>\n",
       "      <td>anger</td>\n",
       "      <td>0.938</td>\n",
       "    </tr>\n",
       "    <tr>\n",
       "      <th>1</th>\n",
       "      <td>2</td>\n",
       "      <td>10001</td>\n",
       "      <td>So my Indian Uber driver just called someone t...</td>\n",
       "      <td>anger</td>\n",
       "      <td>0.896</td>\n",
       "    </tr>\n",
       "    <tr>\n",
       "      <th>2</th>\n",
       "      <td>3</td>\n",
       "      <td>10002</td>\n",
       "      <td>@DPD_UK I asked for my parcel to be delivered ...</td>\n",
       "      <td>anger</td>\n",
       "      <td>0.896</td>\n",
       "    </tr>\n",
       "    <tr>\n",
       "      <th>3</th>\n",
       "      <td>4</td>\n",
       "      <td>10003</td>\n",
       "      <td>so ef whichever butt wipe pulled the fire alar...</td>\n",
       "      <td>anger</td>\n",
       "      <td>0.896</td>\n",
       "    </tr>\n",
       "    <tr>\n",
       "      <th>4</th>\n",
       "      <td>5</td>\n",
       "      <td>10004</td>\n",
       "      <td>Don't join @BTCare they put the phone down on ...</td>\n",
       "      <td>anger</td>\n",
       "      <td>0.896</td>\n",
       "    </tr>\n",
       "    <tr>\n",
       "      <th>...</th>\n",
       "      <td>...</td>\n",
       "      <td>...</td>\n",
       "      <td>...</td>\n",
       "      <td>...</td>\n",
       "      <td>...</td>\n",
       "    </tr>\n",
       "    <tr>\n",
       "      <th>3921</th>\n",
       "      <td>36</td>\n",
       "      <td>40821</td>\n",
       "      <td>It feel like we lost a family member🙄😂</td>\n",
       "      <td>sadness</td>\n",
       "      <td>0.708</td>\n",
       "    </tr>\n",
       "    <tr>\n",
       "      <th>3922</th>\n",
       "      <td>37</td>\n",
       "      <td>40822</td>\n",
       "      <td>My life went from happy to unhappy..</td>\n",
       "      <td>sadness</td>\n",
       "      <td>0.812</td>\n",
       "    </tr>\n",
       "    <tr>\n",
       "      <th>3946</th>\n",
       "      <td>61</td>\n",
       "      <td>40846</td>\n",
       "      <td>Should of stayed in Dubai 😞</td>\n",
       "      <td>sadness</td>\n",
       "      <td>0.708</td>\n",
       "    </tr>\n",
       "    <tr>\n",
       "      <th>3955</th>\n",
       "      <td>70</td>\n",
       "      <td>40855</td>\n",
       "      <td>Common app just randomly logged me out as I wa...</td>\n",
       "      <td>sadness</td>\n",
       "      <td>0.833</td>\n",
       "    </tr>\n",
       "    <tr>\n",
       "      <th>3959</th>\n",
       "      <td>74</td>\n",
       "      <td>40859</td>\n",
       "      <td>@KeithOlbermann depressing how despicable Trum...</td>\n",
       "      <td>sadness</td>\n",
       "      <td>0.708</td>\n",
       "    </tr>\n",
       "  </tbody>\n",
       "</table>\n",
       "<p>625 rows × 5 columns</p>\n",
       "</div>"
      ],
      "text/plain": [
       "      index     id                                              tweet  \\\n",
       "0         1  10000  How the fu*k! Who the heck! moved my fridge!.....   \n",
       "1         2  10001  So my Indian Uber driver just called someone t...   \n",
       "2         3  10002  @DPD_UK I asked for my parcel to be delivered ...   \n",
       "3         4  10003  so ef whichever butt wipe pulled the fire alar...   \n",
       "4         5  10004  Don't join @BTCare they put the phone down on ...   \n",
       "...     ...    ...                                                ...   \n",
       "3921     36  40821             It feel like we lost a family member🙄😂   \n",
       "3922     37  40822               My life went from happy to unhappy..   \n",
       "3946     61  40846                        Should of stayed in Dubai 😞   \n",
       "3955     70  40855  Common app just randomly logged me out as I wa...   \n",
       "3959     74  40859  @KeithOlbermann depressing how despicable Trum...   \n",
       "\n",
       "     tweettype  score  \n",
       "0        anger  0.938  \n",
       "1        anger  0.896  \n",
       "2        anger  0.896  \n",
       "3        anger  0.896  \n",
       "4        anger  0.896  \n",
       "...        ...    ...  \n",
       "3921   sadness  0.708  \n",
       "3922   sadness  0.812  \n",
       "3946   sadness  0.708  \n",
       "3955   sadness  0.833  \n",
       "3959   sadness  0.708  \n",
       "\n",
       "[625 rows x 5 columns]"
      ]
     },
     "execution_count": 7,
     "metadata": {},
     "output_type": "execute_result"
    }
   ],
   "source": [
    "datanew = datanew.drop(datanew[pd.to_numeric(datanew['score']) < 0.7].index) #, inplace = True\n",
    "datanew"
   ]
  },
  {
   "cell_type": "code",
   "execution_count": null,
   "id": "eb1c25de",
   "metadata": {
    "papermill": {
     "duration": 0.033812,
     "end_time": "2021-11-13T13:22:47.333336",
     "exception": false,
     "start_time": "2021-11-13T13:22:47.299524",
     "status": "completed"
    },
    "tags": []
   },
   "outputs": [],
   "source": []
  },
  {
   "cell_type": "code",
   "execution_count": 8,
   "id": "e67e91d0",
   "metadata": {
    "execution": {
     "iopub.execute_input": "2021-11-13T13:22:47.411188Z",
     "iopub.status.busy": "2021-11-13T13:22:47.409983Z",
     "iopub.status.idle": "2021-11-13T13:22:47.431319Z",
     "shell.execute_reply": "2021-11-13T13:22:47.431869Z",
     "shell.execute_reply.started": "2021-11-12T01:27:43.279865Z"
    },
    "id": "f3b30e52",
    "outputId": "3c4a0254-956a-475f-e261-b9d3b348bd94",
    "papermill": {
     "duration": 0.064492,
     "end_time": "2021-11-13T13:22:47.432032",
     "exception": false,
     "start_time": "2021-11-13T13:22:47.367540",
     "status": "completed"
    },
    "tags": []
   },
   "outputs": [
    {
     "data": {
      "text/html": [
       "<div>\n",
       "<style scoped>\n",
       "    .dataframe tbody tr th:only-of-type {\n",
       "        vertical-align: middle;\n",
       "    }\n",
       "\n",
       "    .dataframe tbody tr th {\n",
       "        vertical-align: top;\n",
       "    }\n",
       "\n",
       "    .dataframe thead th {\n",
       "        text-align: right;\n",
       "    }\n",
       "</style>\n",
       "<table border=\"1\" class=\"dataframe\">\n",
       "  <thead>\n",
       "    <tr style=\"text-align: right;\">\n",
       "      <th></th>\n",
       "      <th>index</th>\n",
       "      <th>onehot_sentiment</th>\n",
       "      <th>id</th>\n",
       "      <th>tweet</th>\n",
       "      <th>tweettype</th>\n",
       "      <th>score</th>\n",
       "    </tr>\n",
       "  </thead>\n",
       "  <tbody>\n",
       "    <tr>\n",
       "      <th>0</th>\n",
       "      <td>1</td>\n",
       "      <td>[1.0, 0.0, 0.0, 0.0]</td>\n",
       "      <td>10000</td>\n",
       "      <td>How the fu*k! Who the heck! moved my fridge!.....</td>\n",
       "      <td>anger</td>\n",
       "      <td>0.938</td>\n",
       "    </tr>\n",
       "    <tr>\n",
       "      <th>1</th>\n",
       "      <td>2</td>\n",
       "      <td>[1.0, 0.0, 0.0, 0.0]</td>\n",
       "      <td>10001</td>\n",
       "      <td>So my Indian Uber driver just called someone t...</td>\n",
       "      <td>anger</td>\n",
       "      <td>0.896</td>\n",
       "    </tr>\n",
       "    <tr>\n",
       "      <th>2</th>\n",
       "      <td>3</td>\n",
       "      <td>[1.0, 0.0, 0.0, 0.0]</td>\n",
       "      <td>10002</td>\n",
       "      <td>@DPD_UK I asked for my parcel to be delivered ...</td>\n",
       "      <td>anger</td>\n",
       "      <td>0.896</td>\n",
       "    </tr>\n",
       "    <tr>\n",
       "      <th>3</th>\n",
       "      <td>4</td>\n",
       "      <td>[1.0, 0.0, 0.0, 0.0]</td>\n",
       "      <td>10003</td>\n",
       "      <td>so ef whichever butt wipe pulled the fire alar...</td>\n",
       "      <td>anger</td>\n",
       "      <td>0.896</td>\n",
       "    </tr>\n",
       "    <tr>\n",
       "      <th>4</th>\n",
       "      <td>5</td>\n",
       "      <td>[1.0, 0.0, 0.0, 0.0]</td>\n",
       "      <td>10004</td>\n",
       "      <td>Don't join @BTCare they put the phone down on ...</td>\n",
       "      <td>anger</td>\n",
       "      <td>0.896</td>\n",
       "    </tr>\n",
       "    <tr>\n",
       "      <th>...</th>\n",
       "      <td>...</td>\n",
       "      <td>...</td>\n",
       "      <td>...</td>\n",
       "      <td>...</td>\n",
       "      <td>...</td>\n",
       "      <td>...</td>\n",
       "    </tr>\n",
       "    <tr>\n",
       "      <th>3921</th>\n",
       "      <td>36</td>\n",
       "      <td>[0.0, 0.0, 0.0, 1.0]</td>\n",
       "      <td>40821</td>\n",
       "      <td>It feel like we lost a family member🙄😂</td>\n",
       "      <td>sadness</td>\n",
       "      <td>0.708</td>\n",
       "    </tr>\n",
       "    <tr>\n",
       "      <th>3922</th>\n",
       "      <td>37</td>\n",
       "      <td>[0.0, 0.0, 0.0, 1.0]</td>\n",
       "      <td>40822</td>\n",
       "      <td>My life went from happy to unhappy..</td>\n",
       "      <td>sadness</td>\n",
       "      <td>0.812</td>\n",
       "    </tr>\n",
       "    <tr>\n",
       "      <th>3946</th>\n",
       "      <td>61</td>\n",
       "      <td>[0.0, 0.0, 0.0, 1.0]</td>\n",
       "      <td>40846</td>\n",
       "      <td>Should of stayed in Dubai 😞</td>\n",
       "      <td>sadness</td>\n",
       "      <td>0.708</td>\n",
       "    </tr>\n",
       "    <tr>\n",
       "      <th>3955</th>\n",
       "      <td>70</td>\n",
       "      <td>[0.0, 0.0, 0.0, 1.0]</td>\n",
       "      <td>40855</td>\n",
       "      <td>Common app just randomly logged me out as I wa...</td>\n",
       "      <td>sadness</td>\n",
       "      <td>0.833</td>\n",
       "    </tr>\n",
       "    <tr>\n",
       "      <th>3959</th>\n",
       "      <td>74</td>\n",
       "      <td>[0.0, 0.0, 0.0, 1.0]</td>\n",
       "      <td>40859</td>\n",
       "      <td>@KeithOlbermann depressing how despicable Trum...</td>\n",
       "      <td>sadness</td>\n",
       "      <td>0.708</td>\n",
       "    </tr>\n",
       "  </tbody>\n",
       "</table>\n",
       "<p>625 rows × 6 columns</p>\n",
       "</div>"
      ],
      "text/plain": [
       "      index      onehot_sentiment     id  \\\n",
       "0         1  [1.0, 0.0, 0.0, 0.0]  10000   \n",
       "1         2  [1.0, 0.0, 0.0, 0.0]  10001   \n",
       "2         3  [1.0, 0.0, 0.0, 0.0]  10002   \n",
       "3         4  [1.0, 0.0, 0.0, 0.0]  10003   \n",
       "4         5  [1.0, 0.0, 0.0, 0.0]  10004   \n",
       "...     ...                   ...    ...   \n",
       "3921     36  [0.0, 0.0, 0.0, 1.0]  40821   \n",
       "3922     37  [0.0, 0.0, 0.0, 1.0]  40822   \n",
       "3946     61  [0.0, 0.0, 0.0, 1.0]  40846   \n",
       "3955     70  [0.0, 0.0, 0.0, 1.0]  40855   \n",
       "3959     74  [0.0, 0.0, 0.0, 1.0]  40859   \n",
       "\n",
       "                                                  tweet tweettype  score  \n",
       "0     How the fu*k! Who the heck! moved my fridge!.....     anger  0.938  \n",
       "1     So my Indian Uber driver just called someone t...     anger  0.896  \n",
       "2     @DPD_UK I asked for my parcel to be delivered ...     anger  0.896  \n",
       "3     so ef whichever butt wipe pulled the fire alar...     anger  0.896  \n",
       "4     Don't join @BTCare they put the phone down on ...     anger  0.896  \n",
       "...                                                 ...       ...    ...  \n",
       "3921             It feel like we lost a family member🙄😂   sadness  0.708  \n",
       "3922               My life went from happy to unhappy..   sadness  0.812  \n",
       "3946                        Should of stayed in Dubai 😞   sadness  0.708  \n",
       "3955  Common app just randomly logged me out as I wa...   sadness  0.833  \n",
       "3959  @KeithOlbermann depressing how despicable Trum...   sadness  0.708  \n",
       "\n",
       "[625 rows x 6 columns]"
      ]
     },
     "execution_count": 8,
     "metadata": {},
     "output_type": "execute_result"
    }
   ],
   "source": [
    "## encode sentiment column to onehot\n",
    "from sklearn.preprocessing import OneHotEncoder\n",
    "\n",
    "enc = OneHotEncoder(handle_unknown='ignore')\n",
    "enc.fit(datanew['tweettype'].to_numpy().reshape(-1, 1))\n",
    "onehot_sentiment = enc.transform(datanew['tweettype'].to_numpy().reshape(-1, 1)).toarray()\n",
    "# onehot_sentiment = onehot_sentiment.reshape((40000, 1, 13))\n",
    "datanew.insert(1, \"onehot_sentiment\", list(onehot_sentiment))\n",
    "datanew"
   ]
  },
  {
   "cell_type": "markdown",
   "id": "c0f16fb7",
   "metadata": {
    "id": "8df8ec3d",
    "papermill": {
     "duration": 0.033899,
     "end_time": "2021-11-13T13:22:47.500823",
     "exception": false,
     "start_time": "2021-11-13T13:22:47.466924",
     "status": "completed"
    },
    "tags": []
   },
   "source": [
    "### encode word"
   ]
  },
  {
   "cell_type": "code",
   "execution_count": 9,
   "id": "f2a8954b",
   "metadata": {
    "execution": {
     "iopub.execute_input": "2021-11-13T13:22:47.582836Z",
     "iopub.status.busy": "2021-11-13T13:22:47.581778Z",
     "iopub.status.idle": "2021-11-13T13:22:47.584572Z",
     "shell.execute_reply": "2021-11-13T13:22:47.585159Z",
     "shell.execute_reply.started": "2021-11-12T01:27:47.192427Z"
    },
    "id": "9d02a586",
    "papermill": {
     "duration": 0.050067,
     "end_time": "2021-11-13T13:22:47.585349",
     "exception": false,
     "start_time": "2021-11-13T13:22:47.535282",
     "status": "completed"
    },
    "tags": []
   },
   "outputs": [],
   "source": [
    "def create_dico(item_list):\n",
    "    \"\"\"\n",
    "    Create a dictionary of items from a list of list of items.\n",
    "    (item:count) pairs\n",
    "    \"\"\"\n",
    "    assert type(item_list) is list\n",
    "    dico = {}\n",
    "    for items in item_list:\n",
    "        for item in items:\n",
    "            if item not in dico:\n",
    "                dico[item] = 1\n",
    "            else:\n",
    "                dico[item] += 1\n",
    "    return dico\n",
    "\n",
    "def create_mapping(dico):\n",
    "    \"\"\"\n",
    "    Create a mapping (item to ID / ID to item) from a dictionary.\n",
    "    Items are ordered by decreasing frequency.\n",
    "    \"\"\"\n",
    "    sorted_items = sorted(dico.items(), key=lambda x: (-x[1], x[0]))\n",
    "    id_to_item = {i: v[0] for i, v in enumerate(sorted_items)}\n",
    "    item_to_id = {v: k for k, v in id_to_item.items()}\n",
    "    return item_to_id, id_to_item\n",
    "\n",
    "def word_mapping(sentences, lower):\n",
    "    \"\"\"\n",
    "    Create a dictionary and a mapping of words, sorted by frequency.\n",
    "    \n",
    "    return:\n",
    "    dico: dictionary of (word:frequency) pairs\n",
    "    word_to_id: dictionary of (word, id)\n",
    "    id_to_word: dictionary of (id, word)\n",
    "    \"\"\"\n",
    "    words = [[x.lower() if lower else x[0] for x in s] for s in sentences]\n",
    "    dico = create_dico(words)\n",
    "    dico['<UNK>'] = 10000000 #UNK tag for unknown words\n",
    "    word_to_id, id_to_word = create_mapping(dico)\n",
    "    print(\"Found %i unique words (%i in total)\" % (\n",
    "        len(dico), sum(len(x) for x in words)\n",
    "    ))\n",
    "    return dico, word_to_id, id_to_word"
   ]
  },
  {
   "cell_type": "code",
   "execution_count": 10,
   "id": "3f0dc5c1",
   "metadata": {
    "execution": {
     "iopub.execute_input": "2021-11-13T13:22:47.668403Z",
     "iopub.status.busy": "2021-11-13T13:22:47.667624Z",
     "iopub.status.idle": "2021-11-13T13:22:47.869236Z",
     "shell.execute_reply": "2021-11-13T13:22:47.868595Z",
     "shell.execute_reply.started": "2021-11-12T01:27:50.047807Z"
    },
    "papermill": {
     "duration": 0.249571,
     "end_time": "2021-11-13T13:22:47.869427",
     "exception": false,
     "start_time": "2021-11-13T13:22:47.619856",
     "status": "completed"
    },
    "tags": []
   },
   "outputs": [
    {
     "name": "stdout",
     "output_type": "stream",
     "text": [
      "[nltk_data] Downloading package punkt to /usr/share/nltk_data...\n",
      "[nltk_data]   Package punkt is already up-to-date!\n"
     ]
    },
    {
     "data": {
      "text/plain": [
       "True"
      ]
     },
     "execution_count": 10,
     "metadata": {},
     "output_type": "execute_result"
    }
   ],
   "source": [
    "import nltk\n",
    "nltk.download('punkt')"
   ]
  },
  {
   "cell_type": "code",
   "execution_count": 11,
   "id": "169c9d1c",
   "metadata": {
    "execution": {
     "iopub.execute_input": "2021-11-13T13:22:47.950014Z",
     "iopub.status.busy": "2021-11-13T13:22:47.949036Z",
     "iopub.status.idle": "2021-11-13T13:22:48.165016Z",
     "shell.execute_reply": "2021-11-13T13:22:48.165646Z",
     "shell.execute_reply.started": "2021-11-12T01:27:57.041443Z"
    },
    "id": "32536d06",
    "papermill": {
     "duration": 0.259201,
     "end_time": "2021-11-13T13:22:48.165878",
     "exception": false,
     "start_time": "2021-11-13T13:22:47.906677",
     "status": "completed"
    },
    "tags": []
   },
   "outputs": [],
   "source": [
    "## tokenising sentences\n",
    "raw_content = datanew['tweet'].to_numpy()\n",
    "\n",
    "processed_docs = []\n",
    "for doc in raw_content:\n",
    "    tokens = word_tokenize(doc)\n",
    "#        filtered = [word for word in tokens if word not in stop_words]\n",
    "#        stemmed = [stemmer.stem(word) for word in filtered]\n",
    "    processed_docs.append(tokens)"
   ]
  },
  {
   "cell_type": "code",
   "execution_count": 12,
   "id": "bf204775",
   "metadata": {
    "execution": {
     "iopub.execute_input": "2021-11-13T13:22:48.254318Z",
     "iopub.status.busy": "2021-11-13T13:22:48.253623Z",
     "iopub.status.idle": "2021-11-13T13:22:48.261863Z",
     "shell.execute_reply": "2021-11-13T13:22:48.261202Z",
     "shell.execute_reply.started": "2021-11-12T01:28:03.437899Z"
    },
    "id": "a2e10b86",
    "outputId": "2055160b-570b-4238-aa1d-05f8d4f2566f",
    "papermill": {
     "duration": 0.059383,
     "end_time": "2021-11-13T13:22:48.262025",
     "exception": false,
     "start_time": "2021-11-13T13:22:48.202642",
     "status": "completed"
    },
    "tags": []
   },
   "outputs": [
    {
     "name": "stdout",
     "output_type": "stream",
     "text": [
      "Found 2790 unique words (12393 in total)\n"
     ]
    }
   ],
   "source": [
    "dico_words,word_to_id,id_to_word = word_mapping(processed_docs, True)"
   ]
  },
  {
   "cell_type": "code",
   "execution_count": 13,
   "id": "b499347a",
   "metadata": {
    "execution": {
     "iopub.execute_input": "2021-11-13T13:22:48.341420Z",
     "iopub.status.busy": "2021-11-13T13:22:48.340258Z",
     "iopub.status.idle": "2021-11-13T13:22:48.342796Z",
     "shell.execute_reply": "2021-11-13T13:22:48.343448Z",
     "shell.execute_reply.started": "2021-11-12T01:28:06.454192Z"
    },
    "id": "03254b00",
    "papermill": {
     "duration": 0.045781,
     "end_time": "2021-11-13T13:22:48.343644",
     "exception": false,
     "start_time": "2021-11-13T13:22:48.297863",
     "status": "completed"
    },
    "tags": []
   },
   "outputs": [],
   "source": [
    "def lower_case(x,lower=False):\n",
    "    if lower:\n",
    "        return x.lower()  \n",
    "    else:\n",
    "        return x"
   ]
  },
  {
   "cell_type": "code",
   "execution_count": 14,
   "id": "cb9a1959",
   "metadata": {
    "execution": {
     "iopub.execute_input": "2021-11-13T13:22:48.425784Z",
     "iopub.status.busy": "2021-11-13T13:22:48.424654Z",
     "iopub.status.idle": "2021-11-13T13:22:48.450096Z",
     "shell.execute_reply": "2021-11-13T13:22:48.450980Z",
     "shell.execute_reply.started": "2021-11-12T01:29:33.982416Z"
    },
    "id": "022ab1c7",
    "outputId": "21c18dfe-5969-46d3-e795-0f3cbe47e28d",
    "papermill": {
     "duration": 0.071357,
     "end_time": "2021-11-13T13:22:48.451267",
     "exception": false,
     "start_time": "2021-11-13T13:22:48.379910",
     "status": "completed"
    },
    "tags": []
   },
   "outputs": [
    {
     "name": "stdout",
     "output_type": "stream",
     "text": [
      "625 sentences\n"
     ]
    }
   ],
   "source": [
    "def prepare_dataset(sentences, word_to_id, lower=False):\n",
    "    \"\"\"\n",
    "    Prepare the dataset. Return a list of lists of dictionaries containing:\n",
    "        - word indexes\n",
    "        - word char indexes\n",
    "        - tag indexes\n",
    "    \"\"\"\n",
    "    data = []\n",
    "    for s in sentences:\n",
    "        str_words = [w for w in s]\n",
    "        words = [word_to_id[lower_case(w,lower) if lower_case(w,lower) in word_to_id else '<UNK>']\n",
    "                 for w in str_words]\n",
    "        data.append({\n",
    "            'str_words': str_words, #list of all words in the sentence\n",
    "            'words': words, #list of word index for all words in the sentence\n",
    "        })\n",
    "    return data\n",
    "\n",
    "data = prepare_dataset(\n",
    "    processed_docs, word_to_id, True\n",
    ")\n",
    "\n",
    "print(\"{} sentences\".format(len(data)))"
   ]
  },
  {
   "cell_type": "code",
   "execution_count": 15,
   "id": "d6b53f98",
   "metadata": {
    "execution": {
     "iopub.execute_input": "2021-11-13T13:22:48.532251Z",
     "iopub.status.busy": "2021-11-13T13:22:48.531544Z",
     "iopub.status.idle": "2021-11-13T13:24:12.137028Z",
     "shell.execute_reply": "2021-11-13T13:24:12.137623Z",
     "shell.execute_reply.started": "2021-11-12T01:29:37.252935Z"
    },
    "id": "7ef648e2",
    "outputId": "a5384b73-b9d6-4bb2-97ec-fc17d86f26b6",
    "papermill": {
     "duration": 83.650372,
     "end_time": "2021-11-13T13:24:12.137816",
     "exception": false,
     "start_time": "2021-11-13T13:22:48.487444",
     "status": "completed"
    },
    "scrolled": true,
    "tags": []
   },
   "outputs": [
    {
     "name": "stdout",
     "output_type": "stream",
     "text": [
      "Loaded 400000 pretrained embeddings.\n"
     ]
    }
   ],
   "source": [
    "all_word_embeds = {}\n",
    "for i, line in enumerate(codecs.open('../input/wassadata/glove.6B.300d.txt', 'r', 'utf-8')):\n",
    "    s = line.strip().split()\n",
    "    if len(s) == parameters['word_dim'] + 1:\n",
    "        all_word_embeds[s[0]] = np.array([float(i) for i in s[1:]])\n",
    "\n",
    "#Intializing Word Embedding Matrix\n",
    "word_embeds = np.random.uniform(-np.sqrt(0.06), np.sqrt(0.06), (len(word_to_id), parameters['word_dim']))\n",
    "\n",
    "for w in word_to_id:\n",
    "    if w in all_word_embeds:\n",
    "        word_embeds[word_to_id[w]] = all_word_embeds[w]\n",
    "    elif w.lower() in all_word_embeds:\n",
    "        word_embeds[word_to_id[w]] = all_word_embeds[w.lower()]\n",
    "\n",
    "print('Loaded %i pretrained embeddings.' % len(all_word_embeds))"
   ]
  },
  {
   "cell_type": "code",
   "execution_count": 16,
   "id": "a9ebb7ca",
   "metadata": {
    "execution": {
     "iopub.execute_input": "2021-11-13T13:24:12.220279Z",
     "iopub.status.busy": "2021-11-13T13:24:12.219197Z",
     "iopub.status.idle": "2021-11-13T13:24:12.225020Z",
     "shell.execute_reply": "2021-11-13T13:24:12.224449Z",
     "shell.execute_reply.started": "2021-11-12T01:30:51.005089Z"
    },
    "id": "8c8e52f8",
    "papermill": {
     "duration": 0.050699,
     "end_time": "2021-11-13T13:24:12.225176",
     "exception": false,
     "start_time": "2021-11-13T13:24:12.174477",
     "status": "completed"
    },
    "tags": []
   },
   "outputs": [],
   "source": [
    "word_indices = [i['words'] for i in data]\n",
    "padded_indices = []\n",
    "for sent in word_indices:\n",
    "    padding_size = 110 - len(sent)\n",
    "    padded = sent + [0 for i in range(padding_size)]\n",
    "    padded_indices.append(padded)"
   ]
  },
  {
   "cell_type": "code",
   "execution_count": 17,
   "id": "0b278c9e",
   "metadata": {
    "execution": {
     "iopub.execute_input": "2021-11-13T13:24:12.309149Z",
     "iopub.status.busy": "2021-11-13T13:24:12.308368Z",
     "iopub.status.idle": "2021-11-13T13:24:12.343807Z",
     "shell.execute_reply": "2021-11-13T13:24:12.344390Z",
     "shell.execute_reply.started": "2021-11-12T01:30:53.112562Z"
    },
    "id": "c79a5d1e",
    "outputId": "651f4a86-6d0c-4238-8f54-f3366510cc6a",
    "papermill": {
     "duration": 0.082844,
     "end_time": "2021-11-13T13:24:12.344628",
     "exception": false,
     "start_time": "2021-11-13T13:24:12.261784",
     "status": "completed"
    },
    "tags": []
   },
   "outputs": [
    {
     "data": {
      "text/html": [
       "<div>\n",
       "<style scoped>\n",
       "    .dataframe tbody tr th:only-of-type {\n",
       "        vertical-align: middle;\n",
       "    }\n",
       "\n",
       "    .dataframe tbody tr th {\n",
       "        vertical-align: top;\n",
       "    }\n",
       "\n",
       "    .dataframe thead th {\n",
       "        text-align: right;\n",
       "    }\n",
       "</style>\n",
       "<table border=\"1\" class=\"dataframe\">\n",
       "  <thead>\n",
       "    <tr style=\"text-align: right;\">\n",
       "      <th></th>\n",
       "      <th>index</th>\n",
       "      <th>padded_indices</th>\n",
       "      <th>onehot_sentiment</th>\n",
       "      <th>id</th>\n",
       "      <th>tweet</th>\n",
       "      <th>tweettype</th>\n",
       "      <th>score</th>\n",
       "    </tr>\n",
       "  </thead>\n",
       "  <tbody>\n",
       "    <tr>\n",
       "      <th>0</th>\n",
       "      <td>1</td>\n",
       "      <td>[75, 5, 762, 6, 108, 5, 792, 6, 516, 12, 760, ...</td>\n",
       "      <td>[1.0, 0.0, 0.0, 0.0]</td>\n",
       "      <td>10000</td>\n",
       "      <td>How the fu*k! Who the heck! moved my fridge!.....</td>\n",
       "      <td>anger</td>\n",
       "      <td>0.938</td>\n",
       "    </tr>\n",
       "    <tr>\n",
       "      <th>1</th>\n",
       "      <td>2</td>\n",
       "      <td>[18, 12, 383, 1017, 718, 28, 677, 172, 5, 236,...</td>\n",
       "      <td>[1.0, 0.0, 0.0, 0.0]</td>\n",
       "      <td>10001</td>\n",
       "      <td>So my Indian Uber driver just called someone t...</td>\n",
       "      <td>anger</td>\n",
       "      <td>0.896</td>\n",
       "    </tr>\n",
       "    <tr>\n",
       "      <th>2</th>\n",
       "      <td>3</td>\n",
       "      <td>[4, 1504, 2, 633, 19, 12, 2165, 7, 27, 368, 7,...</td>\n",
       "      <td>[1.0, 0.0, 0.0, 0.0]</td>\n",
       "      <td>10002</td>\n",
       "      <td>@DPD_UK I asked for my parcel to be delivered ...</td>\n",
       "      <td>anger</td>\n",
       "      <td>0.896</td>\n",
       "    </tr>\n",
       "    <tr>\n",
       "      <th>3</th>\n",
       "      <td>4</td>\n",
       "      <td>[18, 722, 1029, 674, 1035, 913, 5, 482, 620, 1...</td>\n",
       "      <td>[1.0, 0.0, 0.0, 0.0]</td>\n",
       "      <td>10003</td>\n",
       "      <td>so ef whichever butt wipe pulled the fire alar...</td>\n",
       "      <td>anger</td>\n",
       "      <td>0.896</td>\n",
       "    </tr>\n",
       "    <tr>\n",
       "      <th>4</th>\n",
       "      <td>5</td>\n",
       "      <td>[30, 21, 1864, 4, 1309, 132, 335, 5, 284, 135,...</td>\n",
       "      <td>[1.0, 0.0, 0.0, 0.0]</td>\n",
       "      <td>10004</td>\n",
       "      <td>Don't join @BTCare they put the phone down on ...</td>\n",
       "      <td>anger</td>\n",
       "      <td>0.896</td>\n",
       "    </tr>\n",
       "    <tr>\n",
       "      <th>...</th>\n",
       "      <td>...</td>\n",
       "      <td>...</td>\n",
       "      <td>...</td>\n",
       "      <td>...</td>\n",
       "      <td>...</td>\n",
       "      <td>...</td>\n",
       "      <td>...</td>\n",
       "    </tr>\n",
       "    <tr>\n",
       "      <th>3921</th>\n",
       "      <td>36</td>\n",
       "      <td>[16, 64, 45, 56, 118, 8, 180, 2017, 0, 0, 0, 0...</td>\n",
       "      <td>[0.0, 0.0, 0.0, 1.0]</td>\n",
       "      <td>40821</td>\n",
       "      <td>It feel like we lost a family member🙄😂</td>\n",
       "      <td>sadness</td>\n",
       "      <td>0.708</td>\n",
       "    </tr>\n",
       "    <tr>\n",
       "      <th>3922</th>\n",
       "      <td>37</td>\n",
       "      <td>[12, 87, 2656, 51, 37, 7, 2596, 0, 0, 0, 0, 0,...</td>\n",
       "      <td>[0.0, 0.0, 0.0, 1.0]</td>\n",
       "      <td>40822</td>\n",
       "      <td>My life went from happy to unhappy..</td>\n",
       "      <td>sadness</td>\n",
       "      <td>0.812</td>\n",
       "    </tr>\n",
       "    <tr>\n",
       "      <th>3946</th>\n",
       "      <td>61</td>\n",
       "      <td>[130, 13, 2459, 15, 1513, 1060, 0, 0, 0, 0, 0,...</td>\n",
       "      <td>[0.0, 0.0, 0.0, 1.0]</td>\n",
       "      <td>40846</td>\n",
       "      <td>Should of stayed in Dubai 😞</td>\n",
       "      <td>sadness</td>\n",
       "      <td>0.708</td>\n",
       "    </tr>\n",
       "    <tr>\n",
       "      <th>3955</th>\n",
       "      <td>70</td>\n",
       "      <td>[1373, 630, 28, 2271, 1953, 17, 49, 74, 2, 32,...</td>\n",
       "      <td>[0.0, 0.0, 0.0, 1.0]</td>\n",
       "      <td>40855</td>\n",
       "      <td>Common app just randomly logged me out as I wa...</td>\n",
       "      <td>sadness</td>\n",
       "      <td>0.833</td>\n",
       "    </tr>\n",
       "    <tr>\n",
       "      <th>3959</th>\n",
       "      <td>74</td>\n",
       "      <td>[4, 1887, 101, 75, 1464, 215, 9, 33, 82, 2212,...</td>\n",
       "      <td>[0.0, 0.0, 0.0, 1.0]</td>\n",
       "      <td>40859</td>\n",
       "      <td>@KeithOlbermann depressing how despicable Trum...</td>\n",
       "      <td>sadness</td>\n",
       "      <td>0.708</td>\n",
       "    </tr>\n",
       "  </tbody>\n",
       "</table>\n",
       "<p>625 rows × 7 columns</p>\n",
       "</div>"
      ],
      "text/plain": [
       "      index                                     padded_indices  \\\n",
       "0         1  [75, 5, 762, 6, 108, 5, 792, 6, 516, 12, 760, ...   \n",
       "1         2  [18, 12, 383, 1017, 718, 28, 677, 172, 5, 236,...   \n",
       "2         3  [4, 1504, 2, 633, 19, 12, 2165, 7, 27, 368, 7,...   \n",
       "3         4  [18, 722, 1029, 674, 1035, 913, 5, 482, 620, 1...   \n",
       "4         5  [30, 21, 1864, 4, 1309, 132, 335, 5, 284, 135,...   \n",
       "...     ...                                                ...   \n",
       "3921     36  [16, 64, 45, 56, 118, 8, 180, 2017, 0, 0, 0, 0...   \n",
       "3922     37  [12, 87, 2656, 51, 37, 7, 2596, 0, 0, 0, 0, 0,...   \n",
       "3946     61  [130, 13, 2459, 15, 1513, 1060, 0, 0, 0, 0, 0,...   \n",
       "3955     70  [1373, 630, 28, 2271, 1953, 17, 49, 74, 2, 32,...   \n",
       "3959     74  [4, 1887, 101, 75, 1464, 215, 9, 33, 82, 2212,...   \n",
       "\n",
       "          onehot_sentiment     id  \\\n",
       "0     [1.0, 0.0, 0.0, 0.0]  10000   \n",
       "1     [1.0, 0.0, 0.0, 0.0]  10001   \n",
       "2     [1.0, 0.0, 0.0, 0.0]  10002   \n",
       "3     [1.0, 0.0, 0.0, 0.0]  10003   \n",
       "4     [1.0, 0.0, 0.0, 0.0]  10004   \n",
       "...                    ...    ...   \n",
       "3921  [0.0, 0.0, 0.0, 1.0]  40821   \n",
       "3922  [0.0, 0.0, 0.0, 1.0]  40822   \n",
       "3946  [0.0, 0.0, 0.0, 1.0]  40846   \n",
       "3955  [0.0, 0.0, 0.0, 1.0]  40855   \n",
       "3959  [0.0, 0.0, 0.0, 1.0]  40859   \n",
       "\n",
       "                                                  tweet tweettype  score  \n",
       "0     How the fu*k! Who the heck! moved my fridge!.....     anger  0.938  \n",
       "1     So my Indian Uber driver just called someone t...     anger  0.896  \n",
       "2     @DPD_UK I asked for my parcel to be delivered ...     anger  0.896  \n",
       "3     so ef whichever butt wipe pulled the fire alar...     anger  0.896  \n",
       "4     Don't join @BTCare they put the phone down on ...     anger  0.896  \n",
       "...                                                 ...       ...    ...  \n",
       "3921             It feel like we lost a family member🙄😂   sadness  0.708  \n",
       "3922               My life went from happy to unhappy..   sadness  0.812  \n",
       "3946                        Should of stayed in Dubai 😞   sadness  0.708  \n",
       "3955  Common app just randomly logged me out as I wa...   sadness  0.833  \n",
       "3959  @KeithOlbermann depressing how despicable Trum...   sadness  0.708  \n",
       "\n",
       "[625 rows x 7 columns]"
      ]
     },
     "execution_count": 17,
     "metadata": {},
     "output_type": "execute_result"
    }
   ],
   "source": [
    "datanew.insert(1, \"padded_indices\", list(padded_indices))\n",
    "datanew"
   ]
  },
  {
   "cell_type": "code",
   "execution_count": 18,
   "id": "0bcc2c77",
   "metadata": {
    "execution": {
     "iopub.execute_input": "2021-11-13T13:24:12.428101Z",
     "iopub.status.busy": "2021-11-13T13:24:12.426893Z",
     "iopub.status.idle": "2021-11-13T13:24:12.436591Z",
     "shell.execute_reply": "2021-11-13T13:24:12.437465Z",
     "shell.execute_reply.started": "2021-11-12T01:30:55.742452Z"
    },
    "id": "7c70f61b",
    "outputId": "6fe89a08-31ef-40c1-f88b-fa88f77aea79",
    "papermill": {
     "duration": 0.055626,
     "end_time": "2021-11-13T13:24:12.437724",
     "exception": false,
     "start_time": "2021-11-13T13:24:12.382098",
     "status": "completed"
    },
    "tags": []
   },
   "outputs": [
    {
     "name": "stdout",
     "output_type": "stream",
     "text": [
      "X train:  437 (437,)\n",
      "y train:  437 (437,)\n",
      "y test:  188 (188,)\n"
     ]
    }
   ],
   "source": [
    "from sklearn.model_selection import train_test_split\n",
    "X = datanew['padded_indices'].to_numpy()\n",
    "y = datanew['onehot_sentiment'].to_numpy()\n",
    "X_train, X_test, y_train, y_test = train_test_split(X, y, test_size=0.3, random_state=42)\n",
    "print(\"X train: \", len(X_train), X_train.shape)\n",
    "print(\"y train: \", len(y_train), y_train.shape)\n",
    "print(\"y test: \", len(y_test), y_test.shape)"
   ]
  },
  {
   "cell_type": "code",
   "execution_count": 19,
   "id": "4b06f780",
   "metadata": {
    "execution": {
     "iopub.execute_input": "2021-11-13T13:24:12.530710Z",
     "iopub.status.busy": "2021-11-13T13:24:12.529273Z",
     "iopub.status.idle": "2021-11-13T13:24:12.544179Z",
     "shell.execute_reply": "2021-11-13T13:24:12.543099Z",
     "shell.execute_reply.started": "2021-11-12T01:30:58.652199Z"
    },
    "id": "8e9a7b3d",
    "outputId": "1e58c475-b84c-48ee-d979-2535c512e544",
    "papermill": {
     "duration": 0.069229,
     "end_time": "2021-11-13T13:24:12.544517",
     "exception": false,
     "start_time": "2021-11-13T13:24:12.475288",
     "status": "completed"
    },
    "tags": []
   },
   "outputs": [
    {
     "name": "stdout",
     "output_type": "stream",
     "text": [
      "(437, 110)\n",
      "(437, 4)\n",
      "(188, 110)\n",
      "(188, 4)\n"
     ]
    }
   ],
   "source": [
    "X_train = np.array([np.array(x) for x in X_train])\n",
    "y_train = np.array([np.array(x) for x in y_train])\n",
    "X_test = np.array([np.array(x) for x in X_test])\n",
    "y_test = np.array([np.array(x) for x in y_test])\n",
    "\n",
    "print(X_train.shape)\n",
    "print(y_train.shape)\n",
    "print(X_test.shape)\n",
    "print(y_test.shape)"
   ]
  },
  {
   "cell_type": "markdown",
   "id": "d33ef77f",
   "metadata": {
    "id": "e9f90c2c",
    "papermill": {
     "duration": 0.036209,
     "end_time": "2021-11-13T13:24:12.618790",
     "exception": false,
     "start_time": "2021-11-13T13:24:12.582581",
     "status": "completed"
    },
    "tags": []
   },
   "source": [
    "### RNN with lstm model"
   ]
  },
  {
   "cell_type": "code",
   "execution_count": 20,
   "id": "34c2ed91",
   "metadata": {
    "execution": {
     "iopub.execute_input": "2021-11-13T13:24:12.699335Z",
     "iopub.status.busy": "2021-11-13T13:24:12.698138Z",
     "iopub.status.idle": "2021-11-13T13:24:12.700748Z",
     "shell.execute_reply": "2021-11-13T13:24:12.701353Z",
     "shell.execute_reply.started": "2021-11-11T16:37:28.361512Z"
    },
    "id": "0706cfa6",
    "papermill": {
     "duration": 0.045275,
     "end_time": "2021-11-13T13:24:12.701549",
     "exception": false,
     "start_time": "2021-11-13T13:24:12.656274",
     "status": "completed"
    },
    "tags": []
   },
   "outputs": [],
   "source": [
    "# so that dont have to rerun\n",
    "import tensorflow as tf\n",
    "tf.compat.v1.reset_default_graph()"
   ]
  },
  {
   "cell_type": "code",
   "execution_count": 21,
   "id": "b2af5484",
   "metadata": {
    "execution": {
     "iopub.execute_input": "2021-11-13T13:24:12.855123Z",
     "iopub.status.busy": "2021-11-13T13:24:12.853885Z",
     "iopub.status.idle": "2021-11-13T13:24:17.309228Z",
     "shell.execute_reply": "2021-11-13T13:24:17.310051Z",
     "shell.execute_reply.started": "2021-11-12T01:31:07.341322Z"
    },
    "id": "031cf79f",
    "papermill": {
     "duration": 4.550053,
     "end_time": "2021-11-13T13:24:17.310376",
     "exception": false,
     "start_time": "2021-11-13T13:24:12.760323",
     "status": "completed"
    },
    "tags": []
   },
   "outputs": [
    {
     "name": "stderr",
     "output_type": "stream",
     "text": [
      "2021-11-13 13:24:13.298518: I tensorflow/stream_executor/cuda/cuda_gpu_executor.cc:937] successful NUMA node read from SysFS had negative value (-1), but there must be at least one NUMA node, so returning NUMA node zero\n",
      "2021-11-13 13:24:13.450240: I tensorflow/stream_executor/cuda/cuda_gpu_executor.cc:937] successful NUMA node read from SysFS had negative value (-1), but there must be at least one NUMA node, so returning NUMA node zero\n",
      "2021-11-13 13:24:13.451582: I tensorflow/stream_executor/cuda/cuda_gpu_executor.cc:937] successful NUMA node read from SysFS had negative value (-1), but there must be at least one NUMA node, so returning NUMA node zero\n",
      "2021-11-13 13:24:13.454783: I tensorflow/core/platform/cpu_feature_guard.cc:142] This TensorFlow binary is optimized with oneAPI Deep Neural Network Library (oneDNN) to use the following CPU instructions in performance-critical operations:  AVX2 FMA\n",
      "To enable them in other operations, rebuild TensorFlow with the appropriate compiler flags.\n",
      "2021-11-13 13:24:13.456141: I tensorflow/stream_executor/cuda/cuda_gpu_executor.cc:937] successful NUMA node read from SysFS had negative value (-1), but there must be at least one NUMA node, so returning NUMA node zero\n",
      "2021-11-13 13:24:13.457502: I tensorflow/stream_executor/cuda/cuda_gpu_executor.cc:937] successful NUMA node read from SysFS had negative value (-1), but there must be at least one NUMA node, so returning NUMA node zero\n",
      "2021-11-13 13:24:13.458772: I tensorflow/stream_executor/cuda/cuda_gpu_executor.cc:937] successful NUMA node read from SysFS had negative value (-1), but there must be at least one NUMA node, so returning NUMA node zero\n",
      "2021-11-13 13:24:15.816581: I tensorflow/stream_executor/cuda/cuda_gpu_executor.cc:937] successful NUMA node read from SysFS had negative value (-1), but there must be at least one NUMA node, so returning NUMA node zero\n",
      "2021-11-13 13:24:15.817763: I tensorflow/stream_executor/cuda/cuda_gpu_executor.cc:937] successful NUMA node read from SysFS had negative value (-1), but there must be at least one NUMA node, so returning NUMA node zero\n",
      "2021-11-13 13:24:15.818874: I tensorflow/stream_executor/cuda/cuda_gpu_executor.cc:937] successful NUMA node read from SysFS had negative value (-1), but there must be at least one NUMA node, so returning NUMA node zero\n",
      "2021-11-13 13:24:15.819811: I tensorflow/core/common_runtime/gpu/gpu_device.cc:1510] Created device /job:localhost/replica:0/task:0/device:GPU:0 with 15403 MB memory:  -> device: 0, name: Tesla P100-PCIE-16GB, pci bus id: 0000:00:04.0, compute capability: 6.0\n",
      "/opt/conda/lib/python3.7/site-packages/keras/layers/legacy_rnn/rnn_cell_impl.py:415: UserWarning: `tf.nn.rnn_cell.BasicRNNCell` is deprecated and will be removed in a future version. This class is equivalent as `tf.keras.layers.SimpleRNNCell`, and will be replaced by that in Tensorflow 2.0.\n",
      "  warnings.warn(\"`tf.nn.rnn_cell.BasicRNNCell` is deprecated and will be \"\n",
      "/opt/conda/lib/python3.7/site-packages/keras/engine/base_layer.py:2223: UserWarning: `layer.add_variable` is deprecated and will be removed in a future version. Please use `layer.add_weight` method instead.\n",
      "  warnings.warn('`layer.add_variable` is deprecated and '\n"
     ]
    },
    {
     "name": "stdout",
     "output_type": "stream",
     "text": [
      "embedding: (2, 10, 300)\n",
      "rnn: (2, 10, 300)\n",
      "flatten: (2, 3000)\n"
     ]
    }
   ],
   "source": [
    "import tensorflow as tf\n",
    "\n",
    "class RNNModel:\n",
    "\n",
    "    def __init__(self,\n",
    "        embedding,\n",
    "        em_drop_rate = 0.5,\n",
    "        rnn_units   = 300,\n",
    "        rnn_drop_rate = 0.2):\n",
    "        '''Constructor.\n",
    "        # Parameters:\n",
    "        embedding: Numpy array representing the embedding.\n",
    "        em_drop_rate: Drop rate after the embedding layer.\n",
    "        lstm_units: Size of the internal states of the LSTM cells.\n",
    "        lstm_drop_rate: Drop rate after the lstm layer.\n",
    "        '''\n",
    "        self._embedding      = embedding\n",
    "        self._em_drop_rate   = em_drop_rate\n",
    "        self._rnn_units     = rnn_units\n",
    "        self._rnn_drop_rate = rnn_drop_rate\n",
    "\n",
    "    def __call__(self, input):\n",
    "        self._embedding_tf = self._create_embedding_layer(\n",
    "            self._em_drop_rate, self._embedding, input)\n",
    "\n",
    "        self._rnn_tf = self._create_rnn_layer(\n",
    "            self._rnn_units,\n",
    "            self._rnn_drop_rate,\n",
    "            self._embedding_tf)\n",
    "\n",
    "        self._flatten_tf = self._create_flatten_layer(self._rnn_tf)\n",
    "\n",
    "        return self._flatten_tf\n",
    "\n",
    "    def summary(self):\n",
    "        print(\"embedding: \" + str(self._embedding_tf.shape))\n",
    "        print(\"rnn: \" + str(self._rnn_tf.shape))\n",
    "        print(\"flatten: \" + str(self._flatten_tf.shape))\n",
    "\n",
    "    # this function converts each word from input_x into dense vector of dimension 300 (dimension depending on word2vec)\n",
    "    # embedding  = word_vector\n",
    "    def _create_embedding_layer(self, em_drop_rate, embedding, input_x):\n",
    "        embedding = tf.Variable(initial_value=embedding)\n",
    "\n",
    "        embedded_chars = tf.nn.embedding_lookup(  # lookup word_vector(embedding) by index (input_x)\n",
    "            embedding, tf.cast(input_x, 'int32'))\n",
    "\n",
    "        return tf.nn.dropout(embedded_chars, rate=em_drop_rate)\n",
    "\n",
    "    def _create_rnn_layer(self, rnn_units, rnn_drop_rate, embedding):\n",
    "        rnn_cell = tf.compat.v1.nn.rnn_cell.BasicRNNCell(rnn_units)\n",
    "        sequence = tf.unstack(embedding, axis=1) #embedded input words\n",
    "        \n",
    "        # hs, _, _ are outputs, output_state_fw, output_state_bw respectively\n",
    "        hs, _, _ = tf.compat.v1.nn.static_bidirectional_rnn(rnn_cell, rnn_cell, #forward and backward direction\n",
    "            sequence, #input\n",
    "            dtype=tf.float32)\n",
    "        \n",
    "        hs = tf.stack(\n",
    "            values=hs,\n",
    "            axis=1)\n",
    "        ss = tf.math.reduce_sum(\n",
    "            tf.reshape(hs, shape=[-1, hs.shape[1], 2, rnn_units]),\n",
    "            axis=2\n",
    "        )\n",
    "\n",
    "        return tf.nn.dropout(ss, rate=rnn_drop_rate)\n",
    "\n",
    "    def _create_flatten_layer(self, tensor):\n",
    "        return tf.reshape(tensor, [-1, tensor.shape[1] * tensor.shape[2]])\n",
    "\n",
    "\n",
    "if __name__ == '__main__':\n",
    "    embedding_size  = 300\n",
    "    num_words       = 1000\n",
    "    sentence_length = 10\n",
    "\n",
    "    embedding = [\n",
    "        [float(i) for i in range(embedding_size)] for _ in range(num_words)\n",
    "    ]\n",
    "    data = [\n",
    "        [i     for i in range(sentence_length)],\n",
    "        [i + 1 for i in range(sentence_length)]\n",
    "    ]\n",
    "\n",
    "    model = RNNModel(embedding)\n",
    "    model(data)\n",
    "    model.summary()"
   ]
  },
  {
   "cell_type": "code",
   "execution_count": 22,
   "id": "6f50c110",
   "metadata": {
    "execution": {
     "iopub.execute_input": "2021-11-13T13:24:17.427668Z",
     "iopub.status.busy": "2021-11-13T13:24:17.426642Z",
     "iopub.status.idle": "2021-11-13T13:24:17.994753Z",
     "shell.execute_reply": "2021-11-13T13:24:17.993745Z",
     "shell.execute_reply.started": "2021-11-12T01:31:10.599363Z"
    },
    "id": "b9022754",
    "papermill": {
     "duration": 0.643501,
     "end_time": "2021-11-13T13:24:17.994926",
     "exception": false,
     "start_time": "2021-11-13T13:24:17.351425",
     "status": "completed"
    },
    "tags": []
   },
   "outputs": [],
   "source": [
    "import tensorflow as tf\n",
    "from numba import jit, cuda\n",
    "\n",
    "class Classifier:\n",
    "\n",
    "    def __init__(self, model, input_length, output_length):\n",
    "        '''Constructor.\n",
    "        # Parameters:\n",
    "        input_length: sentence length (max number of words in sentence)\n",
    "        output_length: number of classes of sentiment\n",
    "        '''\n",
    "        self.model = model\n",
    "        self.input_length = input_length\n",
    "        self.output_length = output_length\n",
    "\n",
    "    def compile(self, batch_size=32):\n",
    "        tf.compat.v1.disable_eager_execution()\n",
    "        self._ds_x = tf.compat.v1.placeholder(tf.float32, [None, self.input_length])\n",
    "        self._ds_y = tf.compat.v1.placeholder(tf.float32, [None, self.output_length])\n",
    "\n",
    "        ds = tf.compat.v1.data.Dataset.from_tensor_slices((self._ds_x, self._ds_y))\n",
    "        ds = ds.batch(batch_size)\n",
    "\n",
    "        self._ds_it = ds.make_initializable_iterator()\n",
    "        self._input, self._labels = self._ds_it.get_next()\n",
    "\n",
    "        self._features = self.model(self._input)\n",
    "        self._output = _create_dense_layer(self._features, self.output_length)\n",
    "\n",
    "        self._create_acc_computations()\n",
    "        self._create_backpropagation()\n",
    "\n",
    "        self._session = tf.compat.v1.Session()\n",
    "        self._session.run(tf.compat.v1.global_variables_initializer())\n",
    "        self._session.run(tf.compat.v1.local_variables_initializer())\n",
    "\n",
    "    def _create_acc_computations(self):\n",
    "        self._predictions = tf.argmax(self._output, 1)\n",
    "        labels = tf.argmax(self._labels, 1)\n",
    "        self._accuracy = tf.reduce_mean(\n",
    "            tf.cast(tf.equal(self._predictions, labels), 'float32'))\n",
    "\n",
    "    def _create_backpropagation(self):\n",
    "        losses = tf.compat.v1.nn.softmax_cross_entropy_with_logits_v2(\n",
    "            logits=self._output,\n",
    "            labels=self._labels)\n",
    "        self._loss = tf.reduce_mean(losses)\n",
    "\n",
    "        optimizer = tf.compat.v1.train.AdamOptimizer(0.001)\n",
    "        global_step = tf.Variable(0, name=\"global_step\", trainable=False)\n",
    "        grads_and_vars = optimizer.compute_gradients(self._loss)\n",
    "\n",
    "        self._train_op = optimizer.apply_gradients(\n",
    "            grads_and_vars, global_step=global_step)\n",
    "\n",
    "    def summary(self):\n",
    "        print('input:', self._input.shape)\n",
    "        self.model.summary()\n",
    "        print('output:', self._output.shape)\n",
    "\n",
    "#     @jit(target =\"cuda\")  \n",
    "    def train(self, X_train, y_train, X_eval, y_eval, epochs=20):\n",
    "        import time\n",
    "        start_train = time.time()\n",
    "        losslist = []\n",
    "        acclist = []\n",
    "        val_losslist = []\n",
    "        val_acclist =[]\n",
    "\n",
    "        for e in range(epochs):\n",
    "            start_time = time.time()\n",
    "            loss, acc = self._train(X_train, y_train)\n",
    "            losslist.append(loss)\n",
    "            acclist.append(acc)\n",
    "            duration = time.time() - start_time\n",
    "\n",
    "            val_loss, val_acc = self._eval(X_eval, y_eval)\n",
    "            val_losslist.append(val_loss)\n",
    "            val_acclist.append(val_acc)\n",
    "\n",
    "            output = 'Epoch: {}, loss = {:.4f}, acc = {:.4f}, val_loss = {:.4f}, val_acc = {:.4f}, Time = {:.2f}s'\n",
    "            print(output.format(e + 1, loss, acc, val_loss, val_acc, duration))\n",
    "        \n",
    "        total_duration = time.time() - start_train\n",
    "        return losslist, acclist, val_losslist, val_acclist, total_duration\n",
    "\n",
    "#     @jit(target =\"cuda\")  \n",
    "    def _train(self, X_train, y_train):\n",
    "        import numpy as np\n",
    "\n",
    "        self._session.run(\n",
    "            fetches=self._ds_it.initializer,\n",
    "            feed_dict={\n",
    "                self._ds_x: X_train,\n",
    "                self._ds_y: y_train\n",
    "            })\n",
    "        loss, acc, = [], []\n",
    "        while True:\n",
    "            try:\n",
    "                _, vloss, vacc = self._session.run(\n",
    "                    fetches=[self._train_op, self._loss, self._accuracy])\n",
    "\n",
    "                loss.append(vloss)\n",
    "                acc.append(vacc)\n",
    "            except tf.errors.OutOfRangeError:\n",
    "                break\n",
    "        # endwhile\n",
    "\n",
    "        loss, acc = np.mean(loss), np.mean(acc)\n",
    "        return loss, acc\n",
    "\n",
    "    def _eval(self, X_val, y_val):\n",
    "        self._session.run(\n",
    "            fetches=self._ds_it.initializer,\n",
    "            feed_dict={\n",
    "                self._ds_x: X_val,\n",
    "                self._ds_y: y_val\n",
    "            })\n",
    "\n",
    "        loss, acc, = 0, 0\n",
    "        while True:\n",
    "            try:\n",
    "                l, vloss, vacc = self._session.run(\n",
    "                    fetches=[self._labels, self._loss, self._accuracy])\n",
    "\n",
    "                loss += vloss * len(l)\n",
    "                acc += vacc * len(l)\n",
    "            except tf.errors.OutOfRangeError:\n",
    "                break\n",
    "\n",
    "        return loss / len(X_val), acc / len(X_val)\n",
    "\n",
    "    def predict(self, X):\n",
    "        import numpy as np\n",
    "\n",
    "        self._session.run(self._ds_it.initializer,\n",
    "                         feed_dict={\n",
    "                             self._ds_x: X,\n",
    "                             self._ds_y: np.empty((len(X), self.output_length))\n",
    "                         }\n",
    "                         )\n",
    "\n",
    "        pred = list()\n",
    "        while True:\n",
    "            try:\n",
    "                ppred = self._session.run(tf.nn.softmax(self._output))\n",
    "\n",
    "                pred.extend(map(lambda l: l.tolist(), ppred))\n",
    "            except tf.errors.OutOfRangeError:\n",
    "                break\n",
    "\n",
    "        return pred\n",
    "\n",
    "def _create_dense_layer(x, output_length):\n",
    "    '''Creates a dense layer\n",
    "    '''\n",
    "    input_size = x.shape[1] #.value\n",
    "    W = tf.Variable(\n",
    "        initial_value=tf.random.truncated_normal(\n",
    "            shape=[input_size, output_length],\n",
    "            stddev=0.1))\n",
    "    b = tf.Variable(\n",
    "        initial_value=tf.random.truncated_normal(\n",
    "            shape=[output_length]))\n",
    "\n",
    "    dense = tf.compat.v1.nn.xw_plus_b(x, W, b)\n",
    "\n",
    "    return dense\n",
    "\n",
    "\n",
    "if __name__ == '__main__':\n",
    "    pass"
   ]
  },
  {
   "cell_type": "code",
   "execution_count": 23,
   "id": "83655283",
   "metadata": {
    "execution": {
     "iopub.execute_input": "2021-11-13T13:24:18.083950Z",
     "iopub.status.busy": "2021-11-13T13:24:18.082593Z",
     "iopub.status.idle": "2021-11-13T13:24:43.945552Z",
     "shell.execute_reply": "2021-11-13T13:24:43.944582Z",
     "shell.execute_reply.started": "2021-11-12T01:31:11.162698Z"
    },
    "id": "5d641e4d",
    "outputId": "8c53a9a4-45c0-442b-9413-83cfe8625813",
    "papermill": {
     "duration": 25.911027,
     "end_time": "2021-11-13T13:24:43.945738",
     "exception": false,
     "start_time": "2021-11-13T13:24:18.034711",
     "status": "completed"
    },
    "tags": []
   },
   "outputs": [
    {
     "name": "stderr",
     "output_type": "stream",
     "text": [
      "/opt/conda/lib/python3.7/site-packages/keras/engine/base_layer_v1.py:1684: UserWarning: `layer.add_variable` is deprecated and will be removed in a future version. Please use `layer.add_weight` method instead.\n",
      "  warnings.warn('`layer.add_variable` is deprecated and '\n",
      "2021-11-13 13:24:23.613095: I tensorflow/stream_executor/cuda/cuda_gpu_executor.cc:937] successful NUMA node read from SysFS had negative value (-1), but there must be at least one NUMA node, so returning NUMA node zero\n",
      "2021-11-13 13:24:23.614005: I tensorflow/stream_executor/cuda/cuda_gpu_executor.cc:937] successful NUMA node read from SysFS had negative value (-1), but there must be at least one NUMA node, so returning NUMA node zero\n",
      "2021-11-13 13:24:23.614907: I tensorflow/stream_executor/cuda/cuda_gpu_executor.cc:937] successful NUMA node read from SysFS had negative value (-1), but there must be at least one NUMA node, so returning NUMA node zero\n",
      "2021-11-13 13:24:23.615824: I tensorflow/stream_executor/cuda/cuda_gpu_executor.cc:937] successful NUMA node read from SysFS had negative value (-1), but there must be at least one NUMA node, so returning NUMA node zero\n",
      "2021-11-13 13:24:23.616599: I tensorflow/stream_executor/cuda/cuda_gpu_executor.cc:937] successful NUMA node read from SysFS had negative value (-1), but there must be at least one NUMA node, so returning NUMA node zero\n",
      "2021-11-13 13:24:23.617221: I tensorflow/core/common_runtime/gpu/gpu_device.cc:1510] Created device /job:localhost/replica:0/task:0/device:GPU:0 with 15403 MB memory:  -> device: 0, name: Tesla P100-PCIE-16GB, pci bus id: 0000:00:04.0, compute capability: 6.0\n"
     ]
    },
    {
     "name": "stdout",
     "output_type": "stream",
     "text": [
      "input: (None, 110)\n",
      "embedding: (None, 110, 300)\n",
      "rnn: (None, 110, 300)\n",
      "flatten: (None, 33000)\n",
      "output: (None, 4)\n",
      "Epoch: 1, loss = 12.2235, acc = 0.2883, val_loss = 8.3543, val_acc = 0.2500, Time = 3.37s\n",
      "Epoch: 2, loss = 6.5357, acc = 0.3734, val_loss = 7.3396, val_acc = 0.3191, Time = 0.62s\n",
      "Epoch: 3, loss = 4.7218, acc = 0.4983, val_loss = 6.7426, val_acc = 0.3404, Time = 0.56s\n",
      "Epoch: 4, loss = 3.3487, acc = 0.5834, val_loss = 7.3183, val_acc = 0.3564, Time = 0.55s\n",
      "Epoch: 5, loss = 2.4959, acc = 0.6503, val_loss = 6.7049, val_acc = 0.3351, Time = 0.84s\n",
      "Epoch: 6, loss = 2.1994, acc = 0.6873, val_loss = 7.8960, val_acc = 0.3457, Time = 0.56s\n",
      "Epoch: 7, loss = 1.7385, acc = 0.7298, val_loss = 6.4304, val_acc = 0.3883, Time = 0.57s\n",
      "Epoch: 8, loss = 1.9299, acc = 0.7364, val_loss = 6.5253, val_acc = 0.4362, Time = 0.50s\n",
      "Epoch: 9, loss = 1.1034, acc = 0.8112, val_loss = 7.6422, val_acc = 0.3191, Time = 0.50s\n",
      "Epoch: 10, loss = 0.7669, acc = 0.8549, val_loss = 5.5756, val_acc = 0.4734, Time = 0.56s\n",
      "Epoch: 11, loss = 0.9110, acc = 0.8459, val_loss = 6.1884, val_acc = 0.4574, Time = 0.50s\n",
      "Epoch: 12, loss = 0.9103, acc = 0.8727, val_loss = 6.3500, val_acc = 0.4202, Time = 0.56s\n",
      "Epoch: 13, loss = 0.7016, acc = 0.8481, val_loss = 5.2916, val_acc = 0.4734, Time = 0.55s\n",
      "Epoch: 14, loss = 0.4787, acc = 0.8905, val_loss = 5.7704, val_acc = 0.4787, Time = 0.56s\n",
      "Epoch: 15, loss = 0.4317, acc = 0.8939, val_loss = 6.9925, val_acc = 0.4362, Time = 0.49s\n",
      "Epoch: 16, loss = 0.4964, acc = 0.9073, val_loss = 6.6308, val_acc = 0.4521, Time = 0.52s\n",
      "Epoch: 17, loss = 0.4501, acc = 0.9263, val_loss = 7.3497, val_acc = 0.4628, Time = 0.57s\n",
      "Epoch: 18, loss = 0.4696, acc = 0.9219, val_loss = 6.8883, val_acc = 0.4255, Time = 0.58s\n",
      "Epoch: 19, loss = 0.3763, acc = 0.9241, val_loss = 7.1665, val_acc = 0.3670, Time = 0.50s\n",
      "Epoch: 20, loss = 0.5460, acc = 0.9129, val_loss = 7.2817, val_acc = 0.4521, Time = 0.86s\n",
      "total time taken:  18.631656408309937\n",
      "Predictions: [[2.1745547636975856e-17, 1.0, 1.3694297641254269e-18, 1.5420674203105926e-16], [0.9999998807907104, 1.537421070452183e-07, 1.060305489242186e-12, 9.569048434491731e-14]]\n",
      "Real: [[0. 1. 0. 0.]\n",
      " [1. 0. 0. 0.]]\n"
     ]
    }
   ],
   "source": [
    "import pickle\n",
    "import numpy as np\n",
    "import sys\n",
    "# from fen.classifier import Classifier\n",
    "# from fen.pzhou_tf import ZhouBLSTMCNNModel\n",
    "\n",
    "if __name__ == '__main__':\n",
    "\n",
    "#     (X_train, y_train), (X_eval, y_eval) = (X_train, y_train), (X_test, y_test)\n",
    "\n",
    "    word_vector = word_embeds\n",
    "    word_vector = word_vector.astype('float32')\n",
    "    \n",
    "    sentence_length = X_train[0].shape[0] # sentence length = 37 -- if less than 37, remaining is 0\n",
    "    num_classes = y_train[0].shape[0] # 6 sentiment classes\n",
    "\n",
    "    # tf.debugging.set_log_device_placement(True)\n",
    "    # with tf.device('/device:GPU:0'):\n",
    "    model = RNNModel(embedding=word_vector) #pass in word_vector as lookup table\n",
    "\n",
    "    classifier = Classifier(\n",
    "        model=model,\n",
    "        input_length=sentence_length,\n",
    "        output_length=num_classes)\n",
    "\n",
    "    classifier.compile(batch_size=32)\n",
    "    classifier.summary()\n",
    "    loss, acc, val_loss, val_acc, duration = classifier.train(\n",
    "        X_train=X_train,\n",
    "        y_train=y_train,\n",
    "        X_eval=X_test,\n",
    "        y_eval=y_test,\n",
    "        epochs=20\n",
    "    )\n",
    "\n",
    "    print(\"total time taken: \", duration)\n",
    "    print(\"Predictions:\", classifier.predict(X_train[0:2]))\n",
    "    print(\"Real:\", y_train[0:2])"
   ]
  },
  {
   "cell_type": "code",
   "execution_count": 24,
   "id": "52715c21",
   "metadata": {
    "execution": {
     "iopub.execute_input": "2021-11-13T13:24:44.097296Z",
     "iopub.status.busy": "2021-11-13T13:24:44.096069Z",
     "iopub.status.idle": "2021-11-13T13:24:44.100455Z",
     "shell.execute_reply": "2021-11-13T13:24:44.099874Z",
     "shell.execute_reply.started": "2021-11-12T01:31:37.732733Z"
    },
    "papermill": {
     "duration": 0.056699,
     "end_time": "2021-11-13T13:24:44.100594",
     "exception": false,
     "start_time": "2021-11-13T13:24:44.043895",
     "status": "completed"
    },
    "tags": []
   },
   "outputs": [],
   "source": [
    "### Plot graphs"
   ]
  },
  {
   "cell_type": "code",
   "execution_count": 25,
   "id": "14866f97",
   "metadata": {
    "execution": {
     "iopub.execute_input": "2021-11-13T13:24:44.222142Z",
     "iopub.status.busy": "2021-11-13T13:24:44.210717Z",
     "iopub.status.idle": "2021-11-13T13:24:44.468295Z",
     "shell.execute_reply": "2021-11-13T13:24:44.468929Z",
     "shell.execute_reply.started": "2021-11-12T01:31:37.73481Z"
    },
    "papermill": {
     "duration": 0.320166,
     "end_time": "2021-11-13T13:24:44.469123",
     "exception": false,
     "start_time": "2021-11-13T13:24:44.148957",
     "status": "completed"
    },
    "tags": []
   },
   "outputs": [
    {
     "data": {
      "image/png": "[encoded data removed]",
      "text/plain": [
       "<Figure size 432x288 with 1 Axes>"
      ]
     },
     "metadata": {
      "needs_background": "light"
     },
     "output_type": "display_data"
    }
   ],
   "source": [
    "epochslist = [i for i in range(0,20)]\n",
    "plt.plot(epochslist, loss)\n",
    "plt.title('training loss')\n",
    "plt.xlabel('epochs')\n",
    "plt.ylabel('training loss')\n",
    "plt.show()"
   ]
  },
  {
   "cell_type": "code",
   "execution_count": 26,
   "id": "7fb9305b",
   "metadata": {
    "execution": {
     "iopub.execute_input": "2021-11-13T13:24:44.591532Z",
     "iopub.status.busy": "2021-11-13T13:24:44.581811Z",
     "iopub.status.idle": "2021-11-13T13:24:44.810621Z",
     "shell.execute_reply": "2021-11-13T13:24:44.809917Z",
     "shell.execute_reply.started": "2021-11-12T01:31:37.736739Z"
    },
    "papermill": {
     "duration": 0.292022,
     "end_time": "2021-11-13T13:24:44.810764",
     "exception": false,
     "start_time": "2021-11-13T13:24:44.518742",
     "status": "completed"
    },
    "tags": []
   },
   "outputs": [
    {
     "data": {
      "image/png": "[encoded data removed]",
      "text/plain": [
       "<Figure size 432x288 with 1 Axes>"
      ]
     },
     "metadata": {
      "needs_background": "light"
     },
     "output_type": "display_data"
    }
   ],
   "source": [
    "plt.plot(epochslist, acc)\n",
    "plt.title('training acc')\n",
    "plt.xlabel('epochs')\n",
    "plt.ylabel('training acc')\n",
    "plt.show()"
   ]
  },
  {
   "cell_type": "code",
   "execution_count": 27,
   "id": "9b816079",
   "metadata": {
    "execution": {
     "iopub.execute_input": "2021-11-13T13:24:44.963478Z",
     "iopub.status.busy": "2021-11-13T13:24:44.941429Z",
     "iopub.status.idle": "2021-11-13T13:24:45.159699Z",
     "shell.execute_reply": "2021-11-13T13:24:45.160270Z",
     "shell.execute_reply.started": "2021-11-12T01:31:37.738603Z"
    },
    "papermill": {
     "duration": 0.294679,
     "end_time": "2021-11-13T13:24:45.160487",
     "exception": false,
     "start_time": "2021-11-13T13:24:44.865808",
     "status": "completed"
    },
    "tags": []
   },
   "outputs": [
    {
     "data": {
      "image/png": "[encoded data removed]",
      "text/plain": [
       "<Figure size 432x288 with 1 Axes>"
      ]
     },
     "metadata": {
      "needs_background": "light"
     },
     "output_type": "display_data"
    }
   ],
   "source": [
    "plt.plot(epochslist, val_loss)\n",
    "plt.title('validation loss')\n",
    "plt.xlabel('epochs')\n",
    "plt.ylabel('validation loss')\n",
    "plt.show()"
   ]
  },
  {
   "cell_type": "code",
   "execution_count": 28,
   "id": "8475c2f9",
   "metadata": {
    "execution": {
     "iopub.execute_input": "2021-11-13T13:24:45.270229Z",
     "iopub.status.busy": "2021-11-13T13:24:45.269071Z",
     "iopub.status.idle": "2021-11-13T13:24:45.490353Z",
     "shell.execute_reply": "2021-11-13T13:24:45.490852Z",
     "shell.execute_reply.started": "2021-11-12T01:31:37.740404Z"
    },
    "papermill": {
     "duration": 0.280382,
     "end_time": "2021-11-13T13:24:45.491050",
     "exception": false,
     "start_time": "2021-11-13T13:24:45.210668",
     "status": "completed"
    },
    "tags": []
   },
   "outputs": [
    {
     "data": {
      "image/png": "[encoded data removed]",
      "text/plain": [
       "<Figure size 432x288 with 1 Axes>"
      ]
     },
     "metadata": {
      "needs_background": "light"
     },
     "output_type": "display_data"
    }
   ],
   "source": [
    "plt.plot(epochslist, val_acc)\n",
    "plt.title('validation acc')\n",
    "plt.xlabel('epochs')\n",
    "plt.ylabel('validation acc')\n",
    "plt.show()"
   ]
  },
  {
   "cell_type": "markdown",
   "id": "47a81d92",
   "metadata": {
    "id": "4cf86072",
    "papermill": {
     "duration": 0.050851,
     "end_time": "2021-11-13T13:24:45.592973",
     "exception": false,
     "start_time": "2021-11-13T13:24:45.542122",
     "status": "completed"
    },
    "tags": []
   },
   "source": [
    "### testing"
   ]
  },
  {
   "cell_type": "code",
   "execution_count": 29,
   "id": "002bfcb9",
   "metadata": {
    "execution": {
     "iopub.execute_input": "2021-11-13T13:24:45.704076Z",
     "iopub.status.busy": "2021-11-13T13:24:45.701727Z",
     "iopub.status.idle": "2021-11-13T13:24:45.707308Z",
     "shell.execute_reply": "2021-11-13T13:24:45.706443Z",
     "shell.execute_reply.started": "2021-11-12T01:31:37.742197Z"
    },
    "id": "28711b61",
    "papermill": {
     "duration": 0.063659,
     "end_time": "2021-11-13T13:24:45.707515",
     "exception": false,
     "start_time": "2021-11-13T13:24:45.643856",
     "status": "completed"
    },
    "tags": []
   },
   "outputs": [
    {
     "name": "stdout",
     "output_type": "stream",
     "text": [
      "Num GPUs Available:  1\n"
     ]
    }
   ],
   "source": [
    "import tensorflow as tf\n",
    "print(\"Num GPUs Available: \", len(tf.config.list_physical_devices('GPU')))"
   ]
  },
  {
   "cell_type": "code",
   "execution_count": 30,
   "id": "c8bdf813",
   "metadata": {
    "execution": {
     "iopub.execute_input": "2021-11-13T13:24:45.825547Z",
     "iopub.status.busy": "2021-11-13T13:24:45.823381Z",
     "iopub.status.idle": "2021-11-13T13:24:45.831045Z",
     "shell.execute_reply": "2021-11-13T13:24:45.831949Z",
     "shell.execute_reply.started": "2021-11-12T01:31:37.744001Z"
    },
    "id": "KOEsMV5N1tpq",
    "papermill": {
     "duration": 0.071201,
     "end_time": "2021-11-13T13:24:45.832192",
     "exception": false,
     "start_time": "2021-11-13T13:24:45.760991",
     "status": "completed"
    },
    "tags": []
   },
   "outputs": [
    {
     "name": "stdout",
     "output_type": "stream",
     "text": [
      "Found GPU at: /device:GPU:0\n"
     ]
    },
    {
     "name": "stderr",
     "output_type": "stream",
     "text": [
      "2021-11-13 13:24:45.816928: I tensorflow/stream_executor/cuda/cuda_gpu_executor.cc:937] successful NUMA node read from SysFS had negative value (-1), but there must be at least one NUMA node, so returning NUMA node zero\n",
      "2021-11-13 13:24:45.817585: I tensorflow/stream_executor/cuda/cuda_gpu_executor.cc:937] successful NUMA node read from SysFS had negative value (-1), but there must be at least one NUMA node, so returning NUMA node zero\n",
      "2021-11-13 13:24:45.818006: I tensorflow/stream_executor/cuda/cuda_gpu_executor.cc:937] successful NUMA node read from SysFS had negative value (-1), but there must be at least one NUMA node, so returning NUMA node zero\n",
      "2021-11-13 13:24:45.818585: I tensorflow/stream_executor/cuda/cuda_gpu_executor.cc:937] successful NUMA node read from SysFS had negative value (-1), but there must be at least one NUMA node, so returning NUMA node zero\n",
      "2021-11-13 13:24:45.819005: I tensorflow/stream_executor/cuda/cuda_gpu_executor.cc:937] successful NUMA node read from SysFS had negative value (-1), but there must be at least one NUMA node, so returning NUMA node zero\n",
      "2021-11-13 13:24:45.819350: I tensorflow/core/common_runtime/gpu/gpu_device.cc:1510] Created device /device:GPU:0 with 15403 MB memory:  -> device: 0, name: Tesla P100-PCIE-16GB, pci bus id: 0000:00:04.0, compute capability: 6.0\n"
     ]
    }
   ],
   "source": [
    "device_name = tf.test.gpu_device_name()\n",
    "if device_name != '/device:GPU:0':\n",
    "  raise SystemError('GPU device not found')\n",
    "print('Found GPU at: {}'.format(device_name))"
   ]
  }
 ],
 "metadata": {
  "kernelspec": {
   "display_name": "Python 3",
   "language": "python",
   "name": "python3"
  },
  "language_info": {
   "codemirror_mode": {
    "name": "ipython",
    "version": 3
   },
   "file_extension": ".py",
   "mimetype": "text/x-python",
   "name": "python",
   "nbconvert_exporter": "python",
   "pygments_lexer": "ipython3",
   "version": "3.7.10"
  },
  "papermill": {
   "default_parameters": {},
   "duration": 138.796966,
   "end_time": "2021-11-13T13:24:48.801457",
   "environment_variables": {},
   "exception": null,
   "input_path": "__notebook__.ipynb",
   "output_path": "__notebook__.ipynb",
   "parameters": {},
   "start_time": "2021-11-13T13:22:30.004491",
   "version": "2.3.3"
  }
 },
 "nbformat": 4,
 "nbformat_minor": 5
}
