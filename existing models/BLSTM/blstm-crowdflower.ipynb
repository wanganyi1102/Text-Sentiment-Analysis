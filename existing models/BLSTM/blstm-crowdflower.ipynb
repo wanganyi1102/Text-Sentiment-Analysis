{
 "cells": [
  {
   "cell_type": "code",
   "execution_count": 1,
   "id": "68ca6de8",
   "metadata": {
    "execution": {
     "iopub.execute_input": "2021-11-11T17:20:33.102709Z",
     "iopub.status.busy": "2021-11-11T17:20:33.101572Z",
     "iopub.status.idle": "2021-11-11T17:20:40.914948Z",
     "shell.execute_reply": "2021-11-11T17:20:40.914124Z",
     "shell.execute_reply.started": "2021-11-11T17:16:09.040739Z"
    },
    "id": "e75ddd0a",
    "papermill": {
     "duration": 7.873647,
     "end_time": "2021-11-11T17:20:40.915155",
     "exception": false,
     "start_time": "2021-11-11T17:20:33.041508",
     "status": "completed"
    },
    "tags": []
   },
   "outputs": [],
   "source": [
    "import numpy as np\n",
    "import pandas as pd\n",
    "\n",
    "from gensim import corpora\n",
    "from nltk.corpus import stopwords\n",
    "from nltk.tokenize import word_tokenize \n",
    "from nltk.stem import SnowballStemmer\n",
    "\n",
    "from keras.preprocessing import sequence\n",
    "from keras.utils import np_utils\n",
    "from keras.models import Sequential\n",
    "from keras.layers import Dense, Dropout, Activation, Embedding\n",
    "from keras.layers import LSTM\n",
    "from sklearn import preprocessing\n",
    "from sklearn.metrics import (precision_score, recall_score,\n",
    "                             f1_score, accuracy_score,mean_squared_error,mean_absolute_error)\n",
    "np.random.seed(0)\n",
    "from tensorflow.keras.optimizers import RMSprop\n",
    "from keras import callbacks\n",
    "from keras.callbacks import ModelCheckpoint, EarlyStopping, ReduceLROnPlateau, CSVLogger\n"
   ]
  },
  {
   "cell_type": "markdown",
   "id": "70a6b348",
   "metadata": {
    "id": "07ae1ceb",
    "papermill": {
     "duration": 0.027031,
     "end_time": "2021-11-11T17:20:40.971855",
     "exception": false,
     "start_time": "2021-11-11T17:20:40.944824",
     "status": "completed"
    },
    "tags": []
   },
   "source": [
    "### word2vec"
   ]
  },
  {
   "cell_type": "code",
   "execution_count": 2,
   "id": "955bdc6f",
   "metadata": {
    "execution": {
     "iopub.execute_input": "2021-11-11T17:20:41.034225Z",
     "iopub.status.busy": "2021-11-11T17:20:41.033034Z",
     "iopub.status.idle": "2021-11-11T17:20:41.035404Z",
     "shell.execute_reply": "2021-11-11T17:20:41.036180Z",
     "shell.execute_reply.started": "2021-11-11T17:16:11.079115Z"
    },
    "id": "d10b7218",
    "papermill": {
     "duration": 0.037322,
     "end_time": "2021-11-11T17:20:41.036360",
     "exception": false,
     "start_time": "2021-11-11T17:20:40.999038",
     "status": "completed"
    },
    "tags": []
   },
   "outputs": [],
   "source": [
    "from __future__ import print_function\n",
    "from collections import OrderedDict\n",
    "\n",
    "import time\n",
    "import _pickle as cPickle\n",
    "\n",
    "import urllib\n",
    "import matplotlib.pyplot as plt\n",
    "\n",
    "import os\n",
    "import sys\n",
    "import codecs\n",
    "import re\n",
    "import numpy as np\n",
    "\n",
    "parameters = OrderedDict()\n",
    "parameters['word_dim'] = 300"
   ]
  },
  {
   "cell_type": "code",
   "execution_count": 3,
   "id": "3eacac0f",
   "metadata": {
    "execution": {
     "iopub.execute_input": "2021-11-11T17:20:41.097130Z",
     "iopub.status.busy": "2021-11-11T17:20:41.096354Z",
     "iopub.status.idle": "2021-11-11T17:20:41.295332Z",
     "shell.execute_reply": "2021-11-11T17:20:41.295988Z",
     "shell.execute_reply.started": "2021-11-11T17:16:25.618731Z"
    },
    "id": "1d4efccc",
    "outputId": "a95adc00-e531-4825-eb60-e5521de1d945",
    "papermill": {
     "duration": 0.232712,
     "end_time": "2021-11-11T17:20:41.296195",
     "exception": false,
     "start_time": "2021-11-11T17:20:41.063483",
     "status": "completed"
    },
    "tags": []
   },
   "outputs": [
    {
     "data": {
      "text/html": [
       "<div>\n",
       "<style scoped>\n",
       "    .dataframe tbody tr th:only-of-type {\n",
       "        vertical-align: middle;\n",
       "    }\n",
       "\n",
       "    .dataframe tbody tr th {\n",
       "        vertical-align: top;\n",
       "    }\n",
       "\n",
       "    .dataframe thead th {\n",
       "        text-align: right;\n",
       "    }\n",
       "</style>\n",
       "<table border=\"1\" class=\"dataframe\">\n",
       "  <thead>\n",
       "    <tr style=\"text-align: right;\">\n",
       "      <th></th>\n",
       "      <th>sentiment</th>\n",
       "      <th>content</th>\n",
       "    </tr>\n",
       "  </thead>\n",
       "  <tbody>\n",
       "    <tr>\n",
       "      <th>0</th>\n",
       "      <td>empty</td>\n",
       "      <td>@tiffanylue i know  i was listenin to bad habi...</td>\n",
       "    </tr>\n",
       "    <tr>\n",
       "      <th>1</th>\n",
       "      <td>sadness</td>\n",
       "      <td>Layin n bed with a headache  ughhhh...waitin o...</td>\n",
       "    </tr>\n",
       "    <tr>\n",
       "      <th>2</th>\n",
       "      <td>sadness</td>\n",
       "      <td>Funeral ceremony...gloomy friday...</td>\n",
       "    </tr>\n",
       "    <tr>\n",
       "      <th>3</th>\n",
       "      <td>enthusiasm</td>\n",
       "      <td>wants to hang out with friends SOON!</td>\n",
       "    </tr>\n",
       "    <tr>\n",
       "      <th>4</th>\n",
       "      <td>neutral</td>\n",
       "      <td>@dannycastillo We want to trade with someone w...</td>\n",
       "    </tr>\n",
       "  </tbody>\n",
       "</table>\n",
       "</div>"
      ],
      "text/plain": [
       "    sentiment                                            content\n",
       "0       empty  @tiffanylue i know  i was listenin to bad habi...\n",
       "1     sadness  Layin n bed with a headache  ughhhh...waitin o...\n",
       "2     sadness                Funeral ceremony...gloomy friday...\n",
       "3  enthusiasm               wants to hang out with friends SOON!\n",
       "4     neutral  @dannycastillo We want to trade with someone w..."
      ]
     },
     "execution_count": 3,
     "metadata": {},
     "output_type": "execute_result"
    }
   ],
   "source": [
    "crowdflower = pd.read_csv('../input/crowdflowerdata/text_emotion.csv')\n",
    "crowdflower= crowdflower[['sentiment', 'content']]\n",
    "crowdflower.head()"
   ]
  },
  {
   "cell_type": "code",
   "execution_count": 4,
   "id": "52f9bb00",
   "metadata": {
    "execution": {
     "iopub.execute_input": "2021-11-11T17:20:41.361505Z",
     "iopub.status.busy": "2021-11-11T17:20:41.355203Z",
     "iopub.status.idle": "2021-11-11T17:20:41.414298Z",
     "shell.execute_reply": "2021-11-11T17:20:41.414842Z",
     "shell.execute_reply.started": "2021-11-11T17:16:43.930852Z"
    },
    "id": "f3b30e52",
    "outputId": "3c4a0254-956a-475f-e261-b9d3b348bd94",
    "papermill": {
     "duration": 0.091065,
     "end_time": "2021-11-11T17:20:41.415040",
     "exception": false,
     "start_time": "2021-11-11T17:20:41.323975",
     "status": "completed"
    },
    "tags": []
   },
   "outputs": [
    {
     "data": {
      "text/html": [
       "<div>\n",
       "<style scoped>\n",
       "    .dataframe tbody tr th:only-of-type {\n",
       "        vertical-align: middle;\n",
       "    }\n",
       "\n",
       "    .dataframe tbody tr th {\n",
       "        vertical-align: top;\n",
       "    }\n",
       "\n",
       "    .dataframe thead th {\n",
       "        text-align: right;\n",
       "    }\n",
       "</style>\n",
       "<table border=\"1\" class=\"dataframe\">\n",
       "  <thead>\n",
       "    <tr style=\"text-align: right;\">\n",
       "      <th></th>\n",
       "      <th>sentiment</th>\n",
       "      <th>onehot_sentiment</th>\n",
       "      <th>content</th>\n",
       "    </tr>\n",
       "  </thead>\n",
       "  <tbody>\n",
       "    <tr>\n",
       "      <th>0</th>\n",
       "      <td>empty</td>\n",
       "      <td>[0.0, 0.0, 1.0, 0.0, 0.0, 0.0, 0.0, 0.0, 0.0, ...</td>\n",
       "      <td>@tiffanylue i know  i was listenin to bad habi...</td>\n",
       "    </tr>\n",
       "    <tr>\n",
       "      <th>1</th>\n",
       "      <td>sadness</td>\n",
       "      <td>[0.0, 0.0, 0.0, 0.0, 0.0, 0.0, 0.0, 0.0, 0.0, ...</td>\n",
       "      <td>Layin n bed with a headache  ughhhh...waitin o...</td>\n",
       "    </tr>\n",
       "    <tr>\n",
       "      <th>2</th>\n",
       "      <td>sadness</td>\n",
       "      <td>[0.0, 0.0, 0.0, 0.0, 0.0, 0.0, 0.0, 0.0, 0.0, ...</td>\n",
       "      <td>Funeral ceremony...gloomy friday...</td>\n",
       "    </tr>\n",
       "    <tr>\n",
       "      <th>3</th>\n",
       "      <td>enthusiasm</td>\n",
       "      <td>[0.0, 0.0, 0.0, 1.0, 0.0, 0.0, 0.0, 0.0, 0.0, ...</td>\n",
       "      <td>wants to hang out with friends SOON!</td>\n",
       "    </tr>\n",
       "    <tr>\n",
       "      <th>4</th>\n",
       "      <td>neutral</td>\n",
       "      <td>[0.0, 0.0, 0.0, 0.0, 0.0, 0.0, 0.0, 0.0, 1.0, ...</td>\n",
       "      <td>@dannycastillo We want to trade with someone w...</td>\n",
       "    </tr>\n",
       "    <tr>\n",
       "      <th>...</th>\n",
       "      <td>...</td>\n",
       "      <td>...</td>\n",
       "      <td>...</td>\n",
       "    </tr>\n",
       "    <tr>\n",
       "      <th>39995</th>\n",
       "      <td>neutral</td>\n",
       "      <td>[0.0, 0.0, 0.0, 0.0, 0.0, 0.0, 0.0, 0.0, 1.0, ...</td>\n",
       "      <td>@JohnLloydTaylor</td>\n",
       "    </tr>\n",
       "    <tr>\n",
       "      <th>39996</th>\n",
       "      <td>love</td>\n",
       "      <td>[0.0, 0.0, 0.0, 0.0, 0.0, 0.0, 0.0, 1.0, 0.0, ...</td>\n",
       "      <td>Happy Mothers Day  All my love</td>\n",
       "    </tr>\n",
       "    <tr>\n",
       "      <th>39997</th>\n",
       "      <td>love</td>\n",
       "      <td>[0.0, 0.0, 0.0, 0.0, 0.0, 0.0, 0.0, 1.0, 0.0, ...</td>\n",
       "      <td>Happy Mother's Day to all the mommies out ther...</td>\n",
       "    </tr>\n",
       "    <tr>\n",
       "      <th>39998</th>\n",
       "      <td>happiness</td>\n",
       "      <td>[0.0, 0.0, 0.0, 0.0, 0.0, 1.0, 0.0, 0.0, 0.0, ...</td>\n",
       "      <td>@niariley WASSUP BEAUTIFUL!!! FOLLOW ME!!  PEE...</td>\n",
       "    </tr>\n",
       "    <tr>\n",
       "      <th>39999</th>\n",
       "      <td>love</td>\n",
       "      <td>[0.0, 0.0, 0.0, 0.0, 0.0, 0.0, 0.0, 1.0, 0.0, ...</td>\n",
       "      <td>@mopedronin bullet train from tokyo    the gf ...</td>\n",
       "    </tr>\n",
       "  </tbody>\n",
       "</table>\n",
       "<p>40000 rows × 3 columns</p>\n",
       "</div>"
      ],
      "text/plain": [
       "        sentiment                                   onehot_sentiment  \\\n",
       "0           empty  [0.0, 0.0, 1.0, 0.0, 0.0, 0.0, 0.0, 0.0, 0.0, ...   \n",
       "1         sadness  [0.0, 0.0, 0.0, 0.0, 0.0, 0.0, 0.0, 0.0, 0.0, ...   \n",
       "2         sadness  [0.0, 0.0, 0.0, 0.0, 0.0, 0.0, 0.0, 0.0, 0.0, ...   \n",
       "3      enthusiasm  [0.0, 0.0, 0.0, 1.0, 0.0, 0.0, 0.0, 0.0, 0.0, ...   \n",
       "4         neutral  [0.0, 0.0, 0.0, 0.0, 0.0, 0.0, 0.0, 0.0, 1.0, ...   \n",
       "...           ...                                                ...   \n",
       "39995     neutral  [0.0, 0.0, 0.0, 0.0, 0.0, 0.0, 0.0, 0.0, 1.0, ...   \n",
       "39996        love  [0.0, 0.0, 0.0, 0.0, 0.0, 0.0, 0.0, 1.0, 0.0, ...   \n",
       "39997        love  [0.0, 0.0, 0.0, 0.0, 0.0, 0.0, 0.0, 1.0, 0.0, ...   \n",
       "39998   happiness  [0.0, 0.0, 0.0, 0.0, 0.0, 1.0, 0.0, 0.0, 0.0, ...   \n",
       "39999        love  [0.0, 0.0, 0.0, 0.0, 0.0, 0.0, 0.0, 1.0, 0.0, ...   \n",
       "\n",
       "                                                 content  \n",
       "0      @tiffanylue i know  i was listenin to bad habi...  \n",
       "1      Layin n bed with a headache  ughhhh...waitin o...  \n",
       "2                    Funeral ceremony...gloomy friday...  \n",
       "3                   wants to hang out with friends SOON!  \n",
       "4      @dannycastillo We want to trade with someone w...  \n",
       "...                                                  ...  \n",
       "39995                                   @JohnLloydTaylor  \n",
       "39996                     Happy Mothers Day  All my love  \n",
       "39997  Happy Mother's Day to all the mommies out ther...  \n",
       "39998  @niariley WASSUP BEAUTIFUL!!! FOLLOW ME!!  PEE...  \n",
       "39999  @mopedronin bullet train from tokyo    the gf ...  \n",
       "\n",
       "[40000 rows x 3 columns]"
      ]
     },
     "execution_count": 4,
     "metadata": {},
     "output_type": "execute_result"
    }
   ],
   "source": [
    "## encode sentiment column to onehot\n",
    "from sklearn.preprocessing import OneHotEncoder\n",
    "\n",
    "enc = OneHotEncoder(handle_unknown='ignore')\n",
    "enc.fit(crowdflower['sentiment'].to_numpy().reshape(-1, 1))\n",
    "onehot_sentiment = enc.transform(crowdflower['sentiment'].to_numpy().reshape(-1, 1)).toarray()\n",
    "# onehot_sentiment = onehot_sentiment.reshape((40000, 1, 13))\n",
    "crowdflower.insert(1, \"onehot_sentiment\", list(onehot_sentiment))\n",
    "crowdflower"
   ]
  },
  {
   "cell_type": "markdown",
   "id": "ae6ba8ee",
   "metadata": {
    "id": "8df8ec3d",
    "papermill": {
     "duration": 0.028984,
     "end_time": "2021-11-11T17:20:41.472483",
     "exception": false,
     "start_time": "2021-11-11T17:20:41.443499",
     "status": "completed"
    },
    "tags": []
   },
   "source": [
    "### encode word"
   ]
  },
  {
   "cell_type": "code",
   "execution_count": 5,
   "id": "3fe8164e",
   "metadata": {
    "execution": {
     "iopub.execute_input": "2021-11-11T17:20:41.543239Z",
     "iopub.status.busy": "2021-11-11T17:20:41.542106Z",
     "iopub.status.idle": "2021-11-11T17:20:41.545336Z",
     "shell.execute_reply": "2021-11-11T17:20:41.544712Z",
     "shell.execute_reply.started": "2021-11-11T17:16:55.039356Z"
    },
    "id": "9d02a586",
    "papermill": {
     "duration": 0.044995,
     "end_time": "2021-11-11T17:20:41.545478",
     "exception": false,
     "start_time": "2021-11-11T17:20:41.500483",
     "status": "completed"
    },
    "tags": []
   },
   "outputs": [],
   "source": [
    "def create_dico(item_list):\n",
    "    \"\"\"\n",
    "    Create a dictionary of items from a list of list of items.\n",
    "    (item:count) pairs\n",
    "    \"\"\"\n",
    "    assert type(item_list) is list\n",
    "    dico = {}\n",
    "    for items in item_list:\n",
    "        for item in items:\n",
    "            if item not in dico:\n",
    "                dico[item] = 1\n",
    "            else:\n",
    "                dico[item] += 1\n",
    "    return dico\n",
    "\n",
    "def create_mapping(dico):\n",
    "    \"\"\"\n",
    "    Create a mapping (item to ID / ID to item) from a dictionary.\n",
    "    Items are ordered by decreasing frequency.\n",
    "    \"\"\"\n",
    "    sorted_items = sorted(dico.items(), key=lambda x: (-x[1], x[0]))\n",
    "    id_to_item = {i: v[0] for i, v in enumerate(sorted_items)}\n",
    "    item_to_id = {v: k for k, v in id_to_item.items()}\n",
    "    return item_to_id, id_to_item\n",
    "\n",
    "def word_mapping(sentences, lower):\n",
    "    \"\"\"\n",
    "    Create a dictionary and a mapping of words, sorted by frequency.\n",
    "    \n",
    "    return:\n",
    "    dico: dictionary of (word:frequency) pairs\n",
    "    word_to_id: dictionary of (word, id)\n",
    "    id_to_word: dictionary of (id, word)\n",
    "    \"\"\"\n",
    "    words = [[x.lower() if lower else x[0] for x in s] for s in sentences]\n",
    "    dico = create_dico(words)\n",
    "    dico['<UNK>'] = 10000000 #UNK tag for unknown words\n",
    "    word_to_id, id_to_word = create_mapping(dico)\n",
    "    print(\"Found %i unique words (%i in total)\" % (\n",
    "        len(dico), sum(len(x) for x in words)\n",
    "    ))\n",
    "    return dico, word_to_id, id_to_word"
   ]
  },
  {
   "cell_type": "code",
   "execution_count": 6,
   "id": "f6ced141",
   "metadata": {
    "execution": {
     "iopub.execute_input": "2021-11-11T17:20:41.609816Z",
     "iopub.status.busy": "2021-11-11T17:20:41.608767Z",
     "iopub.status.idle": "2021-11-11T17:20:41.884075Z",
     "shell.execute_reply": "2021-11-11T17:20:41.884626Z",
     "shell.execute_reply.started": "2021-11-11T17:16:57.535248Z"
    },
    "papermill": {
     "duration": 0.310703,
     "end_time": "2021-11-11T17:20:41.884827",
     "exception": false,
     "start_time": "2021-11-11T17:20:41.574124",
     "status": "completed"
    },
    "tags": []
   },
   "outputs": [
    {
     "name": "stdout",
     "output_type": "stream",
     "text": [
      "[nltk_data] Downloading package punkt to /usr/share/nltk_data...\n",
      "[nltk_data]   Package punkt is already up-to-date!\n"
     ]
    },
    {
     "data": {
      "text/plain": [
       "True"
      ]
     },
     "execution_count": 6,
     "metadata": {},
     "output_type": "execute_result"
    }
   ],
   "source": [
    "import nltk\n",
    "nltk.download('punkt')"
   ]
  },
  {
   "cell_type": "code",
   "execution_count": 7,
   "id": "4e627479",
   "metadata": {
    "execution": {
     "iopub.execute_input": "2021-11-11T17:20:41.952072Z",
     "iopub.status.busy": "2021-11-11T17:20:41.951071Z",
     "iopub.status.idle": "2021-11-11T17:20:53.744304Z",
     "shell.execute_reply": "2021-11-11T17:20:53.743277Z",
     "shell.execute_reply.started": "2021-11-11T17:17:55.527697Z"
    },
    "id": "32536d06",
    "papermill": {
     "duration": 11.830493,
     "end_time": "2021-11-11T17:20:53.744469",
     "exception": false,
     "start_time": "2021-11-11T17:20:41.913976",
     "status": "completed"
    },
    "tags": []
   },
   "outputs": [],
   "source": [
    "## tokenising sentences\n",
    "raw_content = crowdflower['content'].to_numpy()\n",
    "\n",
    "processed_docs = []\n",
    "for doc in raw_content:\n",
    "    tokens = word_tokenize(doc)\n",
    "#        filtered = [word for word in tokens if word not in stop_words]\n",
    "#        stemmed = [stemmer.stem(word) for word in filtered]\n",
    "    processed_docs.append(tokens)"
   ]
  },
  {
   "cell_type": "code",
   "execution_count": 8,
   "id": "b2dbfbff",
   "metadata": {
    "execution": {
     "iopub.execute_input": "2021-11-11T17:20:53.832479Z",
     "iopub.status.busy": "2021-11-11T17:20:53.827684Z",
     "iopub.status.idle": "2021-11-11T17:20:54.498109Z",
     "shell.execute_reply": "2021-11-11T17:20:54.498705Z",
     "shell.execute_reply.started": "2021-11-11T17:18:25.433865Z"
    },
    "id": "a2e10b86",
    "outputId": "2055160b-570b-4238-aa1d-05f8d4f2566f",
    "papermill": {
     "duration": 0.724434,
     "end_time": "2021-11-11T17:20:54.498882",
     "exception": false,
     "start_time": "2021-11-11T17:20:53.774448",
     "status": "completed"
    },
    "tags": []
   },
   "outputs": [
    {
     "name": "stdout",
     "output_type": "stream",
     "text": [
      "Found 52746 unique words (654846 in total)\n"
     ]
    }
   ],
   "source": [
    "dico_words,word_to_id,id_to_word = word_mapping(processed_docs, True)"
   ]
  },
  {
   "cell_type": "code",
   "execution_count": 9,
   "id": "9153805a",
   "metadata": {
    "execution": {
     "iopub.execute_input": "2021-11-11T17:20:54.564378Z",
     "iopub.status.busy": "2021-11-11T17:20:54.563227Z",
     "iopub.status.idle": "2021-11-11T17:20:54.565608Z",
     "shell.execute_reply": "2021-11-11T17:20:54.566362Z",
     "shell.execute_reply.started": "2021-11-11T17:18:30.670687Z"
    },
    "id": "03254b00",
    "papermill": {
     "duration": 0.038133,
     "end_time": "2021-11-11T17:20:54.566522",
     "exception": false,
     "start_time": "2021-11-11T17:20:54.528389",
     "status": "completed"
    },
    "tags": []
   },
   "outputs": [],
   "source": [
    "def lower_case(x,lower=False):\n",
    "    if lower:\n",
    "        return x.lower()  \n",
    "    else:\n",
    "        return x"
   ]
  },
  {
   "cell_type": "code",
   "execution_count": 10,
   "id": "720b769e",
   "metadata": {
    "execution": {
     "iopub.execute_input": "2021-11-11T17:20:54.659024Z",
     "iopub.status.busy": "2021-11-11T17:20:54.649002Z",
     "iopub.status.idle": "2021-11-11T17:20:55.248545Z",
     "shell.execute_reply": "2021-11-11T17:20:55.247690Z",
     "shell.execute_reply.started": "2021-11-11T17:18:37.026616Z"
    },
    "id": "022ab1c7",
    "outputId": "21c18dfe-5969-46d3-e795-0f3cbe47e28d",
    "papermill": {
     "duration": 0.653196,
     "end_time": "2021-11-11T17:20:55.248696",
     "exception": false,
     "start_time": "2021-11-11T17:20:54.595500",
     "status": "completed"
    },
    "tags": []
   },
   "outputs": [
    {
     "name": "stdout",
     "output_type": "stream",
     "text": [
      "40000 sentences\n"
     ]
    }
   ],
   "source": [
    "def prepare_dataset(sentences, word_to_id, lower=False):\n",
    "    \"\"\"\n",
    "    Prepare the dataset. Return a list of lists of dictionaries containing:\n",
    "        - word indexes\n",
    "        - word char indexes\n",
    "        - tag indexes\n",
    "    \"\"\"\n",
    "    data = []\n",
    "    for s in sentences:\n",
    "        str_words = [w for w in s]\n",
    "        words = [word_to_id[lower_case(w,lower) if lower_case(w,lower) in word_to_id else '<UNK>']\n",
    "                 for w in str_words]\n",
    "        data.append({\n",
    "            'str_words': str_words, #list of all words in the sentence\n",
    "            'words': words, #list of word index for all words in the sentence\n",
    "        })\n",
    "    return data\n",
    "\n",
    "data = prepare_dataset(\n",
    "    processed_docs, word_to_id, True\n",
    ")\n",
    "\n",
    "print(\"{} sentences\".format(len(data)))"
   ]
  },
  {
   "cell_type": "code",
   "execution_count": 11,
   "id": "97f7ddfe",
   "metadata": {
    "execution": {
     "iopub.execute_input": "2021-11-11T17:20:55.318713Z",
     "iopub.status.busy": "2021-11-11T17:20:55.317961Z",
     "iopub.status.idle": "2021-11-11T17:22:22.554133Z",
     "shell.execute_reply": "2021-11-11T17:22:22.554758Z",
     "shell.execute_reply.started": "2021-11-11T17:18:51.418493Z"
    },
    "id": "7ef648e2",
    "outputId": "a5384b73-b9d6-4bb2-97ec-fc17d86f26b6",
    "papermill": {
     "duration": 87.276406,
     "end_time": "2021-11-11T17:22:22.555014",
     "exception": false,
     "start_time": "2021-11-11T17:20:55.278608",
     "status": "completed"
    },
    "scrolled": true,
    "tags": []
   },
   "outputs": [
    {
     "name": "stdout",
     "output_type": "stream",
     "text": [
      "Loaded 400000 pretrained embeddings.\n"
     ]
    }
   ],
   "source": [
    "all_word_embeds = {}\n",
    "for i, line in enumerate(codecs.open('../input/crowdflowerdata/glove.6B.300d.txt', 'r', 'utf-8')):\n",
    "    s = line.strip().split()\n",
    "    if len(s) == parameters['word_dim'] + 1:\n",
    "        all_word_embeds[s[0]] = np.array([float(i) for i in s[1:]])\n",
    "\n",
    "#Intializing Word Embedding Matrix\n",
    "word_embeds = np.random.uniform(-np.sqrt(0.06), np.sqrt(0.06), (len(word_to_id), parameters['word_dim']))\n",
    "\n",
    "for w in word_to_id:\n",
    "    if w in all_word_embeds:\n",
    "        word_embeds[word_to_id[w]] = all_word_embeds[w]\n",
    "    elif w.lower() in all_word_embeds:\n",
    "        word_embeds[word_to_id[w]] = all_word_embeds[w.lower()]\n",
    "\n",
    "print('Loaded %i pretrained embeddings.' % len(all_word_embeds))"
   ]
  },
  {
   "cell_type": "code",
   "execution_count": 12,
   "id": "03f7ebb1",
   "metadata": {
    "execution": {
     "iopub.execute_input": "2021-11-11T17:22:22.644953Z",
     "iopub.status.busy": "2021-11-11T17:22:22.643792Z",
     "iopub.status.idle": "2021-11-11T17:22:23.179002Z",
     "shell.execute_reply": "2021-11-11T17:22:23.178373Z",
     "shell.execute_reply.started": "2021-11-11T16:35:13.789318Z"
    },
    "id": "8c8e52f8",
    "papermill": {
     "duration": 0.595063,
     "end_time": "2021-11-11T17:22:23.179155",
     "exception": false,
     "start_time": "2021-11-11T17:22:22.584092",
     "status": "completed"
    },
    "tags": []
   },
   "outputs": [],
   "source": [
    "word_indices = [i['words'] for i in data]\n",
    "padded_indices = []\n",
    "for sent in word_indices:\n",
    "    padding_size = 110 - len(sent)\n",
    "    padded = sent + [0 for i in range(padding_size)]\n",
    "    padded_indices.append(padded)"
   ]
  },
  {
   "cell_type": "code",
   "execution_count": 13,
   "id": "ee043757",
   "metadata": {
    "execution": {
     "iopub.execute_input": "2021-11-11T17:22:23.507611Z",
     "iopub.status.busy": "2021-11-11T17:22:23.482938Z",
     "iopub.status.idle": "2021-11-11T17:22:23.519377Z",
     "shell.execute_reply": "2021-11-11T17:22:23.518763Z",
     "shell.execute_reply.started": "2021-11-11T16:35:15.286475Z"
    },
    "id": "c79a5d1e",
    "outputId": "651f4a86-6d0c-4238-8f54-f3366510cc6a",
    "papermill": {
     "duration": 0.310518,
     "end_time": "2021-11-11T17:22:23.519524",
     "exception": false,
     "start_time": "2021-11-11T17:22:23.209006",
     "status": "completed"
    },
    "tags": []
   },
   "outputs": [
    {
     "data": {
      "text/html": [
       "<div>\n",
       "<style scoped>\n",
       "    .dataframe tbody tr th:only-of-type {\n",
       "        vertical-align: middle;\n",
       "    }\n",
       "\n",
       "    .dataframe tbody tr th {\n",
       "        vertical-align: top;\n",
       "    }\n",
       "\n",
       "    .dataframe thead th {\n",
       "        text-align: right;\n",
       "    }\n",
       "</style>\n",
       "<table border=\"1\" class=\"dataframe\">\n",
       "  <thead>\n",
       "    <tr style=\"text-align: right;\">\n",
       "      <th></th>\n",
       "      <th>sentiment</th>\n",
       "      <th>padded_indices</th>\n",
       "      <th>onehot_sentiment</th>\n",
       "      <th>content</th>\n",
       "    </tr>\n",
       "  </thead>\n",
       "  <tbody>\n",
       "    <tr>\n",
       "      <th>0</th>\n",
       "      <td>empty</td>\n",
       "      <td>[4, 48864, 1, 67, 1, 36, 3311, 5, 138, 4779, 8...</td>\n",
       "      <td>[0.0, 0.0, 1.0, 0.0, 0.0, 0.0, 0.0, 0.0, 0.0, ...</td>\n",
       "      <td>@tiffanylue i know  i was listenin to bad habi...</td>\n",
       "    </tr>\n",
       "    <tr>\n",
       "      <th>1</th>\n",
       "      <td>sadness</td>\n",
       "      <td>[12504, 316, 162, 33, 8, 439, 3667, 13, 2272, ...</td>\n",
       "      <td>[0.0, 0.0, 0.0, 0.0, 0.0, 0.0, 0.0, 0.0, 0.0, ...</td>\n",
       "      <td>Layin n bed with a headache  ughhhh...waitin o...</td>\n",
       "    </tr>\n",
       "    <tr>\n",
       "      <th>2</th>\n",
       "      <td>sadness</td>\n",
       "      <td>[2713, 4125, 13, 1714, 246, 13, 0, 0, 0, 0, 0,...</td>\n",
       "      <td>[0.0, 0.0, 0.0, 0.0, 0.0, 0.0, 0.0, 0.0, 0.0, ...</td>\n",
       "      <td>Funeral ceremony...gloomy friday...</td>\n",
       "    </tr>\n",
       "    <tr>\n",
       "      <th>3</th>\n",
       "      <td>enthusiasm</td>\n",
       "      <td>[441, 5, 700, 43, 33, 227, 186, 2, 0, 0, 0, 0,...</td>\n",
       "      <td>[0.0, 0.0, 0.0, 1.0, 0.0, 0.0, 0.0, 0.0, 0.0, ...</td>\n",
       "      <td>wants to hang out with friends SOON!</td>\n",
       "    </tr>\n",
       "    <tr>\n",
       "      <th>4</th>\n",
       "      <td>neutral</td>\n",
       "      <td>[4, 25690, 60, 94, 5, 3407, 33, 264, 184, 116,...</td>\n",
       "      <td>[0.0, 0.0, 0.0, 0.0, 0.0, 0.0, 0.0, 0.0, 1.0, ...</td>\n",
       "      <td>@dannycastillo We want to trade with someone w...</td>\n",
       "    </tr>\n",
       "    <tr>\n",
       "      <th>...</th>\n",
       "      <td>...</td>\n",
       "      <td>...</td>\n",
       "      <td>...</td>\n",
       "      <td>...</td>\n",
       "    </tr>\n",
       "    <tr>\n",
       "      <th>39995</th>\n",
       "      <td>neutral</td>\n",
       "      <td>[4, 6649, 0, 0, 0, 0, 0, 0, 0, 0, 0, 0, 0, 0, ...</td>\n",
       "      <td>[0.0, 0.0, 0.0, 0.0, 0.0, 0.0, 0.0, 0.0, 1.0, ...</td>\n",
       "      <td>@JohnLloydTaylor</td>\n",
       "    </tr>\n",
       "    <tr>\n",
       "      <th>39996</th>\n",
       "      <td>love</td>\n",
       "      <td>[61, 157, 32, 40, 9, 56, 0, 0, 0, 0, 0, 0, 0, ...</td>\n",
       "      <td>[0.0, 0.0, 0.0, 0.0, 0.0, 0.0, 0.0, 1.0, 0.0, ...</td>\n",
       "      <td>Happy Mothers Day  All my love</td>\n",
       "    </tr>\n",
       "    <tr>\n",
       "      <th>39997</th>\n",
       "      <td>love</td>\n",
       "      <td>[61, 141, 18, 32, 5, 40, 6, 1576, 43, 71, 7, 3...</td>\n",
       "      <td>[0.0, 0.0, 0.0, 0.0, 0.0, 0.0, 0.0, 1.0, 0.0, ...</td>\n",
       "      <td>Happy Mother's Day to all the mommies out ther...</td>\n",
       "    </tr>\n",
       "    <tr>\n",
       "      <th>39998</th>\n",
       "      <td>happiness</td>\n",
       "      <td>[4, 8652, 2806, 388, 2, 2, 2, 262, 24, 2, 2, 6...</td>\n",
       "      <td>[0.0, 0.0, 0.0, 0.0, 0.0, 1.0, 0.0, 0.0, 0.0, ...</td>\n",
       "      <td>@niariley WASSUP BEAUTIFUL!!! FOLLOW ME!!  PEE...</td>\n",
       "    </tr>\n",
       "    <tr>\n",
       "      <th>39999</th>\n",
       "      <td>love</td>\n",
       "      <td>[4, 12956, 7641, 1051, 63, 2996, 6, 2716, 12, ...</td>\n",
       "      <td>[0.0, 0.0, 0.0, 0.0, 0.0, 0.0, 0.0, 1.0, 0.0, ...</td>\n",
       "      <td>@mopedronin bullet train from tokyo    the gf ...</td>\n",
       "    </tr>\n",
       "  </tbody>\n",
       "</table>\n",
       "<p>40000 rows × 4 columns</p>\n",
       "</div>"
      ],
      "text/plain": [
       "        sentiment                                     padded_indices  \\\n",
       "0           empty  [4, 48864, 1, 67, 1, 36, 3311, 5, 138, 4779, 8...   \n",
       "1         sadness  [12504, 316, 162, 33, 8, 439, 3667, 13, 2272, ...   \n",
       "2         sadness  [2713, 4125, 13, 1714, 246, 13, 0, 0, 0, 0, 0,...   \n",
       "3      enthusiasm  [441, 5, 700, 43, 33, 227, 186, 2, 0, 0, 0, 0,...   \n",
       "4         neutral  [4, 25690, 60, 94, 5, 3407, 33, 264, 184, 116,...   \n",
       "...           ...                                                ...   \n",
       "39995     neutral  [4, 6649, 0, 0, 0, 0, 0, 0, 0, 0, 0, 0, 0, 0, ...   \n",
       "39996        love  [61, 157, 32, 40, 9, 56, 0, 0, 0, 0, 0, 0, 0, ...   \n",
       "39997        love  [61, 141, 18, 32, 5, 40, 6, 1576, 43, 71, 7, 3...   \n",
       "39998   happiness  [4, 8652, 2806, 388, 2, 2, 2, 262, 24, 2, 2, 6...   \n",
       "39999        love  [4, 12956, 7641, 1051, 63, 2996, 6, 2716, 12, ...   \n",
       "\n",
       "                                        onehot_sentiment  \\\n",
       "0      [0.0, 0.0, 1.0, 0.0, 0.0, 0.0, 0.0, 0.0, 0.0, ...   \n",
       "1      [0.0, 0.0, 0.0, 0.0, 0.0, 0.0, 0.0, 0.0, 0.0, ...   \n",
       "2      [0.0, 0.0, 0.0, 0.0, 0.0, 0.0, 0.0, 0.0, 0.0, ...   \n",
       "3      [0.0, 0.0, 0.0, 1.0, 0.0, 0.0, 0.0, 0.0, 0.0, ...   \n",
       "4      [0.0, 0.0, 0.0, 0.0, 0.0, 0.0, 0.0, 0.0, 1.0, ...   \n",
       "...                                                  ...   \n",
       "39995  [0.0, 0.0, 0.0, 0.0, 0.0, 0.0, 0.0, 0.0, 1.0, ...   \n",
       "39996  [0.0, 0.0, 0.0, 0.0, 0.0, 0.0, 0.0, 1.0, 0.0, ...   \n",
       "39997  [0.0, 0.0, 0.0, 0.0, 0.0, 0.0, 0.0, 1.0, 0.0, ...   \n",
       "39998  [0.0, 0.0, 0.0, 0.0, 0.0, 1.0, 0.0, 0.0, 0.0, ...   \n",
       "39999  [0.0, 0.0, 0.0, 0.0, 0.0, 0.0, 0.0, 1.0, 0.0, ...   \n",
       "\n",
       "                                                 content  \n",
       "0      @tiffanylue i know  i was listenin to bad habi...  \n",
       "1      Layin n bed with a headache  ughhhh...waitin o...  \n",
       "2                    Funeral ceremony...gloomy friday...  \n",
       "3                   wants to hang out with friends SOON!  \n",
       "4      @dannycastillo We want to trade with someone w...  \n",
       "...                                                  ...  \n",
       "39995                                   @JohnLloydTaylor  \n",
       "39996                     Happy Mothers Day  All my love  \n",
       "39997  Happy Mother's Day to all the mommies out ther...  \n",
       "39998  @niariley WASSUP BEAUTIFUL!!! FOLLOW ME!!  PEE...  \n",
       "39999  @mopedronin bullet train from tokyo    the gf ...  \n",
       "\n",
       "[40000 rows x 4 columns]"
      ]
     },
     "execution_count": 13,
     "metadata": {},
     "output_type": "execute_result"
    }
   ],
   "source": [
    "crowdflower.insert(1, \"padded_indices\", list(padded_indices))\n",
    "crowdflower"
   ]
  },
  {
   "cell_type": "code",
   "execution_count": 14,
   "id": "e013a54f",
   "metadata": {
    "execution": {
     "iopub.execute_input": "2021-11-11T17:22:23.592099Z",
     "iopub.status.busy": "2021-11-11T17:22:23.591355Z",
     "iopub.status.idle": "2021-11-11T17:22:23.606131Z",
     "shell.execute_reply": "2021-11-11T17:22:23.605434Z",
     "shell.execute_reply.started": "2021-11-11T16:35:17.692188Z"
    },
    "id": "7c70f61b",
    "outputId": "6fe89a08-31ef-40c1-f88b-fa88f77aea79",
    "papermill": {
     "duration": 0.055832,
     "end_time": "2021-11-11T17:22:23.606335",
     "exception": false,
     "start_time": "2021-11-11T17:22:23.550503",
     "status": "completed"
    },
    "tags": []
   },
   "outputs": [
    {
     "name": "stdout",
     "output_type": "stream",
     "text": [
      "X train:  28000 (28000,)\n",
      "y train:  28000 (28000,)\n",
      "y test:  12000 (12000,)\n"
     ]
    }
   ],
   "source": [
    "from sklearn.model_selection import train_test_split\n",
    "X = crowdflower['padded_indices'].to_numpy()\n",
    "y = crowdflower['onehot_sentiment'].to_numpy()\n",
    "X_train, X_test, y_train, y_test = train_test_split(X, y, test_size=0.3, random_state=42)\n",
    "print(\"X train: \", len(X_train), X_train.shape)\n",
    "print(\"y train: \", len(y_train), y_train.shape)\n",
    "print(\"y test: \", len(y_test), y_test.shape)"
   ]
  },
  {
   "cell_type": "code",
   "execution_count": 15,
   "id": "8ffaab7d",
   "metadata": {
    "execution": {
     "iopub.execute_input": "2021-11-11T17:22:23.734013Z",
     "iopub.status.busy": "2021-11-11T17:22:23.697575Z",
     "iopub.status.idle": "2021-11-11T17:22:24.758394Z",
     "shell.execute_reply": "2021-11-11T17:22:24.760347Z",
     "shell.execute_reply.started": "2021-11-11T16:35:19.777149Z"
    },
    "id": "8e9a7b3d",
    "outputId": "1e58c475-b84c-48ee-d979-2535c512e544",
    "papermill": {
     "duration": 1.12288,
     "end_time": "2021-11-11T17:22:24.761112",
     "exception": false,
     "start_time": "2021-11-11T17:22:23.638232",
     "status": "completed"
    },
    "tags": []
   },
   "outputs": [
    {
     "name": "stdout",
     "output_type": "stream",
     "text": [
      "(28000, 110)\n",
      "(28000, 13)\n",
      "(12000, 110)\n",
      "(12000, 13)\n"
     ]
    }
   ],
   "source": [
    "X_train = np.array([np.array(x) for x in X_train])\n",
    "y_train = np.array([np.array(x) for x in y_train])\n",
    "X_test = np.array([np.array(x) for x in X_test])\n",
    "y_test = np.array([np.array(x) for x in y_test])\n",
    "\n",
    "print(X_train.shape)\n",
    "print(y_train.shape)\n",
    "print(X_test.shape)\n",
    "print(y_test.shape)"
   ]
  },
  {
   "cell_type": "markdown",
   "id": "f0dd436e",
   "metadata": {
    "id": "e9f90c2c",
    "papermill": {
     "duration": 0.052951,
     "end_time": "2021-11-11T17:22:24.873311",
     "exception": false,
     "start_time": "2021-11-11T17:22:24.820360",
     "status": "completed"
    },
    "tags": []
   },
   "source": [
    "### RNN with lstm model"
   ]
  },
  {
   "cell_type": "code",
   "execution_count": 16,
   "id": "51197aa2",
   "metadata": {
    "execution": {
     "iopub.execute_input": "2021-11-11T17:22:24.986488Z",
     "iopub.status.busy": "2021-11-11T17:22:24.985441Z",
     "iopub.status.idle": "2021-11-11T17:22:24.990377Z",
     "shell.execute_reply": "2021-11-11T17:22:24.991336Z",
     "shell.execute_reply.started": "2021-11-11T16:37:28.361512Z"
    },
    "id": "0706cfa6",
    "papermill": {
     "duration": 0.064884,
     "end_time": "2021-11-11T17:22:24.991558",
     "exception": false,
     "start_time": "2021-11-11T17:22:24.926674",
     "status": "completed"
    },
    "tags": []
   },
   "outputs": [],
   "source": [
    "# so that dont have to rerun\n",
    "import tensorflow as tf\n",
    "tf.compat.v1.reset_default_graph()"
   ]
  },
  {
   "cell_type": "code",
   "execution_count": 17,
   "id": "083bf94d",
   "metadata": {
    "execution": {
     "iopub.execute_input": "2021-11-11T17:22:25.106658Z",
     "iopub.status.busy": "2021-11-11T17:22:25.105571Z",
     "iopub.status.idle": "2021-11-11T17:22:29.468671Z",
     "shell.execute_reply": "2021-11-11T17:22:29.468035Z",
     "shell.execute_reply.started": "2021-11-11T16:37:30.404389Z"
    },
    "id": "031cf79f",
    "papermill": {
     "duration": 4.425084,
     "end_time": "2021-11-11T17:22:29.468814",
     "exception": false,
     "start_time": "2021-11-11T17:22:25.043730",
     "status": "completed"
    },
    "tags": []
   },
   "outputs": [
    {
     "name": "stderr",
     "output_type": "stream",
     "text": [
      "2021-11-11 17:22:25.436004: I tensorflow/stream_executor/cuda/cuda_gpu_executor.cc:937] successful NUMA node read from SysFS had negative value (-1), but there must be at least one NUMA node, so returning NUMA node zero\n",
      "2021-11-11 17:22:25.565580: I tensorflow/stream_executor/cuda/cuda_gpu_executor.cc:937] successful NUMA node read from SysFS had negative value (-1), but there must be at least one NUMA node, so returning NUMA node zero\n",
      "2021-11-11 17:22:25.566755: I tensorflow/stream_executor/cuda/cuda_gpu_executor.cc:937] successful NUMA node read from SysFS had negative value (-1), but there must be at least one NUMA node, so returning NUMA node zero\n",
      "2021-11-11 17:22:25.568516: I tensorflow/core/platform/cpu_feature_guard.cc:142] This TensorFlow binary is optimized with oneAPI Deep Neural Network Library (oneDNN) to use the following CPU instructions in performance-critical operations:  AVX2 FMA\n",
      "To enable them in other operations, rebuild TensorFlow with the appropriate compiler flags.\n",
      "2021-11-11 17:22:25.569728: I tensorflow/stream_executor/cuda/cuda_gpu_executor.cc:937] successful NUMA node read from SysFS had negative value (-1), but there must be at least one NUMA node, so returning NUMA node zero\n",
      "2021-11-11 17:22:25.570803: I tensorflow/stream_executor/cuda/cuda_gpu_executor.cc:937] successful NUMA node read from SysFS had negative value (-1), but there must be at least one NUMA node, so returning NUMA node zero\n",
      "2021-11-11 17:22:25.571856: I tensorflow/stream_executor/cuda/cuda_gpu_executor.cc:937] successful NUMA node read from SysFS had negative value (-1), but there must be at least one NUMA node, so returning NUMA node zero\n",
      "2021-11-11 17:22:27.947853: I tensorflow/stream_executor/cuda/cuda_gpu_executor.cc:937] successful NUMA node read from SysFS had negative value (-1), but there must be at least one NUMA node, so returning NUMA node zero\n",
      "2021-11-11 17:22:27.949030: I tensorflow/stream_executor/cuda/cuda_gpu_executor.cc:937] successful NUMA node read from SysFS had negative value (-1), but there must be at least one NUMA node, so returning NUMA node zero\n",
      "2021-11-11 17:22:27.950111: I tensorflow/stream_executor/cuda/cuda_gpu_executor.cc:937] successful NUMA node read from SysFS had negative value (-1), but there must be at least one NUMA node, so returning NUMA node zero\n",
      "2021-11-11 17:22:27.951058: I tensorflow/core/common_runtime/gpu/gpu_device.cc:1510] Created device /job:localhost/replica:0/task:0/device:GPU:0 with 15403 MB memory:  -> device: 0, name: Tesla P100-PCIE-16GB, pci bus id: 0000:00:04.0, compute capability: 6.0\n",
      "/opt/conda/lib/python3.7/site-packages/keras/layers/legacy_rnn/rnn_cell_impl.py:901: UserWarning: `tf.nn.rnn_cell.LSTMCell` is deprecated and will be removed in a future version. This class is equivalent as `tf.keras.layers.LSTMCell`, and will be replaced by that in Tensorflow 2.0.\n",
      "  warnings.warn(\"`tf.nn.rnn_cell.LSTMCell` is deprecated and will be \"\n",
      "/opt/conda/lib/python3.7/site-packages/keras/engine/base_layer.py:2223: UserWarning: `layer.add_variable` is deprecated and will be removed in a future version. Please use `layer.add_weight` method instead.\n",
      "  warnings.warn('`layer.add_variable` is deprecated and '\n"
     ]
    },
    {
     "name": "stdout",
     "output_type": "stream",
     "text": [
      "embedding: (2, 10, 300)\n",
      "rnn: (2, 10, 300)\n",
      "flatten: (2, 3000)\n"
     ]
    }
   ],
   "source": [
    "import tensorflow as tf\n",
    "\n",
    "class RNNModel:\n",
    "\n",
    "    def __init__(self,\n",
    "        embedding,\n",
    "        em_drop_rate = 0.5,\n",
    "        rnn_units   = 300,\n",
    "        rnn_drop_rate = 0.2):\n",
    "        '''Constructor.\n",
    "        # Parameters:\n",
    "        embedding: Numpy array representing the embedding.\n",
    "        em_drop_rate: Drop rate after the embedding layer.\n",
    "        lstm_units: Size of the internal states of the LSTM cells.\n",
    "        lstm_drop_rate: Drop rate after the lstm layer.\n",
    "        '''\n",
    "        self._embedding      = embedding\n",
    "        self._em_drop_rate   = em_drop_rate\n",
    "        self._rnn_units     = rnn_units\n",
    "        self._rnn_drop_rate = rnn_drop_rate\n",
    "\n",
    "    def __call__(self, input):\n",
    "        self._embedding_tf = self._create_embedding_layer(\n",
    "            self._em_drop_rate, self._embedding, input)\n",
    "\n",
    "        self._rnn_tf = self._create_rnn_layer(\n",
    "            self._rnn_units,\n",
    "            self._rnn_drop_rate,\n",
    "            self._embedding_tf)\n",
    "\n",
    "        self._flatten_tf = self._create_flatten_layer(self._rnn_tf)\n",
    "\n",
    "        return self._flatten_tf\n",
    "\n",
    "    def summary(self):\n",
    "        print(\"embedding: \" + str(self._embedding_tf.shape))\n",
    "        print(\"rnn: \" + str(self._rnn_tf.shape))\n",
    "        print(\"flatten: \" + str(self._flatten_tf.shape))\n",
    "\n",
    "    # this function converts each word from input_x into dense vector of dimension 300 (dimension depending on word2vec)\n",
    "    # embedding  = word_vector\n",
    "    def _create_embedding_layer(self, em_drop_rate, embedding, input_x):\n",
    "        embedding = tf.Variable(initial_value=embedding)\n",
    "\n",
    "        embedded_chars = tf.nn.embedding_lookup(  # lookup word_vector(embedding) by index (input_x)\n",
    "            embedding, tf.cast(input_x, 'int32'))\n",
    "\n",
    "        return tf.nn.dropout(embedded_chars, rate=em_drop_rate)\n",
    "\n",
    "    def _create_rnn_layer(self, rnn_units, rnn_drop_rate, embedding):\n",
    "        rnn_cell = tf.compat.v1.nn.rnn_cell.LSTMCell(rnn_units)\n",
    "        sequence = tf.unstack(embedding, axis=1) #embedded input words\n",
    "        \n",
    "        # hs, _, _ are outputs, output_state_fw, output_state_bw respectively\n",
    "        hs, _, _ = tf.compat.v1.nn.static_bidirectional_rnn(rnn_cell, rnn_cell, #forward and backward direction\n",
    "            sequence, #input\n",
    "            dtype=tf.float32)\n",
    "        \n",
    "        hs = tf.stack(\n",
    "            values=hs,\n",
    "            axis=1)\n",
    "        ss = tf.math.reduce_sum(\n",
    "            tf.reshape(hs, shape=[-1, hs.shape[1], 2, rnn_units]),\n",
    "            axis=2\n",
    "        )\n",
    "\n",
    "        return tf.nn.dropout(ss, rate=rnn_drop_rate)\n",
    "\n",
    "    def _create_flatten_layer(self, tensor):\n",
    "        return tf.reshape(tensor, [-1, tensor.shape[1] * tensor.shape[2]])\n",
    "\n",
    "\n",
    "if __name__ == '__main__':\n",
    "    embedding_size  = 300\n",
    "    num_words       = 1000\n",
    "    sentence_length = 10\n",
    "\n",
    "    embedding = [\n",
    "        [float(i) for i in range(embedding_size)] for _ in range(num_words)\n",
    "    ]\n",
    "    data = [\n",
    "        [i     for i in range(sentence_length)],\n",
    "        [i + 1 for i in range(sentence_length)]\n",
    "    ]\n",
    "\n",
    "    model = RNNModel(embedding)\n",
    "    model(data)\n",
    "    model.summary()"
   ]
  },
  {
   "cell_type": "code",
   "execution_count": 18,
   "id": "59511347",
   "metadata": {
    "execution": {
     "iopub.execute_input": "2021-11-11T17:22:29.564018Z",
     "iopub.status.busy": "2021-11-11T17:22:29.558783Z",
     "iopub.status.idle": "2021-11-11T17:22:30.158316Z",
     "shell.execute_reply": "2021-11-11T17:22:30.158944Z",
     "shell.execute_reply.started": "2021-11-11T16:38:22.995510Z"
    },
    "id": "b9022754",
    "papermill": {
     "duration": 0.657826,
     "end_time": "2021-11-11T17:22:30.159214",
     "exception": false,
     "start_time": "2021-11-11T17:22:29.501388",
     "status": "completed"
    },
    "tags": []
   },
   "outputs": [],
   "source": [
    "import tensorflow as tf\n",
    "from numba import jit, cuda\n",
    "\n",
    "class Classifier:\n",
    "\n",
    "    def __init__(self, model, input_length, output_length):\n",
    "        '''Constructor.\n",
    "        # Parameters:\n",
    "        input_length: sentence length (max number of words in sentence)\n",
    "        output_length: number of classes of sentiment\n",
    "        '''\n",
    "        self.model = model\n",
    "        self.input_length = input_length\n",
    "        self.output_length = output_length\n",
    "\n",
    "    def compile(self, batch_size=32):\n",
    "        tf.compat.v1.disable_eager_execution()\n",
    "        self._ds_x = tf.compat.v1.placeholder(tf.float32, [None, self.input_length])\n",
    "        self._ds_y = tf.compat.v1.placeholder(tf.float32, [None, self.output_length])\n",
    "\n",
    "        ds = tf.compat.v1.data.Dataset.from_tensor_slices((self._ds_x, self._ds_y))\n",
    "        ds = ds.batch(batch_size)\n",
    "\n",
    "        self._ds_it = ds.make_initializable_iterator()\n",
    "        self._input, self._labels = self._ds_it.get_next()\n",
    "\n",
    "        self._features = self.model(self._input)\n",
    "        self._output = _create_dense_layer(self._features, self.output_length)\n",
    "\n",
    "        self._create_acc_computations()\n",
    "        self._create_backpropagation()\n",
    "\n",
    "        self._session = tf.compat.v1.Session()\n",
    "        self._session.run(tf.compat.v1.global_variables_initializer())\n",
    "        self._session.run(tf.compat.v1.local_variables_initializer())\n",
    "\n",
    "    def _create_acc_computations(self):\n",
    "        self._predictions = tf.argmax(self._output, 1)\n",
    "        labels = tf.argmax(self._labels, 1)\n",
    "        self._accuracy = tf.reduce_mean(\n",
    "            tf.cast(tf.equal(self._predictions, labels), 'float32'))\n",
    "\n",
    "    def _create_backpropagation(self):\n",
    "        losses = tf.compat.v1.nn.softmax_cross_entropy_with_logits_v2(\n",
    "            logits=self._output,\n",
    "            labels=self._labels)\n",
    "        self._loss = tf.reduce_mean(losses)\n",
    "\n",
    "        optimizer = tf.compat.v1.train.AdamOptimizer(0.001)\n",
    "        global_step = tf.Variable(0, name=\"global_step\", trainable=False)\n",
    "        grads_and_vars = optimizer.compute_gradients(self._loss)\n",
    "\n",
    "        self._train_op = optimizer.apply_gradients(\n",
    "            grads_and_vars, global_step=global_step)\n",
    "\n",
    "    def summary(self):\n",
    "        print('input:', self._input.shape)\n",
    "        self.model.summary()\n",
    "        print('output:', self._output.shape)\n",
    "\n",
    "#     @jit(target =\"cuda\")  \n",
    "    def train(self, X_train, y_train, X_eval, y_eval, epochs=20):\n",
    "        import time\n",
    "        start_train = time.time()\n",
    "        losslist = []\n",
    "        acclist = []\n",
    "        val_losslist = []\n",
    "        val_acclist =[]\n",
    "\n",
    "        for e in range(epochs):\n",
    "            start_time = time.time()\n",
    "            loss, acc = self._train(X_train, y_train)\n",
    "            losslist.append(loss)\n",
    "            acclist.append(acc)\n",
    "            duration = time.time() - start_time\n",
    "\n",
    "            val_loss, val_acc = self._eval(X_eval, y_eval)\n",
    "            val_losslist.append(val_loss)\n",
    "            val_acclist.append(val_acc)\n",
    "\n",
    "            output = 'Epoch: {}, loss = {:.4f}, acc = {:.4f}, val_loss = {:.4f}, val_acc = {:.4f}, Time = {:.2f}s'\n",
    "            print(output.format(e + 1, loss, acc, val_loss, val_acc, duration))\n",
    "        \n",
    "        total_duration = time.time() - start_train\n",
    "        return losslist, acclist, val_losslist, val_acclist, total_duration\n",
    "\n",
    "#     @jit(target =\"cuda\")  \n",
    "    def _train(self, X_train, y_train):\n",
    "        import numpy as np\n",
    "\n",
    "        self._session.run(\n",
    "            fetches=self._ds_it.initializer,\n",
    "            feed_dict={\n",
    "                self._ds_x: X_train,\n",
    "                self._ds_y: y_train\n",
    "            })\n",
    "        loss, acc, = [], []\n",
    "        while True:\n",
    "            try:\n",
    "                _, vloss, vacc = self._session.run(\n",
    "                    fetches=[self._train_op, self._loss, self._accuracy])\n",
    "\n",
    "                loss.append(vloss)\n",
    "                acc.append(vacc)\n",
    "            except tf.errors.OutOfRangeError:\n",
    "                break\n",
    "        # endwhile\n",
    "\n",
    "        loss, acc = np.mean(loss), np.mean(acc)\n",
    "        return loss, acc\n",
    "\n",
    "    def _eval(self, X_val, y_val):\n",
    "        self._session.run(\n",
    "            fetches=self._ds_it.initializer,\n",
    "            feed_dict={\n",
    "                self._ds_x: X_val,\n",
    "                self._ds_y: y_val\n",
    "            })\n",
    "\n",
    "        loss, acc, = 0, 0\n",
    "        while True:\n",
    "            try:\n",
    "                l, vloss, vacc = self._session.run(\n",
    "                    fetches=[self._labels, self._loss, self._accuracy])\n",
    "\n",
    "                loss += vloss * len(l)\n",
    "                acc += vacc * len(l)\n",
    "            except tf.errors.OutOfRangeError:\n",
    "                break\n",
    "\n",
    "        return loss / len(X_val), acc / len(X_val)\n",
    "\n",
    "    def predict(self, X):\n",
    "        import numpy as np\n",
    "\n",
    "        self._session.run(self._ds_it.initializer,\n",
    "                         feed_dict={\n",
    "                             self._ds_x: X,\n",
    "                             self._ds_y: np.empty((len(X), self.output_length))\n",
    "                         }\n",
    "                         )\n",
    "\n",
    "        pred = list()\n",
    "        while True:\n",
    "            try:\n",
    "                ppred = self._session.run(tf.nn.softmax(self._output))\n",
    "\n",
    "                pred.extend(map(lambda l: l.tolist(), ppred))\n",
    "            except tf.errors.OutOfRangeError:\n",
    "                break\n",
    "\n",
    "        return pred\n",
    "\n",
    "def _create_dense_layer(x, output_length):\n",
    "    '''Creates a dense layer\n",
    "    '''\n",
    "    input_size = x.shape[1] #.value\n",
    "    W = tf.Variable(\n",
    "        initial_value=tf.random.truncated_normal(\n",
    "            shape=[input_size, output_length],\n",
    "            stddev=0.1))\n",
    "    b = tf.Variable(\n",
    "        initial_value=tf.random.truncated_normal(\n",
    "            shape=[output_length]))\n",
    "\n",
    "    dense = tf.compat.v1.nn.xw_plus_b(x, W, b)\n",
    "\n",
    "    return dense\n",
    "\n",
    "\n",
    "if __name__ == '__main__':\n",
    "    pass"
   ]
  },
  {
   "cell_type": "code",
   "execution_count": 19,
   "id": "2d566a9d",
   "metadata": {
    "execution": {
     "iopub.execute_input": "2021-11-11T17:22:30.236041Z",
     "iopub.status.busy": "2021-11-11T17:22:30.234821Z",
     "iopub.status.idle": "2021-11-11T17:55:39.571755Z",
     "shell.execute_reply": "2021-11-11T17:55:39.570648Z",
     "shell.execute_reply.started": "2021-11-11T16:39:31.928259Z"
    },
    "id": "5d641e4d",
    "outputId": "8c53a9a4-45c0-442b-9413-83cfe8625813",
    "papermill": {
     "duration": 1989.379154,
     "end_time": "2021-11-11T17:55:39.572024",
     "exception": false,
     "start_time": "2021-11-11T17:22:30.192870",
     "status": "completed"
    },
    "tags": []
   },
   "outputs": [
    {
     "name": "stderr",
     "output_type": "stream",
     "text": [
      "/opt/conda/lib/python3.7/site-packages/keras/engine/base_layer_v1.py:1684: UserWarning: `layer.add_variable` is deprecated and will be removed in a future version. Please use `layer.add_weight` method instead.\n",
      "  warnings.warn('`layer.add_variable` is deprecated and '\n",
      "2021-11-11 17:22:46.708530: I tensorflow/stream_executor/cuda/cuda_gpu_executor.cc:937] successful NUMA node read from SysFS had negative value (-1), but there must be at least one NUMA node, so returning NUMA node zero\n",
      "2021-11-11 17:22:46.709644: I tensorflow/stream_executor/cuda/cuda_gpu_executor.cc:937] successful NUMA node read from SysFS had negative value (-1), but there must be at least one NUMA node, so returning NUMA node zero\n",
      "2021-11-11 17:22:46.710411: I tensorflow/stream_executor/cuda/cuda_gpu_executor.cc:937] successful NUMA node read from SysFS had negative value (-1), but there must be at least one NUMA node, so returning NUMA node zero\n",
      "2021-11-11 17:22:46.711585: I tensorflow/stream_executor/cuda/cuda_gpu_executor.cc:937] successful NUMA node read from SysFS had negative value (-1), but there must be at least one NUMA node, so returning NUMA node zero\n",
      "2021-11-11 17:22:46.712355: I tensorflow/stream_executor/cuda/cuda_gpu_executor.cc:937] successful NUMA node read from SysFS had negative value (-1), but there must be at least one NUMA node, so returning NUMA node zero\n",
      "2021-11-11 17:22:46.713186: I tensorflow/core/common_runtime/gpu/gpu_device.cc:1510] Created device /job:localhost/replica:0/task:0/device:GPU:0 with 15403 MB memory:  -> device: 0, name: Tesla P100-PCIE-16GB, pci bus id: 0000:00:04.0, compute capability: 6.0\n"
     ]
    },
    {
     "name": "stdout",
     "output_type": "stream",
     "text": [
      "input: (None, 110)\n",
      "embedding: (None, 110, 300)\n",
      "rnn: (None, 110, 300)\n",
      "flatten: (None, 33000)\n",
      "output: (None, 13)\n",
      "Epoch: 1, loss = 2.3788, acc = 0.2596, val_loss = 2.0733, val_acc = 0.3081, Time = 98.32s\n",
      "Epoch: 2, loss = 1.8524, acc = 0.3731, val_loss = 2.0498, val_acc = 0.3211, Time = 90.41s\n",
      "Epoch: 3, loss = 1.5380, acc = 0.4841, val_loss = 2.2268, val_acc = 0.2926, Time = 90.65s\n",
      "Epoch: 4, loss = 1.1119, acc = 0.6390, val_loss = 2.6898, val_acc = 0.2677, Time = 89.88s\n",
      "Epoch: 5, loss = 0.7466, acc = 0.7569, val_loss = 3.0453, val_acc = 0.2637, Time = 78.82s\n",
      "Epoch: 6, loss = 0.5243, acc = 0.8291, val_loss = 3.3256, val_acc = 0.2612, Time = 89.81s\n",
      "Epoch: 7, loss = 0.3993, acc = 0.8703, val_loss = 3.6929, val_acc = 0.2479, Time = 79.10s\n",
      "Epoch: 8, loss = 0.3222, acc = 0.8940, val_loss = 3.9394, val_acc = 0.2548, Time = 90.27s\n",
      "Epoch: 9, loss = 0.2590, acc = 0.9165, val_loss = 4.2739, val_acc = 0.2517, Time = 80.25s\n",
      "Epoch: 10, loss = 0.2220, acc = 0.9269, val_loss = 4.5699, val_acc = 0.2567, Time = 80.26s\n",
      "Epoch: 11, loss = 0.1933, acc = 0.9375, val_loss = 4.7269, val_acc = 0.2491, Time = 81.61s\n",
      "Epoch: 12, loss = 0.1763, acc = 0.9423, val_loss = 5.0202, val_acc = 0.2486, Time = 80.31s\n",
      "Epoch: 13, loss = 0.1567, acc = 0.9474, val_loss = 5.2626, val_acc = 0.2462, Time = 79.25s\n",
      "Epoch: 14, loss = 0.1371, acc = 0.9569, val_loss = 5.4299, val_acc = 0.2396, Time = 89.80s\n",
      "Epoch: 15, loss = 0.1321, acc = 0.9566, val_loss = 5.5783, val_acc = 0.2415, Time = 89.52s\n",
      "Epoch: 16, loss = 0.1127, acc = 0.9638, val_loss = 5.8171, val_acc = 0.2451, Time = 88.82s\n",
      "Epoch: 17, loss = 0.1069, acc = 0.9648, val_loss = 5.9960, val_acc = 0.2423, Time = 79.31s\n",
      "Epoch: 18, loss = 0.1038, acc = 0.9682, val_loss = 6.0370, val_acc = 0.2448, Time = 89.05s\n",
      "Epoch: 19, loss = 0.0949, acc = 0.9696, val_loss = 6.2963, val_acc = 0.2427, Time = 79.65s\n",
      "Epoch: 20, loss = 0.0923, acc = 0.9704, val_loss = 6.4994, val_acc = 0.2454, Time = 89.72s\n",
      "total time taken:  1956.8093392848969\n",
      "Predictions: [[8.315566494563394e-16, 1.9634280844515736e-19, 1.710824309021129e-16, 4.4007701806682634e-14, 6.128484869412202e-20, 2.365749086901443e-24, 3.7622188079743796e-14, 1.2132416371854378e-20, 4.869958324863754e-20, 1.5448980365026521e-18, 1.0, 7.607736430785968e-18, 2.3975006182959404e-17], [2.9257135381044463e-08, 0.9520623683929443, 2.3658108361246377e-08, 0.044802743941545486, 2.4233688389330155e-09, 0.001401857822202146, 3.2530165228195074e-09, 2.0619930207743664e-09, 0.0017315002623945475, 1.4426263987843413e-06, 3.870509246439724e-09, 5.858607327567655e-13, 1.9256683747581604e-10]]\n",
      "Real: [[0. 0. 0. 0. 0. 0. 0. 0. 0. 0. 1. 0. 0.]\n",
      " [0. 1. 0. 0. 0. 0. 0. 0. 0. 0. 0. 0. 0.]]\n"
     ]
    }
   ],
   "source": [
    "import pickle\n",
    "import numpy as np\n",
    "import sys\n",
    "# from fen.classifier import Classifier\n",
    "# from fen.pzhou_tf import ZhouBLSTMCNNModel\n",
    "\n",
    "if __name__ == '__main__':\n",
    "\n",
    "#     (X_train, y_train), (X_eval, y_eval) = (X_train, y_train), (X_test, y_test)\n",
    "\n",
    "    word_vector = word_embeds\n",
    "    word_vector = word_vector.astype('float32')\n",
    "    \n",
    "    sentence_length = X_train[0].shape[0] # sentence length = 37 -- if less than 37, remaining is 0\n",
    "    num_classes = y_train[0].shape[0] # 6 sentiment classes\n",
    "\n",
    "    # tf.debugging.set_log_device_placement(True)\n",
    "    # with tf.device('/device:GPU:0'):\n",
    "    model = RNNModel(embedding=word_vector) #pass in word_vector as lookup table\n",
    "\n",
    "    classifier = Classifier(\n",
    "        model=model,\n",
    "        input_length=sentence_length,\n",
    "        output_length=num_classes)\n",
    "\n",
    "    classifier.compile(batch_size=32)\n",
    "    classifier.summary()\n",
    "    loss, acc, val_loss, val_acc, duration = classifier.train(\n",
    "        X_train=X_train,\n",
    "        y_train=y_train,\n",
    "        X_eval=X_test,\n",
    "        y_eval=y_test,\n",
    "        epochs=20\n",
    "    )\n",
    "\n",
    "    print(\"total time taken: \", duration)\n",
    "    print(\"Predictions:\", classifier.predict(X_train[0:2]))\n",
    "    print(\"Real:\", y_train[0:2])"
   ]
  },
  {
   "cell_type": "code",
   "execution_count": 20,
   "id": "e578b1a2",
   "metadata": {
    "execution": {
     "iopub.execute_input": "2021-11-11T17:55:39.659332Z",
     "iopub.status.busy": "2021-11-11T17:55:39.658126Z",
     "iopub.status.idle": "2021-11-11T17:55:39.661094Z",
     "shell.execute_reply": "2021-11-11T17:55:39.660457Z",
     "shell.execute_reply.started": "2021-11-11T16:39:13.416372Z"
    },
    "papermill": {
     "duration": 0.047881,
     "end_time": "2021-11-11T17:55:39.661226",
     "exception": false,
     "start_time": "2021-11-11T17:55:39.613345",
     "status": "completed"
    },
    "tags": []
   },
   "outputs": [],
   "source": [
    "### Plot graphs"
   ]
  },
  {
   "cell_type": "markdown",
   "id": "860a591a",
   "metadata": {
    "papermill": {
     "duration": 0.039691,
     "end_time": "2021-11-11T17:55:39.741160",
     "exception": false,
     "start_time": "2021-11-11T17:55:39.701469",
     "status": "completed"
    },
    "tags": []
   },
   "source": []
  },
  {
   "cell_type": "code",
   "execution_count": 21,
   "id": "49066754",
   "metadata": {
    "execution": {
     "iopub.execute_input": "2021-11-11T17:55:39.847539Z",
     "iopub.status.busy": "2021-11-11T17:55:39.846811Z",
     "iopub.status.idle": "2021-11-11T17:55:40.080521Z",
     "shell.execute_reply": "2021-11-11T17:55:40.079530Z"
    },
    "papermill": {
     "duration": 0.299129,
     "end_time": "2021-11-11T17:55:40.080684",
     "exception": false,
     "start_time": "2021-11-11T17:55:39.781555",
     "status": "completed"
    },
    "tags": []
   },
   "outputs": [
    {
     "data": {
      "image/png": "[encoded data removed]",
      "text/plain": [
       "<Figure size 432x288 with 1 Axes>"
      ]
     },
     "metadata": {
      "needs_background": "light"
     },
     "output_type": "display_data"
    }
   ],
   "source": [
    "epochslist = [i for i in range(0,20)]\n",
    "plt.plot(epochslist, loss)\n",
    "plt.title('training loss')\n",
    "plt.xlabel('epochs')\n",
    "plt.ylabel('training loss')\n",
    "plt.show()"
   ]
  },
  {
   "cell_type": "code",
   "execution_count": 22,
   "id": "f718e89e",
   "metadata": {
    "execution": {
     "iopub.execute_input": "2021-11-11T17:55:40.208355Z",
     "iopub.status.busy": "2021-11-11T17:55:40.186598Z",
     "iopub.status.idle": "2021-11-11T17:55:40.410345Z",
     "shell.execute_reply": "2021-11-11T17:55:40.410963Z"
    },
    "papermill": {
     "duration": 0.289232,
     "end_time": "2021-11-11T17:55:40.411155",
     "exception": false,
     "start_time": "2021-11-11T17:55:40.121923",
     "status": "completed"
    },
    "tags": []
   },
   "outputs": [
    {
     "data": {
      "image/png": "[encoded data removed]",
      "text/plain": [
       "<Figure size 432x288 with 1 Axes>"
      ]
     },
     "metadata": {
      "needs_background": "light"
     },
     "output_type": "display_data"
    }
   ],
   "source": [
    "plt.plot(epochslist, acc)\n",
    "plt.title('training acc')\n",
    "plt.xlabel('epochs')\n",
    "plt.ylabel('training acc')\n",
    "plt.show()"
   ]
  },
  {
   "cell_type": "code",
   "execution_count": 23,
   "id": "2b8e23cc",
   "metadata": {
    "execution": {
     "iopub.execute_input": "2021-11-11T17:55:40.509198Z",
     "iopub.status.busy": "2021-11-11T17:55:40.507834Z",
     "iopub.status.idle": "2021-11-11T17:55:40.727207Z",
     "shell.execute_reply": "2021-11-11T17:55:40.727812Z"
    },
    "papermill": {
     "duration": 0.274061,
     "end_time": "2021-11-11T17:55:40.728073",
     "exception": false,
     "start_time": "2021-11-11T17:55:40.454012",
     "status": "completed"
    },
    "tags": []
   },
   "outputs": [
    {
     "data": {
      "image/png": "[encoded data removed]",
      "text/plain": [
       "<Figure size 432x288 with 1 Axes>"
      ]
     },
     "metadata": {
      "needs_background": "light"
     },
     "output_type": "display_data"
    }
   ],
   "source": [
    "plt.plot(epochslist, val_loss)\n",
    "plt.title('validation loss')\n",
    "plt.xlabel('epochs')\n",
    "plt.ylabel('validation loss')\n",
    "plt.show()"
   ]
  },
  {
   "cell_type": "code",
   "execution_count": 24,
   "id": "8bf129b7",
   "metadata": {
    "execution": {
     "iopub.execute_input": "2021-11-11T17:55:40.820593Z",
     "iopub.status.busy": "2021-11-11T17:55:40.819527Z",
     "iopub.status.idle": "2021-11-11T17:55:41.068057Z",
     "shell.execute_reply": "2021-11-11T17:55:41.067437Z"
    },
    "papermill": {
     "duration": 0.29671,
     "end_time": "2021-11-11T17:55:41.068249",
     "exception": false,
     "start_time": "2021-11-11T17:55:40.771539",
     "status": "completed"
    },
    "tags": []
   },
   "outputs": [
    {
     "data": {
      "image/png": "[encoded data removed]",
      "text/plain": [
       "<Figure size 432x288 with 1 Axes>"
      ]
     },
     "metadata": {
      "needs_background": "light"
     },
     "output_type": "display_data"
    }
   ],
   "source": [
    "plt.plot(epochslist, val_acc)\n",
    "plt.title('validation acc')\n",
    "plt.xlabel('epochs')\n",
    "plt.ylabel('validation acc')\n",
    "plt.show()"
   ]
  },
  {
   "cell_type": "markdown",
   "id": "3e6f9fa3",
   "metadata": {
    "id": "4cf86072",
    "papermill": {
     "duration": 0.04411,
     "end_time": "2021-11-11T17:55:41.156042",
     "exception": false,
     "start_time": "2021-11-11T17:55:41.111932",
     "status": "completed"
    },
    "tags": []
   },
   "source": [
    "### testing"
   ]
  },
  {
   "cell_type": "code",
   "execution_count": 25,
   "id": "8f3225f6",
   "metadata": {
    "execution": {
     "iopub.execute_input": "2021-11-11T17:55:41.251971Z",
     "iopub.status.busy": "2021-11-11T17:55:41.249612Z",
     "iopub.status.idle": "2021-11-11T17:55:41.254705Z",
     "shell.execute_reply": "2021-11-11T17:55:41.254117Z"
    },
    "id": "28711b61",
    "papermill": {
     "duration": 0.055841,
     "end_time": "2021-11-11T17:55:41.254865",
     "exception": false,
     "start_time": "2021-11-11T17:55:41.199024",
     "status": "completed"
    },
    "tags": []
   },
   "outputs": [
    {
     "name": "stdout",
     "output_type": "stream",
     "text": [
      "Num GPUs Available:  1\n"
     ]
    }
   ],
   "source": [
    "import tensorflow as tf\n",
    "print(\"Num GPUs Available: \", len(tf.config.list_physical_devices('GPU')))"
   ]
  },
  {
   "cell_type": "code",
   "execution_count": 26,
   "id": "8a42d89b",
   "metadata": {
    "execution": {
     "iopub.execute_input": "2021-11-11T17:55:41.355687Z",
     "iopub.status.busy": "2021-11-11T17:55:41.354923Z",
     "iopub.status.idle": "2021-11-11T17:55:41.360238Z",
     "shell.execute_reply": "2021-11-11T17:55:41.360800Z"
    },
    "id": "KOEsMV5N1tpq",
    "papermill": {
     "duration": 0.060815,
     "end_time": "2021-11-11T17:55:41.360984",
     "exception": false,
     "start_time": "2021-11-11T17:55:41.300169",
     "status": "completed"
    },
    "tags": []
   },
   "outputs": [
    {
     "name": "stdout",
     "output_type": "stream",
     "text": [
      "Found GPU at: /device:GPU:0\n"
     ]
    },
    {
     "name": "stderr",
     "output_type": "stream",
     "text": [
      "2021-11-11 17:55:41.348237: I tensorflow/stream_executor/cuda/cuda_gpu_executor.cc:937] successful NUMA node read from SysFS had negative value (-1), but there must be at least one NUMA node, so returning NUMA node zero\n",
      "2021-11-11 17:55:41.348841: I tensorflow/stream_executor/cuda/cuda_gpu_executor.cc:937] successful NUMA node read from SysFS had negative value (-1), but there must be at least one NUMA node, so returning NUMA node zero\n",
      "2021-11-11 17:55:41.349339: I tensorflow/stream_executor/cuda/cuda_gpu_executor.cc:937] successful NUMA node read from SysFS had negative value (-1), but there must be at least one NUMA node, so returning NUMA node zero\n",
      "2021-11-11 17:55:41.349900: I tensorflow/stream_executor/cuda/cuda_gpu_executor.cc:937] successful NUMA node read from SysFS had negative value (-1), but there must be at least one NUMA node, so returning NUMA node zero\n",
      "2021-11-11 17:55:41.350360: I tensorflow/stream_executor/cuda/cuda_gpu_executor.cc:937] successful NUMA node read from SysFS had negative value (-1), but there must be at least one NUMA node, so returning NUMA node zero\n",
      "2021-11-11 17:55:41.350718: I tensorflow/core/common_runtime/gpu/gpu_device.cc:1510] Created device /device:GPU:0 with 15403 MB memory:  -> device: 0, name: Tesla P100-PCIE-16GB, pci bus id: 0000:00:04.0, compute capability: 6.0\n"
     ]
    }
   ],
   "source": [
    "device_name = tf.test.gpu_device_name()\n",
    "if device_name != '/device:GPU:0':\n",
    "  raise SystemError('GPU device not found')\n",
    "print('Found GPU at: {}'.format(device_name))"
   ]
  }
 ],
 "metadata": {
  "kernelspec": {
   "display_name": "Python 3",
   "language": "python",
   "name": "python3"
  },
  "language_info": {
   "codemirror_mode": {
    "name": "ipython",
    "version": 3
   },
   "file_extension": ".py",
   "mimetype": "text/x-python",
   "name": "python",
   "nbconvert_exporter": "python",
   "pygments_lexer": "ipython3",
   "version": "3.8.8"
  },
  "papermill": {
   "default_parameters": {},
   "duration": 2121.777198,
   "end_time": "2021-11-11T17:55:45.455779",
   "environment_variables": {},
   "exception": null,
   "input_path": "__notebook__.ipynb",
   "output_path": "__notebook__.ipynb",
   "parameters": {},
   "start_time": "2021-11-11T17:20:23.678581",
   "version": "2.3.3"
  }
 },
 "nbformat": 4,
 "nbformat_minor": 5
}
