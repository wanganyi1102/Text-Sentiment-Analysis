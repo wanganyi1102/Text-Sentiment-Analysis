{
 "cells": [
  {
   "cell_type": "code",
   "execution_count": 1,
   "id": "d9ab2cc5",
   "metadata": {
    "execution": {
     "iopub.execute_input": "2021-11-11T16:40:38.141611Z",
     "iopub.status.busy": "2021-11-11T16:40:38.139977Z",
     "iopub.status.idle": "2021-11-11T16:40:44.276648Z",
     "shell.execute_reply": "2021-11-11T16:40:44.275742Z",
     "shell.execute_reply.started": "2021-11-11T16:30:01.568023Z"
    },
    "id": "e75ddd0a",
    "papermill": {
     "duration": 6.163998,
     "end_time": "2021-11-11T16:40:44.276821",
     "exception": false,
     "start_time": "2021-11-11T16:40:38.112823",
     "status": "completed"
    },
    "tags": []
   },
   "outputs": [],
   "source": [
    "import numpy as np\n",
    "import pandas as pd\n",
    "\n",
    "from gensim import corpora\n",
    "from nltk.corpus import stopwords\n",
    "from nltk.tokenize import word_tokenize \n",
    "from nltk.stem import SnowballStemmer\n",
    "\n",
    "from keras.preprocessing import sequence\n",
    "from keras.utils import np_utils\n",
    "from keras.models import Sequential\n",
    "from keras.layers import Dense, Dropout, Activation, Embedding\n",
    "from keras.layers import LSTM\n",
    "from sklearn import preprocessing\n",
    "from sklearn.metrics import (precision_score, recall_score,\n",
    "                             f1_score, accuracy_score,mean_squared_error,mean_absolute_error)\n",
    "np.random.seed(0)\n",
    "from tensorflow.keras.optimizers import RMSprop\n",
    "from keras import callbacks\n",
    "from keras.callbacks import ModelCheckpoint, EarlyStopping, ReduceLROnPlateau, CSVLogger\n"
   ]
  },
  {
   "cell_type": "markdown",
   "id": "bec41472",
   "metadata": {
    "id": "07ae1ceb",
    "papermill": {
     "duration": 0.019564,
     "end_time": "2021-11-11T16:40:44.318591",
     "exception": false,
     "start_time": "2021-11-11T16:40:44.299027",
     "status": "completed"
    },
    "tags": []
   },
   "source": [
    "### word2vec"
   ]
  },
  {
   "cell_type": "code",
   "execution_count": 2,
   "id": "5c0a6930",
   "metadata": {
    "execution": {
     "iopub.execute_input": "2021-11-11T16:40:44.363178Z",
     "iopub.status.busy": "2021-11-11T16:40:44.362364Z",
     "iopub.status.idle": "2021-11-11T16:40:44.364140Z",
     "shell.execute_reply": "2021-11-11T16:40:44.364579Z",
     "shell.execute_reply.started": "2021-11-11T16:30:04.429922Z"
    },
    "id": "d10b7218",
    "papermill": {
     "duration": 0.026623,
     "end_time": "2021-11-11T16:40:44.364701",
     "exception": false,
     "start_time": "2021-11-11T16:40:44.338078",
     "status": "completed"
    },
    "tags": []
   },
   "outputs": [],
   "source": [
    "from __future__ import print_function\n",
    "from collections import OrderedDict\n",
    "\n",
    "import time\n",
    "import _pickle as cPickle\n",
    "\n",
    "import urllib\n",
    "import matplotlib.pyplot as plt\n",
    "\n",
    "import os\n",
    "import sys\n",
    "import codecs\n",
    "import re\n",
    "import numpy as np\n",
    "\n",
    "parameters = OrderedDict()\n",
    "parameters['word_dim'] = 300"
   ]
  },
  {
   "cell_type": "code",
   "execution_count": 3,
   "id": "c286de47",
   "metadata": {
    "execution": {
     "iopub.execute_input": "2021-11-11T16:40:44.409969Z",
     "iopub.status.busy": "2021-11-11T16:40:44.409245Z",
     "iopub.status.idle": "2021-11-11T16:40:44.571698Z",
     "shell.execute_reply": "2021-11-11T16:40:44.570895Z",
     "shell.execute_reply.started": "2021-11-11T16:30:08.118220Z"
    },
    "id": "1d4efccc",
    "outputId": "a95adc00-e531-4825-eb60-e5521de1d945",
    "papermill": {
     "duration": 0.187688,
     "end_time": "2021-11-11T16:40:44.571832",
     "exception": false,
     "start_time": "2021-11-11T16:40:44.384144",
     "status": "completed"
    },
    "tags": []
   },
   "outputs": [
    {
     "data": {
      "text/html": [
       "<div>\n",
       "<style scoped>\n",
       "    .dataframe tbody tr th:only-of-type {\n",
       "        vertical-align: middle;\n",
       "    }\n",
       "\n",
       "    .dataframe tbody tr th {\n",
       "        vertical-align: top;\n",
       "    }\n",
       "\n",
       "    .dataframe thead th {\n",
       "        text-align: right;\n",
       "    }\n",
       "</style>\n",
       "<table border=\"1\" class=\"dataframe\">\n",
       "  <thead>\n",
       "    <tr style=\"text-align: right;\">\n",
       "      <th></th>\n",
       "      <th>col</th>\n",
       "      <th>senti</th>\n",
       "    </tr>\n",
       "  </thead>\n",
       "  <tbody>\n",
       "    <tr>\n",
       "      <th>0</th>\n",
       "      <td>i didnt feel humiliated</td>\n",
       "      <td>sadness</td>\n",
       "    </tr>\n",
       "    <tr>\n",
       "      <th>1</th>\n",
       "      <td>i can go from feeling so hopeless to so damned...</td>\n",
       "      <td>sadness</td>\n",
       "    </tr>\n",
       "    <tr>\n",
       "      <th>2</th>\n",
       "      <td>im grabbing a minute to post i feel greedy wrong</td>\n",
       "      <td>anger</td>\n",
       "    </tr>\n",
       "    <tr>\n",
       "      <th>3</th>\n",
       "      <td>i am ever feeling nostalgic about the fireplac...</td>\n",
       "      <td>love</td>\n",
       "    </tr>\n",
       "    <tr>\n",
       "      <th>4</th>\n",
       "      <td>i am feeling grouchy</td>\n",
       "      <td>anger</td>\n",
       "    </tr>\n",
       "  </tbody>\n",
       "</table>\n",
       "</div>"
      ],
      "text/plain": [
       "                                                 col    senti\n",
       "0                            i didnt feel humiliated  sadness\n",
       "1  i can go from feeling so hopeless to so damned...  sadness\n",
       "2   im grabbing a minute to post i feel greedy wrong    anger\n",
       "3  i am ever feeling nostalgic about the fireplac...     love\n",
       "4                               i am feeling grouchy    anger"
      ]
     },
     "execution_count": 3,
     "metadata": {},
     "output_type": "execute_result"
    }
   ],
   "source": [
    "traindata = pd.read_csv('../input/newsentimentdata/train.txt', sep=';', engine='python', names=['col', 'senti'])\n",
    "testdata = pd.read_csv('../input/newsentimentdata/test.txt', sep=';', engine='python', names=['col', 'senti'])\n",
    "valdata = pd.read_csv('../input/newsentimentdata/val.txt', sep=';', engine='python', names=['col', 'senti'])\n",
    "datanew = pd.concat([traindata, testdata, valdata])\n",
    "datanew.head()"
   ]
  },
  {
   "cell_type": "code",
   "execution_count": 4,
   "id": "675a2157",
   "metadata": {
    "execution": {
     "iopub.execute_input": "2021-11-11T16:40:44.622014Z",
     "iopub.status.busy": "2021-11-11T16:40:44.621250Z",
     "iopub.status.idle": "2021-11-11T16:40:44.652889Z",
     "shell.execute_reply": "2021-11-11T16:40:44.650841Z",
     "shell.execute_reply.started": "2021-11-11T16:30:40.130792Z"
    },
    "id": "f3b30e52",
    "outputId": "3c4a0254-956a-475f-e261-b9d3b348bd94",
    "papermill": {
     "duration": 0.061138,
     "end_time": "2021-11-11T16:40:44.653281",
     "exception": false,
     "start_time": "2021-11-11T16:40:44.592143",
     "status": "completed"
    },
    "tags": []
   },
   "outputs": [
    {
     "data": {
      "text/html": [
       "<div>\n",
       "<style scoped>\n",
       "    .dataframe tbody tr th:only-of-type {\n",
       "        vertical-align: middle;\n",
       "    }\n",
       "\n",
       "    .dataframe tbody tr th {\n",
       "        vertical-align: top;\n",
       "    }\n",
       "\n",
       "    .dataframe thead th {\n",
       "        text-align: right;\n",
       "    }\n",
       "</style>\n",
       "<table border=\"1\" class=\"dataframe\">\n",
       "  <thead>\n",
       "    <tr style=\"text-align: right;\">\n",
       "      <th></th>\n",
       "      <th>col</th>\n",
       "      <th>onehot_sentiment</th>\n",
       "      <th>senti</th>\n",
       "    </tr>\n",
       "  </thead>\n",
       "  <tbody>\n",
       "    <tr>\n",
       "      <th>0</th>\n",
       "      <td>i didnt feel humiliated</td>\n",
       "      <td>[0.0, 0.0, 0.0, 0.0, 1.0, 0.0]</td>\n",
       "      <td>sadness</td>\n",
       "    </tr>\n",
       "    <tr>\n",
       "      <th>1</th>\n",
       "      <td>i can go from feeling so hopeless to so damned...</td>\n",
       "      <td>[0.0, 0.0, 0.0, 0.0, 1.0, 0.0]</td>\n",
       "      <td>sadness</td>\n",
       "    </tr>\n",
       "    <tr>\n",
       "      <th>2</th>\n",
       "      <td>im grabbing a minute to post i feel greedy wrong</td>\n",
       "      <td>[1.0, 0.0, 0.0, 0.0, 0.0, 0.0]</td>\n",
       "      <td>anger</td>\n",
       "    </tr>\n",
       "    <tr>\n",
       "      <th>3</th>\n",
       "      <td>i am ever feeling nostalgic about the fireplac...</td>\n",
       "      <td>[0.0, 0.0, 0.0, 1.0, 0.0, 0.0]</td>\n",
       "      <td>love</td>\n",
       "    </tr>\n",
       "    <tr>\n",
       "      <th>4</th>\n",
       "      <td>i am feeling grouchy</td>\n",
       "      <td>[1.0, 0.0, 0.0, 0.0, 0.0, 0.0]</td>\n",
       "      <td>anger</td>\n",
       "    </tr>\n",
       "    <tr>\n",
       "      <th>...</th>\n",
       "      <td>...</td>\n",
       "      <td>...</td>\n",
       "      <td>...</td>\n",
       "    </tr>\n",
       "    <tr>\n",
       "      <th>1995</th>\n",
       "      <td>im having ssa examination tomorrow in the morn...</td>\n",
       "      <td>[0.0, 0.0, 0.0, 0.0, 1.0, 0.0]</td>\n",
       "      <td>sadness</td>\n",
       "    </tr>\n",
       "    <tr>\n",
       "      <th>1996</th>\n",
       "      <td>i constantly worry about their fight against n...</td>\n",
       "      <td>[0.0, 0.0, 1.0, 0.0, 0.0, 0.0]</td>\n",
       "      <td>joy</td>\n",
       "    </tr>\n",
       "    <tr>\n",
       "      <th>1997</th>\n",
       "      <td>i feel its important to share this info for th...</td>\n",
       "      <td>[0.0, 0.0, 1.0, 0.0, 0.0, 0.0]</td>\n",
       "      <td>joy</td>\n",
       "    </tr>\n",
       "    <tr>\n",
       "      <th>1998</th>\n",
       "      <td>i truly feel that if you are passionate enough...</td>\n",
       "      <td>[0.0, 0.0, 1.0, 0.0, 0.0, 0.0]</td>\n",
       "      <td>joy</td>\n",
       "    </tr>\n",
       "    <tr>\n",
       "      <th>1999</th>\n",
       "      <td>i feel like i just wanna buy any cute make up ...</td>\n",
       "      <td>[0.0, 0.0, 1.0, 0.0, 0.0, 0.0]</td>\n",
       "      <td>joy</td>\n",
       "    </tr>\n",
       "  </tbody>\n",
       "</table>\n",
       "<p>20000 rows × 3 columns</p>\n",
       "</div>"
      ],
      "text/plain": [
       "                                                    col  \\\n",
       "0                               i didnt feel humiliated   \n",
       "1     i can go from feeling so hopeless to so damned...   \n",
       "2      im grabbing a minute to post i feel greedy wrong   \n",
       "3     i am ever feeling nostalgic about the fireplac...   \n",
       "4                                  i am feeling grouchy   \n",
       "...                                                 ...   \n",
       "1995  im having ssa examination tomorrow in the morn...   \n",
       "1996  i constantly worry about their fight against n...   \n",
       "1997  i feel its important to share this info for th...   \n",
       "1998  i truly feel that if you are passionate enough...   \n",
       "1999  i feel like i just wanna buy any cute make up ...   \n",
       "\n",
       "                    onehot_sentiment    senti  \n",
       "0     [0.0, 0.0, 0.0, 0.0, 1.0, 0.0]  sadness  \n",
       "1     [0.0, 0.0, 0.0, 0.0, 1.0, 0.0]  sadness  \n",
       "2     [1.0, 0.0, 0.0, 0.0, 0.0, 0.0]    anger  \n",
       "3     [0.0, 0.0, 0.0, 1.0, 0.0, 0.0]     love  \n",
       "4     [1.0, 0.0, 0.0, 0.0, 0.0, 0.0]    anger  \n",
       "...                              ...      ...  \n",
       "1995  [0.0, 0.0, 0.0, 0.0, 1.0, 0.0]  sadness  \n",
       "1996  [0.0, 0.0, 1.0, 0.0, 0.0, 0.0]      joy  \n",
       "1997  [0.0, 0.0, 1.0, 0.0, 0.0, 0.0]      joy  \n",
       "1998  [0.0, 0.0, 1.0, 0.0, 0.0, 0.0]      joy  \n",
       "1999  [0.0, 0.0, 1.0, 0.0, 0.0, 0.0]      joy  \n",
       "\n",
       "[20000 rows x 3 columns]"
      ]
     },
     "execution_count": 4,
     "metadata": {},
     "output_type": "execute_result"
    }
   ],
   "source": [
    "## encode sentiment column to onehot\n",
    "from sklearn.preprocessing import OneHotEncoder\n",
    "\n",
    "enc = OneHotEncoder(handle_unknown='ignore')\n",
    "enc.fit(datanew['senti'].to_numpy().reshape(-1, 1))\n",
    "onehot_sentiment = enc.transform(datanew['senti'].to_numpy().reshape(-1, 1)).toarray()\n",
    "# onehot_sentiment = onehot_sentiment.reshape((40000, 1, 13))\n",
    "datanew.insert(1, \"onehot_sentiment\", list(onehot_sentiment))\n",
    "datanew"
   ]
  },
  {
   "cell_type": "markdown",
   "id": "987a3ae7",
   "metadata": {
    "id": "8df8ec3d",
    "papermill": {
     "duration": 0.020235,
     "end_time": "2021-11-11T16:40:44.694582",
     "exception": false,
     "start_time": "2021-11-11T16:40:44.674347",
     "status": "completed"
    },
    "tags": []
   },
   "source": [
    "### encode word"
   ]
  },
  {
   "cell_type": "code",
   "execution_count": 5,
   "id": "26fbb881",
   "metadata": {
    "execution": {
     "iopub.execute_input": "2021-11-11T16:40:44.744676Z",
     "iopub.status.busy": "2021-11-11T16:40:44.742423Z",
     "iopub.status.idle": "2021-11-11T16:40:44.747404Z",
     "shell.execute_reply": "2021-11-11T16:40:44.746941Z",
     "shell.execute_reply.started": "2021-11-11T16:30:43.704233Z"
    },
    "id": "9d02a586",
    "papermill": {
     "duration": 0.032557,
     "end_time": "2021-11-11T16:40:44.747509",
     "exception": false,
     "start_time": "2021-11-11T16:40:44.714952",
     "status": "completed"
    },
    "tags": []
   },
   "outputs": [],
   "source": [
    "def create_dico(item_list):\n",
    "    \"\"\"\n",
    "    Create a dictionary of items from a list of list of items.\n",
    "    (item:count) pairs\n",
    "    \"\"\"\n",
    "    assert type(item_list) is list\n",
    "    dico = {}\n",
    "    for items in item_list:\n",
    "        for item in items:\n",
    "            if item not in dico:\n",
    "                dico[item] = 1\n",
    "            else:\n",
    "                dico[item] += 1\n",
    "    return dico\n",
    "\n",
    "def create_mapping(dico):\n",
    "    \"\"\"\n",
    "    Create a mapping (item to ID / ID to item) from a dictionary.\n",
    "    Items are ordered by decreasing frequency.\n",
    "    \"\"\"\n",
    "    sorted_items = sorted(dico.items(), key=lambda x: (-x[1], x[0]))\n",
    "    id_to_item = {i: v[0] for i, v in enumerate(sorted_items)}\n",
    "    item_to_id = {v: k for k, v in id_to_item.items()}\n",
    "    return item_to_id, id_to_item\n",
    "\n",
    "def word_mapping(sentences, lower):\n",
    "    \"\"\"\n",
    "    Create a dictionary and a mapping of words, sorted by frequency.\n",
    "    \n",
    "    return:\n",
    "    dico: dictionary of (word:frequency) pairs\n",
    "    word_to_id: dictionary of (word, id)\n",
    "    id_to_word: dictionary of (id, word)\n",
    "    \"\"\"\n",
    "    words = [[x.lower() if lower else x[0] for x in s] for s in sentences]\n",
    "    dico = create_dico(words)\n",
    "    dico['<UNK>'] = 10000000 #UNK tag for unknown words\n",
    "    word_to_id, id_to_word = create_mapping(dico)\n",
    "    print(\"Found %i unique words (%i in total)\" % (\n",
    "        len(dico), sum(len(x) for x in words)\n",
    "    ))\n",
    "    return dico, word_to_id, id_to_word"
   ]
  },
  {
   "cell_type": "code",
   "execution_count": 6,
   "id": "f2b03852",
   "metadata": {
    "execution": {
     "iopub.execute_input": "2021-11-11T16:40:44.799044Z",
     "iopub.status.busy": "2021-11-11T16:40:44.798449Z",
     "iopub.status.idle": "2021-11-11T16:40:44.935011Z",
     "shell.execute_reply": "2021-11-11T16:40:44.934528Z",
     "shell.execute_reply.started": "2021-11-11T16:31:00.377270Z"
    },
    "papermill": {
     "duration": 0.167026,
     "end_time": "2021-11-11T16:40:44.935131",
     "exception": false,
     "start_time": "2021-11-11T16:40:44.768105",
     "status": "completed"
    },
    "tags": []
   },
   "outputs": [
    {
     "name": "stdout",
     "output_type": "stream",
     "text": [
      "[nltk_data] Downloading package punkt to /usr/share/nltk_data...\n",
      "[nltk_data]   Package punkt is already up-to-date!\n"
     ]
    },
    {
     "data": {
      "text/plain": [
       "True"
      ]
     },
     "execution_count": 6,
     "metadata": {},
     "output_type": "execute_result"
    }
   ],
   "source": [
    "import nltk\n",
    "nltk.download('punkt')"
   ]
  },
  {
   "cell_type": "code",
   "execution_count": 7,
   "id": "0121b311",
   "metadata": {
    "execution": {
     "iopub.execute_input": "2021-11-11T16:40:44.982743Z",
     "iopub.status.busy": "2021-11-11T16:40:44.982025Z",
     "iopub.status.idle": "2021-11-11T16:40:48.895182Z",
     "shell.execute_reply": "2021-11-11T16:40:48.895781Z",
     "shell.execute_reply.started": "2021-11-11T16:31:07.148764Z"
    },
    "id": "32536d06",
    "papermill": {
     "duration": 3.939536,
     "end_time": "2021-11-11T16:40:48.895952",
     "exception": false,
     "start_time": "2021-11-11T16:40:44.956416",
     "status": "completed"
    },
    "tags": []
   },
   "outputs": [],
   "source": [
    "## tokenising sentences\n",
    "raw_content = datanew['col'].to_numpy()\n",
    "\n",
    "processed_docs = []\n",
    "for doc in raw_content:\n",
    "    tokens = word_tokenize(doc)\n",
    "#        filtered = [word for word in tokens if word not in stop_words]\n",
    "#        stemmed = [stemmer.stem(word) for word in filtered]\n",
    "    processed_docs.append(tokens)"
   ]
  },
  {
   "cell_type": "code",
   "execution_count": 8,
   "id": "92eb6a43",
   "metadata": {
    "execution": {
     "iopub.execute_input": "2021-11-11T16:40:48.974298Z",
     "iopub.status.busy": "2021-11-11T16:40:48.968825Z",
     "iopub.status.idle": "2021-11-11T16:40:49.133897Z",
     "shell.execute_reply": "2021-11-11T16:40:49.134517Z",
     "shell.execute_reply.started": "2021-11-11T16:31:13.181698Z"
    },
    "id": "a2e10b86",
    "outputId": "2055160b-570b-4238-aa1d-05f8d4f2566f",
    "papermill": {
     "duration": 0.217055,
     "end_time": "2021-11-11T16:40:49.134710",
     "exception": false,
     "start_time": "2021-11-11T16:40:48.917655",
     "status": "completed"
    },
    "tags": []
   },
   "outputs": [
    {
     "name": "stdout",
     "output_type": "stream",
     "text": [
      "Found 17095 unique words (382881 in total)\n"
     ]
    }
   ],
   "source": [
    "dico_words,word_to_id,id_to_word = word_mapping(processed_docs, True)"
   ]
  },
  {
   "cell_type": "code",
   "execution_count": 9,
   "id": "5d349043",
   "metadata": {
    "execution": {
     "iopub.execute_input": "2021-11-11T16:40:49.182642Z",
     "iopub.status.busy": "2021-11-11T16:40:49.181136Z",
     "iopub.status.idle": "2021-11-11T16:40:49.185336Z",
     "shell.execute_reply": "2021-11-11T16:40:49.184916Z",
     "shell.execute_reply.started": "2021-11-11T16:31:14.825713Z"
    },
    "id": "03254b00",
    "papermill": {
     "duration": 0.028404,
     "end_time": "2021-11-11T16:40:49.185451",
     "exception": false,
     "start_time": "2021-11-11T16:40:49.157047",
     "status": "completed"
    },
    "tags": []
   },
   "outputs": [],
   "source": [
    "def lower_case(x,lower=False):\n",
    "    if lower:\n",
    "        return x.lower()  \n",
    "    else:\n",
    "        return x"
   ]
  },
  {
   "cell_type": "code",
   "execution_count": 10,
   "id": "1bbbf615",
   "metadata": {
    "execution": {
     "iopub.execute_input": "2021-11-11T16:40:49.256038Z",
     "iopub.status.busy": "2021-11-11T16:40:49.240898Z",
     "iopub.status.idle": "2021-11-11T16:40:49.672517Z",
     "shell.execute_reply": "2021-11-11T16:40:49.673172Z",
     "shell.execute_reply.started": "2021-11-11T16:31:22.813329Z"
    },
    "id": "022ab1c7",
    "outputId": "21c18dfe-5969-46d3-e795-0f3cbe47e28d",
    "papermill": {
     "duration": 0.466651,
     "end_time": "2021-11-11T16:40:49.673405",
     "exception": false,
     "start_time": "2021-11-11T16:40:49.206754",
     "status": "completed"
    },
    "tags": []
   },
   "outputs": [
    {
     "name": "stdout",
     "output_type": "stream",
     "text": [
      "20000 sentences\n"
     ]
    }
   ],
   "source": [
    "def prepare_dataset(sentences, word_to_id, lower=False):\n",
    "    \"\"\"\n",
    "    Prepare the dataset. Return a list of lists of dictionaries containing:\n",
    "        - word indexes\n",
    "        - word char indexes\n",
    "        - tag indexes\n",
    "    \"\"\"\n",
    "    data = []\n",
    "    for s in sentences:\n",
    "        str_words = [w for w in s]\n",
    "        words = [word_to_id[lower_case(w,lower) if lower_case(w,lower) in word_to_id else '<UNK>']\n",
    "                 for w in str_words]\n",
    "        data.append({\n",
    "            'str_words': str_words, #list of all words in the sentence\n",
    "            'words': words, #list of word index for all words in the sentence\n",
    "        })\n",
    "    return data\n",
    "\n",
    "data = prepare_dataset(\n",
    "    processed_docs, word_to_id, True\n",
    ")\n",
    "\n",
    "print(\"{} sentences\".format(len(data)))"
   ]
  },
  {
   "cell_type": "code",
   "execution_count": 11,
   "id": "b1e5cda6",
   "metadata": {
    "execution": {
     "iopub.execute_input": "2021-11-11T16:40:49.725044Z",
     "iopub.status.busy": "2021-11-11T16:40:49.724522Z",
     "iopub.status.idle": "2021-11-11T16:41:59.331447Z",
     "shell.execute_reply": "2021-11-11T16:41:59.332090Z",
     "shell.execute_reply.started": "2021-11-11T16:31:44.749232Z"
    },
    "id": "7ef648e2",
    "outputId": "a5384b73-b9d6-4bb2-97ec-fc17d86f26b6",
    "papermill": {
     "duration": 69.636219,
     "end_time": "2021-11-11T16:41:59.332285",
     "exception": false,
     "start_time": "2021-11-11T16:40:49.696066",
     "status": "completed"
    },
    "scrolled": true,
    "tags": []
   },
   "outputs": [
    {
     "name": "stdout",
     "output_type": "stream",
     "text": [
      "Loaded 400000 pretrained embeddings.\n"
     ]
    }
   ],
   "source": [
    "all_word_embeds = {}\n",
    "for i, line in enumerate(codecs.open('../input/newsentimentdata/glove.6B.300d.txt', 'r', 'utf-8')):\n",
    "    s = line.strip().split()\n",
    "    if len(s) == parameters['word_dim'] + 1:\n",
    "        all_word_embeds[s[0]] = np.array([float(i) for i in s[1:]])\n",
    "\n",
    "#Intializing Word Embedding Matrix\n",
    "word_embeds = np.random.uniform(-np.sqrt(0.06), np.sqrt(0.06), (len(word_to_id), parameters['word_dim']))\n",
    "\n",
    "for w in word_to_id:\n",
    "    if w in all_word_embeds:\n",
    "        word_embeds[word_to_id[w]] = all_word_embeds[w]\n",
    "    elif w.lower() in all_word_embeds:\n",
    "        word_embeds[word_to_id[w]] = all_word_embeds[w.lower()]\n",
    "\n",
    "print('Loaded %i pretrained embeddings.' % len(all_word_embeds))"
   ]
  },
  {
   "cell_type": "code",
   "execution_count": 12,
   "id": "a5c6e75d",
   "metadata": {
    "execution": {
     "iopub.execute_input": "2021-11-11T16:41:59.443240Z",
     "iopub.status.busy": "2021-11-11T16:41:59.432602Z",
     "iopub.status.idle": "2021-11-11T16:41:59.603986Z",
     "shell.execute_reply": "2021-11-11T16:41:59.604822Z",
     "shell.execute_reply.started": "2021-11-11T16:35:13.789318Z"
    },
    "id": "8c8e52f8",
    "papermill": {
     "duration": 0.235548,
     "end_time": "2021-11-11T16:41:59.605052",
     "exception": false,
     "start_time": "2021-11-11T16:41:59.369504",
     "status": "completed"
    },
    "tags": []
   },
   "outputs": [],
   "source": [
    "word_indices = [i['words'] for i in data]\n",
    "padded_indices = []\n",
    "for sent in word_indices:\n",
    "    padding_size = 110 - len(sent)\n",
    "    padded = sent + [0 for i in range(padding_size)]\n",
    "    padded_indices.append(padded)"
   ]
  },
  {
   "cell_type": "code",
   "execution_count": 13,
   "id": "77da5ac8",
   "metadata": {
    "execution": {
     "iopub.execute_input": "2021-11-11T16:41:59.699103Z",
     "iopub.status.busy": "2021-11-11T16:41:59.698334Z",
     "iopub.status.idle": "2021-11-11T16:41:59.918806Z",
     "shell.execute_reply": "2021-11-11T16:41:59.919859Z",
     "shell.execute_reply.started": "2021-11-11T16:35:15.286475Z"
    },
    "id": "c79a5d1e",
    "outputId": "651f4a86-6d0c-4238-8f54-f3366510cc6a",
    "papermill": {
     "duration": 0.269894,
     "end_time": "2021-11-11T16:41:59.920068",
     "exception": false,
     "start_time": "2021-11-11T16:41:59.650174",
     "status": "completed"
    },
    "tags": []
   },
   "outputs": [
    {
     "data": {
      "text/html": [
       "<div>\n",
       "<style scoped>\n",
       "    .dataframe tbody tr th:only-of-type {\n",
       "        vertical-align: middle;\n",
       "    }\n",
       "\n",
       "    .dataframe tbody tr th {\n",
       "        vertical-align: top;\n",
       "    }\n",
       "\n",
       "    .dataframe thead th {\n",
       "        text-align: right;\n",
       "    }\n",
       "</style>\n",
       "<table border=\"1\" class=\"dataframe\">\n",
       "  <thead>\n",
       "    <tr style=\"text-align: right;\">\n",
       "      <th></th>\n",
       "      <th>col</th>\n",
       "      <th>padded_indices</th>\n",
       "      <th>onehot_sentiment</th>\n",
       "      <th>senti</th>\n",
       "    </tr>\n",
       "  </thead>\n",
       "  <tbody>\n",
       "    <tr>\n",
       "      <th>0</th>\n",
       "      <td>i didnt feel humiliated</td>\n",
       "      <td>[1, 138, 2, 633, 0, 0, 0, 0, 0, 0, 0, 0, 0, 0,...</td>\n",
       "      <td>[0.0, 0.0, 0.0, 0.0, 1.0, 0.0]</td>\n",
       "      <td>sadness</td>\n",
       "    </tr>\n",
       "    <tr>\n",
       "      <th>1</th>\n",
       "      <td>i can go from feeling so hopeless to so damned...</td>\n",
       "      <td>[1, 39, 101, 59, 7, 14, 525, 4, 14, 3210, 549,...</td>\n",
       "      <td>[0.0, 0.0, 0.0, 0.0, 1.0, 0.0]</td>\n",
       "      <td>sadness</td>\n",
       "    </tr>\n",
       "    <tr>\n",
       "      <th>2</th>\n",
       "      <td>im grabbing a minute to post i feel greedy wrong</td>\n",
       "      <td>[15, 3272, 6, 1245, 4, 291, 1, 2, 497, 427, 0,...</td>\n",
       "      <td>[1.0, 0.0, 0.0, 0.0, 0.0, 0.0]</td>\n",
       "      <td>anger</td>\n",
       "    </tr>\n",
       "    <tr>\n",
       "      <th>3</th>\n",
       "      <td>i am ever feeling nostalgic about the fireplac...</td>\n",
       "      <td>[1, 23, 176, 7, 686, 26, 5, 5161, 1, 57, 46, 8...</td>\n",
       "      <td>[0.0, 0.0, 0.0, 1.0, 0.0, 0.0]</td>\n",
       "      <td>love</td>\n",
       "    </tr>\n",
       "    <tr>\n",
       "      <th>4</th>\n",
       "      <td>i am feeling grouchy</td>\n",
       "      <td>[1, 23, 7, 1048, 0, 0, 0, 0, 0, 0, 0, 0, 0, 0,...</td>\n",
       "      <td>[1.0, 0.0, 0.0, 0.0, 0.0, 0.0]</td>\n",
       "      <td>anger</td>\n",
       "    </tr>\n",
       "    <tr>\n",
       "      <th>...</th>\n",
       "      <td>...</td>\n",
       "      <td>...</td>\n",
       "      <td>...</td>\n",
       "      <td>...</td>\n",
       "    </tr>\n",
       "    <tr>\n",
       "      <th>1995</th>\n",
       "      <td>im having ssa examination tomorrow in the morn...</td>\n",
       "      <td>[15, 153, 15692, 3673, 898, 11, 5, 225, 15, 15...</td>\n",
       "      <td>[0.0, 0.0, 0.0, 0.0, 1.0, 0.0]</td>\n",
       "      <td>sadness</td>\n",
       "    </tr>\n",
       "    <tr>\n",
       "      <th>1996</th>\n",
       "      <td>i constantly worry about their fight against n...</td>\n",
       "      <td>[1, 804, 963, 26, 109, 1095, 545, 1173, 28, 60...</td>\n",
       "      <td>[0.0, 0.0, 1.0, 0.0, 0.0, 0.0]</td>\n",
       "      <td>joy</td>\n",
       "    </tr>\n",
       "    <tr>\n",
       "      <th>1997</th>\n",
       "      <td>i feel its important to share this info for th...</td>\n",
       "      <td>[1, 2, 78, 287, 4, 321, 22, 2981, 16, 140, 8, ...</td>\n",
       "      <td>[0.0, 0.0, 1.0, 0.0, 0.0, 0.0]</td>\n",
       "      <td>joy</td>\n",
       "    </tr>\n",
       "    <tr>\n",
       "      <th>1998</th>\n",
       "      <td>i truly feel that if you are passionate enough...</td>\n",
       "      <td>[1, 387, 2, 8, 48, 30, 44, 283, 157, 26, 83, 3...</td>\n",
       "      <td>[0.0, 0.0, 1.0, 0.0, 0.0, 0.0]</td>\n",
       "      <td>joy</td>\n",
       "    </tr>\n",
       "    <tr>\n",
       "      <th>1999</th>\n",
       "      <td>i feel like i just wanna buy any cute make up ...</td>\n",
       "      <td>[1, 2, 13, 1, 31, 1035, 564, 666, 142, 455, 81...</td>\n",
       "      <td>[0.0, 0.0, 1.0, 0.0, 0.0, 0.0]</td>\n",
       "      <td>joy</td>\n",
       "    </tr>\n",
       "  </tbody>\n",
       "</table>\n",
       "<p>20000 rows × 4 columns</p>\n",
       "</div>"
      ],
      "text/plain": [
       "                                                    col  \\\n",
       "0                               i didnt feel humiliated   \n",
       "1     i can go from feeling so hopeless to so damned...   \n",
       "2      im grabbing a minute to post i feel greedy wrong   \n",
       "3     i am ever feeling nostalgic about the fireplac...   \n",
       "4                                  i am feeling grouchy   \n",
       "...                                                 ...   \n",
       "1995  im having ssa examination tomorrow in the morn...   \n",
       "1996  i constantly worry about their fight against n...   \n",
       "1997  i feel its important to share this info for th...   \n",
       "1998  i truly feel that if you are passionate enough...   \n",
       "1999  i feel like i just wanna buy any cute make up ...   \n",
       "\n",
       "                                         padded_indices  \\\n",
       "0     [1, 138, 2, 633, 0, 0, 0, 0, 0, 0, 0, 0, 0, 0,...   \n",
       "1     [1, 39, 101, 59, 7, 14, 525, 4, 14, 3210, 549,...   \n",
       "2     [15, 3272, 6, 1245, 4, 291, 1, 2, 497, 427, 0,...   \n",
       "3     [1, 23, 176, 7, 686, 26, 5, 5161, 1, 57, 46, 8...   \n",
       "4     [1, 23, 7, 1048, 0, 0, 0, 0, 0, 0, 0, 0, 0, 0,...   \n",
       "...                                                 ...   \n",
       "1995  [15, 153, 15692, 3673, 898, 11, 5, 225, 15, 15...   \n",
       "1996  [1, 804, 963, 26, 109, 1095, 545, 1173, 28, 60...   \n",
       "1997  [1, 2, 78, 287, 4, 321, 22, 2981, 16, 140, 8, ...   \n",
       "1998  [1, 387, 2, 8, 48, 30, 44, 283, 157, 26, 83, 3...   \n",
       "1999  [1, 2, 13, 1, 31, 1035, 564, 666, 142, 455, 81...   \n",
       "\n",
       "                    onehot_sentiment    senti  \n",
       "0     [0.0, 0.0, 0.0, 0.0, 1.0, 0.0]  sadness  \n",
       "1     [0.0, 0.0, 0.0, 0.0, 1.0, 0.0]  sadness  \n",
       "2     [1.0, 0.0, 0.0, 0.0, 0.0, 0.0]    anger  \n",
       "3     [0.0, 0.0, 0.0, 1.0, 0.0, 0.0]     love  \n",
       "4     [1.0, 0.0, 0.0, 0.0, 0.0, 0.0]    anger  \n",
       "...                              ...      ...  \n",
       "1995  [0.0, 0.0, 0.0, 0.0, 1.0, 0.0]  sadness  \n",
       "1996  [0.0, 0.0, 1.0, 0.0, 0.0, 0.0]      joy  \n",
       "1997  [0.0, 0.0, 1.0, 0.0, 0.0, 0.0]      joy  \n",
       "1998  [0.0, 0.0, 1.0, 0.0, 0.0, 0.0]      joy  \n",
       "1999  [0.0, 0.0, 1.0, 0.0, 0.0, 0.0]      joy  \n",
       "\n",
       "[20000 rows x 4 columns]"
      ]
     },
     "execution_count": 13,
     "metadata": {},
     "output_type": "execute_result"
    }
   ],
   "source": [
    "datanew.insert(1, \"padded_indices\", list(padded_indices))\n",
    "datanew"
   ]
  },
  {
   "cell_type": "code",
   "execution_count": 14,
   "id": "b4c7b2f1",
   "metadata": {
    "execution": {
     "iopub.execute_input": "2021-11-11T16:42:00.002952Z",
     "iopub.status.busy": "2021-11-11T16:42:00.002175Z",
     "iopub.status.idle": "2021-11-11T16:42:00.015345Z",
     "shell.execute_reply": "2021-11-11T16:42:00.016503Z",
     "shell.execute_reply.started": "2021-11-11T16:35:17.692188Z"
    },
    "id": "7c70f61b",
    "outputId": "6fe89a08-31ef-40c1-f88b-fa88f77aea79",
    "papermill": {
     "duration": 0.057781,
     "end_time": "2021-11-11T16:42:00.016735",
     "exception": false,
     "start_time": "2021-11-11T16:41:59.958954",
     "status": "completed"
    },
    "tags": []
   },
   "outputs": [
    {
     "name": "stdout",
     "output_type": "stream",
     "text": [
      "X train:  14000 (14000,)\n",
      "y train:  14000 (14000,)\n",
      "y test:  6000 (6000,)\n"
     ]
    }
   ],
   "source": [
    "from sklearn.model_selection import train_test_split\n",
    "X = datanew['padded_indices'].to_numpy()\n",
    "y = datanew['onehot_sentiment'].to_numpy()\n",
    "X_train, X_test, y_train, y_test = train_test_split(X, y, test_size=0.3, random_state=42)\n",
    "print(\"X train: \", len(X_train), X_train.shape)\n",
    "print(\"y train: \", len(y_train), y_train.shape)\n",
    "print(\"y test: \", len(y_test), y_test.shape)"
   ]
  },
  {
   "cell_type": "code",
   "execution_count": 15,
   "id": "7856da64",
   "metadata": {
    "execution": {
     "iopub.execute_input": "2021-11-11T16:42:00.107890Z",
     "iopub.status.busy": "2021-11-11T16:42:00.107132Z",
     "iopub.status.idle": "2021-11-11T16:42:00.628020Z",
     "shell.execute_reply": "2021-11-11T16:42:00.627551Z",
     "shell.execute_reply.started": "2021-11-11T16:35:19.777149Z"
    },
    "id": "8e9a7b3d",
    "outputId": "1e58c475-b84c-48ee-d979-2535c512e544",
    "papermill": {
     "duration": 0.57153,
     "end_time": "2021-11-11T16:42:00.628147",
     "exception": false,
     "start_time": "2021-11-11T16:42:00.056617",
     "status": "completed"
    },
    "tags": []
   },
   "outputs": [
    {
     "name": "stdout",
     "output_type": "stream",
     "text": [
      "(14000, 110)\n",
      "(14000, 6)\n",
      "(6000, 110)\n",
      "(6000, 6)\n"
     ]
    }
   ],
   "source": [
    "X_train = np.array([np.array(x) for x in X_train])\n",
    "y_train = np.array([np.array(x) for x in y_train])\n",
    "X_test = np.array([np.array(x) for x in X_test])\n",
    "y_test = np.array([np.array(x) for x in y_test])\n",
    "\n",
    "print(X_train.shape)\n",
    "print(y_train.shape)\n",
    "print(X_test.shape)\n",
    "print(y_test.shape)"
   ]
  },
  {
   "cell_type": "markdown",
   "id": "41e6e25e",
   "metadata": {
    "id": "e9f90c2c",
    "papermill": {
     "duration": 0.022864,
     "end_time": "2021-11-11T16:42:00.674082",
     "exception": false,
     "start_time": "2021-11-11T16:42:00.651218",
     "status": "completed"
    },
    "tags": []
   },
   "source": [
    "### RNN with lstm model"
   ]
  },
  {
   "cell_type": "code",
   "execution_count": 16,
   "id": "7aaa42f7",
   "metadata": {
    "execution": {
     "iopub.execute_input": "2021-11-11T16:42:00.724805Z",
     "iopub.status.busy": "2021-11-11T16:42:00.723173Z",
     "iopub.status.idle": "2021-11-11T16:42:00.725421Z",
     "shell.execute_reply": "2021-11-11T16:42:00.725832Z",
     "shell.execute_reply.started": "2021-11-11T16:37:28.361512Z"
    },
    "id": "0706cfa6",
    "papermill": {
     "duration": 0.029098,
     "end_time": "2021-11-11T16:42:00.725948",
     "exception": false,
     "start_time": "2021-11-11T16:42:00.696850",
     "status": "completed"
    },
    "tags": []
   },
   "outputs": [],
   "source": [
    "# so that dont have to rerun\n",
    "import tensorflow as tf\n",
    "tf.compat.v1.reset_default_graph()"
   ]
  },
  {
   "cell_type": "code",
   "execution_count": 17,
   "id": "167e5516",
   "metadata": {
    "execution": {
     "iopub.execute_input": "2021-11-11T16:42:00.794803Z",
     "iopub.status.busy": "2021-11-11T16:42:00.780125Z",
     "iopub.status.idle": "2021-11-11T16:42:04.158127Z",
     "shell.execute_reply": "2021-11-11T16:42:04.158750Z",
     "shell.execute_reply.started": "2021-11-11T16:37:30.404389Z"
    },
    "id": "031cf79f",
    "papermill": {
     "duration": 3.410083,
     "end_time": "2021-11-11T16:42:04.158941",
     "exception": false,
     "start_time": "2021-11-11T16:42:00.748858",
     "status": "completed"
    },
    "tags": []
   },
   "outputs": [
    {
     "name": "stderr",
     "output_type": "stream",
     "text": [
      "2021-11-11 16:42:00.981396: I tensorflow/stream_executor/cuda/cuda_gpu_executor.cc:937] successful NUMA node read from SysFS had negative value (-1), but there must be at least one NUMA node, so returning NUMA node zero\n",
      "2021-11-11 16:42:01.089547: I tensorflow/stream_executor/cuda/cuda_gpu_executor.cc:937] successful NUMA node read from SysFS had negative value (-1), but there must be at least one NUMA node, so returning NUMA node zero\n",
      "2021-11-11 16:42:01.090237: I tensorflow/stream_executor/cuda/cuda_gpu_executor.cc:937] successful NUMA node read from SysFS had negative value (-1), but there must be at least one NUMA node, so returning NUMA node zero\n",
      "2021-11-11 16:42:01.091404: I tensorflow/core/platform/cpu_feature_guard.cc:142] This TensorFlow binary is optimized with oneAPI Deep Neural Network Library (oneDNN) to use the following CPU instructions in performance-critical operations:  AVX2 AVX512F FMA\n",
      "To enable them in other operations, rebuild TensorFlow with the appropriate compiler flags.\n",
      "2021-11-11 16:42:01.092607: I tensorflow/stream_executor/cuda/cuda_gpu_executor.cc:937] successful NUMA node read from SysFS had negative value (-1), but there must be at least one NUMA node, so returning NUMA node zero\n",
      "2021-11-11 16:42:01.093267: I tensorflow/stream_executor/cuda/cuda_gpu_executor.cc:937] successful NUMA node read from SysFS had negative value (-1), but there must be at least one NUMA node, so returning NUMA node zero\n",
      "2021-11-11 16:42:01.094152: I tensorflow/stream_executor/cuda/cuda_gpu_executor.cc:937] successful NUMA node read from SysFS had negative value (-1), but there must be at least one NUMA node, so returning NUMA node zero\n",
      "2021-11-11 16:42:02.911484: I tensorflow/stream_executor/cuda/cuda_gpu_executor.cc:937] successful NUMA node read from SysFS had negative value (-1), but there must be at least one NUMA node, so returning NUMA node zero\n",
      "2021-11-11 16:42:02.912221: I tensorflow/stream_executor/cuda/cuda_gpu_executor.cc:937] successful NUMA node read from SysFS had negative value (-1), but there must be at least one NUMA node, so returning NUMA node zero\n",
      "2021-11-11 16:42:02.912910: I tensorflow/stream_executor/cuda/cuda_gpu_executor.cc:937] successful NUMA node read from SysFS had negative value (-1), but there must be at least one NUMA node, so returning NUMA node zero\n",
      "2021-11-11 16:42:02.913508: I tensorflow/core/common_runtime/gpu/gpu_device.cc:1510] Created device /job:localhost/replica:0/task:0/device:GPU:0 with 15403 MB memory:  -> device: 0, name: Tesla P100-PCIE-16GB, pci bus id: 0000:00:04.0, compute capability: 6.0\n",
      "/opt/conda/lib/python3.7/site-packages/keras/layers/legacy_rnn/rnn_cell_impl.py:901: UserWarning: `tf.nn.rnn_cell.LSTMCell` is deprecated and will be removed in a future version. This class is equivalent as `tf.keras.layers.LSTMCell`, and will be replaced by that in Tensorflow 2.0.\n",
      "  warnings.warn(\"`tf.nn.rnn_cell.LSTMCell` is deprecated and will be \"\n",
      "/opt/conda/lib/python3.7/site-packages/keras/engine/base_layer.py:2223: UserWarning: `layer.add_variable` is deprecated and will be removed in a future version. Please use `layer.add_weight` method instead.\n",
      "  warnings.warn('`layer.add_variable` is deprecated and '\n"
     ]
    },
    {
     "name": "stdout",
     "output_type": "stream",
     "text": [
      "embedding: (2, 10, 300)\n",
      "rnn: (2, 10, 300)\n",
      "flatten: (2, 3000)\n"
     ]
    }
   ],
   "source": [
    "import tensorflow as tf\n",
    "\n",
    "class RNNModel:\n",
    "\n",
    "    def __init__(self,\n",
    "        embedding,\n",
    "        em_drop_rate = 0.5,\n",
    "        rnn_units   = 300,\n",
    "        rnn_drop_rate = 0.2):\n",
    "        '''Constructor.\n",
    "        # Parameters:\n",
    "        embedding: Numpy array representing the embedding.\n",
    "        em_drop_rate: Drop rate after the embedding layer.\n",
    "        lstm_units: Size of the internal states of the LSTM cells.\n",
    "        lstm_drop_rate: Drop rate after the lstm layer.\n",
    "        '''\n",
    "        self._embedding      = embedding\n",
    "        self._em_drop_rate   = em_drop_rate\n",
    "        self._rnn_units     = rnn_units\n",
    "        self._rnn_drop_rate = rnn_drop_rate\n",
    "\n",
    "    def __call__(self, input):\n",
    "        self._embedding_tf = self._create_embedding_layer(\n",
    "            self._em_drop_rate, self._embedding, input)\n",
    "\n",
    "        self._rnn_tf = self._create_rnn_layer(\n",
    "            self._rnn_units,\n",
    "            self._rnn_drop_rate,\n",
    "            self._embedding_tf)\n",
    "\n",
    "        self._flatten_tf = self._create_flatten_layer(self._rnn_tf)\n",
    "\n",
    "        return self._flatten_tf\n",
    "\n",
    "    def summary(self):\n",
    "        print(\"embedding: \" + str(self._embedding_tf.shape))\n",
    "        print(\"rnn: \" + str(self._rnn_tf.shape))\n",
    "        print(\"flatten: \" + str(self._flatten_tf.shape))\n",
    "\n",
    "    # this function converts each word from input_x into dense vector of dimension 300 (dimension depending on word2vec)\n",
    "    # embedding  = word_vector\n",
    "    def _create_embedding_layer(self, em_drop_rate, embedding, input_x):\n",
    "        embedding = tf.Variable(initial_value=embedding)\n",
    "\n",
    "        embedded_chars = tf.nn.embedding_lookup(  # lookup word_vector(embedding) by index (input_x)\n",
    "            embedding, tf.cast(input_x, 'int32'))\n",
    "\n",
    "        return tf.nn.dropout(embedded_chars, rate=em_drop_rate)\n",
    "\n",
    "    def _create_rnn_layer(self, rnn_units, rnn_drop_rate, embedding):\n",
    "        rnn_cell = tf.compat.v1.nn.rnn_cell.LSTMCell(rnn_units)\n",
    "        sequence = tf.unstack(embedding, axis=1) #embedded input words\n",
    "        \n",
    "        # hs, _, _ are outputs, output_state_fw, output_state_bw respectively\n",
    "        hs, _, _ = tf.compat.v1.nn.static_bidirectional_rnn(rnn_cell, rnn_cell, #forward and backward direction\n",
    "            sequence, #input\n",
    "            dtype=tf.float32)\n",
    "        \n",
    "        hs = tf.stack(\n",
    "            values=hs,\n",
    "            axis=1)\n",
    "        ss = tf.math.reduce_sum(\n",
    "            tf.reshape(hs, shape=[-1, hs.shape[1], 2, rnn_units]),\n",
    "            axis=2\n",
    "        )\n",
    "\n",
    "        return tf.nn.dropout(ss, rate=rnn_drop_rate)\n",
    "\n",
    "    def _create_flatten_layer(self, tensor):\n",
    "        return tf.reshape(tensor, [-1, tensor.shape[1] * tensor.shape[2]])\n",
    "\n",
    "\n",
    "if __name__ == '__main__':\n",
    "    embedding_size  = 300\n",
    "    num_words       = 1000\n",
    "    sentence_length = 10\n",
    "\n",
    "    embedding = [\n",
    "        [float(i) for i in range(embedding_size)] for _ in range(num_words)\n",
    "    ]\n",
    "    data = [\n",
    "        [i     for i in range(sentence_length)],\n",
    "        [i + 1 for i in range(sentence_length)]\n",
    "    ]\n",
    "\n",
    "    model = RNNModel(embedding)\n",
    "    model(data)\n",
    "    model.summary()"
   ]
  },
  {
   "cell_type": "code",
   "execution_count": 18,
   "id": "0377d7f9",
   "metadata": {
    "execution": {
     "iopub.execute_input": "2021-11-11T16:42:04.236011Z",
     "iopub.status.busy": "2021-11-11T16:42:04.235229Z",
     "iopub.status.idle": "2021-11-11T16:42:04.686808Z",
     "shell.execute_reply": "2021-11-11T16:42:04.686105Z",
     "shell.execute_reply.started": "2021-11-11T16:38:22.995510Z"
    },
    "id": "b9022754",
    "papermill": {
     "duration": 0.503861,
     "end_time": "2021-11-11T16:42:04.686974",
     "exception": false,
     "start_time": "2021-11-11T16:42:04.183113",
     "status": "completed"
    },
    "tags": []
   },
   "outputs": [],
   "source": [
    "import tensorflow as tf\n",
    "from numba import jit, cuda\n",
    "\n",
    "class Classifier:\n",
    "\n",
    "    def __init__(self, model, input_length, output_length):\n",
    "        '''Constructor.\n",
    "        # Parameters:\n",
    "        input_length: sentence length (max number of words in sentence)\n",
    "        output_length: number of classes of sentiment\n",
    "        '''\n",
    "        self.model = model\n",
    "        self.input_length = input_length\n",
    "        self.output_length = output_length\n",
    "\n",
    "    def compile(self, batch_size=32):\n",
    "        tf.compat.v1.disable_eager_execution()\n",
    "        self._ds_x = tf.compat.v1.placeholder(tf.float32, [None, self.input_length])\n",
    "        self._ds_y = tf.compat.v1.placeholder(tf.float32, [None, self.output_length])\n",
    "\n",
    "        ds = tf.compat.v1.data.Dataset.from_tensor_slices((self._ds_x, self._ds_y))\n",
    "        ds = ds.batch(batch_size)\n",
    "\n",
    "        self._ds_it = ds.make_initializable_iterator()\n",
    "        self._input, self._labels = self._ds_it.get_next()\n",
    "\n",
    "        self._features = self.model(self._input)\n",
    "        self._output = _create_dense_layer(self._features, self.output_length)\n",
    "\n",
    "        self._create_acc_computations()\n",
    "        self._create_backpropagation()\n",
    "\n",
    "        self._session = tf.compat.v1.Session()\n",
    "        self._session.run(tf.compat.v1.global_variables_initializer())\n",
    "        self._session.run(tf.compat.v1.local_variables_initializer())\n",
    "\n",
    "    def _create_acc_computations(self):\n",
    "        self._predictions = tf.argmax(self._output, 1)\n",
    "        labels = tf.argmax(self._labels, 1)\n",
    "        self._accuracy = tf.reduce_mean(\n",
    "            tf.cast(tf.equal(self._predictions, labels), 'float32'))\n",
    "\n",
    "    def _create_backpropagation(self):\n",
    "        losses = tf.compat.v1.nn.softmax_cross_entropy_with_logits_v2(\n",
    "            logits=self._output,\n",
    "            labels=self._labels)\n",
    "        self._loss = tf.reduce_mean(losses)\n",
    "\n",
    "        optimizer = tf.compat.v1.train.AdamOptimizer(0.001)\n",
    "        global_step = tf.Variable(0, name=\"global_step\", trainable=False)\n",
    "        grads_and_vars = optimizer.compute_gradients(self._loss)\n",
    "\n",
    "        self._train_op = optimizer.apply_gradients(\n",
    "            grads_and_vars, global_step=global_step)\n",
    "\n",
    "    def summary(self):\n",
    "        print('input:', self._input.shape)\n",
    "        self.model.summary()\n",
    "        print('output:', self._output.shape)\n",
    "\n",
    "#     @jit(target =\"cuda\")  \n",
    "    def train(self, X_train, y_train, X_eval, y_eval, epochs=20):\n",
    "        import time\n",
    "        start_train = time.time()\n",
    "        losslist = []\n",
    "        acclist = []\n",
    "        val_losslist = []\n",
    "        val_acclist =[]\n",
    "\n",
    "        for e in range(epochs):\n",
    "            start_time = time.time()\n",
    "            loss, acc = self._train(X_train, y_train)\n",
    "            losslist.append(loss)\n",
    "            acclist.append(acc)\n",
    "            duration = time.time() - start_time\n",
    "\n",
    "            val_loss, val_acc = self._eval(X_eval, y_eval)\n",
    "            val_losslist.append(val_loss)\n",
    "            val_acclist.append(val_acc)\n",
    "\n",
    "            output = 'Epoch: {}, loss = {:.4f}, acc = {:.4f}, val_loss = {:.4f}, val_acc = {:.4f}, Time = {:.2f}s'\n",
    "            print(output.format(e + 1, loss, acc, val_loss, val_acc, duration))\n",
    "        \n",
    "        total_duration = time.time() - start_train\n",
    "        return losslist, acclist, val_losslist, val_acclist, total_duration\n",
    "\n",
    "#     @jit(target =\"cuda\")  \n",
    "    def _train(self, X_train, y_train):\n",
    "        import numpy as np\n",
    "\n",
    "        self._session.run(\n",
    "            fetches=self._ds_it.initializer,\n",
    "            feed_dict={\n",
    "                self._ds_x: X_train,\n",
    "                self._ds_y: y_train\n",
    "            })\n",
    "        loss, acc, = [], []\n",
    "        while True:\n",
    "            try:\n",
    "                _, vloss, vacc = self._session.run(\n",
    "                    fetches=[self._train_op, self._loss, self._accuracy])\n",
    "\n",
    "                loss.append(vloss)\n",
    "                acc.append(vacc)\n",
    "            except tf.errors.OutOfRangeError:\n",
    "                break\n",
    "        # endwhile\n",
    "\n",
    "        loss, acc = np.mean(loss), np.mean(acc)\n",
    "        return loss, acc\n",
    "\n",
    "    def _eval(self, X_val, y_val):\n",
    "        self._session.run(\n",
    "            fetches=self._ds_it.initializer,\n",
    "            feed_dict={\n",
    "                self._ds_x: X_val,\n",
    "                self._ds_y: y_val\n",
    "            })\n",
    "\n",
    "        loss, acc, = 0, 0\n",
    "        while True:\n",
    "            try:\n",
    "                l, vloss, vacc = self._session.run(\n",
    "                    fetches=[self._labels, self._loss, self._accuracy])\n",
    "\n",
    "                loss += vloss * len(l)\n",
    "                acc += vacc * len(l)\n",
    "            except tf.errors.OutOfRangeError:\n",
    "                break\n",
    "\n",
    "        return loss / len(X_val), acc / len(X_val)\n",
    "\n",
    "    def predict(self, X):\n",
    "        import numpy as np\n",
    "\n",
    "        self._session.run(self._ds_it.initializer,\n",
    "                         feed_dict={\n",
    "                             self._ds_x: X,\n",
    "                             self._ds_y: np.empty((len(X), self.output_length))\n",
    "                         }\n",
    "                         )\n",
    "\n",
    "        pred = list()\n",
    "        while True:\n",
    "            try:\n",
    "                ppred = self._session.run(tf.nn.softmax(self._output))\n",
    "\n",
    "                pred.extend(map(lambda l: l.tolist(), ppred))\n",
    "            except tf.errors.OutOfRangeError:\n",
    "                break\n",
    "\n",
    "        return pred\n",
    "\n",
    "def _create_dense_layer(x, output_length):\n",
    "    '''Creates a dense layer\n",
    "    '''\n",
    "    input_size = x.shape[1] #.value\n",
    "    W = tf.Variable(\n",
    "        initial_value=tf.random.truncated_normal(\n",
    "            shape=[input_size, output_length],\n",
    "            stddev=0.1))\n",
    "    b = tf.Variable(\n",
    "        initial_value=tf.random.truncated_normal(\n",
    "            shape=[output_length]))\n",
    "\n",
    "    dense = tf.compat.v1.nn.xw_plus_b(x, W, b)\n",
    "\n",
    "    return dense\n",
    "\n",
    "\n",
    "if __name__ == '__main__':\n",
    "    pass"
   ]
  },
  {
   "cell_type": "code",
   "execution_count": 19,
   "id": "230e24db",
   "metadata": {
    "execution": {
     "iopub.execute_input": "2021-11-11T16:42:04.745042Z",
     "iopub.status.busy": "2021-11-11T16:42:04.743766Z",
     "iopub.status.idle": "2021-11-11T16:57:20.688064Z",
     "shell.execute_reply": "2021-11-11T16:57:20.688570Z",
     "shell.execute_reply.started": "2021-11-11T16:39:31.928259Z"
    },
    "id": "5d641e4d",
    "outputId": "8c53a9a4-45c0-442b-9413-83cfe8625813",
    "papermill": {
     "duration": 915.977447,
     "end_time": "2021-11-11T16:57:20.688749",
     "exception": false,
     "start_time": "2021-11-11T16:42:04.711302",
     "status": "completed"
    },
    "tags": []
   },
   "outputs": [
    {
     "name": "stderr",
     "output_type": "stream",
     "text": [
      "/opt/conda/lib/python3.7/site-packages/keras/engine/base_layer_v1.py:1684: UserWarning: `layer.add_variable` is deprecated and will be removed in a future version. Please use `layer.add_weight` method instead.\n",
      "  warnings.warn('`layer.add_variable` is deprecated and '\n",
      "2021-11-11 16:42:16.356581: I tensorflow/stream_executor/cuda/cuda_gpu_executor.cc:937] successful NUMA node read from SysFS had negative value (-1), but there must be at least one NUMA node, so returning NUMA node zero\n",
      "2021-11-11 16:42:16.357440: I tensorflow/stream_executor/cuda/cuda_gpu_executor.cc:937] successful NUMA node read from SysFS had negative value (-1), but there must be at least one NUMA node, so returning NUMA node zero\n",
      "2021-11-11 16:42:16.358041: I tensorflow/stream_executor/cuda/cuda_gpu_executor.cc:937] successful NUMA node read from SysFS had negative value (-1), but there must be at least one NUMA node, so returning NUMA node zero\n",
      "2021-11-11 16:42:16.358677: I tensorflow/stream_executor/cuda/cuda_gpu_executor.cc:937] successful NUMA node read from SysFS had negative value (-1), but there must be at least one NUMA node, so returning NUMA node zero\n",
      "2021-11-11 16:42:16.359251: I tensorflow/stream_executor/cuda/cuda_gpu_executor.cc:937] successful NUMA node read from SysFS had negative value (-1), but there must be at least one NUMA node, so returning NUMA node zero\n",
      "2021-11-11 16:42:16.359716: I tensorflow/core/common_runtime/gpu/gpu_device.cc:1510] Created device /job:localhost/replica:0/task:0/device:GPU:0 with 15403 MB memory:  -> device: 0, name: Tesla P100-PCIE-16GB, pci bus id: 0000:00:04.0, compute capability: 6.0\n"
     ]
    },
    {
     "name": "stdout",
     "output_type": "stream",
     "text": [
      "input: (None, 110)\n",
      "embedding: (None, 110, 300)\n",
      "rnn: (None, 110, 300)\n",
      "flatten: (None, 33000)\n",
      "output: (None, 6)\n",
      "Epoch: 1, loss = 1.7292, acc = 0.4621, val_loss = 1.0254, val_acc = 0.6435, Time = 39.10s\n",
      "Epoch: 2, loss = 0.6186, acc = 0.7943, val_loss = 0.5273, val_acc = 0.8303, Time = 30.15s\n",
      "Epoch: 3, loss = 0.2853, acc = 0.9041, val_loss = 0.4290, val_acc = 0.8643, Time = 29.42s\n",
      "Epoch: 4, loss = 0.1846, acc = 0.9344, val_loss = 0.4140, val_acc = 0.8725, Time = 27.77s\n",
      "Epoch: 5, loss = 0.1214, acc = 0.9563, val_loss = 0.3995, val_acc = 0.8808, Time = 29.56s\n",
      "Epoch: 6, loss = 0.0988, acc = 0.9620, val_loss = 0.3896, val_acc = 0.8890, Time = 29.45s\n",
      "Epoch: 7, loss = 0.0794, acc = 0.9722, val_loss = 0.3758, val_acc = 0.8933, Time = 29.83s\n",
      "Epoch: 8, loss = 0.0641, acc = 0.9770, val_loss = 0.4141, val_acc = 0.8877, Time = 29.56s\n",
      "Epoch: 9, loss = 0.0562, acc = 0.9805, val_loss = 0.4413, val_acc = 0.8907, Time = 30.40s\n",
      "Epoch: 10, loss = 0.0455, acc = 0.9834, val_loss = 0.4580, val_acc = 0.8918, Time = 28.50s\n",
      "Epoch: 11, loss = 0.0409, acc = 0.9874, val_loss = 0.4157, val_acc = 0.8975, Time = 28.77s\n",
      "Epoch: 12, loss = 0.0421, acc = 0.9872, val_loss = 0.4337, val_acc = 0.8953, Time = 28.73s\n",
      "Epoch: 13, loss = 0.0395, acc = 0.9874, val_loss = 0.4235, val_acc = 0.9013, Time = 29.50s\n",
      "Epoch: 14, loss = 0.0321, acc = 0.9902, val_loss = 0.5166, val_acc = 0.8922, Time = 29.93s\n",
      "Epoch: 15, loss = 0.0319, acc = 0.9898, val_loss = 0.4514, val_acc = 0.9008, Time = 29.94s\n",
      "Epoch: 16, loss = 0.0236, acc = 0.9930, val_loss = 0.4758, val_acc = 0.9015, Time = 30.55s\n",
      "Epoch: 17, loss = 0.0271, acc = 0.9929, val_loss = 0.5026, val_acc = 0.9007, Time = 28.64s\n",
      "Epoch: 18, loss = 0.0269, acc = 0.9924, val_loss = 0.5367, val_acc = 0.8932, Time = 30.21s\n",
      "Epoch: 19, loss = 0.0262, acc = 0.9929, val_loss = 0.5321, val_acc = 0.8940, Time = 28.32s\n",
      "Epoch: 20, loss = 0.0287, acc = 0.9924, val_loss = 0.5236, val_acc = 0.9000, Time = 30.56s\n",
      "total time taken:  899.9415464401245\n",
      "Predictions: [[1.6396160416789346e-13, 9.916016507796437e-15, 1.0, 8.54201362421314e-11, 5.679153436584372e-13, 1.835828581167598e-12], [3.3799346965679433e-06, 1.979069338631234e-06, 0.9998065829277039, 9.4892609922681e-05, 1.2480625628086273e-05, 8.06745229056105e-05]]\n",
      "Real: [[0. 0. 1. 0. 0. 0.]\n",
      " [0. 0. 1. 0. 0. 0.]]\n"
     ]
    }
   ],
   "source": [
    "import pickle\n",
    "import numpy as np\n",
    "import sys\n",
    "# from fen.classifier import Classifier\n",
    "# from fen.pzhou_tf import ZhouBLSTMCNNModel\n",
    "\n",
    "if __name__ == '__main__':\n",
    "\n",
    "#     (X_train, y_train), (X_eval, y_eval) = (X_train, y_train), (X_test, y_test)\n",
    "\n",
    "    word_vector = word_embeds\n",
    "    word_vector = word_vector.astype('float32')\n",
    "    \n",
    "    sentence_length = X_train[0].shape[0] # sentence length = 37 -- if less than 37, remaining is 0\n",
    "    num_classes = y_train[0].shape[0] # 6 sentiment classes\n",
    "\n",
    "    # tf.debugging.set_log_device_placement(True)\n",
    "    # with tf.device('/device:GPU:0'):\n",
    "    model = RNNModel(embedding=word_vector) #pass in word_vector as lookup table\n",
    "\n",
    "    classifier = Classifier(\n",
    "        model=model,\n",
    "        input_length=sentence_length,\n",
    "        output_length=num_classes)\n",
    "\n",
    "    classifier.compile(batch_size=32)\n",
    "    classifier.summary()\n",
    "    loss, acc, val_loss, val_acc, duration = classifier.train(\n",
    "        X_train=X_train,\n",
    "        y_train=y_train,\n",
    "        X_eval=X_test,\n",
    "        y_eval=y_test,\n",
    "        epochs=20\n",
    "    )\n",
    "\n",
    "    print(\"total time taken: \", duration)\n",
    "    print(\"Predictions:\", classifier.predict(X_train[0:2]))\n",
    "    print(\"Real:\", y_train[0:2])"
   ]
  },
  {
   "cell_type": "code",
   "execution_count": 20,
   "id": "badbad1f",
   "metadata": {
    "execution": {
     "iopub.execute_input": "2021-11-11T16:57:20.754213Z",
     "iopub.status.busy": "2021-11-11T16:57:20.752672Z",
     "iopub.status.idle": "2021-11-11T16:57:20.754846Z",
     "shell.execute_reply": "2021-11-11T16:57:20.755240Z",
     "shell.execute_reply.started": "2021-11-11T16:39:13.416372Z"
    },
    "papermill": {
     "duration": 0.036479,
     "end_time": "2021-11-11T16:57:20.755392",
     "exception": false,
     "start_time": "2021-11-11T16:57:20.718913",
     "status": "completed"
    },
    "tags": []
   },
   "outputs": [],
   "source": [
    "### Plot graphs"
   ]
  },
  {
   "cell_type": "markdown",
   "id": "32e8893a",
   "metadata": {
    "papermill": {
     "duration": 0.029194,
     "end_time": "2021-11-11T16:57:20.814292",
     "exception": false,
     "start_time": "2021-11-11T16:57:20.785098",
     "status": "completed"
    },
    "tags": []
   },
   "source": []
  },
  {
   "cell_type": "code",
   "execution_count": 21,
   "id": "cf9875c2",
   "metadata": {
    "execution": {
     "iopub.execute_input": "2021-11-11T16:57:20.904638Z",
     "iopub.status.busy": "2021-11-11T16:57:20.903966Z",
     "iopub.status.idle": "2021-11-11T16:57:21.108844Z",
     "shell.execute_reply": "2021-11-11T16:57:21.108406Z"
    },
    "papermill": {
     "duration": 0.259657,
     "end_time": "2021-11-11T16:57:21.108960",
     "exception": false,
     "start_time": "2021-11-11T16:57:20.849303",
     "status": "completed"
    },
    "tags": []
   },
   "outputs": [
    {
     "data": {
      "image/png": "[encoded data removed]",
      "text/plain": [
       "<Figure size 432x288 with 1 Axes>"
      ]
     },
     "metadata": {
      "needs_background": "light"
     },
     "output_type": "display_data"
    }
   ],
   "source": [
    "epochslist = [i for i in range(0,20)]\n",
    "plt.plot(epochslist, loss)\n",
    "plt.title('training loss')\n",
    "plt.xlabel('epochs')\n",
    "plt.ylabel('training loss')\n",
    "plt.show()"
   ]
  },
  {
   "cell_type": "code",
   "execution_count": 22,
   "id": "71d346d1",
   "metadata": {
    "execution": {
     "iopub.execute_input": "2021-11-11T16:57:21.189943Z",
     "iopub.status.busy": "2021-11-11T16:57:21.188952Z",
     "iopub.status.idle": "2021-11-11T16:57:21.362258Z",
     "shell.execute_reply": "2021-11-11T16:57:21.362893Z"
    },
    "papermill": {
     "duration": 0.222964,
     "end_time": "2021-11-11T16:57:21.363019",
     "exception": false,
     "start_time": "2021-11-11T16:57:21.140055",
     "status": "completed"
    },
    "tags": []
   },
   "outputs": [
    {
     "data": {
      "image/png": "[encoded data removed]",
      "text/plain": [
       "<Figure size 432x288 with 1 Axes>"
      ]
     },
     "metadata": {
      "needs_background": "light"
     },
     "output_type": "display_data"
    }
   ],
   "source": [
    "plt.plot(epochslist, acc)\n",
    "plt.title('training acc')\n",
    "plt.xlabel('epochs')\n",
    "plt.ylabel('training acc')\n",
    "plt.show()"
   ]
  },
  {
   "cell_type": "code",
   "execution_count": 23,
   "id": "628e16af",
   "metadata": {
    "execution": {
     "iopub.execute_input": "2021-11-11T16:57:21.438678Z",
     "iopub.status.busy": "2021-11-11T16:57:21.437896Z",
     "iopub.status.idle": "2021-11-11T16:57:21.617282Z",
     "shell.execute_reply": "2021-11-11T16:57:21.616854Z"
    },
    "papermill": {
     "duration": 0.223011,
     "end_time": "2021-11-11T16:57:21.617411",
     "exception": false,
     "start_time": "2021-11-11T16:57:21.394400",
     "status": "completed"
    },
    "tags": []
   },
   "outputs": [
    {
     "data": {
      "image/png": "[encoded data removed]",
      "text/plain": [
       "<Figure size 432x288 with 1 Axes>"
      ]
     },
     "metadata": {
      "needs_background": "light"
     },
     "output_type": "display_data"
    }
   ],
   "source": [
    "plt.plot(epochslist, val_loss)\n",
    "plt.title('validation loss')\n",
    "plt.xlabel('epochs')\n",
    "plt.ylabel('validation loss')\n",
    "plt.show()"
   ]
  },
  {
   "cell_type": "code",
   "execution_count": 24,
   "id": "939fe592",
   "metadata": {
    "execution": {
     "iopub.execute_input": "2021-11-11T16:57:21.702823Z",
     "iopub.status.busy": "2021-11-11T16:57:21.699556Z",
     "iopub.status.idle": "2021-11-11T16:57:21.902271Z",
     "shell.execute_reply": "2021-11-11T16:57:21.903043Z"
    },
    "papermill": {
     "duration": 0.253567,
     "end_time": "2021-11-11T16:57:21.903274",
     "exception": false,
     "start_time": "2021-11-11T16:57:21.649707",
     "status": "completed"
    },
    "tags": []
   },
   "outputs": [
    {
     "data": {
      "image/png": "[encoded data removed]",
      "text/plain": [
       "<Figure size 432x288 with 1 Axes>"
      ]
     },
     "metadata": {
      "needs_background": "light"
     },
     "output_type": "display_data"
    }
   ],
   "source": [
    "plt.plot(epochslist, val_acc)\n",
    "plt.title('validation acc')\n",
    "plt.xlabel('epochs')\n",
    "plt.ylabel('validation acc')\n",
    "plt.show()"
   ]
  },
  {
   "cell_type": "markdown",
   "id": "21f8adc7",
   "metadata": {
    "id": "4cf86072",
    "papermill": {
     "duration": 0.069199,
     "end_time": "2021-11-11T16:57:22.040234",
     "exception": false,
     "start_time": "2021-11-11T16:57:21.971035",
     "status": "completed"
    },
    "tags": []
   },
   "source": [
    "### testing"
   ]
  },
  {
   "cell_type": "code",
   "execution_count": 25,
   "id": "656e76e4",
   "metadata": {
    "execution": {
     "iopub.execute_input": "2021-11-11T16:57:22.156403Z",
     "iopub.status.busy": "2021-11-11T16:57:22.155528Z",
     "iopub.status.idle": "2021-11-11T16:57:22.159030Z",
     "shell.execute_reply": "2021-11-11T16:57:22.157112Z"
    },
    "id": "28711b61",
    "papermill": {
     "duration": 0.064064,
     "end_time": "2021-11-11T16:57:22.159183",
     "exception": false,
     "start_time": "2021-11-11T16:57:22.095119",
     "status": "completed"
    },
    "tags": []
   },
   "outputs": [
    {
     "name": "stdout",
     "output_type": "stream",
     "text": [
      "Num GPUs Available:  1\n"
     ]
    }
   ],
   "source": [
    "import tensorflow as tf\n",
    "print(\"Num GPUs Available: \", len(tf.config.list_physical_devices('GPU')))"
   ]
  },
  {
   "cell_type": "code",
   "execution_count": 26,
   "id": "e466be65",
   "metadata": {
    "execution": {
     "iopub.execute_input": "2021-11-11T16:57:22.295677Z",
     "iopub.status.busy": "2021-11-11T16:57:22.295012Z",
     "iopub.status.idle": "2021-11-11T16:57:22.306948Z",
     "shell.execute_reply": "2021-11-11T16:57:22.308259Z"
    },
    "id": "KOEsMV5N1tpq",
    "papermill": {
     "duration": 0.085872,
     "end_time": "2021-11-11T16:57:22.308441",
     "exception": false,
     "start_time": "2021-11-11T16:57:22.222569",
     "status": "completed"
    },
    "tags": []
   },
   "outputs": [
    {
     "name": "stdout",
     "output_type": "stream",
     "text": [
      "Found GPU at: /device:GPU:0\n"
     ]
    },
    {
     "name": "stderr",
     "output_type": "stream",
     "text": [
      "2021-11-11 16:57:22.290785: I tensorflow/stream_executor/cuda/cuda_gpu_executor.cc:937] successful NUMA node read from SysFS had negative value (-1), but there must be at least one NUMA node, so returning NUMA node zero\n",
      "2021-11-11 16:57:22.291501: I tensorflow/stream_executor/cuda/cuda_gpu_executor.cc:937] successful NUMA node read from SysFS had negative value (-1), but there must be at least one NUMA node, so returning NUMA node zero\n",
      "2021-11-11 16:57:22.291990: I tensorflow/stream_executor/cuda/cuda_gpu_executor.cc:937] successful NUMA node read from SysFS had negative value (-1), but there must be at least one NUMA node, so returning NUMA node zero\n",
      "2021-11-11 16:57:22.292581: I tensorflow/stream_executor/cuda/cuda_gpu_executor.cc:937] successful NUMA node read from SysFS had negative value (-1), but there must be at least one NUMA node, so returning NUMA node zero\n",
      "2021-11-11 16:57:22.293081: I tensorflow/stream_executor/cuda/cuda_gpu_executor.cc:937] successful NUMA node read from SysFS had negative value (-1), but there must be at least one NUMA node, so returning NUMA node zero\n",
      "2021-11-11 16:57:22.293536: I tensorflow/core/common_runtime/gpu/gpu_device.cc:1510] Created device /device:GPU:0 with 15403 MB memory:  -> device: 0, name: Tesla P100-PCIE-16GB, pci bus id: 0000:00:04.0, compute capability: 6.0\n"
     ]
    }
   ],
   "source": [
    "device_name = tf.test.gpu_device_name()\n",
    "if device_name != '/device:GPU:0':\n",
    "  raise SystemError('GPU device not found')\n",
    "print('Found GPU at: {}'.format(device_name))"
   ]
  }
 ],
 "metadata": {
  "kernelspec": {
   "display_name": "Python 3",
   "language": "python",
   "name": "python3"
  },
  "language_info": {
   "codemirror_mode": {
    "name": "ipython",
    "version": 3
   },
   "file_extension": ".py",
   "mimetype": "text/x-python",
   "name": "python",
   "nbconvert_exporter": "python",
   "pygments_lexer": "ipython3",
   "version": "3.8.8"
  },
  "papermill": {
   "default_parameters": {},
   "duration": 1014.724107,
   "end_time": "2021-11-11T16:57:25.439218",
   "environment_variables": {},
   "exception": null,
   "input_path": "__notebook__.ipynb",
   "output_path": "__notebook__.ipynb",
   "parameters": {},
   "start_time": "2021-11-11T16:40:30.715111",
   "version": "2.3.3"
  }
 },
 "nbformat": 4,
 "nbformat_minor": 5
}
