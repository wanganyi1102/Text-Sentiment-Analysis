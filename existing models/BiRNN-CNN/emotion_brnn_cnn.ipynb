{
 "cells": [
  {
   "cell_type": "code",
   "execution_count": null,
   "id": "e75ddd0a",
   "metadata": {
    "id": "e75ddd0a"
   },
   "outputs": [],
   "source": [
    "import numpy as np\n",
    "import pandas as pd\n",
    "\n",
    "from gensim import corpora\n",
    "from nltk.corpus import stopwords\n",
    "from nltk.tokenize import word_tokenize \n",
    "from nltk.stem import SnowballStemmer\n",
    "\n",
    "from keras.preprocessing import sequence\n",
    "from keras.utils import np_utils\n",
    "from keras.models import Sequential\n",
    "from keras.layers import Dense, Dropout, Activation, Embedding\n",
    "from keras.layers import LSTM\n",
    "from sklearn import preprocessing\n",
    "from sklearn.metrics import (precision_score, recall_score,\n",
    "                             f1_score, accuracy_score,mean_squared_error,mean_absolute_error)\n",
    "np.random.seed(0)\n",
    "from tensorflow.keras.optimizers import RMSprop\n",
    "from keras import callbacks\n",
    "from keras.callbacks import ModelCheckpoint, EarlyStopping, ReduceLROnPlateau, CSVLogger"
   ]
  },
  {
   "cell_type": "code",
   "execution_count": null,
   "id": "EYOfKBhYMmZL",
   "metadata": {
    "colab": {
     "base_uri": "https://localhost:8080/"
    },
    "executionInfo": {
     "elapsed": 2555,
     "status": "ok",
     "timestamp": 1636796816933,
     "user": {
      "displayName": "hey there",
      "photoUrl": "https://lh3.googleusercontent.com/a/default-user=s64",
      "userId": "06967694209692681208"
     },
     "user_tz": -480
    },
    "id": "EYOfKBhYMmZL",
    "outputId": "67e0ab58-0ed4-4862-b58b-3a8c3cda9f29"
   },
   "outputs": [
    {
     "name": "stdout",
     "output_type": "stream",
     "text": [
      "Drive already mounted at /content/drive; to attempt to forcibly remount, call drive.mount(\"/content/drive\", force_remount=True).\n"
     ]
    }
   ],
   "source": [
    "from google.colab import drive\n",
    "drive.mount('/content/drive')"
   ]
  },
  {
   "cell_type": "markdown",
   "id": "07ae1ceb",
   "metadata": {
    "id": "07ae1ceb"
   },
   "source": [
    "### word2vec"
   ]
  },
  {
   "cell_type": "code",
   "execution_count": null,
   "id": "d10b7218",
   "metadata": {
    "id": "d10b7218"
   },
   "outputs": [],
   "source": [
    "from __future__ import print_function\n",
    "from collections import OrderedDict\n",
    "\n",
    "import time\n",
    "import _pickle as cPickle\n",
    "\n",
    "import urllib\n",
    "import matplotlib.pyplot as plt\n",
    "\n",
    "import os\n",
    "import sys\n",
    "import codecs\n",
    "import re\n",
    "import numpy as np\n",
    "\n",
    "parameters = OrderedDict()\n",
    "parameters['word_dim'] = 300"
   ]
  },
  {
   "cell_type": "code",
   "execution_count": null,
   "id": "1d4efccc",
   "metadata": {
    "colab": {
     "base_uri": "https://localhost:8080/",
     "height": 204
    },
    "executionInfo": {
     "elapsed": 34,
     "status": "ok",
     "timestamp": 1636796816935,
     "user": {
      "displayName": "hey there",
      "photoUrl": "https://lh3.googleusercontent.com/a/default-user=s64",
      "userId": "06967694209692681208"
     },
     "user_tz": -480
    },
    "id": "1d4efccc",
    "outputId": "eec68200-3143-4734-80d8-5774aa0b8050"
   },
   "outputs": [
    {
     "data": {
      "text/html": [
       "<div>\n",
       "<style scoped>\n",
       "    .dataframe tbody tr th:only-of-type {\n",
       "        vertical-align: middle;\n",
       "    }\n",
       "\n",
       "    .dataframe tbody tr th {\n",
       "        vertical-align: top;\n",
       "    }\n",
       "\n",
       "    .dataframe thead th {\n",
       "        text-align: right;\n",
       "    }\n",
       "</style>\n",
       "<table border=\"1\" class=\"dataframe\">\n",
       "  <thead>\n",
       "    <tr style=\"text-align: right;\">\n",
       "      <th></th>\n",
       "      <th>col</th>\n",
       "      <th>senti</th>\n",
       "    </tr>\n",
       "  </thead>\n",
       "  <tbody>\n",
       "    <tr>\n",
       "      <th>0</th>\n",
       "      <td>i didnt feel humiliated</td>\n",
       "      <td>sadness</td>\n",
       "    </tr>\n",
       "    <tr>\n",
       "      <th>1</th>\n",
       "      <td>i can go from feeling so hopeless to so damned...</td>\n",
       "      <td>sadness</td>\n",
       "    </tr>\n",
       "    <tr>\n",
       "      <th>2</th>\n",
       "      <td>im grabbing a minute to post i feel greedy wrong</td>\n",
       "      <td>anger</td>\n",
       "    </tr>\n",
       "    <tr>\n",
       "      <th>3</th>\n",
       "      <td>i am ever feeling nostalgic about the fireplac...</td>\n",
       "      <td>love</td>\n",
       "    </tr>\n",
       "    <tr>\n",
       "      <th>4</th>\n",
       "      <td>i am feeling grouchy</td>\n",
       "      <td>anger</td>\n",
       "    </tr>\n",
       "  </tbody>\n",
       "</table>\n",
       "</div>"
      ],
      "text/plain": [
       "                                                 col    senti\n",
       "0                            i didnt feel humiliated  sadness\n",
       "1  i can go from feeling so hopeless to so damned...  sadness\n",
       "2   im grabbing a minute to post i feel greedy wrong    anger\n",
       "3  i am ever feeling nostalgic about the fireplac...     love\n",
       "4                               i am feeling grouchy    anger"
      ]
     },
     "execution_count": 4,
     "metadata": {},
     "output_type": "execute_result"
    }
   ],
   "source": [
    "datanew = pd.read_csv('/content/drive/MyDrive/archive/train.txt', sep=';', engine='python', names=['col', 'senti'])\n",
    "datanew.head()"
   ]
  },
  {
   "cell_type": "code",
   "execution_count": null,
   "id": "f3b30e52",
   "metadata": {
    "colab": {
     "base_uri": "https://localhost:8080/",
     "height": 419
    },
    "executionInfo": {
     "elapsed": 31,
     "status": "ok",
     "timestamp": 1636796816938,
     "user": {
      "displayName": "hey there",
      "photoUrl": "https://lh3.googleusercontent.com/a/default-user=s64",
      "userId": "06967694209692681208"
     },
     "user_tz": -480
    },
    "id": "f3b30e52",
    "outputId": "3b128b54-6278-4d8e-89ab-f584b7b9d792"
   },
   "outputs": [
    {
     "data": {
      "text/html": [
       "<div>\n",
       "<style scoped>\n",
       "    .dataframe tbody tr th:only-of-type {\n",
       "        vertical-align: middle;\n",
       "    }\n",
       "\n",
       "    .dataframe tbody tr th {\n",
       "        vertical-align: top;\n",
       "    }\n",
       "\n",
       "    .dataframe thead th {\n",
       "        text-align: right;\n",
       "    }\n",
       "</style>\n",
       "<table border=\"1\" class=\"dataframe\">\n",
       "  <thead>\n",
       "    <tr style=\"text-align: right;\">\n",
       "      <th></th>\n",
       "      <th>col</th>\n",
       "      <th>onehot_sentiment</th>\n",
       "      <th>senti</th>\n",
       "    </tr>\n",
       "  </thead>\n",
       "  <tbody>\n",
       "    <tr>\n",
       "      <th>0</th>\n",
       "      <td>i didnt feel humiliated</td>\n",
       "      <td>[0.0, 0.0, 0.0, 0.0, 1.0, 0.0]</td>\n",
       "      <td>sadness</td>\n",
       "    </tr>\n",
       "    <tr>\n",
       "      <th>1</th>\n",
       "      <td>i can go from feeling so hopeless to so damned...</td>\n",
       "      <td>[0.0, 0.0, 0.0, 0.0, 1.0, 0.0]</td>\n",
       "      <td>sadness</td>\n",
       "    </tr>\n",
       "    <tr>\n",
       "      <th>2</th>\n",
       "      <td>im grabbing a minute to post i feel greedy wrong</td>\n",
       "      <td>[1.0, 0.0, 0.0, 0.0, 0.0, 0.0]</td>\n",
       "      <td>anger</td>\n",
       "    </tr>\n",
       "    <tr>\n",
       "      <th>3</th>\n",
       "      <td>i am ever feeling nostalgic about the fireplac...</td>\n",
       "      <td>[0.0, 0.0, 0.0, 1.0, 0.0, 0.0]</td>\n",
       "      <td>love</td>\n",
       "    </tr>\n",
       "    <tr>\n",
       "      <th>4</th>\n",
       "      <td>i am feeling grouchy</td>\n",
       "      <td>[1.0, 0.0, 0.0, 0.0, 0.0, 0.0]</td>\n",
       "      <td>anger</td>\n",
       "    </tr>\n",
       "    <tr>\n",
       "      <th>...</th>\n",
       "      <td>...</td>\n",
       "      <td>...</td>\n",
       "      <td>...</td>\n",
       "    </tr>\n",
       "    <tr>\n",
       "      <th>15995</th>\n",
       "      <td>i just had a very brief time in the beanbag an...</td>\n",
       "      <td>[0.0, 0.0, 0.0, 0.0, 1.0, 0.0]</td>\n",
       "      <td>sadness</td>\n",
       "    </tr>\n",
       "    <tr>\n",
       "      <th>15996</th>\n",
       "      <td>i am now turning and i feel pathetic that i am...</td>\n",
       "      <td>[0.0, 0.0, 0.0, 0.0, 1.0, 0.0]</td>\n",
       "      <td>sadness</td>\n",
       "    </tr>\n",
       "    <tr>\n",
       "      <th>15997</th>\n",
       "      <td>i feel strong and good overall</td>\n",
       "      <td>[0.0, 0.0, 1.0, 0.0, 0.0, 0.0]</td>\n",
       "      <td>joy</td>\n",
       "    </tr>\n",
       "    <tr>\n",
       "      <th>15998</th>\n",
       "      <td>i feel like this was such a rude comment and i...</td>\n",
       "      <td>[1.0, 0.0, 0.0, 0.0, 0.0, 0.0]</td>\n",
       "      <td>anger</td>\n",
       "    </tr>\n",
       "    <tr>\n",
       "      <th>15999</th>\n",
       "      <td>i know a lot but i feel so stupid because i ca...</td>\n",
       "      <td>[0.0, 0.0, 0.0, 0.0, 1.0, 0.0]</td>\n",
       "      <td>sadness</td>\n",
       "    </tr>\n",
       "  </tbody>\n",
       "</table>\n",
       "<p>16000 rows × 3 columns</p>\n",
       "</div>"
      ],
      "text/plain": [
       "                                                     col  ...    senti\n",
       "0                                i didnt feel humiliated  ...  sadness\n",
       "1      i can go from feeling so hopeless to so damned...  ...  sadness\n",
       "2       im grabbing a minute to post i feel greedy wrong  ...    anger\n",
       "3      i am ever feeling nostalgic about the fireplac...  ...     love\n",
       "4                                   i am feeling grouchy  ...    anger\n",
       "...                                                  ...  ...      ...\n",
       "15995  i just had a very brief time in the beanbag an...  ...  sadness\n",
       "15996  i am now turning and i feel pathetic that i am...  ...  sadness\n",
       "15997                     i feel strong and good overall  ...      joy\n",
       "15998  i feel like this was such a rude comment and i...  ...    anger\n",
       "15999  i know a lot but i feel so stupid because i ca...  ...  sadness\n",
       "\n",
       "[16000 rows x 3 columns]"
      ]
     },
     "execution_count": 5,
     "metadata": {},
     "output_type": "execute_result"
    }
   ],
   "source": [
    "## encode sentiment column to onehot\n",
    "from sklearn.preprocessing import OneHotEncoder\n",
    "\n",
    "enc = OneHotEncoder(handle_unknown='ignore')\n",
    "enc.fit(datanew['senti'].to_numpy().reshape(-1, 1))\n",
    "onehot_sentiment = enc.transform(datanew['senti'].to_numpy().reshape(-1, 1)).toarray()\n",
    "# onehot_sentiment = onehot_sentiment.reshape((40000, 1, 13))\n",
    "datanew.insert(1, \"onehot_sentiment\", list(onehot_sentiment))\n",
    "datanew"
   ]
  },
  {
   "cell_type": "markdown",
   "id": "8df8ec3d",
   "metadata": {
    "id": "8df8ec3d"
   },
   "source": [
    "### encode word"
   ]
  },
  {
   "cell_type": "code",
   "execution_count": null,
   "id": "9d02a586",
   "metadata": {
    "id": "9d02a586"
   },
   "outputs": [],
   "source": [
    "def create_dico(item_list):\n",
    "    \"\"\"\n",
    "    Create a dictionary of items from a list of list of items.\n",
    "    (item:count) pairs\n",
    "    \"\"\"\n",
    "    assert type(item_list) is list\n",
    "    dico = {}\n",
    "    for items in item_list:\n",
    "        for item in items:\n",
    "            if item not in dico:\n",
    "                dico[item] = 1\n",
    "            else:\n",
    "                dico[item] += 1\n",
    "    return dico\n",
    "\n",
    "def create_mapping(dico):\n",
    "    \"\"\"\n",
    "    Create a mapping (item to ID / ID to item) from a dictionary.\n",
    "    Items are ordered by decreasing frequency.\n",
    "    \"\"\"\n",
    "    sorted_items = sorted(dico.items(), key=lambda x: (-x[1], x[0]))\n",
    "    id_to_item = {i: v[0] for i, v in enumerate(sorted_items)}\n",
    "    item_to_id = {v: k for k, v in id_to_item.items()}\n",
    "    return item_to_id, id_to_item\n",
    "\n",
    "def word_mapping(sentences, lower):\n",
    "    \"\"\"\n",
    "    Create a dictionary and a mapping of words, sorted by frequency.\n",
    "    \n",
    "    return:\n",
    "    dico: dictionary of (word:frequency) pairs\n",
    "    word_to_id: dictionary of (word, id)\n",
    "    id_to_word: dictionary of (id, word)\n",
    "    \"\"\"\n",
    "    words = [[x.lower() if lower else x[0] for x in s] for s in sentences]\n",
    "    dico = create_dico(words)\n",
    "    dico['<UNK>'] = 10000000 #UNK tag for unknown words\n",
    "    word_to_id, id_to_word = create_mapping(dico)\n",
    "    print(\"Found %i unique words (%i in total)\" % (\n",
    "        len(dico), sum(len(x) for x in words)\n",
    "    ))\n",
    "    return dico, word_to_id, id_to_word"
   ]
  },
  {
   "cell_type": "code",
   "execution_count": null,
   "id": "aaUiKLPvNGKh",
   "metadata": {
    "colab": {
     "base_uri": "https://localhost:8080/"
    },
    "executionInfo": {
     "elapsed": 526,
     "status": "ok",
     "timestamp": 1636796817439,
     "user": {
      "displayName": "hey there",
      "photoUrl": "https://lh3.googleusercontent.com/a/default-user=s64",
      "userId": "06967694209692681208"
     },
     "user_tz": -480
    },
    "id": "aaUiKLPvNGKh",
    "outputId": "33b6827b-ceb0-41f0-a748-52202194423f"
   },
   "outputs": [
    {
     "name": "stdout",
     "output_type": "stream",
     "text": [
      "[nltk_data] Downloading package punkt to /root/nltk_data...\n",
      "[nltk_data]   Package punkt is already up-to-date!\n"
     ]
    },
    {
     "data": {
      "text/plain": [
       "True"
      ]
     },
     "execution_count": 7,
     "metadata": {},
     "output_type": "execute_result"
    }
   ],
   "source": [
    "import nltk\n",
    "nltk.download('punkt')"
   ]
  },
  {
   "cell_type": "code",
   "execution_count": null,
   "id": "32536d06",
   "metadata": {
    "id": "32536d06"
   },
   "outputs": [],
   "source": [
    "## tokenising sentences\n",
    "raw_content = datanew['col'].to_numpy()\n",
    "\n",
    "processed_docs = []\n",
    "for doc in raw_content:\n",
    "    tokens = word_tokenize(doc)\n",
    "#        filtered = [word for word in tokens if word not in stop_words]\n",
    "#        stemmed = [stemmer.stem(word) for word in filtered]\n",
    "    processed_docs.append(tokens)"
   ]
  },
  {
   "cell_type": "code",
   "execution_count": null,
   "id": "a2e10b86",
   "metadata": {
    "colab": {
     "base_uri": "https://localhost:8080/"
    },
    "executionInfo": {
     "elapsed": 19,
     "status": "ok",
     "timestamp": 1636796819953,
     "user": {
      "displayName": "hey there",
      "photoUrl": "https://lh3.googleusercontent.com/a/default-user=s64",
      "userId": "06967694209692681208"
     },
     "user_tz": -480
    },
    "id": "a2e10b86",
    "outputId": "d63de462-eefe-4922-dfdf-6e15c65e337d"
   },
   "outputs": [
    {
     "name": "stdout",
     "output_type": "stream",
     "text": [
      "Found 15211 unique words (306805 in total)\n"
     ]
    }
   ],
   "source": [
    "dico_words,word_to_id,id_to_word = word_mapping(processed_docs, True)"
   ]
  },
  {
   "cell_type": "code",
   "execution_count": null,
   "id": "03254b00",
   "metadata": {
    "id": "03254b00"
   },
   "outputs": [],
   "source": [
    "def lower_case(x,lower=False):\n",
    "    if lower:\n",
    "        return x.lower()  \n",
    "    else:\n",
    "        return x"
   ]
  },
  {
   "cell_type": "code",
   "execution_count": null,
   "id": "022ab1c7",
   "metadata": {
    "colab": {
     "base_uri": "https://localhost:8080/"
    },
    "executionInfo": {
     "elapsed": 503,
     "status": "ok",
     "timestamp": 1636796820448,
     "user": {
      "displayName": "hey there",
      "photoUrl": "https://lh3.googleusercontent.com/a/default-user=s64",
      "userId": "06967694209692681208"
     },
     "user_tz": -480
    },
    "id": "022ab1c7",
    "outputId": "356dd561-fe61-4ca7-f264-330378c7d24e"
   },
   "outputs": [
    {
     "name": "stdout",
     "output_type": "stream",
     "text": [
      "16000 sentences\n"
     ]
    }
   ],
   "source": [
    "def prepare_dataset(sentences, word_to_id, lower=False):\n",
    "    \"\"\"\n",
    "    Prepare the dataset. Return a list of lists of dictionaries containing:\n",
    "        - word indexes\n",
    "        - word char indexes\n",
    "        - tag indexes\n",
    "    \"\"\"\n",
    "    data = []\n",
    "    for s in sentences:\n",
    "        str_words = [w for w in s]\n",
    "        words = [word_to_id[lower_case(w,lower) if lower_case(w,lower) in word_to_id else '<UNK>']\n",
    "                 for w in str_words]\n",
    "        data.append({\n",
    "            'str_words': str_words, #list of all words in the sentence\n",
    "            'words': words, #list of word index for all words in the sentence\n",
    "        })\n",
    "    return data\n",
    "\n",
    "data = prepare_dataset(\n",
    "    processed_docs, word_to_id, True\n",
    ")\n",
    "\n",
    "print(\"{} sentences\".format(len(data)))"
   ]
  },
  {
   "cell_type": "code",
   "execution_count": null,
   "id": "7ef648e2",
   "metadata": {
    "colab": {
     "base_uri": "https://localhost:8080/"
    },
    "executionInfo": {
     "elapsed": 52003,
     "status": "ok",
     "timestamp": 1636796872447,
     "user": {
      "displayName": "hey there",
      "photoUrl": "https://lh3.googleusercontent.com/a/default-user=s64",
      "userId": "06967694209692681208"
     },
     "user_tz": -480
    },
    "id": "7ef648e2",
    "outputId": "d9af70cc-8127-46d9-cb93-53e45bc3adb4",
    "scrolled": true
   },
   "outputs": [
    {
     "name": "stdout",
     "output_type": "stream",
     "text": [
      "Loaded 400000 pretrained embeddings.\n"
     ]
    }
   ],
   "source": [
    "all_word_embeds = {}\n",
    "for i, line in enumerate(codecs.open('/content/drive/MyDrive/data/glove.6B.300d.txt', 'r', 'utf-8')):\n",
    "    s = line.strip().split()\n",
    "    if len(s) == parameters['word_dim'] + 1:\n",
    "        all_word_embeds[s[0]] = np.array([float(i) for i in s[1:]])\n",
    "\n",
    "#Intializing Word Embedding Matrix\n",
    "word_embeds = np.random.uniform(-np.sqrt(0.06), np.sqrt(0.06), (len(word_to_id), parameters['word_dim']))\n",
    "\n",
    "for w in word_to_id:\n",
    "    if w in all_word_embeds:\n",
    "        word_embeds[word_to_id[w]] = all_word_embeds[w]\n",
    "    elif w.lower() in all_word_embeds:\n",
    "        word_embeds[word_to_id[w]] = all_word_embeds[w.lower()]\n",
    "\n",
    "print('Loaded %i pretrained embeddings.' % len(all_word_embeds))"
   ]
  },
  {
   "cell_type": "code",
   "execution_count": null,
   "id": "PHsRJcDoPNFj",
   "metadata": {
    "colab": {
     "base_uri": "https://localhost:8080/"
    },
    "executionInfo": {
     "elapsed": 61,
     "status": "ok",
     "timestamp": 1636796872449,
     "user": {
      "displayName": "hey there",
      "photoUrl": "https://lh3.googleusercontent.com/a/default-user=s64",
      "userId": "06967694209692681208"
     },
     "user_tz": -480
    },
    "id": "PHsRJcDoPNFj",
    "outputId": "eaa09cdd-3577-4e25-e02e-3ae0c0f16857"
   },
   "outputs": [
    {
     "data": {
      "text/plain": [
       "400000"
      ]
     },
     "execution_count": 13,
     "metadata": {},
     "output_type": "execute_result"
    }
   ],
   "source": [
    "len(all_word_embeds)"
   ]
  },
  {
   "cell_type": "code",
   "execution_count": null,
   "id": "RsytDsjsPQpm",
   "metadata": {
    "colab": {
     "base_uri": "https://localhost:8080/"
    },
    "executionInfo": {
     "elapsed": 50,
     "status": "ok",
     "timestamp": 1636796872450,
     "user": {
      "displayName": "hey there",
      "photoUrl": "https://lh3.googleusercontent.com/a/default-user=s64",
      "userId": "06967694209692681208"
     },
     "user_tz": -480
    },
    "id": "RsytDsjsPQpm",
    "outputId": "208ca975-b44b-401e-e8f2-cfb8a023da46"
   },
   "outputs": [
    {
     "data": {
      "text/plain": [
       "15211"
      ]
     },
     "execution_count": 14,
     "metadata": {},
     "output_type": "execute_result"
    }
   ],
   "source": [
    "len(word_embeds)"
   ]
  },
  {
   "cell_type": "code",
   "execution_count": null,
   "id": "FFH3YGgqPd4z",
   "metadata": {
    "colab": {
     "base_uri": "https://localhost:8080/"
    },
    "executionInfo": {
     "elapsed": 47,
     "status": "ok",
     "timestamp": 1636796872451,
     "user": {
      "displayName": "hey there",
      "photoUrl": "https://lh3.googleusercontent.com/a/default-user=s64",
      "userId": "06967694209692681208"
     },
     "user_tz": -480
    },
    "id": "FFH3YGgqPd4z",
    "outputId": "8abcdd18-7ba2-4533-f93c-dc2a29caa790"
   },
   "outputs": [
    {
     "data": {
      "text/plain": [
       "array([[ 0.02391364,  0.10542083,  0.05034357, ...,  0.17743688,\n",
       "         0.23168229,  0.22576195],\n",
       "       [-0.13292   ,  0.16985   , -0.1436    , ..., -0.23778   ,\n",
       "         0.14766   ,  0.62902   ],\n",
       "       [ 0.19787   ,  0.102     ,  0.037849  , ...,  0.21781   ,\n",
       "        -0.080212  ,  0.10157   ],\n",
       "       ...,\n",
       "       [-0.037667  , -0.37043   ,  0.60163   , ...,  0.24776   ,\n",
       "         0.75869   , -0.057032  ],\n",
       "       [ 0.34759   ,  0.33437   , -0.26603   , ...,  0.94051   ,\n",
       "         0.30409   ,  0.32668   ],\n",
       "       [-0.33141   , -0.19132   , -0.037934  , ...,  0.28595   ,\n",
       "         0.14024   , -0.29579   ]])"
      ]
     },
     "execution_count": 15,
     "metadata": {},
     "output_type": "execute_result"
    }
   ],
   "source": [
    "word_embeds"
   ]
  },
  {
   "cell_type": "code",
   "execution_count": null,
   "id": "758d5a31",
   "metadata": {
    "colab": {
     "base_uri": "https://localhost:8080/"
    },
    "executionInfo": {
     "elapsed": 44,
     "status": "ok",
     "timestamp": 1636796872453,
     "user": {
      "displayName": "hey there",
      "photoUrl": "https://lh3.googleusercontent.com/a/default-user=s64",
      "userId": "06967694209692681208"
     },
     "user_tz": -480
    },
    "id": "758d5a31",
    "outputId": "c4de8e85-c8b2-433f-dfff-1657c5f2d125"
   },
   "outputs": [
    {
     "data": {
      "text/plain": [
       "0.6816746611786186"
      ]
     },
     "execution_count": 16,
     "metadata": {},
     "output_type": "execute_result"
    }
   ],
   "source": [
    "from scipy import spatial\n",
    "\n",
    "dataSetI = all_word_embeds['dog'].tolist()\n",
    "dataSetII = all_word_embeds['cat'].tolist()\n",
    "result = 1 - spatial.distance.cosine(dataSetI, dataSetII)\n",
    "result"
   ]
  },
  {
   "cell_type": "code",
   "execution_count": null,
   "id": "pOL3icMBLdiE",
   "metadata": {
    "colab": {
     "base_uri": "https://localhost:8080/"
    },
    "executionInfo": {
     "elapsed": 42,
     "status": "ok",
     "timestamp": 1636796872455,
     "user": {
      "displayName": "hey there",
      "photoUrl": "https://lh3.googleusercontent.com/a/default-user=s64",
      "userId": "06967694209692681208"
     },
     "user_tz": -480
    },
    "id": "pOL3icMBLdiE",
    "outputId": "1fec012d-7118-47f5-f632-c21803d382a1"
   },
   "outputs": [
    {
     "data": {
      "text/plain": [
       "66"
      ]
     },
     "execution_count": 17,
     "metadata": {},
     "output_type": "execute_result"
    }
   ],
   "source": [
    "pd.DataFrame(data)[\"words\"].apply(lambda x: len(x)).max()"
   ]
  },
  {
   "cell_type": "code",
   "execution_count": null,
   "id": "8c8e52f8",
   "metadata": {
    "id": "8c8e52f8"
   },
   "outputs": [],
   "source": [
    "word_indices = [i['words'] for i in data]\n",
    "padded_indices = []\n",
    "for sent in word_indices:\n",
    "    padding_size = 110 - len(sent)\n",
    "    padded = sent + [0 for i in range(padding_size)]\n",
    "    padded_indices.append(padded)"
   ]
  },
  {
   "cell_type": "code",
   "execution_count": null,
   "id": "c79a5d1e",
   "metadata": {
    "colab": {
     "base_uri": "https://localhost:8080/",
     "height": 419
    },
    "executionInfo": {
     "elapsed": 39,
     "status": "ok",
     "timestamp": 1636796872458,
     "user": {
      "displayName": "hey there",
      "photoUrl": "https://lh3.googleusercontent.com/a/default-user=s64",
      "userId": "06967694209692681208"
     },
     "user_tz": -480
    },
    "id": "c79a5d1e",
    "outputId": "c4e20fce-785b-4966-d8ff-5ed8b52eb0d1"
   },
   "outputs": [
    {
     "data": {
      "text/html": [
       "<div>\n",
       "<style scoped>\n",
       "    .dataframe tbody tr th:only-of-type {\n",
       "        vertical-align: middle;\n",
       "    }\n",
       "\n",
       "    .dataframe tbody tr th {\n",
       "        vertical-align: top;\n",
       "    }\n",
       "\n",
       "    .dataframe thead th {\n",
       "        text-align: right;\n",
       "    }\n",
       "</style>\n",
       "<table border=\"1\" class=\"dataframe\">\n",
       "  <thead>\n",
       "    <tr style=\"text-align: right;\">\n",
       "      <th></th>\n",
       "      <th>col</th>\n",
       "      <th>padded_indices</th>\n",
       "      <th>onehot_sentiment</th>\n",
       "      <th>senti</th>\n",
       "    </tr>\n",
       "  </thead>\n",
       "  <tbody>\n",
       "    <tr>\n",
       "      <th>0</th>\n",
       "      <td>i didnt feel humiliated</td>\n",
       "      <td>[1, 139, 2, 685, 0, 0, 0, 0, 0, 0, 0, 0, 0, 0,...</td>\n",
       "      <td>[0.0, 0.0, 0.0, 0.0, 1.0, 0.0]</td>\n",
       "      <td>sadness</td>\n",
       "    </tr>\n",
       "    <tr>\n",
       "      <th>1</th>\n",
       "      <td>i can go from feeling so hopeless to so damned...</td>\n",
       "      <td>[1, 39, 100, 59, 7, 14, 495, 4, 14, 3641, 555,...</td>\n",
       "      <td>[0.0, 0.0, 0.0, 0.0, 1.0, 0.0]</td>\n",
       "      <td>sadness</td>\n",
       "    </tr>\n",
       "    <tr>\n",
       "      <th>2</th>\n",
       "      <td>im grabbing a minute to post i feel greedy wrong</td>\n",
       "      <td>[16, 3238, 6, 1164, 4, 287, 1, 2, 494, 446, 0,...</td>\n",
       "      <td>[1.0, 0.0, 0.0, 0.0, 0.0, 0.0]</td>\n",
       "      <td>anger</td>\n",
       "    </tr>\n",
       "    <tr>\n",
       "      <th>3</th>\n",
       "      <td>i am ever feeling nostalgic about the fireplac...</td>\n",
       "      <td>[1, 23, 164, 7, 670, 26, 5, 4516, 1, 58, 47, 8...</td>\n",
       "      <td>[0.0, 0.0, 0.0, 1.0, 0.0, 0.0]</td>\n",
       "      <td>love</td>\n",
       "    </tr>\n",
       "    <tr>\n",
       "      <th>4</th>\n",
       "      <td>i am feeling grouchy</td>\n",
       "      <td>[1, 23, 7, 1074, 0, 0, 0, 0, 0, 0, 0, 0, 0, 0,...</td>\n",
       "      <td>[1.0, 0.0, 0.0, 0.0, 0.0, 0.0]</td>\n",
       "      <td>anger</td>\n",
       "    </tr>\n",
       "    <tr>\n",
       "      <th>...</th>\n",
       "      <td>...</td>\n",
       "      <td>...</td>\n",
       "      <td>...</td>\n",
       "      <td>...</td>\n",
       "    </tr>\n",
       "    <tr>\n",
       "      <th>15995</th>\n",
       "      <td>i just had a very brief time in the beanbag an...</td>\n",
       "      <td>[1, 31, 56, 6, 45, 4267, 51, 11, 5, 7974, 3, 1...</td>\n",
       "      <td>[0.0, 0.0, 0.0, 0.0, 1.0, 0.0]</td>\n",
       "      <td>sadness</td>\n",
       "    </tr>\n",
       "    <tr>\n",
       "      <th>15996</th>\n",
       "      <td>i am now turning and i feel pathetic that i am...</td>\n",
       "      <td>[1, 23, 57, 1248, 3, 1, 2, 624, 8, 1, 23, 71, ...</td>\n",
       "      <td>[0.0, 0.0, 0.0, 0.0, 1.0, 0.0]</td>\n",
       "      <td>sadness</td>\n",
       "    </tr>\n",
       "    <tr>\n",
       "      <th>15997</th>\n",
       "      <td>i feel strong and good overall</td>\n",
       "      <td>[1, 2, 325, 3, 101, 1320, 0, 0, 0, 0, 0, 0, 0,...</td>\n",
       "      <td>[0.0, 0.0, 1.0, 0.0, 0.0, 0.0]</td>\n",
       "      <td>joy</td>\n",
       "    </tr>\n",
       "    <tr>\n",
       "      <th>15998</th>\n",
       "      <td>i feel like this was such a rude comment and i...</td>\n",
       "      <td>[1, 2, 13, 22, 19, 181, 6, 575, 1221, 3, 16, 3...</td>\n",
       "      <td>[1.0, 0.0, 0.0, 0.0, 0.0, 0.0]</td>\n",
       "      <td>anger</td>\n",
       "    </tr>\n",
       "    <tr>\n",
       "      <th>15999</th>\n",
       "      <td>i know a lot but i feel so stupid because i ca...</td>\n",
       "      <td>[1, 47, 6, 157, 18, 1, 2, 14, 282, 36, 1, 39, ...</td>\n",
       "      <td>[0.0, 0.0, 0.0, 0.0, 1.0, 0.0]</td>\n",
       "      <td>sadness</td>\n",
       "    </tr>\n",
       "  </tbody>\n",
       "</table>\n",
       "<p>16000 rows × 4 columns</p>\n",
       "</div>"
      ],
      "text/plain": [
       "                                                     col  ...    senti\n",
       "0                                i didnt feel humiliated  ...  sadness\n",
       "1      i can go from feeling so hopeless to so damned...  ...  sadness\n",
       "2       im grabbing a minute to post i feel greedy wrong  ...    anger\n",
       "3      i am ever feeling nostalgic about the fireplac...  ...     love\n",
       "4                                   i am feeling grouchy  ...    anger\n",
       "...                                                  ...  ...      ...\n",
       "15995  i just had a very brief time in the beanbag an...  ...  sadness\n",
       "15996  i am now turning and i feel pathetic that i am...  ...  sadness\n",
       "15997                     i feel strong and good overall  ...      joy\n",
       "15998  i feel like this was such a rude comment and i...  ...    anger\n",
       "15999  i know a lot but i feel so stupid because i ca...  ...  sadness\n",
       "\n",
       "[16000 rows x 4 columns]"
      ]
     },
     "execution_count": 19,
     "metadata": {},
     "output_type": "execute_result"
    }
   ],
   "source": [
    "datanew.insert(1, \"padded_indices\", list(padded_indices))\n",
    "datanew"
   ]
  },
  {
   "cell_type": "code",
   "execution_count": null,
   "id": "7yGfGbsyNQSn",
   "metadata": {
    "colab": {
     "base_uri": "https://localhost:8080/"
    },
    "executionInfo": {
     "elapsed": 36,
     "status": "ok",
     "timestamp": 1636796872460,
     "user": {
      "displayName": "hey there",
      "photoUrl": "https://lh3.googleusercontent.com/a/default-user=s64",
      "userId": "06967694209692681208"
     },
     "user_tz": -480
    },
    "id": "7yGfGbsyNQSn",
    "outputId": "0e634d66-c011-4a85-b833-671d478523b0"
   },
   "outputs": [
    {
     "data": {
      "text/plain": [
       "{'anger', 'fear', 'joy', 'love', 'sadness', 'surprise'}"
      ]
     },
     "execution_count": 20,
     "metadata": {},
     "output_type": "execute_result"
    }
   ],
   "source": [
    "set(datanew[\"senti\"])"
   ]
  },
  {
   "cell_type": "code",
   "execution_count": null,
   "id": "7c70f61b",
   "metadata": {
    "colab": {
     "base_uri": "https://localhost:8080/"
    },
    "executionInfo": {
     "elapsed": 35,
     "status": "ok",
     "timestamp": 1636796872463,
     "user": {
      "displayName": "hey there",
      "photoUrl": "https://lh3.googleusercontent.com/a/default-user=s64",
      "userId": "06967694209692681208"
     },
     "user_tz": -480
    },
    "id": "7c70f61b",
    "outputId": "13c091be-8d41-4d13-d7c0-2b353915fb05"
   },
   "outputs": [
    {
     "name": "stdout",
     "output_type": "stream",
     "text": [
      "X train:  11200 (11200,)\n",
      "y train:  11200 (11200,)\n",
      "y test:  4800 (4800,)\n"
     ]
    }
   ],
   "source": [
    "from sklearn.model_selection import train_test_split\n",
    "X = datanew['padded_indices'].to_numpy()\n",
    "y = datanew['onehot_sentiment'].to_numpy()\n",
    "X_train, X_test, y_train, y_test = train_test_split(X, y, test_size=0.3, random_state=42)\n",
    "print(\"X train: \", len(X_train), X_train.shape)\n",
    "print(\"y train: \", len(y_train), y_train.shape)\n",
    "print(\"y test: \", len(y_test), y_test.shape)"
   ]
  },
  {
   "cell_type": "code",
   "execution_count": null,
   "id": "8e9a7b3d",
   "metadata": {
    "colab": {
     "base_uri": "https://localhost:8080/"
    },
    "executionInfo": {
     "elapsed": 462,
     "status": "ok",
     "timestamp": 1636796872894,
     "user": {
      "displayName": "hey there",
      "photoUrl": "https://lh3.googleusercontent.com/a/default-user=s64",
      "userId": "06967694209692681208"
     },
     "user_tz": -480
    },
    "id": "8e9a7b3d",
    "outputId": "a87ed8f4-514c-4c62-8ac4-36ea155b018e"
   },
   "outputs": [
    {
     "name": "stdout",
     "output_type": "stream",
     "text": [
      "(11200, 110)\n",
      "(11200, 6)\n",
      "(4800, 110)\n",
      "(4800, 6)\n"
     ]
    }
   ],
   "source": [
    "X_train = np.array([np.array(x) for x in X_train])\n",
    "y_train = np.array([np.array(x) for x in y_train])\n",
    "X_test = np.array([np.array(x) for x in X_test])\n",
    "y_test = np.array([np.array(x) for x in y_test])\n",
    "\n",
    "print(X_train.shape)\n",
    "print(y_train.shape)\n",
    "print(X_test.shape)\n",
    "print(y_test.shape)"
   ]
  },
  {
   "cell_type": "markdown",
   "id": "e9f90c2c",
   "metadata": {
    "id": "e9f90c2c"
   },
   "source": [
    "### Zhou model"
   ]
  },
  {
   "cell_type": "code",
   "execution_count": null,
   "id": "85bd3c1d",
   "metadata": {
    "id": "85bd3c1d"
   },
   "outputs": [],
   "source": [
    "import tensorflow as tf\n",
    "# so that dont have to rerun\n",
    "tf.compat.v1.reset_default_graph()"
   ]
  },
  {
   "cell_type": "code",
   "execution_count": null,
   "id": "031cf79f",
   "metadata": {
    "colab": {
     "base_uri": "https://localhost:8080/"
    },
    "executionInfo": {
     "elapsed": 2020,
     "status": "ok",
     "timestamp": 1636796874908,
     "user": {
      "displayName": "hey there",
      "photoUrl": "https://lh3.googleusercontent.com/a/default-user=s64",
      "userId": "06967694209692681208"
     },
     "user_tz": -480
    },
    "id": "031cf79f",
    "outputId": "e89f507b-9823-41f3-e794-606c785a4685"
   },
   "outputs": [
    {
     "name": "stdout",
     "output_type": "stream",
     "text": [
      "WARNING:tensorflow:<keras.layers.legacy_rnn.rnn_cell_impl.BasicRNNCell object at 0x7f874364af90>: Note that this cell is not optimized for performance. Please use tf.contrib.cudnn_rnn.CudnnRNNTanh for better performance on GPU.\n",
      "WARNING:tensorflow:From <ipython-input-24-ec16fd4cd85e>:87: static_bidirectional_rnn (from tensorflow.python.ops.rnn) is deprecated and will be removed in a future version.\n",
      "Instructions for updating:\n",
      "Please use `keras.layers.Bidirectional(keras.layers.RNN(cell, unroll=True))`, which is equivalent to this API\n",
      "WARNING:tensorflow:From /usr/local/lib/python3.7/dist-packages/tensorflow/python/ops/rnn.py:1658: static_rnn (from tensorflow.python.ops.rnn) is deprecated and will be removed in a future version.\n",
      "Instructions for updating:\n",
      "Please use `keras.layers.RNN(cell, unroll=True)`, which is equivalent to this API\n"
     ]
    },
    {
     "name": "stderr",
     "output_type": "stream",
     "text": [
      "/usr/local/lib/python3.7/dist-packages/ipykernel_launcher.py:81: UserWarning: `tf.nn.rnn_cell.BasicRNNCell` is deprecated and will be removed in a future version. This class is equivalent as `tf.keras.layers.SimpleRNNCell`, and will be replaced by that in Tensorflow 2.0.\n",
      "/usr/local/lib/python3.7/dist-packages/keras/layers/legacy_rnn/rnn_cell_impl.py:459: UserWarning: `layer.add_variable` is deprecated and will be removed in a future version. Please use `layer.add_weight` method instead.\n",
      "  shape=[input_depth + self._num_units, self._num_units])\n",
      "/usr/local/lib/python3.7/dist-packages/keras/layers/legacy_rnn/rnn_cell_impl.py:463: UserWarning: `layer.add_variable` is deprecated and will be removed in a future version. Please use `layer.add_weight` method instead.\n",
      "  initializer=tf.compat.v1.zeros_initializer(dtype=self.dtype))\n"
     ]
    },
    {
     "name": "stdout",
     "output_type": "stream",
     "text": [
      "(2, 10, 300)\n",
      "embedding: (2, 10, 300)\n",
      "lstm: (2, 10, 300)\n",
      "conv: (2, 8, 298, 100)\n",
      "pooling: (2, 4, 149, 1, 1)\n",
      "flatten: (2, 596)\n"
     ]
    }
   ],
   "source": [
    "import tensorflow as tf\n",
    "from tensorflow.keras import layers\n",
    "import keras\n",
    "# from keras_self_attention import SeqSelfAttention, SeqWeightedAttention\n",
    "\n",
    "\n",
    "class ZhouBLSTMCNNModel:\n",
    "\n",
    "    def __init__(self,\n",
    "        embedding,\n",
    "        em_drop_rate = 0.5,\n",
    "        lstm_units   = 300,\n",
    "        lstm_drop_rate = 0.5,\n",
    "        conv_size    = (3, 3),\n",
    "        conv_filters = 100,\n",
    "        pool_size    = (2, 2),\n",
    "        pool_drop_rate = 0.5):\n",
    "        '''Constructor.\n",
    "        # Parameters:\n",
    "        embedding: Numpy array representing the embedding.\n",
    "        em_drop_rate: Drop rate after the embedding layer.\n",
    "        lstm_units: Size of the internal states of the LSTM cells.\n",
    "        lstm_drop_rate: Drop rate after the lstm layer.\n",
    "        conv_size: Size of the convolutions.\n",
    "        conv_filters: Number of convolutions filters.\n",
    "        pool_size: Size for the max pooling layer.\n",
    "        pool_drop_rate: Drop rate of the max pooling layer.\n",
    "        '''\n",
    "        self._embedding      = embedding\n",
    "        self._em_drop_rate   = em_drop_rate\n",
    "        self._lstm_units     = lstm_units\n",
    "        self._lstm_drop_rate = lstm_drop_rate\n",
    "        self._conv_size      = conv_size\n",
    "        self._conv_filters   = conv_filters\n",
    "        self._pool_size      = pool_size\n",
    "        self._pool_drop_rate = pool_drop_rate\n",
    "\n",
    "    def __call__(self, input):\n",
    "        self._embedding_tf = self._create_embedding_layer(\n",
    "            self._em_drop_rate, self._embedding, input)\n",
    "\n",
    "        self._sequences_tf = self._create_blstm_layer(\n",
    "            self._lstm_units,\n",
    "            self._lstm_drop_rate,\n",
    "            self._embedding_tf)\n",
    "\n",
    "        self._convolution_tf = self._create_convolutional_layer(\n",
    "            self._conv_size,\n",
    "            self._conv_filters,\n",
    "            self._sequences_tf)\n",
    "        \n",
    "        self._pooling_tf = self._create_maxpooling_layer(\n",
    "            self._pool_size,\n",
    "            self._pool_drop_rate,\n",
    "            self._convolution_tf)\n",
    "\n",
    "        self._flatten_tf = self._create_flatten_layer(self._pooling_tf)\n",
    "\n",
    "        return self._flatten_tf\n",
    "\n",
    "    def summary(self):\n",
    "        print(\"embedding: \" + str(self._embedding_tf.shape))\n",
    "        print(\"lstm: \" + str(self._sequences_tf.shape))\n",
    "        print(\"conv: \" + str(self._convolution_tf.shape))\n",
    "        print(\"pooling: \" + str(self._pooling_tf.shape))\n",
    "        print(\"flatten: \" + str(self._flatten_tf.shape))\n",
    "\n",
    "    # this function converts each word from input_x into dense vector of dimension 300 (dimension depending on word2vec)\n",
    "    # embedding  = word_vector\n",
    "    def _create_embedding_layer(self, em_drop_rate, embedding, input_x):\n",
    "        embedding = tf.Variable(initial_value=embedding)\n",
    "\n",
    "        embedded_chars = tf.nn.embedding_lookup(  # lookup word_vector(embedding) by index (input_x)\n",
    "            embedding, tf.cast(input_x, 'int32'))\n",
    "\n",
    "        return tf.nn.dropout(embedded_chars, rate=em_drop_rate)\n",
    "\n",
    "    # bidirectional lstm layer\n",
    "    # \n",
    "    def _create_blstm_layer(self, lstm_units, lstm_drop_rate, embedding):\n",
    "        lstm_cell = tf.compat.v1.nn.rnn_cell.BasicRNNCell(lstm_units)\n",
    "        sequence = tf.unstack(embedding, axis=1) #embedded input words\n",
    "        \n",
    "        # hs, _, _ are outputs, output_state_fw, output_state_bw respectively\n",
    "        hs, _, _ = tf.compat.v1.nn.static_bidirectional_rnn(lstm_cell, lstm_cell, #forward and backward direction\n",
    "            sequence, #input\n",
    "            dtype=tf.float32)\n",
    "        \n",
    "        hs = tf.stack(\n",
    "            values=hs,\n",
    "            axis=1)\n",
    "        ss = tf.math.reduce_sum(\n",
    "            tf.reshape(hs, shape=[-1, hs.shape[1], 2, lstm_units]),\n",
    "            axis=2\n",
    "        )\n",
    "        \n",
    "        # attn = SeqSelfAttention(attention_activation='sigmoid')(ss)\n",
    "\n",
    "        return tf.nn.dropout(ss, rate=lstm_drop_rate)\n",
    "\n",
    "    def _create_convolutional_layer(self,\n",
    "        conv_size, num_filters, tensor):\n",
    "        \n",
    "        print(str(tensor.shape))\n",
    "\n",
    "        filter_heigth = conv_size[0]\n",
    "        filter_width  = conv_size[1]\n",
    "\n",
    "        filter_shape = [filter_heigth, filter_width,\n",
    "            1, num_filters]\n",
    "\n",
    "        W = tf.Variable(\n",
    "            initial_value=tf.random.truncated_normal(\n",
    "                shape=filter_shape,\n",
    "                stddev=0.1))\n",
    "        b = tf.Variable(\n",
    "            initial_value=tf.random.truncated_normal(\n",
    "                shape=[num_filters]))\n",
    "\n",
    "        tensor_expanded = tf.expand_dims(tensor, -1)\n",
    "        conv = tf.nn.conv2d(\n",
    "            input=tensor_expanded,\n",
    "            filters=W, #####filter to filters, idk if it changed stuff\n",
    "            strides=[1,1,1,1],\n",
    "            padding='VALID')\n",
    "\n",
    "        bias = tf.nn.bias_add(conv, b)\n",
    "        c = tf.nn.relu(bias)\n",
    "\n",
    "        return c\n",
    "\n",
    "    def _create_maxpooling_layer(self, size, pool_drop_rate, conv):\n",
    "        pooled = tf.nn.max_pool3d(\n",
    "            input=tf.expand_dims(conv, -1),\n",
    "            ksize=[1, size[0], size[1], conv.shape[3], 1],\n",
    "            strides=[1, size[0], size[1], conv.shape[3], 1],\n",
    "            padding='VALID')\n",
    "        \n",
    "        return tf.nn.dropout(pooled, rate=pool_drop_rate)\n",
    "\n",
    "    def _create_flatten_layer(self, tensor):\n",
    "        return tf.reshape(tensor, [-1, tensor.shape[1] * tensor.shape[2]])\n",
    "\n",
    "\n",
    "if __name__ == '__main__':\n",
    "    embedding_size  = 300\n",
    "    num_words       = 1000\n",
    "    sentence_length = 10\n",
    "\n",
    "    embedding = [\n",
    "        [float(i) for i in range(embedding_size)] for _ in range(num_words)\n",
    "    ]\n",
    "    data = [\n",
    "        [i     for i in range(sentence_length)],\n",
    "        [i + 1 for i in range(sentence_length)]\n",
    "    ]\n",
    "\n",
    "    model = ZhouBLSTMCNNModel(embedding)\n",
    "    model(data)\n",
    "    model.summary()"
   ]
  },
  {
   "cell_type": "code",
   "execution_count": null,
   "id": "b9022754",
   "metadata": {
    "id": "b9022754"
   },
   "outputs": [],
   "source": [
    "import tensorflow as tf\n",
    "from numba import jit, cuda\n",
    "\n",
    "class Classifier:\n",
    "\n",
    "    def __init__(self, model, input_length, output_length):\n",
    "        '''Constructor.\n",
    "        # Parameters:\n",
    "        input_length: sentence length (max number of words in sentence)\n",
    "        output_length: number of classes of sentiment\n",
    "        '''\n",
    "        self.model = model\n",
    "        self.input_length = input_length\n",
    "        self.output_length = output_length\n",
    "\n",
    "    def compile(self, batch_size=32):\n",
    "        tf.compat.v1.disable_eager_execution()\n",
    "        self._ds_x = tf.compat.v1.placeholder(tf.float32, [None, self.input_length])\n",
    "        self._ds_y = tf.compat.v1.placeholder(tf.float32, [None, self.output_length])\n",
    "\n",
    "        ds = tf.compat.v1.data.Dataset.from_tensor_slices((self._ds_x, self._ds_y))\n",
    "        ds = ds.batch(batch_size)\n",
    "\n",
    "        self._ds_it = ds.make_initializable_iterator()\n",
    "        self._input, self._labels = self._ds_it.get_next()\n",
    "\n",
    "        self._features = self.model(self._input)\n",
    "        self._output = _create_dense_layer(self._features, self.output_length)\n",
    "\n",
    "        self._create_acc_computations()\n",
    "        self._create_backpropagation()\n",
    "\n",
    "        self._session = tf.compat.v1.Session()\n",
    "        self._session.run(tf.compat.v1.global_variables_initializer())\n",
    "        self._session.run(tf.compat.v1.local_variables_initializer())\n",
    "\n",
    "    def _create_acc_computations(self):\n",
    "        self._predictions = tf.argmax(self._output, 1)\n",
    "        labels = tf.argmax(self._labels, 1)\n",
    "        self._accuracy = tf.reduce_mean(\n",
    "            tf.cast(tf.equal(self._predictions, labels), 'float32'))\n",
    "\n",
    "    def _create_backpropagation(self):\n",
    "        losses = tf.compat.v1.nn.softmax_cross_entropy_with_logits_v2(\n",
    "            logits=self._output,\n",
    "            labels=self._labels)\n",
    "        self._loss = tf.reduce_mean(losses)\n",
    "\n",
    "        optimizer = tf.compat.v1.train.AdamOptimizer(0.001)\n",
    "        global_step = tf.Variable(0, name=\"global_step\", trainable=False)\n",
    "        grads_and_vars = optimizer.compute_gradients(self._loss)\n",
    "\n",
    "        self._train_op = optimizer.apply_gradients(\n",
    "            grads_and_vars, global_step=global_step)\n",
    "\n",
    "    def summary(self):\n",
    "        print('input:', self._input.shape)\n",
    "        self.model.summary()\n",
    "        print('output:', self._output.shape)\n",
    "\n",
    "#     @jit(target =\"cuda\")  \n",
    "    def train(self, X_train, y_train, X_eval, y_eval, epochs=10):\n",
    "        import time\n",
    "        loss_ls, acc_ls, val_loss_ls, val_acc_ls = [],[],[],[]\n",
    "        start_start = time.time()\n",
    "        for e in range(epochs):\n",
    "            start_time = time.time()\n",
    "            loss, acc = self._train(X_train, y_train)\n",
    "            loss_ls.append(loss)\n",
    "            acc_ls.append(acc)\n",
    "            duration = time.time() - start_time\n",
    "\n",
    "            val_loss, val_acc = self._eval(X_eval, y_eval)\n",
    "            val_loss_ls.append(val_loss)\n",
    "            val_acc_ls.append(val_acc)\n",
    "\n",
    "            output = 'Epoch: {}, loss = {:.4f}, acc = {:.4f}, val_loss = {:.4f}, val_acc = {:.4f}, Time = {:.2f}s'\n",
    "            print(output.format(e + 1, loss, acc, val_loss, val_acc, duration))\n",
    "        # endfor\n",
    "        total_duration = time.time() - start_start\n",
    "        return loss_ls, acc_ls, val_loss_ls, val_acc_ls, total_duration\n",
    "\n",
    "#     @jit(target =\"cuda\")  \n",
    "    def _train(self, X_train, y_train):\n",
    "        import numpy as np\n",
    "\n",
    "        self._session.run(\n",
    "            fetches=self._ds_it.initializer,\n",
    "            feed_dict={\n",
    "                self._ds_x: X_train,\n",
    "                self._ds_y: y_train\n",
    "            })\n",
    "        loss, acc, = [], []\n",
    "        while True:\n",
    "            try:\n",
    "                _, vloss, vacc = self._session.run(\n",
    "                    fetches=[self._train_op, self._loss, self._accuracy])\n",
    "\n",
    "                loss.append(vloss)\n",
    "                acc.append(vacc)\n",
    "            except tf.errors.OutOfRangeError:\n",
    "                break\n",
    "        # endwhile\n",
    "\n",
    "        loss, acc = np.mean(loss), np.mean(acc)\n",
    "        return loss, acc\n",
    "\n",
    "    def _eval(self, X_val, y_val):\n",
    "        self._session.run(\n",
    "            fetches=self._ds_it.initializer,\n",
    "            feed_dict={\n",
    "                self._ds_x: X_val,\n",
    "                self._ds_y: y_val\n",
    "            })\n",
    "\n",
    "        loss, acc, = 0, 0\n",
    "        while True:\n",
    "            try:\n",
    "                l, vloss, vacc = self._session.run(\n",
    "                    fetches=[self._labels, self._loss, self._accuracy])\n",
    "\n",
    "                loss += vloss * len(l)\n",
    "                acc += vacc * len(l)\n",
    "            except tf.errors.OutOfRangeError:\n",
    "                break\n",
    "\n",
    "        return loss / len(X_val), acc / len(X_val)\n",
    "\n",
    "    def predict(self, X):\n",
    "        import numpy as np\n",
    "\n",
    "        self._session.run(self._ds_it.initializer,\n",
    "                         feed_dict={\n",
    "                             self._ds_x: X,\n",
    "                             self._ds_y: np.empty((len(X), self.output_length))\n",
    "                         }\n",
    "                         )\n",
    "\n",
    "        pred = list()\n",
    "        while True:\n",
    "            try:\n",
    "                ppred = self._session.run(tf.nn.softmax(self._output))\n",
    "\n",
    "                pred.extend(map(lambda l: l.tolist(), ppred))\n",
    "            except tf.errors.OutOfRangeError:\n",
    "                break\n",
    "\n",
    "        return pred\n",
    "\n",
    "def _create_dense_layer(x, output_length):\n",
    "    '''Creates a dense layer\n",
    "    '''\n",
    "    input_size = x.shape[1] #.value\n",
    "    W = tf.Variable(\n",
    "        initial_value=tf.random.truncated_normal(\n",
    "            shape=[input_size, output_length],\n",
    "            stddev=0.1))\n",
    "    b = tf.Variable(\n",
    "        initial_value=tf.random.truncated_normal(\n",
    "            shape=[output_length]))\n",
    "\n",
    "    dense = tf.compat.v1.nn.xw_plus_b(x, W, b)\n",
    "\n",
    "    return dense\n",
    "\n",
    "\n",
    "if __name__ == '__main__':\n",
    "    pass"
   ]
  },
  {
   "cell_type": "code",
   "execution_count": null,
   "id": "5d641e4d",
   "metadata": {
    "colab": {
     "base_uri": "https://localhost:8080/"
    },
    "executionInfo": {
     "elapsed": 3408024,
     "status": "ok",
     "timestamp": 1636800283444,
     "user": {
      "displayName": "hey there",
      "photoUrl": "https://lh3.googleusercontent.com/a/default-user=s64",
      "userId": "06967694209692681208"
     },
     "user_tz": -480
    },
    "id": "5d641e4d",
    "outputId": "ea0cd5f1-52be-4252-a115-6903ffe51f5a"
   },
   "outputs": [
    {
     "name": "stdout",
     "output_type": "stream",
     "text": [
      "WARNING:tensorflow:From <ipython-input-25-5f181aef2198>:24: DatasetV1.make_initializable_iterator (from tensorflow.python.data.ops.dataset_ops) is deprecated and will be removed in a future version.\n",
      "Instructions for updating:\n",
      "This is a deprecated API that should only be used in TF 1 graph mode and legacy TF 2 graph mode available through `tf.compat.v1`. In all other situations -- namely, eager mode and inside `tf.function` -- you can consume dataset elements using `for elem in dataset: ...` or by explicitly creating iterator via `iterator = iter(dataset)` and fetching its elements via `values = next(iterator)`. Furthermore, this API is not available in TF 2. During the transition from TF 1 to TF 2 you can use `tf.compat.v1.data.make_initializable_iterator(dataset)` to create a TF 1 graph mode style iterator for a dataset created through TF 2 APIs. Note that this should be a transient state of your code base as there are in general no guarantees about the interoperability of TF 1 and TF 2 code.\n",
      "WARNING:tensorflow:From /usr/local/lib/python3.7/dist-packages/keras/layers/legacy_rnn/rnn_cell_impl.py:463: calling Zeros.__init__ (from tensorflow.python.ops.init_ops) with dtype is deprecated and will be removed in a future version.\n",
      "Instructions for updating:\n",
      "Call initializer instance with the dtype argument instead of passing it to the constructor\n"
     ]
    },
    {
     "name": "stderr",
     "output_type": "stream",
     "text": [
      "/usr/local/lib/python3.7/dist-packages/ipykernel_launcher.py:81: UserWarning: `tf.nn.rnn_cell.BasicRNNCell` is deprecated and will be removed in a future version. This class is equivalent as `tf.keras.layers.SimpleRNNCell`, and will be replaced by that in Tensorflow 2.0.\n",
      "/usr/local/lib/python3.7/dist-packages/keras/layers/legacy_rnn/rnn_cell_impl.py:459: UserWarning: `layer.add_variable` is deprecated and will be removed in a future version. Please use `layer.add_weight` method instead.\n",
      "  shape=[input_depth + self._num_units, self._num_units])\n",
      "/usr/local/lib/python3.7/dist-packages/keras/layers/legacy_rnn/rnn_cell_impl.py:463: UserWarning: `layer.add_variable` is deprecated and will be removed in a future version. Please use `layer.add_weight` method instead.\n",
      "  initializer=tf.compat.v1.zeros_initializer(dtype=self.dtype))\n"
     ]
    },
    {
     "name": "stdout",
     "output_type": "stream",
     "text": [
      "(None, 110, 300)\n",
      "input: (None, 110)\n",
      "embedding: (None, 110, 300)\n",
      "lstm: (None, 110, 300)\n",
      "conv: (None, 108, 298, 100)\n",
      "pooling: (None, 54, 149, 1, 1)\n",
      "flatten: (None, 8046)\n",
      "output: (None, 6)\n",
      "Epoch: 1, loss = 7.6261, acc = 0.2487, val_loss = 2.3275, val_acc = 0.2644, Time = 121.05s\n",
      "Epoch: 2, loss = 2.0220, acc = 0.2808, val_loss = 1.8780, val_acc = 0.2865, Time = 137.04s\n",
      "Epoch: 3, loss = 1.8059, acc = 0.2917, val_loss = 1.7547, val_acc = 0.2994, Time = 137.82s\n",
      "Epoch: 4, loss = 1.7063, acc = 0.3057, val_loss = 1.6803, val_acc = 0.3060, Time = 118.18s\n",
      "Epoch: 5, loss = 1.6507, acc = 0.3144, val_loss = 1.6409, val_acc = 0.3163, Time = 137.33s\n",
      "Epoch: 6, loss = 1.6311, acc = 0.3202, val_loss = 1.6293, val_acc = 0.3094, Time = 117.95s\n",
      "Epoch: 7, loss = 1.6277, acc = 0.3217, val_loss = 1.6129, val_acc = 0.3223, Time = 137.46s\n",
      "Epoch: 8, loss = 1.6556, acc = 0.3113, val_loss = 1.6649, val_acc = 0.3125, Time = 137.61s\n",
      "Epoch: 9, loss = 1.6452, acc = 0.3207, val_loss = 1.7472, val_acc = 0.2844, Time = 137.29s\n",
      "Epoch: 10, loss = 1.6396, acc = 0.3082, val_loss = 1.6477, val_acc = 0.2973, Time = 137.13s\n",
      "Epoch: 11, loss = 1.6047, acc = 0.3168, val_loss = 1.6034, val_acc = 0.3100, Time = 137.74s\n",
      "Epoch: 12, loss = 1.5899, acc = 0.3259, val_loss = 1.6439, val_acc = 0.3021, Time = 137.32s\n",
      "Epoch: 13, loss = 1.5883, acc = 0.3263, val_loss = 1.5951, val_acc = 0.3281, Time = 118.05s\n",
      "Epoch: 14, loss = 1.5866, acc = 0.3259, val_loss = 1.5878, val_acc = 0.3265, Time = 137.33s\n",
      "Epoch: 15, loss = 1.6417, acc = 0.3296, val_loss = 1.5901, val_acc = 0.3308, Time = 137.69s\n",
      "Epoch: 16, loss = 1.5768, acc = 0.3337, val_loss = 1.5820, val_acc = 0.3294, Time = 118.39s\n",
      "Epoch: 17, loss = 1.5730, acc = 0.3376, val_loss = 1.5817, val_acc = 0.3294, Time = 137.57s\n",
      "Epoch: 18, loss = 1.5732, acc = 0.3375, val_loss = 1.5818, val_acc = 0.3294, Time = 137.39s\n",
      "Epoch: 19, loss = 1.5728, acc = 0.3376, val_loss = 1.5818, val_acc = 0.3294, Time = 118.17s\n",
      "Epoch: 20, loss = 1.5728, acc = 0.3376, val_loss = 1.5818, val_acc = 0.3294, Time = 137.71s\n",
      "total duration:  182.95311570167542\n",
      "Predictions: [[0.13887086510658264, 0.1236594021320343, 0.3348999321460724, 0.07692388445138931, 0.2901269197463989, 0.035518959164619446], [0.13887086510658264, 0.1236594021320343, 0.3348999321460724, 0.07692388445138931, 0.2901269197463989, 0.035518959164619446]]\n",
      "Real: [[0. 1. 0. 0. 0. 0.]\n",
      " [0. 0. 0. 0. 1. 0.]]\n"
     ]
    }
   ],
   "source": [
    "import pickle\n",
    "import numpy as np\n",
    "import sys\n",
    "# from fen.classifier import Classifier\n",
    "# from fen.pzhou_tf import ZhouBLSTMCNNModel\n",
    "\n",
    "if __name__ == '__main__':\n",
    "\n",
    "#     (X_train, y_train), (X_eval, y_eval) = (X_train, y_train), (X_test, y_test)\n",
    "\n",
    "    word_vector = word_embeds\n",
    "    word_vector = word_vector.astype('float32')\n",
    "    \n",
    "    sentence_length = X_train[0].shape[0] # sentence length = 37 -- if less than 37, remaining is 0\n",
    "    num_classes = y_train[0].shape[0] # 6 sentiment classes\n",
    "\n",
    "#     with tf.compat.v1.variable_scope(tf.compat.v1.get_variable_scope(), reuse=True):\n",
    "    model = ZhouBLSTMCNNModel(embedding=word_vector) #pass in word_vector as lookup table\n",
    "\n",
    "    classifier = Classifier(\n",
    "        model=model,\n",
    "        input_length=sentence_length,\n",
    "        output_length=num_classes)\n",
    "\n",
    "    classifier.compile(batch_size=10)\n",
    "    classifier.summary()\n",
    "    loss_ls, acc_ls, val_loss_ls, val_acc_ls, total_duration = classifier.train(\n",
    "        X_train=X_train,\n",
    "        y_train=y_train,\n",
    "        X_eval=X_test,\n",
    "        y_eval=y_test,\n",
    "        epochs=20\n",
    "    )\n",
    "\n",
    "    print(\"total duration: \", total_duration)\n",
    "    print(\"Predictions:\", classifier.predict(X_train[0:2]))\n",
    "    print(\"Real:\", y_train[0:2])"
   ]
  },
  {
   "cell_type": "code",
   "execution_count": null,
   "id": "3a082025",
   "metadata": {
    "colab": {
     "base_uri": "https://localhost:8080/",
     "height": 279
    },
    "executionInfo": {
     "elapsed": 108,
     "status": "ok",
     "timestamp": 1636800283456,
     "user": {
      "displayName": "hey there",
      "photoUrl": "https://lh3.googleusercontent.com/a/default-user=s64",
      "userId": "06967694209692681208"
     },
     "user_tz": -480
    },
    "id": "3a082025",
    "outputId": "034c82d3-1601-499d-debd-bb137b6377c7"
   },
   "outputs": [
    {
     "data": {
      "image/png": "[encoded data removed]",
      "text/plain": [
       "<Figure size 432x288 with 1 Axes>"
      ]
     },
     "metadata": {
      "needs_background": "light"
     },
     "output_type": "display_data"
    }
   ],
   "source": [
    "epochslist = [i for i in range(0,20)]\n",
    "plt.plot(epochslist, loss_ls, label='training loss')\n",
    "plt.plot(epochslist, val_loss_ls, label='validation loss')\n",
    "plt.xlabel('epochs')\n",
    "plt.ylabel('loss')\n",
    "plt.legend()\n",
    "plt.show()"
   ]
  },
  {
   "cell_type": "code",
   "execution_count": null,
   "id": "KcCX7AFsdyFV",
   "metadata": {
    "colab": {
     "base_uri": "https://localhost:8080/",
     "height": 279
    },
    "executionInfo": {
     "elapsed": 925,
     "status": "ok",
     "timestamp": 1636800284311,
     "user": {
      "displayName": "hey there",
      "photoUrl": "https://lh3.googleusercontent.com/a/default-user=s64",
      "userId": "06967694209692681208"
     },
     "user_tz": -480
    },
    "id": "KcCX7AFsdyFV",
    "outputId": "db8ab1da-81f3-49b9-aa76-8eaa3168a7fc"
   },
   "outputs": [
    {
     "data": {
      "image/png": "[encoded data removed]",
      "text/plain": [
       "<Figure size 432x288 with 1 Axes>"
      ]
     },
     "metadata": {
      "needs_background": "light"
     },
     "output_type": "display_data"
    }
   ],
   "source": [
    "plt.plot(epochslist, acc_ls, label = \"training acc\")\n",
    "plt.plot(epochslist, val_acc_ls, label=\"validation acc\")\n",
    "# plt.title('training acc')\n",
    "plt.xlabel('epochs')\n",
    "plt.ylabel('acc')\n",
    "plt.legend()\n",
    "plt.show()"
   ]
  }
 ],
 "metadata": {
  "accelerator": "GPU",
  "colab": {
   "collapsed_sections": [
    "f0043b74"
   ],
   "name": "emotion_brnn_cnn.ipynb",
   "provenance": [
    {
     "file_id": "1MKsW7cZl3UgbPpyX7FEK7_6z4sNZznuF",
     "timestamp": 1636792586837
    }
   ]
  },
  "kernelspec": {
   "display_name": "Python 3 (ipykernel)",
   "language": "python",
   "name": "python3"
  },
  "language_info": {
   "codemirror_mode": {
    "name": "ipython",
    "version": 3
   },
   "file_extension": ".py",
   "mimetype": "text/x-python",
   "name": "python",
   "nbconvert_exporter": "python",
   "pygments_lexer": "ipython3",
   "version": "3.8.2"
  }
 },
 "nbformat": 4,
 "nbformat_minor": 5
}
