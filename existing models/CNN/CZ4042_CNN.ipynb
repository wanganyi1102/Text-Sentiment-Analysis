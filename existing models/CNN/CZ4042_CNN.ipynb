{
  "nbformat": 4,
  "nbformat_minor": 0,
  "metadata": {
    "colab": {
      "name": "CZ4042-CNN.ipynb",
      "provenance": [],
      "machine_shape": "hm"
    },
    "kernelspec": {
      "name": "python3",
      "display_name": "Python 3"
    },
    "language_info": {
      "name": "python"
    },
    "accelerator": "GPU"
  },
  "cells": [
    {
      "cell_type": "code",
      "metadata": {
        "colab": {
          "base_uri": "https://localhost:8080/"
        },
        "id": "hIcn6pY-hyPh",
        "outputId": "44edfbb8-1262-429f-c45e-8e37ed4c0ebc"
      },
      "source": [
        "from google.colab import drive\n",
        "drive.mount('/content/drive')"
      ],
      "execution_count": 1,
      "outputs": [
        {
          "output_type": "stream",
          "name": "stdout",
          "text": [
            "Mounted at /content/drive\n"
          ]
        }
      ]
    },
    {
      "cell_type": "code",
      "metadata": {
        "id": "AVkm8krHnPWG"
      },
      "source": [
        "from os import listdir\n",
        "import pandas as pd\n",
        "\n",
        "from sklearn.model_selection import train_test_split\n",
        "from keras.preprocessing.text import Tokenizer\n",
        "from keras.preprocessing.sequence import pad_sequences\n",
        "from keras.models import Sequential\n",
        "from keras import layers"
      ],
      "execution_count": 2,
      "outputs": []
    },
    {
      "cell_type": "code",
      "metadata": {
        "id": "_b3rDaoElJ95"
      },
      "source": [
        "def process_docs(directory):\n",
        "  frames = []\n",
        "  for filename in listdir(directory):\n",
        "    print(filename, \"Imported already!\")\n",
        "    # create the full path of the file to open\n",
        "    path = directory + '/' + filename\n",
        "    docs = pd.read_csv(path,\n",
        "                        sep=\"\\t\",\n",
        "                        header=0,\n",
        "                        names=[\"id\", \"tweet\", \"tweettype\", \"score\"])\n",
        "    frames.append(docs)\n",
        "  result = pd.concat(frames)\n",
        "  return result"
      ],
      "execution_count": 3,
      "outputs": []
    },
    {
      "cell_type": "markdown",
      "metadata": {
        "id": "Jxn0APXplEjr"
      },
      "source": [
        "## Crowdflower\n"
      ]
    },
    {
      "cell_type": "code",
      "metadata": {
        "colab": {
          "base_uri": "https://localhost:8080/",
          "height": 417
        },
        "id": "LnzxFLLmlECL",
        "outputId": "0a4f6a03-824a-4a53-d460-0e3677b8d743"
      },
      "source": [
        "cf = pd.read_csv('/content/drive/MyDrive/CZ4042/project/text_emotion.csv')\n",
        "cf"
      ],
      "execution_count": 4,
      "outputs": [
        {
          "output_type": "execute_result",
          "data": {
            "text/html": [
              "<div>\n",
              "<style scoped>\n",
              "    .dataframe tbody tr th:only-of-type {\n",
              "        vertical-align: middle;\n",
              "    }\n",
              "\n",
              "    .dataframe tbody tr th {\n",
              "        vertical-align: top;\n",
              "    }\n",
              "\n",
              "    .dataframe thead th {\n",
              "        text-align: right;\n",
              "    }\n",
              "</style>\n",
              "<table border=\"1\" class=\"dataframe\">\n",
              "  <thead>\n",
              "    <tr style=\"text-align: right;\">\n",
              "      <th></th>\n",
              "      <th>tweet_id</th>\n",
              "      <th>sentiment</th>\n",
              "      <th>author</th>\n",
              "      <th>content</th>\n",
              "    </tr>\n",
              "  </thead>\n",
              "  <tbody>\n",
              "    <tr>\n",
              "      <th>0</th>\n",
              "      <td>1956967341</td>\n",
              "      <td>empty</td>\n",
              "      <td>xoshayzers</td>\n",
              "      <td>@tiffanylue i know  i was listenin to bad habi...</td>\n",
              "    </tr>\n",
              "    <tr>\n",
              "      <th>1</th>\n",
              "      <td>1956967666</td>\n",
              "      <td>sadness</td>\n",
              "      <td>wannamama</td>\n",
              "      <td>Layin n bed with a headache  ughhhh...waitin o...</td>\n",
              "    </tr>\n",
              "    <tr>\n",
              "      <th>2</th>\n",
              "      <td>1956967696</td>\n",
              "      <td>sadness</td>\n",
              "      <td>coolfunky</td>\n",
              "      <td>Funeral ceremony...gloomy friday...</td>\n",
              "    </tr>\n",
              "    <tr>\n",
              "      <th>3</th>\n",
              "      <td>1956967789</td>\n",
              "      <td>enthusiasm</td>\n",
              "      <td>czareaquino</td>\n",
              "      <td>wants to hang out with friends SOON!</td>\n",
              "    </tr>\n",
              "    <tr>\n",
              "      <th>4</th>\n",
              "      <td>1956968416</td>\n",
              "      <td>neutral</td>\n",
              "      <td>xkilljoyx</td>\n",
              "      <td>@dannycastillo We want to trade with someone w...</td>\n",
              "    </tr>\n",
              "    <tr>\n",
              "      <th>...</th>\n",
              "      <td>...</td>\n",
              "      <td>...</td>\n",
              "      <td>...</td>\n",
              "      <td>...</td>\n",
              "    </tr>\n",
              "    <tr>\n",
              "      <th>39995</th>\n",
              "      <td>1753918954</td>\n",
              "      <td>neutral</td>\n",
              "      <td>showMe_Heaven</td>\n",
              "      <td>@JohnLloydTaylor</td>\n",
              "    </tr>\n",
              "    <tr>\n",
              "      <th>39996</th>\n",
              "      <td>1753919001</td>\n",
              "      <td>love</td>\n",
              "      <td>drapeaux</td>\n",
              "      <td>Happy Mothers Day  All my love</td>\n",
              "    </tr>\n",
              "    <tr>\n",
              "      <th>39997</th>\n",
              "      <td>1753919005</td>\n",
              "      <td>love</td>\n",
              "      <td>JenniRox</td>\n",
              "      <td>Happy Mother's Day to all the mommies out ther...</td>\n",
              "    </tr>\n",
              "    <tr>\n",
              "      <th>39998</th>\n",
              "      <td>1753919043</td>\n",
              "      <td>happiness</td>\n",
              "      <td>ipdaman1</td>\n",
              "      <td>@niariley WASSUP BEAUTIFUL!!! FOLLOW ME!!  PEE...</td>\n",
              "    </tr>\n",
              "    <tr>\n",
              "      <th>39999</th>\n",
              "      <td>1753919049</td>\n",
              "      <td>love</td>\n",
              "      <td>Alpharalpha</td>\n",
              "      <td>@mopedronin bullet train from tokyo    the gf ...</td>\n",
              "    </tr>\n",
              "  </tbody>\n",
              "</table>\n",
              "<p>40000 rows × 4 columns</p>\n",
              "</div>"
            ],
            "text/plain": [
              "         tweet_id  ...                                            content\n",
              "0      1956967341  ...  @tiffanylue i know  i was listenin to bad habi...\n",
              "1      1956967666  ...  Layin n bed with a headache  ughhhh...waitin o...\n",
              "2      1956967696  ...                Funeral ceremony...gloomy friday...\n",
              "3      1956967789  ...               wants to hang out with friends SOON!\n",
              "4      1956968416  ...  @dannycastillo We want to trade with someone w...\n",
              "...           ...  ...                                                ...\n",
              "39995  1753918954  ...                                   @JohnLloydTaylor\n",
              "39996  1753919001  ...                     Happy Mothers Day  All my love\n",
              "39997  1753919005  ...  Happy Mother's Day to all the mommies out ther...\n",
              "39998  1753919043  ...  @niariley WASSUP BEAUTIFUL!!! FOLLOW ME!!  PEE...\n",
              "39999  1753919049  ...  @mopedronin bullet train from tokyo    the gf ...\n",
              "\n",
              "[40000 rows x 4 columns]"
            ]
          },
          "metadata": {},
          "execution_count": 4
        }
      ]
    },
    {
      "cell_type": "code",
      "metadata": {
        "colab": {
          "base_uri": "https://localhost:8080/",
          "height": 254
        },
        "id": "3TXhj6thlEEi",
        "outputId": "8de50fef-04f8-49f5-e89e-1a754b69d55e"
      },
      "source": [
        "y = pd.get_dummies(cf['sentiment'])\n",
        "print(type(y))\n",
        "print(y.shape)\n",
        "print(y.ndim)\n",
        "y.head()"
      ],
      "execution_count": 5,
      "outputs": [
        {
          "output_type": "stream",
          "name": "stdout",
          "text": [
            "<class 'pandas.core.frame.DataFrame'>\n",
            "(40000, 13)\n",
            "2\n"
          ]
        },
        {
          "output_type": "execute_result",
          "data": {
            "text/html": [
              "<div>\n",
              "<style scoped>\n",
              "    .dataframe tbody tr th:only-of-type {\n",
              "        vertical-align: middle;\n",
              "    }\n",
              "\n",
              "    .dataframe tbody tr th {\n",
              "        vertical-align: top;\n",
              "    }\n",
              "\n",
              "    .dataframe thead th {\n",
              "        text-align: right;\n",
              "    }\n",
              "</style>\n",
              "<table border=\"1\" class=\"dataframe\">\n",
              "  <thead>\n",
              "    <tr style=\"text-align: right;\">\n",
              "      <th></th>\n",
              "      <th>anger</th>\n",
              "      <th>boredom</th>\n",
              "      <th>empty</th>\n",
              "      <th>enthusiasm</th>\n",
              "      <th>fun</th>\n",
              "      <th>happiness</th>\n",
              "      <th>hate</th>\n",
              "      <th>love</th>\n",
              "      <th>neutral</th>\n",
              "      <th>relief</th>\n",
              "      <th>sadness</th>\n",
              "      <th>surprise</th>\n",
              "      <th>worry</th>\n",
              "    </tr>\n",
              "  </thead>\n",
              "  <tbody>\n",
              "    <tr>\n",
              "      <th>0</th>\n",
              "      <td>0</td>\n",
              "      <td>0</td>\n",
              "      <td>1</td>\n",
              "      <td>0</td>\n",
              "      <td>0</td>\n",
              "      <td>0</td>\n",
              "      <td>0</td>\n",
              "      <td>0</td>\n",
              "      <td>0</td>\n",
              "      <td>0</td>\n",
              "      <td>0</td>\n",
              "      <td>0</td>\n",
              "      <td>0</td>\n",
              "    </tr>\n",
              "    <tr>\n",
              "      <th>1</th>\n",
              "      <td>0</td>\n",
              "      <td>0</td>\n",
              "      <td>0</td>\n",
              "      <td>0</td>\n",
              "      <td>0</td>\n",
              "      <td>0</td>\n",
              "      <td>0</td>\n",
              "      <td>0</td>\n",
              "      <td>0</td>\n",
              "      <td>0</td>\n",
              "      <td>1</td>\n",
              "      <td>0</td>\n",
              "      <td>0</td>\n",
              "    </tr>\n",
              "    <tr>\n",
              "      <th>2</th>\n",
              "      <td>0</td>\n",
              "      <td>0</td>\n",
              "      <td>0</td>\n",
              "      <td>0</td>\n",
              "      <td>0</td>\n",
              "      <td>0</td>\n",
              "      <td>0</td>\n",
              "      <td>0</td>\n",
              "      <td>0</td>\n",
              "      <td>0</td>\n",
              "      <td>1</td>\n",
              "      <td>0</td>\n",
              "      <td>0</td>\n",
              "    </tr>\n",
              "    <tr>\n",
              "      <th>3</th>\n",
              "      <td>0</td>\n",
              "      <td>0</td>\n",
              "      <td>0</td>\n",
              "      <td>1</td>\n",
              "      <td>0</td>\n",
              "      <td>0</td>\n",
              "      <td>0</td>\n",
              "      <td>0</td>\n",
              "      <td>0</td>\n",
              "      <td>0</td>\n",
              "      <td>0</td>\n",
              "      <td>0</td>\n",
              "      <td>0</td>\n",
              "    </tr>\n",
              "    <tr>\n",
              "      <th>4</th>\n",
              "      <td>0</td>\n",
              "      <td>0</td>\n",
              "      <td>0</td>\n",
              "      <td>0</td>\n",
              "      <td>0</td>\n",
              "      <td>0</td>\n",
              "      <td>0</td>\n",
              "      <td>0</td>\n",
              "      <td>1</td>\n",
              "      <td>0</td>\n",
              "      <td>0</td>\n",
              "      <td>0</td>\n",
              "      <td>0</td>\n",
              "    </tr>\n",
              "  </tbody>\n",
              "</table>\n",
              "</div>"
            ],
            "text/plain": [
              "   anger  boredom  empty  enthusiasm  ...  relief  sadness  surprise  worry\n",
              "0      0        0      1           0  ...       0        0         0      0\n",
              "1      0        0      0           0  ...       0        1         0      0\n",
              "2      0        0      0           0  ...       0        1         0      0\n",
              "3      0        0      0           1  ...       0        0         0      0\n",
              "4      0        0      0           0  ...       0        0         0      0\n",
              "\n",
              "[5 rows x 13 columns]"
            ]
          },
          "metadata": {},
          "execution_count": 5
        }
      ]
    },
    {
      "cell_type": "code",
      "metadata": {
        "colab": {
          "base_uri": "https://localhost:8080/"
        },
        "id": "3P0U-Hh4lEJW",
        "outputId": "29e5e1e4-119a-4a09-f38b-145101a15475"
      },
      "source": [
        "y = y.values\n",
        "print(\"properties of y\")\n",
        "print(\"type : {}, dimensions : {}, shape : {}, total no. of elements : {}, data type of each element: {}, size of each element {} bytes\".format(type(y), y.ndim, y.shape, y.size, y.dtype, y.itemsize))"
      ],
      "execution_count": 6,
      "outputs": [
        {
          "output_type": "stream",
          "name": "stdout",
          "text": [
            "properties of y\n",
            "type : <class 'numpy.ndarray'>, dimensions : 2, shape : (40000, 13), total no. of elements : 520000, data type of each element: uint8, size of each element 1 bytes\n"
          ]
        }
      ]
    },
    {
      "cell_type": "code",
      "metadata": {
        "id": "VAzdxYkHlEM0"
      },
      "source": [
        "list_of_classes = cf['sentiment'].unique().tolist()"
      ],
      "execution_count": 7,
      "outputs": []
    },
    {
      "cell_type": "code",
      "metadata": {
        "id": "XeSiYPsNosbQ"
      },
      "source": [
        "cf = cf.drop(['author','tweet_id','sentiment'], axis=1)"
      ],
      "execution_count": 8,
      "outputs": []
    },
    {
      "cell_type": "code",
      "metadata": {
        "id": "OCBoej2RosbY"
      },
      "source": [
        "cf.shape\n",
        "x = cf.values.flatten()"
      ],
      "execution_count": 9,
      "outputs": []
    },
    {
      "cell_type": "code",
      "metadata": {
        "colab": {
          "base_uri": "https://localhost:8080/"
        },
        "id": "SMvmlaqqosbY",
        "outputId": "a5076bb6-4c30-4cdb-ac6f-0078a911bc95"
      },
      "source": [
        "print(\"Max. sentence length is: \", len(max(cf['content'], key=len)))"
      ],
      "execution_count": 10,
      "outputs": [
        {
          "output_type": "stream",
          "name": "stdout",
          "text": [
            "Max. sentence length is:  167\n"
          ]
        }
      ]
    },
    {
      "cell_type": "code",
      "metadata": {
        "id": "gX90xZFVosbZ"
      },
      "source": [
        "max_features = 20000\n",
        "max_text_length = 170\n",
        "embedding_dims = 50\n",
        "batch_size = 10\n",
        "epochs = 15\n",
        "num_filters_1 = 250\n",
        "num_filters_2 = 250\n",
        "filter_size = 3"
      ],
      "execution_count": 11,
      "outputs": []
    },
    {
      "cell_type": "code",
      "metadata": {
        "id": "piBnoNIFosbZ"
      },
      "source": [
        "x_tokenizer = Tokenizer(num_words=max_features)\n",
        "x_tokenizer.fit_on_texts(list(x))\n",
        "x_tokenized = x_tokenizer.texts_to_sequences(x)\n",
        "x_train_val = pad_sequences(x_tokenized, maxlen=max_text_length)"
      ],
      "execution_count": 12,
      "outputs": []
    },
    {
      "cell_type": "code",
      "metadata": {
        "id": "ub_WSJrposbZ"
      },
      "source": [
        "x_train, x_test, y_train, y_test = train_test_split(x_train_val, y, \n",
        "                                                   test_size = 0.3, \n",
        "                                                   random_state = 1000)"
      ],
      "execution_count": 13,
      "outputs": []
    },
    {
      "cell_type": "code",
      "metadata": {
        "colab": {
          "base_uri": "https://localhost:8080/"
        },
        "id": "bAgs1qpBosbZ",
        "outputId": "5347e8e3-2bdb-4b32-c017-496b1737546f"
      },
      "source": [
        "print(x_train.shape,y_train.shape)\n",
        "print(x_test.shape,y_test.shape)"
      ],
      "execution_count": 14,
      "outputs": [
        {
          "output_type": "stream",
          "name": "stdout",
          "text": [
            "(28000, 170) (28000, 13)\n",
            "(12000, 170) (12000, 13)\n"
          ]
        }
      ]
    },
    {
      "cell_type": "code",
      "metadata": {
        "id": "t7qqlDI4pP6e"
      },
      "source": [
        "model = Sequential()\n",
        "\n",
        "model.add(layers.Embedding(max_features, embedding_dims, input_length=max_text_length))\n",
        "model.add(layers.Dropout(0.2))\n",
        "\n",
        "model.add(layers.Conv1D(filters=num_filters_1, kernel_size=filter_size, padding='valid', activation='relu', strides=1))\n",
        "model.add(layers.GlobalMaxPooling1D())\n",
        "\n",
        "model.add(layers.Dense(num_filters_2))\n",
        "model.add(layers.Dropout(0.2))\n",
        "model.add(layers.Activation('relu'))\n",
        "\n",
        "model.add(layers.Dense(13))\n",
        "model.add(layers.Activation('sigmoid'))"
      ],
      "execution_count": 15,
      "outputs": []
    },
    {
      "cell_type": "code",
      "metadata": {
        "colab": {
          "base_uri": "https://localhost:8080/"
        },
        "id": "XvBPmU9wpP6f",
        "outputId": "88b95e3a-b656-466b-b0ed-2c73d6a6f391"
      },
      "source": [
        "model.compile(optimizer='adam', loss='binary_crossentropy', metrics=['accuracy'])\n",
        "model.summary()"
      ],
      "execution_count": 16,
      "outputs": [
        {
          "output_type": "stream",
          "name": "stdout",
          "text": [
            "Model: \"sequential\"\n",
            "_________________________________________________________________\n",
            " Layer (type)                Output Shape              Param #   \n",
            "=================================================================\n",
            " embedding (Embedding)       (None, 170, 50)           1000000   \n",
            "                                                                 \n",
            " dropout (Dropout)           (None, 170, 50)           0         \n",
            "                                                                 \n",
            " conv1d (Conv1D)             (None, 168, 250)          37750     \n",
            "                                                                 \n",
            " global_max_pooling1d (Globa  (None, 250)              0         \n",
            " lMaxPooling1D)                                                  \n",
            "                                                                 \n",
            " dense (Dense)               (None, 250)               62750     \n",
            "                                                                 \n",
            " dropout_1 (Dropout)         (None, 250)               0         \n",
            "                                                                 \n",
            " activation (Activation)     (None, 250)               0         \n",
            "                                                                 \n",
            " dense_1 (Dense)             (None, 13)                3263      \n",
            "                                                                 \n",
            " activation_1 (Activation)   (None, 13)                0         \n",
            "                                                                 \n",
            "=================================================================\n",
            "Total params: 1,103,763\n",
            "Trainable params: 1,103,763\n",
            "Non-trainable params: 0\n",
            "_________________________________________________________________\n"
          ]
        }
      ]
    },
    {
      "cell_type": "code",
      "metadata": {
        "colab": {
          "base_uri": "https://localhost:8080/"
        },
        "id": "04Z-z9GWpP6f",
        "outputId": "0e2dd3b9-b7a9-4900-b4f1-0c68fa9d5427"
      },
      "source": [
        "import time\n",
        "start_time = time.time() \n",
        "history_cf = model.fit(x_train, y_train, \n",
        "                      batch_size=batch_size,\n",
        "                      epochs=epochs, validation_data=(x_test, y_test))\n",
        "time_taken = time.time()-start_time\n",
        "print(\"\\n Time taken: \" , time_taken)"
      ],
      "execution_count": 17,
      "outputs": [
        {
          "output_type": "stream",
          "name": "stdout",
          "text": [
            "Epoch 1/15\n",
            "2800/2800 [==============================] - 27s 4ms/step - loss: 0.2267 - accuracy: 0.3081 - val_loss: 0.2153 - val_accuracy: 0.3473\n",
            "Epoch 2/15\n",
            "2800/2800 [==============================] - 11s 4ms/step - loss: 0.2076 - accuracy: 0.3855 - val_loss: 0.2167 - val_accuracy: 0.3498\n",
            "Epoch 3/15\n",
            "2800/2800 [==============================] - 11s 4ms/step - loss: 0.1900 - accuracy: 0.4563 - val_loss: 0.2198 - val_accuracy: 0.3484\n",
            "Epoch 4/15\n",
            "2800/2800 [==============================] - 11s 4ms/step - loss: 0.1677 - accuracy: 0.5314 - val_loss: 0.2350 - val_accuracy: 0.3321\n",
            "Epoch 5/15\n",
            "2800/2800 [==============================] - 11s 4ms/step - loss: 0.1446 - accuracy: 0.6080 - val_loss: 0.2565 - val_accuracy: 0.3110\n",
            "Epoch 6/15\n",
            "2800/2800 [==============================] - 11s 4ms/step - loss: 0.1245 - accuracy: 0.6707 - val_loss: 0.2800 - val_accuracy: 0.2996\n",
            "Epoch 7/15\n",
            "2800/2800 [==============================] - 11s 4ms/step - loss: 0.1073 - accuracy: 0.7210 - val_loss: 0.3137 - val_accuracy: 0.2848\n",
            "Epoch 8/15\n",
            "2800/2800 [==============================] - 11s 4ms/step - loss: 0.0945 - accuracy: 0.7579 - val_loss: 0.3366 - val_accuracy: 0.2681\n",
            "Epoch 9/15\n",
            "2800/2800 [==============================] - 11s 4ms/step - loss: 0.0835 - accuracy: 0.7853 - val_loss: 0.3857 - val_accuracy: 0.2757\n",
            "Epoch 10/15\n",
            "2800/2800 [==============================] - 11s 4ms/step - loss: 0.0759 - accuracy: 0.8075 - val_loss: 0.4051 - val_accuracy: 0.2711\n",
            "Epoch 11/15\n",
            "2800/2800 [==============================] - 11s 4ms/step - loss: 0.0688 - accuracy: 0.8266 - val_loss: 0.4464 - val_accuracy: 0.2656\n",
            "Epoch 12/15\n",
            "2800/2800 [==============================] - 11s 4ms/step - loss: 0.0645 - accuracy: 0.8389 - val_loss: 0.4512 - val_accuracy: 0.2619\n",
            "Epoch 13/15\n",
            "2800/2800 [==============================] - 11s 4ms/step - loss: 0.0594 - accuracy: 0.8521 - val_loss: 0.4941 - val_accuracy: 0.2627\n",
            "Epoch 14/15\n",
            "2800/2800 [==============================] - 11s 4ms/step - loss: 0.0557 - accuracy: 0.8620 - val_loss: 0.5247 - val_accuracy: 0.2652\n",
            "Epoch 15/15\n",
            "2800/2800 [==============================] - 11s 4ms/step - loss: 0.0531 - accuracy: 0.8670 - val_loss: 0.5352 - val_accuracy: 0.2618\n",
            "\n",
            " Time taken:  180.55857467651367\n"
          ]
        }
      ]
    },
    {
      "cell_type": "code",
      "metadata": {
        "id": "ZCi-9HHrpM9C"
      },
      "source": [
        ""
      ],
      "execution_count": null,
      "outputs": []
    },
    {
      "cell_type": "code",
      "metadata": {
        "id": "OooSw5cypM_Y"
      },
      "source": [
        ""
      ],
      "execution_count": null,
      "outputs": []
    },
    {
      "cell_type": "markdown",
      "metadata": {
        "id": "q-RlRws0lMHA"
      },
      "source": [
        "## WASSA"
      ]
    },
    {
      "cell_type": "code",
      "metadata": {
        "colab": {
          "base_uri": "https://localhost:8080/"
        },
        "id": "pMZNN1B8lN-w",
        "outputId": "fccee205-1312-4fda-a894-22266f9e2871"
      },
      "source": [
        "train = process_docs('/content/drive/MyDrive/CZ4042/project/wassa/train')\n",
        "validate = process_docs('/content/drive/MyDrive/CZ4042/project/wassa/validate')"
      ],
      "execution_count": 4,
      "outputs": [
        {
          "output_type": "stream",
          "name": "stdout",
          "text": [
            "anger-ratings-0to1.train.txt Imported already!\n",
            "fear-ratings-0to1.train.txt Imported already!\n",
            "joy-ratings-0to1.train.txt Imported already!\n",
            "sadness-ratings-0to1.train.txt Imported already!\n",
            "anger-ratings-0to1.dev.gold.txt Imported already!\n",
            "fear-ratings-0to1.dev.gold.txt Imported already!\n",
            "joy-ratings-0to1.dev.gold.txt Imported already!\n",
            "sadness-ratings-0to1.dev.gold.txt Imported already!\n"
          ]
        }
      ]
    },
    {
      "cell_type": "code",
      "metadata": {
        "id": "qmpDL3LnxXR0",
        "colab": {
          "base_uri": "https://localhost:8080/",
          "height": 417
        },
        "outputId": "41a2f6f0-f30a-41f9-b0f3-44e56e61a503"
      },
      "source": [
        "wassa = pd.concat([train, validate])\n",
        "# Pruning with threshold of 0.7\n",
        "wassa = wassa[wassa['score'] >= 0.7]\n",
        "wassa"
      ],
      "execution_count": 10,
      "outputs": [
        {
          "output_type": "execute_result",
          "data": {
            "text/html": [
              "<div>\n",
              "<style scoped>\n",
              "    .dataframe tbody tr th:only-of-type {\n",
              "        vertical-align: middle;\n",
              "    }\n",
              "\n",
              "    .dataframe tbody tr th {\n",
              "        vertical-align: top;\n",
              "    }\n",
              "\n",
              "    .dataframe thead th {\n",
              "        text-align: right;\n",
              "    }\n",
              "</style>\n",
              "<table border=\"1\" class=\"dataframe\">\n",
              "  <thead>\n",
              "    <tr style=\"text-align: right;\">\n",
              "      <th></th>\n",
              "      <th>id</th>\n",
              "      <th>tweet</th>\n",
              "      <th>tweettype</th>\n",
              "      <th>score</th>\n",
              "    </tr>\n",
              "  </thead>\n",
              "  <tbody>\n",
              "    <tr>\n",
              "      <th>0</th>\n",
              "      <td>10000</td>\n",
              "      <td>How the fu*k! Who the heck! moved my fridge!.....</td>\n",
              "      <td>anger</td>\n",
              "      <td>0.938</td>\n",
              "    </tr>\n",
              "    <tr>\n",
              "      <th>1</th>\n",
              "      <td>10001</td>\n",
              "      <td>So my Indian Uber driver just called someone t...</td>\n",
              "      <td>anger</td>\n",
              "      <td>0.896</td>\n",
              "    </tr>\n",
              "    <tr>\n",
              "      <th>2</th>\n",
              "      <td>10002</td>\n",
              "      <td>@DPD_UK I asked for my parcel to be delivered ...</td>\n",
              "      <td>anger</td>\n",
              "      <td>0.896</td>\n",
              "    </tr>\n",
              "    <tr>\n",
              "      <th>3</th>\n",
              "      <td>10003</td>\n",
              "      <td>so ef whichever butt wipe pulled the fire alar...</td>\n",
              "      <td>anger</td>\n",
              "      <td>0.896</td>\n",
              "    </tr>\n",
              "    <tr>\n",
              "      <th>4</th>\n",
              "      <td>10004</td>\n",
              "      <td>Don't join @BTCare they put the phone down on ...</td>\n",
              "      <td>anger</td>\n",
              "      <td>0.896</td>\n",
              "    </tr>\n",
              "    <tr>\n",
              "      <th>...</th>\n",
              "      <td>...</td>\n",
              "      <td>...</td>\n",
              "      <td>...</td>\n",
              "      <td>...</td>\n",
              "    </tr>\n",
              "    <tr>\n",
              "      <th>35</th>\n",
              "      <td>40821</td>\n",
              "      <td>It feel like we lost a family member🙄😂</td>\n",
              "      <td>sadness</td>\n",
              "      <td>0.708</td>\n",
              "    </tr>\n",
              "    <tr>\n",
              "      <th>36</th>\n",
              "      <td>40822</td>\n",
              "      <td>My life went from happy to unhappy..</td>\n",
              "      <td>sadness</td>\n",
              "      <td>0.812</td>\n",
              "    </tr>\n",
              "    <tr>\n",
              "      <th>60</th>\n",
              "      <td>40846</td>\n",
              "      <td>Should of stayed in Dubai 😞</td>\n",
              "      <td>sadness</td>\n",
              "      <td>0.708</td>\n",
              "    </tr>\n",
              "    <tr>\n",
              "      <th>69</th>\n",
              "      <td>40855</td>\n",
              "      <td>Common app just randomly logged me out as I wa...</td>\n",
              "      <td>sadness</td>\n",
              "      <td>0.833</td>\n",
              "    </tr>\n",
              "    <tr>\n",
              "      <th>73</th>\n",
              "      <td>40859</td>\n",
              "      <td>@KeithOlbermann depressing how despicable Trum...</td>\n",
              "      <td>sadness</td>\n",
              "      <td>0.708</td>\n",
              "    </tr>\n",
              "  </tbody>\n",
              "</table>\n",
              "<p>625 rows × 4 columns</p>\n",
              "</div>"
            ],
            "text/plain": [
              "       id                                              tweet tweettype  score\n",
              "0   10000  How the fu*k! Who the heck! moved my fridge!.....     anger  0.938\n",
              "1   10001  So my Indian Uber driver just called someone t...     anger  0.896\n",
              "2   10002  @DPD_UK I asked for my parcel to be delivered ...     anger  0.896\n",
              "3   10003  so ef whichever butt wipe pulled the fire alar...     anger  0.896\n",
              "4   10004  Don't join @BTCare they put the phone down on ...     anger  0.896\n",
              "..    ...                                                ...       ...    ...\n",
              "35  40821             It feel like we lost a family member🙄😂   sadness  0.708\n",
              "36  40822               My life went from happy to unhappy..   sadness  0.812\n",
              "60  40846                        Should of stayed in Dubai 😞   sadness  0.708\n",
              "69  40855  Common app just randomly logged me out as I wa...   sadness  0.833\n",
              "73  40859  @KeithOlbermann depressing how despicable Trum...   sadness  0.708\n",
              "\n",
              "[625 rows x 4 columns]"
            ]
          },
          "metadata": {},
          "execution_count": 10
        }
      ]
    },
    {
      "cell_type": "code",
      "metadata": {
        "colab": {
          "base_uri": "https://localhost:8080/",
          "height": 254
        },
        "id": "uiCb7imtlaXg",
        "outputId": "3216022c-a624-4211-c96a-cb024e6b3f63"
      },
      "source": [
        "y = pd.get_dummies(wassa['tweettype'])\n",
        "print(type(y))\n",
        "print(y.shape)\n",
        "print(y.ndim)\n",
        "y.head()"
      ],
      "execution_count": 11,
      "outputs": [
        {
          "output_type": "stream",
          "name": "stdout",
          "text": [
            "<class 'pandas.core.frame.DataFrame'>\n",
            "(625, 4)\n",
            "2\n"
          ]
        },
        {
          "output_type": "execute_result",
          "data": {
            "text/html": [
              "<div>\n",
              "<style scoped>\n",
              "    .dataframe tbody tr th:only-of-type {\n",
              "        vertical-align: middle;\n",
              "    }\n",
              "\n",
              "    .dataframe tbody tr th {\n",
              "        vertical-align: top;\n",
              "    }\n",
              "\n",
              "    .dataframe thead th {\n",
              "        text-align: right;\n",
              "    }\n",
              "</style>\n",
              "<table border=\"1\" class=\"dataframe\">\n",
              "  <thead>\n",
              "    <tr style=\"text-align: right;\">\n",
              "      <th></th>\n",
              "      <th>anger</th>\n",
              "      <th>fear</th>\n",
              "      <th>joy</th>\n",
              "      <th>sadness</th>\n",
              "    </tr>\n",
              "  </thead>\n",
              "  <tbody>\n",
              "    <tr>\n",
              "      <th>0</th>\n",
              "      <td>1</td>\n",
              "      <td>0</td>\n",
              "      <td>0</td>\n",
              "      <td>0</td>\n",
              "    </tr>\n",
              "    <tr>\n",
              "      <th>1</th>\n",
              "      <td>1</td>\n",
              "      <td>0</td>\n",
              "      <td>0</td>\n",
              "      <td>0</td>\n",
              "    </tr>\n",
              "    <tr>\n",
              "      <th>2</th>\n",
              "      <td>1</td>\n",
              "      <td>0</td>\n",
              "      <td>0</td>\n",
              "      <td>0</td>\n",
              "    </tr>\n",
              "    <tr>\n",
              "      <th>3</th>\n",
              "      <td>1</td>\n",
              "      <td>0</td>\n",
              "      <td>0</td>\n",
              "      <td>0</td>\n",
              "    </tr>\n",
              "    <tr>\n",
              "      <th>4</th>\n",
              "      <td>1</td>\n",
              "      <td>0</td>\n",
              "      <td>0</td>\n",
              "      <td>0</td>\n",
              "    </tr>\n",
              "  </tbody>\n",
              "</table>\n",
              "</div>"
            ],
            "text/plain": [
              "   anger  fear  joy  sadness\n",
              "0      1     0    0        0\n",
              "1      1     0    0        0\n",
              "2      1     0    0        0\n",
              "3      1     0    0        0\n",
              "4      1     0    0        0"
            ]
          },
          "metadata": {},
          "execution_count": 11
        }
      ]
    },
    {
      "cell_type": "code",
      "metadata": {
        "colab": {
          "base_uri": "https://localhost:8080/"
        },
        "id": "ZfO9ta8flaXh",
        "outputId": "e0c75407-8a78-408c-c1f4-5aad112028ea"
      },
      "source": [
        "y = y.values\n",
        "print(\"properties of y\")\n",
        "print(\"type : {}, dimensions : {}, shape : {}, total no. of elements : {}, data type of each element: {}, size of each element {} bytes\".format(type(y), y.ndim, y.shape, y.size, y.dtype, y.itemsize))"
      ],
      "execution_count": 12,
      "outputs": [
        {
          "output_type": "stream",
          "name": "stdout",
          "text": [
            "properties of y\n",
            "type : <class 'numpy.ndarray'>, dimensions : 2, shape : (625, 4), total no. of elements : 2500, data type of each element: uint8, size of each element 1 bytes\n"
          ]
        }
      ]
    },
    {
      "cell_type": "code",
      "metadata": {
        "id": "Yb-TJYc4mxtV"
      },
      "source": [
        "list_of_classes = wassa['tweettype'].unique().tolist()"
      ],
      "execution_count": 13,
      "outputs": []
    },
    {
      "cell_type": "code",
      "metadata": {
        "id": "xhsLj-VllOZZ"
      },
      "source": [
        "wassa = wassa.drop(['tweettype','id','score'], axis=1)"
      ],
      "execution_count": 14,
      "outputs": []
    },
    {
      "cell_type": "code",
      "metadata": {
        "id": "MxsuQKx8mcE6"
      },
      "source": [
        "wassa.shape\n",
        "x = wassa.values.flatten()"
      ],
      "execution_count": 15,
      "outputs": []
    },
    {
      "cell_type": "code",
      "metadata": {
        "colab": {
          "base_uri": "https://localhost:8080/"
        },
        "id": "0W3aeYyZm_Uu",
        "outputId": "0c124e74-6494-4229-ec8e-736ccf58a9a7"
      },
      "source": [
        "print(\"Max. sentence length is: \", len(max(wassa['tweet'], key=len)))"
      ],
      "execution_count": 17,
      "outputs": [
        {
          "output_type": "stream",
          "name": "stdout",
          "text": [
            "Max. sentence length is:  158\n"
          ]
        }
      ]
    },
    {
      "cell_type": "code",
      "metadata": {
        "id": "GxWwArC_mcHg"
      },
      "source": [
        "max_features = 20000\n",
        "max_text_length = 160\n",
        "embedding_dims = 50\n",
        "batch_size = 10\n",
        "epochs = 15\n",
        "num_filters_1 = 250\n",
        "num_filters_2 = 250\n",
        "filter_size = 3"
      ],
      "execution_count": 18,
      "outputs": []
    },
    {
      "cell_type": "code",
      "metadata": {
        "id": "cPfJnvcdmcJZ"
      },
      "source": [
        "x_tokenizer = Tokenizer(num_words=max_features)\n",
        "x_tokenizer.fit_on_texts(list(x))\n",
        "x_tokenized = x_tokenizer.texts_to_sequences(x)\n",
        "x_train_val = pad_sequences(x_tokenized, maxlen=max_text_length)"
      ],
      "execution_count": 20,
      "outputs": []
    },
    {
      "cell_type": "code",
      "metadata": {
        "id": "ewqdfgCalOdf"
      },
      "source": [
        "x_train, x_test, y_train, y_test = train_test_split(x_train_val, y, \n",
        "                                                   test_size = 0.2, \n",
        "                                                   random_state = 1000)"
      ],
      "execution_count": 21,
      "outputs": []
    },
    {
      "cell_type": "code",
      "metadata": {
        "colab": {
          "base_uri": "https://localhost:8080/"
        },
        "id": "urUmD7HBnX8h",
        "outputId": "5fef2933-141c-46eb-a978-4079723420ad"
      },
      "source": [
        "print(x_train.shape,y_train.shape)\n",
        "print(x_test.shape,y_test.shape)"
      ],
      "execution_count": 22,
      "outputs": [
        {
          "output_type": "stream",
          "name": "stdout",
          "text": [
            "(500, 160) (500, 4)\n",
            "(125, 160) (125, 4)\n"
          ]
        }
      ]
    },
    {
      "cell_type": "code",
      "metadata": {
        "id": "QHXmUJ4RnX_F"
      },
      "source": [
        "model = Sequential()\n",
        "\n",
        "model.add(layers.Embedding(max_features, embedding_dims, input_length=max_text_length))\n",
        "model.add(layers.Dropout(0.2))\n",
        "\n",
        "model.add(layers.Conv1D(filters=num_filters_1, kernel_size=filter_size, padding='valid', activation='relu', strides=1))\n",
        "model.add(layers.GlobalMaxPooling1D())\n",
        "\n",
        "model.add(layers.Dense(num_filters_2))\n",
        "model.add(layers.Dropout(0.2))\n",
        "model.add(layers.Activation('relu'))\n",
        "\n",
        "model.add(layers.Dense(4))\n",
        "model.add(layers.Activation('sigmoid'))"
      ],
      "execution_count": 23,
      "outputs": []
    },
    {
      "cell_type": "code",
      "metadata": {
        "colab": {
          "base_uri": "https://localhost:8080/"
        },
        "id": "cJoJQL-Gnd2T",
        "outputId": "d235587f-d596-445c-83a0-ccb6b15caa47"
      },
      "source": [
        "model.compile(optimizer='adam', loss='binary_crossentropy', metrics=['accuracy'])\n",
        "model.summary()"
      ],
      "execution_count": 24,
      "outputs": [
        {
          "output_type": "stream",
          "name": "stdout",
          "text": [
            "Model: \"sequential\"\n",
            "_________________________________________________________________\n",
            " Layer (type)                Output Shape              Param #   \n",
            "=================================================================\n",
            " embedding (Embedding)       (None, 160, 50)           1000000   \n",
            "                                                                 \n",
            " dropout (Dropout)           (None, 160, 50)           0         \n",
            "                                                                 \n",
            " conv1d (Conv1D)             (None, 158, 250)          37750     \n",
            "                                                                 \n",
            " global_max_pooling1d (Globa  (None, 250)              0         \n",
            " lMaxPooling1D)                                                  \n",
            "                                                                 \n",
            " dense (Dense)               (None, 250)               62750     \n",
            "                                                                 \n",
            " dropout_1 (Dropout)         (None, 250)               0         \n",
            "                                                                 \n",
            " activation (Activation)     (None, 250)               0         \n",
            "                                                                 \n",
            " dense_1 (Dense)             (None, 4)                 1004      \n",
            "                                                                 \n",
            " activation_1 (Activation)   (None, 4)                 0         \n",
            "                                                                 \n",
            "=================================================================\n",
            "Total params: 1,101,504\n",
            "Trainable params: 1,101,504\n",
            "Non-trainable params: 0\n",
            "_________________________________________________________________\n"
          ]
        }
      ]
    },
    {
      "cell_type": "code",
      "metadata": {
        "colab": {
          "base_uri": "https://localhost:8080/"
        },
        "id": "wYWJROeZnd9r",
        "outputId": "bc283fd5-2b75-43ae-ced9-d9af09a7d9de"
      },
      "source": [
        "import time\n",
        "start_time = time.time() \n",
        "history_wassa = model.fit(x_train, y_train, \n",
        "                      batch_size=batch_size,\n",
        "                      epochs=epochs, validation_data=(x_test, y_test))\n",
        "time_taken = time.time()-start_time\n",
        "print(\"\\n Time taken: \" , time_taken)"
      ],
      "execution_count": 25,
      "outputs": [
        {
          "output_type": "stream",
          "name": "stdout",
          "text": [
            "Epoch 1/15\n",
            "50/50 [==============================] - 2s 31ms/step - loss: 0.5803 - accuracy: 0.3180 - val_loss: 0.5667 - val_accuracy: 0.2720\n",
            "Epoch 2/15\n",
            "50/50 [==============================] - 1s 27ms/step - loss: 0.5499 - accuracy: 0.3360 - val_loss: 0.5568 - val_accuracy: 0.2720\n",
            "Epoch 3/15\n",
            "50/50 [==============================] - 1s 26ms/step - loss: 0.4990 - accuracy: 0.4560 - val_loss: 0.4496 - val_accuracy: 0.5520\n",
            "Epoch 4/15\n",
            "50/50 [==============================] - 1s 26ms/step - loss: 0.2988 - accuracy: 0.7580 - val_loss: 0.3575 - val_accuracy: 0.6400\n",
            "Epoch 5/15\n",
            "50/50 [==============================] - 1s 27ms/step - loss: 0.1618 - accuracy: 0.9300 - val_loss: 0.3204 - val_accuracy: 0.7200\n",
            "Epoch 6/15\n",
            "50/50 [==============================] - 1s 27ms/step - loss: 0.0570 - accuracy: 0.9920 - val_loss: 0.2878 - val_accuracy: 0.7920\n",
            "Epoch 7/15\n",
            "50/50 [==============================] - 1s 26ms/step - loss: 0.0151 - accuracy: 0.9980 - val_loss: 0.3124 - val_accuracy: 0.7920\n",
            "Epoch 8/15\n",
            "50/50 [==============================] - 1s 26ms/step - loss: 0.0107 - accuracy: 0.9960 - val_loss: 0.2723 - val_accuracy: 0.8000\n",
            "Epoch 9/15\n",
            "50/50 [==============================] - 1s 27ms/step - loss: 0.0038 - accuracy: 1.0000 - val_loss: 0.2851 - val_accuracy: 0.8080\n",
            "Epoch 10/15\n",
            "50/50 [==============================] - 1s 26ms/step - loss: 0.0043 - accuracy: 0.9980 - val_loss: 0.3131 - val_accuracy: 0.8000\n",
            "Epoch 11/15\n",
            "50/50 [==============================] - 1s 26ms/step - loss: 0.0095 - accuracy: 0.9960 - val_loss: 0.3103 - val_accuracy: 0.8000\n",
            "Epoch 12/15\n",
            "50/50 [==============================] - 1s 27ms/step - loss: 0.0060 - accuracy: 0.9980 - val_loss: 0.3067 - val_accuracy: 0.8080\n",
            "Epoch 13/15\n",
            "50/50 [==============================] - 1s 27ms/step - loss: 0.0046 - accuracy: 0.9980 - val_loss: 0.3210 - val_accuracy: 0.8080\n",
            "Epoch 14/15\n",
            "50/50 [==============================] - 1s 26ms/step - loss: 0.0081 - accuracy: 0.9980 - val_loss: 0.3105 - val_accuracy: 0.8240\n",
            "Epoch 15/15\n",
            "50/50 [==============================] - 1s 27ms/step - loss: 0.0151 - accuracy: 0.9940 - val_loss: 0.3606 - val_accuracy: 0.8080\n",
            "\n",
            " Time taken:  21.29413890838623\n"
          ]
        }
      ]
    },
    {
      "cell_type": "code",
      "metadata": {
        "id": "MyJSNvnUneAg"
      },
      "source": [
        ""
      ],
      "execution_count": null,
      "outputs": []
    },
    {
      "cell_type": "code",
      "metadata": {
        "id": "4J5GTafMneFz"
      },
      "source": [
        ""
      ],
      "execution_count": null,
      "outputs": []
    },
    {
      "cell_type": "code",
      "metadata": {
        "id": "2wxQhpj3nYDe"
      },
      "source": [
        ""
      ],
      "execution_count": null,
      "outputs": []
    },
    {
      "cell_type": "markdown",
      "metadata": {
        "id": "nksBtH88lOqW"
      },
      "source": [
        "## Emotions"
      ]
    },
    {
      "cell_type": "code",
      "metadata": {
        "id": "HlhiUX6OlQ3N"
      },
      "source": [
        "train = pd.read_csv('/content/drive/MyDrive/CZ4042/project/train.txt', sep=';', engine='python', names=['col', 'senti'])\n",
        "test = pd.read_csv('/content/drive/MyDrive/CZ4042/project/test.txt', sep=';', engine='python', names=['col', 'senti'])\n",
        "valid = pd.read_csv('/content/drive/MyDrive/CZ4042/project/val.txt', sep=';', engine='python', names=['col', 'senti'])"
      ],
      "execution_count": 18,
      "outputs": []
    },
    {
      "cell_type": "code",
      "metadata": {
        "colab": {
          "base_uri": "https://localhost:8080/",
          "height": 417
        },
        "id": "Bc4QkMywlRP-",
        "outputId": "f3b31600-8560-45da-ba57-f267d2ebe2b1"
      },
      "source": [
        "emo = pd.concat([train, test, valid])\n",
        "emo"
      ],
      "execution_count": 19,
      "outputs": [
        {
          "output_type": "execute_result",
          "data": {
            "text/html": [
              "<div>\n",
              "<style scoped>\n",
              "    .dataframe tbody tr th:only-of-type {\n",
              "        vertical-align: middle;\n",
              "    }\n",
              "\n",
              "    .dataframe tbody tr th {\n",
              "        vertical-align: top;\n",
              "    }\n",
              "\n",
              "    .dataframe thead th {\n",
              "        text-align: right;\n",
              "    }\n",
              "</style>\n",
              "<table border=\"1\" class=\"dataframe\">\n",
              "  <thead>\n",
              "    <tr style=\"text-align: right;\">\n",
              "      <th></th>\n",
              "      <th>col</th>\n",
              "      <th>senti</th>\n",
              "    </tr>\n",
              "  </thead>\n",
              "  <tbody>\n",
              "    <tr>\n",
              "      <th>0</th>\n",
              "      <td>i didnt feel humiliated</td>\n",
              "      <td>sadness</td>\n",
              "    </tr>\n",
              "    <tr>\n",
              "      <th>1</th>\n",
              "      <td>i can go from feeling so hopeless to so damned...</td>\n",
              "      <td>sadness</td>\n",
              "    </tr>\n",
              "    <tr>\n",
              "      <th>2</th>\n",
              "      <td>im grabbing a minute to post i feel greedy wrong</td>\n",
              "      <td>anger</td>\n",
              "    </tr>\n",
              "    <tr>\n",
              "      <th>3</th>\n",
              "      <td>i am ever feeling nostalgic about the fireplac...</td>\n",
              "      <td>love</td>\n",
              "    </tr>\n",
              "    <tr>\n",
              "      <th>4</th>\n",
              "      <td>i am feeling grouchy</td>\n",
              "      <td>anger</td>\n",
              "    </tr>\n",
              "    <tr>\n",
              "      <th>...</th>\n",
              "      <td>...</td>\n",
              "      <td>...</td>\n",
              "    </tr>\n",
              "    <tr>\n",
              "      <th>1995</th>\n",
              "      <td>im having ssa examination tomorrow in the morn...</td>\n",
              "      <td>sadness</td>\n",
              "    </tr>\n",
              "    <tr>\n",
              "      <th>1996</th>\n",
              "      <td>i constantly worry about their fight against n...</td>\n",
              "      <td>joy</td>\n",
              "    </tr>\n",
              "    <tr>\n",
              "      <th>1997</th>\n",
              "      <td>i feel its important to share this info for th...</td>\n",
              "      <td>joy</td>\n",
              "    </tr>\n",
              "    <tr>\n",
              "      <th>1998</th>\n",
              "      <td>i truly feel that if you are passionate enough...</td>\n",
              "      <td>joy</td>\n",
              "    </tr>\n",
              "    <tr>\n",
              "      <th>1999</th>\n",
              "      <td>i feel like i just wanna buy any cute make up ...</td>\n",
              "      <td>joy</td>\n",
              "    </tr>\n",
              "  </tbody>\n",
              "</table>\n",
              "<p>20000 rows × 2 columns</p>\n",
              "</div>"
            ],
            "text/plain": [
              "                                                    col    senti\n",
              "0                               i didnt feel humiliated  sadness\n",
              "1     i can go from feeling so hopeless to so damned...  sadness\n",
              "2      im grabbing a minute to post i feel greedy wrong    anger\n",
              "3     i am ever feeling nostalgic about the fireplac...     love\n",
              "4                                  i am feeling grouchy    anger\n",
              "...                                                 ...      ...\n",
              "1995  im having ssa examination tomorrow in the morn...  sadness\n",
              "1996  i constantly worry about their fight against n...      joy\n",
              "1997  i feel its important to share this info for th...      joy\n",
              "1998  i truly feel that if you are passionate enough...      joy\n",
              "1999  i feel like i just wanna buy any cute make up ...      joy\n",
              "\n",
              "[20000 rows x 2 columns]"
            ]
          },
          "metadata": {},
          "execution_count": 19
        }
      ]
    },
    {
      "cell_type": "code",
      "metadata": {
        "colab": {
          "base_uri": "https://localhost:8080/",
          "height": 254
        },
        "id": "ziRHhn_tpuJm",
        "outputId": "1fbc6530-c639-4f84-9446-bd6b0dd06eaa"
      },
      "source": [
        "y = pd.get_dummies(emo['senti'])\n",
        "print(type(y))\n",
        "print(y.shape)\n",
        "print(y.ndim)\n",
        "y.head()"
      ],
      "execution_count": 20,
      "outputs": [
        {
          "output_type": "stream",
          "name": "stdout",
          "text": [
            "<class 'pandas.core.frame.DataFrame'>\n",
            "(20000, 6)\n",
            "2\n"
          ]
        },
        {
          "output_type": "execute_result",
          "data": {
            "text/html": [
              "<div>\n",
              "<style scoped>\n",
              "    .dataframe tbody tr th:only-of-type {\n",
              "        vertical-align: middle;\n",
              "    }\n",
              "\n",
              "    .dataframe tbody tr th {\n",
              "        vertical-align: top;\n",
              "    }\n",
              "\n",
              "    .dataframe thead th {\n",
              "        text-align: right;\n",
              "    }\n",
              "</style>\n",
              "<table border=\"1\" class=\"dataframe\">\n",
              "  <thead>\n",
              "    <tr style=\"text-align: right;\">\n",
              "      <th></th>\n",
              "      <th>anger</th>\n",
              "      <th>fear</th>\n",
              "      <th>joy</th>\n",
              "      <th>love</th>\n",
              "      <th>sadness</th>\n",
              "      <th>surprise</th>\n",
              "    </tr>\n",
              "  </thead>\n",
              "  <tbody>\n",
              "    <tr>\n",
              "      <th>0</th>\n",
              "      <td>0</td>\n",
              "      <td>0</td>\n",
              "      <td>0</td>\n",
              "      <td>0</td>\n",
              "      <td>1</td>\n",
              "      <td>0</td>\n",
              "    </tr>\n",
              "    <tr>\n",
              "      <th>1</th>\n",
              "      <td>0</td>\n",
              "      <td>0</td>\n",
              "      <td>0</td>\n",
              "      <td>0</td>\n",
              "      <td>1</td>\n",
              "      <td>0</td>\n",
              "    </tr>\n",
              "    <tr>\n",
              "      <th>2</th>\n",
              "      <td>1</td>\n",
              "      <td>0</td>\n",
              "      <td>0</td>\n",
              "      <td>0</td>\n",
              "      <td>0</td>\n",
              "      <td>0</td>\n",
              "    </tr>\n",
              "    <tr>\n",
              "      <th>3</th>\n",
              "      <td>0</td>\n",
              "      <td>0</td>\n",
              "      <td>0</td>\n",
              "      <td>1</td>\n",
              "      <td>0</td>\n",
              "      <td>0</td>\n",
              "    </tr>\n",
              "    <tr>\n",
              "      <th>4</th>\n",
              "      <td>1</td>\n",
              "      <td>0</td>\n",
              "      <td>0</td>\n",
              "      <td>0</td>\n",
              "      <td>0</td>\n",
              "      <td>0</td>\n",
              "    </tr>\n",
              "  </tbody>\n",
              "</table>\n",
              "</div>"
            ],
            "text/plain": [
              "   anger  fear  joy  love  sadness  surprise\n",
              "0      0     0    0     0        1         0\n",
              "1      0     0    0     0        1         0\n",
              "2      1     0    0     0        0         0\n",
              "3      0     0    0     1        0         0\n",
              "4      1     0    0     0        0         0"
            ]
          },
          "metadata": {},
          "execution_count": 20
        }
      ]
    },
    {
      "cell_type": "code",
      "metadata": {
        "colab": {
          "base_uri": "https://localhost:8080/"
        },
        "id": "janeuZ43puJt",
        "outputId": "0fd4b943-692e-4f03-a51f-443d50783fca"
      },
      "source": [
        "y = y.values\n",
        "print(\"properties of y\")\n",
        "print(\"type : {}, dimensions : {}, shape : {}, total no. of elements : {}, data type of each element: {}, size of each element {} bytes\".format(type(y), y.ndim, y.shape, y.size, y.dtype, y.itemsize))"
      ],
      "execution_count": 21,
      "outputs": [
        {
          "output_type": "stream",
          "name": "stdout",
          "text": [
            "properties of y\n",
            "type : <class 'numpy.ndarray'>, dimensions : 2, shape : (20000, 6), total no. of elements : 120000, data type of each element: uint8, size of each element 1 bytes\n"
          ]
        }
      ]
    },
    {
      "cell_type": "code",
      "metadata": {
        "id": "7jryRWrApuJt"
      },
      "source": [
        "list_of_classes = emo['senti'].unique().tolist()"
      ],
      "execution_count": 22,
      "outputs": []
    },
    {
      "cell_type": "code",
      "metadata": {
        "id": "iHUuxZ-dpuJu"
      },
      "source": [
        "emo = emo.drop(['senti'], axis=1)"
      ],
      "execution_count": 24,
      "outputs": []
    },
    {
      "cell_type": "code",
      "metadata": {
        "id": "GcsEd2xdpuJu"
      },
      "source": [
        "emo.shape\n",
        "x = emo.values.flatten()"
      ],
      "execution_count": 25,
      "outputs": []
    },
    {
      "cell_type": "code",
      "metadata": {
        "colab": {
          "base_uri": "https://localhost:8080/"
        },
        "id": "xUSM2VyzpuJu",
        "outputId": "53b4c578-0127-42d6-b95e-af481994a15b"
      },
      "source": [
        "print(\"Max. sentence length is: \", len(max(emo['col'], key=len)))"
      ],
      "execution_count": 26,
      "outputs": [
        {
          "output_type": "stream",
          "name": "stdout",
          "text": [
            "Max. sentence length is:  300\n"
          ]
        }
      ]
    },
    {
      "cell_type": "code",
      "metadata": {
        "id": "hnMpketGpuJu"
      },
      "source": [
        "max_features = 20000\n",
        "max_text_length = 300\n",
        "embedding_dims = 50\n",
        "batch_size = 10\n",
        "epochs = 15\n",
        "num_filters_1 = 250\n",
        "num_filters_2 = 250\n",
        "filter_size = 3"
      ],
      "execution_count": 27,
      "outputs": []
    },
    {
      "cell_type": "code",
      "metadata": {
        "id": "waeYqR0DpuJu"
      },
      "source": [
        "x_tokenizer = Tokenizer(num_words=max_features)\n",
        "x_tokenizer.fit_on_texts(list(x))\n",
        "x_tokenized = x_tokenizer.texts_to_sequences(x)\n",
        "x_train_val = pad_sequences(x_tokenized, maxlen=max_text_length)"
      ],
      "execution_count": 28,
      "outputs": []
    },
    {
      "cell_type": "code",
      "metadata": {
        "id": "QO_N-5RQpuJu"
      },
      "source": [
        "x_train, x_test, y_train, y_test = train_test_split(x_train_val, y, \n",
        "                                                   test_size = 0.2, \n",
        "                                                   random_state = 1000)"
      ],
      "execution_count": 31,
      "outputs": []
    },
    {
      "cell_type": "code",
      "metadata": {
        "colab": {
          "base_uri": "https://localhost:8080/"
        },
        "id": "DURVN1kspuJu",
        "outputId": "9f691ec9-6e62-43a7-a7b5-122572136f77"
      },
      "source": [
        "print(x_train.shape,y_train.shape)\n",
        "print(x_test.shape,y_test.shape)"
      ],
      "execution_count": 32,
      "outputs": [
        {
          "output_type": "stream",
          "name": "stdout",
          "text": [
            "(16000, 300) (16000, 6)\n",
            "(4000, 300) (4000, 6)\n"
          ]
        }
      ]
    },
    {
      "cell_type": "code",
      "metadata": {
        "id": "B6-7gDAtpuJv"
      },
      "source": [
        "model = Sequential()\n",
        "\n",
        "model.add(layers.Embedding(max_features, embedding_dims, input_length=max_text_length))\n",
        "model.add(layers.Dropout(0.2))\n",
        "\n",
        "model.add(layers.Conv1D(filters=num_filters_1, kernel_size=filter_size, padding='valid', activation='relu', strides=1))\n",
        "model.add(layers.GlobalMaxPooling1D())\n",
        "\n",
        "model.add(layers.Dense(num_filters_2))\n",
        "model.add(layers.Dropout(0.2))\n",
        "model.add(layers.Activation('relu'))\n",
        "\n",
        "model.add(layers.Dense(6))\n",
        "model.add(layers.Activation('sigmoid'))"
      ],
      "execution_count": 33,
      "outputs": []
    },
    {
      "cell_type": "code",
      "metadata": {
        "colab": {
          "base_uri": "https://localhost:8080/"
        },
        "id": "XVeAVX1-puJv",
        "outputId": "d51db87a-f9e8-4b26-dbfb-a0be0b5f07d7"
      },
      "source": [
        "model.compile(optimizer='adam', loss='binary_crossentropy', metrics=['accuracy'])\n",
        "model.summary()"
      ],
      "execution_count": 34,
      "outputs": [
        {
          "output_type": "stream",
          "name": "stdout",
          "text": [
            "Model: \"sequential_1\"\n",
            "_________________________________________________________________\n",
            " Layer (type)                Output Shape              Param #   \n",
            "=================================================================\n",
            " embedding_1 (Embedding)     (None, 300, 50)           1000000   \n",
            "                                                                 \n",
            " dropout_2 (Dropout)         (None, 300, 50)           0         \n",
            "                                                                 \n",
            " conv1d_1 (Conv1D)           (None, 298, 250)          37750     \n",
            "                                                                 \n",
            " global_max_pooling1d_1 (Glo  (None, 250)              0         \n",
            " balMaxPooling1D)                                                \n",
            "                                                                 \n",
            " dense_2 (Dense)             (None, 250)               62750     \n",
            "                                                                 \n",
            " dropout_3 (Dropout)         (None, 250)               0         \n",
            "                                                                 \n",
            " activation_2 (Activation)   (None, 250)               0         \n",
            "                                                                 \n",
            " dense_3 (Dense)             (None, 6)                 1506      \n",
            "                                                                 \n",
            " activation_3 (Activation)   (None, 6)                 0         \n",
            "                                                                 \n",
            "=================================================================\n",
            "Total params: 1,102,006\n",
            "Trainable params: 1,102,006\n",
            "Non-trainable params: 0\n",
            "_________________________________________________________________\n"
          ]
        }
      ]
    },
    {
      "cell_type": "code",
      "metadata": {
        "colab": {
          "base_uri": "https://localhost:8080/"
        },
        "id": "bsD_WMPWpuJv",
        "outputId": "631cc9c5-3352-47d1-d75f-5f19634aefab"
      },
      "source": [
        "import time\n",
        "start_time = time.time() \n",
        "history_emo = model.fit(x_train, y_train, \n",
        "                      batch_size=batch_size,\n",
        "                      epochs=epochs, validation_data=(x_test, y_test))\n",
        "time_taken = time.time()-start_time\n",
        "print(\"\\n Time taken: \" , time_taken)"
      ],
      "execution_count": 36,
      "outputs": [
        {
          "output_type": "stream",
          "name": "stdout",
          "text": [
            "Epoch 1/15\n",
            "1600/1600 [==============================] - 5s 3ms/step - loss: 0.0078 - accuracy: 0.9927 - val_loss: 0.1212 - val_accuracy: 0.9107\n",
            "Epoch 2/15\n",
            "1600/1600 [==============================] - 5s 3ms/step - loss: 0.0071 - accuracy: 0.9926 - val_loss: 0.1369 - val_accuracy: 0.9080\n",
            "Epoch 3/15\n",
            "1600/1600 [==============================] - 5s 3ms/step - loss: 0.0071 - accuracy: 0.9927 - val_loss: 0.1398 - val_accuracy: 0.9060\n",
            "Epoch 4/15\n",
            "1600/1600 [==============================] - 5s 3ms/step - loss: 0.0058 - accuracy: 0.9940 - val_loss: 0.1445 - val_accuracy: 0.9118\n",
            "Epoch 5/15\n",
            "1600/1600 [==============================] - 5s 3ms/step - loss: 0.0057 - accuracy: 0.9944 - val_loss: 0.1610 - val_accuracy: 0.9018\n",
            "Epoch 6/15\n",
            "1600/1600 [==============================] - 5s 3ms/step - loss: 0.0057 - accuracy: 0.9940 - val_loss: 0.1500 - val_accuracy: 0.8995\n",
            "Epoch 7/15\n",
            "1600/1600 [==============================] - 5s 3ms/step - loss: 0.0054 - accuracy: 0.9948 - val_loss: 0.1690 - val_accuracy: 0.9068\n",
            "Epoch 8/15\n",
            "1600/1600 [==============================] - 5s 3ms/step - loss: 0.0047 - accuracy: 0.9945 - val_loss: 0.1718 - val_accuracy: 0.9093\n",
            "Epoch 9/15\n",
            "1600/1600 [==============================] - 5s 3ms/step - loss: 0.0047 - accuracy: 0.9951 - val_loss: 0.1671 - val_accuracy: 0.9082\n",
            "Epoch 10/15\n",
            "1600/1600 [==============================] - 5s 3ms/step - loss: 0.0048 - accuracy: 0.9950 - val_loss: 0.1706 - val_accuracy: 0.9085\n",
            "Epoch 11/15\n",
            "1600/1600 [==============================] - 5s 3ms/step - loss: 0.0038 - accuracy: 0.9959 - val_loss: 0.1921 - val_accuracy: 0.9047\n",
            "Epoch 12/15\n",
            "1600/1600 [==============================] - 5s 3ms/step - loss: 0.0049 - accuracy: 0.9952 - val_loss: 0.1967 - val_accuracy: 0.9107\n",
            "Epoch 13/15\n",
            "1600/1600 [==============================] - 5s 3ms/step - loss: 0.0042 - accuracy: 0.9956 - val_loss: 0.2163 - val_accuracy: 0.9055\n",
            "Epoch 14/15\n",
            "1600/1600 [==============================] - 5s 3ms/step - loss: 0.0043 - accuracy: 0.9953 - val_loss: 0.1924 - val_accuracy: 0.9118\n",
            "Epoch 15/15\n",
            "1600/1600 [==============================] - 6s 3ms/step - loss: 0.0040 - accuracy: 0.9958 - val_loss: 0.1963 - val_accuracy: 0.9097\n",
            "\n",
            " Time taken:  81.40405797958374\n"
          ]
        }
      ]
    },
    {
      "cell_type": "code",
      "metadata": {
        "id": "WImzDy8GlRUr"
      },
      "source": [
        ""
      ],
      "execution_count": null,
      "outputs": []
    }
  ]
}