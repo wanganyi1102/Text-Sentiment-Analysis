{
 "cells": [
  {
   "cell_type": "code",
   "execution_count": 1,
   "id": "9dc4c2bb",
   "metadata": {
    "execution": {
     "iopub.execute_input": "2021-11-13T08:48:54.161334Z",
     "iopub.status.busy": "2021-11-13T08:48:54.160455Z",
     "iopub.status.idle": "2021-11-13T08:48:59.902175Z",
     "shell.execute_reply": "2021-11-13T08:48:59.901168Z"
    },
    "id": "e75ddd0a",
    "papermill": {
     "duration": 5.778491,
     "end_time": "2021-11-13T08:48:59.902350",
     "exception": false,
     "start_time": "2021-11-13T08:48:54.123859",
     "status": "completed"
    },
    "tags": []
   },
   "outputs": [],
   "source": [
    "import numpy as np\n",
    "import pandas as pd\n",
    "\n",
    "from gensim import corpora\n",
    "from nltk.corpus import stopwords\n",
    "from nltk.tokenize import word_tokenize \n",
    "from nltk.stem import SnowballStemmer\n",
    "\n",
    "from keras.preprocessing import sequence\n",
    "from keras.utils import np_utils\n",
    "from keras.models import Sequential\n",
    "from keras.layers import Dense, Dropout, Activation, Embedding\n",
    "from keras.layers import LSTM\n",
    "from sklearn import preprocessing\n",
    "from sklearn.metrics import (precision_score, recall_score,\n",
    "                             f1_score, accuracy_score,mean_squared_error,mean_absolute_error)\n",
    "np.random.seed(0)\n",
    "from tensorflow.keras.optimizers import RMSprop\n",
    "from keras import callbacks\n",
    "from keras.callbacks import ModelCheckpoint, EarlyStopping, ReduceLROnPlateau, CSVLogger"
   ]
  },
  {
   "cell_type": "markdown",
   "id": "b491bf71",
   "metadata": {
    "id": "07ae1ceb",
    "papermill": {
     "duration": 0.020548,
     "end_time": "2021-11-13T08:48:59.945472",
     "exception": false,
     "start_time": "2021-11-13T08:48:59.924924",
     "status": "completed"
    },
    "tags": []
   },
   "source": [
    "### word2vec"
   ]
  },
  {
   "cell_type": "code",
   "execution_count": 2,
   "id": "b2d07937",
   "metadata": {
    "execution": {
     "iopub.execute_input": "2021-11-13T08:48:59.991749Z",
     "iopub.status.busy": "2021-11-13T08:48:59.990858Z",
     "iopub.status.idle": "2021-11-13T08:48:59.992811Z",
     "shell.execute_reply": "2021-11-13T08:48:59.993367Z",
     "shell.execute_reply.started": "2021-11-11T08:45:53.574818Z"
    },
    "id": "d10b7218",
    "papermill": {
     "duration": 0.027937,
     "end_time": "2021-11-13T08:48:59.993508",
     "exception": false,
     "start_time": "2021-11-13T08:48:59.965571",
     "status": "completed"
    },
    "tags": []
   },
   "outputs": [],
   "source": [
    "from __future__ import print_function\n",
    "from collections import OrderedDict\n",
    "\n",
    "import time\n",
    "import _pickle as cPickle\n",
    "\n",
    "import urllib\n",
    "import matplotlib.pyplot as plt\n",
    "\n",
    "import os\n",
    "import sys\n",
    "import codecs\n",
    "import re\n",
    "import numpy as np\n",
    "\n",
    "parameters = OrderedDict()\n",
    "parameters['word_dim'] = 300"
   ]
  },
  {
   "cell_type": "code",
   "execution_count": 3,
   "id": "b8cb64ec",
   "metadata": {
    "execution": {
     "iopub.execute_input": "2021-11-13T08:49:00.039328Z",
     "iopub.status.busy": "2021-11-13T08:49:00.038785Z",
     "iopub.status.idle": "2021-11-13T08:49:00.198851Z",
     "shell.execute_reply": "2021-11-13T08:49:00.199313Z",
     "shell.execute_reply.started": "2021-11-11T08:45:53.582144Z"
    },
    "id": "1d4efccc",
    "outputId": "af81a79d-1ba2-42b6-974d-39a33d888ee6",
    "papermill": {
     "duration": 0.185115,
     "end_time": "2021-11-13T08:49:00.199464",
     "exception": false,
     "start_time": "2021-11-13T08:49:00.014349",
     "status": "completed"
    },
    "tags": []
   },
   "outputs": [
    {
     "data": {
      "text/html": [
       "<div>\n",
       "<style scoped>\n",
       "    .dataframe tbody tr th:only-of-type {\n",
       "        vertical-align: middle;\n",
       "    }\n",
       "\n",
       "    .dataframe tbody tr th {\n",
       "        vertical-align: top;\n",
       "    }\n",
       "\n",
       "    .dataframe thead th {\n",
       "        text-align: right;\n",
       "    }\n",
       "</style>\n",
       "<table border=\"1\" class=\"dataframe\">\n",
       "  <thead>\n",
       "    <tr style=\"text-align: right;\">\n",
       "      <th></th>\n",
       "      <th>sentiment</th>\n",
       "      <th>content</th>\n",
       "    </tr>\n",
       "  </thead>\n",
       "  <tbody>\n",
       "    <tr>\n",
       "      <th>0</th>\n",
       "      <td>empty</td>\n",
       "      <td>@tiffanylue i know  i was listenin to bad habi...</td>\n",
       "    </tr>\n",
       "    <tr>\n",
       "      <th>1</th>\n",
       "      <td>sadness</td>\n",
       "      <td>Layin n bed with a headache  ughhhh...waitin o...</td>\n",
       "    </tr>\n",
       "    <tr>\n",
       "      <th>2</th>\n",
       "      <td>sadness</td>\n",
       "      <td>Funeral ceremony...gloomy friday...</td>\n",
       "    </tr>\n",
       "    <tr>\n",
       "      <th>3</th>\n",
       "      <td>enthusiasm</td>\n",
       "      <td>wants to hang out with friends SOON!</td>\n",
       "    </tr>\n",
       "    <tr>\n",
       "      <th>4</th>\n",
       "      <td>neutral</td>\n",
       "      <td>@dannycastillo We want to trade with someone w...</td>\n",
       "    </tr>\n",
       "  </tbody>\n",
       "</table>\n",
       "</div>"
      ],
      "text/plain": [
       "    sentiment                                            content\n",
       "0       empty  @tiffanylue i know  i was listenin to bad habi...\n",
       "1     sadness  Layin n bed with a headache  ughhhh...waitin o...\n",
       "2     sadness                Funeral ceremony...gloomy friday...\n",
       "3  enthusiasm               wants to hang out with friends SOON!\n",
       "4     neutral  @dannycastillo We want to trade with someone w..."
      ]
     },
     "execution_count": 3,
     "metadata": {},
     "output_type": "execute_result"
    }
   ],
   "source": [
    "crowdflower = pd.read_csv('../input/crowdflowerdata/text_emotion.csv')\n",
    "crowdflower= crowdflower[['sentiment', 'content']]\n",
    "crowdflower.head()"
   ]
  },
  {
   "cell_type": "code",
   "execution_count": 4,
   "id": "358ee1e7",
   "metadata": {
    "execution": {
     "iopub.execute_input": "2021-11-13T08:49:00.254578Z",
     "iopub.status.busy": "2021-11-13T08:49:00.253772Z",
     "iopub.status.idle": "2021-11-13T08:49:00.296838Z",
     "shell.execute_reply": "2021-11-13T08:49:00.297257Z",
     "shell.execute_reply.started": "2021-11-11T08:45:53.71135Z"
    },
    "id": "f3b30e52",
    "outputId": "2bde8437-9b0e-4acd-c59f-0fe1b40208a2",
    "papermill": {
     "duration": 0.076277,
     "end_time": "2021-11-13T08:49:00.297400",
     "exception": false,
     "start_time": "2021-11-13T08:49:00.221123",
     "status": "completed"
    },
    "tags": []
   },
   "outputs": [
    {
     "data": {
      "text/html": [
       "<div>\n",
       "<style scoped>\n",
       "    .dataframe tbody tr th:only-of-type {\n",
       "        vertical-align: middle;\n",
       "    }\n",
       "\n",
       "    .dataframe tbody tr th {\n",
       "        vertical-align: top;\n",
       "    }\n",
       "\n",
       "    .dataframe thead th {\n",
       "        text-align: right;\n",
       "    }\n",
       "</style>\n",
       "<table border=\"1\" class=\"dataframe\">\n",
       "  <thead>\n",
       "    <tr style=\"text-align: right;\">\n",
       "      <th></th>\n",
       "      <th>sentiment</th>\n",
       "      <th>onehot_sentiment</th>\n",
       "      <th>content</th>\n",
       "    </tr>\n",
       "  </thead>\n",
       "  <tbody>\n",
       "    <tr>\n",
       "      <th>0</th>\n",
       "      <td>empty</td>\n",
       "      <td>[0.0, 0.0, 1.0, 0.0, 0.0, 0.0, 0.0, 0.0, 0.0, ...</td>\n",
       "      <td>@tiffanylue i know  i was listenin to bad habi...</td>\n",
       "    </tr>\n",
       "    <tr>\n",
       "      <th>1</th>\n",
       "      <td>sadness</td>\n",
       "      <td>[0.0, 0.0, 0.0, 0.0, 0.0, 0.0, 0.0, 0.0, 0.0, ...</td>\n",
       "      <td>Layin n bed with a headache  ughhhh...waitin o...</td>\n",
       "    </tr>\n",
       "    <tr>\n",
       "      <th>2</th>\n",
       "      <td>sadness</td>\n",
       "      <td>[0.0, 0.0, 0.0, 0.0, 0.0, 0.0, 0.0, 0.0, 0.0, ...</td>\n",
       "      <td>Funeral ceremony...gloomy friday...</td>\n",
       "    </tr>\n",
       "    <tr>\n",
       "      <th>3</th>\n",
       "      <td>enthusiasm</td>\n",
       "      <td>[0.0, 0.0, 0.0, 1.0, 0.0, 0.0, 0.0, 0.0, 0.0, ...</td>\n",
       "      <td>wants to hang out with friends SOON!</td>\n",
       "    </tr>\n",
       "    <tr>\n",
       "      <th>4</th>\n",
       "      <td>neutral</td>\n",
       "      <td>[0.0, 0.0, 0.0, 0.0, 0.0, 0.0, 0.0, 0.0, 1.0, ...</td>\n",
       "      <td>@dannycastillo We want to trade with someone w...</td>\n",
       "    </tr>\n",
       "    <tr>\n",
       "      <th>...</th>\n",
       "      <td>...</td>\n",
       "      <td>...</td>\n",
       "      <td>...</td>\n",
       "    </tr>\n",
       "    <tr>\n",
       "      <th>39995</th>\n",
       "      <td>neutral</td>\n",
       "      <td>[0.0, 0.0, 0.0, 0.0, 0.0, 0.0, 0.0, 0.0, 1.0, ...</td>\n",
       "      <td>@JohnLloydTaylor</td>\n",
       "    </tr>\n",
       "    <tr>\n",
       "      <th>39996</th>\n",
       "      <td>love</td>\n",
       "      <td>[0.0, 0.0, 0.0, 0.0, 0.0, 0.0, 0.0, 1.0, 0.0, ...</td>\n",
       "      <td>Happy Mothers Day  All my love</td>\n",
       "    </tr>\n",
       "    <tr>\n",
       "      <th>39997</th>\n",
       "      <td>love</td>\n",
       "      <td>[0.0, 0.0, 0.0, 0.0, 0.0, 0.0, 0.0, 1.0, 0.0, ...</td>\n",
       "      <td>Happy Mother's Day to all the mommies out ther...</td>\n",
       "    </tr>\n",
       "    <tr>\n",
       "      <th>39998</th>\n",
       "      <td>happiness</td>\n",
       "      <td>[0.0, 0.0, 0.0, 0.0, 0.0, 1.0, 0.0, 0.0, 0.0, ...</td>\n",
       "      <td>@niariley WASSUP BEAUTIFUL!!! FOLLOW ME!!  PEE...</td>\n",
       "    </tr>\n",
       "    <tr>\n",
       "      <th>39999</th>\n",
       "      <td>love</td>\n",
       "      <td>[0.0, 0.0, 0.0, 0.0, 0.0, 0.0, 0.0, 1.0, 0.0, ...</td>\n",
       "      <td>@mopedronin bullet train from tokyo    the gf ...</td>\n",
       "    </tr>\n",
       "  </tbody>\n",
       "</table>\n",
       "<p>40000 rows × 3 columns</p>\n",
       "</div>"
      ],
      "text/plain": [
       "        sentiment                                   onehot_sentiment  \\\n",
       "0           empty  [0.0, 0.0, 1.0, 0.0, 0.0, 0.0, 0.0, 0.0, 0.0, ...   \n",
       "1         sadness  [0.0, 0.0, 0.0, 0.0, 0.0, 0.0, 0.0, 0.0, 0.0, ...   \n",
       "2         sadness  [0.0, 0.0, 0.0, 0.0, 0.0, 0.0, 0.0, 0.0, 0.0, ...   \n",
       "3      enthusiasm  [0.0, 0.0, 0.0, 1.0, 0.0, 0.0, 0.0, 0.0, 0.0, ...   \n",
       "4         neutral  [0.0, 0.0, 0.0, 0.0, 0.0, 0.0, 0.0, 0.0, 1.0, ...   \n",
       "...           ...                                                ...   \n",
       "39995     neutral  [0.0, 0.0, 0.0, 0.0, 0.0, 0.0, 0.0, 0.0, 1.0, ...   \n",
       "39996        love  [0.0, 0.0, 0.0, 0.0, 0.0, 0.0, 0.0, 1.0, 0.0, ...   \n",
       "39997        love  [0.0, 0.0, 0.0, 0.0, 0.0, 0.0, 0.0, 1.0, 0.0, ...   \n",
       "39998   happiness  [0.0, 0.0, 0.0, 0.0, 0.0, 1.0, 0.0, 0.0, 0.0, ...   \n",
       "39999        love  [0.0, 0.0, 0.0, 0.0, 0.0, 0.0, 0.0, 1.0, 0.0, ...   \n",
       "\n",
       "                                                 content  \n",
       "0      @tiffanylue i know  i was listenin to bad habi...  \n",
       "1      Layin n bed with a headache  ughhhh...waitin o...  \n",
       "2                    Funeral ceremony...gloomy friday...  \n",
       "3                   wants to hang out with friends SOON!  \n",
       "4      @dannycastillo We want to trade with someone w...  \n",
       "...                                                  ...  \n",
       "39995                                   @JohnLloydTaylor  \n",
       "39996                     Happy Mothers Day  All my love  \n",
       "39997  Happy Mother's Day to all the mommies out ther...  \n",
       "39998  @niariley WASSUP BEAUTIFUL!!! FOLLOW ME!!  PEE...  \n",
       "39999  @mopedronin bullet train from tokyo    the gf ...  \n",
       "\n",
       "[40000 rows x 3 columns]"
      ]
     },
     "execution_count": 4,
     "metadata": {},
     "output_type": "execute_result"
    }
   ],
   "source": [
    "## encode sentiment column to onehot\n",
    "from sklearn.preprocessing import OneHotEncoder\n",
    "\n",
    "enc = OneHotEncoder(handle_unknown='ignore')\n",
    "enc.fit(crowdflower['sentiment'].to_numpy().reshape(-1, 1))\n",
    "onehot_sentiment = enc.transform(crowdflower['sentiment'].to_numpy().reshape(-1, 1)).toarray()\n",
    "# onehot_sentiment = onehot_sentiment.reshape((40000, 1, 13))\n",
    "crowdflower.insert(1, \"onehot_sentiment\", list(onehot_sentiment))\n",
    "crowdflower"
   ]
  },
  {
   "cell_type": "markdown",
   "id": "a25bff3d",
   "metadata": {
    "id": "8df8ec3d",
    "papermill": {
     "duration": 0.021461,
     "end_time": "2021-11-13T08:49:00.340786",
     "exception": false,
     "start_time": "2021-11-13T08:49:00.319325",
     "status": "completed"
    },
    "tags": []
   },
   "source": [
    "### encode word"
   ]
  },
  {
   "cell_type": "code",
   "execution_count": 5,
   "id": "340da9a5",
   "metadata": {
    "execution": {
     "iopub.execute_input": "2021-11-13T08:49:00.394965Z",
     "iopub.status.busy": "2021-11-13T08:49:00.394249Z",
     "iopub.status.idle": "2021-11-13T08:49:00.396769Z",
     "shell.execute_reply": "2021-11-13T08:49:00.396367Z",
     "shell.execute_reply.started": "2021-11-11T08:45:53.747162Z"
    },
    "id": "9d02a586",
    "papermill": {
     "duration": 0.03388,
     "end_time": "2021-11-13T08:49:00.396873",
     "exception": false,
     "start_time": "2021-11-13T08:49:00.362993",
     "status": "completed"
    },
    "tags": []
   },
   "outputs": [],
   "source": [
    "def create_dico(item_list):\n",
    "    \"\"\"\n",
    "    Create a dictionary of items from a list of list of items.\n",
    "    (item:count) pairs\n",
    "    \"\"\"\n",
    "    assert type(item_list) is list\n",
    "    dico = {}\n",
    "    for items in item_list:\n",
    "        for item in items:\n",
    "            if item not in dico:\n",
    "                dico[item] = 1\n",
    "            else:\n",
    "                dico[item] += 1\n",
    "    return dico\n",
    "\n",
    "def create_mapping(dico):\n",
    "    \"\"\"\n",
    "    Create a mapping (item to ID / ID to item) from a dictionary.\n",
    "    Items are ordered by decreasing frequency.\n",
    "    \"\"\"\n",
    "    sorted_items = sorted(dico.items(), key=lambda x: (-x[1], x[0]))\n",
    "    id_to_item = {i: v[0] for i, v in enumerate(sorted_items)}\n",
    "    item_to_id = {v: k for k, v in id_to_item.items()}\n",
    "    return item_to_id, id_to_item\n",
    "\n",
    "def word_mapping(sentences, lower):\n",
    "    \"\"\"\n",
    "    Create a dictionary and a mapping of words, sorted by frequency.\n",
    "    \n",
    "    return:\n",
    "    dico: dictionary of (word:frequency) pairs\n",
    "    word_to_id: dictionary of (word, id)\n",
    "    id_to_word: dictionary of (id, word)\n",
    "    \"\"\"\n",
    "    words = [[x.lower() if lower else x[0] for x in s] for s in sentences]\n",
    "    dico = create_dico(words)\n",
    "    dico['<UNK>'] = 10000000 #UNK tag for unknown words\n",
    "    word_to_id, id_to_word = create_mapping(dico)\n",
    "    print(\"Found %i unique words (%i in total)\" % (\n",
    "        len(dico), sum(len(x) for x in words)\n",
    "    ))\n",
    "    return dico, word_to_id, id_to_word"
   ]
  },
  {
   "cell_type": "code",
   "execution_count": 6,
   "id": "f83dac25",
   "metadata": {
    "execution": {
     "iopub.execute_input": "2021-11-13T08:49:00.451234Z",
     "iopub.status.busy": "2021-11-13T08:49:00.450547Z",
     "iopub.status.idle": "2021-11-13T08:49:00.584023Z",
     "shell.execute_reply": "2021-11-13T08:49:00.584540Z",
     "shell.execute_reply.started": "2021-11-11T08:45:53.759347Z"
    },
    "id": "aaUiKLPvNGKh",
    "outputId": "ee0c1d79-5294-4bd7-f826-565eaa182d51",
    "papermill": {
     "duration": 0.166143,
     "end_time": "2021-11-13T08:49:00.584698",
     "exception": false,
     "start_time": "2021-11-13T08:49:00.418555",
     "status": "completed"
    },
    "tags": []
   },
   "outputs": [
    {
     "name": "stdout",
     "output_type": "stream",
     "text": [
      "[nltk_data] Downloading package punkt to /usr/share/nltk_data...\n",
      "[nltk_data]   Package punkt is already up-to-date!\n"
     ]
    },
    {
     "data": {
      "text/plain": [
       "True"
      ]
     },
     "execution_count": 6,
     "metadata": {},
     "output_type": "execute_result"
    }
   ],
   "source": [
    "import nltk\n",
    "nltk.download('punkt')"
   ]
  },
  {
   "cell_type": "code",
   "execution_count": 7,
   "id": "22488f17",
   "metadata": {
    "execution": {
     "iopub.execute_input": "2021-11-13T08:49:00.636533Z",
     "iopub.status.busy": "2021-11-13T08:49:00.635801Z",
     "iopub.status.idle": "2021-11-13T08:49:10.433989Z",
     "shell.execute_reply": "2021-11-13T08:49:10.433168Z",
     "shell.execute_reply.started": "2021-11-11T08:45:53.900373Z"
    },
    "id": "32536d06",
    "papermill": {
     "duration": 9.825888,
     "end_time": "2021-11-13T08:49:10.434151",
     "exception": false,
     "start_time": "2021-11-13T08:49:00.608263",
     "status": "completed"
    },
    "tags": []
   },
   "outputs": [],
   "source": [
    "## tokenising sentences\n",
    "raw_content = crowdflower['content'].to_numpy()\n",
    "\n",
    "processed_docs = []\n",
    "for doc in raw_content:\n",
    "    tokens = word_tokenize(doc)\n",
    "#        filtered = [word for word in tokens if word not in stop_words]\n",
    "#        stemmed = [stemmer.stem(word) for word in filtered]\n",
    "    processed_docs.append(tokens)"
   ]
  },
  {
   "cell_type": "code",
   "execution_count": 8,
   "id": "b9ed3c28",
   "metadata": {
    "execution": {
     "iopub.execute_input": "2021-11-13T08:49:10.516880Z",
     "iopub.status.busy": "2021-11-13T08:49:10.511866Z",
     "iopub.status.idle": "2021-11-13T08:49:11.076524Z",
     "shell.execute_reply": "2021-11-13T08:49:11.077148Z",
     "shell.execute_reply.started": "2021-11-11T08:45:57.844923Z"
    },
    "id": "a2e10b86",
    "outputId": "159980c6-532e-4834-9fda-0f45f425092d",
    "papermill": {
     "duration": 0.620867,
     "end_time": "2021-11-13T08:49:11.077348",
     "exception": false,
     "start_time": "2021-11-13T08:49:10.456481",
     "status": "completed"
    },
    "tags": []
   },
   "outputs": [
    {
     "name": "stdout",
     "output_type": "stream",
     "text": [
      "Found 52746 unique words (654846 in total)\n"
     ]
    }
   ],
   "source": [
    "dico_words,word_to_id,id_to_word = word_mapping(processed_docs, True)"
   ]
  },
  {
   "cell_type": "code",
   "execution_count": 9,
   "id": "23cf575f",
   "metadata": {
    "execution": {
     "iopub.execute_input": "2021-11-13T08:49:11.129061Z",
     "iopub.status.busy": "2021-11-13T08:49:11.128275Z",
     "iopub.status.idle": "2021-11-13T08:49:11.130375Z",
     "shell.execute_reply": "2021-11-13T08:49:11.130776Z",
     "shell.execute_reply.started": "2021-11-11T08:45:58.045378Z"
    },
    "id": "03254b00",
    "papermill": {
     "duration": 0.030198,
     "end_time": "2021-11-13T08:49:11.130916",
     "exception": false,
     "start_time": "2021-11-13T08:49:11.100718",
     "status": "completed"
    },
    "tags": []
   },
   "outputs": [],
   "source": [
    "def lower_case(x,lower=False):\n",
    "    if lower:\n",
    "        return x.lower()  \n",
    "    else:\n",
    "        return x"
   ]
  },
  {
   "cell_type": "code",
   "execution_count": 10,
   "id": "443e96ac",
   "metadata": {
    "execution": {
     "iopub.execute_input": "2021-11-13T08:49:11.197815Z",
     "iopub.status.busy": "2021-11-13T08:49:11.192777Z",
     "iopub.status.idle": "2021-11-13T08:49:11.668599Z",
     "shell.execute_reply": "2021-11-13T08:49:11.669224Z",
     "shell.execute_reply.started": "2021-11-11T08:45:58.055339Z"
    },
    "id": "022ab1c7",
    "outputId": "c18c9dc0-2ed0-4783-ccd1-ea1792943735",
    "papermill": {
     "duration": 0.516123,
     "end_time": "2021-11-13T08:49:11.669425",
     "exception": false,
     "start_time": "2021-11-13T08:49:11.153302",
     "status": "completed"
    },
    "tags": []
   },
   "outputs": [
    {
     "name": "stdout",
     "output_type": "stream",
     "text": [
      "40000 sentences\n"
     ]
    }
   ],
   "source": [
    "def prepare_dataset(sentences, word_to_id, lower=False):\n",
    "    \"\"\"\n",
    "    Prepare the dataset. Return a list of lists of dictionaries containing:\n",
    "        - word indexes\n",
    "        - word char indexes\n",
    "        - tag indexes\n",
    "    \"\"\"\n",
    "    data = []\n",
    "    for s in sentences:\n",
    "        str_words = [w for w in s]\n",
    "        words = [word_to_id[lower_case(w,lower) if lower_case(w,lower) in word_to_id else '<UNK>']\n",
    "                 for w in str_words]\n",
    "        data.append({\n",
    "            'str_words': str_words, #list of all words in the sentence\n",
    "            'words': words, #list of word index for all words in the sentence\n",
    "        })\n",
    "    return data\n",
    "\n",
    "data = prepare_dataset(\n",
    "    processed_docs, word_to_id, True\n",
    ")\n",
    "\n",
    "print(\"{} sentences\".format(len(data)))"
   ]
  },
  {
   "cell_type": "code",
   "execution_count": 11,
   "id": "3ecca1c5",
   "metadata": {
    "execution": {
     "iopub.execute_input": "2021-11-13T08:49:11.724117Z",
     "iopub.status.busy": "2021-11-13T08:49:11.723591Z",
     "iopub.status.idle": "2021-11-13T08:50:18.808507Z",
     "shell.execute_reply": "2021-11-13T08:50:18.808953Z",
     "shell.execute_reply.started": "2021-11-11T08:45:58.511265Z"
    },
    "id": "7ef648e2",
    "outputId": "1ad5eb3a-c4f2-4d46-abca-82a4e734f12a",
    "papermill": {
     "duration": 67.115745,
     "end_time": "2021-11-13T08:50:18.809124",
     "exception": false,
     "start_time": "2021-11-13T08:49:11.693379",
     "status": "completed"
    },
    "scrolled": true,
    "tags": []
   },
   "outputs": [
    {
     "name": "stdout",
     "output_type": "stream",
     "text": [
      "Loaded 400000 pretrained embeddings.\n"
     ]
    }
   ],
   "source": [
    "all_word_embeds = {}\n",
    "for i, line in enumerate(codecs.open('../input/crowdflowerdata/glove.6B.300d.txt', 'r', 'utf-8')):\n",
    "    s = line.strip().split()\n",
    "    if len(s) == parameters['word_dim'] + 1:\n",
    "        all_word_embeds[s[0]] = np.array([float(i) for i in s[1:]])\n",
    "\n",
    "#Intializing Word Embedding Matrix\n",
    "word_embeds = np.random.uniform(-np.sqrt(0.06), np.sqrt(0.06), (len(word_to_id), parameters['word_dim']))\n",
    "\n",
    "for w in word_to_id:\n",
    "    if w in all_word_embeds:\n",
    "        word_embeds[word_to_id[w]] = all_word_embeds[w]\n",
    "    elif w.lower() in all_word_embeds:\n",
    "        word_embeds[word_to_id[w]] = all_word_embeds[w.lower()]\n",
    "\n",
    "print('Loaded %i pretrained embeddings.' % len(all_word_embeds))"
   ]
  },
  {
   "cell_type": "code",
   "execution_count": 12,
   "id": "0d29d775",
   "metadata": {
    "execution": {
     "iopub.execute_input": "2021-11-13T08:50:18.896534Z",
     "iopub.status.busy": "2021-11-13T08:50:18.877696Z",
     "iopub.status.idle": "2021-11-13T08:50:19.308545Z",
     "shell.execute_reply": "2021-11-13T08:50:19.307950Z",
     "shell.execute_reply.started": "2021-11-11T08:46:58.088603Z"
    },
    "id": "8c8e52f8",
    "papermill": {
     "duration": 0.476193,
     "end_time": "2021-11-13T08:50:19.308670",
     "exception": false,
     "start_time": "2021-11-13T08:50:18.832477",
     "status": "completed"
    },
    "tags": []
   },
   "outputs": [],
   "source": [
    "word_indices = [i['words'] for i in data]\n",
    "padded_indices = []\n",
    "for sent in word_indices:\n",
    "    padding_size = 110 - len(sent)\n",
    "    padded = sent + [0 for i in range(padding_size)]\n",
    "    padded_indices.append(padded)"
   ]
  },
  {
   "cell_type": "code",
   "execution_count": 13,
   "id": "0343b1c9",
   "metadata": {
    "execution": {
     "iopub.execute_input": "2021-11-13T08:50:19.357146Z",
     "iopub.status.busy": "2021-11-13T08:50:19.356365Z",
     "iopub.status.idle": "2021-11-13T08:50:19.621510Z",
     "shell.execute_reply": "2021-11-13T08:50:19.621932Z",
     "shell.execute_reply.started": "2021-11-11T08:46:58.210055Z"
    },
    "id": "c79a5d1e",
    "outputId": "68018cf7-6095-467c-afd6-56fa38549f4a",
    "papermill": {
     "duration": 0.290506,
     "end_time": "2021-11-13T08:50:19.622095",
     "exception": false,
     "start_time": "2021-11-13T08:50:19.331589",
     "status": "completed"
    },
    "tags": []
   },
   "outputs": [
    {
     "data": {
      "text/html": [
       "<div>\n",
       "<style scoped>\n",
       "    .dataframe tbody tr th:only-of-type {\n",
       "        vertical-align: middle;\n",
       "    }\n",
       "\n",
       "    .dataframe tbody tr th {\n",
       "        vertical-align: top;\n",
       "    }\n",
       "\n",
       "    .dataframe thead th {\n",
       "        text-align: right;\n",
       "    }\n",
       "</style>\n",
       "<table border=\"1\" class=\"dataframe\">\n",
       "  <thead>\n",
       "    <tr style=\"text-align: right;\">\n",
       "      <th></th>\n",
       "      <th>sentiment</th>\n",
       "      <th>padded_indices</th>\n",
       "      <th>onehot_sentiment</th>\n",
       "      <th>content</th>\n",
       "    </tr>\n",
       "  </thead>\n",
       "  <tbody>\n",
       "    <tr>\n",
       "      <th>0</th>\n",
       "      <td>empty</td>\n",
       "      <td>[4, 48864, 1, 67, 1, 36, 3311, 5, 138, 4779, 8...</td>\n",
       "      <td>[0.0, 0.0, 1.0, 0.0, 0.0, 0.0, 0.0, 0.0, 0.0, ...</td>\n",
       "      <td>@tiffanylue i know  i was listenin to bad habi...</td>\n",
       "    </tr>\n",
       "    <tr>\n",
       "      <th>1</th>\n",
       "      <td>sadness</td>\n",
       "      <td>[12504, 316, 162, 33, 8, 439, 3667, 13, 2272, ...</td>\n",
       "      <td>[0.0, 0.0, 0.0, 0.0, 0.0, 0.0, 0.0, 0.0, 0.0, ...</td>\n",
       "      <td>Layin n bed with a headache  ughhhh...waitin o...</td>\n",
       "    </tr>\n",
       "    <tr>\n",
       "      <th>2</th>\n",
       "      <td>sadness</td>\n",
       "      <td>[2713, 4125, 13, 1714, 246, 13, 0, 0, 0, 0, 0,...</td>\n",
       "      <td>[0.0, 0.0, 0.0, 0.0, 0.0, 0.0, 0.0, 0.0, 0.0, ...</td>\n",
       "      <td>Funeral ceremony...gloomy friday...</td>\n",
       "    </tr>\n",
       "    <tr>\n",
       "      <th>3</th>\n",
       "      <td>enthusiasm</td>\n",
       "      <td>[441, 5, 700, 43, 33, 227, 186, 2, 0, 0, 0, 0,...</td>\n",
       "      <td>[0.0, 0.0, 0.0, 1.0, 0.0, 0.0, 0.0, 0.0, 0.0, ...</td>\n",
       "      <td>wants to hang out with friends SOON!</td>\n",
       "    </tr>\n",
       "    <tr>\n",
       "      <th>4</th>\n",
       "      <td>neutral</td>\n",
       "      <td>[4, 25690, 60, 94, 5, 3407, 33, 264, 184, 116,...</td>\n",
       "      <td>[0.0, 0.0, 0.0, 0.0, 0.0, 0.0, 0.0, 0.0, 1.0, ...</td>\n",
       "      <td>@dannycastillo We want to trade with someone w...</td>\n",
       "    </tr>\n",
       "    <tr>\n",
       "      <th>...</th>\n",
       "      <td>...</td>\n",
       "      <td>...</td>\n",
       "      <td>...</td>\n",
       "      <td>...</td>\n",
       "    </tr>\n",
       "    <tr>\n",
       "      <th>39995</th>\n",
       "      <td>neutral</td>\n",
       "      <td>[4, 6649, 0, 0, 0, 0, 0, 0, 0, 0, 0, 0, 0, 0, ...</td>\n",
       "      <td>[0.0, 0.0, 0.0, 0.0, 0.0, 0.0, 0.0, 0.0, 1.0, ...</td>\n",
       "      <td>@JohnLloydTaylor</td>\n",
       "    </tr>\n",
       "    <tr>\n",
       "      <th>39996</th>\n",
       "      <td>love</td>\n",
       "      <td>[61, 157, 32, 40, 9, 56, 0, 0, 0, 0, 0, 0, 0, ...</td>\n",
       "      <td>[0.0, 0.0, 0.0, 0.0, 0.0, 0.0, 0.0, 1.0, 0.0, ...</td>\n",
       "      <td>Happy Mothers Day  All my love</td>\n",
       "    </tr>\n",
       "    <tr>\n",
       "      <th>39997</th>\n",
       "      <td>love</td>\n",
       "      <td>[61, 141, 18, 32, 5, 40, 6, 1576, 43, 71, 7, 3...</td>\n",
       "      <td>[0.0, 0.0, 0.0, 0.0, 0.0, 0.0, 0.0, 1.0, 0.0, ...</td>\n",
       "      <td>Happy Mother's Day to all the mommies out ther...</td>\n",
       "    </tr>\n",
       "    <tr>\n",
       "      <th>39998</th>\n",
       "      <td>happiness</td>\n",
       "      <td>[4, 8652, 2806, 388, 2, 2, 2, 262, 24, 2, 2, 6...</td>\n",
       "      <td>[0.0, 0.0, 0.0, 0.0, 0.0, 1.0, 0.0, 0.0, 0.0, ...</td>\n",
       "      <td>@niariley WASSUP BEAUTIFUL!!! FOLLOW ME!!  PEE...</td>\n",
       "    </tr>\n",
       "    <tr>\n",
       "      <th>39999</th>\n",
       "      <td>love</td>\n",
       "      <td>[4, 12956, 7641, 1051, 63, 2996, 6, 2716, 12, ...</td>\n",
       "      <td>[0.0, 0.0, 0.0, 0.0, 0.0, 0.0, 0.0, 1.0, 0.0, ...</td>\n",
       "      <td>@mopedronin bullet train from tokyo    the gf ...</td>\n",
       "    </tr>\n",
       "  </tbody>\n",
       "</table>\n",
       "<p>40000 rows × 4 columns</p>\n",
       "</div>"
      ],
      "text/plain": [
       "        sentiment                                     padded_indices  \\\n",
       "0           empty  [4, 48864, 1, 67, 1, 36, 3311, 5, 138, 4779, 8...   \n",
       "1         sadness  [12504, 316, 162, 33, 8, 439, 3667, 13, 2272, ...   \n",
       "2         sadness  [2713, 4125, 13, 1714, 246, 13, 0, 0, 0, 0, 0,...   \n",
       "3      enthusiasm  [441, 5, 700, 43, 33, 227, 186, 2, 0, 0, 0, 0,...   \n",
       "4         neutral  [4, 25690, 60, 94, 5, 3407, 33, 264, 184, 116,...   \n",
       "...           ...                                                ...   \n",
       "39995     neutral  [4, 6649, 0, 0, 0, 0, 0, 0, 0, 0, 0, 0, 0, 0, ...   \n",
       "39996        love  [61, 157, 32, 40, 9, 56, 0, 0, 0, 0, 0, 0, 0, ...   \n",
       "39997        love  [61, 141, 18, 32, 5, 40, 6, 1576, 43, 71, 7, 3...   \n",
       "39998   happiness  [4, 8652, 2806, 388, 2, 2, 2, 262, 24, 2, 2, 6...   \n",
       "39999        love  [4, 12956, 7641, 1051, 63, 2996, 6, 2716, 12, ...   \n",
       "\n",
       "                                        onehot_sentiment  \\\n",
       "0      [0.0, 0.0, 1.0, 0.0, 0.0, 0.0, 0.0, 0.0, 0.0, ...   \n",
       "1      [0.0, 0.0, 0.0, 0.0, 0.0, 0.0, 0.0, 0.0, 0.0, ...   \n",
       "2      [0.0, 0.0, 0.0, 0.0, 0.0, 0.0, 0.0, 0.0, 0.0, ...   \n",
       "3      [0.0, 0.0, 0.0, 1.0, 0.0, 0.0, 0.0, 0.0, 0.0, ...   \n",
       "4      [0.0, 0.0, 0.0, 0.0, 0.0, 0.0, 0.0, 0.0, 1.0, ...   \n",
       "...                                                  ...   \n",
       "39995  [0.0, 0.0, 0.0, 0.0, 0.0, 0.0, 0.0, 0.0, 1.0, ...   \n",
       "39996  [0.0, 0.0, 0.0, 0.0, 0.0, 0.0, 0.0, 1.0, 0.0, ...   \n",
       "39997  [0.0, 0.0, 0.0, 0.0, 0.0, 0.0, 0.0, 1.0, 0.0, ...   \n",
       "39998  [0.0, 0.0, 0.0, 0.0, 0.0, 1.0, 0.0, 0.0, 0.0, ...   \n",
       "39999  [0.0, 0.0, 0.0, 0.0, 0.0, 0.0, 0.0, 1.0, 0.0, ...   \n",
       "\n",
       "                                                 content  \n",
       "0      @tiffanylue i know  i was listenin to bad habi...  \n",
       "1      Layin n bed with a headache  ughhhh...waitin o...  \n",
       "2                    Funeral ceremony...gloomy friday...  \n",
       "3                   wants to hang out with friends SOON!  \n",
       "4      @dannycastillo We want to trade with someone w...  \n",
       "...                                                  ...  \n",
       "39995                                   @JohnLloydTaylor  \n",
       "39996                     Happy Mothers Day  All my love  \n",
       "39997  Happy Mother's Day to all the mommies out ther...  \n",
       "39998  @niariley WASSUP BEAUTIFUL!!! FOLLOW ME!!  PEE...  \n",
       "39999  @mopedronin bullet train from tokyo    the gf ...  \n",
       "\n",
       "[40000 rows x 4 columns]"
      ]
     },
     "execution_count": 13,
     "metadata": {},
     "output_type": "execute_result"
    }
   ],
   "source": [
    "crowdflower.insert(1, \"padded_indices\", list(padded_indices))\n",
    "crowdflower"
   ]
  },
  {
   "cell_type": "code",
   "execution_count": 14,
   "id": "9e9a8b96",
   "metadata": {
    "execution": {
     "iopub.execute_input": "2021-11-13T08:50:19.674548Z",
     "iopub.status.busy": "2021-11-13T08:50:19.673985Z",
     "iopub.status.idle": "2021-11-13T08:50:19.683461Z",
     "shell.execute_reply": "2021-11-13T08:50:19.683045Z",
     "shell.execute_reply.started": "2021-11-11T08:46:58.362645Z"
    },
    "id": "7c70f61b",
    "outputId": "d509f610-a628-4322-f5b8-5b0dc99392cc",
    "papermill": {
     "duration": 0.038188,
     "end_time": "2021-11-13T08:50:19.683569",
     "exception": false,
     "start_time": "2021-11-13T08:50:19.645381",
     "status": "completed"
    },
    "tags": []
   },
   "outputs": [
    {
     "name": "stdout",
     "output_type": "stream",
     "text": [
      "X train:  32000 (32000,)\n",
      "y train:  32000 (32000,)\n",
      "y test:  8000 (8000,)\n"
     ]
    }
   ],
   "source": [
    "from sklearn.model_selection import train_test_split\n",
    "X = crowdflower['padded_indices'].to_numpy()\n",
    "y = crowdflower['onehot_sentiment'].to_numpy()\n",
    "X_train, X_test, y_train, y_test = train_test_split(X, y, test_size=0.2, random_state=42)\n",
    "print(\"X train: \", len(X_train), X_train.shape)\n",
    "print(\"y train: \", len(y_train), y_train.shape)\n",
    "print(\"y test: \", len(y_test), y_test.shape)"
   ]
  },
  {
   "cell_type": "code",
   "execution_count": 15,
   "id": "520b236f",
   "metadata": {
    "execution": {
     "iopub.execute_input": "2021-11-13T08:50:19.742711Z",
     "iopub.status.busy": "2021-11-13T08:50:19.737732Z",
     "iopub.status.idle": "2021-11-13T08:50:20.721556Z",
     "shell.execute_reply": "2021-11-13T08:50:20.721066Z",
     "shell.execute_reply.started": "2021-11-11T08:46:58.377256Z"
    },
    "id": "8e9a7b3d",
    "outputId": "924a566d-3faf-4016-c726-b4c276418b5e",
    "papermill": {
     "duration": 1.014622,
     "end_time": "2021-11-13T08:50:20.721693",
     "exception": false,
     "start_time": "2021-11-13T08:50:19.707071",
     "status": "completed"
    },
    "tags": []
   },
   "outputs": [
    {
     "name": "stdout",
     "output_type": "stream",
     "text": [
      "(32000, 110)\n",
      "(32000, 13)\n",
      "(8000, 110)\n",
      "(8000, 13)\n"
     ]
    }
   ],
   "source": [
    "X_train = np.array([np.array(x) for x in X_train])\n",
    "y_train = np.array([np.array(x) for x in y_train])\n",
    "X_test = np.array([np.array(x) for x in X_test])\n",
    "y_test = np.array([np.array(x) for x in y_test])\n",
    "\n",
    "print(X_train.shape)\n",
    "print(y_train.shape)\n",
    "print(X_test.shape)\n",
    "print(y_test.shape)"
   ]
  },
  {
   "cell_type": "markdown",
   "id": "9b8bf29a",
   "metadata": {
    "id": "e9f90c2c",
    "papermill": {
     "duration": 0.023408,
     "end_time": "2021-11-13T08:50:20.768894",
     "exception": false,
     "start_time": "2021-11-13T08:50:20.745486",
     "status": "completed"
    },
    "tags": []
   },
   "source": [
    "### Zhou model"
   ]
  },
  {
   "cell_type": "code",
   "execution_count": 16,
   "id": "9bc6613f",
   "metadata": {
    "execution": {
     "iopub.execute_input": "2021-11-13T08:50:20.820337Z",
     "iopub.status.busy": "2021-11-13T08:50:20.819566Z",
     "iopub.status.idle": "2021-11-13T08:50:20.821953Z",
     "shell.execute_reply": "2021-11-13T08:50:20.821534Z",
     "shell.execute_reply.started": "2021-11-11T08:46:58.880177Z"
    },
    "id": "85bd3c1d",
    "outputId": "5cf40201-5145-463a-845b-488dd9263c40",
    "papermill": {
     "duration": 0.029615,
     "end_time": "2021-11-13T08:50:20.822090",
     "exception": false,
     "start_time": "2021-11-13T08:50:20.792475",
     "status": "completed"
    },
    "tags": []
   },
   "outputs": [],
   "source": [
    "# so that dont have to rerun\n",
    "import tensorflow as tf\n",
    "tf.compat.v1.reset_default_graph()"
   ]
  },
  {
   "cell_type": "code",
   "execution_count": 17,
   "id": "5e3dee0d",
   "metadata": {
    "execution": {
     "iopub.execute_input": "2021-11-13T08:50:20.873229Z",
     "iopub.status.busy": "2021-11-13T08:50:20.872601Z",
     "iopub.status.idle": "2021-11-13T08:50:31.311929Z",
     "shell.execute_reply": "2021-11-13T08:50:31.311372Z",
     "shell.execute_reply.started": "2021-11-11T12:37:21.437346Z"
    },
    "papermill": {
     "duration": 10.46616,
     "end_time": "2021-11-13T08:50:31.312091",
     "exception": false,
     "start_time": "2021-11-13T08:50:20.845931",
     "status": "completed"
    },
    "tags": []
   },
   "outputs": [
    {
     "name": "stdout",
     "output_type": "stream",
     "text": [
      "Collecting keras_self_attention\r\n",
      "  Downloading keras-self-attention-0.50.0.tar.gz (12 kB)\r\n",
      "Requirement already satisfied: numpy in /opt/conda/lib/python3.7/site-packages (from keras_self_attention) (1.19.5)\r\n",
      "Requirement already satisfied: Keras in /opt/conda/lib/python3.7/site-packages (from keras_self_attention) (2.6.0)\r\n",
      "Building wheels for collected packages: keras-self-attention\r\n",
      "  Building wheel for keras-self-attention (setup.py) ... \u001b[?25l-\b \b\\\b \bdone\r\n",
      "\u001b[?25h  Created wheel for keras-self-attention: filename=keras_self_attention-0.50.0-py3-none-any.whl size=19414 sha256=f7d5b4bd88ab2193c962b355e61d7a0506a7a7aedaeae673dfd1fd6e0c5bf46c\r\n",
      "  Stored in directory: /root/.cache/pip/wheels/92/7a/a3/231bef5803298e7ec1815215bc0613239cb1e9c03c57b13c14\r\n",
      "Successfully built keras-self-attention\r\n",
      "Installing collected packages: keras-self-attention\r\n",
      "Successfully installed keras-self-attention-0.50.0\r\n",
      "\u001b[33mWARNING: Running pip as the 'root' user can result in broken permissions and conflicting behaviour with the system package manager. It is recommended to use a virtual environment instead: https://pip.pypa.io/warnings/venv\u001b[0m\r\n"
     ]
    }
   ],
   "source": [
    "!pip install keras_self_attention"
   ]
  },
  {
   "cell_type": "code",
   "execution_count": 18,
   "id": "6d9fcbe5",
   "metadata": {
    "execution": {
     "iopub.execute_input": "2021-11-13T08:50:31.389863Z",
     "iopub.status.busy": "2021-11-13T08:50:31.388969Z",
     "iopub.status.idle": "2021-11-13T08:50:39.880925Z",
     "shell.execute_reply": "2021-11-13T08:50:39.880485Z",
     "shell.execute_reply.started": "2021-11-11T08:46:58.886647Z"
    },
    "id": "031cf79f",
    "outputId": "01529036-5644-4760-a564-146576defb60",
    "papermill": {
     "duration": 8.542411,
     "end_time": "2021-11-13T08:50:39.881080",
     "exception": false,
     "start_time": "2021-11-13T08:50:31.338669",
     "status": "completed"
    },
    "tags": []
   },
   "outputs": [
    {
     "name": "stderr",
     "output_type": "stream",
     "text": [
      "2021-11-13 08:50:31.607121: I tensorflow/stream_executor/cuda/cuda_gpu_executor.cc:937] successful NUMA node read from SysFS had negative value (-1), but there must be at least one NUMA node, so returning NUMA node zero\n",
      "2021-11-13 08:50:31.743383: I tensorflow/stream_executor/cuda/cuda_gpu_executor.cc:937] successful NUMA node read from SysFS had negative value (-1), but there must be at least one NUMA node, so returning NUMA node zero\n",
      "2021-11-13 08:50:31.744107: I tensorflow/stream_executor/cuda/cuda_gpu_executor.cc:937] successful NUMA node read from SysFS had negative value (-1), but there must be at least one NUMA node, so returning NUMA node zero\n",
      "2021-11-13 08:50:31.745550: I tensorflow/core/platform/cpu_feature_guard.cc:142] This TensorFlow binary is optimized with oneAPI Deep Neural Network Library (oneDNN) to use the following CPU instructions in performance-critical operations:  AVX2 AVX512F FMA\n",
      "To enable them in other operations, rebuild TensorFlow with the appropriate compiler flags.\n",
      "2021-11-13 08:50:31.746807: I tensorflow/stream_executor/cuda/cuda_gpu_executor.cc:937] successful NUMA node read from SysFS had negative value (-1), but there must be at least one NUMA node, so returning NUMA node zero\n",
      "2021-11-13 08:50:31.747519: I tensorflow/stream_executor/cuda/cuda_gpu_executor.cc:937] successful NUMA node read from SysFS had negative value (-1), but there must be at least one NUMA node, so returning NUMA node zero\n",
      "2021-11-13 08:50:31.748174: I tensorflow/stream_executor/cuda/cuda_gpu_executor.cc:937] successful NUMA node read from SysFS had negative value (-1), but there must be at least one NUMA node, so returning NUMA node zero\n",
      "2021-11-13 08:50:33.617318: I tensorflow/stream_executor/cuda/cuda_gpu_executor.cc:937] successful NUMA node read from SysFS had negative value (-1), but there must be at least one NUMA node, so returning NUMA node zero\n",
      "2021-11-13 08:50:33.618125: I tensorflow/stream_executor/cuda/cuda_gpu_executor.cc:937] successful NUMA node read from SysFS had negative value (-1), but there must be at least one NUMA node, so returning NUMA node zero\n",
      "2021-11-13 08:50:33.618763: I tensorflow/stream_executor/cuda/cuda_gpu_executor.cc:937] successful NUMA node read from SysFS had negative value (-1), but there must be at least one NUMA node, so returning NUMA node zero\n",
      "2021-11-13 08:50:33.619354: I tensorflow/core/common_runtime/gpu/gpu_device.cc:1510] Created device /job:localhost/replica:0/task:0/device:GPU:0 with 15403 MB memory:  -> device: 0, name: Tesla P100-PCIE-16GB, pci bus id: 0000:00:04.0, compute capability: 6.0\n",
      "/opt/conda/lib/python3.7/site-packages/keras/layers/legacy_rnn/rnn_cell_impl.py:901: UserWarning: `tf.nn.rnn_cell.LSTMCell` is deprecated and will be removed in a future version. This class is equivalent as `tf.keras.layers.LSTMCell`, and will be replaced by that in Tensorflow 2.0.\n",
      "  warnings.warn(\"`tf.nn.rnn_cell.LSTMCell` is deprecated and will be \"\n",
      "/opt/conda/lib/python3.7/site-packages/keras/engine/base_layer.py:2223: UserWarning: `layer.add_variable` is deprecated and will be removed in a future version. Please use `layer.add_weight` method instead.\n",
      "  warnings.warn('`layer.add_variable` is deprecated and '\n"
     ]
    },
    {
     "name": "stdout",
     "output_type": "stream",
     "text": [
      "(2, 10, 300)\n"
     ]
    },
    {
     "name": "stderr",
     "output_type": "stream",
     "text": [
      "2021-11-13 08:50:35.626885: I tensorflow/stream_executor/cuda/cuda_dnn.cc:369] Loaded cuDNN version 8005\n"
     ]
    },
    {
     "name": "stdout",
     "output_type": "stream",
     "text": [
      "embedding: (2, 10, 300)\n",
      "lstm: (2, 10, 300)\n",
      "conv: (2, 8, 298, 100)\n",
      "pooling: (2, 4, 149, 1, 1)\n",
      "flatten: (2, 596)\n"
     ]
    }
   ],
   "source": [
    "import tensorflow as tf\n",
    "from tensorflow.keras import layers\n",
    "import keras\n",
    "from keras_self_attention import SeqSelfAttention, SeqWeightedAttention\n",
    "\n",
    "\n",
    "class ZhouBLSTMCNNModel:\n",
    "\n",
    "    def __init__(self,\n",
    "        embedding,\n",
    "        em_drop_rate = 0.5,\n",
    "        lstm_units   = 300,\n",
    "        lstm_drop_rate = 0.5,\n",
    "        conv_size    = (3, 3),\n",
    "        conv_filters = 100,\n",
    "        pool_size    = (2, 2),\n",
    "        pool_drop_rate = 0.5):\n",
    "        '''Constructor.\n",
    "        # Parameters:\n",
    "        embedding: Numpy array representing the embedding.\n",
    "        em_drop_rate: Drop rate after the embedding layer.\n",
    "        lstm_units: Size of the internal states of the LSTM cells.\n",
    "        lstm_drop_rate: Drop rate after the lstm layer.\n",
    "        conv_size: Size of the convolutions.\n",
    "        conv_filters: Number of convolutions filters.\n",
    "        pool_size: Size for the max pooling layer.\n",
    "        pool_drop_rate: Drop rate of the max pooling layer.\n",
    "        '''\n",
    "        self._embedding      = embedding\n",
    "        self._em_drop_rate   = em_drop_rate\n",
    "        self._lstm_units     = lstm_units\n",
    "        self._lstm_drop_rate = lstm_drop_rate\n",
    "        self._conv_size      = conv_size\n",
    "        self._conv_filters   = conv_filters\n",
    "        self._pool_size      = pool_size\n",
    "        self._pool_drop_rate = pool_drop_rate\n",
    "\n",
    "    def __call__(self, input):\n",
    "        self._embedding_tf = self._create_embedding_layer(\n",
    "            self._em_drop_rate, self._embedding, input)\n",
    "\n",
    "        self._sequences_tf = self._create_blstm_layer(\n",
    "            self._lstm_units,\n",
    "            self._lstm_drop_rate,\n",
    "            self._embedding_tf)\n",
    "\n",
    "        self._convolution_tf = self._create_convolutional_layer(\n",
    "            self._conv_size,\n",
    "            self._conv_filters,\n",
    "            self._sequences_tf)\n",
    "        \n",
    "        self._pooling_tf = self._create_maxpooling_layer(\n",
    "            self._pool_size,\n",
    "            self._pool_drop_rate,\n",
    "            self._convolution_tf)\n",
    "\n",
    "        self._flatten_tf = self._create_flatten_layer(self._pooling_tf)\n",
    "\n",
    "        return self._flatten_tf\n",
    "\n",
    "    def summary(self):\n",
    "        print(\"embedding: \" + str(self._embedding_tf.shape))\n",
    "        print(\"lstm: \" + str(self._sequences_tf.shape))\n",
    "        print(\"conv: \" + str(self._convolution_tf.shape))\n",
    "        print(\"pooling: \" + str(self._pooling_tf.shape))\n",
    "        print(\"flatten: \" + str(self._flatten_tf.shape))\n",
    "\n",
    "    # this function converts each word from input_x into dense vector of dimension 300 (dimension depending on word2vec)\n",
    "    # embedding  = word_vector\n",
    "    def _create_embedding_layer(self, em_drop_rate, embedding, input_x):\n",
    "        embedding = tf.Variable(initial_value=embedding)\n",
    "\n",
    "        embedded_chars = tf.nn.embedding_lookup(  # lookup word_vector(embedding) by index (input_x)\n",
    "            embedding, tf.cast(input_x, 'int32'))\n",
    "\n",
    "        return tf.nn.dropout(embedded_chars, rate=em_drop_rate)\n",
    "\n",
    "    # bidirectional lstm layer\n",
    "    # \n",
    "    def _create_blstm_layer(self, lstm_units, lstm_drop_rate, embedding):\n",
    "        lstm_cell = tf.compat.v1.nn.rnn_cell.LSTMCell(lstm_units)\n",
    "        sequence = tf.unstack(embedding, axis=1) #embedded input words\n",
    "        \n",
    "        # hs, _, _ are outputs, output_state_fw, output_state_bw respectively\n",
    "        hs, _, _ = tf.compat.v1.nn.static_bidirectional_rnn(lstm_cell, lstm_cell, #forward and backward direction\n",
    "            sequence, #input\n",
    "            dtype=tf.float32)\n",
    "        \n",
    "        hs = tf.stack(\n",
    "            values=hs,\n",
    "            axis=1)\n",
    "        ss = tf.math.reduce_sum(\n",
    "            tf.reshape(hs, shape=[-1, hs.shape[1], 2, lstm_units]),\n",
    "            axis=2\n",
    "        )\n",
    "        \n",
    "        attn = SeqSelfAttention(attention_activation='sigmoid',attention_type=SeqSelfAttention.ATTENTION_TYPE_MUL)(ss)\n",
    "\n",
    "        return tf.nn.dropout(attn, rate=lstm_drop_rate)\n",
    "\n",
    "    def _create_convolutional_layer(self,\n",
    "        conv_size, num_filters, tensor):\n",
    "        \n",
    "        print(str(tensor.shape))\n",
    "\n",
    "        filter_heigth = conv_size[0]\n",
    "        filter_width  = conv_size[1]\n",
    "\n",
    "        filter_shape = [filter_heigth, filter_width,\n",
    "            1, num_filters]\n",
    "\n",
    "        W = tf.Variable(\n",
    "            initial_value=tf.random.truncated_normal(\n",
    "                shape=filter_shape,\n",
    "                stddev=0.1))\n",
    "        b = tf.Variable(\n",
    "            initial_value=tf.random.truncated_normal(\n",
    "                shape=[num_filters]))\n",
    "\n",
    "        tensor_expanded = tf.expand_dims(tensor, -1)\n",
    "        conv = tf.nn.conv2d(\n",
    "            input=tensor_expanded,\n",
    "            filters=W, #####filter to filters, idk if it changed stuff\n",
    "            strides=[1,1,1,1],\n",
    "            padding='VALID')\n",
    "\n",
    "        bias = tf.nn.bias_add(conv, b)\n",
    "        c = tf.nn.relu(bias)\n",
    "\n",
    "        return c\n",
    "\n",
    "    def _create_maxpooling_layer(self, size, pool_drop_rate, conv):\n",
    "        pooled = tf.nn.max_pool3d(\n",
    "            input=tf.expand_dims(conv, -1),\n",
    "            ksize=[1, size[0], size[1], conv.shape[3], 1],\n",
    "            strides=[1, size[0], size[1], conv.shape[3], 1],\n",
    "            padding='VALID')\n",
    "        \n",
    "        return tf.nn.dropout(pooled, rate=pool_drop_rate)\n",
    "\n",
    "    def _create_flatten_layer(self, tensor):\n",
    "        return tf.reshape(tensor, [-1, tensor.shape[1] * tensor.shape[2]])\n",
    "\n",
    "\n",
    "if __name__ == '__main__':\n",
    "    embedding_size  = 300\n",
    "    num_words       = 1000\n",
    "    sentence_length = 10\n",
    "\n",
    "    embedding = [\n",
    "        [float(i) for i in range(embedding_size)] for _ in range(num_words)\n",
    "    ]\n",
    "    data = [\n",
    "        [i     for i in range(sentence_length)],\n",
    "        [i + 1 for i in range(sentence_length)]\n",
    "    ]\n",
    "\n",
    "    model = ZhouBLSTMCNNModel(embedding)\n",
    "    model(data)\n",
    "    model.summary()"
   ]
  },
  {
   "cell_type": "code",
   "execution_count": 19,
   "id": "6d4a2caf",
   "metadata": {
    "execution": {
     "iopub.execute_input": "2021-11-13T08:50:39.964300Z",
     "iopub.status.busy": "2021-11-13T08:50:39.963581Z",
     "iopub.status.idle": "2021-11-13T08:50:40.419835Z",
     "shell.execute_reply": "2021-11-13T08:50:40.420313Z",
     "shell.execute_reply.started": "2021-11-11T08:47:01.136525Z"
    },
    "id": "b9022754",
    "papermill": {
     "duration": 0.511897,
     "end_time": "2021-11-13T08:50:40.420481",
     "exception": false,
     "start_time": "2021-11-13T08:50:39.908584",
     "status": "completed"
    },
    "tags": []
   },
   "outputs": [],
   "source": [
    "import tensorflow as tf\n",
    "from numba import jit, cuda\n",
    "\n",
    "class Classifier:\n",
    "\n",
    "    def __init__(self, model, input_length, output_length):\n",
    "        '''Constructor.\n",
    "        # Parameters:\n",
    "        input_length: sentence length (max number of words in sentence)\n",
    "        output_length: number of classes of sentiment\n",
    "        '''\n",
    "        self.model = model\n",
    "        self.input_length = input_length\n",
    "        self.output_length = output_length\n",
    "\n",
    "    def compile(self, batch_size=32):\n",
    "        tf.compat.v1.disable_eager_execution()\n",
    "        self._ds_x = tf.compat.v1.placeholder(tf.float32, [None, self.input_length])\n",
    "        self._ds_y = tf.compat.v1.placeholder(tf.float32, [None, self.output_length])\n",
    "\n",
    "        ds = tf.compat.v1.data.Dataset.from_tensor_slices((self._ds_x, self._ds_y))\n",
    "        ds = ds.batch(batch_size)\n",
    "\n",
    "        self._ds_it = ds.make_initializable_iterator()\n",
    "        self._input, self._labels = self._ds_it.get_next()\n",
    "\n",
    "        self._features = self.model(self._input)\n",
    "        self._output = _create_dense_layer(self._features, self.output_length)\n",
    "\n",
    "        self._create_acc_computations()\n",
    "        self._create_backpropagation()\n",
    "\n",
    "        self._session = tf.compat.v1.Session()\n",
    "        self._session.run(tf.compat.v1.global_variables_initializer())\n",
    "        self._session.run(tf.compat.v1.local_variables_initializer())\n",
    "\n",
    "    def _create_acc_computations(self):\n",
    "        self._predictions = tf.argmax(self._output, 1)\n",
    "        labels = tf.argmax(self._labels, 1)\n",
    "        self._accuracy = tf.reduce_mean(\n",
    "            tf.cast(tf.equal(self._predictions, labels), 'float32'))\n",
    "\n",
    "    def _create_backpropagation(self):\n",
    "        losses = tf.compat.v1.nn.softmax_cross_entropy_with_logits_v2(\n",
    "            logits=self._output,\n",
    "            labels=self._labels)\n",
    "        self._loss = tf.reduce_mean(losses)\n",
    "\n",
    "        optimizer = tf.compat.v1.train.AdamOptimizer(0.001)\n",
    "        global_step = tf.Variable(0, name=\"global_step\", trainable=False)\n",
    "        grads_and_vars = optimizer.compute_gradients(self._loss)\n",
    "\n",
    "        self._train_op = optimizer.apply_gradients(\n",
    "            grads_and_vars, global_step=global_step)\n",
    "\n",
    "    def summary(self):\n",
    "        print('input:', self._input.shape)\n",
    "        self.model.summary()\n",
    "        print('output:', self._output.shape)\n",
    "\n",
    "#     @jit(target =\"cuda\")  \n",
    "    def train(self, X_train, y_train, X_eval, y_eval, epochs=10):\n",
    "        import time\n",
    "        start_train = time.time()\n",
    "        losslist = []\n",
    "        acclist = []\n",
    "        val_losslist = []\n",
    "        val_acclist =[]\n",
    "        for e in range(epochs):\n",
    "            start_time = time.time()\n",
    "            loss, acc = self._train(X_train, y_train)\n",
    "            losslist.append(loss)\n",
    "            acclist.append(acc)\n",
    "            duration = time.time() - start_time\n",
    "\n",
    "            val_loss, val_acc = self._eval(X_eval, y_eval)\n",
    "            val_losslist.append(val_loss)\n",
    "            val_acclist.append(val_acc)\n",
    "            \n",
    "            output = 'Epoch: {}, loss = {:.4f}, acc = {:.4f}, val_loss = {:.4f}, val_acc = {:.4f}, Time = {:.2f}s'\n",
    "            print(output.format(e + 1, loss, acc, val_loss, val_acc, duration))\n",
    "        \n",
    "        total_duration = time.time() - start_train\n",
    "        return losslist, acclist, val_losslist, val_acclist, total_duration\n",
    "\n",
    "#     @jit(target =\"cuda\")  \n",
    "    def _train(self, X_train, y_train):\n",
    "        import numpy as np\n",
    "\n",
    "        self._session.run(\n",
    "            fetches=self._ds_it.initializer,\n",
    "            feed_dict={\n",
    "                self._ds_x: X_train,\n",
    "                self._ds_y: y_train\n",
    "            })\n",
    "        loss, acc, = [], []\n",
    "        while True:\n",
    "            try:\n",
    "                _, vloss, vacc = self._session.run(\n",
    "                    fetches=[self._train_op, self._loss, self._accuracy])\n",
    "\n",
    "                loss.append(vloss)\n",
    "                acc.append(vacc)\n",
    "            except tf.errors.OutOfRangeError:\n",
    "                break\n",
    "        # endwhile\n",
    "\n",
    "        loss, acc = np.mean(loss), np.mean(acc)\n",
    "        return loss, acc\n",
    "\n",
    "    def _eval(self, X_val, y_val):\n",
    "        self._session.run(\n",
    "            fetches=self._ds_it.initializer,\n",
    "            feed_dict={\n",
    "                self._ds_x: X_val,\n",
    "                self._ds_y: y_val\n",
    "            })\n",
    "\n",
    "        loss, acc, = 0, 0\n",
    "        while True:\n",
    "            try:\n",
    "                l, vloss, vacc = self._session.run(\n",
    "                    fetches=[self._labels, self._loss, self._accuracy])\n",
    "\n",
    "                loss += vloss * len(l)\n",
    "                acc += vacc * len(l)\n",
    "            except tf.errors.OutOfRangeError:\n",
    "                break\n",
    "\n",
    "        return loss / len(X_val), acc / len(X_val)\n",
    "\n",
    "    def predict(self, X):\n",
    "        import numpy as np\n",
    "\n",
    "        self._session.run(self._ds_it.initializer,\n",
    "                         feed_dict={\n",
    "                             self._ds_x: X,\n",
    "                             self._ds_y: np.empty((len(X), self.output_length))\n",
    "                         }\n",
    "                         )\n",
    "\n",
    "        pred = list()\n",
    "        while True:\n",
    "            try:\n",
    "                ppred = self._session.run(tf.nn.softmax(self._output))\n",
    "\n",
    "                pred.extend(map(lambda l: l.tolist(), ppred))\n",
    "            except tf.errors.OutOfRangeError:\n",
    "                break\n",
    "\n",
    "        return pred\n",
    "\n",
    "def _create_dense_layer(x, output_length):\n",
    "    '''Creates a dense layer\n",
    "    '''\n",
    "    input_size = x.shape[1] #.value\n",
    "    W = tf.Variable(\n",
    "        initial_value=tf.random.truncated_normal(\n",
    "            shape=[input_size, output_length],\n",
    "            stddev=0.1))\n",
    "    b = tf.Variable(\n",
    "        initial_value=tf.random.truncated_normal(\n",
    "            shape=[output_length]))\n",
    "\n",
    "    dense = tf.compat.v1.nn.xw_plus_b(x, W, b)\n",
    "\n",
    "    return dense\n",
    "\n",
    "\n",
    "if __name__ == '__main__':\n",
    "    pass"
   ]
  },
  {
   "cell_type": "code",
   "execution_count": 20,
   "id": "bbc458b9",
   "metadata": {
    "execution": {
     "iopub.execute_input": "2021-11-13T08:50:40.483910Z",
     "iopub.status.busy": "2021-11-13T08:50:40.482876Z",
     "iopub.status.idle": "2021-11-13T10:43:55.518154Z",
     "shell.execute_reply": "2021-11-13T10:43:55.519083Z",
     "shell.execute_reply.started": "2021-11-11T08:47:01.336617Z"
    },
    "id": "5d641e4d",
    "outputId": "21842934-a521-42b1-8a69-f27197668265",
    "papermill": {
     "duration": 6795.071273,
     "end_time": "2021-11-13T10:43:55.519304",
     "exception": false,
     "start_time": "2021-11-13T08:50:40.448031",
     "status": "completed"
    },
    "tags": []
   },
   "outputs": [
    {
     "name": "stderr",
     "output_type": "stream",
     "text": [
      "/opt/conda/lib/python3.7/site-packages/keras/engine/base_layer_v1.py:1684: UserWarning: `layer.add_variable` is deprecated and will be removed in a future version. Please use `layer.add_weight` method instead.\n",
      "  warnings.warn('`layer.add_variable` is deprecated and '\n"
     ]
    },
    {
     "name": "stdout",
     "output_type": "stream",
     "text": [
      "(None, 110, 300)\n"
     ]
    },
    {
     "name": "stderr",
     "output_type": "stream",
     "text": [
      "2021-11-13 08:50:53.172800: I tensorflow/stream_executor/cuda/cuda_gpu_executor.cc:937] successful NUMA node read from SysFS had negative value (-1), but there must be at least one NUMA node, so returning NUMA node zero\n",
      "2021-11-13 08:50:53.173578: I tensorflow/stream_executor/cuda/cuda_gpu_executor.cc:937] successful NUMA node read from SysFS had negative value (-1), but there must be at least one NUMA node, so returning NUMA node zero\n",
      "2021-11-13 08:50:53.174203: I tensorflow/stream_executor/cuda/cuda_gpu_executor.cc:937] successful NUMA node read from SysFS had negative value (-1), but there must be at least one NUMA node, so returning NUMA node zero\n",
      "2021-11-13 08:50:53.174860: I tensorflow/stream_executor/cuda/cuda_gpu_executor.cc:937] successful NUMA node read from SysFS had negative value (-1), but there must be at least one NUMA node, so returning NUMA node zero\n",
      "2021-11-13 08:50:53.175443: I tensorflow/stream_executor/cuda/cuda_gpu_executor.cc:937] successful NUMA node read from SysFS had negative value (-1), but there must be at least one NUMA node, so returning NUMA node zero\n",
      "2021-11-13 08:50:53.175902: I tensorflow/core/common_runtime/gpu/gpu_device.cc:1510] Created device /job:localhost/replica:0/task:0/device:GPU:0 with 15403 MB memory:  -> device: 0, name: Tesla P100-PCIE-16GB, pci bus id: 0000:00:04.0, compute capability: 6.0\n"
     ]
    },
    {
     "name": "stdout",
     "output_type": "stream",
     "text": [
      "input: (None, 110)\n",
      "embedding: (None, 110, 300)\n",
      "lstm: (None, 110, 300)\n",
      "conv: (None, 108, 298, 100)\n",
      "pooling: (None, 54, 149, 1, 1)\n",
      "flatten: (None, 8046)\n",
      "output: (None, 13)\n",
      "Epoch: 1, loss = 5.1246, acc = 0.1555, val_loss = 2.5313, val_acc = 0.1654, Time = 279.31s\n",
      "Epoch: 2, loss = 2.3398, acc = 0.1851, val_loss = 2.2325, val_acc = 0.1988, Time = 279.77s\n",
      "Epoch: 3, loss = 2.1992, acc = 0.2291, val_loss = 2.1456, val_acc = 0.2523, Time = 260.03s\n",
      "Epoch: 4, loss = 1.8389, acc = 0.3768, val_loss = 2.1139, val_acc = 0.2981, Time = 278.07s\n",
      "Epoch: 5, loss = 1.5950, acc = 0.4669, val_loss = 2.2663, val_acc = 0.2851, Time = 258.82s\n",
      "Epoch: 6, loss = 1.3922, acc = 0.5300, val_loss = 2.4351, val_acc = 0.2846, Time = 277.92s\n",
      "Epoch: 7, loss = 1.2030, acc = 0.6012, val_loss = 2.8132, val_acc = 0.2730, Time = 287.95s\n",
      "Epoch: 8, loss = 1.0280, acc = 0.6594, val_loss = 3.0025, val_acc = 0.2673, Time = 265.13s\n",
      "Epoch: 9, loss = 0.8816, acc = 0.7112, val_loss = 3.2669, val_acc = 0.2583, Time = 265.47s\n",
      "Epoch: 10, loss = 0.7572, acc = 0.7518, val_loss = 3.4837, val_acc = 0.2581, Time = 285.79s\n",
      "Epoch: 11, loss = 0.6577, acc = 0.7864, val_loss = 3.7697, val_acc = 0.2511, Time = 284.03s\n",
      "Epoch: 12, loss = 0.5958, acc = 0.8082, val_loss = 4.3614, val_acc = 0.2563, Time = 270.11s\n",
      "Epoch: 13, loss = 0.5115, acc = 0.8299, val_loss = 4.3265, val_acc = 0.2335, Time = 288.44s\n",
      "Epoch: 14, loss = 0.4557, acc = 0.8484, val_loss = 4.4923, val_acc = 0.2320, Time = 268.16s\n",
      "Epoch: 15, loss = 0.4175, acc = 0.8612, val_loss = 4.6114, val_acc = 0.2399, Time = 287.78s\n",
      "Epoch: 16, loss = 0.3873, acc = 0.8727, val_loss = 4.8866, val_acc = 0.2374, Time = 286.38s\n",
      "Epoch: 17, loss = 0.3484, acc = 0.8854, val_loss = 5.0696, val_acc = 0.2380, Time = 269.53s\n",
      "Epoch: 18, loss = 0.3196, acc = 0.8933, val_loss = 5.1879, val_acc = 0.2420, Time = 286.88s\n",
      "Epoch: 19, loss = 0.2925, acc = 0.9034, val_loss = 5.6214, val_acc = 0.2288, Time = 287.33s\n",
      "Epoch: 20, loss = 0.2763, acc = 0.9094, val_loss = 5.4205, val_acc = 0.2399, Time = 285.86s\n",
      "total time taken:  6777.02737402916\n",
      "Predictions: [[3.1294351030754936e-30, 2.7765288632106627e-21, 8.493694636513283e-09, 3.280180571607616e-09, 2.1697434959833117e-08, 2.3753860659780912e-05, 8.394157493662319e-14, 5.291571270049644e-08, 0.9999758005142212, 2.94764589625629e-07, 3.5209346549436304e-08, 2.331606241412487e-09, 6.663461959988126e-08], [1.4306534467323218e-05, 1.9921959392377175e-05, 0.00016837513248901814, 0.041086386889219284, 0.78420090675354, 0.05636986717581749, 2.447668339300435e-05, 0.0024562315084040165, 0.00017142164870165288, 0.024851303547620773, 3.717805839187349e-06, 0.09007599204778671, 0.0005571513320319355]]\n",
      "Real: [[0. 0. 0. 0. 0. 0. 0. 0. 1. 0. 0. 0. 0.]\n",
      " [0. 0. 0. 0. 1. 0. 0. 0. 0. 0. 0. 0. 0.]]\n"
     ]
    }
   ],
   "source": [
    "import pickle\n",
    "import numpy as np\n",
    "import sys\n",
    "# from fen.classifier import Classifier\n",
    "# from fen.pzhou_tf import ZhouBLSTMCNNModel\n",
    "\n",
    "if __name__ == '__main__':\n",
    "\n",
    "#     (X_train, y_train), (X_eval, y_eval) = (X_train, y_train), (X_test, y_test)\n",
    "\n",
    "    word_vector = word_embeds\n",
    "    word_vector = word_vector.astype('float32')\n",
    "    \n",
    "    sentence_length = X_train[0].shape[0] # sentence length = 37 -- if less than 37, remaining is 0\n",
    "    num_classes = y_train[0].shape[0] # 6 sentiment classes\n",
    "\n",
    "#     with tf.device('/device:GPU:0'):\n",
    "    model = ZhouBLSTMCNNModel(embedding=word_vector) #pass in word_vector as lookup table\n",
    "\n",
    "    classifier = Classifier(\n",
    "        model=model,\n",
    "        input_length=sentence_length,\n",
    "        output_length=num_classes)\n",
    "\n",
    "    classifier.compile(batch_size=10)\n",
    "    classifier.summary()\n",
    "    loss, acc, val_loss, val_acc, duration = classifier.train(\n",
    "        X_train=X_train,\n",
    "        y_train=y_train,\n",
    "        X_eval=X_test,\n",
    "        y_eval=y_test,\n",
    "        epochs=20\n",
    "    )\n",
    "\n",
    "    print(\"total time taken: \", duration)\n",
    "    print(\"Predictions:\", classifier.predict(X_train[0:2]))\n",
    "    print(\"Real:\", y_train[0:2])"
   ]
  },
  {
   "cell_type": "code",
   "execution_count": 21,
   "id": "dde1d221",
   "metadata": {
    "execution": {
     "iopub.execute_input": "2021-11-13T10:43:55.606789Z",
     "iopub.status.busy": "2021-11-13T10:43:55.597461Z",
     "iopub.status.idle": "2021-11-13T10:43:55.809793Z",
     "shell.execute_reply": "2021-11-13T10:43:55.808958Z",
     "shell.execute_reply.started": "2021-11-11T09:52:41.678475Z"
    },
    "papermill": {
     "duration": 0.253145,
     "end_time": "2021-11-13T10:43:55.809924",
     "exception": false,
     "start_time": "2021-11-13T10:43:55.556779",
     "status": "completed"
    },
    "tags": []
   },
   "outputs": [
    {
     "data": {
      "image/png": "[encoded data removed]",
      "text/plain": [
       "<Figure size 432x288 with 1 Axes>"
      ]
     },
     "metadata": {
      "needs_background": "light"
     },
     "output_type": "display_data"
    }
   ],
   "source": [
    "epochslist = [i for i in range(0,20)]\n",
    "plt.plot(epochslist, loss)\n",
    "plt.title('training loss')\n",
    "plt.xlabel('epochs')\n",
    "plt.ylabel('training loss')\n",
    "plt.show()"
   ]
  },
  {
   "cell_type": "code",
   "execution_count": 22,
   "id": "9a87fa43",
   "metadata": {
    "execution": {
     "iopub.execute_input": "2021-11-13T10:43:55.890503Z",
     "iopub.status.busy": "2021-11-13T10:43:55.889650Z",
     "iopub.status.idle": "2021-11-13T10:43:56.076708Z",
     "shell.execute_reply": "2021-11-13T10:43:56.077513Z",
     "shell.execute_reply.started": "2021-11-11T09:52:46.362674Z"
    },
    "papermill": {
     "duration": 0.232916,
     "end_time": "2021-11-13T10:43:56.077681",
     "exception": false,
     "start_time": "2021-11-13T10:43:55.844765",
     "status": "completed"
    },
    "tags": []
   },
   "outputs": [
    {
     "data": {
      "image/png": "[encoded data removed]",
      "text/plain": [
       "<Figure size 432x288 with 1 Axes>"
      ]
     },
     "metadata": {
      "needs_background": "light"
     },
     "output_type": "display_data"
    }
   ],
   "source": [
    "plt.plot(epochslist, acc)\n",
    "plt.title('training acc')\n",
    "plt.xlabel('epochs')\n",
    "plt.ylabel('training acc')\n",
    "plt.show()"
   ]
  },
  {
   "cell_type": "code",
   "execution_count": 23,
   "id": "72b6ff1c",
   "metadata": {
    "execution": {
     "iopub.execute_input": "2021-11-13T10:43:56.154081Z",
     "iopub.status.busy": "2021-11-13T10:43:56.153266Z",
     "iopub.status.idle": "2021-11-13T10:43:56.348537Z",
     "shell.execute_reply": "2021-11-13T10:43:56.349069Z",
     "shell.execute_reply.started": "2021-11-11T09:52:50.096413Z"
    },
    "papermill": {
     "duration": 0.23577,
     "end_time": "2021-11-13T10:43:56.349220",
     "exception": false,
     "start_time": "2021-11-13T10:43:56.113450",
     "status": "completed"
    },
    "tags": []
   },
   "outputs": [
    {
     "data": {
      "image/png": "[encoded data removed]",
      "text/plain": [
       "<Figure size 432x288 with 1 Axes>"
      ]
     },
     "metadata": {
      "needs_background": "light"
     },
     "output_type": "display_data"
    }
   ],
   "source": [
    "plt.plot(epochslist, val_loss)\n",
    "plt.title('validation loss')\n",
    "plt.xlabel('epochs')\n",
    "plt.ylabel('validation loss')\n",
    "plt.show()"
   ]
  },
  {
   "cell_type": "code",
   "execution_count": 24,
   "id": "25712337",
   "metadata": {
    "execution": {
     "iopub.execute_input": "2021-11-13T10:43:56.445694Z",
     "iopub.status.busy": "2021-11-13T10:43:56.444849Z",
     "iopub.status.idle": "2021-11-13T10:43:56.622677Z",
     "shell.execute_reply": "2021-11-13T10:43:56.623133Z",
     "shell.execute_reply.started": "2021-11-11T09:52:56.746409Z"
    },
    "papermill": {
     "duration": 0.236564,
     "end_time": "2021-11-13T10:43:56.623284",
     "exception": false,
     "start_time": "2021-11-13T10:43:56.386720",
     "status": "completed"
    },
    "tags": []
   },
   "outputs": [
    {
     "data": {
      "image/png": "[encoded data removed]",
      "text/plain": [
       "<Figure size 432x288 with 1 Axes>"
      ]
     },
     "metadata": {
      "needs_background": "light"
     },
     "output_type": "display_data"
    }
   ],
   "source": [
    "plt.plot(epochslist, val_acc)\n",
    "plt.title('validation acc')\n",
    "plt.xlabel('epochs')\n",
    "plt.ylabel('validation acc')\n",
    "plt.show()"
   ]
  },
  {
   "cell_type": "code",
   "execution_count": 25,
   "id": "6b2d7b95",
   "metadata": {
    "execution": {
     "iopub.execute_input": "2021-11-13T10:43:56.705916Z",
     "iopub.status.busy": "2021-11-13T10:43:56.705093Z",
     "iopub.status.idle": "2021-11-13T10:43:56.709675Z",
     "shell.execute_reply": "2021-11-13T10:43:56.710131Z",
     "shell.execute_reply.started": "2021-11-11T09:37:13.111276Z"
    },
    "id": "rA2NYcIGP7dP",
    "papermill": {
     "duration": 0.050066,
     "end_time": "2021-11-13T10:43:56.710282",
     "exception": false,
     "start_time": "2021-11-13T10:43:56.660216",
     "status": "completed"
    },
    "tags": []
   },
   "outputs": [
    {
     "name": "stdout",
     "output_type": "stream",
     "text": [
      "/device:GPU:0\n"
     ]
    },
    {
     "name": "stderr",
     "output_type": "stream",
     "text": [
      "2021-11-13 10:43:56.700180: I tensorflow/stream_executor/cuda/cuda_gpu_executor.cc:937] successful NUMA node read from SysFS had negative value (-1), but there must be at least one NUMA node, so returning NUMA node zero\n",
      "2021-11-13 10:43:56.700742: I tensorflow/stream_executor/cuda/cuda_gpu_executor.cc:937] successful NUMA node read from SysFS had negative value (-1), but there must be at least one NUMA node, so returning NUMA node zero\n",
      "2021-11-13 10:43:56.701141: I tensorflow/stream_executor/cuda/cuda_gpu_executor.cc:937] successful NUMA node read from SysFS had negative value (-1), but there must be at least one NUMA node, so returning NUMA node zero\n",
      "2021-11-13 10:43:56.701619: I tensorflow/stream_executor/cuda/cuda_gpu_executor.cc:937] successful NUMA node read from SysFS had negative value (-1), but there must be at least one NUMA node, so returning NUMA node zero\n",
      "2021-11-13 10:43:56.701953: I tensorflow/stream_executor/cuda/cuda_gpu_executor.cc:937] successful NUMA node read from SysFS had negative value (-1), but there must be at least one NUMA node, so returning NUMA node zero\n",
      "2021-11-13 10:43:56.702256: I tensorflow/core/common_runtime/gpu/gpu_device.cc:1510] Created device /device:GPU:0 with 15403 MB memory:  -> device: 0, name: Tesla P100-PCIE-16GB, pci bus id: 0000:00:04.0, compute capability: 6.0\n"
     ]
    }
   ],
   "source": [
    "device_name = tf.test.gpu_device_name()\n",
    "print(device_name)"
   ]
  },
  {
   "cell_type": "markdown",
   "id": "f278a685",
   "metadata": {
    "id": "f0043b74",
    "papermill": {
     "duration": 0.037823,
     "end_time": "2021-11-13T10:43:56.784867",
     "exception": false,
     "start_time": "2021-11-13T10:43:56.747044",
     "status": "completed"
    },
    "tags": []
   },
   "source": [
    "### testing"
   ]
  },
  {
   "cell_type": "code",
   "execution_count": 26,
   "id": "be266797",
   "metadata": {
    "execution": {
     "iopub.execute_input": "2021-11-13T10:43:56.864317Z",
     "iopub.status.busy": "2021-11-13T10:43:56.863706Z",
     "iopub.status.idle": "2021-11-13T10:43:56.868506Z",
     "shell.execute_reply": "2021-11-13T10:43:56.869065Z",
     "shell.execute_reply.started": "2021-11-11T09:37:13.113149Z"
    },
    "id": "28711b61",
    "outputId": "f5ddbd0b-6258-4341-9b0b-650747e3449a",
    "papermill": {
     "duration": 0.046664,
     "end_time": "2021-11-13T10:43:56.869234",
     "exception": false,
     "start_time": "2021-11-13T10:43:56.822570",
     "status": "completed"
    },
    "tags": []
   },
   "outputs": [
    {
     "name": "stdout",
     "output_type": "stream",
     "text": [
      "Num GPUs Available:  1\n"
     ]
    }
   ],
   "source": [
    "print(\"Num GPUs Available: \", len(tf.config.list_physical_devices('GPU')))"
   ]
  }
 ],
 "metadata": {
  "kernelspec": {
   "display_name": "Python 3",
   "language": "python",
   "name": "python3"
  },
  "language_info": {
   "codemirror_mode": {
    "name": "ipython",
    "version": 3
   },
   "file_extension": ".py",
   "mimetype": "text/x-python",
   "name": "python",
   "nbconvert_exporter": "python",
   "pygments_lexer": "ipython3",
   "version": "3.7.10"
  },
  "papermill": {
   "default_parameters": {},
   "duration": 6913.97388,
   "end_time": "2021-11-13T10:44:00.425621",
   "environment_variables": {},
   "exception": null,
   "input_path": "__notebook__.ipynb",
   "output_path": "__notebook__.ipynb",
   "parameters": {},
   "start_time": "2021-11-13T08:48:46.451741",
   "version": "2.3.3"
  }
 },
 "nbformat": 4,
 "nbformat_minor": 5
}
