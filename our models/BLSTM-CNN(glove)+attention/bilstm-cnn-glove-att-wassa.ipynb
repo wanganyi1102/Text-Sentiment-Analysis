{
 "cells": [
  {
   "cell_type": "code",
   "execution_count": 1,
   "id": "cd5142d9",
   "metadata": {
    "execution": {
     "iopub.execute_input": "2021-11-13T11:37:48.234051Z",
     "iopub.status.busy": "2021-11-13T11:37:48.233247Z",
     "iopub.status.idle": "2021-11-13T11:37:54.313336Z",
     "shell.execute_reply": "2021-11-13T11:37:54.313790Z",
     "shell.execute_reply.started": "2021-11-11T08:45:51.420461Z"
    },
    "id": "6c276c59",
    "papermill": {
     "duration": 6.11682,
     "end_time": "2021-11-13T11:37:54.314086",
     "exception": false,
     "start_time": "2021-11-13T11:37:48.197266",
     "status": "completed"
    },
    "tags": []
   },
   "outputs": [],
   "source": [
    "import numpy as np\n",
    "import pandas as pd\n",
    "\n",
    "from gensim import corpora\n",
    "from nltk.corpus import stopwords\n",
    "from nltk.tokenize import word_tokenize \n",
    "from nltk.stem import SnowballStemmer\n",
    "\n",
    "from keras.preprocessing import sequence\n",
    "from keras.utils import np_utils\n",
    "from keras.models import Sequential\n",
    "from keras.layers import Dense, Dropout, Activation, Embedding\n",
    "from keras.layers import LSTM\n",
    "from sklearn import preprocessing\n",
    "from sklearn.metrics import (precision_score, recall_score,\n",
    "                             f1_score, accuracy_score,mean_squared_error,mean_absolute_error)\n",
    "np.random.seed(0)\n",
    "from tensorflow.keras.optimizers import RMSprop\n",
    "from keras import callbacks\n",
    "from keras.callbacks import ModelCheckpoint, EarlyStopping, ReduceLROnPlateau, CSVLogger"
   ]
  },
  {
   "cell_type": "markdown",
   "id": "d4c9f4f2",
   "metadata": {
    "id": "c24be0d2",
    "papermill": {
     "duration": 0.023626,
     "end_time": "2021-11-13T11:37:54.362111",
     "exception": false,
     "start_time": "2021-11-13T11:37:54.338485",
     "status": "completed"
    },
    "tags": []
   },
   "source": [
    "### word2vec"
   ]
  },
  {
   "cell_type": "code",
   "execution_count": 2,
   "id": "65d81324",
   "metadata": {
    "execution": {
     "iopub.execute_input": "2021-11-13T11:37:54.414088Z",
     "iopub.status.busy": "2021-11-13T11:37:54.413356Z",
     "iopub.status.idle": "2021-11-13T11:37:54.415766Z",
     "shell.execute_reply": "2021-11-13T11:37:54.415361Z",
     "shell.execute_reply.started": "2021-11-11T08:45:53.574818Z"
    },
    "id": "2dce4dd7",
    "papermill": {
     "duration": 0.030261,
     "end_time": "2021-11-13T11:37:54.415876",
     "exception": false,
     "start_time": "2021-11-13T11:37:54.385615",
     "status": "completed"
    },
    "tags": []
   },
   "outputs": [],
   "source": [
    "from __future__ import print_function\n",
    "from collections import OrderedDict\n",
    "\n",
    "import time\n",
    "import _pickle as cPickle\n",
    "\n",
    "import urllib\n",
    "import matplotlib.pyplot as plt\n",
    "\n",
    "import os\n",
    "import sys\n",
    "import codecs\n",
    "import re\n",
    "import numpy as np\n",
    "\n",
    "parameters = OrderedDict()\n",
    "parameters['word_dim'] = 300"
   ]
  },
  {
   "cell_type": "code",
   "execution_count": 3,
   "id": "31165116",
   "metadata": {
    "execution": {
     "iopub.execute_input": "2021-11-13T11:37:54.465006Z",
     "iopub.status.busy": "2021-11-13T11:37:54.464238Z",
     "iopub.status.idle": "2021-11-13T11:37:54.469596Z",
     "shell.execute_reply": "2021-11-13T11:37:54.469165Z"
    },
    "id": "N2sW5vB-6BEd",
    "papermill": {
     "duration": 0.030999,
     "end_time": "2021-11-13T11:37:54.469699",
     "exception": false,
     "start_time": "2021-11-13T11:37:54.438700",
     "status": "completed"
    },
    "tags": []
   },
   "outputs": [],
   "source": [
    "def importtxtfile(path):\n",
    "    df = open(path, 'r')\n",
    "    df = [line.strip().split('\\t') for line in df.readlines()]\n",
    "    df = pd.DataFrame(df, columns = ['id' , 'tweet', 'tweettype', 'score'])\n",
    "    df = df.drop([0], axis=0)\n",
    "    return df"
   ]
  },
  {
   "cell_type": "code",
   "execution_count": 4,
   "id": "d09252c4",
   "metadata": {
    "execution": {
     "iopub.execute_input": "2021-11-13T11:37:54.519871Z",
     "iopub.status.busy": "2021-11-13T11:37:54.519290Z",
     "iopub.status.idle": "2021-11-13T11:37:54.602553Z",
     "shell.execute_reply": "2021-11-13T11:37:54.603113Z"
    },
    "id": "_5AZNWyL1a7d",
    "outputId": "05fa854b-bd5f-4250-ac98-39adaf1397d8",
    "papermill": {
     "duration": 0.11052,
     "end_time": "2021-11-13T11:37:54.603284",
     "exception": false,
     "start_time": "2021-11-13T11:37:54.492764",
     "status": "completed"
    },
    "tags": []
   },
   "outputs": [
    {
     "data": {
      "text/html": [
       "<div>\n",
       "<style scoped>\n",
       "    .dataframe tbody tr th:only-of-type {\n",
       "        vertical-align: middle;\n",
       "    }\n",
       "\n",
       "    .dataframe tbody tr th {\n",
       "        vertical-align: top;\n",
       "    }\n",
       "\n",
       "    .dataframe thead th {\n",
       "        text-align: right;\n",
       "    }\n",
       "</style>\n",
       "<table border=\"1\" class=\"dataframe\">\n",
       "  <thead>\n",
       "    <tr style=\"text-align: right;\">\n",
       "      <th></th>\n",
       "      <th>id</th>\n",
       "      <th>tweet</th>\n",
       "      <th>tweettype</th>\n",
       "      <th>score</th>\n",
       "    </tr>\n",
       "  </thead>\n",
       "  <tbody>\n",
       "    <tr>\n",
       "      <th>1</th>\n",
       "      <td>10000</td>\n",
       "      <td>How the fu*k! Who the heck! moved my fridge!.....</td>\n",
       "      <td>anger</td>\n",
       "      <td>0.938</td>\n",
       "    </tr>\n",
       "    <tr>\n",
       "      <th>2</th>\n",
       "      <td>10001</td>\n",
       "      <td>So my Indian Uber driver just called someone t...</td>\n",
       "      <td>anger</td>\n",
       "      <td>0.896</td>\n",
       "    </tr>\n",
       "    <tr>\n",
       "      <th>3</th>\n",
       "      <td>10002</td>\n",
       "      <td>@DPD_UK I asked for my parcel to be delivered ...</td>\n",
       "      <td>anger</td>\n",
       "      <td>0.896</td>\n",
       "    </tr>\n",
       "    <tr>\n",
       "      <th>4</th>\n",
       "      <td>10003</td>\n",
       "      <td>so ef whichever butt wipe pulled the fire alar...</td>\n",
       "      <td>anger</td>\n",
       "      <td>0.896</td>\n",
       "    </tr>\n",
       "    <tr>\n",
       "      <th>5</th>\n",
       "      <td>10004</td>\n",
       "      <td>Don't join @BTCare they put the phone down on ...</td>\n",
       "      <td>anger</td>\n",
       "      <td>0.896</td>\n",
       "    </tr>\n",
       "    <tr>\n",
       "      <th>...</th>\n",
       "      <td>...</td>\n",
       "      <td>...</td>\n",
       "      <td>...</td>\n",
       "      <td>...</td>\n",
       "    </tr>\n",
       "    <tr>\n",
       "      <th>782</th>\n",
       "      <td>40781</td>\n",
       "      <td>@VivienLloyd Thank you so much! Just home - st...</td>\n",
       "      <td>sadness</td>\n",
       "      <td>0.104</td>\n",
       "    </tr>\n",
       "    <tr>\n",
       "      <th>783</th>\n",
       "      <td>40782</td>\n",
       "      <td>Just put the winter duvet on ☃️❄️🌬☔️</td>\n",
       "      <td>sadness</td>\n",
       "      <td>0.104</td>\n",
       "    </tr>\n",
       "    <tr>\n",
       "      <th>784</th>\n",
       "      <td>40783</td>\n",
       "      <td>@SilkInSide @TommyJoeRatliff that's so pretty!...</td>\n",
       "      <td>sadness</td>\n",
       "      <td>0.088</td>\n",
       "    </tr>\n",
       "    <tr>\n",
       "      <th>785</th>\n",
       "      <td>40784</td>\n",
       "      <td>@BluesfestByron second artist announcement loo...</td>\n",
       "      <td>sadness</td>\n",
       "      <td>0.083</td>\n",
       "    </tr>\n",
       "    <tr>\n",
       "      <th>786</th>\n",
       "      <td>40785</td>\n",
       "      <td>I can literally eat creamy pesto pasta topped ...</td>\n",
       "      <td>sadness</td>\n",
       "      <td>0.083</td>\n",
       "    </tr>\n",
       "  </tbody>\n",
       "</table>\n",
       "<p>3613 rows × 4 columns</p>\n",
       "</div>"
      ],
      "text/plain": [
       "        id                                              tweet tweettype  score\n",
       "1    10000  How the fu*k! Who the heck! moved my fridge!.....     anger  0.938\n",
       "2    10001  So my Indian Uber driver just called someone t...     anger  0.896\n",
       "3    10002  @DPD_UK I asked for my parcel to be delivered ...     anger  0.896\n",
       "4    10003  so ef whichever butt wipe pulled the fire alar...     anger  0.896\n",
       "5    10004  Don't join @BTCare they put the phone down on ...     anger  0.896\n",
       "..     ...                                                ...       ...    ...\n",
       "782  40781  @VivienLloyd Thank you so much! Just home - st...   sadness  0.104\n",
       "783  40782              Just put the winter duvet on ☃️❄️🌬☔️    sadness  0.104\n",
       "784  40783  @SilkInSide @TommyJoeRatliff that's so pretty!...   sadness  0.088\n",
       "785  40784  @BluesfestByron second artist announcement loo...   sadness  0.083\n",
       "786  40785  I can literally eat creamy pesto pasta topped ...   sadness  0.083\n",
       "\n",
       "[3613 rows x 4 columns]"
      ]
     },
     "execution_count": 4,
     "metadata": {},
     "output_type": "execute_result"
    }
   ],
   "source": [
    "angerdatatrain = importtxtfile('../input/wassadata/anger-ratings-0to1.train.txt')\n",
    "feardatatrain = importtxtfile('../input/wassadata/fear-ratings-0to1.train.txt')\n",
    "joydatatrain = importtxtfile('../input/wassadata/joy-ratings-0to1.train.txt')\n",
    "sadnessdatatrain = importtxtfile('../input/wassadata/sadness-ratings-0to1.train.txt')\n",
    "traindata = pd.concat([angerdatatrain, feardatatrain, joydatatrain, sadnessdatatrain])\n",
    "traindata"
   ]
  },
  {
   "cell_type": "code",
   "execution_count": 5,
   "id": "88b65430",
   "metadata": {
    "execution": {
     "iopub.execute_input": "2021-11-13T11:37:54.657382Z",
     "iopub.status.busy": "2021-11-13T11:37:54.656719Z",
     "iopub.status.idle": "2021-11-13T11:37:54.693717Z",
     "shell.execute_reply": "2021-11-13T11:37:54.694255Z"
    },
    "id": "G3J8cpzb60GD",
    "outputId": "fb50cf1d-91a4-4616-a99a-32c28222e7af",
    "papermill": {
     "duration": 0.065588,
     "end_time": "2021-11-13T11:37:54.694393",
     "exception": false,
     "start_time": "2021-11-13T11:37:54.628805",
     "status": "completed"
    },
    "tags": []
   },
   "outputs": [
    {
     "data": {
      "text/html": [
       "<div>\n",
       "<style scoped>\n",
       "    .dataframe tbody tr th:only-of-type {\n",
       "        vertical-align: middle;\n",
       "    }\n",
       "\n",
       "    .dataframe tbody tr th {\n",
       "        vertical-align: top;\n",
       "    }\n",
       "\n",
       "    .dataframe thead th {\n",
       "        text-align: right;\n",
       "    }\n",
       "</style>\n",
       "<table border=\"1\" class=\"dataframe\">\n",
       "  <thead>\n",
       "    <tr style=\"text-align: right;\">\n",
       "      <th></th>\n",
       "      <th>id</th>\n",
       "      <th>tweet</th>\n",
       "      <th>tweettype</th>\n",
       "      <th>score</th>\n",
       "    </tr>\n",
       "  </thead>\n",
       "  <tbody>\n",
       "    <tr>\n",
       "      <th>1</th>\n",
       "      <td>10857</td>\n",
       "      <td>@ZubairSabirPTI  pls dont insult the word 'Molna'</td>\n",
       "      <td>anger</td>\n",
       "      <td>0.479</td>\n",
       "    </tr>\n",
       "    <tr>\n",
       "      <th>2</th>\n",
       "      <td>10858</td>\n",
       "      <td>@ArcticFantasy I would have almost took offens...</td>\n",
       "      <td>anger</td>\n",
       "      <td>0.458</td>\n",
       "    </tr>\n",
       "    <tr>\n",
       "      <th>3</th>\n",
       "      <td>10859</td>\n",
       "      <td>@IllinoisLoyalty that Rutgers game was an abom...</td>\n",
       "      <td>anger</td>\n",
       "      <td>0.562</td>\n",
       "    </tr>\n",
       "    <tr>\n",
       "      <th>4</th>\n",
       "      <td>10860</td>\n",
       "      <td>@CozanGaming that's what lisa asked before she...</td>\n",
       "      <td>anger</td>\n",
       "      <td>0.500</td>\n",
       "    </tr>\n",
       "    <tr>\n",
       "      <th>5</th>\n",
       "      <td>10861</td>\n",
       "      <td>Sometimes I get mad over something so minuscul...</td>\n",
       "      <td>anger</td>\n",
       "      <td>0.708</td>\n",
       "    </tr>\n",
       "    <tr>\n",
       "      <th>...</th>\n",
       "      <td>...</td>\n",
       "      <td>...</td>\n",
       "      <td>...</td>\n",
       "      <td>...</td>\n",
       "    </tr>\n",
       "    <tr>\n",
       "      <th>70</th>\n",
       "      <td>40855</td>\n",
       "      <td>Common app just randomly logged me out as I wa...</td>\n",
       "      <td>sadness</td>\n",
       "      <td>0.833</td>\n",
       "    </tr>\n",
       "    <tr>\n",
       "      <th>71</th>\n",
       "      <td>40856</td>\n",
       "      <td>I'd rather laugh with the rarest genius, in be...</td>\n",
       "      <td>sadness</td>\n",
       "      <td>0.688</td>\n",
       "    </tr>\n",
       "    <tr>\n",
       "      <th>72</th>\n",
       "      <td>40857</td>\n",
       "      <td>If you #invest in my new #film I will stop ask...</td>\n",
       "      <td>sadness</td>\n",
       "      <td>0.458</td>\n",
       "    </tr>\n",
       "    <tr>\n",
       "      <th>73</th>\n",
       "      <td>40858</td>\n",
       "      <td>Just watched Django Unchained, Other people ma...</td>\n",
       "      <td>sadness</td>\n",
       "      <td>0.333</td>\n",
       "    </tr>\n",
       "    <tr>\n",
       "      <th>74</th>\n",
       "      <td>40859</td>\n",
       "      <td>@KeithOlbermann depressing how despicable Trum...</td>\n",
       "      <td>sadness</td>\n",
       "      <td>0.708</td>\n",
       "    </tr>\n",
       "  </tbody>\n",
       "</table>\n",
       "<p>347 rows × 4 columns</p>\n",
       "</div>"
      ],
      "text/plain": [
       "       id                                              tweet tweettype  score\n",
       "1   10857  @ZubairSabirPTI  pls dont insult the word 'Molna'     anger  0.479\n",
       "2   10858  @ArcticFantasy I would have almost took offens...     anger  0.458\n",
       "3   10859  @IllinoisLoyalty that Rutgers game was an abom...     anger  0.562\n",
       "4   10860  @CozanGaming that's what lisa asked before she...     anger  0.500\n",
       "5   10861  Sometimes I get mad over something so minuscul...     anger  0.708\n",
       "..    ...                                                ...       ...    ...\n",
       "70  40855  Common app just randomly logged me out as I wa...   sadness  0.833\n",
       "71  40856  I'd rather laugh with the rarest genius, in be...   sadness  0.688\n",
       "72  40857  If you #invest in my new #film I will stop ask...   sadness  0.458\n",
       "73  40858  Just watched Django Unchained, Other people ma...   sadness  0.333\n",
       "74  40859  @KeithOlbermann depressing how despicable Trum...   sadness  0.708\n",
       "\n",
       "[347 rows x 4 columns]"
      ]
     },
     "execution_count": 5,
     "metadata": {},
     "output_type": "execute_result"
    }
   ],
   "source": [
    "angerdatatest = importtxtfile('../input/wassadata/anger-ratings-0to1.dev.gold.txt')\n",
    "feardatatest = importtxtfile('../input/wassadata/fear-ratings-0to1.dev.gold.txt')\n",
    "joydatatest = importtxtfile('../input/wassadata/joy-ratings-0to1.dev.gold.txt')\n",
    "sadnessdatatest = importtxtfile('../input/wassadata/sadness-ratings-0to1.dev.gold.txt')\n",
    "valdata = pd.concat([angerdatatest, feardatatest, joydatatest, sadnessdatatest])\n",
    "valdata"
   ]
  },
  {
   "cell_type": "code",
   "execution_count": 6,
   "id": "be64cd5b",
   "metadata": {
    "execution": {
     "iopub.execute_input": "2021-11-13T11:37:54.756402Z",
     "iopub.status.busy": "2021-11-13T11:37:54.755516Z",
     "iopub.status.idle": "2021-11-13T11:37:54.769144Z",
     "shell.execute_reply": "2021-11-13T11:37:54.768677Z",
     "shell.execute_reply.started": "2021-11-11T08:45:53.582144Z"
    },
    "id": "468db22c",
    "outputId": "8a9e1077-4de4-4294-f9f0-5bb2856ca7f5",
    "papermill": {
     "duration": 0.044084,
     "end_time": "2021-11-13T11:37:54.769261",
     "exception": false,
     "start_time": "2021-11-13T11:37:54.725177",
     "status": "completed"
    },
    "tags": []
   },
   "outputs": [
    {
     "data": {
      "text/html": [
       "<div>\n",
       "<style scoped>\n",
       "    .dataframe tbody tr th:only-of-type {\n",
       "        vertical-align: middle;\n",
       "    }\n",
       "\n",
       "    .dataframe tbody tr th {\n",
       "        vertical-align: top;\n",
       "    }\n",
       "\n",
       "    .dataframe thead th {\n",
       "        text-align: right;\n",
       "    }\n",
       "</style>\n",
       "<table border=\"1\" class=\"dataframe\">\n",
       "  <thead>\n",
       "    <tr style=\"text-align: right;\">\n",
       "      <th></th>\n",
       "      <th>index</th>\n",
       "      <th>id</th>\n",
       "      <th>tweet</th>\n",
       "      <th>tweettype</th>\n",
       "      <th>score</th>\n",
       "    </tr>\n",
       "  </thead>\n",
       "  <tbody>\n",
       "    <tr>\n",
       "      <th>0</th>\n",
       "      <td>1</td>\n",
       "      <td>10000</td>\n",
       "      <td>How the fu*k! Who the heck! moved my fridge!.....</td>\n",
       "      <td>anger</td>\n",
       "      <td>0.938</td>\n",
       "    </tr>\n",
       "    <tr>\n",
       "      <th>1</th>\n",
       "      <td>2</td>\n",
       "      <td>10001</td>\n",
       "      <td>So my Indian Uber driver just called someone t...</td>\n",
       "      <td>anger</td>\n",
       "      <td>0.896</td>\n",
       "    </tr>\n",
       "    <tr>\n",
       "      <th>2</th>\n",
       "      <td>3</td>\n",
       "      <td>10002</td>\n",
       "      <td>@DPD_UK I asked for my parcel to be delivered ...</td>\n",
       "      <td>anger</td>\n",
       "      <td>0.896</td>\n",
       "    </tr>\n",
       "    <tr>\n",
       "      <th>3</th>\n",
       "      <td>4</td>\n",
       "      <td>10003</td>\n",
       "      <td>so ef whichever butt wipe pulled the fire alar...</td>\n",
       "      <td>anger</td>\n",
       "      <td>0.896</td>\n",
       "    </tr>\n",
       "    <tr>\n",
       "      <th>4</th>\n",
       "      <td>5</td>\n",
       "      <td>10004</td>\n",
       "      <td>Don't join @BTCare they put the phone down on ...</td>\n",
       "      <td>anger</td>\n",
       "      <td>0.896</td>\n",
       "    </tr>\n",
       "    <tr>\n",
       "      <th>...</th>\n",
       "      <td>...</td>\n",
       "      <td>...</td>\n",
       "      <td>...</td>\n",
       "      <td>...</td>\n",
       "      <td>...</td>\n",
       "    </tr>\n",
       "    <tr>\n",
       "      <th>3955</th>\n",
       "      <td>70</td>\n",
       "      <td>40855</td>\n",
       "      <td>Common app just randomly logged me out as I wa...</td>\n",
       "      <td>sadness</td>\n",
       "      <td>0.833</td>\n",
       "    </tr>\n",
       "    <tr>\n",
       "      <th>3956</th>\n",
       "      <td>71</td>\n",
       "      <td>40856</td>\n",
       "      <td>I'd rather laugh with the rarest genius, in be...</td>\n",
       "      <td>sadness</td>\n",
       "      <td>0.688</td>\n",
       "    </tr>\n",
       "    <tr>\n",
       "      <th>3957</th>\n",
       "      <td>72</td>\n",
       "      <td>40857</td>\n",
       "      <td>If you #invest in my new #film I will stop ask...</td>\n",
       "      <td>sadness</td>\n",
       "      <td>0.458</td>\n",
       "    </tr>\n",
       "    <tr>\n",
       "      <th>3958</th>\n",
       "      <td>73</td>\n",
       "      <td>40858</td>\n",
       "      <td>Just watched Django Unchained, Other people ma...</td>\n",
       "      <td>sadness</td>\n",
       "      <td>0.333</td>\n",
       "    </tr>\n",
       "    <tr>\n",
       "      <th>3959</th>\n",
       "      <td>74</td>\n",
       "      <td>40859</td>\n",
       "      <td>@KeithOlbermann depressing how despicable Trum...</td>\n",
       "      <td>sadness</td>\n",
       "      <td>0.708</td>\n",
       "    </tr>\n",
       "  </tbody>\n",
       "</table>\n",
       "<p>3960 rows × 5 columns</p>\n",
       "</div>"
      ],
      "text/plain": [
       "      index     id                                              tweet  \\\n",
       "0         1  10000  How the fu*k! Who the heck! moved my fridge!.....   \n",
       "1         2  10001  So my Indian Uber driver just called someone t...   \n",
       "2         3  10002  @DPD_UK I asked for my parcel to be delivered ...   \n",
       "3         4  10003  so ef whichever butt wipe pulled the fire alar...   \n",
       "4         5  10004  Don't join @BTCare they put the phone down on ...   \n",
       "...     ...    ...                                                ...   \n",
       "3955     70  40855  Common app just randomly logged me out as I wa...   \n",
       "3956     71  40856  I'd rather laugh with the rarest genius, in be...   \n",
       "3957     72  40857  If you #invest in my new #film I will stop ask...   \n",
       "3958     73  40858  Just watched Django Unchained, Other people ma...   \n",
       "3959     74  40859  @KeithOlbermann depressing how despicable Trum...   \n",
       "\n",
       "     tweettype  score  \n",
       "0        anger  0.938  \n",
       "1        anger  0.896  \n",
       "2        anger  0.896  \n",
       "3        anger  0.896  \n",
       "4        anger  0.896  \n",
       "...        ...    ...  \n",
       "3955   sadness  0.833  \n",
       "3956   sadness  0.688  \n",
       "3957   sadness  0.458  \n",
       "3958   sadness  0.333  \n",
       "3959   sadness  0.708  \n",
       "\n",
       "[3960 rows x 5 columns]"
      ]
     },
     "execution_count": 6,
     "metadata": {},
     "output_type": "execute_result"
    }
   ],
   "source": [
    "datanew = pd.concat([traindata, valdata])\n",
    "datanew = datanew.reset_index()\n",
    "datanew\n",
    "# datanew[datanew['score'].to_string() == 'NONE']"
   ]
  },
  {
   "cell_type": "code",
   "execution_count": 7,
   "id": "89b631ed",
   "metadata": {
    "execution": {
     "iopub.execute_input": "2021-11-13T11:37:54.831554Z",
     "iopub.status.busy": "2021-11-13T11:37:54.828771Z",
     "iopub.status.idle": "2021-11-13T11:37:54.834231Z",
     "shell.execute_reply": "2021-11-13T11:37:54.834642Z"
    },
    "id": "Ec3-wiRxEP2e",
    "outputId": "6d10c8e0-166e-403b-adb0-df66f6b1d342",
    "papermill": {
     "duration": 0.03975,
     "end_time": "2021-11-13T11:37:54.834761",
     "exception": false,
     "start_time": "2021-11-13T11:37:54.795011",
     "status": "completed"
    },
    "tags": []
   },
   "outputs": [
    {
     "data": {
      "text/plain": [
       "0       0.938\n",
       "1       0.896\n",
       "2       0.896\n",
       "3       0.896\n",
       "4       0.896\n",
       "        ...  \n",
       "3955    0.833\n",
       "3956    0.688\n",
       "3957    0.458\n",
       "3958    0.333\n",
       "3959    0.708\n",
       "Name: score, Length: 3960, dtype: float64"
      ]
     },
     "execution_count": 7,
     "metadata": {},
     "output_type": "execute_result"
    }
   ],
   "source": [
    "pd.to_numeric(datanew['score'])"
   ]
  },
  {
   "cell_type": "code",
   "execution_count": 8,
   "id": "6d27bebf",
   "metadata": {
    "execution": {
     "iopub.execute_input": "2021-11-13T11:37:54.892840Z",
     "iopub.status.busy": "2021-11-13T11:37:54.892338Z",
     "iopub.status.idle": "2021-11-13T11:37:54.906509Z",
     "shell.execute_reply": "2021-11-13T11:37:54.906094Z"
    },
    "id": "FbbL5gxs8xTB",
    "outputId": "af53774c-57a0-4982-a596-6c750f3386a2",
    "papermill": {
     "duration": 0.045715,
     "end_time": "2021-11-13T11:37:54.906615",
     "exception": false,
     "start_time": "2021-11-13T11:37:54.860900",
     "status": "completed"
    },
    "tags": []
   },
   "outputs": [
    {
     "data": {
      "text/html": [
       "<div>\n",
       "<style scoped>\n",
       "    .dataframe tbody tr th:only-of-type {\n",
       "        vertical-align: middle;\n",
       "    }\n",
       "\n",
       "    .dataframe tbody tr th {\n",
       "        vertical-align: top;\n",
       "    }\n",
       "\n",
       "    .dataframe thead th {\n",
       "        text-align: right;\n",
       "    }\n",
       "</style>\n",
       "<table border=\"1\" class=\"dataframe\">\n",
       "  <thead>\n",
       "    <tr style=\"text-align: right;\">\n",
       "      <th></th>\n",
       "      <th>index</th>\n",
       "      <th>id</th>\n",
       "      <th>tweet</th>\n",
       "      <th>tweettype</th>\n",
       "      <th>score</th>\n",
       "    </tr>\n",
       "  </thead>\n",
       "  <tbody>\n",
       "    <tr>\n",
       "      <th>0</th>\n",
       "      <td>1</td>\n",
       "      <td>10000</td>\n",
       "      <td>How the fu*k! Who the heck! moved my fridge!.....</td>\n",
       "      <td>anger</td>\n",
       "      <td>0.938</td>\n",
       "    </tr>\n",
       "    <tr>\n",
       "      <th>1</th>\n",
       "      <td>2</td>\n",
       "      <td>10001</td>\n",
       "      <td>So my Indian Uber driver just called someone t...</td>\n",
       "      <td>anger</td>\n",
       "      <td>0.896</td>\n",
       "    </tr>\n",
       "    <tr>\n",
       "      <th>2</th>\n",
       "      <td>3</td>\n",
       "      <td>10002</td>\n",
       "      <td>@DPD_UK I asked for my parcel to be delivered ...</td>\n",
       "      <td>anger</td>\n",
       "      <td>0.896</td>\n",
       "    </tr>\n",
       "    <tr>\n",
       "      <th>3</th>\n",
       "      <td>4</td>\n",
       "      <td>10003</td>\n",
       "      <td>so ef whichever butt wipe pulled the fire alar...</td>\n",
       "      <td>anger</td>\n",
       "      <td>0.896</td>\n",
       "    </tr>\n",
       "    <tr>\n",
       "      <th>4</th>\n",
       "      <td>5</td>\n",
       "      <td>10004</td>\n",
       "      <td>Don't join @BTCare they put the phone down on ...</td>\n",
       "      <td>anger</td>\n",
       "      <td>0.896</td>\n",
       "    </tr>\n",
       "    <tr>\n",
       "      <th>...</th>\n",
       "      <td>...</td>\n",
       "      <td>...</td>\n",
       "      <td>...</td>\n",
       "      <td>...</td>\n",
       "      <td>...</td>\n",
       "    </tr>\n",
       "    <tr>\n",
       "      <th>3921</th>\n",
       "      <td>36</td>\n",
       "      <td>40821</td>\n",
       "      <td>It feel like we lost a family member🙄😂</td>\n",
       "      <td>sadness</td>\n",
       "      <td>0.708</td>\n",
       "    </tr>\n",
       "    <tr>\n",
       "      <th>3922</th>\n",
       "      <td>37</td>\n",
       "      <td>40822</td>\n",
       "      <td>My life went from happy to unhappy..</td>\n",
       "      <td>sadness</td>\n",
       "      <td>0.812</td>\n",
       "    </tr>\n",
       "    <tr>\n",
       "      <th>3946</th>\n",
       "      <td>61</td>\n",
       "      <td>40846</td>\n",
       "      <td>Should of stayed in Dubai 😞</td>\n",
       "      <td>sadness</td>\n",
       "      <td>0.708</td>\n",
       "    </tr>\n",
       "    <tr>\n",
       "      <th>3955</th>\n",
       "      <td>70</td>\n",
       "      <td>40855</td>\n",
       "      <td>Common app just randomly logged me out as I wa...</td>\n",
       "      <td>sadness</td>\n",
       "      <td>0.833</td>\n",
       "    </tr>\n",
       "    <tr>\n",
       "      <th>3959</th>\n",
       "      <td>74</td>\n",
       "      <td>40859</td>\n",
       "      <td>@KeithOlbermann depressing how despicable Trum...</td>\n",
       "      <td>sadness</td>\n",
       "      <td>0.708</td>\n",
       "    </tr>\n",
       "  </tbody>\n",
       "</table>\n",
       "<p>625 rows × 5 columns</p>\n",
       "</div>"
      ],
      "text/plain": [
       "      index     id                                              tweet  \\\n",
       "0         1  10000  How the fu*k! Who the heck! moved my fridge!.....   \n",
       "1         2  10001  So my Indian Uber driver just called someone t...   \n",
       "2         3  10002  @DPD_UK I asked for my parcel to be delivered ...   \n",
       "3         4  10003  so ef whichever butt wipe pulled the fire alar...   \n",
       "4         5  10004  Don't join @BTCare they put the phone down on ...   \n",
       "...     ...    ...                                                ...   \n",
       "3921     36  40821             It feel like we lost a family member🙄😂   \n",
       "3922     37  40822               My life went from happy to unhappy..   \n",
       "3946     61  40846                        Should of stayed in Dubai 😞   \n",
       "3955     70  40855  Common app just randomly logged me out as I wa...   \n",
       "3959     74  40859  @KeithOlbermann depressing how despicable Trum...   \n",
       "\n",
       "     tweettype  score  \n",
       "0        anger  0.938  \n",
       "1        anger  0.896  \n",
       "2        anger  0.896  \n",
       "3        anger  0.896  \n",
       "4        anger  0.896  \n",
       "...        ...    ...  \n",
       "3921   sadness  0.708  \n",
       "3922   sadness  0.812  \n",
       "3946   sadness  0.708  \n",
       "3955   sadness  0.833  \n",
       "3959   sadness  0.708  \n",
       "\n",
       "[625 rows x 5 columns]"
      ]
     },
     "execution_count": 8,
     "metadata": {},
     "output_type": "execute_result"
    }
   ],
   "source": [
    "datanew = datanew.drop(datanew[pd.to_numeric(datanew['score']) < 0.7].index) #, inplace = True\n",
    "datanew"
   ]
  },
  {
   "cell_type": "code",
   "execution_count": 9,
   "id": "a2debbbf",
   "metadata": {
    "execution": {
     "iopub.execute_input": "2021-11-13T11:37:54.964826Z",
     "iopub.status.busy": "2021-11-13T11:37:54.964058Z",
     "iopub.status.idle": "2021-11-13T11:37:54.979143Z",
     "shell.execute_reply": "2021-11-13T11:37:54.979522Z",
     "shell.execute_reply.started": "2021-11-11T08:45:53.71135Z"
    },
    "id": "bfc2ece3",
    "outputId": "89268d00-4c8d-47dc-c759-558de0550e56",
    "papermill": {
     "duration": 0.047179,
     "end_time": "2021-11-13T11:37:54.979643",
     "exception": false,
     "start_time": "2021-11-13T11:37:54.932464",
     "status": "completed"
    },
    "tags": []
   },
   "outputs": [
    {
     "data": {
      "text/html": [
       "<div>\n",
       "<style scoped>\n",
       "    .dataframe tbody tr th:only-of-type {\n",
       "        vertical-align: middle;\n",
       "    }\n",
       "\n",
       "    .dataframe tbody tr th {\n",
       "        vertical-align: top;\n",
       "    }\n",
       "\n",
       "    .dataframe thead th {\n",
       "        text-align: right;\n",
       "    }\n",
       "</style>\n",
       "<table border=\"1\" class=\"dataframe\">\n",
       "  <thead>\n",
       "    <tr style=\"text-align: right;\">\n",
       "      <th></th>\n",
       "      <th>index</th>\n",
       "      <th>onehot_sentiment</th>\n",
       "      <th>id</th>\n",
       "      <th>tweet</th>\n",
       "      <th>tweettype</th>\n",
       "      <th>score</th>\n",
       "    </tr>\n",
       "  </thead>\n",
       "  <tbody>\n",
       "    <tr>\n",
       "      <th>0</th>\n",
       "      <td>1</td>\n",
       "      <td>[1.0, 0.0, 0.0, 0.0]</td>\n",
       "      <td>10000</td>\n",
       "      <td>How the fu*k! Who the heck! moved my fridge!.....</td>\n",
       "      <td>anger</td>\n",
       "      <td>0.938</td>\n",
       "    </tr>\n",
       "    <tr>\n",
       "      <th>1</th>\n",
       "      <td>2</td>\n",
       "      <td>[1.0, 0.0, 0.0, 0.0]</td>\n",
       "      <td>10001</td>\n",
       "      <td>So my Indian Uber driver just called someone t...</td>\n",
       "      <td>anger</td>\n",
       "      <td>0.896</td>\n",
       "    </tr>\n",
       "    <tr>\n",
       "      <th>2</th>\n",
       "      <td>3</td>\n",
       "      <td>[1.0, 0.0, 0.0, 0.0]</td>\n",
       "      <td>10002</td>\n",
       "      <td>@DPD_UK I asked for my parcel to be delivered ...</td>\n",
       "      <td>anger</td>\n",
       "      <td>0.896</td>\n",
       "    </tr>\n",
       "    <tr>\n",
       "      <th>3</th>\n",
       "      <td>4</td>\n",
       "      <td>[1.0, 0.0, 0.0, 0.0]</td>\n",
       "      <td>10003</td>\n",
       "      <td>so ef whichever butt wipe pulled the fire alar...</td>\n",
       "      <td>anger</td>\n",
       "      <td>0.896</td>\n",
       "    </tr>\n",
       "    <tr>\n",
       "      <th>4</th>\n",
       "      <td>5</td>\n",
       "      <td>[1.0, 0.0, 0.0, 0.0]</td>\n",
       "      <td>10004</td>\n",
       "      <td>Don't join @BTCare they put the phone down on ...</td>\n",
       "      <td>anger</td>\n",
       "      <td>0.896</td>\n",
       "    </tr>\n",
       "    <tr>\n",
       "      <th>...</th>\n",
       "      <td>...</td>\n",
       "      <td>...</td>\n",
       "      <td>...</td>\n",
       "      <td>...</td>\n",
       "      <td>...</td>\n",
       "      <td>...</td>\n",
       "    </tr>\n",
       "    <tr>\n",
       "      <th>3921</th>\n",
       "      <td>36</td>\n",
       "      <td>[0.0, 0.0, 0.0, 1.0]</td>\n",
       "      <td>40821</td>\n",
       "      <td>It feel like we lost a family member🙄😂</td>\n",
       "      <td>sadness</td>\n",
       "      <td>0.708</td>\n",
       "    </tr>\n",
       "    <tr>\n",
       "      <th>3922</th>\n",
       "      <td>37</td>\n",
       "      <td>[0.0, 0.0, 0.0, 1.0]</td>\n",
       "      <td>40822</td>\n",
       "      <td>My life went from happy to unhappy..</td>\n",
       "      <td>sadness</td>\n",
       "      <td>0.812</td>\n",
       "    </tr>\n",
       "    <tr>\n",
       "      <th>3946</th>\n",
       "      <td>61</td>\n",
       "      <td>[0.0, 0.0, 0.0, 1.0]</td>\n",
       "      <td>40846</td>\n",
       "      <td>Should of stayed in Dubai 😞</td>\n",
       "      <td>sadness</td>\n",
       "      <td>0.708</td>\n",
       "    </tr>\n",
       "    <tr>\n",
       "      <th>3955</th>\n",
       "      <td>70</td>\n",
       "      <td>[0.0, 0.0, 0.0, 1.0]</td>\n",
       "      <td>40855</td>\n",
       "      <td>Common app just randomly logged me out as I wa...</td>\n",
       "      <td>sadness</td>\n",
       "      <td>0.833</td>\n",
       "    </tr>\n",
       "    <tr>\n",
       "      <th>3959</th>\n",
       "      <td>74</td>\n",
       "      <td>[0.0, 0.0, 0.0, 1.0]</td>\n",
       "      <td>40859</td>\n",
       "      <td>@KeithOlbermann depressing how despicable Trum...</td>\n",
       "      <td>sadness</td>\n",
       "      <td>0.708</td>\n",
       "    </tr>\n",
       "  </tbody>\n",
       "</table>\n",
       "<p>625 rows × 6 columns</p>\n",
       "</div>"
      ],
      "text/plain": [
       "      index      onehot_sentiment     id  \\\n",
       "0         1  [1.0, 0.0, 0.0, 0.0]  10000   \n",
       "1         2  [1.0, 0.0, 0.0, 0.0]  10001   \n",
       "2         3  [1.0, 0.0, 0.0, 0.0]  10002   \n",
       "3         4  [1.0, 0.0, 0.0, 0.0]  10003   \n",
       "4         5  [1.0, 0.0, 0.0, 0.0]  10004   \n",
       "...     ...                   ...    ...   \n",
       "3921     36  [0.0, 0.0, 0.0, 1.0]  40821   \n",
       "3922     37  [0.0, 0.0, 0.0, 1.0]  40822   \n",
       "3946     61  [0.0, 0.0, 0.0, 1.0]  40846   \n",
       "3955     70  [0.0, 0.0, 0.0, 1.0]  40855   \n",
       "3959     74  [0.0, 0.0, 0.0, 1.0]  40859   \n",
       "\n",
       "                                                  tweet tweettype  score  \n",
       "0     How the fu*k! Who the heck! moved my fridge!.....     anger  0.938  \n",
       "1     So my Indian Uber driver just called someone t...     anger  0.896  \n",
       "2     @DPD_UK I asked for my parcel to be delivered ...     anger  0.896  \n",
       "3     so ef whichever butt wipe pulled the fire alar...     anger  0.896  \n",
       "4     Don't join @BTCare they put the phone down on ...     anger  0.896  \n",
       "...                                                 ...       ...    ...  \n",
       "3921             It feel like we lost a family member🙄😂   sadness  0.708  \n",
       "3922               My life went from happy to unhappy..   sadness  0.812  \n",
       "3946                        Should of stayed in Dubai 😞   sadness  0.708  \n",
       "3955  Common app just randomly logged me out as I wa...   sadness  0.833  \n",
       "3959  @KeithOlbermann depressing how despicable Trum...   sadness  0.708  \n",
       "\n",
       "[625 rows x 6 columns]"
      ]
     },
     "execution_count": 9,
     "metadata": {},
     "output_type": "execute_result"
    }
   ],
   "source": [
    "## encode sentiment column to onehot\n",
    "from sklearn.preprocessing import OneHotEncoder\n",
    "\n",
    "enc = OneHotEncoder(handle_unknown='ignore')\n",
    "enc.fit(datanew['tweettype'].to_numpy().reshape(-1, 1))\n",
    "onehot_sentiment = enc.transform(datanew['tweettype'].to_numpy().reshape(-1, 1)).toarray()\n",
    "# onehot_sentiment = onehot_sentiment.reshape((40000, 1, 13))\n",
    "datanew.insert(1, \"onehot_sentiment\", list(onehot_sentiment))\n",
    "datanew"
   ]
  },
  {
   "cell_type": "markdown",
   "id": "3e4dbd14",
   "metadata": {
    "id": "ed67ebe0",
    "papermill": {
     "duration": 0.026272,
     "end_time": "2021-11-13T11:37:55.032801",
     "exception": false,
     "start_time": "2021-11-13T11:37:55.006529",
     "status": "completed"
    },
    "tags": []
   },
   "source": [
    "### encode word"
   ]
  },
  {
   "cell_type": "code",
   "execution_count": 10,
   "id": "37a216a3",
   "metadata": {
    "execution": {
     "iopub.execute_input": "2021-11-13T11:37:55.096235Z",
     "iopub.status.busy": "2021-11-13T11:37:55.095426Z",
     "iopub.status.idle": "2021-11-13T11:37:55.097331Z",
     "shell.execute_reply": "2021-11-13T11:37:55.097765Z",
     "shell.execute_reply.started": "2021-11-11T08:45:53.747162Z"
    },
    "id": "106ee268",
    "papermill": {
     "duration": 0.038841,
     "end_time": "2021-11-13T11:37:55.097891",
     "exception": false,
     "start_time": "2021-11-13T11:37:55.059050",
     "status": "completed"
    },
    "tags": []
   },
   "outputs": [],
   "source": [
    "def create_dico(item_list):\n",
    "    \"\"\"\n",
    "    Create a dictionary of items from a list of list of items.\n",
    "    (item:count) pairs\n",
    "    \"\"\"\n",
    "    assert type(item_list) is list\n",
    "    dico = {}\n",
    "    for items in item_list:\n",
    "        for item in items:\n",
    "            if item not in dico:\n",
    "                dico[item] = 1\n",
    "            else:\n",
    "                dico[item] += 1\n",
    "    return dico\n",
    "\n",
    "def create_mapping(dico):\n",
    "    \"\"\"\n",
    "    Create a mapping (item to ID / ID to item) from a dictionary.\n",
    "    Items are ordered by decreasing frequency.\n",
    "    \"\"\"\n",
    "    sorted_items = sorted(dico.items(), key=lambda x: (-x[1], x[0]))\n",
    "    id_to_item = {i: v[0] for i, v in enumerate(sorted_items)}\n",
    "    item_to_id = {v: k for k, v in id_to_item.items()}\n",
    "    return item_to_id, id_to_item\n",
    "\n",
    "def word_mapping(sentences, lower):\n",
    "    \"\"\"\n",
    "    Create a dictionary and a mapping of words, sorted by frequency.\n",
    "    \n",
    "    return:\n",
    "    dico: dictionary of (word:frequency) pairs\n",
    "    word_to_id: dictionary of (word, id)\n",
    "    id_to_word: dictionary of (id, word)\n",
    "    \"\"\"\n",
    "    words = [[x.lower() if lower else x[0] for x in s] for s in sentences]\n",
    "    dico = create_dico(words)\n",
    "    dico['<UNK>'] = 10000000 #UNK tag for unknown words\n",
    "    word_to_id, id_to_word = create_mapping(dico)\n",
    "    print(\"Found %i unique words (%i in total)\" % (\n",
    "        len(dico), sum(len(x) for x in words)\n",
    "    ))\n",
    "    return dico, word_to_id, id_to_word"
   ]
  },
  {
   "cell_type": "code",
   "execution_count": 11,
   "id": "8e83b46b",
   "metadata": {
    "execution": {
     "iopub.execute_input": "2021-11-13T11:37:55.163331Z",
     "iopub.status.busy": "2021-11-13T11:37:55.162530Z",
     "iopub.status.idle": "2021-11-13T11:37:55.336630Z",
     "shell.execute_reply": "2021-11-13T11:37:55.337070Z",
     "shell.execute_reply.started": "2021-11-11T08:45:53.759347Z"
    },
    "id": "5bfc3888",
    "outputId": "0a48406b-5eb4-4424-f51c-2950d96f44a8",
    "papermill": {
     "duration": 0.21153,
     "end_time": "2021-11-13T11:37:55.337231",
     "exception": false,
     "start_time": "2021-11-13T11:37:55.125701",
     "status": "completed"
    },
    "tags": []
   },
   "outputs": [
    {
     "name": "stdout",
     "output_type": "stream",
     "text": [
      "[nltk_data] Downloading package punkt to /usr/share/nltk_data...\n",
      "[nltk_data]   Package punkt is already up-to-date!\n"
     ]
    },
    {
     "data": {
      "text/plain": [
       "True"
      ]
     },
     "execution_count": 11,
     "metadata": {},
     "output_type": "execute_result"
    }
   ],
   "source": [
    "import nltk\n",
    "nltk.download('punkt')"
   ]
  },
  {
   "cell_type": "code",
   "execution_count": 12,
   "id": "a500ebe2",
   "metadata": {
    "execution": {
     "iopub.execute_input": "2021-11-13T11:37:55.397985Z",
     "iopub.status.busy": "2021-11-13T11:37:55.397268Z",
     "iopub.status.idle": "2021-11-13T11:37:55.586569Z",
     "shell.execute_reply": "2021-11-13T11:37:55.586051Z",
     "shell.execute_reply.started": "2021-11-11T08:45:53.900373Z"
    },
    "id": "be4f3359",
    "papermill": {
     "duration": 0.221707,
     "end_time": "2021-11-13T11:37:55.586691",
     "exception": false,
     "start_time": "2021-11-13T11:37:55.364984",
     "status": "completed"
    },
    "tags": []
   },
   "outputs": [],
   "source": [
    "## tokenising sentences\n",
    "raw_content = datanew['tweet'].to_numpy()\n",
    "\n",
    "processed_docs = []\n",
    "for doc in raw_content:\n",
    "    tokens = word_tokenize(doc)\n",
    "#        filtered = [word for word in tokens if word not in stop_words]\n",
    "#        stemmed = [stemmer.stem(word) for word in filtered]\n",
    "    processed_docs.append(tokens)"
   ]
  },
  {
   "cell_type": "code",
   "execution_count": 13,
   "id": "aa117f42",
   "metadata": {
    "execution": {
     "iopub.execute_input": "2021-11-13T11:37:55.645744Z",
     "iopub.status.busy": "2021-11-13T11:37:55.644940Z",
     "iopub.status.idle": "2021-11-13T11:37:55.659281Z",
     "shell.execute_reply": "2021-11-13T11:37:55.658785Z",
     "shell.execute_reply.started": "2021-11-11T08:45:57.844923Z"
    },
    "id": "6ce5008d",
    "outputId": "b325159f-a3bf-4821-8fd4-8b1a0bf9f60b",
    "papermill": {
     "duration": 0.045152,
     "end_time": "2021-11-13T11:37:55.659394",
     "exception": false,
     "start_time": "2021-11-13T11:37:55.614242",
     "status": "completed"
    },
    "tags": []
   },
   "outputs": [
    {
     "name": "stdout",
     "output_type": "stream",
     "text": [
      "Found 2790 unique words (12393 in total)\n"
     ]
    }
   ],
   "source": [
    "dico_words,word_to_id,id_to_word = word_mapping(processed_docs, True)"
   ]
  },
  {
   "cell_type": "code",
   "execution_count": 14,
   "id": "e8ca1f09",
   "metadata": {
    "execution": {
     "iopub.execute_input": "2021-11-13T11:37:55.719075Z",
     "iopub.status.busy": "2021-11-13T11:37:55.718410Z",
     "iopub.status.idle": "2021-11-13T11:37:55.721028Z",
     "shell.execute_reply": "2021-11-13T11:37:55.720598Z",
     "shell.execute_reply.started": "2021-11-11T08:45:58.045378Z"
    },
    "id": "8d88f9bd",
    "papermill": {
     "duration": 0.033838,
     "end_time": "2021-11-13T11:37:55.721150",
     "exception": false,
     "start_time": "2021-11-13T11:37:55.687312",
     "status": "completed"
    },
    "tags": []
   },
   "outputs": [],
   "source": [
    "def lower_case(x,lower=False):\n",
    "    if lower:\n",
    "        return x.lower()  \n",
    "    else:\n",
    "        return x"
   ]
  },
  {
   "cell_type": "code",
   "execution_count": 15,
   "id": "360d0506",
   "metadata": {
    "execution": {
     "iopub.execute_input": "2021-11-13T11:37:55.780165Z",
     "iopub.status.busy": "2021-11-13T11:37:55.779390Z",
     "iopub.status.idle": "2021-11-13T11:37:55.794436Z",
     "shell.execute_reply": "2021-11-13T11:37:55.794890Z",
     "shell.execute_reply.started": "2021-11-11T08:45:58.055339Z"
    },
    "id": "9a46c214",
    "outputId": "e12bad00-1bf5-41a7-c1fd-aacadd62d028",
    "papermill": {
     "duration": 0.045816,
     "end_time": "2021-11-13T11:37:55.795041",
     "exception": false,
     "start_time": "2021-11-13T11:37:55.749225",
     "status": "completed"
    },
    "tags": []
   },
   "outputs": [
    {
     "name": "stdout",
     "output_type": "stream",
     "text": [
      "625 sentences\n"
     ]
    }
   ],
   "source": [
    "def prepare_dataset(sentences, word_to_id, lower=False):\n",
    "    \"\"\"\n",
    "    Prepare the dataset. Return a list of lists of dictionaries containing:\n",
    "        - word indexes\n",
    "        - word char indexes\n",
    "        - tag indexes\n",
    "    \"\"\"\n",
    "    data = []\n",
    "    for s in sentences:\n",
    "        str_words = [w for w in s]\n",
    "        words = [word_to_id[lower_case(w,lower) if lower_case(w,lower) in word_to_id else '<UNK>']\n",
    "                 for w in str_words]\n",
    "        data.append({\n",
    "            'str_words': str_words, #list of all words in the sentence\n",
    "            'words': words, #list of word index for all words in the sentence\n",
    "        })\n",
    "    return data\n",
    "\n",
    "data = prepare_dataset(\n",
    "    processed_docs, word_to_id, True\n",
    ")\n",
    "\n",
    "print(\"{} sentences\".format(len(data)))"
   ]
  },
  {
   "cell_type": "code",
   "execution_count": 16,
   "id": "e615d1a4",
   "metadata": {
    "execution": {
     "iopub.execute_input": "2021-11-13T11:37:55.858593Z",
     "iopub.status.busy": "2021-11-13T11:37:55.857845Z",
     "iopub.status.idle": "2021-11-13T11:39:06.156546Z",
     "shell.execute_reply": "2021-11-13T11:39:06.157047Z",
     "shell.execute_reply.started": "2021-11-11T08:45:58.511265Z"
    },
    "id": "85ff8971",
    "outputId": "5cefeeab-0ab0-4530-8632-ba9915f562a8",
    "papermill": {
     "duration": 70.334616,
     "end_time": "2021-11-13T11:39:06.157224",
     "exception": false,
     "start_time": "2021-11-13T11:37:55.822608",
     "status": "completed"
    },
    "scrolled": true,
    "tags": []
   },
   "outputs": [
    {
     "name": "stdout",
     "output_type": "stream",
     "text": [
      "Loaded 400000 pretrained embeddings.\n"
     ]
    }
   ],
   "source": [
    "all_word_embeds = {}\n",
    "for i, line in enumerate(codecs.open('../input/wassadata/glove.6B.300d.txt', 'r', 'utf-8')):\n",
    "    s = line.strip().split()\n",
    "    if len(s) == parameters['word_dim'] + 1:\n",
    "        all_word_embeds[s[0]] = np.array([float(i) for i in s[1:]])\n",
    "\n",
    "#Intializing Word Embedding Matrix\n",
    "word_embeds = np.random.uniform(-np.sqrt(0.06), np.sqrt(0.06), (len(word_to_id), parameters['word_dim']))\n",
    "\n",
    "for w in word_to_id:\n",
    "    if w in all_word_embeds:\n",
    "        word_embeds[word_to_id[w]] = all_word_embeds[w]\n",
    "    elif w.lower() in all_word_embeds:\n",
    "        word_embeds[word_to_id[w]] = all_word_embeds[w.lower()]\n",
    "\n",
    "print('Loaded %i pretrained embeddings.' % len(all_word_embeds))"
   ]
  },
  {
   "cell_type": "code",
   "execution_count": 17,
   "id": "b28d7543",
   "metadata": {
    "execution": {
     "iopub.execute_input": "2021-11-13T11:39:06.221171Z",
     "iopub.status.busy": "2021-11-13T11:39:06.220546Z",
     "iopub.status.idle": "2021-11-13T11:39:06.223604Z",
     "shell.execute_reply": "2021-11-13T11:39:06.224002Z",
     "shell.execute_reply.started": "2021-11-11T08:46:58.088603Z"
    },
    "id": "3f61c043",
    "papermill": {
     "duration": 0.039139,
     "end_time": "2021-11-13T11:39:06.224145",
     "exception": false,
     "start_time": "2021-11-13T11:39:06.185006",
     "status": "completed"
    },
    "tags": []
   },
   "outputs": [],
   "source": [
    "word_indices = [i['words'] for i in data]\n",
    "padded_indices = []\n",
    "for sent in word_indices:\n",
    "    padding_size = 110 - len(sent)\n",
    "    padded = sent + [0 for i in range(padding_size)]\n",
    "    padded_indices.append(padded)"
   ]
  },
  {
   "cell_type": "code",
   "execution_count": 18,
   "id": "e8eded31",
   "metadata": {
    "execution": {
     "iopub.execute_input": "2021-11-13T11:39:06.287328Z",
     "iopub.status.busy": "2021-11-13T11:39:06.286782Z",
     "iopub.status.idle": "2021-11-13T11:39:06.314032Z",
     "shell.execute_reply": "2021-11-13T11:39:06.314452Z",
     "shell.execute_reply.started": "2021-11-11T08:46:58.210055Z"
    },
    "id": "23b04934",
    "outputId": "4a5ba040-ae29-4115-a88c-5aa38bf95b51",
    "papermill": {
     "duration": 0.06302,
     "end_time": "2021-11-13T11:39:06.314577",
     "exception": false,
     "start_time": "2021-11-13T11:39:06.251557",
     "status": "completed"
    },
    "tags": []
   },
   "outputs": [
    {
     "data": {
      "text/html": [
       "<div>\n",
       "<style scoped>\n",
       "    .dataframe tbody tr th:only-of-type {\n",
       "        vertical-align: middle;\n",
       "    }\n",
       "\n",
       "    .dataframe tbody tr th {\n",
       "        vertical-align: top;\n",
       "    }\n",
       "\n",
       "    .dataframe thead th {\n",
       "        text-align: right;\n",
       "    }\n",
       "</style>\n",
       "<table border=\"1\" class=\"dataframe\">\n",
       "  <thead>\n",
       "    <tr style=\"text-align: right;\">\n",
       "      <th></th>\n",
       "      <th>index</th>\n",
       "      <th>padded_indices</th>\n",
       "      <th>onehot_sentiment</th>\n",
       "      <th>id</th>\n",
       "      <th>tweet</th>\n",
       "      <th>tweettype</th>\n",
       "      <th>score</th>\n",
       "    </tr>\n",
       "  </thead>\n",
       "  <tbody>\n",
       "    <tr>\n",
       "      <th>0</th>\n",
       "      <td>1</td>\n",
       "      <td>[75, 5, 762, 6, 108, 5, 792, 6, 516, 12, 760, ...</td>\n",
       "      <td>[1.0, 0.0, 0.0, 0.0]</td>\n",
       "      <td>10000</td>\n",
       "      <td>How the fu*k! Who the heck! moved my fridge!.....</td>\n",
       "      <td>anger</td>\n",
       "      <td>0.938</td>\n",
       "    </tr>\n",
       "    <tr>\n",
       "      <th>1</th>\n",
       "      <td>2</td>\n",
       "      <td>[18, 12, 383, 1017, 718, 28, 677, 172, 5, 236,...</td>\n",
       "      <td>[1.0, 0.0, 0.0, 0.0]</td>\n",
       "      <td>10001</td>\n",
       "      <td>So my Indian Uber driver just called someone t...</td>\n",
       "      <td>anger</td>\n",
       "      <td>0.896</td>\n",
       "    </tr>\n",
       "    <tr>\n",
       "      <th>2</th>\n",
       "      <td>3</td>\n",
       "      <td>[4, 1504, 2, 633, 19, 12, 2165, 7, 27, 368, 7,...</td>\n",
       "      <td>[1.0, 0.0, 0.0, 0.0]</td>\n",
       "      <td>10002</td>\n",
       "      <td>@DPD_UK I asked for my parcel to be delivered ...</td>\n",
       "      <td>anger</td>\n",
       "      <td>0.896</td>\n",
       "    </tr>\n",
       "    <tr>\n",
       "      <th>3</th>\n",
       "      <td>4</td>\n",
       "      <td>[18, 722, 1029, 674, 1035, 913, 5, 482, 620, 1...</td>\n",
       "      <td>[1.0, 0.0, 0.0, 0.0]</td>\n",
       "      <td>10003</td>\n",
       "      <td>so ef whichever butt wipe pulled the fire alar...</td>\n",
       "      <td>anger</td>\n",
       "      <td>0.896</td>\n",
       "    </tr>\n",
       "    <tr>\n",
       "      <th>4</th>\n",
       "      <td>5</td>\n",
       "      <td>[30, 21, 1864, 4, 1309, 132, 335, 5, 284, 135,...</td>\n",
       "      <td>[1.0, 0.0, 0.0, 0.0]</td>\n",
       "      <td>10004</td>\n",
       "      <td>Don't join @BTCare they put the phone down on ...</td>\n",
       "      <td>anger</td>\n",
       "      <td>0.896</td>\n",
       "    </tr>\n",
       "    <tr>\n",
       "      <th>...</th>\n",
       "      <td>...</td>\n",
       "      <td>...</td>\n",
       "      <td>...</td>\n",
       "      <td>...</td>\n",
       "      <td>...</td>\n",
       "      <td>...</td>\n",
       "      <td>...</td>\n",
       "    </tr>\n",
       "    <tr>\n",
       "      <th>3921</th>\n",
       "      <td>36</td>\n",
       "      <td>[16, 64, 45, 56, 118, 8, 180, 2017, 0, 0, 0, 0...</td>\n",
       "      <td>[0.0, 0.0, 0.0, 1.0]</td>\n",
       "      <td>40821</td>\n",
       "      <td>It feel like we lost a family member🙄😂</td>\n",
       "      <td>sadness</td>\n",
       "      <td>0.708</td>\n",
       "    </tr>\n",
       "    <tr>\n",
       "      <th>3922</th>\n",
       "      <td>37</td>\n",
       "      <td>[12, 87, 2656, 51, 37, 7, 2596, 0, 0, 0, 0, 0,...</td>\n",
       "      <td>[0.0, 0.0, 0.0, 1.0]</td>\n",
       "      <td>40822</td>\n",
       "      <td>My life went from happy to unhappy..</td>\n",
       "      <td>sadness</td>\n",
       "      <td>0.812</td>\n",
       "    </tr>\n",
       "    <tr>\n",
       "      <th>3946</th>\n",
       "      <td>61</td>\n",
       "      <td>[130, 13, 2459, 15, 1513, 1060, 0, 0, 0, 0, 0,...</td>\n",
       "      <td>[0.0, 0.0, 0.0, 1.0]</td>\n",
       "      <td>40846</td>\n",
       "      <td>Should of stayed in Dubai 😞</td>\n",
       "      <td>sadness</td>\n",
       "      <td>0.708</td>\n",
       "    </tr>\n",
       "    <tr>\n",
       "      <th>3955</th>\n",
       "      <td>70</td>\n",
       "      <td>[1373, 630, 28, 2271, 1953, 17, 49, 74, 2, 32,...</td>\n",
       "      <td>[0.0, 0.0, 0.0, 1.0]</td>\n",
       "      <td>40855</td>\n",
       "      <td>Common app just randomly logged me out as I wa...</td>\n",
       "      <td>sadness</td>\n",
       "      <td>0.833</td>\n",
       "    </tr>\n",
       "    <tr>\n",
       "      <th>3959</th>\n",
       "      <td>74</td>\n",
       "      <td>[4, 1887, 101, 75, 1464, 215, 9, 33, 82, 2212,...</td>\n",
       "      <td>[0.0, 0.0, 0.0, 1.0]</td>\n",
       "      <td>40859</td>\n",
       "      <td>@KeithOlbermann depressing how despicable Trum...</td>\n",
       "      <td>sadness</td>\n",
       "      <td>0.708</td>\n",
       "    </tr>\n",
       "  </tbody>\n",
       "</table>\n",
       "<p>625 rows × 7 columns</p>\n",
       "</div>"
      ],
      "text/plain": [
       "      index                                     padded_indices  \\\n",
       "0         1  [75, 5, 762, 6, 108, 5, 792, 6, 516, 12, 760, ...   \n",
       "1         2  [18, 12, 383, 1017, 718, 28, 677, 172, 5, 236,...   \n",
       "2         3  [4, 1504, 2, 633, 19, 12, 2165, 7, 27, 368, 7,...   \n",
       "3         4  [18, 722, 1029, 674, 1035, 913, 5, 482, 620, 1...   \n",
       "4         5  [30, 21, 1864, 4, 1309, 132, 335, 5, 284, 135,...   \n",
       "...     ...                                                ...   \n",
       "3921     36  [16, 64, 45, 56, 118, 8, 180, 2017, 0, 0, 0, 0...   \n",
       "3922     37  [12, 87, 2656, 51, 37, 7, 2596, 0, 0, 0, 0, 0,...   \n",
       "3946     61  [130, 13, 2459, 15, 1513, 1060, 0, 0, 0, 0, 0,...   \n",
       "3955     70  [1373, 630, 28, 2271, 1953, 17, 49, 74, 2, 32,...   \n",
       "3959     74  [4, 1887, 101, 75, 1464, 215, 9, 33, 82, 2212,...   \n",
       "\n",
       "          onehot_sentiment     id  \\\n",
       "0     [1.0, 0.0, 0.0, 0.0]  10000   \n",
       "1     [1.0, 0.0, 0.0, 0.0]  10001   \n",
       "2     [1.0, 0.0, 0.0, 0.0]  10002   \n",
       "3     [1.0, 0.0, 0.0, 0.0]  10003   \n",
       "4     [1.0, 0.0, 0.0, 0.0]  10004   \n",
       "...                    ...    ...   \n",
       "3921  [0.0, 0.0, 0.0, 1.0]  40821   \n",
       "3922  [0.0, 0.0, 0.0, 1.0]  40822   \n",
       "3946  [0.0, 0.0, 0.0, 1.0]  40846   \n",
       "3955  [0.0, 0.0, 0.0, 1.0]  40855   \n",
       "3959  [0.0, 0.0, 0.0, 1.0]  40859   \n",
       "\n",
       "                                                  tweet tweettype  score  \n",
       "0     How the fu*k! Who the heck! moved my fridge!.....     anger  0.938  \n",
       "1     So my Indian Uber driver just called someone t...     anger  0.896  \n",
       "2     @DPD_UK I asked for my parcel to be delivered ...     anger  0.896  \n",
       "3     so ef whichever butt wipe pulled the fire alar...     anger  0.896  \n",
       "4     Don't join @BTCare they put the phone down on ...     anger  0.896  \n",
       "...                                                 ...       ...    ...  \n",
       "3921             It feel like we lost a family member🙄😂   sadness  0.708  \n",
       "3922               My life went from happy to unhappy..   sadness  0.812  \n",
       "3946                        Should of stayed in Dubai 😞   sadness  0.708  \n",
       "3955  Common app just randomly logged me out as I wa...   sadness  0.833  \n",
       "3959  @KeithOlbermann depressing how despicable Trum...   sadness  0.708  \n",
       "\n",
       "[625 rows x 7 columns]"
      ]
     },
     "execution_count": 18,
     "metadata": {},
     "output_type": "execute_result"
    }
   ],
   "source": [
    "datanew.insert(1, \"padded_indices\", list(padded_indices))\n",
    "datanew"
   ]
  },
  {
   "cell_type": "code",
   "execution_count": 19,
   "id": "4b881be5",
   "metadata": {
    "execution": {
     "iopub.execute_input": "2021-11-13T11:39:06.376882Z",
     "iopub.status.busy": "2021-11-13T11:39:06.376308Z",
     "iopub.status.idle": "2021-11-13T11:39:06.382965Z",
     "shell.execute_reply": "2021-11-13T11:39:06.382516Z",
     "shell.execute_reply.started": "2021-11-11T08:46:58.362645Z"
    },
    "id": "804db8d5",
    "outputId": "7da30372-0d6d-4f74-a51b-b07425f86b56",
    "papermill": {
     "duration": 0.039749,
     "end_time": "2021-11-13T11:39:06.383078",
     "exception": false,
     "start_time": "2021-11-13T11:39:06.343329",
     "status": "completed"
    },
    "tags": []
   },
   "outputs": [
    {
     "name": "stdout",
     "output_type": "stream",
     "text": [
      "X train:  500 (500,)\n",
      "y train:  500 (500,)\n",
      "y test:  125 (125,)\n"
     ]
    }
   ],
   "source": [
    "from sklearn.model_selection import train_test_split\n",
    "X = datanew['padded_indices'].to_numpy()\n",
    "y = datanew['onehot_sentiment'].to_numpy()\n",
    "X_train, X_test, y_train, y_test = train_test_split(X, y, test_size=0.2, random_state=42)\n",
    "print(\"X train: \", len(X_train), X_train.shape)\n",
    "print(\"y train: \", len(y_train), y_train.shape)\n",
    "print(\"y test: \", len(y_test), y_test.shape)"
   ]
  },
  {
   "cell_type": "code",
   "execution_count": 20,
   "id": "0191c17e",
   "metadata": {
    "execution": {
     "iopub.execute_input": "2021-11-13T11:39:06.456055Z",
     "iopub.status.busy": "2021-11-13T11:39:06.455313Z",
     "iopub.status.idle": "2021-11-13T11:39:06.463864Z",
     "shell.execute_reply": "2021-11-13T11:39:06.464309Z",
     "shell.execute_reply.started": "2021-11-11T08:46:58.377256Z"
    },
    "id": "19899b01",
    "outputId": "b4eecfa3-2f83-4934-93d0-d87d9add4b1c",
    "papermill": {
     "duration": 0.053314,
     "end_time": "2021-11-13T11:39:06.464437",
     "exception": false,
     "start_time": "2021-11-13T11:39:06.411123",
     "status": "completed"
    },
    "tags": []
   },
   "outputs": [
    {
     "name": "stdout",
     "output_type": "stream",
     "text": [
      "(500, 110)\n",
      "(500, 4)\n",
      "(125, 110)\n",
      "(125, 4)\n"
     ]
    }
   ],
   "source": [
    "X_train = np.array([np.array(x) for x in X_train])\n",
    "y_train = np.array([np.array(x) for x in y_train])\n",
    "X_test = np.array([np.array(x) for x in X_test])\n",
    "y_test = np.array([np.array(x) for x in y_test])\n",
    "\n",
    "print(X_train.shape)\n",
    "print(y_train.shape)\n",
    "print(X_test.shape)\n",
    "print(y_test.shape)"
   ]
  },
  {
   "cell_type": "markdown",
   "id": "1c9f0422",
   "metadata": {
    "id": "ca5ac836",
    "papermill": {
     "duration": 0.029308,
     "end_time": "2021-11-13T11:39:06.522733",
     "exception": false,
     "start_time": "2021-11-13T11:39:06.493425",
     "status": "completed"
    },
    "tags": []
   },
   "source": [
    "### Zhou model"
   ]
  },
  {
   "cell_type": "code",
   "execution_count": 21,
   "id": "593e825c",
   "metadata": {
    "execution": {
     "iopub.execute_input": "2021-11-13T11:39:06.585181Z",
     "iopub.status.busy": "2021-11-13T11:39:06.584393Z",
     "iopub.status.idle": "2021-11-13T11:39:06.586758Z",
     "shell.execute_reply": "2021-11-13T11:39:06.586352Z",
     "shell.execute_reply.started": "2021-11-11T08:46:58.880177Z"
    },
    "id": "93168903",
    "papermill": {
     "duration": 0.034842,
     "end_time": "2021-11-13T11:39:06.586866",
     "exception": false,
     "start_time": "2021-11-13T11:39:06.552024",
     "status": "completed"
    },
    "tags": []
   },
   "outputs": [],
   "source": [
    "# so that dont have to rerun\n",
    "import tensorflow as tf\n",
    "tf.compat.v1.reset_default_graph()"
   ]
  },
  {
   "cell_type": "code",
   "execution_count": 22,
   "id": "f405c1a8",
   "metadata": {
    "execution": {
     "iopub.execute_input": "2021-11-13T11:39:06.650116Z",
     "iopub.status.busy": "2021-11-13T11:39:06.649404Z",
     "iopub.status.idle": "2021-11-13T11:39:17.302190Z",
     "shell.execute_reply": "2021-11-13T11:39:17.301261Z"
    },
    "papermill": {
     "duration": 10.685898,
     "end_time": "2021-11-13T11:39:17.302328",
     "exception": false,
     "start_time": "2021-11-13T11:39:06.616430",
     "status": "completed"
    },
    "tags": []
   },
   "outputs": [
    {
     "name": "stdout",
     "output_type": "stream",
     "text": [
      "Collecting keras_self_attention\r\n",
      "  Downloading keras-self-attention-0.50.0.tar.gz (12 kB)\r\n",
      "Requirement already satisfied: numpy in /opt/conda/lib/python3.7/site-packages (from keras_self_attention) (1.19.5)\r\n",
      "Requirement already satisfied: Keras in /opt/conda/lib/python3.7/site-packages (from keras_self_attention) (2.6.0)\r\n",
      "Building wheels for collected packages: keras-self-attention\r\n",
      "  Building wheel for keras-self-attention (setup.py) ... \u001b[?25l-\b \b\\\b \bdone\r\n",
      "\u001b[?25h  Created wheel for keras-self-attention: filename=keras_self_attention-0.50.0-py3-none-any.whl size=19414 sha256=aa8d59e951234094b55f5c170e46ba1cca15a273528fe324e8c9e9bb30237ea6\r\n",
      "  Stored in directory: /root/.cache/pip/wheels/92/7a/a3/231bef5803298e7ec1815215bc0613239cb1e9c03c57b13c14\r\n",
      "Successfully built keras-self-attention\r\n",
      "Installing collected packages: keras-self-attention\r\n",
      "Successfully installed keras-self-attention-0.50.0\r\n",
      "\u001b[33mWARNING: Running pip as the 'root' user can result in broken permissions and conflicting behaviour with the system package manager. It is recommended to use a virtual environment instead: https://pip.pypa.io/warnings/venv\u001b[0m\r\n"
     ]
    }
   ],
   "source": [
    "!pip install keras_self_attention"
   ]
  },
  {
   "cell_type": "code",
   "execution_count": 23,
   "id": "0233b5b0",
   "metadata": {
    "execution": {
     "iopub.execute_input": "2021-11-13T11:39:17.392962Z",
     "iopub.status.busy": "2021-11-13T11:39:17.392086Z",
     "iopub.status.idle": "2021-11-13T11:39:25.902907Z",
     "shell.execute_reply": "2021-11-13T11:39:25.902213Z",
     "shell.execute_reply.started": "2021-11-11T08:46:58.886647Z"
    },
    "id": "0a4fab29",
    "outputId": "2dd1fba3-4445-4e1e-93f8-09eb6a5f613b",
    "papermill": {
     "duration": 8.568379,
     "end_time": "2021-11-13T11:39:25.903055",
     "exception": false,
     "start_time": "2021-11-13T11:39:17.334676",
     "status": "completed"
    },
    "tags": []
   },
   "outputs": [
    {
     "name": "stderr",
     "output_type": "stream",
     "text": [
      "2021-11-13 11:39:17.597014: I tensorflow/stream_executor/cuda/cuda_gpu_executor.cc:937] successful NUMA node read from SysFS had negative value (-1), but there must be at least one NUMA node, so returning NUMA node zero\n",
      "2021-11-13 11:39:17.731104: I tensorflow/stream_executor/cuda/cuda_gpu_executor.cc:937] successful NUMA node read from SysFS had negative value (-1), but there must be at least one NUMA node, so returning NUMA node zero\n",
      "2021-11-13 11:39:17.731824: I tensorflow/stream_executor/cuda/cuda_gpu_executor.cc:937] successful NUMA node read from SysFS had negative value (-1), but there must be at least one NUMA node, so returning NUMA node zero\n",
      "2021-11-13 11:39:17.733391: I tensorflow/core/platform/cpu_feature_guard.cc:142] This TensorFlow binary is optimized with oneAPI Deep Neural Network Library (oneDNN) to use the following CPU instructions in performance-critical operations:  AVX2 AVX512F FMA\n",
      "To enable them in other operations, rebuild TensorFlow with the appropriate compiler flags.\n",
      "2021-11-13 11:39:17.734730: I tensorflow/stream_executor/cuda/cuda_gpu_executor.cc:937] successful NUMA node read from SysFS had negative value (-1), but there must be at least one NUMA node, so returning NUMA node zero\n",
      "2021-11-13 11:39:17.735449: I tensorflow/stream_executor/cuda/cuda_gpu_executor.cc:937] successful NUMA node read from SysFS had negative value (-1), but there must be at least one NUMA node, so returning NUMA node zero\n",
      "2021-11-13 11:39:17.736108: I tensorflow/stream_executor/cuda/cuda_gpu_executor.cc:937] successful NUMA node read from SysFS had negative value (-1), but there must be at least one NUMA node, so returning NUMA node zero\n",
      "2021-11-13 11:39:19.799436: I tensorflow/stream_executor/cuda/cuda_gpu_executor.cc:937] successful NUMA node read from SysFS had negative value (-1), but there must be at least one NUMA node, so returning NUMA node zero\n",
      "2021-11-13 11:39:19.800295: I tensorflow/stream_executor/cuda/cuda_gpu_executor.cc:937] successful NUMA node read from SysFS had negative value (-1), but there must be at least one NUMA node, so returning NUMA node zero\n",
      "2021-11-13 11:39:19.801042: I tensorflow/stream_executor/cuda/cuda_gpu_executor.cc:937] successful NUMA node read from SysFS had negative value (-1), but there must be at least one NUMA node, so returning NUMA node zero\n",
      "2021-11-13 11:39:19.801621: I tensorflow/core/common_runtime/gpu/gpu_device.cc:1510] Created device /job:localhost/replica:0/task:0/device:GPU:0 with 15403 MB memory:  -> device: 0, name: Tesla P100-PCIE-16GB, pci bus id: 0000:00:04.0, compute capability: 6.0\n",
      "/opt/conda/lib/python3.7/site-packages/keras/layers/legacy_rnn/rnn_cell_impl.py:901: UserWarning: `tf.nn.rnn_cell.LSTMCell` is deprecated and will be removed in a future version. This class is equivalent as `tf.keras.layers.LSTMCell`, and will be replaced by that in Tensorflow 2.0.\n",
      "  warnings.warn(\"`tf.nn.rnn_cell.LSTMCell` is deprecated and will be \"\n",
      "/opt/conda/lib/python3.7/site-packages/keras/engine/base_layer.py:2223: UserWarning: `layer.add_variable` is deprecated and will be removed in a future version. Please use `layer.add_weight` method instead.\n",
      "  warnings.warn('`layer.add_variable` is deprecated and '\n"
     ]
    },
    {
     "name": "stdout",
     "output_type": "stream",
     "text": [
      "(2, 10, 300)\n"
     ]
    },
    {
     "name": "stderr",
     "output_type": "stream",
     "text": [
      "2021-11-13 11:39:21.807663: I tensorflow/stream_executor/cuda/cuda_dnn.cc:369] Loaded cuDNN version 8005\n"
     ]
    },
    {
     "name": "stdout",
     "output_type": "stream",
     "text": [
      "embedding: (2, 10, 300)\n",
      "lstm: (2, 10, 300)\n",
      "conv: (2, 8, 298, 100)\n",
      "pooling: (2, 4, 149, 1, 1)\n",
      "flatten: (2, 596)\n"
     ]
    }
   ],
   "source": [
    "import tensorflow as tf\n",
    "from tensorflow.keras import layers\n",
    "import keras\n",
    "from keras_self_attention import SeqSelfAttention, SeqWeightedAttention\n",
    "\n",
    "\n",
    "class ZhouBLSTMCNNModel:\n",
    "\n",
    "    def __init__(self,\n",
    "        embedding,\n",
    "        em_drop_rate = 0.5,\n",
    "        lstm_units   = 300,\n",
    "        lstm_drop_rate = 0.5,\n",
    "        conv_size    = (3, 3),\n",
    "        conv_filters = 100,\n",
    "        pool_size    = (2, 2),\n",
    "        pool_drop_rate = 0.5):\n",
    "        '''Constructor.\n",
    "        # Parameters:\n",
    "        embedding: Numpy array representing the embedding.\n",
    "        em_drop_rate: Drop rate after the embedding layer.\n",
    "        lstm_units: Size of the internal states of the LSTM cells.\n",
    "        lstm_drop_rate: Drop rate after the lstm layer.\n",
    "        conv_size: Size of the convolutions.\n",
    "        conv_filters: Number of convolutions filters.\n",
    "        pool_size: Size for the max pooling layer.\n",
    "        pool_drop_rate: Drop rate of the max pooling layer.\n",
    "        '''\n",
    "        self._embedding      = embedding\n",
    "        self._em_drop_rate   = em_drop_rate\n",
    "        self._lstm_units     = lstm_units\n",
    "        self._lstm_drop_rate = lstm_drop_rate\n",
    "        self._conv_size      = conv_size\n",
    "        self._conv_filters   = conv_filters\n",
    "        self._pool_size      = pool_size\n",
    "        self._pool_drop_rate = pool_drop_rate\n",
    "\n",
    "    def __call__(self, input):\n",
    "        self._embedding_tf = self._create_embedding_layer(\n",
    "            self._em_drop_rate, self._embedding, input)\n",
    "\n",
    "        self._sequences_tf = self._create_blstm_layer(\n",
    "            self._lstm_units,\n",
    "            self._lstm_drop_rate,\n",
    "            self._embedding_tf)\n",
    "\n",
    "        self._convolution_tf = self._create_convolutional_layer(\n",
    "            self._conv_size,\n",
    "            self._conv_filters,\n",
    "            self._sequences_tf)\n",
    "        \n",
    "        self._pooling_tf = self._create_maxpooling_layer(\n",
    "            self._pool_size,\n",
    "            self._pool_drop_rate,\n",
    "            self._convolution_tf)\n",
    "\n",
    "        self._flatten_tf = self._create_flatten_layer(self._pooling_tf)\n",
    "\n",
    "        return self._flatten_tf\n",
    "\n",
    "    def summary(self):\n",
    "        print(\"embedding: \" + str(self._embedding_tf.shape))\n",
    "        print(\"lstm: \" + str(self._sequences_tf.shape))\n",
    "        print(\"conv: \" + str(self._convolution_tf.shape))\n",
    "        print(\"pooling: \" + str(self._pooling_tf.shape))\n",
    "        print(\"flatten: \" + str(self._flatten_tf.shape))\n",
    "\n",
    "    # this function converts each word from input_x into dense vector of dimension 300 (dimension depending on word2vec)\n",
    "    # embedding  = word_vector\n",
    "    def _create_embedding_layer(self, em_drop_rate, embedding, input_x):\n",
    "        embedding = tf.Variable(initial_value=embedding)\n",
    "\n",
    "        embedded_chars = tf.nn.embedding_lookup(  # lookup word_vector(embedding) by index (input_x)\n",
    "            embedding, tf.cast(input_x, 'int32'))\n",
    "\n",
    "        return tf.nn.dropout(embedded_chars, rate=em_drop_rate)\n",
    "\n",
    "    # bidirectional lstm layer\n",
    "    # \n",
    "    def _create_blstm_layer(self, lstm_units, lstm_drop_rate, embedding):\n",
    "        lstm_cell = tf.compat.v1.nn.rnn_cell.LSTMCell(lstm_units)\n",
    "        sequence = tf.unstack(embedding, axis=1) #embedded input words\n",
    "        \n",
    "        # hs, _, _ are outputs, output_state_fw, output_state_bw respectively\n",
    "        hs, _, _ = tf.compat.v1.nn.static_bidirectional_rnn(lstm_cell, lstm_cell, #forward and backward direction\n",
    "            sequence, #input\n",
    "            dtype=tf.float32)\n",
    "        \n",
    "        hs = tf.stack(\n",
    "            values=hs,\n",
    "            axis=1)\n",
    "        ss = tf.math.reduce_sum(\n",
    "            tf.reshape(hs, shape=[-1, hs.shape[1], 2, lstm_units]),\n",
    "            axis=2\n",
    "        )\n",
    "        \n",
    "        attn = SeqSelfAttention(attention_activation='sigmoid',attention_type=SeqSelfAttention.ATTENTION_TYPE_MUL)(ss)\n",
    "\n",
    "        return tf.nn.dropout(attn, rate=lstm_drop_rate)\n",
    "\n",
    "    def _create_convolutional_layer(self,\n",
    "        conv_size, num_filters, tensor):\n",
    "        \n",
    "        print(str(tensor.shape))\n",
    "\n",
    "        filter_heigth = conv_size[0]\n",
    "        filter_width  = conv_size[1]\n",
    "\n",
    "        filter_shape = [filter_heigth, filter_width,\n",
    "            1, num_filters]\n",
    "\n",
    "        W = tf.Variable(\n",
    "            initial_value=tf.random.truncated_normal(\n",
    "                shape=filter_shape,\n",
    "                stddev=0.1))\n",
    "        b = tf.Variable(\n",
    "            initial_value=tf.random.truncated_normal(\n",
    "                shape=[num_filters]))\n",
    "\n",
    "        tensor_expanded = tf.expand_dims(tensor, -1)\n",
    "        conv = tf.nn.conv2d(\n",
    "            input=tensor_expanded,\n",
    "            filters=W, #####filter to filters, idk if it changed stuff\n",
    "            strides=[1,1,1,1],\n",
    "            padding='VALID')\n",
    "\n",
    "        bias = tf.nn.bias_add(conv, b)\n",
    "        c = tf.nn.relu(bias)\n",
    "\n",
    "        return c\n",
    "\n",
    "    def _create_maxpooling_layer(self, size, pool_drop_rate, conv):\n",
    "        pooled = tf.nn.max_pool3d(\n",
    "            input=tf.expand_dims(conv, -1),\n",
    "            ksize=[1, size[0], size[1], conv.shape[3], 1],\n",
    "            strides=[1, size[0], size[1], conv.shape[3], 1],\n",
    "            padding='VALID')\n",
    "        \n",
    "        return tf.nn.dropout(pooled, rate=pool_drop_rate)\n",
    "\n",
    "    def _create_flatten_layer(self, tensor):\n",
    "        return tf.reshape(tensor, [-1, tensor.shape[1] * tensor.shape[2]])\n",
    "\n",
    "\n",
    "if __name__ == '__main__':\n",
    "    embedding_size  = 300\n",
    "    num_words       = 1000\n",
    "    sentence_length = 10\n",
    "\n",
    "    embedding = [\n",
    "        [float(i) for i in range(embedding_size)] for _ in range(num_words)\n",
    "    ]\n",
    "    data = [\n",
    "        [i     for i in range(sentence_length)],\n",
    "        [i + 1 for i in range(sentence_length)]\n",
    "    ]\n",
    "\n",
    "    model = ZhouBLSTMCNNModel(embedding)\n",
    "    model(data)\n",
    "    model.summary()"
   ]
  },
  {
   "cell_type": "code",
   "execution_count": 24,
   "id": "eb377c7f",
   "metadata": {
    "execution": {
     "iopub.execute_input": "2021-11-13T11:39:25.997993Z",
     "iopub.status.busy": "2021-11-13T11:39:25.997239Z",
     "iopub.status.idle": "2021-11-13T11:39:26.470995Z",
     "shell.execute_reply": "2021-11-13T11:39:26.469974Z",
     "shell.execute_reply.started": "2021-11-11T08:47:01.136525Z"
    },
    "id": "bab9483b",
    "papermill": {
     "duration": 0.535489,
     "end_time": "2021-11-13T11:39:26.471148",
     "exception": false,
     "start_time": "2021-11-13T11:39:25.935659",
     "status": "completed"
    },
    "tags": []
   },
   "outputs": [],
   "source": [
    "import tensorflow as tf\n",
    "from numba import jit, cuda\n",
    "\n",
    "class Classifier:\n",
    "\n",
    "    def __init__(self, model, input_length, output_length):\n",
    "        '''Constructor.\n",
    "        # Parameters:\n",
    "        input_length: sentence length (max number of words in sentence)\n",
    "        output_length: number of classes of sentiment\n",
    "        '''\n",
    "        self.model = model\n",
    "        self.input_length = input_length\n",
    "        self.output_length = output_length\n",
    "\n",
    "    def compile(self, batch_size=32):\n",
    "        tf.compat.v1.disable_eager_execution()\n",
    "        self._ds_x = tf.compat.v1.placeholder(tf.float32, [None, self.input_length])\n",
    "        self._ds_y = tf.compat.v1.placeholder(tf.float32, [None, self.output_length])\n",
    "\n",
    "        ds = tf.compat.v1.data.Dataset.from_tensor_slices((self._ds_x, self._ds_y))\n",
    "        ds = ds.batch(batch_size)\n",
    "\n",
    "        self._ds_it = ds.make_initializable_iterator()\n",
    "        self._input, self._labels = self._ds_it.get_next()\n",
    "\n",
    "        self._features = self.model(self._input)\n",
    "        self._output = _create_dense_layer(self._features, self.output_length)\n",
    "\n",
    "        self._create_acc_computations()\n",
    "        self._create_backpropagation()\n",
    "\n",
    "        self._session = tf.compat.v1.Session()\n",
    "        self._session.run(tf.compat.v1.global_variables_initializer())\n",
    "        self._session.run(tf.compat.v1.local_variables_initializer())\n",
    "\n",
    "    def _create_acc_computations(self):\n",
    "        self._predictions = tf.argmax(self._output, 1)\n",
    "        labels = tf.argmax(self._labels, 1)\n",
    "        self._accuracy = tf.reduce_mean(\n",
    "            tf.cast(tf.equal(self._predictions, labels), 'float32'))\n",
    "\n",
    "    def _create_backpropagation(self):\n",
    "        losses = tf.compat.v1.nn.softmax_cross_entropy_with_logits_v2(\n",
    "            logits=self._output,\n",
    "            labels=self._labels)\n",
    "        self._loss = tf.reduce_mean(losses)\n",
    "\n",
    "        optimizer = tf.compat.v1.train.AdamOptimizer(0.001)\n",
    "        global_step = tf.Variable(0, name=\"global_step\", trainable=False)\n",
    "        grads_and_vars = optimizer.compute_gradients(self._loss)\n",
    "\n",
    "        self._train_op = optimizer.apply_gradients(\n",
    "            grads_and_vars, global_step=global_step)\n",
    "\n",
    "    def summary(self):\n",
    "        print('input:', self._input.shape)\n",
    "        self.model.summary()\n",
    "        print('output:', self._output.shape)\n",
    "\n",
    "#     @jit(target =\"cuda\")  \n",
    "    def train(self, X_train, y_train, X_eval, y_eval, epochs=10):\n",
    "        import time\n",
    "        start_train = time.time()\n",
    "        losslist = []\n",
    "        acclist = []\n",
    "        val_losslist = []\n",
    "        val_acclist =[]\n",
    "        for e in range(epochs):\n",
    "            start_time = time.time()\n",
    "            loss, acc = self._train(X_train, y_train)\n",
    "            losslist.append(loss)\n",
    "            acclist.append(acc)\n",
    "            duration = time.time() - start_time\n",
    "\n",
    "            val_loss, val_acc = self._eval(X_eval, y_eval)\n",
    "            val_losslist.append(val_loss)\n",
    "            val_acclist.append(val_acc)\n",
    "            \n",
    "            output = 'Epoch: {}, loss = {:.4f}, acc = {:.4f}, val_loss = {:.4f}, val_acc = {:.4f}, Time = {:.2f}s'\n",
    "            print(output.format(e + 1, loss, acc, val_loss, val_acc, duration))\n",
    "        \n",
    "        total_duration = time.time() - start_train\n",
    "        return losslist, acclist, val_losslist, val_acclist, total_duration\n",
    "\n",
    "#     @jit(target =\"cuda\")  \n",
    "    def _train(self, X_train, y_train):\n",
    "        import numpy as np\n",
    "\n",
    "        self._session.run(\n",
    "            fetches=self._ds_it.initializer,\n",
    "            feed_dict={\n",
    "                self._ds_x: X_train,\n",
    "                self._ds_y: y_train\n",
    "            })\n",
    "        loss, acc, = [], []\n",
    "        while True:\n",
    "            try:\n",
    "                _, vloss, vacc = self._session.run(\n",
    "                    fetches=[self._train_op, self._loss, self._accuracy])\n",
    "\n",
    "                loss.append(vloss)\n",
    "                acc.append(vacc)\n",
    "            except tf.errors.OutOfRangeError:\n",
    "                break\n",
    "        # endwhile\n",
    "\n",
    "        loss, acc = np.mean(loss), np.mean(acc)\n",
    "        return loss, acc\n",
    "\n",
    "    def _eval(self, X_val, y_val):\n",
    "        self._session.run(\n",
    "            fetches=self._ds_it.initializer,\n",
    "            feed_dict={\n",
    "                self._ds_x: X_val,\n",
    "                self._ds_y: y_val\n",
    "            })\n",
    "\n",
    "        loss, acc, = 0, 0\n",
    "        while True:\n",
    "            try:\n",
    "                l, vloss, vacc = self._session.run(\n",
    "                    fetches=[self._labels, self._loss, self._accuracy])\n",
    "\n",
    "                loss += vloss * len(l)\n",
    "                acc += vacc * len(l)\n",
    "            except tf.errors.OutOfRangeError:\n",
    "                break\n",
    "\n",
    "        return loss / len(X_val), acc / len(X_val)\n",
    "\n",
    "    def predict(self, X):\n",
    "        import numpy as np\n",
    "\n",
    "        self._session.run(self._ds_it.initializer,\n",
    "                         feed_dict={\n",
    "                             self._ds_x: X,\n",
    "                             self._ds_y: np.empty((len(X), self.output_length))\n",
    "                         }\n",
    "                         )\n",
    "\n",
    "        pred = list()\n",
    "        while True:\n",
    "            try:\n",
    "                ppred = self._session.run(tf.nn.softmax(self._output))\n",
    "\n",
    "                pred.extend(map(lambda l: l.tolist(), ppred))\n",
    "            except tf.errors.OutOfRangeError:\n",
    "                break\n",
    "\n",
    "        return pred\n",
    "\n",
    "def _create_dense_layer(x, output_length):\n",
    "    '''Creates a dense layer\n",
    "    '''\n",
    "    input_size = x.shape[1] #.value\n",
    "    W = tf.Variable(\n",
    "        initial_value=tf.random.truncated_normal(\n",
    "            shape=[input_size, output_length],\n",
    "            stddev=0.1))\n",
    "    b = tf.Variable(\n",
    "        initial_value=tf.random.truncated_normal(\n",
    "            shape=[output_length]))\n",
    "\n",
    "    dense = tf.compat.v1.nn.xw_plus_b(x, W, b)\n",
    "\n",
    "    return dense\n",
    "\n",
    "\n",
    "if __name__ == '__main__':\n",
    "    pass"
   ]
  },
  {
   "cell_type": "code",
   "execution_count": 25,
   "id": "1d7171f1",
   "metadata": {
    "execution": {
     "iopub.execute_input": "2021-11-13T11:39:26.595747Z",
     "iopub.status.busy": "2021-11-13T11:39:26.594783Z",
     "iopub.status.idle": "2021-11-13T11:41:21.708236Z",
     "shell.execute_reply": "2021-11-13T11:41:21.708644Z",
     "shell.execute_reply.started": "2021-11-11T08:47:01.336617Z"
    },
    "id": "1af96586",
    "outputId": "ea5d6e79-918f-485b-b156-93555a4a3d5b",
    "papermill": {
     "duration": 115.202255,
     "end_time": "2021-11-13T11:41:21.708817",
     "exception": false,
     "start_time": "2021-11-13T11:39:26.506562",
     "status": "completed"
    },
    "tags": []
   },
   "outputs": [
    {
     "name": "stderr",
     "output_type": "stream",
     "text": [
      "/opt/conda/lib/python3.7/site-packages/keras/engine/base_layer_v1.py:1684: UserWarning: `layer.add_variable` is deprecated and will be removed in a future version. Please use `layer.add_weight` method instead.\n",
      "  warnings.warn('`layer.add_variable` is deprecated and '\n"
     ]
    },
    {
     "name": "stdout",
     "output_type": "stream",
     "text": [
      "(None, 110, 300)\n"
     ]
    },
    {
     "name": "stderr",
     "output_type": "stream",
     "text": [
      "2021-11-13 11:39:38.668107: I tensorflow/stream_executor/cuda/cuda_gpu_executor.cc:937] successful NUMA node read from SysFS had negative value (-1), but there must be at least one NUMA node, so returning NUMA node zero\n",
      "2021-11-13 11:39:38.668997: I tensorflow/stream_executor/cuda/cuda_gpu_executor.cc:937] successful NUMA node read from SysFS had negative value (-1), but there must be at least one NUMA node, so returning NUMA node zero\n",
      "2021-11-13 11:39:38.669627: I tensorflow/stream_executor/cuda/cuda_gpu_executor.cc:937] successful NUMA node read from SysFS had negative value (-1), but there must be at least one NUMA node, so returning NUMA node zero\n",
      "2021-11-13 11:39:38.670235: I tensorflow/stream_executor/cuda/cuda_gpu_executor.cc:937] successful NUMA node read from SysFS had negative value (-1), but there must be at least one NUMA node, so returning NUMA node zero\n",
      "2021-11-13 11:39:38.670788: I tensorflow/stream_executor/cuda/cuda_gpu_executor.cc:937] successful NUMA node read from SysFS had negative value (-1), but there must be at least one NUMA node, so returning NUMA node zero\n",
      "2021-11-13 11:39:38.671238: I tensorflow/core/common_runtime/gpu/gpu_device.cc:1510] Created device /job:localhost/replica:0/task:0/device:GPU:0 with 15403 MB memory:  -> device: 0, name: Tesla P100-PCIE-16GB, pci bus id: 0000:00:04.0, compute capability: 6.0\n"
     ]
    },
    {
     "name": "stdout",
     "output_type": "stream",
     "text": [
      "input: (None, 110)\n",
      "embedding: (None, 110, 300)\n",
      "lstm: (None, 110, 300)\n",
      "conv: (None, 108, 298, 100)\n",
      "pooling: (None, 54, 149, 1, 1)\n",
      "flatten: (None, 8046)\n",
      "output: (None, 4)\n",
      "Epoch: 1, loss = 19.8364, acc = 0.2580, val_loss = 16.6007, val_acc = 0.2160, Time = 16.61s\n",
      "Epoch: 2, loss = 18.7044, acc = 0.2520, val_loss = 19.6212, val_acc = 0.1760, Time = 3.90s\n",
      "Epoch: 3, loss = 16.6184, acc = 0.2560, val_loss = 21.0507, val_acc = 0.1920, Time = 3.81s\n",
      "Epoch: 4, loss = 14.8118, acc = 0.2860, val_loss = 16.0463, val_acc = 0.2480, Time = 3.63s\n",
      "Epoch: 5, loss = 13.6960, acc = 0.2880, val_loss = 13.8647, val_acc = 0.2320, Time = 3.84s\n",
      "Epoch: 6, loss = 10.9478, acc = 0.3540, val_loss = 14.1623, val_acc = 0.3120, Time = 3.96s\n",
      "Epoch: 7, loss = 11.0320, acc = 0.3900, val_loss = 13.6504, val_acc = 0.3280, Time = 3.62s\n",
      "Epoch: 8, loss = 8.5008, acc = 0.4560, val_loss = 12.6867, val_acc = 0.2880, Time = 4.12s\n",
      "Epoch: 9, loss = 7.7147, acc = 0.4680, val_loss = 6.8912, val_acc = 0.5200, Time = 3.70s\n",
      "Epoch: 10, loss = 5.6817, acc = 0.5560, val_loss = 6.1508, val_acc = 0.5600, Time = 3.85s\n",
      "Epoch: 11, loss = 5.5981, acc = 0.6200, val_loss = 6.2244, val_acc = 0.5680, Time = 3.67s\n",
      "Epoch: 12, loss = 4.0896, acc = 0.6860, val_loss = 6.9739, val_acc = 0.5840, Time = 3.64s\n",
      "Epoch: 13, loss = 3.6309, acc = 0.7280, val_loss = 5.8985, val_acc = 0.5920, Time = 4.15s\n",
      "Epoch: 14, loss = 2.2556, acc = 0.7780, val_loss = 6.5567, val_acc = 0.6480, Time = 3.62s\n",
      "Epoch: 15, loss = 1.3207, acc = 0.8960, val_loss = 6.5331, val_acc = 0.6960, Time = 3.61s\n",
      "Epoch: 16, loss = 1.3154, acc = 0.8820, val_loss = 5.7405, val_acc = 0.6960, Time = 3.84s\n",
      "Epoch: 17, loss = 0.7762, acc = 0.9300, val_loss = 2.1269, val_acc = 0.7840, Time = 3.64s\n",
      "Epoch: 18, loss = 0.4199, acc = 0.9480, val_loss = 4.1040, val_acc = 0.7520, Time = 3.84s\n",
      "Epoch: 19, loss = 0.6396, acc = 0.9400, val_loss = 3.1295, val_acc = 0.8160, Time = 3.61s\n",
      "Epoch: 20, loss = 0.3540, acc = 0.9640, val_loss = 4.0795, val_acc = 0.7760, Time = 3.57s\n",
      "total time taken:  97.78427696228027\n",
      "Predictions: [[1.5407488985500861e-18, 7.969342571466587e-18, 2.655355385304097e-21, 1.0], [2.2395200453763538e-14, 4.4668501676317855e-18, 1.1897953345545324e-17, 1.0]]\n",
      "Real: [[0. 0. 0. 1.]\n",
      " [0. 0. 0. 1.]]\n"
     ]
    }
   ],
   "source": [
    "import pickle\n",
    "import numpy as np\n",
    "import sys\n",
    "# from fen.classifier import Classifier\n",
    "# from fen.pzhou_tf import ZhouBLSTMCNNModel\n",
    "\n",
    "if __name__ == '__main__':\n",
    "\n",
    "#     (X_train, y_train), (X_eval, y_eval) = (X_train, y_train), (X_test, y_test)\n",
    "\n",
    "    word_vector = word_embeds\n",
    "    word_vector = word_vector.astype('float32')\n",
    "    \n",
    "    sentence_length = X_train[0].shape[0] # sentence length = 37 -- if less than 37, remaining is 0\n",
    "    num_classes = y_train[0].shape[0] # 6 sentiment classes\n",
    "\n",
    "#     with tf.device('/device:GPU:0'):\n",
    "    model = ZhouBLSTMCNNModel(embedding=word_vector) #pass in word_vector as lookup table\n",
    "\n",
    "    classifier = Classifier(\n",
    "        model=model,\n",
    "        input_length=sentence_length,\n",
    "        output_length=num_classes)\n",
    "\n",
    "    classifier.compile(batch_size=10)\n",
    "    classifier.summary()\n",
    "    loss, acc, val_loss, val_acc, duration = classifier.train(\n",
    "        X_train=X_train,\n",
    "        y_train=y_train,\n",
    "        X_eval=X_test,\n",
    "        y_eval=y_test,\n",
    "        epochs=20\n",
    "    )\n",
    "\n",
    "    print(\"total time taken: \", duration)\n",
    "    print(\"Predictions:\", classifier.predict(X_train[0:2]))\n",
    "    print(\"Real:\", y_train[0:2])"
   ]
  },
  {
   "cell_type": "code",
   "execution_count": 26,
   "id": "2868496e",
   "metadata": {
    "execution": {
     "iopub.execute_input": "2021-11-13T11:41:21.808956Z",
     "iopub.status.busy": "2021-11-13T11:41:21.790668Z",
     "iopub.status.idle": "2021-11-13T11:41:22.014631Z",
     "shell.execute_reply": "2021-11-13T11:41:22.013627Z",
     "shell.execute_reply.started": "2021-11-11T09:52:41.678475Z"
    },
    "id": "5eda7b01",
    "outputId": "7d4312db-ffce-4ea0-93eb-e981212cdf17",
    "papermill": {
     "duration": 0.264871,
     "end_time": "2021-11-13T11:41:22.014757",
     "exception": false,
     "start_time": "2021-11-13T11:41:21.749886",
     "status": "completed"
    },
    "tags": []
   },
   "outputs": [
    {
     "data": {
      "image/png": "[encoded data removed]",
      "text/plain": [
       "<Figure size 432x288 with 1 Axes>"
      ]
     },
     "metadata": {
      "needs_background": "light"
     },
     "output_type": "display_data"
    }
   ],
   "source": [
    "epochslist = [i for i in range(0,20)]\n",
    "plt.plot(epochslist, loss)\n",
    "plt.title('training loss')\n",
    "plt.xlabel('epochs')\n",
    "plt.ylabel('training loss')\n",
    "plt.show()"
   ]
  },
  {
   "cell_type": "code",
   "execution_count": 27,
   "id": "4c4436af",
   "metadata": {
    "execution": {
     "iopub.execute_input": "2021-11-13T11:41:22.117790Z",
     "iopub.status.busy": "2021-11-13T11:41:22.116879Z",
     "iopub.status.idle": "2021-11-13T11:41:22.289620Z",
     "shell.execute_reply": "2021-11-13T11:41:22.290028Z",
     "shell.execute_reply.started": "2021-11-11T09:52:46.362674Z"
    },
    "id": "2d6cad14",
    "outputId": "e0d7bcb3-ad14-4c3c-ccfc-00a95dbfc141",
    "papermill": {
     "duration": 0.23452,
     "end_time": "2021-11-13T11:41:22.290190",
     "exception": false,
     "start_time": "2021-11-13T11:41:22.055670",
     "status": "completed"
    },
    "tags": []
   },
   "outputs": [
    {
     "data": {
      "image/png": "[encoded data removed]",
      "text/plain": [
       "<Figure size 432x288 with 1 Axes>"
      ]
     },
     "metadata": {
      "needs_background": "light"
     },
     "output_type": "display_data"
    }
   ],
   "source": [
    "plt.plot(epochslist, acc)\n",
    "plt.title('training acc')\n",
    "plt.xlabel('epochs')\n",
    "plt.ylabel('training acc')\n",
    "plt.show()"
   ]
  },
  {
   "cell_type": "code",
   "execution_count": 28,
   "id": "ea5212a0",
   "metadata": {
    "execution": {
     "iopub.execute_input": "2021-11-13T11:41:22.399354Z",
     "iopub.status.busy": "2021-11-13T11:41:22.398382Z",
     "iopub.status.idle": "2021-11-13T11:41:22.572710Z",
     "shell.execute_reply": "2021-11-13T11:41:22.573111Z",
     "shell.execute_reply.started": "2021-11-11T09:52:50.096413Z"
    },
    "id": "f7de6f22",
    "outputId": "aaad2fa9-2fd1-4a07-e8be-79cf74afe187",
    "papermill": {
     "duration": 0.241833,
     "end_time": "2021-11-13T11:41:22.573259",
     "exception": false,
     "start_time": "2021-11-13T11:41:22.331426",
     "status": "completed"
    },
    "tags": []
   },
   "outputs": [
    {
     "data": {
      "image/png": "[encoded data removed]",
      "text/plain": [
       "<Figure size 432x288 with 1 Axes>"
      ]
     },
     "metadata": {
      "needs_background": "light"
     },
     "output_type": "display_data"
    }
   ],
   "source": [
    "plt.plot(epochslist, val_loss)\n",
    "plt.title('validation loss')\n",
    "plt.xlabel('epochs')\n",
    "plt.ylabel('validation loss')\n",
    "plt.show()"
   ]
  },
  {
   "cell_type": "code",
   "execution_count": 29,
   "id": "b0ce9dc6",
   "metadata": {
    "execution": {
     "iopub.execute_input": "2021-11-13T11:41:22.701178Z",
     "iopub.status.busy": "2021-11-13T11:41:22.676806Z",
     "iopub.status.idle": "2021-11-13T11:41:22.855868Z",
     "shell.execute_reply": "2021-11-13T11:41:22.856453Z",
     "shell.execute_reply.started": "2021-11-11T09:52:56.746409Z"
    },
    "id": "2fb18248",
    "outputId": "2926a2cf-836c-4ac0-c4c2-eaf678720a6a",
    "papermill": {
     "duration": 0.242102,
     "end_time": "2021-11-13T11:41:22.856635",
     "exception": false,
     "start_time": "2021-11-13T11:41:22.614533",
     "status": "completed"
    },
    "tags": []
   },
   "outputs": [
    {
     "data": {
      "image/png": "[encoded data removed]",
      "text/plain": [
       "<Figure size 432x288 with 1 Axes>"
      ]
     },
     "metadata": {
      "needs_background": "light"
     },
     "output_type": "display_data"
    }
   ],
   "source": [
    "plt.plot(epochslist, val_acc)\n",
    "plt.title('validation acc')\n",
    "plt.xlabel('epochs')\n",
    "plt.ylabel('validation acc')\n",
    "plt.show()"
   ]
  },
  {
   "cell_type": "code",
   "execution_count": 30,
   "id": "9feaed34",
   "metadata": {
    "execution": {
     "iopub.execute_input": "2021-11-13T11:41:22.953680Z",
     "iopub.status.busy": "2021-11-13T11:41:22.953148Z",
     "iopub.status.idle": "2021-11-13T11:41:22.959256Z",
     "shell.execute_reply": "2021-11-13T11:41:22.959700Z",
     "shell.execute_reply.started": "2021-11-11T09:37:13.111276Z"
    },
    "id": "4707f28b",
    "outputId": "e11e4e95-500a-4e6a-d6aa-0e8c37c0641e",
    "papermill": {
     "duration": 0.057853,
     "end_time": "2021-11-13T11:41:22.959827",
     "exception": false,
     "start_time": "2021-11-13T11:41:22.901974",
     "status": "completed"
    },
    "tags": []
   },
   "outputs": [
    {
     "name": "stdout",
     "output_type": "stream",
     "text": [
      "/device:GPU:0\n"
     ]
    },
    {
     "name": "stderr",
     "output_type": "stream",
     "text": [
      "2021-11-13 11:41:22.949185: I tensorflow/stream_executor/cuda/cuda_gpu_executor.cc:937] successful NUMA node read from SysFS had negative value (-1), but there must be at least one NUMA node, so returning NUMA node zero\n",
      "2021-11-13 11:41:22.949756: I tensorflow/stream_executor/cuda/cuda_gpu_executor.cc:937] successful NUMA node read from SysFS had negative value (-1), but there must be at least one NUMA node, so returning NUMA node zero\n",
      "2021-11-13 11:41:22.950138: I tensorflow/stream_executor/cuda/cuda_gpu_executor.cc:937] successful NUMA node read from SysFS had negative value (-1), but there must be at least one NUMA node, so returning NUMA node zero\n",
      "2021-11-13 11:41:22.950540: I tensorflow/stream_executor/cuda/cuda_gpu_executor.cc:937] successful NUMA node read from SysFS had negative value (-1), but there must be at least one NUMA node, so returning NUMA node zero\n",
      "2021-11-13 11:41:22.950883: I tensorflow/stream_executor/cuda/cuda_gpu_executor.cc:937] successful NUMA node read from SysFS had negative value (-1), but there must be at least one NUMA node, so returning NUMA node zero\n",
      "2021-11-13 11:41:22.951211: I tensorflow/core/common_runtime/gpu/gpu_device.cc:1510] Created device /device:GPU:0 with 15403 MB memory:  -> device: 0, name: Tesla P100-PCIE-16GB, pci bus id: 0000:00:04.0, compute capability: 6.0\n"
     ]
    }
   ],
   "source": [
    "device_name = tf.test.gpu_device_name()\n",
    "print(device_name)"
   ]
  },
  {
   "cell_type": "markdown",
   "id": "6a2e24ba",
   "metadata": {
    "id": "a5458bdc",
    "papermill": {
     "duration": 0.043624,
     "end_time": "2021-11-13T11:41:23.046422",
     "exception": false,
     "start_time": "2021-11-13T11:41:23.002798",
     "status": "completed"
    },
    "tags": []
   },
   "source": [
    "### testing"
   ]
  },
  {
   "cell_type": "code",
   "execution_count": 31,
   "id": "cc426a7f",
   "metadata": {
    "execution": {
     "iopub.execute_input": "2021-11-13T11:41:23.139681Z",
     "iopub.status.busy": "2021-11-13T11:41:23.138108Z",
     "iopub.status.idle": "2021-11-13T11:41:23.141587Z",
     "shell.execute_reply": "2021-11-13T11:41:23.141135Z",
     "shell.execute_reply.started": "2021-11-11T09:37:13.113149Z"
    },
    "id": "89c1a317",
    "outputId": "7a0df883-99f4-4840-b3ed-8e2f069e2719",
    "papermill": {
     "duration": 0.052234,
     "end_time": "2021-11-13T11:41:23.141714",
     "exception": false,
     "start_time": "2021-11-13T11:41:23.089480",
     "status": "completed"
    },
    "tags": []
   },
   "outputs": [
    {
     "name": "stdout",
     "output_type": "stream",
     "text": [
      "Num GPUs Available:  1\n"
     ]
    }
   ],
   "source": [
    "print(\"Num GPUs Available: \", len(tf.config.list_physical_devices('GPU')))"
   ]
  }
 ],
 "metadata": {
  "kernelspec": {
   "display_name": "Python 3",
   "language": "python",
   "name": "python3"
  },
  "language_info": {
   "codemirror_mode": {
    "name": "ipython",
    "version": 3
   },
   "file_extension": ".py",
   "mimetype": "text/x-python",
   "name": "python",
   "nbconvert_exporter": "python",
   "pygments_lexer": "ipython3",
   "version": "3.7.10"
  },
  "papermill": {
   "default_parameters": {},
   "duration": 225.516651,
   "end_time": "2021-11-13T11:41:26.246874",
   "environment_variables": {},
   "exception": null,
   "input_path": "__notebook__.ipynb",
   "output_path": "__notebook__.ipynb",
   "parameters": {},
   "start_time": "2021-11-13T11:37:40.730223",
   "version": "2.3.3"
  }
 },
 "nbformat": 4,
 "nbformat_minor": 5
}
