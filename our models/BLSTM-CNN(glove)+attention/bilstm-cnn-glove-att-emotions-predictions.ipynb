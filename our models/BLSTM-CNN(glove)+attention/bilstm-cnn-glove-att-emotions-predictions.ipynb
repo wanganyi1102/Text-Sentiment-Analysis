{
 "cells": [
  {
   "cell_type": "code",
   "execution_count": 1,
   "id": "45096168",
   "metadata": {
    "execution": {
     "iopub.execute_input": "2021-11-14T16:59:37.488751Z",
     "iopub.status.busy": "2021-11-14T16:59:37.488013Z",
     "iopub.status.idle": "2021-11-14T16:59:43.987426Z",
     "shell.execute_reply": "2021-11-14T16:59:43.986390Z",
     "shell.execute_reply.started": "2021-11-12T08:10:52.715396Z"
    },
    "id": "e75ddd0a",
    "papermill": {
     "duration": 6.534788,
     "end_time": "2021-11-14T16:59:43.987602",
     "exception": false,
     "start_time": "2021-11-14T16:59:37.452814",
     "status": "completed"
    },
    "tags": []
   },
   "outputs": [],
   "source": [
    "import numpy as np\n",
    "import pandas as pd\n",
    "\n",
    "from gensim import corpora\n",
    "from nltk.corpus import stopwords\n",
    "from nltk.tokenize import word_tokenize \n",
    "from nltk.stem import SnowballStemmer\n",
    "\n",
    "from keras.preprocessing import sequence\n",
    "from keras.utils import np_utils\n",
    "from keras.models import Sequential\n",
    "from keras.layers import Dense, Dropout, Activation, Embedding\n",
    "from keras.layers import LSTM\n",
    "from sklearn import preprocessing\n",
    "from sklearn.metrics import (precision_score, recall_score,\n",
    "                             f1_score, accuracy_score,mean_squared_error,mean_absolute_error)\n",
    "np.random.seed(0)\n",
    "from tensorflow.keras.optimizers import RMSprop\n",
    "from keras import callbacks\n",
    "from keras.callbacks import ModelCheckpoint, EarlyStopping, ReduceLROnPlateau, CSVLogger"
   ]
  },
  {
   "cell_type": "markdown",
   "id": "cb6e8f5c",
   "metadata": {
    "id": "07ae1ceb",
    "papermill": {
     "duration": 0.022209,
     "end_time": "2021-11-14T16:59:44.034878",
     "exception": false,
     "start_time": "2021-11-14T16:59:44.012669",
     "status": "completed"
    },
    "tags": []
   },
   "source": [
    "### word2vec"
   ]
  },
  {
   "cell_type": "code",
   "execution_count": 2,
   "id": "e7961477",
   "metadata": {
    "execution": {
     "iopub.execute_input": "2021-11-14T16:59:44.084904Z",
     "iopub.status.busy": "2021-11-14T16:59:44.084133Z",
     "iopub.status.idle": "2021-11-14T16:59:44.086652Z",
     "shell.execute_reply": "2021-11-14T16:59:44.086234Z",
     "shell.execute_reply.started": "2021-11-12T08:11:00.408398Z"
    },
    "id": "d10b7218",
    "papermill": {
     "duration": 0.029501,
     "end_time": "2021-11-14T16:59:44.086758",
     "exception": false,
     "start_time": "2021-11-14T16:59:44.057257",
     "status": "completed"
    },
    "tags": []
   },
   "outputs": [],
   "source": [
    "from __future__ import print_function\n",
    "from collections import OrderedDict\n",
    "\n",
    "import time\n",
    "import _pickle as cPickle\n",
    "\n",
    "import urllib\n",
    "import matplotlib.pyplot as plt\n",
    "\n",
    "import os\n",
    "import sys\n",
    "import codecs\n",
    "import re\n",
    "import numpy as np\n",
    "\n",
    "parameters = OrderedDict()\n",
    "parameters['word_dim'] = 300"
   ]
  },
  {
   "cell_type": "code",
   "execution_count": 3,
   "id": "8682d9fc",
   "metadata": {
    "execution": {
     "iopub.execute_input": "2021-11-14T16:59:44.136646Z",
     "iopub.status.busy": "2021-11-14T16:59:44.136043Z",
     "iopub.status.idle": "2021-11-14T16:59:44.293794Z",
     "shell.execute_reply": "2021-11-14T16:59:44.293373Z",
     "shell.execute_reply.started": "2021-11-12T08:11:00.418495Z"
    },
    "id": "1d4efccc",
    "outputId": "af81a79d-1ba2-42b6-974d-39a33d888ee6",
    "papermill": {
     "duration": 0.184808,
     "end_time": "2021-11-14T16:59:44.293915",
     "exception": false,
     "start_time": "2021-11-14T16:59:44.109107",
     "status": "completed"
    },
    "tags": []
   },
   "outputs": [
    {
     "data": {
      "text/html": [
       "<div>\n",
       "<style scoped>\n",
       "    .dataframe tbody tr th:only-of-type {\n",
       "        vertical-align: middle;\n",
       "    }\n",
       "\n",
       "    .dataframe tbody tr th {\n",
       "        vertical-align: top;\n",
       "    }\n",
       "\n",
       "    .dataframe thead th {\n",
       "        text-align: right;\n",
       "    }\n",
       "</style>\n",
       "<table border=\"1\" class=\"dataframe\">\n",
       "  <thead>\n",
       "    <tr style=\"text-align: right;\">\n",
       "      <th></th>\n",
       "      <th>col</th>\n",
       "      <th>senti</th>\n",
       "    </tr>\n",
       "  </thead>\n",
       "  <tbody>\n",
       "    <tr>\n",
       "      <th>0</th>\n",
       "      <td>i didnt feel humiliated</td>\n",
       "      <td>sadness</td>\n",
       "    </tr>\n",
       "    <tr>\n",
       "      <th>1</th>\n",
       "      <td>i can go from feeling so hopeless to so damned...</td>\n",
       "      <td>sadness</td>\n",
       "    </tr>\n",
       "    <tr>\n",
       "      <th>2</th>\n",
       "      <td>im grabbing a minute to post i feel greedy wrong</td>\n",
       "      <td>anger</td>\n",
       "    </tr>\n",
       "    <tr>\n",
       "      <th>3</th>\n",
       "      <td>i am ever feeling nostalgic about the fireplac...</td>\n",
       "      <td>love</td>\n",
       "    </tr>\n",
       "    <tr>\n",
       "      <th>4</th>\n",
       "      <td>i am feeling grouchy</td>\n",
       "      <td>anger</td>\n",
       "    </tr>\n",
       "  </tbody>\n",
       "</table>\n",
       "</div>"
      ],
      "text/plain": [
       "                                                 col    senti\n",
       "0                            i didnt feel humiliated  sadness\n",
       "1  i can go from feeling so hopeless to so damned...  sadness\n",
       "2   im grabbing a minute to post i feel greedy wrong    anger\n",
       "3  i am ever feeling nostalgic about the fireplac...     love\n",
       "4                               i am feeling grouchy    anger"
      ]
     },
     "execution_count": 3,
     "metadata": {},
     "output_type": "execute_result"
    }
   ],
   "source": [
    "traindata = pd.read_csv('../input/newsentimentdata/train.txt', sep=';', engine='python', names=['col', 'senti'])\n",
    "testdata = pd.read_csv('../input/newsentimentdata/test.txt', sep=';', engine='python', names=['col', 'senti'])\n",
    "valdata = pd.read_csv('../input/newsentimentdata/val.txt', sep=';', engine='python', names=['col', 'senti'])\n",
    "datanew = pd.concat([traindata, testdata, valdata])\n",
    "datanew.head()"
   ]
  },
  {
   "cell_type": "code",
   "execution_count": 4,
   "id": "201c93bb",
   "metadata": {
    "execution": {
     "iopub.execute_input": "2021-11-14T16:59:44.350960Z",
     "iopub.status.busy": "2021-11-14T16:59:44.350374Z",
     "iopub.status.idle": "2021-11-14T16:59:44.376695Z",
     "shell.execute_reply": "2021-11-14T16:59:44.377182Z",
     "shell.execute_reply.started": "2021-11-12T08:11:00.627351Z"
    },
    "id": "f3b30e52",
    "outputId": "2bde8437-9b0e-4acd-c59f-0fe1b40208a2",
    "papermill": {
     "duration": 0.059747,
     "end_time": "2021-11-14T16:59:44.377310",
     "exception": false,
     "start_time": "2021-11-14T16:59:44.317563",
     "status": "completed"
    },
    "tags": []
   },
   "outputs": [
    {
     "data": {
      "text/html": [
       "<div>\n",
       "<style scoped>\n",
       "    .dataframe tbody tr th:only-of-type {\n",
       "        vertical-align: middle;\n",
       "    }\n",
       "\n",
       "    .dataframe tbody tr th {\n",
       "        vertical-align: top;\n",
       "    }\n",
       "\n",
       "    .dataframe thead th {\n",
       "        text-align: right;\n",
       "    }\n",
       "</style>\n",
       "<table border=\"1\" class=\"dataframe\">\n",
       "  <thead>\n",
       "    <tr style=\"text-align: right;\">\n",
       "      <th></th>\n",
       "      <th>col</th>\n",
       "      <th>onehot_sentiment</th>\n",
       "      <th>senti</th>\n",
       "    </tr>\n",
       "  </thead>\n",
       "  <tbody>\n",
       "    <tr>\n",
       "      <th>0</th>\n",
       "      <td>i didnt feel humiliated</td>\n",
       "      <td>[0.0, 0.0, 0.0, 0.0, 1.0, 0.0]</td>\n",
       "      <td>sadness</td>\n",
       "    </tr>\n",
       "    <tr>\n",
       "      <th>1</th>\n",
       "      <td>i can go from feeling so hopeless to so damned...</td>\n",
       "      <td>[0.0, 0.0, 0.0, 0.0, 1.0, 0.0]</td>\n",
       "      <td>sadness</td>\n",
       "    </tr>\n",
       "    <tr>\n",
       "      <th>2</th>\n",
       "      <td>im grabbing a minute to post i feel greedy wrong</td>\n",
       "      <td>[1.0, 0.0, 0.0, 0.0, 0.0, 0.0]</td>\n",
       "      <td>anger</td>\n",
       "    </tr>\n",
       "    <tr>\n",
       "      <th>3</th>\n",
       "      <td>i am ever feeling nostalgic about the fireplac...</td>\n",
       "      <td>[0.0, 0.0, 0.0, 1.0, 0.0, 0.0]</td>\n",
       "      <td>love</td>\n",
       "    </tr>\n",
       "    <tr>\n",
       "      <th>4</th>\n",
       "      <td>i am feeling grouchy</td>\n",
       "      <td>[1.0, 0.0, 0.0, 0.0, 0.0, 0.0]</td>\n",
       "      <td>anger</td>\n",
       "    </tr>\n",
       "    <tr>\n",
       "      <th>...</th>\n",
       "      <td>...</td>\n",
       "      <td>...</td>\n",
       "      <td>...</td>\n",
       "    </tr>\n",
       "    <tr>\n",
       "      <th>1995</th>\n",
       "      <td>im having ssa examination tomorrow in the morn...</td>\n",
       "      <td>[0.0, 0.0, 0.0, 0.0, 1.0, 0.0]</td>\n",
       "      <td>sadness</td>\n",
       "    </tr>\n",
       "    <tr>\n",
       "      <th>1996</th>\n",
       "      <td>i constantly worry about their fight against n...</td>\n",
       "      <td>[0.0, 0.0, 1.0, 0.0, 0.0, 0.0]</td>\n",
       "      <td>joy</td>\n",
       "    </tr>\n",
       "    <tr>\n",
       "      <th>1997</th>\n",
       "      <td>i feel its important to share this info for th...</td>\n",
       "      <td>[0.0, 0.0, 1.0, 0.0, 0.0, 0.0]</td>\n",
       "      <td>joy</td>\n",
       "    </tr>\n",
       "    <tr>\n",
       "      <th>1998</th>\n",
       "      <td>i truly feel that if you are passionate enough...</td>\n",
       "      <td>[0.0, 0.0, 1.0, 0.0, 0.0, 0.0]</td>\n",
       "      <td>joy</td>\n",
       "    </tr>\n",
       "    <tr>\n",
       "      <th>1999</th>\n",
       "      <td>i feel like i just wanna buy any cute make up ...</td>\n",
       "      <td>[0.0, 0.0, 1.0, 0.0, 0.0, 0.0]</td>\n",
       "      <td>joy</td>\n",
       "    </tr>\n",
       "  </tbody>\n",
       "</table>\n",
       "<p>20000 rows × 3 columns</p>\n",
       "</div>"
      ],
      "text/plain": [
       "                                                    col  \\\n",
       "0                               i didnt feel humiliated   \n",
       "1     i can go from feeling so hopeless to so damned...   \n",
       "2      im grabbing a minute to post i feel greedy wrong   \n",
       "3     i am ever feeling nostalgic about the fireplac...   \n",
       "4                                  i am feeling grouchy   \n",
       "...                                                 ...   \n",
       "1995  im having ssa examination tomorrow in the morn...   \n",
       "1996  i constantly worry about their fight against n...   \n",
       "1997  i feel its important to share this info for th...   \n",
       "1998  i truly feel that if you are passionate enough...   \n",
       "1999  i feel like i just wanna buy any cute make up ...   \n",
       "\n",
       "                    onehot_sentiment    senti  \n",
       "0     [0.0, 0.0, 0.0, 0.0, 1.0, 0.0]  sadness  \n",
       "1     [0.0, 0.0, 0.0, 0.0, 1.0, 0.0]  sadness  \n",
       "2     [1.0, 0.0, 0.0, 0.0, 0.0, 0.0]    anger  \n",
       "3     [0.0, 0.0, 0.0, 1.0, 0.0, 0.0]     love  \n",
       "4     [1.0, 0.0, 0.0, 0.0, 0.0, 0.0]    anger  \n",
       "...                              ...      ...  \n",
       "1995  [0.0, 0.0, 0.0, 0.0, 1.0, 0.0]  sadness  \n",
       "1996  [0.0, 0.0, 1.0, 0.0, 0.0, 0.0]      joy  \n",
       "1997  [0.0, 0.0, 1.0, 0.0, 0.0, 0.0]      joy  \n",
       "1998  [0.0, 0.0, 1.0, 0.0, 0.0, 0.0]      joy  \n",
       "1999  [0.0, 0.0, 1.0, 0.0, 0.0, 0.0]      joy  \n",
       "\n",
       "[20000 rows x 3 columns]"
      ]
     },
     "execution_count": 4,
     "metadata": {},
     "output_type": "execute_result"
    }
   ],
   "source": [
    "## encode sentiment column to onehot\n",
    "from sklearn.preprocessing import OneHotEncoder\n",
    "\n",
    "enc = OneHotEncoder(handle_unknown='ignore')\n",
    "enc.fit(datanew['senti'].to_numpy().reshape(-1, 1))\n",
    "onehot_sentiment = enc.transform(datanew['senti'].to_numpy().reshape(-1, 1)).toarray()\n",
    "# onehot_sentiment = onehot_sentiment.reshape((40000, 1, 13))\n",
    "datanew.insert(1, \"onehot_sentiment\", list(onehot_sentiment))\n",
    "datanew"
   ]
  },
  {
   "cell_type": "markdown",
   "id": "15b87bc6",
   "metadata": {
    "id": "8df8ec3d",
    "papermill": {
     "duration": 0.022866,
     "end_time": "2021-11-14T16:59:44.423310",
     "exception": false,
     "start_time": "2021-11-14T16:59:44.400444",
     "status": "completed"
    },
    "tags": []
   },
   "source": [
    "### encode word"
   ]
  },
  {
   "cell_type": "code",
   "execution_count": 5,
   "id": "c274c1e1",
   "metadata": {
    "execution": {
     "iopub.execute_input": "2021-11-14T16:59:44.478991Z",
     "iopub.status.busy": "2021-11-14T16:59:44.476759Z",
     "iopub.status.idle": "2021-11-14T16:59:44.480767Z",
     "shell.execute_reply": "2021-11-14T16:59:44.481210Z",
     "shell.execute_reply.started": "2021-11-12T08:11:00.673254Z"
    },
    "id": "9d02a586",
    "papermill": {
     "duration": 0.034805,
     "end_time": "2021-11-14T16:59:44.481335",
     "exception": false,
     "start_time": "2021-11-14T16:59:44.446530",
     "status": "completed"
    },
    "tags": []
   },
   "outputs": [],
   "source": [
    "def create_dico(item_list):\n",
    "    \"\"\"\n",
    "    Create a dictionary of items from a list of list of items.\n",
    "    (item:count) pairs\n",
    "    \"\"\"\n",
    "    assert type(item_list) is list\n",
    "    dico = {}\n",
    "    for items in item_list:\n",
    "        for item in items:\n",
    "            if item not in dico:\n",
    "                dico[item] = 1\n",
    "            else:\n",
    "                dico[item] += 1\n",
    "    return dico\n",
    "\n",
    "def create_mapping(dico):\n",
    "    \"\"\"\n",
    "    Create a mapping (item to ID / ID to item) from a dictionary.\n",
    "    Items are ordered by decreasing frequency.\n",
    "    \"\"\"\n",
    "    sorted_items = sorted(dico.items(), key=lambda x: (-x[1], x[0]))\n",
    "    id_to_item = {i: v[0] for i, v in enumerate(sorted_items)}\n",
    "    item_to_id = {v: k for k, v in id_to_item.items()}\n",
    "    return item_to_id, id_to_item\n",
    "\n",
    "def word_mapping(sentences, lower):\n",
    "    \"\"\"\n",
    "    Create a dictionary and a mapping of words, sorted by frequency.\n",
    "    \n",
    "    return:\n",
    "    dico: dictionary of (word:frequency) pairs\n",
    "    word_to_id: dictionary of (word, id)\n",
    "    id_to_word: dictionary of (id, word)\n",
    "    \"\"\"\n",
    "    words = [[x.lower() if lower else x[0] for x in s] for s in sentences]\n",
    "    dico = create_dico(words)\n",
    "    dico['<UNK>'] = 10000000 #UNK tag for unknown words\n",
    "    word_to_id, id_to_word = create_mapping(dico)\n",
    "    print(\"Found %i unique words (%i in total)\" % (\n",
    "        len(dico), sum(len(x) for x in words)\n",
    "    ))\n",
    "    return dico, word_to_id, id_to_word"
   ]
  },
  {
   "cell_type": "code",
   "execution_count": 6,
   "id": "50c62b5b",
   "metadata": {
    "execution": {
     "iopub.execute_input": "2021-11-14T16:59:44.537971Z",
     "iopub.status.busy": "2021-11-14T16:59:44.537411Z",
     "iopub.status.idle": "2021-11-14T16:59:44.727497Z",
     "shell.execute_reply": "2021-11-14T16:59:44.727906Z",
     "shell.execute_reply.started": "2021-11-12T08:11:00.689405Z"
    },
    "id": "aaUiKLPvNGKh",
    "outputId": "ee0c1d79-5294-4bd7-f826-565eaa182d51",
    "papermill": {
     "duration": 0.223641,
     "end_time": "2021-11-14T16:59:44.728097",
     "exception": false,
     "start_time": "2021-11-14T16:59:44.504456",
     "status": "completed"
    },
    "tags": []
   },
   "outputs": [
    {
     "name": "stdout",
     "output_type": "stream",
     "text": [
      "[nltk_data] Downloading package punkt to /usr/share/nltk_data...\n",
      "[nltk_data]   Package punkt is already up-to-date!\n"
     ]
    },
    {
     "data": {
      "text/plain": [
       "True"
      ]
     },
     "execution_count": 6,
     "metadata": {},
     "output_type": "execute_result"
    }
   ],
   "source": [
    "import nltk\n",
    "nltk.download('punkt')"
   ]
  },
  {
   "cell_type": "code",
   "execution_count": 7,
   "id": "77f1226b",
   "metadata": {
    "execution": {
     "iopub.execute_input": "2021-11-14T16:59:44.782260Z",
     "iopub.status.busy": "2021-11-14T16:59:44.781632Z",
     "iopub.status.idle": "2021-11-14T16:59:48.661289Z",
     "shell.execute_reply": "2021-11-14T16:59:48.660762Z",
     "shell.execute_reply.started": "2021-11-12T08:11:00.902307Z"
    },
    "id": "32536d06",
    "papermill": {
     "duration": 3.909461,
     "end_time": "2021-11-14T16:59:48.661441",
     "exception": false,
     "start_time": "2021-11-14T16:59:44.751980",
     "status": "completed"
    },
    "tags": []
   },
   "outputs": [],
   "source": [
    "## tokenising sentences\n",
    "raw_content = datanew['col'].to_numpy()\n",
    "\n",
    "processed_docs = []\n",
    "for doc in raw_content:\n",
    "    tokens = word_tokenize(doc)\n",
    "#        filtered = [word for word in tokens if word not in stop_words]\n",
    "#        stemmed = [stemmer.stem(word) for word in filtered]\n",
    "    processed_docs.append(tokens)"
   ]
  },
  {
   "cell_type": "code",
   "execution_count": 8,
   "id": "9f8812f8",
   "metadata": {
    "execution": {
     "iopub.execute_input": "2021-11-14T16:59:48.745676Z",
     "iopub.status.busy": "2021-11-14T16:59:48.730326Z",
     "iopub.status.idle": "2021-11-14T16:59:48.909807Z",
     "shell.execute_reply": "2021-11-14T16:59:48.909346Z",
     "shell.execute_reply.started": "2021-11-12T08:11:05.601967Z"
    },
    "id": "a2e10b86",
    "outputId": "159980c6-532e-4834-9fda-0f45f425092d",
    "papermill": {
     "duration": 0.223877,
     "end_time": "2021-11-14T16:59:48.909941",
     "exception": false,
     "start_time": "2021-11-14T16:59:48.686064",
     "status": "completed"
    },
    "tags": []
   },
   "outputs": [
    {
     "name": "stdout",
     "output_type": "stream",
     "text": [
      "Found 17095 unique words (382881 in total)\n"
     ]
    }
   ],
   "source": [
    "dico_words,word_to_id,id_to_word = word_mapping(processed_docs, True)"
   ]
  },
  {
   "cell_type": "code",
   "execution_count": 9,
   "id": "fdbb9948",
   "metadata": {
    "execution": {
     "iopub.execute_input": "2021-11-14T16:59:48.963524Z",
     "iopub.status.busy": "2021-11-14T16:59:48.962838Z",
     "iopub.status.idle": "2021-11-14T16:59:48.965182Z",
     "shell.execute_reply": "2021-11-14T16:59:48.965622Z",
     "shell.execute_reply.started": "2021-11-12T08:11:05.847367Z"
    },
    "id": "03254b00",
    "papermill": {
     "duration": 0.031577,
     "end_time": "2021-11-14T16:59:48.965750",
     "exception": false,
     "start_time": "2021-11-14T16:59:48.934173",
     "status": "completed"
    },
    "tags": []
   },
   "outputs": [],
   "source": [
    "def lower_case(x,lower=False):\n",
    "    if lower:\n",
    "        return x.lower()  \n",
    "    else:\n",
    "        return x"
   ]
  },
  {
   "cell_type": "code",
   "execution_count": 10,
   "id": "4fe60040",
   "metadata": {
    "execution": {
     "iopub.execute_input": "2021-11-14T16:59:49.064551Z",
     "iopub.status.busy": "2021-11-14T16:59:49.028673Z",
     "iopub.status.idle": "2021-11-14T16:59:49.476011Z",
     "shell.execute_reply": "2021-11-14T16:59:49.475311Z",
     "shell.execute_reply.started": "2021-11-12T08:17:09.267133Z"
    },
    "id": "022ab1c7",
    "outputId": "c18c9dc0-2ed0-4783-ccd1-ea1792943735",
    "papermill": {
     "duration": 0.48495,
     "end_time": "2021-11-14T16:59:49.476187",
     "exception": false,
     "start_time": "2021-11-14T16:59:48.991237",
     "status": "completed"
    },
    "tags": []
   },
   "outputs": [
    {
     "name": "stdout",
     "output_type": "stream",
     "text": [
      "20000 sentences\n"
     ]
    }
   ],
   "source": [
    "def prepare_dataset(sentences, word_to_id, lower=False):\n",
    "    \"\"\"\n",
    "    Prepare the dataset. Return a list of lists of dictionaries containing:\n",
    "        - word indexes\n",
    "        - word char indexes\n",
    "        - tag indexes\n",
    "    \"\"\"\n",
    "    data = []\n",
    "    for s in sentences:\n",
    "        str_words = [w for w in s]\n",
    "        words = [word_to_id[lower_case(w,lower) if lower_case(w,lower) in word_to_id else '<UNK>']\n",
    "                 for w in str_words]\n",
    "        data.append({\n",
    "            'str_words': str_words, #list of all words in the sentence\n",
    "            'words': words, #list of word index for all words in the sentence\n",
    "        })\n",
    "    return data\n",
    "\n",
    "data = prepare_dataset(\n",
    "    processed_docs, word_to_id, True\n",
    ")\n",
    "\n",
    "print(\"{} sentences\".format(len(data)))"
   ]
  },
  {
   "cell_type": "code",
   "execution_count": 11,
   "id": "e8984819",
   "metadata": {
    "execution": {
     "iopub.execute_input": "2021-11-14T16:59:49.533883Z",
     "iopub.status.busy": "2021-11-14T16:59:49.533367Z",
     "iopub.status.idle": "2021-11-14T17:00:58.127472Z",
     "shell.execute_reply": "2021-11-14T17:00:58.127934Z",
     "shell.execute_reply.started": "2021-11-11T08:45:58.511265Z"
    },
    "id": "7ef648e2",
    "outputId": "1ad5eb3a-c4f2-4d46-abca-82a4e734f12a",
    "papermill": {
     "duration": 68.626249,
     "end_time": "2021-11-14T17:00:58.128097",
     "exception": false,
     "start_time": "2021-11-14T16:59:49.501848",
     "status": "completed"
    },
    "scrolled": true,
    "tags": []
   },
   "outputs": [
    {
     "name": "stdout",
     "output_type": "stream",
     "text": [
      "Loaded 400000 pretrained embeddings.\n"
     ]
    }
   ],
   "source": [
    "all_word_embeds = {}\n",
    "for i, line in enumerate(codecs.open('../input/newsentimentdata/glove.6B.300d.txt', 'r', 'utf-8')):\n",
    "    s = line.strip().split()\n",
    "    if len(s) == parameters['word_dim'] + 1:\n",
    "        all_word_embeds[s[0]] = np.array([float(i) for i in s[1:]])\n",
    "\n",
    "#Intializing Word Embedding Matrix\n",
    "word_embeds = np.random.uniform(-np.sqrt(0.06), np.sqrt(0.06), (len(word_to_id), parameters['word_dim']))\n",
    "\n",
    "for w in word_to_id:\n",
    "    if w in all_word_embeds:\n",
    "        word_embeds[word_to_id[w]] = all_word_embeds[w]\n",
    "    elif w.lower() in all_word_embeds:\n",
    "        word_embeds[word_to_id[w]] = all_word_embeds[w.lower()]\n",
    "\n",
    "print('Loaded %i pretrained embeddings.' % len(all_word_embeds))"
   ]
  },
  {
   "cell_type": "code",
   "execution_count": 12,
   "id": "bf67641a",
   "metadata": {
    "execution": {
     "iopub.execute_input": "2021-11-14T17:00:58.209485Z",
     "iopub.status.busy": "2021-11-14T17:00:58.208901Z",
     "iopub.status.idle": "2021-11-14T17:00:58.293706Z",
     "shell.execute_reply": "2021-11-14T17:00:58.293138Z",
     "shell.execute_reply.started": "2021-11-11T08:46:58.088603Z"
    },
    "id": "8c8e52f8",
    "papermill": {
     "duration": 0.14089,
     "end_time": "2021-11-14T17:00:58.293830",
     "exception": false,
     "start_time": "2021-11-14T17:00:58.152940",
     "status": "completed"
    },
    "tags": []
   },
   "outputs": [],
   "source": [
    "word_indices = [i['words'] for i in data]\n",
    "padded_indices = []\n",
    "for sent in word_indices:\n",
    "    padding_size = 110 - len(sent)\n",
    "    padded = sent + [0 for i in range(padding_size)]\n",
    "    padded_indices.append(padded)"
   ]
  },
  {
   "cell_type": "code",
   "execution_count": 13,
   "id": "b7052c57",
   "metadata": {
    "execution": {
     "iopub.execute_input": "2021-11-14T17:00:58.468747Z",
     "iopub.status.busy": "2021-11-14T17:00:58.345814Z",
     "iopub.status.idle": "2021-11-14T17:00:58.496157Z",
     "shell.execute_reply": "2021-11-14T17:00:58.495700Z",
     "shell.execute_reply.started": "2021-11-11T08:46:58.210055Z"
    },
    "id": "c79a5d1e",
    "outputId": "68018cf7-6095-467c-afd6-56fa38549f4a",
    "papermill": {
     "duration": 0.177202,
     "end_time": "2021-11-14T17:00:58.496291",
     "exception": false,
     "start_time": "2021-11-14T17:00:58.319089",
     "status": "completed"
    },
    "tags": []
   },
   "outputs": [
    {
     "data": {
      "text/html": [
       "<div>\n",
       "<style scoped>\n",
       "    .dataframe tbody tr th:only-of-type {\n",
       "        vertical-align: middle;\n",
       "    }\n",
       "\n",
       "    .dataframe tbody tr th {\n",
       "        vertical-align: top;\n",
       "    }\n",
       "\n",
       "    .dataframe thead th {\n",
       "        text-align: right;\n",
       "    }\n",
       "</style>\n",
       "<table border=\"1\" class=\"dataframe\">\n",
       "  <thead>\n",
       "    <tr style=\"text-align: right;\">\n",
       "      <th></th>\n",
       "      <th>col</th>\n",
       "      <th>padded_indices</th>\n",
       "      <th>onehot_sentiment</th>\n",
       "      <th>senti</th>\n",
       "    </tr>\n",
       "  </thead>\n",
       "  <tbody>\n",
       "    <tr>\n",
       "      <th>0</th>\n",
       "      <td>i didnt feel humiliated</td>\n",
       "      <td>[1, 138, 2, 633, 0, 0, 0, 0, 0, 0, 0, 0, 0, 0,...</td>\n",
       "      <td>[0.0, 0.0, 0.0, 0.0, 1.0, 0.0]</td>\n",
       "      <td>sadness</td>\n",
       "    </tr>\n",
       "    <tr>\n",
       "      <th>1</th>\n",
       "      <td>i can go from feeling so hopeless to so damned...</td>\n",
       "      <td>[1, 39, 101, 59, 7, 14, 525, 4, 14, 3210, 549,...</td>\n",
       "      <td>[0.0, 0.0, 0.0, 0.0, 1.0, 0.0]</td>\n",
       "      <td>sadness</td>\n",
       "    </tr>\n",
       "    <tr>\n",
       "      <th>2</th>\n",
       "      <td>im grabbing a minute to post i feel greedy wrong</td>\n",
       "      <td>[15, 3272, 6, 1245, 4, 291, 1, 2, 497, 427, 0,...</td>\n",
       "      <td>[1.0, 0.0, 0.0, 0.0, 0.0, 0.0]</td>\n",
       "      <td>anger</td>\n",
       "    </tr>\n",
       "    <tr>\n",
       "      <th>3</th>\n",
       "      <td>i am ever feeling nostalgic about the fireplac...</td>\n",
       "      <td>[1, 23, 176, 7, 686, 26, 5, 5161, 1, 57, 46, 8...</td>\n",
       "      <td>[0.0, 0.0, 0.0, 1.0, 0.0, 0.0]</td>\n",
       "      <td>love</td>\n",
       "    </tr>\n",
       "    <tr>\n",
       "      <th>4</th>\n",
       "      <td>i am feeling grouchy</td>\n",
       "      <td>[1, 23, 7, 1048, 0, 0, 0, 0, 0, 0, 0, 0, 0, 0,...</td>\n",
       "      <td>[1.0, 0.0, 0.0, 0.0, 0.0, 0.0]</td>\n",
       "      <td>anger</td>\n",
       "    </tr>\n",
       "    <tr>\n",
       "      <th>...</th>\n",
       "      <td>...</td>\n",
       "      <td>...</td>\n",
       "      <td>...</td>\n",
       "      <td>...</td>\n",
       "    </tr>\n",
       "    <tr>\n",
       "      <th>1995</th>\n",
       "      <td>im having ssa examination tomorrow in the morn...</td>\n",
       "      <td>[15, 153, 15692, 3673, 898, 11, 5, 225, 15, 15...</td>\n",
       "      <td>[0.0, 0.0, 0.0, 0.0, 1.0, 0.0]</td>\n",
       "      <td>sadness</td>\n",
       "    </tr>\n",
       "    <tr>\n",
       "      <th>1996</th>\n",
       "      <td>i constantly worry about their fight against n...</td>\n",
       "      <td>[1, 804, 963, 26, 109, 1095, 545, 1173, 28, 60...</td>\n",
       "      <td>[0.0, 0.0, 1.0, 0.0, 0.0, 0.0]</td>\n",
       "      <td>joy</td>\n",
       "    </tr>\n",
       "    <tr>\n",
       "      <th>1997</th>\n",
       "      <td>i feel its important to share this info for th...</td>\n",
       "      <td>[1, 2, 78, 287, 4, 321, 22, 2981, 16, 140, 8, ...</td>\n",
       "      <td>[0.0, 0.0, 1.0, 0.0, 0.0, 0.0]</td>\n",
       "      <td>joy</td>\n",
       "    </tr>\n",
       "    <tr>\n",
       "      <th>1998</th>\n",
       "      <td>i truly feel that if you are passionate enough...</td>\n",
       "      <td>[1, 387, 2, 8, 48, 30, 44, 283, 157, 26, 83, 3...</td>\n",
       "      <td>[0.0, 0.0, 1.0, 0.0, 0.0, 0.0]</td>\n",
       "      <td>joy</td>\n",
       "    </tr>\n",
       "    <tr>\n",
       "      <th>1999</th>\n",
       "      <td>i feel like i just wanna buy any cute make up ...</td>\n",
       "      <td>[1, 2, 13, 1, 31, 1035, 564, 666, 142, 455, 81...</td>\n",
       "      <td>[0.0, 0.0, 1.0, 0.0, 0.0, 0.0]</td>\n",
       "      <td>joy</td>\n",
       "    </tr>\n",
       "  </tbody>\n",
       "</table>\n",
       "<p>20000 rows × 4 columns</p>\n",
       "</div>"
      ],
      "text/plain": [
       "                                                    col  \\\n",
       "0                               i didnt feel humiliated   \n",
       "1     i can go from feeling so hopeless to so damned...   \n",
       "2      im grabbing a minute to post i feel greedy wrong   \n",
       "3     i am ever feeling nostalgic about the fireplac...   \n",
       "4                                  i am feeling grouchy   \n",
       "...                                                 ...   \n",
       "1995  im having ssa examination tomorrow in the morn...   \n",
       "1996  i constantly worry about their fight against n...   \n",
       "1997  i feel its important to share this info for th...   \n",
       "1998  i truly feel that if you are passionate enough...   \n",
       "1999  i feel like i just wanna buy any cute make up ...   \n",
       "\n",
       "                                         padded_indices  \\\n",
       "0     [1, 138, 2, 633, 0, 0, 0, 0, 0, 0, 0, 0, 0, 0,...   \n",
       "1     [1, 39, 101, 59, 7, 14, 525, 4, 14, 3210, 549,...   \n",
       "2     [15, 3272, 6, 1245, 4, 291, 1, 2, 497, 427, 0,...   \n",
       "3     [1, 23, 176, 7, 686, 26, 5, 5161, 1, 57, 46, 8...   \n",
       "4     [1, 23, 7, 1048, 0, 0, 0, 0, 0, 0, 0, 0, 0, 0,...   \n",
       "...                                                 ...   \n",
       "1995  [15, 153, 15692, 3673, 898, 11, 5, 225, 15, 15...   \n",
       "1996  [1, 804, 963, 26, 109, 1095, 545, 1173, 28, 60...   \n",
       "1997  [1, 2, 78, 287, 4, 321, 22, 2981, 16, 140, 8, ...   \n",
       "1998  [1, 387, 2, 8, 48, 30, 44, 283, 157, 26, 83, 3...   \n",
       "1999  [1, 2, 13, 1, 31, 1035, 564, 666, 142, 455, 81...   \n",
       "\n",
       "                    onehot_sentiment    senti  \n",
       "0     [0.0, 0.0, 0.0, 0.0, 1.0, 0.0]  sadness  \n",
       "1     [0.0, 0.0, 0.0, 0.0, 1.0, 0.0]  sadness  \n",
       "2     [1.0, 0.0, 0.0, 0.0, 0.0, 0.0]    anger  \n",
       "3     [0.0, 0.0, 0.0, 1.0, 0.0, 0.0]     love  \n",
       "4     [1.0, 0.0, 0.0, 0.0, 0.0, 0.0]    anger  \n",
       "...                              ...      ...  \n",
       "1995  [0.0, 0.0, 0.0, 0.0, 1.0, 0.0]  sadness  \n",
       "1996  [0.0, 0.0, 1.0, 0.0, 0.0, 0.0]      joy  \n",
       "1997  [0.0, 0.0, 1.0, 0.0, 0.0, 0.0]      joy  \n",
       "1998  [0.0, 0.0, 1.0, 0.0, 0.0, 0.0]      joy  \n",
       "1999  [0.0, 0.0, 1.0, 0.0, 0.0, 0.0]      joy  \n",
       "\n",
       "[20000 rows x 4 columns]"
      ]
     },
     "execution_count": 13,
     "metadata": {},
     "output_type": "execute_result"
    }
   ],
   "source": [
    "datanew.insert(1, \"padded_indices\", list(padded_indices))\n",
    "datanew"
   ]
  },
  {
   "cell_type": "code",
   "execution_count": 14,
   "id": "5579aedb",
   "metadata": {
    "execution": {
     "iopub.execute_input": "2021-11-14T17:00:58.552656Z",
     "iopub.status.busy": "2021-11-14T17:00:58.552081Z",
     "iopub.status.idle": "2021-11-14T17:00:58.560503Z",
     "shell.execute_reply": "2021-11-14T17:00:58.561095Z",
     "shell.execute_reply.started": "2021-11-11T08:46:58.362645Z"
    },
    "id": "7c70f61b",
    "outputId": "d509f610-a628-4322-f5b8-5b0dc99392cc",
    "papermill": {
     "duration": 0.039485,
     "end_time": "2021-11-14T17:00:58.561232",
     "exception": false,
     "start_time": "2021-11-14T17:00:58.521747",
     "status": "completed"
    },
    "tags": []
   },
   "outputs": [
    {
     "name": "stdout",
     "output_type": "stream",
     "text": [
      "X train:  16000 (16000,)\n",
      "y train:  16000 (16000,)\n",
      "y test:  4000 (4000,)\n"
     ]
    }
   ],
   "source": [
    "from sklearn.model_selection import train_test_split\n",
    "X = datanew['padded_indices'].to_numpy()\n",
    "y = datanew['onehot_sentiment'].to_numpy()\n",
    "X_train, X_test, y_train, y_test = train_test_split(X, y, test_size=0.2, random_state=42)\n",
    "print(\"X train: \", len(X_train), X_train.shape)\n",
    "print(\"y train: \", len(y_train), y_train.shape)\n",
    "print(\"y test: \", len(y_test), y_test.shape)"
   ]
  },
  {
   "cell_type": "code",
   "execution_count": 15,
   "id": "85a9bd73",
   "metadata": {
    "execution": {
     "iopub.execute_input": "2021-11-14T17:00:58.670222Z",
     "iopub.status.busy": "2021-11-14T17:00:58.649513Z",
     "iopub.status.idle": "2021-11-14T17:00:59.128473Z",
     "shell.execute_reply": "2021-11-14T17:00:59.129202Z",
     "shell.execute_reply.started": "2021-11-11T08:46:58.377256Z"
    },
    "id": "8e9a7b3d",
    "outputId": "924a566d-3faf-4016-c726-b4c276418b5e",
    "papermill": {
     "duration": 0.542883,
     "end_time": "2021-11-14T17:00:59.129357",
     "exception": false,
     "start_time": "2021-11-14T17:00:58.586474",
     "status": "completed"
    },
    "tags": []
   },
   "outputs": [
    {
     "name": "stdout",
     "output_type": "stream",
     "text": [
      "(16000, 110)\n",
      "(16000, 6)\n",
      "(4000, 110)\n",
      "(4000, 6)\n"
     ]
    }
   ],
   "source": [
    "X_train = np.array([np.array(x) for x in X_train])\n",
    "y_train = np.array([np.array(x) for x in y_train])\n",
    "X_test = np.array([np.array(x) for x in X_test])\n",
    "y_test = np.array([np.array(x) for x in y_test])\n",
    "\n",
    "print(X_train.shape)\n",
    "print(y_train.shape)\n",
    "print(X_test.shape)\n",
    "print(y_test.shape)"
   ]
  },
  {
   "cell_type": "markdown",
   "id": "39e89f30",
   "metadata": {
    "id": "e9f90c2c",
    "papermill": {
     "duration": 0.025509,
     "end_time": "2021-11-14T17:00:59.180869",
     "exception": false,
     "start_time": "2021-11-14T17:00:59.155360",
     "status": "completed"
    },
    "tags": []
   },
   "source": [
    "### Zhou model"
   ]
  },
  {
   "cell_type": "code",
   "execution_count": 16,
   "id": "56682441",
   "metadata": {
    "execution": {
     "iopub.execute_input": "2021-11-14T17:00:59.235937Z",
     "iopub.status.busy": "2021-11-14T17:00:59.235423Z",
     "iopub.status.idle": "2021-11-14T17:00:59.238947Z",
     "shell.execute_reply": "2021-11-14T17:00:59.238502Z",
     "shell.execute_reply.started": "2021-11-11T08:46:58.880177Z"
    },
    "id": "85bd3c1d",
    "outputId": "5cf40201-5145-463a-845b-488dd9263c40",
    "papermill": {
     "duration": 0.032596,
     "end_time": "2021-11-14T17:00:59.239080",
     "exception": false,
     "start_time": "2021-11-14T17:00:59.206484",
     "status": "completed"
    },
    "tags": []
   },
   "outputs": [],
   "source": [
    "# so that dont have to rerun\n",
    "import tensorflow as tf\n",
    "tf.compat.v1.reset_default_graph()"
   ]
  },
  {
   "cell_type": "code",
   "execution_count": 17,
   "id": "9686c47c",
   "metadata": {
    "execution": {
     "iopub.execute_input": "2021-11-14T17:00:59.294420Z",
     "iopub.status.busy": "2021-11-14T17:00:59.293837Z",
     "iopub.status.idle": "2021-11-14T17:01:09.790850Z",
     "shell.execute_reply": "2021-11-14T17:01:09.790344Z",
     "shell.execute_reply.started": "2021-11-11T12:37:21.437346Z"
    },
    "papermill": {
     "duration": 10.526508,
     "end_time": "2021-11-14T17:01:09.791015",
     "exception": false,
     "start_time": "2021-11-14T17:00:59.264507",
     "status": "completed"
    },
    "tags": []
   },
   "outputs": [
    {
     "name": "stdout",
     "output_type": "stream",
     "text": [
      "Collecting keras_self_attention\r\n",
      "  Downloading keras-self-attention-0.50.0.tar.gz (12 kB)\r\n",
      "Requirement already satisfied: numpy in /opt/conda/lib/python3.7/site-packages (from keras_self_attention) (1.19.5)\r\n",
      "Requirement already satisfied: Keras in /opt/conda/lib/python3.7/site-packages (from keras_self_attention) (2.6.0)\r\n",
      "Building wheels for collected packages: keras-self-attention\r\n",
      "  Building wheel for keras-self-attention (setup.py) ... \u001b[?25l-\b \b\\\b \bdone\r\n",
      "\u001b[?25h  Created wheel for keras-self-attention: filename=keras_self_attention-0.50.0-py3-none-any.whl size=19414 sha256=e984721653ef93ea5ca0bb82666f0d68bd6d34e1658066785e27402e7f3a12a5\r\n",
      "  Stored in directory: /root/.cache/pip/wheels/92/7a/a3/231bef5803298e7ec1815215bc0613239cb1e9c03c57b13c14\r\n",
      "Successfully built keras-self-attention\r\n",
      "Installing collected packages: keras-self-attention\r\n",
      "Successfully installed keras-self-attention-0.50.0\r\n",
      "\u001b[33mWARNING: Running pip as the 'root' user can result in broken permissions and conflicting behaviour with the system package manager. It is recommended to use a virtual environment instead: https://pip.pypa.io/warnings/venv\u001b[0m\r\n"
     ]
    }
   ],
   "source": [
    "!pip install keras_self_attention"
   ]
  },
  {
   "cell_type": "code",
   "execution_count": 18,
   "id": "b2fd4d6a",
   "metadata": {
    "execution": {
     "iopub.execute_input": "2021-11-14T17:01:09.879313Z",
     "iopub.status.busy": "2021-11-14T17:01:09.878397Z",
     "iopub.status.idle": "2021-11-14T17:01:18.473582Z",
     "shell.execute_reply": "2021-11-14T17:01:18.474318Z",
     "shell.execute_reply.started": "2021-11-11T08:46:58.886647Z"
    },
    "id": "031cf79f",
    "outputId": "01529036-5644-4760-a564-146576defb60",
    "papermill": {
     "duration": 8.654766,
     "end_time": "2021-11-14T17:01:18.474567",
     "exception": false,
     "start_time": "2021-11-14T17:01:09.819801",
     "status": "completed"
    },
    "tags": []
   },
   "outputs": [
    {
     "name": "stderr",
     "output_type": "stream",
     "text": [
      "2021-11-14 17:01:10.093027: I tensorflow/stream_executor/cuda/cuda_gpu_executor.cc:937] successful NUMA node read from SysFS had negative value (-1), but there must be at least one NUMA node, so returning NUMA node zero\n",
      "2021-11-14 17:01:10.235581: I tensorflow/stream_executor/cuda/cuda_gpu_executor.cc:937] successful NUMA node read from SysFS had negative value (-1), but there must be at least one NUMA node, so returning NUMA node zero\n",
      "2021-11-14 17:01:10.236299: I tensorflow/stream_executor/cuda/cuda_gpu_executor.cc:937] successful NUMA node read from SysFS had negative value (-1), but there must be at least one NUMA node, so returning NUMA node zero\n",
      "2021-11-14 17:01:10.237753: I tensorflow/core/platform/cpu_feature_guard.cc:142] This TensorFlow binary is optimized with oneAPI Deep Neural Network Library (oneDNN) to use the following CPU instructions in performance-critical operations:  AVX2 AVX512F FMA\n",
      "To enable them in other operations, rebuild TensorFlow with the appropriate compiler flags.\n",
      "2021-11-14 17:01:10.238984: I tensorflow/stream_executor/cuda/cuda_gpu_executor.cc:937] successful NUMA node read from SysFS had negative value (-1), but there must be at least one NUMA node, so returning NUMA node zero\n",
      "2021-11-14 17:01:10.239643: I tensorflow/stream_executor/cuda/cuda_gpu_executor.cc:937] successful NUMA node read from SysFS had negative value (-1), but there must be at least one NUMA node, so returning NUMA node zero\n",
      "2021-11-14 17:01:10.240353: I tensorflow/stream_executor/cuda/cuda_gpu_executor.cc:937] successful NUMA node read from SysFS had negative value (-1), but there must be at least one NUMA node, so returning NUMA node zero\n",
      "2021-11-14 17:01:12.181202: I tensorflow/stream_executor/cuda/cuda_gpu_executor.cc:937] successful NUMA node read from SysFS had negative value (-1), but there must be at least one NUMA node, so returning NUMA node zero\n",
      "2021-11-14 17:01:12.182049: I tensorflow/stream_executor/cuda/cuda_gpu_executor.cc:937] successful NUMA node read from SysFS had negative value (-1), but there must be at least one NUMA node, so returning NUMA node zero\n",
      "2021-11-14 17:01:12.182735: I tensorflow/stream_executor/cuda/cuda_gpu_executor.cc:937] successful NUMA node read from SysFS had negative value (-1), but there must be at least one NUMA node, so returning NUMA node zero\n",
      "2021-11-14 17:01:12.183351: I tensorflow/core/common_runtime/gpu/gpu_device.cc:1510] Created device /job:localhost/replica:0/task:0/device:GPU:0 with 15403 MB memory:  -> device: 0, name: Tesla P100-PCIE-16GB, pci bus id: 0000:00:04.0, compute capability: 6.0\n",
      "/opt/conda/lib/python3.7/site-packages/keras/layers/legacy_rnn/rnn_cell_impl.py:901: UserWarning: `tf.nn.rnn_cell.LSTMCell` is deprecated and will be removed in a future version. This class is equivalent as `tf.keras.layers.LSTMCell`, and will be replaced by that in Tensorflow 2.0.\n",
      "  warnings.warn(\"`tf.nn.rnn_cell.LSTMCell` is deprecated and will be \"\n",
      "/opt/conda/lib/python3.7/site-packages/keras/engine/base_layer.py:2223: UserWarning: `layer.add_variable` is deprecated and will be removed in a future version. Please use `layer.add_weight` method instead.\n",
      "  warnings.warn('`layer.add_variable` is deprecated and '\n"
     ]
    },
    {
     "name": "stdout",
     "output_type": "stream",
     "text": [
      "(2, 10, 300)\n"
     ]
    },
    {
     "name": "stderr",
     "output_type": "stream",
     "text": [
      "2021-11-14 17:01:14.225155: I tensorflow/stream_executor/cuda/cuda_dnn.cc:369] Loaded cuDNN version 8005\n"
     ]
    },
    {
     "name": "stdout",
     "output_type": "stream",
     "text": [
      "embedding: (2, 10, 300)\n",
      "lstm: (2, 10, 300)\n",
      "conv: (2, 8, 298, 100)\n",
      "pooling: (2, 4, 149, 1, 1)\n",
      "flatten: (2, 596)\n"
     ]
    }
   ],
   "source": [
    "import tensorflow as tf\n",
    "from tensorflow.keras import layers\n",
    "import keras\n",
    "from keras_self_attention import SeqSelfAttention, SeqWeightedAttention\n",
    "\n",
    "\n",
    "class ZhouBLSTMCNNModel:\n",
    "\n",
    "    def __init__(self,\n",
    "        embedding,\n",
    "        em_drop_rate = 0.5,\n",
    "        lstm_units   = 300,\n",
    "        lstm_drop_rate = 0.5,\n",
    "        conv_size    = (3, 3),\n",
    "        conv_filters = 100,\n",
    "        pool_size    = (2, 2),\n",
    "        pool_drop_rate = 0.5):\n",
    "        '''Constructor.\n",
    "        # Parameters:\n",
    "        embedding: Numpy array representing the embedding.\n",
    "        em_drop_rate: Drop rate after the embedding layer.\n",
    "        lstm_units: Size of the internal states of the LSTM cells.\n",
    "        lstm_drop_rate: Drop rate after the lstm layer.\n",
    "        conv_size: Size of the convolutions.\n",
    "        conv_filters: Number of convolutions filters.\n",
    "        pool_size: Size for the max pooling layer.\n",
    "        pool_drop_rate: Drop rate of the max pooling layer.\n",
    "        '''\n",
    "        self._embedding      = embedding\n",
    "        self._em_drop_rate   = em_drop_rate\n",
    "        self._lstm_units     = lstm_units\n",
    "        self._lstm_drop_rate = lstm_drop_rate\n",
    "        self._conv_size      = conv_size\n",
    "        self._conv_filters   = conv_filters\n",
    "        self._pool_size      = pool_size\n",
    "        self._pool_drop_rate = pool_drop_rate\n",
    "\n",
    "    def __call__(self, input):\n",
    "        self._embedding_tf = self._create_embedding_layer(\n",
    "            self._em_drop_rate, self._embedding, input)\n",
    "\n",
    "        self._sequences_tf = self._create_blstm_layer(\n",
    "            self._lstm_units,\n",
    "            self._lstm_drop_rate,\n",
    "            self._embedding_tf)\n",
    "\n",
    "        self._convolution_tf = self._create_convolutional_layer(\n",
    "            self._conv_size,\n",
    "            self._conv_filters,\n",
    "            self._sequences_tf)\n",
    "        \n",
    "        self._pooling_tf = self._create_maxpooling_layer(\n",
    "            self._pool_size,\n",
    "            self._pool_drop_rate,\n",
    "            self._convolution_tf)\n",
    "\n",
    "        self._flatten_tf = self._create_flatten_layer(self._pooling_tf)\n",
    "\n",
    "        return self._flatten_tf\n",
    "\n",
    "    def summary(self):\n",
    "        print(\"embedding: \" + str(self._embedding_tf.shape))\n",
    "        print(\"lstm: \" + str(self._sequences_tf.shape))\n",
    "        print(\"conv: \" + str(self._convolution_tf.shape))\n",
    "        print(\"pooling: \" + str(self._pooling_tf.shape))\n",
    "        print(\"flatten: \" + str(self._flatten_tf.shape))\n",
    "\n",
    "    # this function converts each word from input_x into dense vector of dimension 300 (dimension depending on word2vec)\n",
    "    # embedding  = word_vector\n",
    "    def _create_embedding_layer(self, em_drop_rate, embedding, input_x):\n",
    "        embedding = tf.Variable(initial_value=embedding)\n",
    "\n",
    "        embedded_chars = tf.nn.embedding_lookup(  # lookup word_vector(embedding) by index (input_x)\n",
    "            embedding, tf.cast(input_x, 'int32'))\n",
    "\n",
    "        return tf.nn.dropout(embedded_chars, rate=em_drop_rate)\n",
    "\n",
    "    # bidirectional lstm layer\n",
    "    # \n",
    "    def _create_blstm_layer(self, lstm_units, lstm_drop_rate, embedding):\n",
    "        lstm_cell = tf.compat.v1.nn.rnn_cell.LSTMCell(lstm_units)\n",
    "        sequence = tf.unstack(embedding, axis=1) #embedded input words\n",
    "        \n",
    "        # hs, _, _ are outputs, output_state_fw, output_state_bw respectively\n",
    "        hs, _, _ = tf.compat.v1.nn.static_bidirectional_rnn(lstm_cell, lstm_cell, #forward and backward direction\n",
    "            sequence, #input\n",
    "            dtype=tf.float32)\n",
    "        \n",
    "        hs = tf.stack(\n",
    "            values=hs,\n",
    "            axis=1)\n",
    "        ss = tf.math.reduce_sum(\n",
    "            tf.reshape(hs, shape=[-1, hs.shape[1], 2, lstm_units]),\n",
    "            axis=2\n",
    "        )\n",
    "        \n",
    "        attn = SeqSelfAttention(attention_activation='sigmoid',attention_type=SeqSelfAttention.ATTENTION_TYPE_MUL)(ss)\n",
    "\n",
    "        return tf.nn.dropout(attn, rate=lstm_drop_rate)\n",
    "\n",
    "    def _create_convolutional_layer(self,\n",
    "        conv_size, num_filters, tensor):\n",
    "        \n",
    "        print(str(tensor.shape))\n",
    "\n",
    "        filter_heigth = conv_size[0]\n",
    "        filter_width  = conv_size[1]\n",
    "\n",
    "        filter_shape = [filter_heigth, filter_width,\n",
    "            1, num_filters]\n",
    "\n",
    "        W = tf.Variable(\n",
    "            initial_value=tf.random.truncated_normal(\n",
    "                shape=filter_shape,\n",
    "                stddev=0.1))\n",
    "        b = tf.Variable(\n",
    "            initial_value=tf.random.truncated_normal(\n",
    "                shape=[num_filters]))\n",
    "\n",
    "        tensor_expanded = tf.expand_dims(tensor, -1)\n",
    "        conv = tf.nn.conv2d(\n",
    "            input=tensor_expanded,\n",
    "            filters=W, #####filter to filters, idk if it changed stuff\n",
    "            strides=[1,1,1,1],\n",
    "            padding='VALID')\n",
    "\n",
    "        bias = tf.nn.bias_add(conv, b)\n",
    "        c = tf.nn.relu(bias)\n",
    "\n",
    "        return c\n",
    "\n",
    "    def _create_maxpooling_layer(self, size, pool_drop_rate, conv):\n",
    "        pooled = tf.nn.max_pool3d(\n",
    "            input=tf.expand_dims(conv, -1),\n",
    "            ksize=[1, size[0], size[1], conv.shape[3], 1],\n",
    "            strides=[1, size[0], size[1], conv.shape[3], 1],\n",
    "            padding='VALID')\n",
    "        \n",
    "        return tf.nn.dropout(pooled, rate=pool_drop_rate)\n",
    "\n",
    "    def _create_flatten_layer(self, tensor):\n",
    "        return tf.reshape(tensor, [-1, tensor.shape[1] * tensor.shape[2]])\n",
    "\n",
    "\n",
    "if __name__ == '__main__':\n",
    "    embedding_size  = 300\n",
    "    num_words       = 1000\n",
    "    sentence_length = 10\n",
    "\n",
    "    embedding = [\n",
    "        [float(i) for i in range(embedding_size)] for _ in range(num_words)\n",
    "    ]\n",
    "    data = [\n",
    "        [i     for i in range(sentence_length)],\n",
    "        [i + 1 for i in range(sentence_length)]\n",
    "    ]\n",
    "\n",
    "    model = ZhouBLSTMCNNModel(embedding)\n",
    "    model(data)\n",
    "    model.summary()"
   ]
  },
  {
   "cell_type": "code",
   "execution_count": 19,
   "id": "d8f8bd39",
   "metadata": {
    "execution": {
     "iopub.execute_input": "2021-11-14T17:01:18.537992Z",
     "iopub.status.busy": "2021-11-14T17:01:18.537102Z",
     "iopub.status.idle": "2021-11-14T17:01:19.047990Z",
     "shell.execute_reply": "2021-11-14T17:01:19.047493Z",
     "shell.execute_reply.started": "2021-11-11T08:47:01.136525Z"
    },
    "id": "b9022754",
    "papermill": {
     "duration": 0.542821,
     "end_time": "2021-11-14T17:01:19.048128",
     "exception": false,
     "start_time": "2021-11-14T17:01:18.505307",
     "status": "completed"
    },
    "tags": []
   },
   "outputs": [],
   "source": [
    "import tensorflow as tf\n",
    "from numba import jit, cuda\n",
    "\n",
    "class Classifier:\n",
    "\n",
    "    def __init__(self, model, input_length, output_length):\n",
    "        '''Constructor.\n",
    "        # Parameters:\n",
    "        input_length: sentence length (max number of words in sentence)\n",
    "        output_length: number of classes of sentiment\n",
    "        '''\n",
    "        self.model = model\n",
    "        self.input_length = input_length\n",
    "        self.output_length = output_length\n",
    "\n",
    "    def compile(self, batch_size=32):\n",
    "        tf.compat.v1.disable_eager_execution()\n",
    "        self._ds_x = tf.compat.v1.placeholder(tf.float32, [None, self.input_length])\n",
    "        self._ds_y = tf.compat.v1.placeholder(tf.float32, [None, self.output_length])\n",
    "\n",
    "        ds = tf.compat.v1.data.Dataset.from_tensor_slices((self._ds_x, self._ds_y))\n",
    "        ds = ds.batch(batch_size)\n",
    "\n",
    "        self._ds_it = ds.make_initializable_iterator()\n",
    "        self._input, self._labels = self._ds_it.get_next()\n",
    "\n",
    "        self._features = self.model(self._input)\n",
    "        self._output = _create_dense_layer(self._features, self.output_length)\n",
    "\n",
    "        self._create_acc_computations()\n",
    "        self._create_backpropagation()\n",
    "\n",
    "        self._session = tf.compat.v1.Session()\n",
    "        self._session.run(tf.compat.v1.global_variables_initializer())\n",
    "        self._session.run(tf.compat.v1.local_variables_initializer())\n",
    "\n",
    "    def _create_acc_computations(self):\n",
    "        self._predictions = tf.argmax(self._output, 1)\n",
    "        labels = tf.argmax(self._labels, 1)\n",
    "        self._accuracy = tf.reduce_mean(\n",
    "            tf.cast(tf.equal(self._predictions, labels), 'float32'))\n",
    "\n",
    "    def _create_backpropagation(self):\n",
    "        losses = tf.compat.v1.nn.softmax_cross_entropy_with_logits_v2(\n",
    "            logits=self._output,\n",
    "            labels=self._labels)\n",
    "        self._loss = tf.reduce_mean(losses)\n",
    "\n",
    "        optimizer = tf.compat.v1.train.AdamOptimizer(0.001)\n",
    "        global_step = tf.Variable(0, name=\"global_step\", trainable=False)\n",
    "        grads_and_vars = optimizer.compute_gradients(self._loss)\n",
    "\n",
    "        self._train_op = optimizer.apply_gradients(\n",
    "            grads_and_vars, global_step=global_step)\n",
    "\n",
    "    def summary(self):\n",
    "        print('input:', self._input.shape)\n",
    "        self.model.summary()\n",
    "        print('output:', self._output.shape)\n",
    "\n",
    "#     @jit(target =\"cuda\")  \n",
    "    def train(self, X_train, y_train, X_eval, y_eval, epochs=10):\n",
    "        import time\n",
    "        start_train = time.time()\n",
    "        losslist = []\n",
    "        acclist = []\n",
    "        val_losslist = []\n",
    "        val_acclist =[]\n",
    "        for e in range(epochs):\n",
    "            start_time = time.time()\n",
    "            loss, acc = self._train(X_train, y_train)\n",
    "            losslist.append(loss)\n",
    "            acclist.append(acc)\n",
    "            duration = time.time() - start_time\n",
    "\n",
    "            val_loss, val_acc = self._eval(X_eval, y_eval)\n",
    "            val_losslist.append(val_loss)\n",
    "            val_acclist.append(val_acc)\n",
    "            \n",
    "            output = 'Epoch: {}, loss = {:.4f}, acc = {:.4f}, val_loss = {:.4f}, val_acc = {:.4f}, Time = {:.2f}s'\n",
    "            print(output.format(e + 1, loss, acc, val_loss, val_acc, duration))\n",
    "        \n",
    "        total_duration = time.time() - start_train\n",
    "        return losslist, acclist, val_losslist, val_acclist, total_duration\n",
    "\n",
    "#     @jit(target =\"cuda\")  \n",
    "    def _train(self, X_train, y_train):\n",
    "        import numpy as np\n",
    "\n",
    "        self._session.run(\n",
    "            fetches=self._ds_it.initializer,\n",
    "            feed_dict={\n",
    "                self._ds_x: X_train,\n",
    "                self._ds_y: y_train\n",
    "            })\n",
    "        loss, acc, = [], []\n",
    "        while True:\n",
    "            try:\n",
    "                _, vloss, vacc = self._session.run(\n",
    "                    fetches=[self._train_op, self._loss, self._accuracy])\n",
    "\n",
    "                loss.append(vloss)\n",
    "                acc.append(vacc)\n",
    "            except tf.errors.OutOfRangeError:\n",
    "                break\n",
    "        # endwhile\n",
    "\n",
    "        loss, acc = np.mean(loss), np.mean(acc)\n",
    "        return loss, acc\n",
    "\n",
    "    def _eval(self, X_val, y_val):\n",
    "        self._session.run(\n",
    "            fetches=self._ds_it.initializer,\n",
    "            feed_dict={\n",
    "                self._ds_x: X_val,\n",
    "                self._ds_y: y_val\n",
    "            })\n",
    "\n",
    "        loss, acc, = 0, 0\n",
    "        while True:\n",
    "            try:\n",
    "                l, vloss, vacc = self._session.run(\n",
    "                    fetches=[self._labels, self._loss, self._accuracy])\n",
    "\n",
    "                loss += vloss * len(l)\n",
    "                acc += vacc * len(l)\n",
    "            except tf.errors.OutOfRangeError:\n",
    "                break\n",
    "\n",
    "        return loss / len(X_val), acc / len(X_val)\n",
    "\n",
    "    def predict(self, X):\n",
    "        import numpy as np\n",
    "\n",
    "        self._session.run(self._ds_it.initializer,\n",
    "                         feed_dict={\n",
    "                             self._ds_x: X,\n",
    "                             self._ds_y: np.empty((len(X), self.output_length))\n",
    "                         }\n",
    "                         )\n",
    "\n",
    "        pred = list()\n",
    "        while True:\n",
    "            try:\n",
    "                ppred = self._session.run(tf.nn.softmax(self._output))\n",
    "\n",
    "                pred.extend(map(lambda l: l.tolist(), ppred))\n",
    "            except tf.errors.OutOfRangeError:\n",
    "                break\n",
    "\n",
    "        return pred\n",
    "\n",
    "def _create_dense_layer(x, output_length):\n",
    "    '''Creates a dense layer\n",
    "    '''\n",
    "    input_size = x.shape[1] #.value\n",
    "    W = tf.Variable(\n",
    "        initial_value=tf.random.truncated_normal(\n",
    "            shape=[input_size, output_length],\n",
    "            stddev=0.1))\n",
    "    b = tf.Variable(\n",
    "        initial_value=tf.random.truncated_normal(\n",
    "            shape=[output_length]))\n",
    "\n",
    "    dense = tf.compat.v1.nn.xw_plus_b(x, W, b)\n",
    "\n",
    "    return dense\n",
    "\n",
    "\n",
    "if __name__ == '__main__':\n",
    "    pass"
   ]
  },
  {
   "cell_type": "code",
   "execution_count": 20,
   "id": "a46eaaa5",
   "metadata": {
    "execution": {
     "iopub.execute_input": "2021-11-14T17:01:19.124115Z",
     "iopub.status.busy": "2021-11-14T17:01:19.123062Z",
     "iopub.status.idle": "2021-11-14T17:54:29.001808Z",
     "shell.execute_reply": "2021-11-14T17:54:29.002370Z",
     "shell.execute_reply.started": "2021-11-11T08:47:01.336617Z"
    },
    "id": "5d641e4d",
    "outputId": "21842934-a521-42b1-8a69-f27197668265",
    "papermill": {
     "duration": 3189.92482,
     "end_time": "2021-11-14T17:54:29.002592",
     "exception": false,
     "start_time": "2021-11-14T17:01:19.077772",
     "status": "completed"
    },
    "tags": []
   },
   "outputs": [
    {
     "name": "stderr",
     "output_type": "stream",
     "text": [
      "/opt/conda/lib/python3.7/site-packages/keras/engine/base_layer_v1.py:1684: UserWarning: `layer.add_variable` is deprecated and will be removed in a future version. Please use `layer.add_weight` method instead.\n",
      "  warnings.warn('`layer.add_variable` is deprecated and '\n"
     ]
    },
    {
     "name": "stdout",
     "output_type": "stream",
     "text": [
      "(None, 110, 300)\n"
     ]
    },
    {
     "name": "stderr",
     "output_type": "stream",
     "text": [
      "2021-11-14 17:01:31.986632: I tensorflow/stream_executor/cuda/cuda_gpu_executor.cc:937] successful NUMA node read from SysFS had negative value (-1), but there must be at least one NUMA node, so returning NUMA node zero\n",
      "2021-11-14 17:01:31.987533: I tensorflow/stream_executor/cuda/cuda_gpu_executor.cc:937] successful NUMA node read from SysFS had negative value (-1), but there must be at least one NUMA node, so returning NUMA node zero\n",
      "2021-11-14 17:01:31.988256: I tensorflow/stream_executor/cuda/cuda_gpu_executor.cc:937] successful NUMA node read from SysFS had negative value (-1), but there must be at least one NUMA node, so returning NUMA node zero\n",
      "2021-11-14 17:01:31.989023: I tensorflow/stream_executor/cuda/cuda_gpu_executor.cc:937] successful NUMA node read from SysFS had negative value (-1), but there must be at least one NUMA node, so returning NUMA node zero\n",
      "2021-11-14 17:01:31.989664: I tensorflow/stream_executor/cuda/cuda_gpu_executor.cc:937] successful NUMA node read from SysFS had negative value (-1), but there must be at least one NUMA node, so returning NUMA node zero\n",
      "2021-11-14 17:01:31.990171: I tensorflow/core/common_runtime/gpu/gpu_device.cc:1510] Created device /job:localhost/replica:0/task:0/device:GPU:0 with 15403 MB memory:  -> device: 0, name: Tesla P100-PCIE-16GB, pci bus id: 0000:00:04.0, compute capability: 6.0\n"
     ]
    },
    {
     "name": "stdout",
     "output_type": "stream",
     "text": [
      "input: (None, 110)\n",
      "embedding: (None, 110, 300)\n",
      "lstm: (None, 110, 300)\n",
      "conv: (None, 108, 298, 100)\n",
      "pooling: (None, 54, 149, 1, 1)\n",
      "flatten: (None, 8046)\n",
      "output: (None, 6)\n",
      "Epoch: 1, loss = 5.8819, acc = 0.2464, val_loss = 2.2444, val_acc = 0.2610, Time = 146.01s\n",
      "Epoch: 2, loss = 1.9857, acc = 0.2685, val_loss = 1.8223, val_acc = 0.2808, Time = 142.38s\n",
      "Epoch: 3, loss = 1.7518, acc = 0.2991, val_loss = 1.7068, val_acc = 0.3098, Time = 132.41s\n",
      "Epoch: 4, loss = 1.6608, acc = 0.3074, val_loss = 1.6498, val_acc = 0.3143, Time = 143.21s\n",
      "Epoch: 5, loss = 1.6470, acc = 0.3069, val_loss = 1.7257, val_acc = 0.2888, Time = 139.02s\n",
      "Epoch: 6, loss = 1.6457, acc = 0.3109, val_loss = 1.6046, val_acc = 0.3373, Time = 138.82s\n",
      "Epoch: 7, loss = 1.0921, acc = 0.5934, val_loss = 0.6138, val_acc = 0.7540, Time = 140.28s\n",
      "Epoch: 8, loss = 0.4879, acc = 0.7981, val_loss = 0.4107, val_acc = 0.8535, Time = 140.03s\n",
      "Epoch: 9, loss = 0.2862, acc = 0.9074, val_loss = 0.2485, val_acc = 0.9075, Time = 141.88s\n",
      "Epoch: 10, loss = 0.1824, acc = 0.9311, val_loss = 0.2092, val_acc = 0.9167, Time = 130.75s\n",
      "Epoch: 11, loss = 0.1451, acc = 0.9409, val_loss = 0.1985, val_acc = 0.9265, Time = 139.41s\n",
      "Epoch: 12, loss = 0.1263, acc = 0.9477, val_loss = 0.1930, val_acc = 0.9210, Time = 137.87s\n",
      "Epoch: 13, loss = 0.1346, acc = 0.9499, val_loss = 0.1885, val_acc = 0.9262, Time = 137.96s\n",
      "Epoch: 14, loss = 0.1042, acc = 0.9594, val_loss = 0.2098, val_acc = 0.9275, Time = 141.32s\n",
      "Epoch: 15, loss = 0.0864, acc = 0.9667, val_loss = 0.2220, val_acc = 0.9227, Time = 142.52s\n",
      "Epoch: 16, loss = 0.0772, acc = 0.9699, val_loss = 0.2138, val_acc = 0.9272, Time = 141.78s\n",
      "Epoch: 17, loss = 0.0627, acc = 0.9771, val_loss = 0.2523, val_acc = 0.9230, Time = 141.97s\n",
      "Epoch: 18, loss = 0.0612, acc = 0.9768, val_loss = 0.2529, val_acc = 0.9212, Time = 143.62s\n",
      "Epoch: 19, loss = 0.0511, acc = 0.9803, val_loss = 0.2506, val_acc = 0.9275, Time = 144.20s\n",
      "Epoch: 20, loss = 0.0473, acc = 0.9820, val_loss = 0.3210, val_acc = 0.9190, Time = 143.12s\n",
      "total time taken:  3172.197090148926\n",
      "Predictions: [[6.973537303167632e-09, 1.581347493272503e-14, 1.0, 5.688984283658272e-10, 7.119431433277867e-11, 5.519663892616933e-11], [2.0456518701195137e-09, 5.730606367732644e-18, 1.0, 3.3280704581084564e-11, 7.407132546211059e-11, 7.47126319144975e-12]]\n",
      "Real: [[0. 0. 1. 0. 0. 0.]\n",
      " [0. 0. 1. 0. 0. 0.]]\n"
     ]
    }
   ],
   "source": [
    "import pickle\n",
    "import numpy as np\n",
    "import sys\n",
    "# from fen.classifier import Classifier\n",
    "# from fen.pzhou_tf import ZhouBLSTMCNNModel\n",
    "\n",
    "if __name__ == '__main__':\n",
    "\n",
    "#     (X_train, y_train), (X_eval, y_eval) = (X_train, y_train), (X_test, y_test)\n",
    "\n",
    "    word_vector = word_embeds\n",
    "    word_vector = word_vector.astype('float32')\n",
    "    \n",
    "    sentence_length = X_train[0].shape[0] # sentence length = 37 -- if less than 37, remaining is 0\n",
    "    num_classes = y_train[0].shape[0] # 6 sentiment classes\n",
    "\n",
    "#     with tf.device('/device:GPU:0'):\n",
    "    model = ZhouBLSTMCNNModel(embedding=word_vector) #pass in word_vector as lookup table\n",
    "\n",
    "    classifier = Classifier(\n",
    "        model=model,\n",
    "        input_length=sentence_length,\n",
    "        output_length=num_classes)\n",
    "\n",
    "    classifier.compile(batch_size=10)\n",
    "    classifier.summary()\n",
    "    loss, acc, val_loss, val_acc, duration = classifier.train(\n",
    "        X_train=X_train,\n",
    "        y_train=y_train,\n",
    "        X_eval=X_test,\n",
    "        y_eval=y_test,\n",
    "        epochs=20\n",
    "    )\n",
    "\n",
    "    print(\"total time taken: \", duration)\n",
    "    print(\"Predictions:\", classifier.predict(X_train[0:2]))\n",
    "    print(\"Real:\", y_train[0:2])"
   ]
  },
  {
   "cell_type": "code",
   "execution_count": 21,
   "id": "2e6f9fff",
   "metadata": {
    "execution": {
     "iopub.execute_input": "2021-11-14T17:54:29.096912Z",
     "iopub.status.busy": "2021-11-14T17:54:29.093143Z",
     "iopub.status.idle": "2021-11-14T17:54:29.370038Z",
     "shell.execute_reply": "2021-11-14T17:54:29.369336Z",
     "shell.execute_reply.started": "2021-11-11T09:52:41.678475Z"
    },
    "papermill": {
     "duration": 0.330241,
     "end_time": "2021-11-14T17:54:29.370203",
     "exception": false,
     "start_time": "2021-11-14T17:54:29.039962",
     "status": "completed"
    },
    "tags": []
   },
   "outputs": [
    {
     "data": {
      "image/png": "[encoded data removed]",
      "text/plain": [
       "<Figure size 432x288 with 1 Axes>"
      ]
     },
     "metadata": {
      "needs_background": "light"
     },
     "output_type": "display_data"
    }
   ],
   "source": [
    "epochslist = [i for i in range(0,20)]\n",
    "plt.plot(epochslist, loss)\n",
    "plt.title('training loss')\n",
    "plt.xlabel('epochs')\n",
    "plt.ylabel('training loss')\n",
    "plt.show()"
   ]
  },
  {
   "cell_type": "code",
   "execution_count": 22,
   "id": "07801f96",
   "metadata": {
    "execution": {
     "iopub.execute_input": "2021-11-14T17:54:29.496954Z",
     "iopub.status.busy": "2021-11-14T17:54:29.496209Z",
     "iopub.status.idle": "2021-11-14T17:54:29.723537Z",
     "shell.execute_reply": "2021-11-14T17:54:29.724163Z",
     "shell.execute_reply.started": "2021-11-11T09:52:46.362674Z"
    },
    "papermill": {
     "duration": 0.294566,
     "end_time": "2021-11-14T17:54:29.724352",
     "exception": false,
     "start_time": "2021-11-14T17:54:29.429786",
     "status": "completed"
    },
    "tags": []
   },
   "outputs": [
    {
     "data": {
      "image/png": "[encoded data removed]",
      "text/plain": [
       "<Figure size 432x288 with 1 Axes>"
      ]
     },
     "metadata": {
      "needs_background": "light"
     },
     "output_type": "display_data"
    }
   ],
   "source": [
    "plt.plot(epochslist, acc)\n",
    "plt.title('training acc')\n",
    "plt.xlabel('epochs')\n",
    "plt.ylabel('training acc')\n",
    "plt.show()"
   ]
  },
  {
   "cell_type": "code",
   "execution_count": 23,
   "id": "47b034aa",
   "metadata": {
    "execution": {
     "iopub.execute_input": "2021-11-14T17:54:29.865876Z",
     "iopub.status.busy": "2021-11-14T17:54:29.859359Z",
     "iopub.status.idle": "2021-11-14T17:54:30.014795Z",
     "shell.execute_reply": "2021-11-14T17:54:30.015209Z",
     "shell.execute_reply.started": "2021-11-11T09:52:50.096413Z"
    },
    "papermill": {
     "duration": 0.232276,
     "end_time": "2021-11-14T17:54:30.015354",
     "exception": false,
     "start_time": "2021-11-14T17:54:29.783078",
     "status": "completed"
    },
    "tags": []
   },
   "outputs": [
    {
     "data": {
      "image/png": "[encoded data removed]",
      "text/plain": [
       "<Figure size 432x288 with 1 Axes>"
      ]
     },
     "metadata": {
      "needs_background": "light"
     },
     "output_type": "display_data"
    }
   ],
   "source": [
    "plt.plot(epochslist, val_loss)\n",
    "plt.title('validation loss')\n",
    "plt.xlabel('epochs')\n",
    "plt.ylabel('validation loss')\n",
    "plt.show()"
   ]
  },
  {
   "cell_type": "code",
   "execution_count": 24,
   "id": "c17ff26b",
   "metadata": {
    "execution": {
     "iopub.execute_input": "2021-11-14T17:54:30.128075Z",
     "iopub.status.busy": "2021-11-14T17:54:30.121401Z",
     "iopub.status.idle": "2021-11-14T17:54:30.284508Z",
     "shell.execute_reply": "2021-11-14T17:54:30.285212Z",
     "shell.execute_reply.started": "2021-11-11T09:52:56.746409Z"
    },
    "papermill": {
     "duration": 0.230948,
     "end_time": "2021-11-14T17:54:30.285361",
     "exception": false,
     "start_time": "2021-11-14T17:54:30.054413",
     "status": "completed"
    },
    "tags": []
   },
   "outputs": [
    {
     "data": {
      "image/png": "[encoded data removed]",
      "text/plain": [
       "<Figure size 432x288 with 1 Axes>"
      ]
     },
     "metadata": {
      "needs_background": "light"
     },
     "output_type": "display_data"
    }
   ],
   "source": [
    "plt.plot(epochslist, val_acc)\n",
    "plt.title('validation acc')\n",
    "plt.xlabel('epochs')\n",
    "plt.ylabel('validation acc')\n",
    "plt.show()"
   ]
  },
  {
   "cell_type": "code",
   "execution_count": 25,
   "id": "9c3fe52e",
   "metadata": {
    "execution": {
     "iopub.execute_input": "2021-11-14T17:54:30.371403Z",
     "iopub.status.busy": "2021-11-14T17:54:30.370795Z",
     "iopub.status.idle": "2021-11-14T17:54:30.374608Z",
     "shell.execute_reply": "2021-11-14T17:54:30.375013Z"
    },
    "papermill": {
     "duration": 0.051118,
     "end_time": "2021-11-14T17:54:30.375148",
     "exception": false,
     "start_time": "2021-11-14T17:54:30.324030",
     "status": "completed"
    },
    "tags": []
   },
   "outputs": [
    {
     "name": "stdout",
     "output_type": "stream",
     "text": [
      "Found 4 unique words (3 in total)\n",
      "processed:  [[1, 3, 2, 0, 0, 0, 0, 0, 0, 0, 0, 0, 0, 0, 0, 0, 0, 0, 0, 0, 0, 0, 0, 0, 0, 0, 0, 0, 0, 0, 0, 0, 0, 0, 0, 0, 0, 0, 0, 0, 0, 0, 0, 0, 0, 0, 0, 0, 0, 0, 0, 0, 0, 0, 0, 0, 0, 0, 0, 0, 0, 0, 0, 0, 0, 0, 0, 0, 0, 0, 0, 0, 0, 0, 0, 0, 0, 0, 0, 0, 0, 0, 0, 0, 0, 0, 0, 0, 0, 0, 0, 0, 0, 0, 0, 0, 0, 0, 0, 0, 0, 0, 0, 0, 0, 0, 0, 0, 0, 0]]\n",
      "Found 19 unique words (18 in total)\n",
      "processed:  [[10, 2, 15, 12, 8, 5, 14, 17, 4, 11, 9, 13, 3, 7, 16, 6, 18, 1, 0, 0, 0, 0, 0, 0, 0, 0, 0, 0, 0, 0, 0, 0, 0, 0, 0, 0, 0, 0, 0, 0, 0, 0, 0, 0, 0, 0, 0, 0, 0, 0, 0, 0, 0, 0, 0, 0, 0, 0, 0, 0, 0, 0, 0, 0, 0, 0, 0, 0, 0, 0, 0, 0, 0, 0, 0, 0, 0, 0, 0, 0, 0, 0, 0, 0, 0, 0, 0, 0, 0, 0, 0, 0, 0, 0, 0, 0, 0, 0, 0, 0, 0, 0, 0, 0, 0, 0, 0, 0, 0, 0]]\n",
      "Found 15 unique words (16 in total)\n",
      "processed:  [[2, 11, 10, 13, 6, 9, 7, 1, 14, 8, 1, 3, 12, 2, 4, 5, 0, 0, 0, 0, 0, 0, 0, 0, 0, 0, 0, 0, 0, 0, 0, 0, 0, 0, 0, 0, 0, 0, 0, 0, 0, 0, 0, 0, 0, 0, 0, 0, 0, 0, 0, 0, 0, 0, 0, 0, 0, 0, 0, 0, 0, 0, 0, 0, 0, 0, 0, 0, 0, 0, 0, 0, 0, 0, 0, 0, 0, 0, 0, 0, 0, 0, 0, 0, 0, 0, 0, 0, 0, 0, 0, 0, 0, 0, 0, 0, 0, 0, 0, 0, 0, 0, 0, 0, 0, 0, 0, 0, 0, 0]]\n"
     ]
    }
   ],
   "source": [
    "predsent1 = 'a wonderful day'\n",
    "predsent2 = 'i am not like everyone around me who are leading great lives and doing well at work.'\n",
    "predsent3 = 'i went to work in the morning and worked overtime and cried when i got home'\n",
    "\n",
    "def preprocesspred(predsent):\n",
    "    tokens = word_tokenize(predsent)\n",
    "    dico_words,word_to_id,id_to_word = word_mapping([tokens], True)\n",
    "    data = prepare_dataset([tokens], word_to_id, True)\n",
    "    word_indices = [i['words'] for i in data]\n",
    "    padded_indices = []\n",
    "    for sent in word_indices:\n",
    "        padding_size = 110 - len(sent)\n",
    "        padded = sent + [0 for i in range(padding_size)]\n",
    "        padded_indices.append(padded)\n",
    "    \n",
    "    print('processed: ', padded_indices)\n",
    "    return padded_indices\n",
    "\n",
    "processed_predsent1 = preprocesspred(predsent1)\n",
    "processed_predsent2 = preprocesspred(predsent2)\n",
    "processed_predsent3 = preprocesspred(predsent3)"
   ]
  },
  {
   "cell_type": "code",
   "execution_count": 26,
   "id": "75e12f32",
   "metadata": {
    "execution": {
     "iopub.execute_input": "2021-11-14T17:54:30.456539Z",
     "iopub.status.busy": "2021-11-14T17:54:30.455791Z",
     "iopub.status.idle": "2021-11-14T17:54:36.216200Z",
     "shell.execute_reply": "2021-11-14T17:54:36.217070Z"
    },
    "papermill": {
     "duration": 5.803625,
     "end_time": "2021-11-14T17:54:36.217287",
     "exception": false,
     "start_time": "2021-11-14T17:54:30.413662",
     "status": "completed"
    },
    "tags": []
   },
   "outputs": [
    {
     "name": "stdout",
     "output_type": "stream",
     "text": [
      "a wonderful day\n",
      "Predictions: [[0.17605182528495789, 0.0031130174174904823, 0.8172718286514282, 5.692514241673052e-05, 0.003454700345173478, 5.175184924155474e-05]]\n"
     ]
    }
   ],
   "source": [
    "print(predsent1)\n",
    "predvector = classifier.predict(processed_predsent1)\n",
    "print(\"Predictions:\", predvector)"
   ]
  },
  {
   "cell_type": "code",
   "execution_count": 27,
   "id": "c434dde6",
   "metadata": {
    "execution": {
     "iopub.execute_input": "2021-11-14T17:54:36.302512Z",
     "iopub.status.busy": "2021-11-14T17:54:36.301739Z",
     "iopub.status.idle": "2021-11-14T17:54:40.749156Z",
     "shell.execute_reply": "2021-11-14T17:54:40.748318Z"
    },
    "papermill": {
     "duration": 4.491675,
     "end_time": "2021-11-14T17:54:40.749329",
     "exception": false,
     "start_time": "2021-11-14T17:54:36.257654",
     "status": "completed"
    },
    "tags": []
   },
   "outputs": [
    {
     "name": "stdout",
     "output_type": "stream",
     "text": [
      "i am not like everyone around me who are leading great lives and doing well at work.\n",
      "Predictions: [[0.0020103210117667913, 0.0007817049045115709, 0.9960390329360962, 1.7508098608232103e-05, 0.001150954281911254, 5.162037268746644e-07]]\n"
     ]
    }
   ],
   "source": [
    "print(predsent2)\n",
    "predvector = classifier.predict(processed_predsent2)\n",
    "print(\"Predictions:\", predvector)"
   ]
  },
  {
   "cell_type": "code",
   "execution_count": 28,
   "id": "b0ed9596",
   "metadata": {
    "execution": {
     "iopub.execute_input": "2021-11-14T17:54:40.839195Z",
     "iopub.status.busy": "2021-11-14T17:54:40.838431Z",
     "iopub.status.idle": "2021-11-14T17:54:44.894402Z",
     "shell.execute_reply": "2021-11-14T17:54:44.893758Z"
    },
    "papermill": {
     "duration": 4.100371,
     "end_time": "2021-11-14T17:54:44.894539",
     "exception": false,
     "start_time": "2021-11-14T17:54:40.794168",
     "status": "completed"
    },
    "tags": []
   },
   "outputs": [
    {
     "name": "stdout",
     "output_type": "stream",
     "text": [
      "i went to work in the morning and worked overtime and cried when i got home\n",
      "Predictions: [[4.5859982492402196e-05, 1.1023638535334612e-06, 0.9995538592338562, 0.00037053428241051733, 2.815673542500008e-05, 4.921859613205015e-07]]\n"
     ]
    }
   ],
   "source": [
    "print(predsent3)\n",
    "predvector = classifier.predict(processed_predsent3)\n",
    "print(\"Predictions:\", predvector)"
   ]
  },
  {
   "cell_type": "code",
   "execution_count": 29,
   "id": "c022d24c",
   "metadata": {
    "execution": {
     "iopub.execute_input": "2021-11-14T17:54:44.984329Z",
     "iopub.status.busy": "2021-11-14T17:54:44.983280Z",
     "iopub.status.idle": "2021-11-14T17:54:44.988639Z",
     "shell.execute_reply": "2021-11-14T17:54:44.989062Z",
     "shell.execute_reply.started": "2021-11-11T09:37:13.111276Z"
    },
    "id": "rA2NYcIGP7dP",
    "papermill": {
     "duration": 0.053594,
     "end_time": "2021-11-14T17:54:44.989200",
     "exception": false,
     "start_time": "2021-11-14T17:54:44.935606",
     "status": "completed"
    },
    "tags": []
   },
   "outputs": [
    {
     "name": "stdout",
     "output_type": "stream",
     "text": [
      "/device:GPU:0\n"
     ]
    },
    {
     "name": "stderr",
     "output_type": "stream",
     "text": [
      "2021-11-14 17:54:44.978988: I tensorflow/stream_executor/cuda/cuda_gpu_executor.cc:937] successful NUMA node read from SysFS had negative value (-1), but there must be at least one NUMA node, so returning NUMA node zero\n",
      "2021-11-14 17:54:44.979552: I tensorflow/stream_executor/cuda/cuda_gpu_executor.cc:937] successful NUMA node read from SysFS had negative value (-1), but there must be at least one NUMA node, so returning NUMA node zero\n",
      "2021-11-14 17:54:44.979888: I tensorflow/stream_executor/cuda/cuda_gpu_executor.cc:937] successful NUMA node read from SysFS had negative value (-1), but there must be at least one NUMA node, so returning NUMA node zero\n",
      "2021-11-14 17:54:44.980300: I tensorflow/stream_executor/cuda/cuda_gpu_executor.cc:937] successful NUMA node read from SysFS had negative value (-1), but there must be at least one NUMA node, so returning NUMA node zero\n",
      "2021-11-14 17:54:44.980642: I tensorflow/stream_executor/cuda/cuda_gpu_executor.cc:937] successful NUMA node read from SysFS had negative value (-1), but there must be at least one NUMA node, so returning NUMA node zero\n",
      "2021-11-14 17:54:44.980910: I tensorflow/core/common_runtime/gpu/gpu_device.cc:1510] Created device /device:GPU:0 with 15403 MB memory:  -> device: 0, name: Tesla P100-PCIE-16GB, pci bus id: 0000:00:04.0, compute capability: 6.0\n"
     ]
    }
   ],
   "source": [
    "device_name = tf.test.gpu_device_name()\n",
    "print(device_name)"
   ]
  },
  {
   "cell_type": "markdown",
   "id": "55ba3046",
   "metadata": {
    "id": "f0043b74",
    "papermill": {
     "duration": 0.042417,
     "end_time": "2021-11-14T17:54:45.074242",
     "exception": false,
     "start_time": "2021-11-14T17:54:45.031825",
     "status": "completed"
    },
    "tags": []
   },
   "source": [
    "### testing"
   ]
  },
  {
   "cell_type": "code",
   "execution_count": 30,
   "id": "c608580d",
   "metadata": {
    "execution": {
     "iopub.execute_input": "2021-11-14T17:54:45.162284Z",
     "iopub.status.busy": "2021-11-14T17:54:45.161629Z",
     "iopub.status.idle": "2021-11-14T17:54:45.165467Z",
     "shell.execute_reply": "2021-11-14T17:54:45.164707Z",
     "shell.execute_reply.started": "2021-11-11T09:37:13.113149Z"
    },
    "id": "28711b61",
    "outputId": "f5ddbd0b-6258-4341-9b0b-650747e3449a",
    "papermill": {
     "duration": 0.049391,
     "end_time": "2021-11-14T17:54:45.165619",
     "exception": false,
     "start_time": "2021-11-14T17:54:45.116228",
     "status": "completed"
    },
    "tags": []
   },
   "outputs": [
    {
     "name": "stdout",
     "output_type": "stream",
     "text": [
      "Num GPUs Available:  1\n"
     ]
    }
   ],
   "source": [
    "print(\"Num GPUs Available: \", len(tf.config.list_physical_devices('GPU')))"
   ]
  }
 ],
 "metadata": {
  "kernelspec": {
   "display_name": "Python 3",
   "language": "python",
   "name": "python3"
  },
  "language_info": {
   "codemirror_mode": {
    "name": "ipython",
    "version": 3
   },
   "file_extension": ".py",
   "mimetype": "text/x-python",
   "name": "python",
   "nbconvert_exporter": "python",
   "pygments_lexer": "ipython3",
   "version": "3.7.10"
  },
  "papermill": {
   "default_parameters": {},
   "duration": 3318.600577,
   "end_time": "2021-11-14T17:54:48.561910",
   "environment_variables": {},
   "exception": null,
   "input_path": "__notebook__.ipynb",
   "output_path": "__notebook__.ipynb",
   "parameters": {},
   "start_time": "2021-11-14T16:59:29.961333",
   "version": "2.3.3"
  }
 },
 "nbformat": 4,
 "nbformat_minor": 5
}
