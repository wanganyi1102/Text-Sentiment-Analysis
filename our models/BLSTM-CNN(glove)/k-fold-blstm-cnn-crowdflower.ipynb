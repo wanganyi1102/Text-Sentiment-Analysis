{
 "cells": [
  {
   "cell_type": "code",
   "execution_count": 1,
   "id": "d088934a",
   "metadata": {
    "execution": {
     "iopub.execute_input": "2021-11-12T20:06:26.002579Z",
     "iopub.status.busy": "2021-11-12T20:06:26.001143Z",
     "iopub.status.idle": "2021-11-12T20:06:26.004769Z",
     "shell.execute_reply": "2021-11-12T20:06:26.005184Z",
     "shell.execute_reply.started": "2021-11-12T19:46:44.551715Z"
    },
    "papermill": {
     "duration": 0.034278,
     "end_time": "2021-11-12T20:06:26.005412",
     "exception": false,
     "start_time": "2021-11-12T20:06:25.971134",
     "status": "completed"
    },
    "tags": []
   },
   "outputs": [],
   "source": [
    "# conda install keras"
   ]
  },
  {
   "cell_type": "code",
   "execution_count": 2,
   "id": "376a8498",
   "metadata": {
    "execution": {
     "iopub.execute_input": "2021-11-12T20:06:26.059187Z",
     "iopub.status.busy": "2021-11-12T20:06:26.058448Z",
     "iopub.status.idle": "2021-11-12T20:06:26.060363Z",
     "shell.execute_reply": "2021-11-12T20:06:26.060775Z",
     "shell.execute_reply.started": "2021-11-12T19:46:37.932936Z"
    },
    "papermill": {
     "duration": 0.029247,
     "end_time": "2021-11-12T20:06:26.060895",
     "exception": false,
     "start_time": "2021-11-12T20:06:26.031648",
     "status": "completed"
    },
    "tags": []
   },
   "outputs": [],
   "source": [
    "# pip install np_utils"
   ]
  },
  {
   "cell_type": "code",
   "execution_count": 3,
   "id": "d44478bb",
   "metadata": {
    "execution": {
     "iopub.execute_input": "2021-11-12T20:06:26.122332Z",
     "iopub.status.busy": "2021-11-12T20:06:26.121613Z",
     "iopub.status.idle": "2021-11-12T20:06:32.210056Z",
     "shell.execute_reply": "2021-11-12T20:06:32.209528Z",
     "shell.execute_reply.started": "2021-11-12T20:03:34.877317Z"
    },
    "papermill": {
     "duration": 6.124937,
     "end_time": "2021-11-12T20:06:32.210210",
     "exception": false,
     "start_time": "2021-11-12T20:06:26.085273",
     "status": "completed"
    },
    "tags": []
   },
   "outputs": [],
   "source": [
    "import numpy as np\n",
    "import pandas as pd\n",
    "\n",
    "from gensim import corpora\n",
    "from nltk.corpus import stopwords\n",
    "from nltk.tokenize import word_tokenize \n",
    "from nltk.stem import SnowballStemmer\n",
    "\n",
    "from tensorflow.keras.preprocessing import sequence\n",
    "# from tensorflow.keras.utils import np_utils\n",
    "from tensorflow.python.keras.utils.np_utils import to_categorical\n",
    "import tensorflow.python.keras.utils.np_utils\n",
    "from tensorflow.keras.models import Sequential\n",
    "from tensorflow.keras.layers import Dense, Dropout, Activation, Embedding\n",
    "from tensorflow.keras.layers import LSTM\n",
    "# from tensorflow.sklearn import preprocessing\n",
    "# from tensorflow.sklearn.metrics import (precision_score, recall_score,\n",
    "#                              f1_score, accuracy_score,mean_squared_error,mean_absolute_error)\n",
    "np.random.seed(0)\n",
    "from tensorflow.keras.optimizers import RMSprop\n",
    "from keras import callbacks\n",
    "from keras.callbacks import ModelCheckpoint, EarlyStopping, ReduceLROnPlateau, CSVLogger\n"
   ]
  },
  {
   "cell_type": "markdown",
   "id": "196cc259",
   "metadata": {
    "papermill": {
     "duration": 0.024873,
     "end_time": "2021-11-12T20:06:32.260065",
     "exception": false,
     "start_time": "2021-11-12T20:06:32.235192",
     "status": "completed"
    },
    "tags": []
   },
   "source": [
    "### word2vec"
   ]
  },
  {
   "cell_type": "code",
   "execution_count": 4,
   "id": "c3033c4a",
   "metadata": {
    "execution": {
     "iopub.execute_input": "2021-11-12T20:06:32.315220Z",
     "iopub.status.busy": "2021-11-12T20:06:32.314326Z",
     "iopub.status.idle": "2021-11-12T20:06:32.316223Z",
     "shell.execute_reply": "2021-11-12T20:06:32.316643Z",
     "shell.execute_reply.started": "2021-11-12T20:03:41.096004Z"
    },
    "papermill": {
     "duration": 0.031873,
     "end_time": "2021-11-12T20:06:32.316777",
     "exception": false,
     "start_time": "2021-11-12T20:06:32.284904",
     "status": "completed"
    },
    "tags": []
   },
   "outputs": [],
   "source": [
    "from __future__ import print_function\n",
    "from collections import OrderedDict\n",
    "\n",
    "import time\n",
    "import _pickle as cPickle\n",
    "\n",
    "import urllib\n",
    "import matplotlib.pyplot as plt\n",
    "\n",
    "import os\n",
    "import sys\n",
    "import codecs\n",
    "import re\n",
    "import numpy as np\n",
    "\n",
    "parameters = OrderedDict()\n",
    "parameters['word_dim'] = 300"
   ]
  },
  {
   "cell_type": "code",
   "execution_count": 5,
   "id": "34ec0f46",
   "metadata": {
    "execution": {
     "iopub.execute_input": "2021-11-12T20:06:32.370449Z",
     "iopub.status.busy": "2021-11-12T20:06:32.369818Z",
     "iopub.status.idle": "2021-11-12T20:06:32.583232Z",
     "shell.execute_reply": "2021-11-12T20:06:32.582752Z",
     "shell.execute_reply.started": "2021-11-12T20:03:41.835308Z"
    },
    "papermill": {
     "duration": 0.242041,
     "end_time": "2021-11-12T20:06:32.583366",
     "exception": false,
     "start_time": "2021-11-12T20:06:32.341325",
     "status": "completed"
    },
    "tags": []
   },
   "outputs": [
    {
     "data": {
      "text/html": [
       "<div>\n",
       "<style scoped>\n",
       "    .dataframe tbody tr th:only-of-type {\n",
       "        vertical-align: middle;\n",
       "    }\n",
       "\n",
       "    .dataframe tbody tr th {\n",
       "        vertical-align: top;\n",
       "    }\n",
       "\n",
       "    .dataframe thead th {\n",
       "        text-align: right;\n",
       "    }\n",
       "</style>\n",
       "<table border=\"1\" class=\"dataframe\">\n",
       "  <thead>\n",
       "    <tr style=\"text-align: right;\">\n",
       "      <th></th>\n",
       "      <th>sentiment</th>\n",
       "      <th>content</th>\n",
       "    </tr>\n",
       "  </thead>\n",
       "  <tbody>\n",
       "    <tr>\n",
       "      <th>0</th>\n",
       "      <td>empty</td>\n",
       "      <td>@tiffanylue i know  i was listenin to bad habi...</td>\n",
       "    </tr>\n",
       "    <tr>\n",
       "      <th>1</th>\n",
       "      <td>sadness</td>\n",
       "      <td>Layin n bed with a headache  ughhhh...waitin o...</td>\n",
       "    </tr>\n",
       "    <tr>\n",
       "      <th>2</th>\n",
       "      <td>sadness</td>\n",
       "      <td>Funeral ceremony...gloomy friday...</td>\n",
       "    </tr>\n",
       "    <tr>\n",
       "      <th>3</th>\n",
       "      <td>enthusiasm</td>\n",
       "      <td>wants to hang out with friends SOON!</td>\n",
       "    </tr>\n",
       "    <tr>\n",
       "      <th>4</th>\n",
       "      <td>neutral</td>\n",
       "      <td>@dannycastillo We want to trade with someone w...</td>\n",
       "    </tr>\n",
       "  </tbody>\n",
       "</table>\n",
       "</div>"
      ],
      "text/plain": [
       "    sentiment                                            content\n",
       "0       empty  @tiffanylue i know  i was listenin to bad habi...\n",
       "1     sadness  Layin n bed with a headache  ughhhh...waitin o...\n",
       "2     sadness                Funeral ceremony...gloomy friday...\n",
       "3  enthusiasm               wants to hang out with friends SOON!\n",
       "4     neutral  @dannycastillo We want to trade with someone w..."
      ]
     },
     "execution_count": 5,
     "metadata": {},
     "output_type": "execute_result"
    }
   ],
   "source": [
    "crowdflower = pd.read_csv('/kaggle/input/data016/text_emotion.csv')\n",
    "crowdflower= crowdflower[['sentiment', 'content']]\n",
    "crowdflower.head()"
   ]
  },
  {
   "cell_type": "code",
   "execution_count": 6,
   "id": "59e14380",
   "metadata": {
    "execution": {
     "iopub.execute_input": "2021-11-12T20:06:32.659657Z",
     "iopub.status.busy": "2021-11-12T20:06:32.646679Z",
     "iopub.status.idle": "2021-11-12T20:06:32.690120Z",
     "shell.execute_reply": "2021-11-12T20:06:32.689621Z",
     "shell.execute_reply.started": "2021-11-12T20:03:42.114777Z"
    },
    "papermill": {
     "duration": 0.080951,
     "end_time": "2021-11-12T20:06:32.690251",
     "exception": false,
     "start_time": "2021-11-12T20:06:32.609300",
     "status": "completed"
    },
    "tags": []
   },
   "outputs": [
    {
     "data": {
      "text/html": [
       "<div>\n",
       "<style scoped>\n",
       "    .dataframe tbody tr th:only-of-type {\n",
       "        vertical-align: middle;\n",
       "    }\n",
       "\n",
       "    .dataframe tbody tr th {\n",
       "        vertical-align: top;\n",
       "    }\n",
       "\n",
       "    .dataframe thead th {\n",
       "        text-align: right;\n",
       "    }\n",
       "</style>\n",
       "<table border=\"1\" class=\"dataframe\">\n",
       "  <thead>\n",
       "    <tr style=\"text-align: right;\">\n",
       "      <th></th>\n",
       "      <th>sentiment</th>\n",
       "      <th>onehot_sentiment</th>\n",
       "      <th>content</th>\n",
       "    </tr>\n",
       "  </thead>\n",
       "  <tbody>\n",
       "    <tr>\n",
       "      <th>0</th>\n",
       "      <td>empty</td>\n",
       "      <td>[0.0, 0.0, 1.0, 0.0, 0.0, 0.0, 0.0, 0.0, 0.0, ...</td>\n",
       "      <td>@tiffanylue i know  i was listenin to bad habi...</td>\n",
       "    </tr>\n",
       "    <tr>\n",
       "      <th>1</th>\n",
       "      <td>sadness</td>\n",
       "      <td>[0.0, 0.0, 0.0, 0.0, 0.0, 0.0, 0.0, 0.0, 0.0, ...</td>\n",
       "      <td>Layin n bed with a headache  ughhhh...waitin o...</td>\n",
       "    </tr>\n",
       "    <tr>\n",
       "      <th>2</th>\n",
       "      <td>sadness</td>\n",
       "      <td>[0.0, 0.0, 0.0, 0.0, 0.0, 0.0, 0.0, 0.0, 0.0, ...</td>\n",
       "      <td>Funeral ceremony...gloomy friday...</td>\n",
       "    </tr>\n",
       "    <tr>\n",
       "      <th>3</th>\n",
       "      <td>enthusiasm</td>\n",
       "      <td>[0.0, 0.0, 0.0, 1.0, 0.0, 0.0, 0.0, 0.0, 0.0, ...</td>\n",
       "      <td>wants to hang out with friends SOON!</td>\n",
       "    </tr>\n",
       "    <tr>\n",
       "      <th>4</th>\n",
       "      <td>neutral</td>\n",
       "      <td>[0.0, 0.0, 0.0, 0.0, 0.0, 0.0, 0.0, 0.0, 1.0, ...</td>\n",
       "      <td>@dannycastillo We want to trade with someone w...</td>\n",
       "    </tr>\n",
       "    <tr>\n",
       "      <th>...</th>\n",
       "      <td>...</td>\n",
       "      <td>...</td>\n",
       "      <td>...</td>\n",
       "    </tr>\n",
       "    <tr>\n",
       "      <th>39995</th>\n",
       "      <td>neutral</td>\n",
       "      <td>[0.0, 0.0, 0.0, 0.0, 0.0, 0.0, 0.0, 0.0, 1.0, ...</td>\n",
       "      <td>@JohnLloydTaylor</td>\n",
       "    </tr>\n",
       "    <tr>\n",
       "      <th>39996</th>\n",
       "      <td>love</td>\n",
       "      <td>[0.0, 0.0, 0.0, 0.0, 0.0, 0.0, 0.0, 1.0, 0.0, ...</td>\n",
       "      <td>Happy Mothers Day  All my love</td>\n",
       "    </tr>\n",
       "    <tr>\n",
       "      <th>39997</th>\n",
       "      <td>love</td>\n",
       "      <td>[0.0, 0.0, 0.0, 0.0, 0.0, 0.0, 0.0, 1.0, 0.0, ...</td>\n",
       "      <td>Happy Mother's Day to all the mommies out ther...</td>\n",
       "    </tr>\n",
       "    <tr>\n",
       "      <th>39998</th>\n",
       "      <td>happiness</td>\n",
       "      <td>[0.0, 0.0, 0.0, 0.0, 0.0, 1.0, 0.0, 0.0, 0.0, ...</td>\n",
       "      <td>@niariley WASSUP BEAUTIFUL!!! FOLLOW ME!!  PEE...</td>\n",
       "    </tr>\n",
       "    <tr>\n",
       "      <th>39999</th>\n",
       "      <td>love</td>\n",
       "      <td>[0.0, 0.0, 0.0, 0.0, 0.0, 0.0, 0.0, 1.0, 0.0, ...</td>\n",
       "      <td>@mopedronin bullet train from tokyo    the gf ...</td>\n",
       "    </tr>\n",
       "  </tbody>\n",
       "</table>\n",
       "<p>40000 rows × 3 columns</p>\n",
       "</div>"
      ],
      "text/plain": [
       "        sentiment                                   onehot_sentiment  \\\n",
       "0           empty  [0.0, 0.0, 1.0, 0.0, 0.0, 0.0, 0.0, 0.0, 0.0, ...   \n",
       "1         sadness  [0.0, 0.0, 0.0, 0.0, 0.0, 0.0, 0.0, 0.0, 0.0, ...   \n",
       "2         sadness  [0.0, 0.0, 0.0, 0.0, 0.0, 0.0, 0.0, 0.0, 0.0, ...   \n",
       "3      enthusiasm  [0.0, 0.0, 0.0, 1.0, 0.0, 0.0, 0.0, 0.0, 0.0, ...   \n",
       "4         neutral  [0.0, 0.0, 0.0, 0.0, 0.0, 0.0, 0.0, 0.0, 1.0, ...   \n",
       "...           ...                                                ...   \n",
       "39995     neutral  [0.0, 0.0, 0.0, 0.0, 0.0, 0.0, 0.0, 0.0, 1.0, ...   \n",
       "39996        love  [0.0, 0.0, 0.0, 0.0, 0.0, 0.0, 0.0, 1.0, 0.0, ...   \n",
       "39997        love  [0.0, 0.0, 0.0, 0.0, 0.0, 0.0, 0.0, 1.0, 0.0, ...   \n",
       "39998   happiness  [0.0, 0.0, 0.0, 0.0, 0.0, 1.0, 0.0, 0.0, 0.0, ...   \n",
       "39999        love  [0.0, 0.0, 0.0, 0.0, 0.0, 0.0, 0.0, 1.0, 0.0, ...   \n",
       "\n",
       "                                                 content  \n",
       "0      @tiffanylue i know  i was listenin to bad habi...  \n",
       "1      Layin n bed with a headache  ughhhh...waitin o...  \n",
       "2                    Funeral ceremony...gloomy friday...  \n",
       "3                   wants to hang out with friends SOON!  \n",
       "4      @dannycastillo We want to trade with someone w...  \n",
       "...                                                  ...  \n",
       "39995                                   @JohnLloydTaylor  \n",
       "39996                     Happy Mothers Day  All my love  \n",
       "39997  Happy Mother's Day to all the mommies out ther...  \n",
       "39998  @niariley WASSUP BEAUTIFUL!!! FOLLOW ME!!  PEE...  \n",
       "39999  @mopedronin bullet train from tokyo    the gf ...  \n",
       "\n",
       "[40000 rows x 3 columns]"
      ]
     },
     "execution_count": 6,
     "metadata": {},
     "output_type": "execute_result"
    }
   ],
   "source": [
    "## encode sentiment column to onehot\n",
    "from sklearn.preprocessing import OneHotEncoder\n",
    "\n",
    "enc = OneHotEncoder(handle_unknown='ignore')\n",
    "enc.fit(crowdflower['sentiment'].to_numpy().reshape(-1, 1))\n",
    "onehot_sentiment = enc.transform(crowdflower['sentiment'].to_numpy().reshape(-1, 1)).toarray()\n",
    "# onehot_sentiment = onehot_sentiment.reshape((40000, 1, 13))\n",
    "crowdflower.insert(1, \"onehot_sentiment\", list(onehot_sentiment))\n",
    "crowdflower"
   ]
  },
  {
   "cell_type": "markdown",
   "id": "bafbcb78",
   "metadata": {
    "papermill": {
     "duration": 0.024944,
     "end_time": "2021-11-12T20:06:32.740694",
     "exception": false,
     "start_time": "2021-11-12T20:06:32.715750",
     "status": "completed"
    },
    "tags": []
   },
   "source": [
    "### encode word"
   ]
  },
  {
   "cell_type": "code",
   "execution_count": 7,
   "id": "54be976e",
   "metadata": {
    "execution": {
     "iopub.execute_input": "2021-11-12T20:06:32.802509Z",
     "iopub.status.busy": "2021-11-12T20:06:32.801558Z",
     "iopub.status.idle": "2021-11-12T20:06:32.803449Z",
     "shell.execute_reply": "2021-11-12T20:06:32.803957Z",
     "shell.execute_reply.started": "2021-11-12T20:03:53.186935Z"
    },
    "papermill": {
     "duration": 0.038082,
     "end_time": "2021-11-12T20:06:32.804109",
     "exception": false,
     "start_time": "2021-11-12T20:06:32.766027",
     "status": "completed"
    },
    "tags": []
   },
   "outputs": [],
   "source": [
    "def create_dico(item_list):\n",
    "    \"\"\"\n",
    "    Create a dictionary of items from a list of list of items.\n",
    "    (item:count) pairs\n",
    "    \"\"\"\n",
    "    assert type(item_list) is list\n",
    "    dico = {}\n",
    "    for items in item_list:\n",
    "        for item in items:\n",
    "            if item not in dico:\n",
    "                dico[item] = 1\n",
    "            else:\n",
    "                dico[item] += 1\n",
    "    return dico\n",
    "\n",
    "def create_mapping(dico):\n",
    "    \"\"\"\n",
    "    Create a mapping (item to ID / ID to item) from a dictionary.\n",
    "    Items are ordered by decreasing frequency.\n",
    "    \"\"\"\n",
    "    sorted_items = sorted(dico.items(), key=lambda x: (-x[1], x[0]))\n",
    "    id_to_item = {i: v[0] for i, v in enumerate(sorted_items)}\n",
    "    item_to_id = {v: k for k, v in id_to_item.items()}\n",
    "    return item_to_id, id_to_item\n",
    "\n",
    "def word_mapping(sentences, lower):\n",
    "    \"\"\"\n",
    "    Create a dictionary and a mapping of words, sorted by frequency.\n",
    "    \n",
    "    return:\n",
    "    dico: dictionary of (word:frequency) pairs\n",
    "    word_to_id: dictionary of (word, id)\n",
    "    id_to_word: dictionary of (id, word)\n",
    "    \"\"\"\n",
    "    words = [[x.lower() if lower else x[0] for x in s] for s in sentences]\n",
    "    dico = create_dico(words)\n",
    "    dico['<UNK>'] = 10000000 #UNK tag for unknown words\n",
    "    word_to_id, id_to_word = create_mapping(dico)\n",
    "    print(\"Found %i unique words (%i in total)\" % (\n",
    "        len(dico), sum(len(x) for x in words)\n",
    "    ))\n",
    "    return dico, word_to_id, id_to_word"
   ]
  },
  {
   "cell_type": "code",
   "execution_count": 8,
   "id": "98f75528",
   "metadata": {
    "execution": {
     "iopub.execute_input": "2021-11-12T20:06:32.857661Z",
     "iopub.status.busy": "2021-11-12T20:06:32.856837Z",
     "iopub.status.idle": "2021-11-12T20:06:42.532063Z",
     "shell.execute_reply": "2021-11-12T20:06:42.531552Z",
     "shell.execute_reply.started": "2021-11-12T20:03:53.200821Z"
    },
    "papermill": {
     "duration": 9.70303,
     "end_time": "2021-11-12T20:06:42.532210",
     "exception": false,
     "start_time": "2021-11-12T20:06:32.829180",
     "status": "completed"
    },
    "tags": []
   },
   "outputs": [],
   "source": [
    "## tokenising sentences\n",
    "raw_content = crowdflower['content'].to_numpy()\n",
    "\n",
    "processed_docs = []\n",
    "for doc in raw_content:\n",
    "    tokens = word_tokenize(doc)\n",
    "#        filtered = [word for word in tokens if word not in stop_words]\n",
    "#        stemmed = [stemmer.stem(word) for word in filtered]\n",
    "    processed_docs.append(tokens)"
   ]
  },
  {
   "cell_type": "code",
   "execution_count": 9,
   "id": "bf20c02c",
   "metadata": {
    "execution": {
     "iopub.execute_input": "2021-11-12T20:06:42.602135Z",
     "iopub.status.busy": "2021-11-12T20:06:42.601315Z",
     "iopub.status.idle": "2021-11-12T20:06:42.983017Z",
     "shell.execute_reply": "2021-11-12T20:06:42.983477Z",
     "shell.execute_reply.started": "2021-11-12T20:04:00.613305Z"
    },
    "papermill": {
     "duration": 0.425392,
     "end_time": "2021-11-12T20:06:42.983633",
     "exception": false,
     "start_time": "2021-11-12T20:06:42.558241",
     "status": "completed"
    },
    "tags": []
   },
   "outputs": [
    {
     "name": "stdout",
     "output_type": "stream",
     "text": [
      "Found 52746 unique words (654846 in total)\n"
     ]
    }
   ],
   "source": [
    "dico_words,word_to_id,id_to_word = word_mapping(processed_docs, True)"
   ]
  },
  {
   "cell_type": "code",
   "execution_count": 10,
   "id": "62815959",
   "metadata": {
    "execution": {
     "iopub.execute_input": "2021-11-12T20:06:43.040090Z",
     "iopub.status.busy": "2021-11-12T20:06:43.039182Z",
     "iopub.status.idle": "2021-11-12T20:06:43.041778Z",
     "shell.execute_reply": "2021-11-12T20:06:43.041351Z",
     "shell.execute_reply.started": "2021-11-12T20:04:01.565176Z"
    },
    "papermill": {
     "duration": 0.032144,
     "end_time": "2021-11-12T20:06:43.041908",
     "exception": false,
     "start_time": "2021-11-12T20:06:43.009764",
     "status": "completed"
    },
    "tags": []
   },
   "outputs": [],
   "source": [
    "def lower_case(x,lower=False):\n",
    "    if lower:\n",
    "        return x.lower()  \n",
    "    else:\n",
    "        return x"
   ]
  },
  {
   "cell_type": "code",
   "execution_count": 11,
   "id": "24ebf080",
   "metadata": {
    "execution": {
     "iopub.execute_input": "2021-11-12T20:06:43.318754Z",
     "iopub.status.busy": "2021-11-12T20:06:43.111843Z",
     "iopub.status.idle": "2021-11-12T20:06:43.766215Z",
     "shell.execute_reply": "2021-11-12T20:06:43.764879Z",
     "shell.execute_reply.started": "2021-11-12T20:04:01.572174Z"
    },
    "papermill": {
     "duration": 0.698461,
     "end_time": "2021-11-12T20:06:43.766390",
     "exception": false,
     "start_time": "2021-11-12T20:06:43.067929",
     "status": "completed"
    },
    "tags": []
   },
   "outputs": [
    {
     "name": "stdout",
     "output_type": "stream",
     "text": [
      "40000 sentences\n"
     ]
    }
   ],
   "source": [
    "def prepare_dataset(sentences, word_to_id, lower=False):\n",
    "    \"\"\"\n",
    "    Prepare the dataset. Return a list of lists of dictionaries containing:\n",
    "        - word indexes\n",
    "        - word char indexes\n",
    "        - tag indexes\n",
    "    \"\"\"\n",
    "    data = []\n",
    "    for s in sentences:\n",
    "        str_words = [w for w in s]\n",
    "        words = [word_to_id[lower_case(w,lower) if lower_case(w,lower) in word_to_id else '<UNK>']\n",
    "                 for w in str_words]\n",
    "        data.append({\n",
    "            'str_words': str_words, #list of all words in the sentence\n",
    "            'words': words, #list of word index for all words in the sentence\n",
    "        })\n",
    "    return data\n",
    "\n",
    "data = prepare_dataset(\n",
    "    processed_docs, word_to_id, True\n",
    ")\n",
    "\n",
    "print(\"{} sentences\".format(len(data)))"
   ]
  },
  {
   "cell_type": "code",
   "execution_count": 12,
   "id": "2d18b7da",
   "metadata": {
    "execution": {
     "iopub.execute_input": "2021-11-12T20:06:43.826712Z",
     "iopub.status.busy": "2021-11-12T20:06:43.826173Z",
     "iopub.status.idle": "2021-11-12T20:07:51.979230Z",
     "shell.execute_reply": "2021-11-12T20:07:51.979784Z",
     "shell.execute_reply.started": "2021-11-12T20:04:02.148347Z"
    },
    "papermill": {
     "duration": 68.186888,
     "end_time": "2021-11-12T20:07:51.979969",
     "exception": false,
     "start_time": "2021-11-12T20:06:43.793081",
     "status": "completed"
    },
    "scrolled": true,
    "tags": []
   },
   "outputs": [
    {
     "name": "stdout",
     "output_type": "stream",
     "text": [
      "Loaded 400000 pretrained embeddings.\n"
     ]
    }
   ],
   "source": [
    "all_word_embeds = {}\n",
    "for i, line in enumerate(codecs.open('/kaggle/input/data21/data/glove.6B.300d.txt', 'r', 'utf-8')):\n",
    "    s = line.strip().split()\n",
    "    if len(s) == parameters['word_dim'] + 1:\n",
    "        all_word_embeds[s[0]] = np.array([float(i) for i in s[1:]])\n",
    "\n",
    "#Intializing Word Embedding Matrix\n",
    "word_embeds = np.random.uniform(-np.sqrt(0.06), np.sqrt(0.06), (len(word_to_id), parameters['word_dim']))\n",
    "\n",
    "for w in word_to_id:\n",
    "    if w in all_word_embeds:\n",
    "        word_embeds[word_to_id[w]] = all_word_embeds[w]\n",
    "    elif w.lower() in all_word_embeds:\n",
    "        word_embeds[word_to_id[w]] = all_word_embeds[w.lower()]\n",
    "\n",
    "print('Loaded %i pretrained embeddings.' % len(all_word_embeds))"
   ]
  },
  {
   "cell_type": "code",
   "execution_count": 13,
   "id": "259adc46",
   "metadata": {
    "execution": {
     "iopub.execute_input": "2021-11-12T20:07:52.069907Z",
     "iopub.status.busy": "2021-11-12T20:07:52.069062Z",
     "iopub.status.idle": "2021-11-12T20:07:52.072501Z",
     "shell.execute_reply": "2021-11-12T20:07:52.070655Z",
     "shell.execute_reply.started": "2021-11-12T20:05:01.931817Z"
    },
    "papermill": {
     "duration": 0.053046,
     "end_time": "2021-11-12T20:07:52.072676",
     "exception": false,
     "start_time": "2021-11-12T20:07:52.019630",
     "status": "completed"
    },
    "tags": []
   },
   "outputs": [
    {
     "data": {
      "text/plain": [
       "52746"
      ]
     },
     "execution_count": 13,
     "metadata": {},
     "output_type": "execute_result"
    }
   ],
   "source": [
    "len(word_embeds)"
   ]
  },
  {
   "cell_type": "code",
   "execution_count": 14,
   "id": "c5d5d6cf",
   "metadata": {
    "execution": {
     "iopub.execute_input": "2021-11-12T20:07:52.160834Z",
     "iopub.status.busy": "2021-11-12T20:07:52.159438Z",
     "iopub.status.idle": "2021-11-12T20:07:52.163511Z",
     "shell.execute_reply": "2021-11-12T20:07:52.162639Z",
     "shell.execute_reply.started": "2021-11-12T20:05:01.940300Z"
    },
    "papermill": {
     "duration": 0.049772,
     "end_time": "2021-11-12T20:07:52.163661",
     "exception": false,
     "start_time": "2021-11-12T20:07:52.113889",
     "status": "completed"
    },
    "tags": []
   },
   "outputs": [],
   "source": [
    "# data"
   ]
  },
  {
   "cell_type": "code",
   "execution_count": 15,
   "id": "13062a56",
   "metadata": {
    "execution": {
     "iopub.execute_input": "2021-11-12T20:07:52.309523Z",
     "iopub.status.busy": "2021-11-12T20:07:52.272026Z",
     "iopub.status.idle": "2021-11-12T20:07:52.803595Z",
     "shell.execute_reply": "2021-11-12T20:07:52.804035Z",
     "shell.execute_reply.started": "2021-11-12T20:05:01.954870Z"
    },
    "papermill": {
     "duration": 0.594456,
     "end_time": "2021-11-12T20:07:52.804204",
     "exception": false,
     "start_time": "2021-11-12T20:07:52.209748",
     "status": "completed"
    },
    "tags": []
   },
   "outputs": [],
   "source": [
    "word_indices = [i['words'] for i in data]\n",
    "padded_indices = []\n",
    "for sent in word_indices:\n",
    "    padding_size = 110 - len(sent) \n",
    "    padded = sent + [0 for i in range(padding_size)]\n",
    "    padded_indices.append(padded)"
   ]
  },
  {
   "cell_type": "code",
   "execution_count": 16,
   "id": "bfc9e202",
   "metadata": {
    "execution": {
     "iopub.execute_input": "2021-11-12T20:07:52.861779Z",
     "iopub.status.busy": "2021-11-12T20:07:52.860957Z",
     "iopub.status.idle": "2021-11-12T20:07:52.863558Z",
     "shell.execute_reply": "2021-11-12T20:07:52.863120Z",
     "shell.execute_reply.started": "2021-11-12T20:05:02.637827Z"
    },
    "papermill": {
     "duration": 0.033011,
     "end_time": "2021-11-12T20:07:52.863665",
     "exception": false,
     "start_time": "2021-11-12T20:07:52.830654",
     "status": "completed"
    },
    "tags": []
   },
   "outputs": [],
   "source": [
    "# word_to_id"
   ]
  },
  {
   "cell_type": "code",
   "execution_count": 17,
   "id": "c0e8a909",
   "metadata": {
    "execution": {
     "iopub.execute_input": "2021-11-12T20:07:53.161811Z",
     "iopub.status.busy": "2021-11-12T20:07:53.160909Z",
     "iopub.status.idle": "2021-11-12T20:07:53.192830Z",
     "shell.execute_reply": "2021-11-12T20:07:53.193291Z",
     "shell.execute_reply.started": "2021-11-12T20:05:02.644076Z"
    },
    "papermill": {
     "duration": 0.303456,
     "end_time": "2021-11-12T20:07:53.193445",
     "exception": false,
     "start_time": "2021-11-12T20:07:52.889989",
     "status": "completed"
    },
    "tags": []
   },
   "outputs": [
    {
     "data": {
      "text/html": [
       "<div>\n",
       "<style scoped>\n",
       "    .dataframe tbody tr th:only-of-type {\n",
       "        vertical-align: middle;\n",
       "    }\n",
       "\n",
       "    .dataframe tbody tr th {\n",
       "        vertical-align: top;\n",
       "    }\n",
       "\n",
       "    .dataframe thead th {\n",
       "        text-align: right;\n",
       "    }\n",
       "</style>\n",
       "<table border=\"1\" class=\"dataframe\">\n",
       "  <thead>\n",
       "    <tr style=\"text-align: right;\">\n",
       "      <th></th>\n",
       "      <th>sentiment</th>\n",
       "      <th>padded_indices</th>\n",
       "      <th>onehot_sentiment</th>\n",
       "      <th>content</th>\n",
       "    </tr>\n",
       "  </thead>\n",
       "  <tbody>\n",
       "    <tr>\n",
       "      <th>0</th>\n",
       "      <td>empty</td>\n",
       "      <td>[4, 48864, 1, 67, 1, 36, 3311, 5, 138, 4779, 8...</td>\n",
       "      <td>[0.0, 0.0, 1.0, 0.0, 0.0, 0.0, 0.0, 0.0, 0.0, ...</td>\n",
       "      <td>@tiffanylue i know  i was listenin to bad habi...</td>\n",
       "    </tr>\n",
       "    <tr>\n",
       "      <th>1</th>\n",
       "      <td>sadness</td>\n",
       "      <td>[12504, 316, 162, 33, 8, 439, 3667, 13, 2272, ...</td>\n",
       "      <td>[0.0, 0.0, 0.0, 0.0, 0.0, 0.0, 0.0, 0.0, 0.0, ...</td>\n",
       "      <td>Layin n bed with a headache  ughhhh...waitin o...</td>\n",
       "    </tr>\n",
       "    <tr>\n",
       "      <th>2</th>\n",
       "      <td>sadness</td>\n",
       "      <td>[2713, 4125, 13, 1714, 246, 13, 0, 0, 0, 0, 0,...</td>\n",
       "      <td>[0.0, 0.0, 0.0, 0.0, 0.0, 0.0, 0.0, 0.0, 0.0, ...</td>\n",
       "      <td>Funeral ceremony...gloomy friday...</td>\n",
       "    </tr>\n",
       "    <tr>\n",
       "      <th>3</th>\n",
       "      <td>enthusiasm</td>\n",
       "      <td>[441, 5, 700, 43, 33, 227, 186, 2, 0, 0, 0, 0,...</td>\n",
       "      <td>[0.0, 0.0, 0.0, 1.0, 0.0, 0.0, 0.0, 0.0, 0.0, ...</td>\n",
       "      <td>wants to hang out with friends SOON!</td>\n",
       "    </tr>\n",
       "    <tr>\n",
       "      <th>4</th>\n",
       "      <td>neutral</td>\n",
       "      <td>[4, 25690, 60, 94, 5, 3407, 33, 264, 184, 116,...</td>\n",
       "      <td>[0.0, 0.0, 0.0, 0.0, 0.0, 0.0, 0.0, 0.0, 1.0, ...</td>\n",
       "      <td>@dannycastillo We want to trade with someone w...</td>\n",
       "    </tr>\n",
       "    <tr>\n",
       "      <th>...</th>\n",
       "      <td>...</td>\n",
       "      <td>...</td>\n",
       "      <td>...</td>\n",
       "      <td>...</td>\n",
       "    </tr>\n",
       "    <tr>\n",
       "      <th>39995</th>\n",
       "      <td>neutral</td>\n",
       "      <td>[4, 6649, 0, 0, 0, 0, 0, 0, 0, 0, 0, 0, 0, 0, ...</td>\n",
       "      <td>[0.0, 0.0, 0.0, 0.0, 0.0, 0.0, 0.0, 0.0, 1.0, ...</td>\n",
       "      <td>@JohnLloydTaylor</td>\n",
       "    </tr>\n",
       "    <tr>\n",
       "      <th>39996</th>\n",
       "      <td>love</td>\n",
       "      <td>[61, 157, 32, 40, 9, 56, 0, 0, 0, 0, 0, 0, 0, ...</td>\n",
       "      <td>[0.0, 0.0, 0.0, 0.0, 0.0, 0.0, 0.0, 1.0, 0.0, ...</td>\n",
       "      <td>Happy Mothers Day  All my love</td>\n",
       "    </tr>\n",
       "    <tr>\n",
       "      <th>39997</th>\n",
       "      <td>love</td>\n",
       "      <td>[61, 141, 18, 32, 5, 40, 6, 1576, 43, 71, 7, 3...</td>\n",
       "      <td>[0.0, 0.0, 0.0, 0.0, 0.0, 0.0, 0.0, 1.0, 0.0, ...</td>\n",
       "      <td>Happy Mother's Day to all the mommies out ther...</td>\n",
       "    </tr>\n",
       "    <tr>\n",
       "      <th>39998</th>\n",
       "      <td>happiness</td>\n",
       "      <td>[4, 8652, 2806, 388, 2, 2, 2, 262, 24, 2, 2, 6...</td>\n",
       "      <td>[0.0, 0.0, 0.0, 0.0, 0.0, 1.0, 0.0, 0.0, 0.0, ...</td>\n",
       "      <td>@niariley WASSUP BEAUTIFUL!!! FOLLOW ME!!  PEE...</td>\n",
       "    </tr>\n",
       "    <tr>\n",
       "      <th>39999</th>\n",
       "      <td>love</td>\n",
       "      <td>[4, 12956, 7641, 1051, 63, 2996, 6, 2716, 12, ...</td>\n",
       "      <td>[0.0, 0.0, 0.0, 0.0, 0.0, 0.0, 0.0, 1.0, 0.0, ...</td>\n",
       "      <td>@mopedronin bullet train from tokyo    the gf ...</td>\n",
       "    </tr>\n",
       "  </tbody>\n",
       "</table>\n",
       "<p>40000 rows × 4 columns</p>\n",
       "</div>"
      ],
      "text/plain": [
       "        sentiment                                     padded_indices  \\\n",
       "0           empty  [4, 48864, 1, 67, 1, 36, 3311, 5, 138, 4779, 8...   \n",
       "1         sadness  [12504, 316, 162, 33, 8, 439, 3667, 13, 2272, ...   \n",
       "2         sadness  [2713, 4125, 13, 1714, 246, 13, 0, 0, 0, 0, 0,...   \n",
       "3      enthusiasm  [441, 5, 700, 43, 33, 227, 186, 2, 0, 0, 0, 0,...   \n",
       "4         neutral  [4, 25690, 60, 94, 5, 3407, 33, 264, 184, 116,...   \n",
       "...           ...                                                ...   \n",
       "39995     neutral  [4, 6649, 0, 0, 0, 0, 0, 0, 0, 0, 0, 0, 0, 0, ...   \n",
       "39996        love  [61, 157, 32, 40, 9, 56, 0, 0, 0, 0, 0, 0, 0, ...   \n",
       "39997        love  [61, 141, 18, 32, 5, 40, 6, 1576, 43, 71, 7, 3...   \n",
       "39998   happiness  [4, 8652, 2806, 388, 2, 2, 2, 262, 24, 2, 2, 6...   \n",
       "39999        love  [4, 12956, 7641, 1051, 63, 2996, 6, 2716, 12, ...   \n",
       "\n",
       "                                        onehot_sentiment  \\\n",
       "0      [0.0, 0.0, 1.0, 0.0, 0.0, 0.0, 0.0, 0.0, 0.0, ...   \n",
       "1      [0.0, 0.0, 0.0, 0.0, 0.0, 0.0, 0.0, 0.0, 0.0, ...   \n",
       "2      [0.0, 0.0, 0.0, 0.0, 0.0, 0.0, 0.0, 0.0, 0.0, ...   \n",
       "3      [0.0, 0.0, 0.0, 1.0, 0.0, 0.0, 0.0, 0.0, 0.0, ...   \n",
       "4      [0.0, 0.0, 0.0, 0.0, 0.0, 0.0, 0.0, 0.0, 1.0, ...   \n",
       "...                                                  ...   \n",
       "39995  [0.0, 0.0, 0.0, 0.0, 0.0, 0.0, 0.0, 0.0, 1.0, ...   \n",
       "39996  [0.0, 0.0, 0.0, 0.0, 0.0, 0.0, 0.0, 1.0, 0.0, ...   \n",
       "39997  [0.0, 0.0, 0.0, 0.0, 0.0, 0.0, 0.0, 1.0, 0.0, ...   \n",
       "39998  [0.0, 0.0, 0.0, 0.0, 0.0, 1.0, 0.0, 0.0, 0.0, ...   \n",
       "39999  [0.0, 0.0, 0.0, 0.0, 0.0, 0.0, 0.0, 1.0, 0.0, ...   \n",
       "\n",
       "                                                 content  \n",
       "0      @tiffanylue i know  i was listenin to bad habi...  \n",
       "1      Layin n bed with a headache  ughhhh...waitin o...  \n",
       "2                    Funeral ceremony...gloomy friday...  \n",
       "3                   wants to hang out with friends SOON!  \n",
       "4      @dannycastillo We want to trade with someone w...  \n",
       "...                                                  ...  \n",
       "39995                                   @JohnLloydTaylor  \n",
       "39996                     Happy Mothers Day  All my love  \n",
       "39997  Happy Mother's Day to all the mommies out ther...  \n",
       "39998  @niariley WASSUP BEAUTIFUL!!! FOLLOW ME!!  PEE...  \n",
       "39999  @mopedronin bullet train from tokyo    the gf ...  \n",
       "\n",
       "[40000 rows x 4 columns]"
      ]
     },
     "execution_count": 17,
     "metadata": {},
     "output_type": "execute_result"
    }
   ],
   "source": [
    "crowdflower.insert(1, \"padded_indices\", list(padded_indices))\n",
    "crowdflower"
   ]
  },
  {
   "cell_type": "code",
   "execution_count": 18,
   "id": "f7d6b6df",
   "metadata": {
    "execution": {
     "iopub.execute_input": "2021-11-12T20:07:53.252285Z",
     "iopub.status.busy": "2021-11-12T20:07:53.250718Z",
     "iopub.status.idle": "2021-11-12T20:07:53.252938Z",
     "shell.execute_reply": "2021-11-12T20:07:53.253383Z",
     "shell.execute_reply.started": "2021-11-12T20:05:02.788992Z"
    },
    "papermill": {
     "duration": 0.033107,
     "end_time": "2021-11-12T20:07:53.253514",
     "exception": false,
     "start_time": "2021-11-12T20:07:53.220407",
     "status": "completed"
    },
    "tags": []
   },
   "outputs": [],
   "source": [
    "# padded_indices"
   ]
  },
  {
   "cell_type": "code",
   "execution_count": 19,
   "id": "1b1ba884",
   "metadata": {
    "execution": {
     "iopub.execute_input": "2021-11-12T20:07:53.316649Z",
     "iopub.status.busy": "2021-11-12T20:07:53.315954Z",
     "iopub.status.idle": "2021-11-12T20:07:54.303554Z",
     "shell.execute_reply": "2021-11-12T20:07:54.302865Z",
     "shell.execute_reply.started": "2021-11-12T20:05:02.796500Z"
    },
    "papermill": {
     "duration": 1.02344,
     "end_time": "2021-11-12T20:07:54.303731",
     "exception": false,
     "start_time": "2021-11-12T20:07:53.280291",
     "status": "completed"
    },
    "tags": []
   },
   "outputs": [
    {
     "name": "stdout",
     "output_type": "stream",
     "text": [
      "X train:  28000\n",
      "y train:  28000\n",
      "y test:  12000\n"
     ]
    }
   ],
   "source": [
    "from sklearn.model_selection import train_test_split\n",
    "X = crowdflower['padded_indices'].to_numpy()\n",
    "y = crowdflower['onehot_sentiment'].to_numpy()\n",
    "X_train, X_test, y_train, y_test = train_test_split(X, y, test_size=0.3, random_state=42)\n",
    "# X_train=np.array([np.array(xi, dtype='int64') for xi in X_train])\n",
    "# X_test=np.array([np.array(xi, dtype='int64') for xi in X_test])\n",
    "# y_train=np.array([np.array(xi, dtype='int64') for xi in y_train])\n",
    "# y_test=np.array([np.array(xi, dtype='int64') for xi in y_test])\n",
    "X_train=np.array([np.array(xi) for xi in X_train])\n",
    "X_test=np.array([np.array(xi) for xi in X_test])\n",
    "y_train=np.array([np.array(xi) for xi in y_train])\n",
    "y_test=np.array([np.array(xi) for xi in y_test])\n",
    "print(\"X train: \", len(X_train))\n",
    "print(\"y train: \", len(y_train))\n",
    "print(\"y test: \", len(y_test))"
   ]
  },
  {
   "cell_type": "code",
   "execution_count": 20,
   "id": "ecea210e",
   "metadata": {
    "execution": {
     "iopub.execute_input": "2021-11-12T20:07:54.363194Z",
     "iopub.status.busy": "2021-11-12T20:07:54.362464Z",
     "iopub.status.idle": "2021-11-12T20:07:54.365201Z",
     "shell.execute_reply": "2021-11-12T20:07:54.365602Z",
     "shell.execute_reply.started": "2021-11-12T20:05:03.485286Z"
    },
    "papermill": {
     "duration": 0.033988,
     "end_time": "2021-11-12T20:07:54.365733",
     "exception": false,
     "start_time": "2021-11-12T20:07:54.331745",
     "status": "completed"
    },
    "tags": []
   },
   "outputs": [
    {
     "data": {
      "text/plain": [
       "dtype('int64')"
      ]
     },
     "execution_count": 20,
     "metadata": {},
     "output_type": "execute_result"
    }
   ],
   "source": [
    "X_train.dtype"
   ]
  },
  {
   "cell_type": "markdown",
   "id": "1c3be6b6",
   "metadata": {
    "papermill": {
     "duration": 0.026829,
     "end_time": "2021-11-12T20:07:54.419908",
     "exception": false,
     "start_time": "2021-11-12T20:07:54.393079",
     "status": "completed"
    },
    "tags": []
   },
   "source": [
    "### Zhou model"
   ]
  },
  {
   "cell_type": "code",
   "execution_count": 21,
   "id": "157d16ae",
   "metadata": {
    "execution": {
     "iopub.execute_input": "2021-11-12T20:07:54.483064Z",
     "iopub.status.busy": "2021-11-12T20:07:54.482192Z",
     "iopub.status.idle": "2021-11-12T20:08:03.050863Z",
     "shell.execute_reply": "2021-11-12T20:08:03.051744Z",
     "shell.execute_reply.started": "2021-11-12T20:05:03.494457Z"
    },
    "papermill": {
     "duration": 8.604678,
     "end_time": "2021-11-12T20:08:03.051989",
     "exception": false,
     "start_time": "2021-11-12T20:07:54.447311",
     "status": "completed"
    },
    "tags": []
   },
   "outputs": [
    {
     "name": "stderr",
     "output_type": "stream",
     "text": [
      "2021-11-12 20:07:54.697184: I tensorflow/stream_executor/cuda/cuda_gpu_executor.cc:937] successful NUMA node read from SysFS had negative value (-1), but there must be at least one NUMA node, so returning NUMA node zero\n",
      "2021-11-12 20:07:54.814832: I tensorflow/stream_executor/cuda/cuda_gpu_executor.cc:937] successful NUMA node read from SysFS had negative value (-1), but there must be at least one NUMA node, so returning NUMA node zero\n",
      "2021-11-12 20:07:54.815572: I tensorflow/stream_executor/cuda/cuda_gpu_executor.cc:937] successful NUMA node read from SysFS had negative value (-1), but there must be at least one NUMA node, so returning NUMA node zero\n",
      "2021-11-12 20:07:54.816721: I tensorflow/core/platform/cpu_feature_guard.cc:142] This TensorFlow binary is optimized with oneAPI Deep Neural Network Library (oneDNN) to use the following CPU instructions in performance-critical operations:  AVX2 AVX512F FMA\n",
      "To enable them in other operations, rebuild TensorFlow with the appropriate compiler flags.\n",
      "2021-11-12 20:07:54.818087: I tensorflow/stream_executor/cuda/cuda_gpu_executor.cc:937] successful NUMA node read from SysFS had negative value (-1), but there must be at least one NUMA node, so returning NUMA node zero\n",
      "2021-11-12 20:07:54.818760: I tensorflow/stream_executor/cuda/cuda_gpu_executor.cc:937] successful NUMA node read from SysFS had negative value (-1), but there must be at least one NUMA node, so returning NUMA node zero\n",
      "2021-11-12 20:07:54.819378: I tensorflow/stream_executor/cuda/cuda_gpu_executor.cc:937] successful NUMA node read from SysFS had negative value (-1), but there must be at least one NUMA node, so returning NUMA node zero\n",
      "2021-11-12 20:07:56.865852: I tensorflow/stream_executor/cuda/cuda_gpu_executor.cc:937] successful NUMA node read from SysFS had negative value (-1), but there must be at least one NUMA node, so returning NUMA node zero\n",
      "2021-11-12 20:07:56.866674: I tensorflow/stream_executor/cuda/cuda_gpu_executor.cc:937] successful NUMA node read from SysFS had negative value (-1), but there must be at least one NUMA node, so returning NUMA node zero\n",
      "2021-11-12 20:07:56.867361: I tensorflow/stream_executor/cuda/cuda_gpu_executor.cc:937] successful NUMA node read from SysFS had negative value (-1), but there must be at least one NUMA node, so returning NUMA node zero\n",
      "2021-11-12 20:07:56.867998: I tensorflow/core/common_runtime/gpu/gpu_device.cc:1510] Created device /job:localhost/replica:0/task:0/device:GPU:0 with 15403 MB memory:  -> device: 0, name: Tesla P100-PCIE-16GB, pci bus id: 0000:00:04.0, compute capability: 6.0\n",
      "/opt/conda/lib/python3.7/site-packages/keras/layers/legacy_rnn/rnn_cell_impl.py:901: UserWarning: `tf.nn.rnn_cell.LSTMCell` is deprecated and will be removed in a future version. This class is equivalent as `tf.keras.layers.LSTMCell`, and will be replaced by that in Tensorflow 2.0.\n",
      "  warnings.warn(\"`tf.nn.rnn_cell.LSTMCell` is deprecated and will be \"\n",
      "/opt/conda/lib/python3.7/site-packages/keras/engine/base_layer.py:2223: UserWarning: `layer.add_variable` is deprecated and will be removed in a future version. Please use `layer.add_weight` method instead.\n",
      "  warnings.warn('`layer.add_variable` is deprecated and '\n"
     ]
    },
    {
     "name": "stdout",
     "output_type": "stream",
     "text": [
      "(2, 10, 300)\n"
     ]
    },
    {
     "name": "stderr",
     "output_type": "stream",
     "text": [
      "2021-11-12 20:07:58.825368: I tensorflow/stream_executor/cuda/cuda_dnn.cc:369] Loaded cuDNN version 8005\n"
     ]
    },
    {
     "name": "stdout",
     "output_type": "stream",
     "text": [
      "embedding: (2, 10, 300)\n",
      "lstm: (2, 10, 300)\n",
      "conv: (2, 8, 298, 100)\n",
      "pooling: (2, 4, 149, 1, 1)\n",
      "flatten: (2, 596)\n"
     ]
    }
   ],
   "source": [
    "import tensorflow as tf\n",
    "\n",
    "class ZhouBLSTMCNNModel:\n",
    "\n",
    "    def __init__(self,\n",
    "        embedding,\n",
    "        em_drop_rate = 0.5,\n",
    "        lstm_units   = 300,\n",
    "        lstm_drop_rate = 0.2,\n",
    "        conv_size    = (3, 3),\n",
    "        conv_filters = 100,\n",
    "        pool_size    = (2, 2),\n",
    "        pool_drop_rate = 0.4):\n",
    "        '''Constructor.\n",
    "        # Parameters:\n",
    "        embedding: Numpy array representing the embedding.\n",
    "        em_drop_rate: Drop rate after the embedding layer.\n",
    "        lstm_units: Size of the internal states of the LSTM cells.\n",
    "        lstm_drop_rate: Drop rate after the lstm layer.\n",
    "        conv_size: Size of the convolutions.\n",
    "        conv_filters: Number of convolutions filters.\n",
    "        pool_size: Size for the max pooling layer.\n",
    "        pool_drop_rate: Drop rate of the max pooling layer.\n",
    "        '''\n",
    "        self._embedding      = embedding\n",
    "        self._em_drop_rate   = em_drop_rate\n",
    "        self._lstm_units     = lstm_units\n",
    "        self._lstm_drop_rate = lstm_drop_rate\n",
    "        self._conv_size      = conv_size\n",
    "        self._conv_filters   = conv_filters\n",
    "        self._pool_size      = pool_size\n",
    "        self._pool_drop_rate = pool_drop_rate\n",
    "\n",
    "    def __call__(self, input):\n",
    "        self._embedding_tf = self._create_embedding_layer(\n",
    "            self._em_drop_rate, self._embedding, input)\n",
    "\n",
    "        self._sequences_tf = self._create_blstm_layer(\n",
    "            self._lstm_units,\n",
    "            self._lstm_drop_rate,\n",
    "            self._embedding_tf)\n",
    "\n",
    "        self._convolution_tf = self._create_convolutional_layer(\n",
    "            self._conv_size,\n",
    "            self._conv_filters,\n",
    "            self._sequences_tf)\n",
    "        \n",
    "        self._pooling_tf = self._create_maxpooling_layer(\n",
    "            self._pool_size,\n",
    "            self._pool_drop_rate,\n",
    "            self._convolution_tf)\n",
    "\n",
    "        self._flatten_tf = self._create_flatten_layer(self._pooling_tf)\n",
    "\n",
    "        return self._flatten_tf\n",
    "\n",
    "    def summary(self):\n",
    "        print(\"embedding: \" + str(self._embedding_tf.shape))\n",
    "        print(\"lstm: \" + str(self._sequences_tf.shape))\n",
    "        print(\"conv: \" + str(self._convolution_tf.shape))\n",
    "        print(\"pooling: \" + str(self._pooling_tf.shape))\n",
    "        print(\"flatten: \" + str(self._flatten_tf.shape))\n",
    "\n",
    "    # this function converts each word from input_x into dense vector of dimension 300 (dimension depending on word2vec)\n",
    "    # embedding  = word_vector\n",
    "    def _create_embedding_layer(self, em_drop_rate, embedding, input_x):\n",
    "        embedding = tf.Variable(initial_value=embedding)\n",
    "\n",
    "        embedded_chars = tf.nn.embedding_lookup(  # lookup word_vector(embedding) by index (input_x)\n",
    "            embedding, tf.cast(input_x, 'int32'))\n",
    "\n",
    "        return tf.nn.dropout(embedded_chars, rate=em_drop_rate)\n",
    "\n",
    "    # bidirectional lstm layer\n",
    "    # \n",
    "    def _create_blstm_layer(self, lstm_units, lstm_drop_rate, embedding):\n",
    "        lstm_cell = tf.compat.v1.nn.rnn_cell.LSTMCell(lstm_units)\n",
    "        sequence = tf.unstack(embedding, axis=1) #embedded input words\n",
    "        \n",
    "        # hs, _, _ are outputs, output_state_fw, output_state_bw respectively\n",
    "        hs, _, _ = tf.compat.v1.nn.static_bidirectional_rnn(lstm_cell, lstm_cell, #forward and backward direction\n",
    "            sequence, #input\n",
    "            dtype=tf.float32)\n",
    "        \n",
    "        hs = tf.stack(\n",
    "            values=hs,\n",
    "            axis=1)\n",
    "        ss = tf.math.reduce_sum(\n",
    "            tf.reshape(hs, shape=[-1, hs.shape[1], 2, lstm_units]),\n",
    "            axis=2\n",
    "        )\n",
    "\n",
    "        return tf.nn.dropout(ss, rate=lstm_drop_rate)\n",
    "\n",
    "    def _create_convolutional_layer(self,\n",
    "        conv_size, num_filters, tensor):\n",
    "        \n",
    "        print(str(tensor.shape))\n",
    "\n",
    "        filter_heigth = conv_size[0]\n",
    "        filter_width  = conv_size[1]\n",
    "\n",
    "        filter_shape = [filter_heigth, filter_width,\n",
    "            1, num_filters]\n",
    "\n",
    "        W = tf.Variable(\n",
    "            initial_value=tf.random.truncated_normal(\n",
    "                shape=filter_shape,\n",
    "                stddev=0.1))\n",
    "        b = tf.Variable(\n",
    "            initial_value=tf.random.truncated_normal(\n",
    "                shape=[num_filters]))\n",
    "\n",
    "        tensor_expanded = tf.expand_dims(tensor, -1)\n",
    "        conv = tf.nn.conv2d(\n",
    "            input=tensor_expanded,\n",
    "            filters=W, #####filter to filters, idk if it changed stuff\n",
    "            strides=[1,1,1,1],\n",
    "            padding='VALID')\n",
    "\n",
    "        bias = tf.nn.bias_add(conv, b)\n",
    "        c = tf.nn.relu(bias)\n",
    "\n",
    "        return c\n",
    "\n",
    "    def _create_maxpooling_layer(self, size, pool_drop_rate, conv):\n",
    "        pooled = tf.nn.max_pool3d(\n",
    "            input=tf.expand_dims(conv, -1),\n",
    "            ksize=[1, size[0], size[1], conv.shape[3], 1],\n",
    "            strides=[1, size[0], size[1], conv.shape[3], 1],\n",
    "            padding='VALID')\n",
    "        \n",
    "        return tf.nn.dropout(pooled, rate=pool_drop_rate)\n",
    "\n",
    "    def _create_flatten_layer(self, tensor):\n",
    "        return tf.reshape(tensor, [-1, tensor.shape[1] * tensor.shape[2]])\n",
    "\n",
    "\n",
    "if __name__ == '__main__':\n",
    "    embedding_size  = 300\n",
    "    num_words       = 1000\n",
    "    sentence_length = 10\n",
    "\n",
    "    embedding = [\n",
    "        [float(i) for i in range(embedding_size)] for _ in range(num_words)\n",
    "    ]\n",
    "    data = [\n",
    "        [i     for i in range(sentence_length)],\n",
    "        [i + 1 for i in range(sentence_length)]\n",
    "    ]\n",
    "\n",
    "    model = ZhouBLSTMCNNModel(embedding)\n",
    "    model(data)\n",
    "    model.summary()"
   ]
  },
  {
   "cell_type": "code",
   "execution_count": null,
   "id": "2070c425",
   "metadata": {
    "papermill": {
     "duration": 0.028754,
     "end_time": "2021-11-12T20:08:03.110073",
     "exception": false,
     "start_time": "2021-11-12T20:08:03.081319",
     "status": "completed"
    },
    "tags": []
   },
   "outputs": [],
   "source": []
  },
  {
   "cell_type": "code",
   "execution_count": 22,
   "id": "e3d92a2e",
   "metadata": {
    "execution": {
     "iopub.execute_input": "2021-11-12T20:08:03.172462Z",
     "iopub.status.busy": "2021-11-12T20:08:03.171544Z",
     "iopub.status.idle": "2021-11-12T20:08:03.663704Z",
     "shell.execute_reply": "2021-11-12T20:08:03.664217Z",
     "shell.execute_reply.started": "2021-11-12T20:05:04.022734Z"
    },
    "papermill": {
     "duration": 0.52545,
     "end_time": "2021-11-12T20:08:03.664385",
     "exception": false,
     "start_time": "2021-11-12T20:08:03.138935",
     "status": "completed"
    },
    "tags": []
   },
   "outputs": [],
   "source": [
    "import tensorflow as tf\n",
    "from numba import jit, cuda\n",
    "\n",
    "class Classifier:\n",
    "\n",
    "    def __init__(self, model, input_length, output_length):\n",
    "        '''Constructor.\n",
    "        # Parameters:\n",
    "        input_length: sentence length (max number of words in sentence)\n",
    "        output_length: number of classes of sentiment\n",
    "        '''\n",
    "        self.model = model\n",
    "        self.input_length = input_length\n",
    "        self.output_length = output_length\n",
    "\n",
    "    def compile(self, batch_size=32):\n",
    "        tf.compat.v1.disable_eager_execution()\n",
    "        self._ds_x = tf.compat.v1.placeholder(tf.float32, [None, self.input_length])\n",
    "        self._ds_y = tf.compat.v1.placeholder(tf.float32, [None, self.output_length])\n",
    "\n",
    "        ds = tf.compat.v1.data.Dataset.from_tensor_slices((self._ds_x, self._ds_y))\n",
    "        ds = ds.batch(batch_size)\n",
    "\n",
    "        self._ds_it = ds.make_initializable_iterator()\n",
    "        self._input, self._labels = self._ds_it.get_next()\n",
    "\n",
    "        self._features = self.model(self._input)\n",
    "        self._output = _create_dense_layer(self._features, self.output_length)\n",
    "\n",
    "        self._create_acc_computations()\n",
    "        self._create_backpropagation()\n",
    "\n",
    "        self._session = tf.compat.v1.Session()\n",
    "        self._session.run(tf.compat.v1.global_variables_initializer())\n",
    "        self._session.run(tf.compat.v1.local_variables_initializer())\n",
    "\n",
    "    def _create_acc_computations(self):\n",
    "        self._predictions = tf.argmax(self._output, 1)\n",
    "        labels = tf.argmax(self._labels, 1)\n",
    "        self._accuracy = tf.reduce_mean(\n",
    "            tf.cast(tf.equal(self._predictions, labels), 'float32'))\n",
    "\n",
    "    def _create_backpropagation(self):\n",
    "        losses = tf.compat.v1.nn.softmax_cross_entropy_with_logits_v2(\n",
    "            logits=self._output,\n",
    "            labels=self._labels)\n",
    "        self._loss = tf.reduce_mean(losses)\n",
    "\n",
    "        optimizer = tf.compat.v1.train.AdamOptimizer(0.001)\n",
    "        global_step = tf.Variable(0, name=\"global_step\", trainable=False)\n",
    "        grads_and_vars = optimizer.compute_gradients(self._loss)\n",
    "\n",
    "        self._train_op = optimizer.apply_gradients(\n",
    "            grads_and_vars, global_step=global_step)\n",
    "\n",
    "    def summary(self):\n",
    "        print('input:', self._input.shape)\n",
    "        self.model.summary()\n",
    "        print('output:', self._output.shape)\n",
    "\n",
    "#     @jit(target =\"cuda\")  \n",
    "    def train(self, X_train, y_train, X_eval, y_eval, epochs=10):\n",
    "        import time\n",
    "        loss_ls, acc_ls, val_loss_ls, val_acc_ls = [],[],[],[]\n",
    "\n",
    "        for e in range(epochs):\n",
    "            start_time = time.time()\n",
    "            loss, acc = self._train(X_train, y_train)\n",
    "            loss_ls.append(loss)\n",
    "            acc_ls.append(acc)\n",
    "            duration = time.time() - start_time\n",
    "\n",
    "            val_loss, val_acc = self._eval(X_eval, y_eval)\n",
    "            val_loss_ls.append(val_loss)\n",
    "            val_acc_ls.append(val_acc)\n",
    "\n",
    "            output = 'Epoch: {}, loss = {:.4f}, acc = {:.4f}, val_loss = {:.4f}, val_acc = {:.4f}, Time = {:.2f}s'\n",
    "            print(output.format(e + 1, loss, acc, val_loss, val_acc, duration))\n",
    "        return loss_ls, acc_ls, val_loss_ls, val_acc_ls\n",
    "        # endfor\n",
    "\n",
    "#     @jit(target =\"cuda\")  \n",
    "    def _train(self, X_train, y_train):\n",
    "        import numpy as np\n",
    "#         print(\"self._ds_it.initializer,\",self._ds_it.initializer)\n",
    "#         print(np.asarray(self._ds_it.initializer))\n",
    "        self._session.run(\n",
    "            fetches= self._ds_it.initializer,\n",
    "            feed_dict={\n",
    "                self._ds_x: X_train,\n",
    "                self._ds_y: y_train\n",
    "            })\n",
    "        loss, acc, = [], []\n",
    "        while True:\n",
    "            try:\n",
    "                _, vloss, vacc = self._session.run(\n",
    "                    fetches=[self._train_op, self._loss, self._accuracy])\n",
    "\n",
    "                loss.append(vloss)\n",
    "                acc.append(vacc)\n",
    "            except tf.errors.OutOfRangeError:\n",
    "                break\n",
    "        # endwhile\n",
    "\n",
    "        loss, acc = np.mean(loss), np.mean(acc)\n",
    "        return loss, acc\n",
    "\n",
    "    def _eval(self, X_val, y_val):\n",
    "        self._session.run(\n",
    "            fetches=self._ds_it.initializer,\n",
    "            feed_dict={\n",
    "                self._ds_x: X_val,\n",
    "                self._ds_y: y_val\n",
    "            })\n",
    "\n",
    "        loss, acc, = 0, 0\n",
    "        while True:\n",
    "            try:\n",
    "                l, vloss, vacc = self._session.run(\n",
    "                    fetches=[self._labels, self._loss, self._accuracy])\n",
    "\n",
    "                loss += vloss * len(l)\n",
    "                acc += vacc * len(l)\n",
    "            except tf.errors.OutOfRangeError:\n",
    "                break\n",
    "\n",
    "        return loss / len(X_val), acc / len(X_val)\n",
    "\n",
    "    def predict(self, X):\n",
    "        import numpy as np\n",
    "\n",
    "        self._session.run(self._ds_it.initializer,\n",
    "                         feed_dict={\n",
    "                             self._ds_x: X,\n",
    "                             self._ds_y: np.empty((len(X), self.output_length))\n",
    "                         }\n",
    "                         )\n",
    "\n",
    "        pred = list()\n",
    "        while True:\n",
    "            try:\n",
    "                ppred = self._session.run(tf.nn.softmax(self._output))\n",
    "\n",
    "                pred.extend(map(lambda l: l.tolist(), ppred))\n",
    "            except tf.errors.OutOfRangeError:\n",
    "                break\n",
    "\n",
    "        return pred\n",
    "\n",
    "def _create_dense_layer(x, output_length):\n",
    "    '''Creates a dense layer\n",
    "    '''\n",
    "    input_size = x.shape[1] #.value\n",
    "    W = tf.Variable(\n",
    "        initial_value=tf.random.truncated_normal(\n",
    "            shape=[input_size, output_length],\n",
    "            stddev=0.1))\n",
    "    b = tf.Variable(\n",
    "        initial_value=tf.random.truncated_normal(\n",
    "            shape=[output_length]))\n",
    "\n",
    "    dense = tf.compat.v1.nn.xw_plus_b(x, W, b)\n",
    "\n",
    "    return dense\n",
    "\n",
    "\n",
    "if __name__ == '__main__':\n",
    "    pass"
   ]
  },
  {
   "cell_type": "code",
   "execution_count": 23,
   "id": "681b5b3f",
   "metadata": {
    "execution": {
     "iopub.execute_input": "2021-11-12T20:08:03.774623Z",
     "iopub.status.busy": "2021-11-12T20:08:03.773761Z",
     "iopub.status.idle": "2021-11-12T20:08:03.775579Z",
     "shell.execute_reply": "2021-11-12T20:08:03.776066Z",
     "shell.execute_reply.started": "2021-11-12T20:05:24.878382Z"
    },
    "papermill": {
     "duration": 0.082549,
     "end_time": "2021-11-12T20:08:03.776203",
     "exception": false,
     "start_time": "2021-11-12T20:08:03.693654",
     "status": "completed"
    },
    "tags": []
   },
   "outputs": [],
   "source": [
    "# # detect and init the TPU\n",
    "# tpu = tf.distribute.cluster_resolver.TPUClusterResolver.connect()\n",
    "\n",
    "# # instantiate a distribution strategy\n",
    "# tpu_strategy = tf.distribute.experimental.TPUStrategy(tpu)\n",
    "\n",
    "# # instantiating the model in the strategy scope creates the model on the TPU\n",
    "# # with tpu_strategy.scope():\n",
    "# #     model = tf.keras.Sequential( … ) # define your model normally\n",
    "# #     model.compile( … )"
   ]
  },
  {
   "cell_type": "code",
   "execution_count": 24,
   "id": "ae0279a1",
   "metadata": {
    "execution": {
     "iopub.execute_input": "2021-11-12T20:08:03.847758Z",
     "iopub.status.busy": "2021-11-12T20:08:03.846666Z",
     "iopub.status.idle": "2021-11-13T04:19:22.610262Z",
     "shell.execute_reply": "2021-11-13T04:19:22.611120Z",
     "shell.execute_reply.started": "2021-11-12T20:05:43.618823Z"
    },
    "papermill": {
     "duration": 29478.80625,
     "end_time": "2021-11-13T04:19:22.611301",
     "exception": false,
     "start_time": "2021-11-12T20:08:03.805051",
     "status": "completed"
    },
    "scrolled": true,
    "tags": []
   },
   "outputs": [
    {
     "name": "stderr",
     "output_type": "stream",
     "text": [
      "/opt/conda/lib/python3.7/site-packages/keras/engine/base_layer_v1.py:1684: UserWarning: `layer.add_variable` is deprecated and will be removed in a future version. Please use `layer.add_weight` method instead.\n",
      "  warnings.warn('`layer.add_variable` is deprecated and '\n"
     ]
    },
    {
     "name": "stdout",
     "output_type": "stream",
     "text": [
      "(None, 110, 300)\n"
     ]
    },
    {
     "name": "stderr",
     "output_type": "stream",
     "text": [
      "2021-11-12 20:08:15.545702: I tensorflow/stream_executor/cuda/cuda_gpu_executor.cc:937] successful NUMA node read from SysFS had negative value (-1), but there must be at least one NUMA node, so returning NUMA node zero\n",
      "2021-11-12 20:08:15.546591: I tensorflow/stream_executor/cuda/cuda_gpu_executor.cc:937] successful NUMA node read from SysFS had negative value (-1), but there must be at least one NUMA node, so returning NUMA node zero\n",
      "2021-11-12 20:08:15.547254: I tensorflow/stream_executor/cuda/cuda_gpu_executor.cc:937] successful NUMA node read from SysFS had negative value (-1), but there must be at least one NUMA node, so returning NUMA node zero\n",
      "2021-11-12 20:08:15.547931: I tensorflow/stream_executor/cuda/cuda_gpu_executor.cc:937] successful NUMA node read from SysFS had negative value (-1), but there must be at least one NUMA node, so returning NUMA node zero\n",
      "2021-11-12 20:08:15.548614: I tensorflow/stream_executor/cuda/cuda_gpu_executor.cc:937] successful NUMA node read from SysFS had negative value (-1), but there must be at least one NUMA node, so returning NUMA node zero\n",
      "2021-11-12 20:08:15.549182: I tensorflow/core/common_runtime/gpu/gpu_device.cc:1510] Created device /job:localhost/replica:0/task:0/device:GPU:0 with 15403 MB memory:  -> device: 0, name: Tesla P100-PCIE-16GB, pci bus id: 0000:00:04.0, compute capability: 6.0\n"
     ]
    },
    {
     "name": "stdout",
     "output_type": "stream",
     "text": [
      "------------------------------------------------------------------------\n",
      "Training for fold 1 ...\n",
      "Epoch: 1, loss = 4.3370, acc = 0.1747, val_loss = 2.2161, val_acc = 0.1968, Time = 141.97s\n",
      "Epoch: 2, loss = 2.2140, acc = 0.2023, val_loss = 2.1714, val_acc = 0.2170, Time = 125.18s\n",
      "Epoch: 3, loss = 2.2033, acc = 0.2048, val_loss = 2.1645, val_acc = 0.2075, Time = 125.69s\n",
      "Epoch: 4, loss = 2.1891, acc = 0.2078, val_loss = 2.1646, val_acc = 0.2110, Time = 126.04s\n",
      "Epoch: 5, loss = 2.1841, acc = 0.2086, val_loss = 2.1574, val_acc = 0.2167, Time = 126.33s\n",
      "Epoch: 6, loss = 2.1714, acc = 0.2092, val_loss = 2.1650, val_acc = 0.2105, Time = 126.51s\n",
      "Epoch: 7, loss = 2.1736, acc = 0.2116, val_loss = 2.1547, val_acc = 0.2127, Time = 127.08s\n",
      "Epoch: 8, loss = 2.1710, acc = 0.2108, val_loss = 2.1527, val_acc = 0.2112, Time = 133.96s\n",
      "Epoch: 9, loss = 2.1846, acc = 0.2104, val_loss = 2.1543, val_acc = 0.2193, Time = 129.12s\n",
      "Epoch: 10, loss = 2.1840, acc = 0.2131, val_loss = 2.1450, val_acc = 0.2112, Time = 127.37s\n",
      "Epoch: 11, loss = 2.1613, acc = 0.2188, val_loss = 2.1393, val_acc = 0.2215, Time = 132.50s\n",
      "Epoch: 12, loss = 2.1574, acc = 0.2126, val_loss = 2.1362, val_acc = 0.2248, Time = 128.59s\n",
      "Epoch: 13, loss = 2.1606, acc = 0.2111, val_loss = 2.1380, val_acc = 0.2305, Time = 133.41s\n",
      "Epoch: 14, loss = 2.1578, acc = 0.2143, val_loss = 2.1363, val_acc = 0.2258, Time = 128.02s\n",
      "Epoch: 15, loss = 2.1548, acc = 0.2136, val_loss = 2.1357, val_acc = 0.2090, Time = 128.05s\n",
      "Epoch: 16, loss = 2.1548, acc = 0.2159, val_loss = 2.1374, val_acc = 0.2157, Time = 127.76s\n",
      "Epoch: 17, loss = 2.1535, acc = 0.2147, val_loss = 2.1366, val_acc = 0.2210, Time = 128.81s\n",
      "Epoch: 18, loss = 2.1552, acc = 0.2129, val_loss = 2.1359, val_acc = 0.2177, Time = 128.25s\n",
      "Epoch: 19, loss = 2.1511, acc = 0.2136, val_loss = 2.1365, val_acc = 0.2195, Time = 128.42s\n",
      "Epoch: 20, loss = 2.1496, acc = 0.2154, val_loss = 2.1361, val_acc = 0.2258, Time = 127.66s\n",
      "(None, 110, 300)\n"
     ]
    },
    {
     "name": "stderr",
     "output_type": "stream",
     "text": [
      "2021-11-12 20:56:19.744310: I tensorflow/stream_executor/cuda/cuda_gpu_executor.cc:937] successful NUMA node read from SysFS had negative value (-1), but there must be at least one NUMA node, so returning NUMA node zero\n",
      "2021-11-12 20:56:19.745052: I tensorflow/stream_executor/cuda/cuda_gpu_executor.cc:937] successful NUMA node read from SysFS had negative value (-1), but there must be at least one NUMA node, so returning NUMA node zero\n",
      "2021-11-12 20:56:19.745595: I tensorflow/stream_executor/cuda/cuda_gpu_executor.cc:937] successful NUMA node read from SysFS had negative value (-1), but there must be at least one NUMA node, so returning NUMA node zero\n",
      "2021-11-12 20:56:19.746188: I tensorflow/stream_executor/cuda/cuda_gpu_executor.cc:937] successful NUMA node read from SysFS had negative value (-1), but there must be at least one NUMA node, so returning NUMA node zero\n",
      "2021-11-12 20:56:19.746697: I tensorflow/stream_executor/cuda/cuda_gpu_executor.cc:937] successful NUMA node read from SysFS had negative value (-1), but there must be at least one NUMA node, so returning NUMA node zero\n",
      "2021-11-12 20:56:19.747132: I tensorflow/core/common_runtime/gpu/gpu_device.cc:1510] Created device /job:localhost/replica:0/task:0/device:GPU:0 with 15403 MB memory:  -> device: 0, name: Tesla P100-PCIE-16GB, pci bus id: 0000:00:04.0, compute capability: 6.0\n"
     ]
    },
    {
     "name": "stdout",
     "output_type": "stream",
     "text": [
      "------------------------------------------------------------------------\n",
      "Training for fold 2 ...\n",
      "Epoch: 1, loss = 4.4663, acc = 0.1758, val_loss = 2.1788, val_acc = 0.2050, Time = 140.83s\n",
      "Epoch: 2, loss = 2.1994, acc = 0.2030, val_loss = 2.1722, val_acc = 0.2082, Time = 128.56s\n",
      "Epoch: 3, loss = 2.1879, acc = 0.2082, val_loss = 2.1684, val_acc = 0.2062, Time = 128.80s\n",
      "Epoch: 4, loss = 2.1868, acc = 0.2066, val_loss = 2.1640, val_acc = 0.2157, Time = 132.96s\n",
      "Epoch: 5, loss = 2.1845, acc = 0.2033, val_loss = 2.1771, val_acc = 0.2175, Time = 133.64s\n",
      "Epoch: 6, loss = 2.1683, acc = 0.2119, val_loss = 2.1460, val_acc = 0.2255, Time = 127.81s\n",
      "Epoch: 7, loss = 2.1751, acc = 0.2107, val_loss = 2.1464, val_acc = 0.2160, Time = 128.99s\n",
      "Epoch: 8, loss = 2.1763, acc = 0.2107, val_loss = 2.1561, val_acc = 0.2092, Time = 128.15s\n",
      "Epoch: 9, loss = 2.1676, acc = 0.2155, val_loss = 2.1540, val_acc = 0.2172, Time = 127.85s\n",
      "Epoch: 10, loss = 2.1618, acc = 0.2135, val_loss = 2.1414, val_acc = 0.2195, Time = 129.71s\n",
      "Epoch: 11, loss = 2.1603, acc = 0.2162, val_loss = 2.1378, val_acc = 0.2235, Time = 128.51s\n",
      "Epoch: 12, loss = 2.1588, acc = 0.2140, val_loss = 2.1432, val_acc = 0.2100, Time = 127.51s\n",
      "Epoch: 13, loss = 2.1518, acc = 0.2120, val_loss = 2.1374, val_acc = 0.2152, Time = 128.40s\n",
      "Epoch: 14, loss = 2.1513, acc = 0.2127, val_loss = 2.1361, val_acc = 0.2208, Time = 128.47s\n",
      "Epoch: 15, loss = 2.1494, acc = 0.2161, val_loss = 2.1350, val_acc = 0.2193, Time = 133.23s\n",
      "Epoch: 16, loss = 2.1515, acc = 0.2136, val_loss = 2.1351, val_acc = 0.2147, Time = 128.77s\n",
      "Epoch: 17, loss = 2.1489, acc = 0.2137, val_loss = 2.1348, val_acc = 0.2182, Time = 126.79s\n",
      "Epoch: 18, loss = 2.1481, acc = 0.2116, val_loss = 2.1349, val_acc = 0.2190, Time = 126.90s\n",
      "Epoch: 19, loss = 2.1475, acc = 0.2161, val_loss = 2.1332, val_acc = 0.2140, Time = 132.13s\n",
      "Epoch: 20, loss = 2.1472, acc = 0.2154, val_loss = 2.1319, val_acc = 0.2228, Time = 127.39s\n",
      "(None, 110, 300)\n"
     ]
    },
    {
     "name": "stderr",
     "output_type": "stream",
     "text": [
      "2021-11-12 21:45:44.466081: I tensorflow/stream_executor/cuda/cuda_gpu_executor.cc:937] successful NUMA node read from SysFS had negative value (-1), but there must be at least one NUMA node, so returning NUMA node zero\n",
      "2021-11-12 21:45:44.466809: I tensorflow/stream_executor/cuda/cuda_gpu_executor.cc:937] successful NUMA node read from SysFS had negative value (-1), but there must be at least one NUMA node, so returning NUMA node zero\n",
      "2021-11-12 21:45:44.467367: I tensorflow/stream_executor/cuda/cuda_gpu_executor.cc:937] successful NUMA node read from SysFS had negative value (-1), but there must be at least one NUMA node, so returning NUMA node zero\n",
      "2021-11-12 21:45:44.467944: I tensorflow/stream_executor/cuda/cuda_gpu_executor.cc:937] successful NUMA node read from SysFS had negative value (-1), but there must be at least one NUMA node, so returning NUMA node zero\n",
      "2021-11-12 21:45:44.468447: I tensorflow/stream_executor/cuda/cuda_gpu_executor.cc:937] successful NUMA node read from SysFS had negative value (-1), but there must be at least one NUMA node, so returning NUMA node zero\n",
      "2021-11-12 21:45:44.468850: I tensorflow/core/common_runtime/gpu/gpu_device.cc:1510] Created device /job:localhost/replica:0/task:0/device:GPU:0 with 15403 MB memory:  -> device: 0, name: Tesla P100-PCIE-16GB, pci bus id: 0000:00:04.0, compute capability: 6.0\n"
     ]
    },
    {
     "name": "stdout",
     "output_type": "stream",
     "text": [
      "------------------------------------------------------------------------\n",
      "Training for fold 3 ...\n",
      "Epoch: 1, loss = 4.1515, acc = 0.1819, val_loss = 2.2124, val_acc = 0.2047, Time = 141.73s\n",
      "Epoch: 2, loss = 2.1924, acc = 0.2091, val_loss = 2.1991, val_acc = 0.2125, Time = 133.86s\n",
      "Epoch: 3, loss = 2.1821, acc = 0.2076, val_loss = 2.2015, val_acc = 0.2067, Time = 127.65s\n",
      "Epoch: 4, loss = 2.1837, acc = 0.2097, val_loss = 2.1743, val_acc = 0.2160, Time = 132.22s\n",
      "Epoch: 5, loss = 2.1732, acc = 0.2111, val_loss = 2.1754, val_acc = 0.2082, Time = 127.45s\n",
      "Epoch: 6, loss = 2.1618, acc = 0.2130, val_loss = 2.1604, val_acc = 0.2160, Time = 127.00s\n",
      "Epoch: 7, loss = 2.1547, acc = 0.2151, val_loss = 2.1619, val_acc = 0.2082, Time = 127.74s\n",
      "Epoch: 8, loss = 2.1572, acc = 0.2128, val_loss = 2.1590, val_acc = 0.2213, Time = 128.08s\n",
      "Epoch: 9, loss = 2.1569, acc = 0.2104, val_loss = 2.1580, val_acc = 0.2205, Time = 128.21s\n",
      "Epoch: 10, loss = 2.1565, acc = 0.2146, val_loss = 2.1572, val_acc = 0.2155, Time = 127.93s\n",
      "Epoch: 11, loss = 2.1566, acc = 0.2164, val_loss = 2.1612, val_acc = 0.2052, Time = 127.52s\n",
      "Epoch: 12, loss = 2.1613, acc = 0.2147, val_loss = 2.1649, val_acc = 0.2147, Time = 128.67s\n",
      "Epoch: 13, loss = 2.1510, acc = 0.2148, val_loss = 2.1575, val_acc = 0.2172, Time = 128.30s\n",
      "Epoch: 14, loss = 2.1594, acc = 0.2141, val_loss = 2.1590, val_acc = 0.2230, Time = 129.10s\n",
      "Epoch: 15, loss = 2.1505, acc = 0.2134, val_loss = 2.1567, val_acc = 0.2220, Time = 128.61s\n",
      "Epoch: 16, loss = 2.1633, acc = 0.2134, val_loss = 2.1583, val_acc = 0.2172, Time = 128.79s\n",
      "Epoch: 17, loss = 2.1489, acc = 0.2137, val_loss = 2.1545, val_acc = 0.2087, Time = 128.39s\n",
      "Epoch: 18, loss = 2.1476, acc = 0.2149, val_loss = 2.1549, val_acc = 0.2228, Time = 128.56s\n",
      "Epoch: 19, loss = 2.1464, acc = 0.2163, val_loss = 2.1532, val_acc = 0.2122, Time = 130.08s\n",
      "Epoch: 20, loss = 2.1460, acc = 0.2167, val_loss = 2.1537, val_acc = 0.2112, Time = 133.03s\n",
      "(None, 110, 300)\n"
     ]
    },
    {
     "name": "stderr",
     "output_type": "stream",
     "text": [
      "2021-11-12 22:34:51.993827: I tensorflow/stream_executor/cuda/cuda_gpu_executor.cc:937] successful NUMA node read from SysFS had negative value (-1), but there must be at least one NUMA node, so returning NUMA node zero\n",
      "2021-11-12 22:34:51.994710: I tensorflow/stream_executor/cuda/cuda_gpu_executor.cc:937] successful NUMA node read from SysFS had negative value (-1), but there must be at least one NUMA node, so returning NUMA node zero\n",
      "2021-11-12 22:34:51.995379: I tensorflow/stream_executor/cuda/cuda_gpu_executor.cc:937] successful NUMA node read from SysFS had negative value (-1), but there must be at least one NUMA node, so returning NUMA node zero\n",
      "2021-11-12 22:34:51.996038: I tensorflow/stream_executor/cuda/cuda_gpu_executor.cc:937] successful NUMA node read from SysFS had negative value (-1), but there must be at least one NUMA node, so returning NUMA node zero\n",
      "2021-11-12 22:34:51.996606: I tensorflow/stream_executor/cuda/cuda_gpu_executor.cc:937] successful NUMA node read from SysFS had negative value (-1), but there must be at least one NUMA node, so returning NUMA node zero\n",
      "2021-11-12 22:34:51.997135: I tensorflow/core/common_runtime/gpu/gpu_device.cc:1510] Created device /job:localhost/replica:0/task:0/device:GPU:0 with 15403 MB memory:  -> device: 0, name: Tesla P100-PCIE-16GB, pci bus id: 0000:00:04.0, compute capability: 6.0\n"
     ]
    },
    {
     "name": "stdout",
     "output_type": "stream",
     "text": [
      "------------------------------------------------------------------------\n",
      "Training for fold 4 ...\n",
      "Epoch: 1, loss = 5.0064, acc = 0.1692, val_loss = 2.2482, val_acc = 0.1860, Time = 143.77s\n",
      "Epoch: 2, loss = 2.2119, acc = 0.1988, val_loss = 2.2025, val_acc = 0.1895, Time = 128.54s\n",
      "Epoch: 3, loss = 2.1858, acc = 0.2069, val_loss = 2.1853, val_acc = 0.2090, Time = 135.14s\n",
      "Epoch: 4, loss = 2.1783, acc = 0.2047, val_loss = 2.1914, val_acc = 0.2057, Time = 134.21s\n",
      "Epoch: 5, loss = 2.1730, acc = 0.2066, val_loss = 2.1790, val_acc = 0.2087, Time = 129.40s\n",
      "Epoch: 6, loss = 2.1770, acc = 0.2086, val_loss = 2.1695, val_acc = 0.2115, Time = 129.04s\n",
      "Epoch: 7, loss = 2.1771, acc = 0.2049, val_loss = 2.1683, val_acc = 0.1958, Time = 127.61s\n",
      "Epoch: 8, loss = 2.1965, acc = 0.2054, val_loss = 2.2244, val_acc = 0.1985, Time = 127.41s\n",
      "Epoch: 9, loss = 2.2000, acc = 0.2022, val_loss = 2.1741, val_acc = 0.2115, Time = 128.24s\n",
      "Epoch: 10, loss = 2.1713, acc = 0.2128, val_loss = 2.1683, val_acc = 0.2075, Time = 127.14s\n",
      "Epoch: 11, loss = 2.1602, acc = 0.2126, val_loss = 2.1631, val_acc = 0.2045, Time = 128.46s\n",
      "Epoch: 12, loss = 2.1590, acc = 0.2154, val_loss = 2.1636, val_acc = 0.1980, Time = 129.75s\n",
      "Epoch: 13, loss = 2.1554, acc = 0.2121, val_loss = 2.1602, val_acc = 0.1990, Time = 132.24s\n",
      "Epoch: 14, loss = 2.1547, acc = 0.2126, val_loss = 2.1612, val_acc = 0.2045, Time = 127.47s\n",
      "Epoch: 15, loss = 2.1669, acc = 0.2109, val_loss = 2.1634, val_acc = 0.2085, Time = 127.58s\n",
      "Epoch: 16, loss = 2.1531, acc = 0.2166, val_loss = 2.1631, val_acc = 0.1983, Time = 133.18s\n",
      "Epoch: 17, loss = 2.1640, acc = 0.2152, val_loss = 2.1636, val_acc = 0.2052, Time = 129.09s\n",
      "Epoch: 18, loss = 2.1533, acc = 0.2141, val_loss = 2.1618, val_acc = 0.2018, Time = 128.27s\n",
      "Epoch: 19, loss = 2.1499, acc = 0.2155, val_loss = 2.1583, val_acc = 0.2037, Time = 127.21s\n",
      "Epoch: 20, loss = 2.1491, acc = 0.2137, val_loss = 2.1571, val_acc = 0.2047, Time = 126.43s\n",
      "(None, 110, 300)\n"
     ]
    },
    {
     "name": "stderr",
     "output_type": "stream",
     "text": [
      "2021-11-12 23:23:44.924790: I tensorflow/stream_executor/cuda/cuda_gpu_executor.cc:937] successful NUMA node read from SysFS had negative value (-1), but there must be at least one NUMA node, so returning NUMA node zero\n",
      "2021-11-12 23:23:44.925626: I tensorflow/stream_executor/cuda/cuda_gpu_executor.cc:937] successful NUMA node read from SysFS had negative value (-1), but there must be at least one NUMA node, so returning NUMA node zero\n",
      "2021-11-12 23:23:44.926288: I tensorflow/stream_executor/cuda/cuda_gpu_executor.cc:937] successful NUMA node read from SysFS had negative value (-1), but there must be at least one NUMA node, so returning NUMA node zero\n",
      "2021-11-12 23:23:44.926910: I tensorflow/stream_executor/cuda/cuda_gpu_executor.cc:937] successful NUMA node read from SysFS had negative value (-1), but there must be at least one NUMA node, so returning NUMA node zero\n",
      "2021-11-12 23:23:44.927472: I tensorflow/stream_executor/cuda/cuda_gpu_executor.cc:937] successful NUMA node read from SysFS had negative value (-1), but there must be at least one NUMA node, so returning NUMA node zero\n",
      "2021-11-12 23:23:44.927902: I tensorflow/core/common_runtime/gpu/gpu_device.cc:1510] Created device /job:localhost/replica:0/task:0/device:GPU:0 with 15403 MB memory:  -> device: 0, name: Tesla P100-PCIE-16GB, pci bus id: 0000:00:04.0, compute capability: 6.0\n"
     ]
    },
    {
     "name": "stdout",
     "output_type": "stream",
     "text": [
      "------------------------------------------------------------------------\n",
      "Training for fold 5 ...\n",
      "Epoch: 1, loss = 4.3230, acc = 0.1832, val_loss = 2.2288, val_acc = 0.2095, Time = 144.04s\n",
      "Epoch: 2, loss = 2.1996, acc = 0.2049, val_loss = 2.1694, val_acc = 0.2132, Time = 127.66s\n",
      "Epoch: 3, loss = 2.1953, acc = 0.2069, val_loss = 2.1862, val_acc = 0.2062, Time = 127.36s\n",
      "Epoch: 4, loss = 2.1908, acc = 0.2089, val_loss = 2.1647, val_acc = 0.2040, Time = 127.38s\n",
      "Epoch: 5, loss = 2.1734, acc = 0.2102, val_loss = 2.1607, val_acc = 0.2220, Time = 127.04s\n",
      "Epoch: 6, loss = 2.1647, acc = 0.2114, val_loss = 2.1619, val_acc = 0.2092, Time = 131.50s\n",
      "Epoch: 7, loss = 2.1588, acc = 0.2147, val_loss = 2.1510, val_acc = 0.2147, Time = 127.16s\n",
      "Epoch: 8, loss = 2.1693, acc = 0.2118, val_loss = 2.1581, val_acc = 0.2190, Time = 127.50s\n",
      "Epoch: 9, loss = 2.1600, acc = 0.2110, val_loss = 2.1601, val_acc = 0.2140, Time = 127.14s\n",
      "Epoch: 10, loss = 2.1556, acc = 0.2136, val_loss = 2.1510, val_acc = 0.2152, Time = 127.40s\n",
      "Epoch: 11, loss = 2.1634, acc = 0.2123, val_loss = 2.1509, val_acc = 0.2165, Time = 130.88s\n",
      "Epoch: 12, loss = 2.1545, acc = 0.2140, val_loss = 2.1498, val_acc = 0.2185, Time = 131.21s\n",
      "Epoch: 13, loss = 2.1515, acc = 0.2123, val_loss = 2.1476, val_acc = 0.2193, Time = 126.87s\n",
      "Epoch: 14, loss = 2.1607, acc = 0.2154, val_loss = 2.1496, val_acc = 0.2150, Time = 131.87s\n",
      "Epoch: 15, loss = 2.1497, acc = 0.2157, val_loss = 2.1459, val_acc = 0.2223, Time = 126.61s\n",
      "Epoch: 16, loss = 2.1489, acc = 0.2151, val_loss = 2.1456, val_acc = 0.2203, Time = 126.25s\n",
      "Epoch: 17, loss = 2.1485, acc = 0.2156, val_loss = 2.1429, val_acc = 0.2157, Time = 125.91s\n",
      "Epoch: 18, loss = 2.1503, acc = 0.2172, val_loss = 2.1440, val_acc = 0.2215, Time = 126.66s\n",
      "Epoch: 19, loss = 2.1496, acc = 0.2152, val_loss = 2.1441, val_acc = 0.2167, Time = 127.70s\n",
      "Epoch: 20, loss = 2.1480, acc = 0.2139, val_loss = 2.1440, val_acc = 0.2170, Time = 133.51s\n",
      "(None, 110, 300)\n"
     ]
    },
    {
     "name": "stderr",
     "output_type": "stream",
     "text": [
      "2021-11-13 00:12:53.155770: I tensorflow/stream_executor/cuda/cuda_gpu_executor.cc:937] successful NUMA node read from SysFS had negative value (-1), but there must be at least one NUMA node, so returning NUMA node zero\n",
      "2021-11-13 00:12:53.156578: I tensorflow/stream_executor/cuda/cuda_gpu_executor.cc:937] successful NUMA node read from SysFS had negative value (-1), but there must be at least one NUMA node, so returning NUMA node zero\n",
      "2021-11-13 00:12:53.157218: I tensorflow/stream_executor/cuda/cuda_gpu_executor.cc:937] successful NUMA node read from SysFS had negative value (-1), but there must be at least one NUMA node, so returning NUMA node zero\n",
      "2021-11-13 00:12:53.157873: I tensorflow/stream_executor/cuda/cuda_gpu_executor.cc:937] successful NUMA node read from SysFS had negative value (-1), but there must be at least one NUMA node, so returning NUMA node zero\n",
      "2021-11-13 00:12:53.158465: I tensorflow/stream_executor/cuda/cuda_gpu_executor.cc:937] successful NUMA node read from SysFS had negative value (-1), but there must be at least one NUMA node, so returning NUMA node zero\n",
      "2021-11-13 00:12:53.158877: I tensorflow/core/common_runtime/gpu/gpu_device.cc:1510] Created device /job:localhost/replica:0/task:0/device:GPU:0 with 15403 MB memory:  -> device: 0, name: Tesla P100-PCIE-16GB, pci bus id: 0000:00:04.0, compute capability: 6.0\n"
     ]
    },
    {
     "name": "stdout",
     "output_type": "stream",
     "text": [
      "------------------------------------------------------------------------\n",
      "Training for fold 6 ...\n",
      "Epoch: 1, loss = 4.7794, acc = 0.1766, val_loss = 2.2455, val_acc = 0.1983, Time = 146.38s\n",
      "Epoch: 2, loss = 2.2106, acc = 0.2059, val_loss = 2.2059, val_acc = 0.1995, Time = 134.25s\n",
      "Epoch: 3, loss = 2.1977, acc = 0.2083, val_loss = 2.2015, val_acc = 0.2037, Time = 129.65s\n",
      "Epoch: 4, loss = 2.1930, acc = 0.2101, val_loss = 2.2002, val_acc = 0.2062, Time = 129.67s\n",
      "Epoch: 5, loss = 2.1874, acc = 0.2124, val_loss = 2.1936, val_acc = 0.2075, Time = 134.46s\n",
      "Epoch: 6, loss = 2.1889, acc = 0.2117, val_loss = 2.1839, val_acc = 0.2092, Time = 129.82s\n",
      "Epoch: 7, loss = 2.1716, acc = 0.2122, val_loss = 2.1827, val_acc = 0.2087, Time = 129.43s\n",
      "Epoch: 8, loss = 2.1607, acc = 0.2158, val_loss = 2.1803, val_acc = 0.1975, Time = 128.93s\n",
      "Epoch: 9, loss = 2.1569, acc = 0.2157, val_loss = 2.1698, val_acc = 0.2090, Time = 128.97s\n",
      "Epoch: 10, loss = 2.1518, acc = 0.2165, val_loss = 2.1707, val_acc = 0.2112, Time = 128.85s\n",
      "Epoch: 11, loss = 2.1558, acc = 0.2155, val_loss = 2.1732, val_acc = 0.2037, Time = 129.28s\n",
      "Epoch: 12, loss = 2.1516, acc = 0.2148, val_loss = 2.1669, val_acc = 0.2100, Time = 128.97s\n",
      "Epoch: 13, loss = 2.1510, acc = 0.2179, val_loss = 2.1674, val_acc = 0.2062, Time = 129.66s\n",
      "Epoch: 14, loss = 2.1487, acc = 0.2168, val_loss = 2.1631, val_acc = 0.2182, Time = 132.90s\n",
      "Epoch: 15, loss = 2.1486, acc = 0.2154, val_loss = 2.1652, val_acc = 0.2142, Time = 133.38s\n",
      "Epoch: 16, loss = 2.1506, acc = 0.2135, val_loss = 2.1637, val_acc = 0.2122, Time = 128.38s\n",
      "Epoch: 17, loss = 2.1493, acc = 0.2155, val_loss = 2.1627, val_acc = 0.2090, Time = 133.37s\n",
      "Epoch: 18, loss = 2.1452, acc = 0.2170, val_loss = 2.1631, val_acc = 0.2110, Time = 132.38s\n",
      "Epoch: 19, loss = 2.1456, acc = 0.2149, val_loss = 2.1622, val_acc = 0.2107, Time = 126.78s\n",
      "Epoch: 20, loss = 2.1455, acc = 0.2181, val_loss = 2.1639, val_acc = 0.2087, Time = 126.58s\n",
      "(None, 110, 300)\n"
     ]
    },
    {
     "name": "stderr",
     "output_type": "stream",
     "text": [
      "2021-11-13 01:02:13.879392: I tensorflow/stream_executor/cuda/cuda_gpu_executor.cc:937] successful NUMA node read from SysFS had negative value (-1), but there must be at least one NUMA node, so returning NUMA node zero\n",
      "2021-11-13 01:02:13.880450: I tensorflow/stream_executor/cuda/cuda_gpu_executor.cc:937] successful NUMA node read from SysFS had negative value (-1), but there must be at least one NUMA node, so returning NUMA node zero\n",
      "2021-11-13 01:02:13.881172: I tensorflow/stream_executor/cuda/cuda_gpu_executor.cc:937] successful NUMA node read from SysFS had negative value (-1), but there must be at least one NUMA node, so returning NUMA node zero\n",
      "2021-11-13 01:02:13.881937: I tensorflow/stream_executor/cuda/cuda_gpu_executor.cc:937] successful NUMA node read from SysFS had negative value (-1), but there must be at least one NUMA node, so returning NUMA node zero\n",
      "2021-11-13 01:02:13.882640: I tensorflow/stream_executor/cuda/cuda_gpu_executor.cc:937] successful NUMA node read from SysFS had negative value (-1), but there must be at least one NUMA node, so returning NUMA node zero\n",
      "2021-11-13 01:02:13.883234: I tensorflow/core/common_runtime/gpu/gpu_device.cc:1510] Created device /job:localhost/replica:0/task:0/device:GPU:0 with 15403 MB memory:  -> device: 0, name: Tesla P100-PCIE-16GB, pci bus id: 0000:00:04.0, compute capability: 6.0\n"
     ]
    },
    {
     "name": "stdout",
     "output_type": "stream",
     "text": [
      "------------------------------------------------------------------------\n",
      "Training for fold 7 ...\n",
      "Epoch: 1, loss = 4.5493, acc = 0.1786, val_loss = 2.2116, val_acc = 0.2028, Time = 146.20s\n",
      "Epoch: 2, loss = 2.2016, acc = 0.2062, val_loss = 2.2001, val_acc = 0.2050, Time = 127.20s\n",
      "Epoch: 3, loss = 2.1938, acc = 0.2073, val_loss = 2.1970, val_acc = 0.2037, Time = 126.61s\n",
      "Epoch: 4, loss = 2.1979, acc = 0.2083, val_loss = 2.1961, val_acc = 0.2005, Time = 127.88s\n",
      "Epoch: 5, loss = 2.1832, acc = 0.2104, val_loss = 2.1819, val_acc = 0.2077, Time = 128.85s\n",
      "Epoch: 6, loss = 2.1722, acc = 0.2136, val_loss = 2.1839, val_acc = 0.2095, Time = 127.72s\n",
      "Epoch: 7, loss = 2.1723, acc = 0.2136, val_loss = 2.1819, val_acc = 0.2092, Time = 127.99s\n",
      "Epoch: 8, loss = 2.1676, acc = 0.2131, val_loss = 2.1809, val_acc = 0.2015, Time = 127.51s\n",
      "Epoch: 9, loss = 2.1664, acc = 0.2139, val_loss = 2.1858, val_acc = 0.2023, Time = 127.90s\n",
      "Epoch: 10, loss = 2.1650, acc = 0.2152, val_loss = 2.1783, val_acc = 0.2072, Time = 127.60s\n",
      "Epoch: 11, loss = 2.1584, acc = 0.2142, val_loss = 2.1776, val_acc = 0.2050, Time = 132.23s\n",
      "Epoch: 12, loss = 2.1554, acc = 0.2130, val_loss = 2.1688, val_acc = 0.1993, Time = 132.61s\n",
      "Epoch: 13, loss = 2.1540, acc = 0.2146, val_loss = 2.1697, val_acc = 0.2062, Time = 127.90s\n",
      "Epoch: 14, loss = 2.1505, acc = 0.2135, val_loss = 2.1684, val_acc = 0.2055, Time = 127.83s\n",
      "Epoch: 15, loss = 2.1478, acc = 0.2147, val_loss = 2.1656, val_acc = 0.2055, Time = 132.23s\n",
      "Epoch: 16, loss = 2.1483, acc = 0.2153, val_loss = 2.1671, val_acc = 0.2030, Time = 126.92s\n",
      "Epoch: 17, loss = 2.1471, acc = 0.2147, val_loss = 2.1669, val_acc = 0.2040, Time = 127.30s\n",
      "Epoch: 18, loss = 2.1483, acc = 0.2132, val_loss = 2.1654, val_acc = 0.2085, Time = 127.29s\n",
      "Epoch: 19, loss = 2.1529, acc = 0.2191, val_loss = 2.1750, val_acc = 0.2087, Time = 127.25s\n",
      "Epoch: 20, loss = 2.1496, acc = 0.2149, val_loss = 2.1665, val_acc = 0.2023, Time = 127.57s\n",
      "(None, 110, 300)\n"
     ]
    },
    {
     "name": "stderr",
     "output_type": "stream",
     "text": [
      "2021-11-13 01:51:23.140220: I tensorflow/stream_executor/cuda/cuda_gpu_executor.cc:937] successful NUMA node read from SysFS had negative value (-1), but there must be at least one NUMA node, so returning NUMA node zero\n",
      "2021-11-13 01:51:23.140980: I tensorflow/stream_executor/cuda/cuda_gpu_executor.cc:937] successful NUMA node read from SysFS had negative value (-1), but there must be at least one NUMA node, so returning NUMA node zero\n",
      "2021-11-13 01:51:23.141657: I tensorflow/stream_executor/cuda/cuda_gpu_executor.cc:937] successful NUMA node read from SysFS had negative value (-1), but there must be at least one NUMA node, so returning NUMA node zero\n",
      "2021-11-13 01:51:23.142357: I tensorflow/stream_executor/cuda/cuda_gpu_executor.cc:937] successful NUMA node read from SysFS had negative value (-1), but there must be at least one NUMA node, so returning NUMA node zero\n",
      "2021-11-13 01:51:23.142946: I tensorflow/stream_executor/cuda/cuda_gpu_executor.cc:937] successful NUMA node read from SysFS had negative value (-1), but there must be at least one NUMA node, so returning NUMA node zero\n",
      "2021-11-13 01:51:23.143486: I tensorflow/core/common_runtime/gpu/gpu_device.cc:1510] Created device /job:localhost/replica:0/task:0/device:GPU:0 with 15403 MB memory:  -> device: 0, name: Tesla P100-PCIE-16GB, pci bus id: 0000:00:04.0, compute capability: 6.0\n"
     ]
    },
    {
     "name": "stdout",
     "output_type": "stream",
     "text": [
      "------------------------------------------------------------------------\n",
      "Training for fold 8 ...\n",
      "Epoch: 1, loss = 4.5429, acc = 0.1781, val_loss = 2.2324, val_acc = 0.2010, Time = 147.83s\n",
      "Epoch: 2, loss = 2.2103, acc = 0.2038, val_loss = 2.2101, val_acc = 0.2125, Time = 127.67s\n",
      "Epoch: 3, loss = 2.1999, acc = 0.2040, val_loss = 2.2112, val_acc = 0.2102, Time = 127.64s\n",
      "Epoch: 4, loss = 2.1990, acc = 0.2051, val_loss = 2.1841, val_acc = 0.2132, Time = 128.51s\n",
      "Epoch: 5, loss = 2.1861, acc = 0.2097, val_loss = 2.1796, val_acc = 0.2050, Time = 128.61s\n",
      "Epoch: 6, loss = 2.1657, acc = 0.2107, val_loss = 2.1654, val_acc = 0.2190, Time = 128.88s\n",
      "Epoch: 7, loss = 2.1752, acc = 0.2107, val_loss = 2.1807, val_acc = 0.2190, Time = 128.54s\n",
      "Epoch: 8, loss = 2.1694, acc = 0.2114, val_loss = 2.1830, val_acc = 0.2087, Time = 127.53s\n",
      "Epoch: 9, loss = 2.1756, acc = 0.2121, val_loss = 2.1717, val_acc = 0.2190, Time = 129.02s\n",
      "Epoch: 10, loss = 2.1651, acc = 0.2112, val_loss = 2.1672, val_acc = 0.2215, Time = 133.81s\n",
      "Epoch: 11, loss = 2.1616, acc = 0.2146, val_loss = 2.1572, val_acc = 0.2160, Time = 135.37s\n",
      "Epoch: 12, loss = 2.1552, acc = 0.2124, val_loss = 2.1570, val_acc = 0.2145, Time = 135.56s\n",
      "Epoch: 13, loss = 2.1524, acc = 0.2122, val_loss = 2.1563, val_acc = 0.2177, Time = 129.30s\n",
      "Epoch: 14, loss = 2.1584, acc = 0.2135, val_loss = 2.1576, val_acc = 0.2140, Time = 128.60s\n",
      "Epoch: 15, loss = 2.1604, acc = 0.2148, val_loss = 2.1606, val_acc = 0.2210, Time = 128.71s\n",
      "Epoch: 16, loss = 2.1603, acc = 0.2153, val_loss = 2.1696, val_acc = 0.2167, Time = 129.66s\n",
      "Epoch: 17, loss = 2.1532, acc = 0.2119, val_loss = 2.1585, val_acc = 0.2150, Time = 127.85s\n",
      "Epoch: 18, loss = 2.1558, acc = 0.2150, val_loss = 2.1528, val_acc = 0.2142, Time = 127.96s\n",
      "Epoch: 19, loss = 2.1496, acc = 0.2101, val_loss = 2.1527, val_acc = 0.2142, Time = 127.27s\n",
      "Epoch: 20, loss = 2.1483, acc = 0.2119, val_loss = 2.1520, val_acc = 0.2190, Time = 129.14s\n",
      "(None, 110, 300)\n"
     ]
    },
    {
     "name": "stderr",
     "output_type": "stream",
     "text": [
      "2021-11-13 02:40:24.053360: I tensorflow/stream_executor/cuda/cuda_gpu_executor.cc:937] successful NUMA node read from SysFS had negative value (-1), but there must be at least one NUMA node, so returning NUMA node zero\n",
      "2021-11-13 02:40:24.054258: I tensorflow/stream_executor/cuda/cuda_gpu_executor.cc:937] successful NUMA node read from SysFS had negative value (-1), but there must be at least one NUMA node, so returning NUMA node zero\n",
      "2021-11-13 02:40:24.054894: I tensorflow/stream_executor/cuda/cuda_gpu_executor.cc:937] successful NUMA node read from SysFS had negative value (-1), but there must be at least one NUMA node, so returning NUMA node zero\n",
      "2021-11-13 02:40:24.055514: I tensorflow/stream_executor/cuda/cuda_gpu_executor.cc:937] successful NUMA node read from SysFS had negative value (-1), but there must be at least one NUMA node, so returning NUMA node zero\n",
      "2021-11-13 02:40:24.056086: I tensorflow/stream_executor/cuda/cuda_gpu_executor.cc:937] successful NUMA node read from SysFS had negative value (-1), but there must be at least one NUMA node, so returning NUMA node zero\n",
      "2021-11-13 02:40:24.056513: I tensorflow/core/common_runtime/gpu/gpu_device.cc:1510] Created device /job:localhost/replica:0/task:0/device:GPU:0 with 15403 MB memory:  -> device: 0, name: Tesla P100-PCIE-16GB, pci bus id: 0000:00:04.0, compute capability: 6.0\n"
     ]
    },
    {
     "name": "stdout",
     "output_type": "stream",
     "text": [
      "------------------------------------------------------------------------\n",
      "Training for fold 9 ...\n",
      "Epoch: 1, loss = 4.6228, acc = 0.1805, val_loss = 2.1857, val_acc = 0.2140, Time = 150.61s\n",
      "Epoch: 2, loss = 2.2016, acc = 0.2043, val_loss = 2.1887, val_acc = 0.2215, Time = 129.49s\n",
      "Epoch: 3, loss = 2.1908, acc = 0.2112, val_loss = 2.1964, val_acc = 0.2233, Time = 129.50s\n",
      "Epoch: 4, loss = 2.1833, acc = 0.2100, val_loss = 2.1526, val_acc = 0.2243, Time = 133.60s\n",
      "Epoch: 5, loss = 2.1653, acc = 0.2132, val_loss = 2.1427, val_acc = 0.2135, Time = 128.51s\n",
      "Epoch: 6, loss = 2.1644, acc = 0.2128, val_loss = 2.1386, val_acc = 0.2162, Time = 132.96s\n",
      "Epoch: 7, loss = 2.1630, acc = 0.2130, val_loss = 2.1527, val_acc = 0.2215, Time = 128.91s\n",
      "Epoch: 8, loss = 2.1629, acc = 0.2102, val_loss = 2.1395, val_acc = 0.2180, Time = 128.61s\n",
      "Epoch: 9, loss = 2.1669, acc = 0.2103, val_loss = 2.1371, val_acc = 0.2210, Time = 132.33s\n",
      "Epoch: 10, loss = 2.1531, acc = 0.2134, val_loss = 2.1311, val_acc = 0.2177, Time = 128.42s\n",
      "Epoch: 11, loss = 2.1575, acc = 0.2121, val_loss = 2.1353, val_acc = 0.2233, Time = 133.13s\n",
      "Epoch: 12, loss = 2.1664, acc = 0.2122, val_loss = 2.1344, val_acc = 0.2323, Time = 133.36s\n",
      "Epoch: 13, loss = 2.1621, acc = 0.2136, val_loss = 2.1357, val_acc = 0.2243, Time = 127.94s\n",
      "Epoch: 14, loss = 2.1546, acc = 0.2132, val_loss = 2.1282, val_acc = 0.2215, Time = 132.47s\n",
      "Epoch: 15, loss = 2.1512, acc = 0.2142, val_loss = 2.1298, val_acc = 0.2253, Time = 128.19s\n",
      "Epoch: 16, loss = 2.1498, acc = 0.2116, val_loss = 2.1281, val_acc = 0.2185, Time = 127.82s\n",
      "Epoch: 17, loss = 2.1491, acc = 0.2137, val_loss = 2.1279, val_acc = 0.2253, Time = 127.83s\n",
      "Epoch: 18, loss = 2.1485, acc = 0.2132, val_loss = 2.1271, val_acc = 0.2315, Time = 128.65s\n",
      "Epoch: 19, loss = 2.1505, acc = 0.2126, val_loss = 2.1260, val_acc = 0.2320, Time = 128.38s\n",
      "Epoch: 20, loss = 2.1502, acc = 0.2140, val_loss = 2.1266, val_acc = 0.2263, Time = 128.07s\n",
      "(None, 110, 300)\n"
     ]
    },
    {
     "name": "stderr",
     "output_type": "stream",
     "text": [
      "2021-11-13 03:30:10.048117: I tensorflow/stream_executor/cuda/cuda_gpu_executor.cc:937] successful NUMA node read from SysFS had negative value (-1), but there must be at least one NUMA node, so returning NUMA node zero\n",
      "2021-11-13 03:30:10.049112: I tensorflow/stream_executor/cuda/cuda_gpu_executor.cc:937] successful NUMA node read from SysFS had negative value (-1), but there must be at least one NUMA node, so returning NUMA node zero\n",
      "2021-11-13 03:30:10.049678: I tensorflow/stream_executor/cuda/cuda_gpu_executor.cc:937] successful NUMA node read from SysFS had negative value (-1), but there must be at least one NUMA node, so returning NUMA node zero\n",
      "2021-11-13 03:30:10.050294: I tensorflow/stream_executor/cuda/cuda_gpu_executor.cc:937] successful NUMA node read from SysFS had negative value (-1), but there must be at least one NUMA node, so returning NUMA node zero\n",
      "2021-11-13 03:30:10.050825: I tensorflow/stream_executor/cuda/cuda_gpu_executor.cc:937] successful NUMA node read from SysFS had negative value (-1), but there must be at least one NUMA node, so returning NUMA node zero\n",
      "2021-11-13 03:30:10.051269: I tensorflow/core/common_runtime/gpu/gpu_device.cc:1510] Created device /job:localhost/replica:0/task:0/device:GPU:0 with 15403 MB memory:  -> device: 0, name: Tesla P100-PCIE-16GB, pci bus id: 0000:00:04.0, compute capability: 6.0\n"
     ]
    },
    {
     "name": "stdout",
     "output_type": "stream",
     "text": [
      "------------------------------------------------------------------------\n",
      "Training for fold 10 ...\n",
      "Epoch: 1, loss = 5.0741, acc = 0.1727, val_loss = 2.2951, val_acc = 0.1857, Time = 150.15s\n",
      "Epoch: 2, loss = 2.2379, acc = 0.1975, val_loss = 2.2031, val_acc = 0.1965, Time = 128.51s\n",
      "Epoch: 3, loss = 2.1930, acc = 0.2053, val_loss = 2.1732, val_acc = 0.2010, Time = 127.78s\n",
      "Epoch: 4, loss = 2.1904, acc = 0.2099, val_loss = 2.1730, val_acc = 0.2172, Time = 127.62s\n",
      "Epoch: 5, loss = 2.1688, acc = 0.2116, val_loss = 2.1614, val_acc = 0.2145, Time = 127.56s\n",
      "Epoch: 6, loss = 2.1691, acc = 0.2132, val_loss = 2.1550, val_acc = 0.2097, Time = 128.24s\n",
      "Epoch: 7, loss = 2.1702, acc = 0.2128, val_loss = 2.1796, val_acc = 0.2175, Time = 128.66s\n",
      "Epoch: 8, loss = 2.1747, acc = 0.2132, val_loss = 2.1630, val_acc = 0.2152, Time = 127.53s\n",
      "Epoch: 9, loss = 2.1665, acc = 0.2118, val_loss = 2.1676, val_acc = 0.2193, Time = 128.79s\n",
      "Epoch: 10, loss = 2.1742, acc = 0.2111, val_loss = 2.1630, val_acc = 0.2155, Time = 128.74s\n",
      "Epoch: 11, loss = 2.1803, acc = 0.2099, val_loss = 2.1642, val_acc = 0.2127, Time = 133.87s\n",
      "Epoch: 12, loss = 2.1814, acc = 0.2128, val_loss = 2.1650, val_acc = 0.2132, Time = 132.04s\n",
      "Epoch: 13, loss = 2.1679, acc = 0.2126, val_loss = 2.2063, val_acc = 0.1993, Time = 133.49s\n",
      "Epoch: 14, loss = 2.1635, acc = 0.2113, val_loss = 2.1535, val_acc = 0.2150, Time = 127.85s\n",
      "Epoch: 15, loss = 2.1602, acc = 0.2149, val_loss = 2.1540, val_acc = 0.2147, Time = 134.46s\n",
      "Epoch: 16, loss = 2.1580, acc = 0.2164, val_loss = 2.1538, val_acc = 0.2100, Time = 129.23s\n",
      "Epoch: 17, loss = 2.1894, acc = 0.2099, val_loss = 2.1535, val_acc = 0.2102, Time = 129.16s\n",
      "Epoch: 18, loss = 2.1566, acc = 0.2126, val_loss = 2.1523, val_acc = 0.2127, Time = 129.70s\n",
      "Epoch: 19, loss = 2.1544, acc = 0.2159, val_loss = 2.1501, val_acc = 0.2075, Time = 128.40s\n",
      "Epoch: 20, loss = 2.1665, acc = 0.2131, val_loss = 2.1479, val_acc = 0.2120, Time = 128.92s\n",
      "------------------------------------------------------------------------\n",
      "Score per fold\n",
      "------------------------------------------------------------------------\n",
      "> Fold 1 - Loss: [2.216144866943359, 2.1713741607666015, 2.1645021657943726, 2.164577422142029, 2.1574288635253906, 2.165007996559143, 2.1546597108840944, 2.152719431877136, 2.1543371477127073, 2.1449769039154054, 2.139336748123169, 2.1362217531204224, 2.138035813331604, 2.1363142347335815, 2.1357222003936767, 2.1373838052749634, 2.1366401052474977, 2.135943139076233, 2.1365195350646973, 2.1360993452072146] - Accuracy: [0.19675, 0.217, 0.2075, 0.211, 0.21675, 0.2105, 0.21275, 0.21125, 0.21925, 0.21125, 0.2215, 0.22475, 0.2305, 0.22575, 0.209, 0.21575, 0.221, 0.21775, 0.2195, 0.22575]%\n",
      "------------------------------------------------------------------------\n",
      "> Fold 2 - Loss: [2.178763014793396, 2.1722108783721925, 2.1683780536651613, 2.164049235343933, 2.1771216526031494, 2.1459961500167846, 2.146363115310669, 2.156113881111145, 2.1540485286712645, 2.1414195261001585, 2.137787989616394, 2.1431555433273317, 2.1374409532547, 2.1360796766281127, 2.13504057598114, 2.1351424980163576, 2.1348085203170775, 2.1349047031402586, 2.1331523208618166, 2.1318507585525515] - Accuracy: [0.205, 0.20825, 0.20625, 0.21575, 0.2175, 0.2255, 0.216, 0.20925, 0.21725, 0.2195, 0.2235, 0.21, 0.21525, 0.22075, 0.21925, 0.21475, 0.21825, 0.219, 0.214, 0.22275]%\n",
      "------------------------------------------------------------------------\n",
      "> Fold 3 - Loss: [2.2123552389144896, 2.19906360244751, 2.2014826145172117, 2.1743207416534425, 2.1753913764953614, 2.1603849086761473, 2.1619039306640624, 2.1589636039733886, 2.1580452709198, 2.157189157485962, 2.1611615285873413, 2.164914179801941, 2.1574770164489747, 2.1590028953552247, 2.1567445898056032, 2.1582694063186647, 2.1545381555557253, 2.154936408996582, 2.1531833667755125, 2.1537253828048706] - Accuracy: [0.20475, 0.2125, 0.20675, 0.216, 0.20825, 0.216, 0.20825, 0.22125, 0.2205, 0.2155, 0.20525, 0.21475, 0.21725, 0.223, 0.222, 0.21725, 0.20875, 0.22275, 0.21225, 0.21125]%\n",
      "------------------------------------------------------------------------\n",
      "> Fold 4 - Loss: [2.24821724319458, 2.2025244626998903, 2.185256413459778, 2.1914463872909544, 2.1790452346801756, 2.169533257484436, 2.168279845237732, 2.224444747924805, 2.174102199554443, 2.1682820949554444, 2.1630631608963014, 2.163637933731079, 2.160193716049194, 2.161178063392639, 2.1634471254348755, 2.1631033878326416, 2.16364684677124, 2.1617910747528075, 2.1582882690429686, 2.15714688205719] - Accuracy: [0.186, 0.1895, 0.209, 0.20575, 0.20875, 0.2115, 0.19575, 0.1985, 0.2115, 0.2075, 0.2045, 0.198, 0.199, 0.2045, 0.2085, 0.19825, 0.20525, 0.20175, 0.20375, 0.20475]%\n",
      "------------------------------------------------------------------------\n",
      "> Fold 5 - Loss: [2.228786021232605, 2.1694145412445067, 2.1862112646102907, 2.1646755170822143, 2.160656644821167, 2.161921057701111, 2.1509905157089233, 2.1581132307052613, 2.160124514579773, 2.150957257270813, 2.1509365406036376, 2.1497650566101076, 2.147613456726074, 2.149596917152405, 2.1459421405792236, 2.145554823875427, 2.1428663330078126, 2.1439975519180297, 2.1440712041854857, 2.144002429008484] - Accuracy: [0.2095, 0.21325, 0.20625, 0.204, 0.222, 0.20925, 0.21475, 0.219, 0.214, 0.21525, 0.2165, 0.2185, 0.21925, 0.215, 0.22225, 0.22025, 0.21575, 0.2215, 0.21675, 0.217]%\n",
      "------------------------------------------------------------------------\n",
      "> Fold 6 - Loss: [2.245507044792175, 2.205896378517151, 2.2014729471206667, 2.200217179298401, 2.1935754585266114, 2.1839482774734496, 2.1827237749099733, 2.180290789604187, 2.169750326156616, 2.1706903085708618, 2.173156726837158, 2.1669192028045656, 2.1674437522888184, 2.1631059875488283, 2.1651722812652587, 2.163704712867737, 2.1627321090698244, 2.1630649614334105, 2.1621886653900146, 2.1639012155532837] - Accuracy: [0.19825, 0.1995, 0.20375, 0.20625, 0.2075, 0.20925, 0.20875, 0.1975, 0.209, 0.21125, 0.20375, 0.21, 0.20625, 0.21825, 0.21425, 0.21225, 0.209, 0.211, 0.21075, 0.20875]%\n",
      "------------------------------------------------------------------------\n",
      "> Fold 7 - Loss: [2.2116016836166383, 2.200140472412109, 2.1970184259414673, 2.196134427070618, 2.1819019441604612, 2.183899169921875, 2.18185108089447, 2.1808874139785766, 2.1858357515335083, 2.1783322649002077, 2.1775705375671386, 2.168753565788269, 2.16967981338501, 2.1683925380706786, 2.1656015243530273, 2.1670725049972535, 2.1669015712738036, 2.165410969734192, 2.174964108467102, 2.1665365734100344] - Accuracy: [0.20275, 0.205, 0.20375, 0.2005, 0.20775, 0.2095, 0.20925, 0.2015, 0.20225, 0.20725, 0.205, 0.19925, 0.20625, 0.2055, 0.2055, 0.203, 0.204, 0.2085, 0.20875, 0.20225]%\n",
      "------------------------------------------------------------------------\n",
      "> Fold 8 - Loss: [2.2323880376815795, 2.2101289043426515, 2.211214967727661, 2.184128180503845, 2.179619380950928, 2.165388146400452, 2.180744927406311, 2.183030234336853, 2.1717412805557252, 2.1671835470199583, 2.157187003135681, 2.1569890632629396, 2.156297540664673, 2.1576061820983887, 2.1605908002853393, 2.1696174869537352, 2.1585256643295287, 2.152777412414551, 2.152734087944031, 2.1520306215286253] - Accuracy: [0.201, 0.2125, 0.21025, 0.21325, 0.205, 0.219, 0.219, 0.20875, 0.219, 0.2215, 0.216, 0.2145, 0.21775, 0.214, 0.221, 0.21675, 0.215, 0.21425, 0.21425, 0.219]%\n",
      "------------------------------------------------------------------------\n",
      "> Fold 9 - Loss: [2.185707085609436, 2.1887437047958374, 2.1963504400253298, 2.152578643798828, 2.142670937538147, 2.138586289405823, 2.152654149055481, 2.1395400829315188, 2.137091703414917, 2.131137420654297, 2.1352898597717287, 2.134437786102295, 2.1357380819320677, 2.128173830986023, 2.1297944564819336, 2.12814257144928, 2.127852611541748, 2.127126187324524, 2.1259821662902834, 2.1265993976593016] - Accuracy: [0.214, 0.2215, 0.22325, 0.22425, 0.2135, 0.21625, 0.2215, 0.218, 0.221, 0.21775, 0.22325, 0.23225, 0.22425, 0.2215, 0.22525, 0.2185, 0.22525, 0.2315, 0.232, 0.22625]%\n",
      "------------------------------------------------------------------------\n",
      "> Fold 10 - Loss: [2.2950940675735474, 2.203075535774231, 2.1732095317840576, 2.17303625869751, 2.161391933441162, 2.154981870651245, 2.1795843000411987, 2.162961468696594, 2.167613133430481, 2.1629975004196167, 2.164162085533142, 2.1650367431640625, 2.2063125400543213, 2.1535288810729982, 2.154043306350708, 2.1538325119018555, 2.153495753288269, 2.1522695817947386, 2.1500978527069092, 2.1479050064086915] - Accuracy: [0.18575, 0.1965, 0.201, 0.21725, 0.2145, 0.20975, 0.2175, 0.21525, 0.21925, 0.2155, 0.21275, 0.21325, 0.19925, 0.215, 0.21475, 0.21, 0.21025, 0.21275, 0.2075, 0.212]%\n",
      "------------------------------------------------------------------------\n",
      "Average scores for all folds:\n",
      "> Accuracy: 0.2124225 (+- 0.008207480962512191)\n",
      "> Loss: 2.1646317542362215\n",
      "------------------------------------------------------------------------\n"
     ]
    }
   ],
   "source": [
    "import pickle\n",
    "import numpy as np\n",
    "import sys\n",
    "from sklearn.model_selection import KFold\n",
    "import numpy as np\n",
    "# from fen.classifier import Classifier\n",
    "# from fen.pzhou_tf import ZhouBLSTMCNNModel\n",
    "\n",
    "if __name__ == '__main__':\n",
    "    \n",
    "#     with tpu_strategy.scope():\n",
    "    word_vector = word_embeds\n",
    "    word_vector = word_vector.astype('float32')\n",
    "    sentence_length = len(X_train[0]) # sentence length = 37 -- if less than 37, remaining is 0\n",
    "    num_classes = len(y_train[0]) # 6 sentiment classes\n",
    "\n",
    "    #K-Fold\n",
    "    num_folds = 10\n",
    "\n",
    "    #normalise data\n",
    "    X_train = X_train/52746\n",
    "    X_test = X_test/52746\n",
    "\n",
    "#     (X_train, y_train), (X_eval, y_eval) = (X_train, y_train), (X_test, y_test)\n",
    "\n",
    "    acc_per_fold = []\n",
    "    loss_per_fold = []\n",
    "\n",
    "    # Merge inputs and targets\n",
    "    inputs = np.concatenate((X_train, X_test), axis=0)\n",
    "    targets = np.concatenate((y_train, y_test), axis=0)\n",
    "\n",
    "    # Define the K-fold Cross Validator\n",
    "    kfold = KFold(n_splits=num_folds, shuffle=True)\n",
    "\n",
    "    # K-fold Cross Validation model evaluation\n",
    "    fold_no = 1\n",
    "    for train, test in kfold.split(inputs, targets):        \n",
    "        # with tf.compat.v1.variable_scope(tf.compat.v1.get_variable_scope(), reuse=True):\n",
    "        model = ZhouBLSTMCNNModel(embedding=word_vector) #pass in word_vector as lookup table\n",
    "        classifier = Classifier(\n",
    "            model=model,\n",
    "            input_length=sentence_length,\n",
    "            output_length=num_classes)\n",
    "\n",
    "        classifier.compile(batch_size=32)\n",
    "#         classifier.summary()\n",
    "\n",
    "        tf.Variable(X_train, dtype = tf.float32)\n",
    "\n",
    "        #Generate a print\n",
    "        print('------------------------------------------------------------------------')\n",
    "        print(f'Training for fold {fold_no} ...')\n",
    "        loss_ls, acc_ls, val_loss_ls, val_acc_ls = classifier.train(\n",
    "            inputs[train],\n",
    "            targets[train],\n",
    "            inputs[test], \n",
    "            targets[test],\n",
    "            epochs=20\n",
    "        )\n",
    "\n",
    "        acc_per_fold.append(val_acc_ls)\n",
    "        loss_per_fold.append(val_loss_ls)\n",
    "\n",
    "        # Increase fold number\n",
    "        fold_no = fold_no + 1\n",
    "\n",
    "    # == Provide average scores ==\n",
    "    print('------------------------------------------------------------------------')\n",
    "    print('Score per fold')\n",
    "    for i in range(0, len(acc_per_fold)):\n",
    "        print('------------------------------------------------------------------------')\n",
    "        print(f'> Fold {i+1} - Loss: {loss_per_fold[i]} - Accuracy: {acc_per_fold[i]}%')\n",
    "    print('------------------------------------------------------------------------')\n",
    "    print('Average scores for all folds:')\n",
    "    print(f'> Accuracy: {np.mean(acc_per_fold)} (+- {np.std(acc_per_fold)})')\n",
    "    print(f'> Loss: {np.mean(loss_per_fold)}')\n",
    "    print('------------------------------------------------------------------------')\n",
    "#         print(\"Predictions:\", classifier.predict(X_train[0:2]))\n",
    "#         print(\"Real:\", y_train[0:2])"
   ]
  },
  {
   "cell_type": "code",
   "execution_count": 25,
   "id": "cea637b5",
   "metadata": {
    "execution": {
     "iopub.execute_input": "2021-11-13T04:19:22.805553Z",
     "iopub.status.busy": "2021-11-13T04:19:22.804493Z",
     "iopub.status.idle": "2021-11-13T04:19:23.129943Z",
     "shell.execute_reply": "2021-11-13T04:19:23.129498Z",
     "shell.execute_reply.started": "2021-11-12T20:05:53.353539Z"
    },
    "papermill": {
     "duration": 0.432239,
     "end_time": "2021-11-13T04:19:23.130100",
     "exception": false,
     "start_time": "2021-11-13T04:19:22.697861",
     "status": "completed"
    },
    "tags": []
   },
   "outputs": [
    {
     "data": {
      "image/png": "[encoded data removed]",
      "text/plain": [
       "<Figure size 432x288 with 1 Axes>"
      ]
     },
     "metadata": {
      "needs_background": "light"
     },
     "output_type": "display_data"
    }
   ],
   "source": [
    "for i in range(0, len(loss_per_fold)):\n",
    "    plt.plot([1+j for j in range(len(loss_per_fold[i]))],loss_per_fold[i], label = \"fold \"+str(i+1))\n",
    "plt.xlabel(\"fold\")\n",
    "plt.ylabel(\"average loss per fold\")\n",
    "plt.legend()\n",
    "plt.show()"
   ]
  },
  {
   "cell_type": "code",
   "execution_count": 26,
   "id": "0ee8c8ae",
   "metadata": {
    "execution": {
     "iopub.execute_input": "2021-11-13T04:19:23.329072Z",
     "iopub.status.busy": "2021-11-13T04:19:23.328241Z",
     "iopub.status.idle": "2021-11-13T04:19:23.602211Z",
     "shell.execute_reply": "2021-11-13T04:19:23.602642Z",
     "shell.execute_reply.started": "2021-11-12T20:05:53.355082Z"
    },
    "papermill": {
     "duration": 0.382716,
     "end_time": "2021-11-13T04:19:23.602779",
     "exception": false,
     "start_time": "2021-11-13T04:19:23.220063",
     "status": "completed"
    },
    "tags": []
   },
   "outputs": [
    {
     "data": {
      "image/png": "[encoded data removed]",
      "text/plain": [
       "<Figure size 432x288 with 1 Axes>"
      ]
     },
     "metadata": {
      "needs_background": "light"
     },
     "output_type": "display_data"
    }
   ],
   "source": [
    "for i in range(0, len(acc_per_fold)):\n",
    "    plt.plot([1+j for j in range(len(acc_per_fold[i]))],acc_per_fold[i], label = \"fold \"+str(i+1))\n",
    "plt.xlabel(\"fold\")\n",
    "plt.ylabel(\"average acc per fold\")\n",
    "plt.legend()\n",
    "plt.show()"
   ]
  }
 ],
 "metadata": {
  "kernelspec": {
   "display_name": "Python 3 (ipykernel)",
   "language": "python",
   "name": "python3"
  },
  "language_info": {
   "codemirror_mode": {
    "name": "ipython",
    "version": 3
   },
   "file_extension": ".py",
   "mimetype": "text/x-python",
   "name": "python",
   "nbconvert_exporter": "python",
   "pygments_lexer": "ipython3",
   "version": "3.8.2"
  },
  "papermill": {
   "default_parameters": {},
   "duration": 29589.749561,
   "end_time": "2021-11-13T04:19:28.051620",
   "environment_variables": {},
   "exception": null,
   "input_path": "__notebook__.ipynb",
   "output_path": "__notebook__.ipynb",
   "parameters": {},
   "start_time": "2021-11-12T20:06:18.302059",
   "version": "2.3.3"
  }
 },
 "nbformat": 4,
 "nbformat_minor": 5
}
