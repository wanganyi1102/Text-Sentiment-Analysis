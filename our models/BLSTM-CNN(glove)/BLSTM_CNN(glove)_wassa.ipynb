{
  "nbformat": 4,
  "nbformat_minor": 5,
  "metadata": {
    "kernelspec": {
      "display_name": "Python 3",
      "language": "python",
      "name": "python3"
    },
    "language_info": {
      "codemirror_mode": {
        "name": "ipython",
        "version": 3
      },
      "file_extension": ".py",
      "mimetype": "text/x-python",
      "name": "python",
      "nbconvert_exporter": "python",
      "pygments_lexer": "ipython3",
      "version": "3.8.8"
    },
    "papermill": {
      "default_parameters": {},
      "duration": 3255.666305,
      "end_time": "2021-11-11T13:32:05.933776",
      "environment_variables": {},
      "exception": true,
      "input_path": "__notebook__.ipynb",
      "output_path": "__notebook__.ipynb",
      "parameters": {},
      "start_time": "2021-11-11T12:37:50.267471",
      "version": "2.3.3"
    },
    "colab": {
      "name": "BLSTM-CNN(glove)_wassa.ipynb",
      "provenance": [],
      "collapsed_sections": []
    },
    "accelerator": "GPU"
  },
  "cells": [
    {
      "cell_type": "code",
      "metadata": {
        "execution": {
          "iopub.execute_input": "2021-11-11T12:37:58.571258Z",
          "iopub.status.busy": "2021-11-11T12:37:58.570440Z",
          "iopub.status.idle": "2021-11-11T12:38:05.480742Z",
          "shell.execute_reply": "2021-11-11T12:38:05.480137Z",
          "shell.execute_reply.started": "2021-11-11T08:45:51.420461Z"
        },
        "id": "6c276c59",
        "papermill": {
          "duration": 6.945508,
          "end_time": "2021-11-11T12:38:05.480928",
          "exception": false,
          "start_time": "2021-11-11T12:37:58.535420",
          "status": "completed"
        },
        "tags": []
      },
      "source": [
        "import numpy as np\n",
        "import pandas as pd\n",
        "\n",
        "from gensim import corpora\n",
        "from nltk.corpus import stopwords\n",
        "from nltk.tokenize import word_tokenize \n",
        "from nltk.stem import SnowballStemmer\n",
        "\n",
        "from keras.preprocessing import sequence\n",
        "from keras.utils import np_utils\n",
        "from keras.models import Sequential\n",
        "from keras.layers import Dense, Dropout, Activation, Embedding\n",
        "from keras.layers import LSTM\n",
        "from sklearn import preprocessing\n",
        "from sklearn.metrics import (precision_score, recall_score,\n",
        "                             f1_score, accuracy_score,mean_squared_error,mean_absolute_error)\n",
        "np.random.seed(0)\n",
        "from tensorflow.keras.optimizers import RMSprop\n",
        "from keras import callbacks\n",
        "from keras.callbacks import ModelCheckpoint, EarlyStopping, ReduceLROnPlateau, CSVLogger"
      ],
      "id": "6c276c59",
      "execution_count": null,
      "outputs": []
    },
    {
      "cell_type": "markdown",
      "metadata": {
        "id": "c24be0d2",
        "papermill": {
          "duration": 0.020713,
          "end_time": "2021-11-11T12:38:05.523628",
          "exception": false,
          "start_time": "2021-11-11T12:38:05.502915",
          "status": "completed"
        },
        "tags": []
      },
      "source": [
        "### word2vec"
      ],
      "id": "c24be0d2"
    },
    {
      "cell_type": "code",
      "metadata": {
        "execution": {
          "iopub.execute_input": "2021-11-11T12:38:05.567689Z",
          "iopub.status.busy": "2021-11-11T12:38:05.566890Z",
          "iopub.status.idle": "2021-11-11T12:38:05.572082Z",
          "shell.execute_reply": "2021-11-11T12:38:05.571615Z",
          "shell.execute_reply.started": "2021-11-11T08:45:53.574818Z"
        },
        "id": "2dce4dd7",
        "papermill": {
          "duration": 0.027981,
          "end_time": "2021-11-11T12:38:05.572194",
          "exception": false,
          "start_time": "2021-11-11T12:38:05.544213",
          "status": "completed"
        },
        "tags": []
      },
      "source": [
        "from __future__ import print_function\n",
        "from collections import OrderedDict\n",
        "\n",
        "import time\n",
        "import _pickle as cPickle\n",
        "\n",
        "import urllib\n",
        "import matplotlib.pyplot as plt\n",
        "\n",
        "import os\n",
        "import sys\n",
        "import codecs\n",
        "import re\n",
        "import numpy as np\n",
        "\n",
        "parameters = OrderedDict()\n",
        "parameters['word_dim'] = 300"
      ],
      "id": "2dce4dd7",
      "execution_count": null,
      "outputs": []
    },
    {
      "cell_type": "code",
      "metadata": {
        "colab": {
          "base_uri": "https://localhost:8080/"
        },
        "id": "WA7a2Kpfz64k",
        "outputId": "94ffc189-0f1d-4555-fb60-8a0e97332556"
      },
      "source": [
        "from google.colab import drive\n",
        "drive.mount('/content/drive')"
      ],
      "id": "WA7a2Kpfz64k",
      "execution_count": null,
      "outputs": [
        {
          "output_type": "stream",
          "name": "stdout",
          "text": [
            "Mounted at /content/drive\n"
          ]
        }
      ]
    },
    {
      "cell_type": "code",
      "metadata": {
        "id": "N2sW5vB-6BEd"
      },
      "source": [
        "def importtxtfile(path):\n",
        "  df = open(path, 'r')\n",
        "  df = [line.strip().split('\\t') for line in df.readlines()]\n",
        "  df = pd.DataFrame(df, columns = ['id' , 'tweet', 'tweettype', 'score'])\n",
        "  df = df.drop([0], axis=0)\n",
        "  return df"
      ],
      "id": "N2sW5vB-6BEd",
      "execution_count": null,
      "outputs": []
    },
    {
      "cell_type": "code",
      "metadata": {
        "colab": {
          "base_uri": "https://localhost:8080/",
          "height": 414
        },
        "id": "_5AZNWyL1a7d",
        "outputId": "12929c49-fc4a-4ecd-e2e3-71cfc6689258"
      },
      "source": [
        "angerdatatrain = importtxtfile('/content/drive/MyDrive/flowerdata/wassa data/training/anger-ratings-0to1.train.txt')\n",
        "feardatatrain = importtxtfile('/content/drive/MyDrive/flowerdata/wassa data/training/fear-ratings-0to1.train.txt')\n",
        "joydatatrain = importtxtfile('/content/drive/MyDrive/flowerdata/wassa data/training/joy-ratings-0to1.train.txt')\n",
        "sadnessdatatrain = importtxtfile('/content/drive/MyDrive/flowerdata/wassa data/training/sadness-ratings-0to1.train.txt')\n",
        "traindata = pd.concat([angerdatatrain, feardatatrain, joydatatrain, sadnessdatatrain])\n",
        "traindata"
      ],
      "id": "_5AZNWyL1a7d",
      "execution_count": null,
      "outputs": [
        {
          "output_type": "execute_result",
          "data": {
            "text/html": [
              "<div>\n",
              "<style scoped>\n",
              "    .dataframe tbody tr th:only-of-type {\n",
              "        vertical-align: middle;\n",
              "    }\n",
              "\n",
              "    .dataframe tbody tr th {\n",
              "        vertical-align: top;\n",
              "    }\n",
              "\n",
              "    .dataframe thead th {\n",
              "        text-align: right;\n",
              "    }\n",
              "</style>\n",
              "<table border=\"1\" class=\"dataframe\">\n",
              "  <thead>\n",
              "    <tr style=\"text-align: right;\">\n",
              "      <th></th>\n",
              "      <th>id</th>\n",
              "      <th>tweet</th>\n",
              "      <th>tweettype</th>\n",
              "      <th>score</th>\n",
              "    </tr>\n",
              "  </thead>\n",
              "  <tbody>\n",
              "    <tr>\n",
              "      <th>1</th>\n",
              "      <td>10000</td>\n",
              "      <td>How the fu*k! Who the heck! moved my fridge!.....</td>\n",
              "      <td>anger</td>\n",
              "      <td>0.938</td>\n",
              "    </tr>\n",
              "    <tr>\n",
              "      <th>2</th>\n",
              "      <td>10001</td>\n",
              "      <td>So my Indian Uber driver just called someone t...</td>\n",
              "      <td>anger</td>\n",
              "      <td>0.896</td>\n",
              "    </tr>\n",
              "    <tr>\n",
              "      <th>3</th>\n",
              "      <td>10002</td>\n",
              "      <td>@DPD_UK I asked for my parcel to be delivered ...</td>\n",
              "      <td>anger</td>\n",
              "      <td>0.896</td>\n",
              "    </tr>\n",
              "    <tr>\n",
              "      <th>4</th>\n",
              "      <td>10003</td>\n",
              "      <td>so ef whichever butt wipe pulled the fire alar...</td>\n",
              "      <td>anger</td>\n",
              "      <td>0.896</td>\n",
              "    </tr>\n",
              "    <tr>\n",
              "      <th>5</th>\n",
              "      <td>10004</td>\n",
              "      <td>Don't join @BTCare they put the phone down on ...</td>\n",
              "      <td>anger</td>\n",
              "      <td>0.896</td>\n",
              "    </tr>\n",
              "    <tr>\n",
              "      <th>...</th>\n",
              "      <td>...</td>\n",
              "      <td>...</td>\n",
              "      <td>...</td>\n",
              "      <td>...</td>\n",
              "    </tr>\n",
              "    <tr>\n",
              "      <th>782</th>\n",
              "      <td>40781</td>\n",
              "      <td>@VivienLloyd Thank you so much! Just home - st...</td>\n",
              "      <td>sadness</td>\n",
              "      <td>0.104</td>\n",
              "    </tr>\n",
              "    <tr>\n",
              "      <th>783</th>\n",
              "      <td>40782</td>\n",
              "      <td>Just put the winter duvet on ☃️❄️🌬☔️</td>\n",
              "      <td>sadness</td>\n",
              "      <td>0.104</td>\n",
              "    </tr>\n",
              "    <tr>\n",
              "      <th>784</th>\n",
              "      <td>40783</td>\n",
              "      <td>@SilkInSide @TommyJoeRatliff that's so pretty!...</td>\n",
              "      <td>sadness</td>\n",
              "      <td>0.088</td>\n",
              "    </tr>\n",
              "    <tr>\n",
              "      <th>785</th>\n",
              "      <td>40784</td>\n",
              "      <td>@BluesfestByron second artist announcement loo...</td>\n",
              "      <td>sadness</td>\n",
              "      <td>0.083</td>\n",
              "    </tr>\n",
              "    <tr>\n",
              "      <th>786</th>\n",
              "      <td>40785</td>\n",
              "      <td>I can literally eat creamy pesto pasta topped ...</td>\n",
              "      <td>sadness</td>\n",
              "      <td>0.083</td>\n",
              "    </tr>\n",
              "  </tbody>\n",
              "</table>\n",
              "<p>3613 rows × 4 columns</p>\n",
              "</div>"
            ],
            "text/plain": [
              "        id                                              tweet tweettype  score\n",
              "1    10000  How the fu*k! Who the heck! moved my fridge!.....     anger  0.938\n",
              "2    10001  So my Indian Uber driver just called someone t...     anger  0.896\n",
              "3    10002  @DPD_UK I asked for my parcel to be delivered ...     anger  0.896\n",
              "4    10003  so ef whichever butt wipe pulled the fire alar...     anger  0.896\n",
              "5    10004  Don't join @BTCare they put the phone down on ...     anger  0.896\n",
              "..     ...                                                ...       ...    ...\n",
              "782  40781  @VivienLloyd Thank you so much! Just home - st...   sadness  0.104\n",
              "783  40782              Just put the winter duvet on ☃️❄️🌬☔️    sadness  0.104\n",
              "784  40783  @SilkInSide @TommyJoeRatliff that's so pretty!...   sadness  0.088\n",
              "785  40784  @BluesfestByron second artist announcement loo...   sadness  0.083\n",
              "786  40785  I can literally eat creamy pesto pasta topped ...   sadness  0.083\n",
              "\n",
              "[3613 rows x 4 columns]"
            ]
          },
          "metadata": {},
          "execution_count": 5
        }
      ]
    },
    {
      "cell_type": "code",
      "metadata": {
        "colab": {
          "base_uri": "https://localhost:8080/",
          "height": 414
        },
        "id": "wIEuqeDN6gHI",
        "outputId": "e8987952-0c6d-4eb8-9d5e-faf5d7945060"
      },
      "source": [
        "angerdatatest = importtxtfile('/content/drive/MyDrive/flowerdata/wassa data/testing/anger-ratings-0to1.test.target.txt')\n",
        "feardatatest = importtxtfile('/content/drive/MyDrive/flowerdata/wassa data/testing/fear-ratings-0to1.test.target.txt')\n",
        "joydatatest = importtxtfile('/content/drive/MyDrive/flowerdata/wassa data/testing/joy-ratings-0to1.test.target.txt')\n",
        "sadnessdatatest = importtxtfile('/content/drive/MyDrive/flowerdata/wassa data/testing/sadness-ratings-0to1.test.target.txt')\n",
        "testdata = pd.concat([angerdatatest, feardatatest, joydatatest, sadnessdatatest])\n",
        "testdata"
      ],
      "id": "wIEuqeDN6gHI",
      "execution_count": null,
      "outputs": [
        {
          "output_type": "execute_result",
          "data": {
            "text/html": [
              "<div>\n",
              "<style scoped>\n",
              "    .dataframe tbody tr th:only-of-type {\n",
              "        vertical-align: middle;\n",
              "    }\n",
              "\n",
              "    .dataframe tbody tr th {\n",
              "        vertical-align: top;\n",
              "    }\n",
              "\n",
              "    .dataframe thead th {\n",
              "        text-align: right;\n",
              "    }\n",
              "</style>\n",
              "<table border=\"1\" class=\"dataframe\">\n",
              "  <thead>\n",
              "    <tr style=\"text-align: right;\">\n",
              "      <th></th>\n",
              "      <th>id</th>\n",
              "      <th>tweet</th>\n",
              "      <th>tweettype</th>\n",
              "      <th>score</th>\n",
              "    </tr>\n",
              "  </thead>\n",
              "  <tbody>\n",
              "    <tr>\n",
              "      <th>1</th>\n",
              "      <td>10941</td>\n",
              "      <td>At the point today where if someone says somet...</td>\n",
              "      <td>anger</td>\n",
              "      <td>NONE</td>\n",
              "    </tr>\n",
              "    <tr>\n",
              "      <th>2</th>\n",
              "      <td>10942</td>\n",
              "      <td>@CorningFootball  IT'S GAME DAY!!!!      T MIN...</td>\n",
              "      <td>anger</td>\n",
              "      <td>NONE</td>\n",
              "    </tr>\n",
              "    <tr>\n",
              "      <th>3</th>\n",
              "      <td>10943</td>\n",
              "      <td>This game has pissed me off more than any othe...</td>\n",
              "      <td>anger</td>\n",
              "      <td>NONE</td>\n",
              "    </tr>\n",
              "    <tr>\n",
              "      <th>4</th>\n",
              "      <td>10944</td>\n",
              "      <td>@spamvicious I've just found out it's Candice ...</td>\n",
              "      <td>anger</td>\n",
              "      <td>NONE</td>\n",
              "    </tr>\n",
              "    <tr>\n",
              "      <th>5</th>\n",
              "      <td>10945</td>\n",
              "      <td>@moocowward @mrsajhargreaves @Melly77 @GaryBar...</td>\n",
              "      <td>anger</td>\n",
              "      <td>NONE</td>\n",
              "    </tr>\n",
              "    <tr>\n",
              "      <th>...</th>\n",
              "      <td>...</td>\n",
              "      <td>...</td>\n",
              "      <td>...</td>\n",
              "      <td>...</td>\n",
              "    </tr>\n",
              "    <tr>\n",
              "      <th>669</th>\n",
              "      <td>41528</td>\n",
              "      <td>Why does Candice constantly pout #GBBO 💄😒</td>\n",
              "      <td>sadness</td>\n",
              "      <td>NONE</td>\n",
              "    </tr>\n",
              "    <tr>\n",
              "      <th>670</th>\n",
              "      <td>41529</td>\n",
              "      <td>@redBus_in #unhappy with #redbus CC, when I ta...</td>\n",
              "      <td>sadness</td>\n",
              "      <td>NONE</td>\n",
              "    </tr>\n",
              "    <tr>\n",
              "      <th>671</th>\n",
              "      <td>41530</td>\n",
              "      <td>@AceOperative789 no pull him afew weeks ago, s...</td>\n",
              "      <td>sadness</td>\n",
              "      <td>NONE</td>\n",
              "    </tr>\n",
              "    <tr>\n",
              "      <th>672</th>\n",
              "      <td>41531</td>\n",
              "      <td>I'm buying art supplies and I'm debating how s...</td>\n",
              "      <td>sadness</td>\n",
              "      <td>NONE</td>\n",
              "    </tr>\n",
              "    <tr>\n",
              "      <th>673</th>\n",
              "      <td>41532</td>\n",
              "      <td>@sainsburys Could you ask your Chafford Hundre...</td>\n",
              "      <td>sadness</td>\n",
              "      <td>NONE</td>\n",
              "    </tr>\n",
              "  </tbody>\n",
              "</table>\n",
              "<p>3142 rows × 4 columns</p>\n",
              "</div>"
            ],
            "text/plain": [
              "        id                                              tweet tweettype score\n",
              "1    10941  At the point today where if someone says somet...     anger  NONE\n",
              "2    10942  @CorningFootball  IT'S GAME DAY!!!!      T MIN...     anger  NONE\n",
              "3    10943  This game has pissed me off more than any othe...     anger  NONE\n",
              "4    10944  @spamvicious I've just found out it's Candice ...     anger  NONE\n",
              "5    10945  @moocowward @mrsajhargreaves @Melly77 @GaryBar...     anger  NONE\n",
              "..     ...                                                ...       ...   ...\n",
              "669  41528          Why does Candice constantly pout #GBBO 💄😒   sadness  NONE\n",
              "670  41529  @redBus_in #unhappy with #redbus CC, when I ta...   sadness  NONE\n",
              "671  41530  @AceOperative789 no pull him afew weeks ago, s...   sadness  NONE\n",
              "672  41531  I'm buying art supplies and I'm debating how s...   sadness  NONE\n",
              "673  41532  @sainsburys Could you ask your Chafford Hundre...   sadness  NONE\n",
              "\n",
              "[3142 rows x 4 columns]"
            ]
          },
          "metadata": {},
          "execution_count": 6
        }
      ]
    },
    {
      "cell_type": "code",
      "metadata": {
        "colab": {
          "base_uri": "https://localhost:8080/",
          "height": 414
        },
        "id": "G3J8cpzb60GD",
        "outputId": "ef2434e4-58fb-4c6d-de80-2a8051c8332f"
      },
      "source": [
        "angerdatatest = importtxtfile('/content/drive/MyDrive/flowerdata/wassa data/validation/anger-ratings-0to1.dev.gold.txt')\n",
        "feardatatest = importtxtfile('/content/drive/MyDrive/flowerdata/wassa data/validation/fear-ratings-0to1.dev.gold.txt')\n",
        "joydatatest = importtxtfile('/content/drive/MyDrive/flowerdata/wassa data/validation/joy-ratings-0to1.dev.gold.txt')\n",
        "sadnessdatatest = importtxtfile('/content/drive/MyDrive/flowerdata/wassa data/validation/sadness-ratings-0to1.dev.gold.txt')\n",
        "valdata = pd.concat([angerdatatest, feardatatest, joydatatest, sadnessdatatest])\n",
        "valdata"
      ],
      "id": "G3J8cpzb60GD",
      "execution_count": null,
      "outputs": [
        {
          "output_type": "execute_result",
          "data": {
            "text/html": [
              "<div>\n",
              "<style scoped>\n",
              "    .dataframe tbody tr th:only-of-type {\n",
              "        vertical-align: middle;\n",
              "    }\n",
              "\n",
              "    .dataframe tbody tr th {\n",
              "        vertical-align: top;\n",
              "    }\n",
              "\n",
              "    .dataframe thead th {\n",
              "        text-align: right;\n",
              "    }\n",
              "</style>\n",
              "<table border=\"1\" class=\"dataframe\">\n",
              "  <thead>\n",
              "    <tr style=\"text-align: right;\">\n",
              "      <th></th>\n",
              "      <th>id</th>\n",
              "      <th>tweet</th>\n",
              "      <th>tweettype</th>\n",
              "      <th>score</th>\n",
              "    </tr>\n",
              "  </thead>\n",
              "  <tbody>\n",
              "    <tr>\n",
              "      <th>1</th>\n",
              "      <td>10857</td>\n",
              "      <td>@ZubairSabirPTI  pls dont insult the word 'Molna'</td>\n",
              "      <td>anger</td>\n",
              "      <td>0.479</td>\n",
              "    </tr>\n",
              "    <tr>\n",
              "      <th>2</th>\n",
              "      <td>10858</td>\n",
              "      <td>@ArcticFantasy I would have almost took offens...</td>\n",
              "      <td>anger</td>\n",
              "      <td>0.458</td>\n",
              "    </tr>\n",
              "    <tr>\n",
              "      <th>3</th>\n",
              "      <td>10859</td>\n",
              "      <td>@IllinoisLoyalty that Rutgers game was an abom...</td>\n",
              "      <td>anger</td>\n",
              "      <td>0.562</td>\n",
              "    </tr>\n",
              "    <tr>\n",
              "      <th>4</th>\n",
              "      <td>10860</td>\n",
              "      <td>@CozanGaming that's what lisa asked before she...</td>\n",
              "      <td>anger</td>\n",
              "      <td>0.500</td>\n",
              "    </tr>\n",
              "    <tr>\n",
              "      <th>5</th>\n",
              "      <td>10861</td>\n",
              "      <td>Sometimes I get mad over something so minuscul...</td>\n",
              "      <td>anger</td>\n",
              "      <td>0.708</td>\n",
              "    </tr>\n",
              "    <tr>\n",
              "      <th>...</th>\n",
              "      <td>...</td>\n",
              "      <td>...</td>\n",
              "      <td>...</td>\n",
              "      <td>...</td>\n",
              "    </tr>\n",
              "    <tr>\n",
              "      <th>70</th>\n",
              "      <td>40855</td>\n",
              "      <td>Common app just randomly logged me out as I wa...</td>\n",
              "      <td>sadness</td>\n",
              "      <td>0.833</td>\n",
              "    </tr>\n",
              "    <tr>\n",
              "      <th>71</th>\n",
              "      <td>40856</td>\n",
              "      <td>I'd rather laugh with the rarest genius, in be...</td>\n",
              "      <td>sadness</td>\n",
              "      <td>0.688</td>\n",
              "    </tr>\n",
              "    <tr>\n",
              "      <th>72</th>\n",
              "      <td>40857</td>\n",
              "      <td>If you #invest in my new #film I will stop ask...</td>\n",
              "      <td>sadness</td>\n",
              "      <td>0.458</td>\n",
              "    </tr>\n",
              "    <tr>\n",
              "      <th>73</th>\n",
              "      <td>40858</td>\n",
              "      <td>Just watched Django Unchained, Other people ma...</td>\n",
              "      <td>sadness</td>\n",
              "      <td>0.333</td>\n",
              "    </tr>\n",
              "    <tr>\n",
              "      <th>74</th>\n",
              "      <td>40859</td>\n",
              "      <td>@KeithOlbermann depressing how despicable Trum...</td>\n",
              "      <td>sadness</td>\n",
              "      <td>0.708</td>\n",
              "    </tr>\n",
              "  </tbody>\n",
              "</table>\n",
              "<p>347 rows × 4 columns</p>\n",
              "</div>"
            ],
            "text/plain": [
              "       id                                              tweet tweettype  score\n",
              "1   10857  @ZubairSabirPTI  pls dont insult the word 'Molna'     anger  0.479\n",
              "2   10858  @ArcticFantasy I would have almost took offens...     anger  0.458\n",
              "3   10859  @IllinoisLoyalty that Rutgers game was an abom...     anger  0.562\n",
              "4   10860  @CozanGaming that's what lisa asked before she...     anger  0.500\n",
              "5   10861  Sometimes I get mad over something so minuscul...     anger  0.708\n",
              "..    ...                                                ...       ...    ...\n",
              "70  40855  Common app just randomly logged me out as I wa...   sadness  0.833\n",
              "71  40856  I'd rather laugh with the rarest genius, in be...   sadness  0.688\n",
              "72  40857  If you #invest in my new #film I will stop ask...   sadness  0.458\n",
              "73  40858  Just watched Django Unchained, Other people ma...   sadness  0.333\n",
              "74  40859  @KeithOlbermann depressing how despicable Trum...   sadness  0.708\n",
              "\n",
              "[347 rows x 4 columns]"
            ]
          },
          "metadata": {},
          "execution_count": 7
        }
      ]
    },
    {
      "cell_type": "code",
      "metadata": {
        "execution": {
          "iopub.execute_input": "2021-11-11T12:38:05.616503Z",
          "iopub.status.busy": "2021-11-11T12:38:05.615733Z",
          "iopub.status.idle": "2021-11-11T12:38:05.777499Z",
          "shell.execute_reply": "2021-11-11T12:38:05.777977Z",
          "shell.execute_reply.started": "2021-11-11T08:45:53.582144Z"
        },
        "id": "468db22c",
        "papermill": {
          "duration": 0.18522,
          "end_time": "2021-11-11T12:38:05.778139",
          "exception": false,
          "start_time": "2021-11-11T12:38:05.592919",
          "status": "completed"
        },
        "tags": [],
        "colab": {
          "base_uri": "https://localhost:8080/",
          "height": 414
        },
        "outputId": "5d62eefd-0173-48ad-b7ad-51fb9432d054"
      },
      "source": [
        "datanew = pd.concat([traindata, valdata])\n",
        "datanew = datanew.reset_index()\n",
        "datanew\n",
        "# datanew[datanew['score'].to_string() == 'NONE']"
      ],
      "id": "468db22c",
      "execution_count": null,
      "outputs": [
        {
          "output_type": "execute_result",
          "data": {
            "text/html": [
              "<div>\n",
              "<style scoped>\n",
              "    .dataframe tbody tr th:only-of-type {\n",
              "        vertical-align: middle;\n",
              "    }\n",
              "\n",
              "    .dataframe tbody tr th {\n",
              "        vertical-align: top;\n",
              "    }\n",
              "\n",
              "    .dataframe thead th {\n",
              "        text-align: right;\n",
              "    }\n",
              "</style>\n",
              "<table border=\"1\" class=\"dataframe\">\n",
              "  <thead>\n",
              "    <tr style=\"text-align: right;\">\n",
              "      <th></th>\n",
              "      <th>index</th>\n",
              "      <th>id</th>\n",
              "      <th>tweet</th>\n",
              "      <th>tweettype</th>\n",
              "      <th>score</th>\n",
              "    </tr>\n",
              "  </thead>\n",
              "  <tbody>\n",
              "    <tr>\n",
              "      <th>0</th>\n",
              "      <td>1</td>\n",
              "      <td>10000</td>\n",
              "      <td>How the fu*k! Who the heck! moved my fridge!.....</td>\n",
              "      <td>anger</td>\n",
              "      <td>0.938</td>\n",
              "    </tr>\n",
              "    <tr>\n",
              "      <th>1</th>\n",
              "      <td>2</td>\n",
              "      <td>10001</td>\n",
              "      <td>So my Indian Uber driver just called someone t...</td>\n",
              "      <td>anger</td>\n",
              "      <td>0.896</td>\n",
              "    </tr>\n",
              "    <tr>\n",
              "      <th>2</th>\n",
              "      <td>3</td>\n",
              "      <td>10002</td>\n",
              "      <td>@DPD_UK I asked for my parcel to be delivered ...</td>\n",
              "      <td>anger</td>\n",
              "      <td>0.896</td>\n",
              "    </tr>\n",
              "    <tr>\n",
              "      <th>3</th>\n",
              "      <td>4</td>\n",
              "      <td>10003</td>\n",
              "      <td>so ef whichever butt wipe pulled the fire alar...</td>\n",
              "      <td>anger</td>\n",
              "      <td>0.896</td>\n",
              "    </tr>\n",
              "    <tr>\n",
              "      <th>4</th>\n",
              "      <td>5</td>\n",
              "      <td>10004</td>\n",
              "      <td>Don't join @BTCare they put the phone down on ...</td>\n",
              "      <td>anger</td>\n",
              "      <td>0.896</td>\n",
              "    </tr>\n",
              "    <tr>\n",
              "      <th>...</th>\n",
              "      <td>...</td>\n",
              "      <td>...</td>\n",
              "      <td>...</td>\n",
              "      <td>...</td>\n",
              "      <td>...</td>\n",
              "    </tr>\n",
              "    <tr>\n",
              "      <th>3955</th>\n",
              "      <td>70</td>\n",
              "      <td>40855</td>\n",
              "      <td>Common app just randomly logged me out as I wa...</td>\n",
              "      <td>sadness</td>\n",
              "      <td>0.833</td>\n",
              "    </tr>\n",
              "    <tr>\n",
              "      <th>3956</th>\n",
              "      <td>71</td>\n",
              "      <td>40856</td>\n",
              "      <td>I'd rather laugh with the rarest genius, in be...</td>\n",
              "      <td>sadness</td>\n",
              "      <td>0.688</td>\n",
              "    </tr>\n",
              "    <tr>\n",
              "      <th>3957</th>\n",
              "      <td>72</td>\n",
              "      <td>40857</td>\n",
              "      <td>If you #invest in my new #film I will stop ask...</td>\n",
              "      <td>sadness</td>\n",
              "      <td>0.458</td>\n",
              "    </tr>\n",
              "    <tr>\n",
              "      <th>3958</th>\n",
              "      <td>73</td>\n",
              "      <td>40858</td>\n",
              "      <td>Just watched Django Unchained, Other people ma...</td>\n",
              "      <td>sadness</td>\n",
              "      <td>0.333</td>\n",
              "    </tr>\n",
              "    <tr>\n",
              "      <th>3959</th>\n",
              "      <td>74</td>\n",
              "      <td>40859</td>\n",
              "      <td>@KeithOlbermann depressing how despicable Trum...</td>\n",
              "      <td>sadness</td>\n",
              "      <td>0.708</td>\n",
              "    </tr>\n",
              "  </tbody>\n",
              "</table>\n",
              "<p>3960 rows × 5 columns</p>\n",
              "</div>"
            ],
            "text/plain": [
              "      index     id  ... tweettype  score\n",
              "0         1  10000  ...     anger  0.938\n",
              "1         2  10001  ...     anger  0.896\n",
              "2         3  10002  ...     anger  0.896\n",
              "3         4  10003  ...     anger  0.896\n",
              "4         5  10004  ...     anger  0.896\n",
              "...     ...    ...  ...       ...    ...\n",
              "3955     70  40855  ...   sadness  0.833\n",
              "3956     71  40856  ...   sadness  0.688\n",
              "3957     72  40857  ...   sadness  0.458\n",
              "3958     73  40858  ...   sadness  0.333\n",
              "3959     74  40859  ...   sadness  0.708\n",
              "\n",
              "[3960 rows x 5 columns]"
            ]
          },
          "metadata": {},
          "execution_count": 8
        }
      ]
    },
    {
      "cell_type": "code",
      "metadata": {
        "colab": {
          "base_uri": "https://localhost:8080/"
        },
        "id": "Ec3-wiRxEP2e",
        "outputId": "925ff332-33ff-487e-c349-a82816de5130"
      },
      "source": [
        "pd.to_numeric(datanew['score'])"
      ],
      "id": "Ec3-wiRxEP2e",
      "execution_count": null,
      "outputs": [
        {
          "output_type": "execute_result",
          "data": {
            "text/plain": [
              "0       0.938\n",
              "1       0.896\n",
              "2       0.896\n",
              "3       0.896\n",
              "4       0.896\n",
              "        ...  \n",
              "3955    0.833\n",
              "3956    0.688\n",
              "3957    0.458\n",
              "3958    0.333\n",
              "3959    0.708\n",
              "Name: score, Length: 3960, dtype: float64"
            ]
          },
          "metadata": {},
          "execution_count": 9
        }
      ]
    },
    {
      "cell_type": "code",
      "metadata": {
        "colab": {
          "base_uri": "https://localhost:8080/",
          "height": 414
        },
        "id": "FbbL5gxs8xTB",
        "outputId": "c1ead90d-0187-4332-bd03-be3058b930ec"
      },
      "source": [
        "datanew = datanew.drop(datanew[pd.to_numeric(datanew['score']) < 0.7].index) #, inplace = True\n",
        "datanew"
      ],
      "id": "FbbL5gxs8xTB",
      "execution_count": null,
      "outputs": [
        {
          "output_type": "execute_result",
          "data": {
            "text/html": [
              "<div>\n",
              "<style scoped>\n",
              "    .dataframe tbody tr th:only-of-type {\n",
              "        vertical-align: middle;\n",
              "    }\n",
              "\n",
              "    .dataframe tbody tr th {\n",
              "        vertical-align: top;\n",
              "    }\n",
              "\n",
              "    .dataframe thead th {\n",
              "        text-align: right;\n",
              "    }\n",
              "</style>\n",
              "<table border=\"1\" class=\"dataframe\">\n",
              "  <thead>\n",
              "    <tr style=\"text-align: right;\">\n",
              "      <th></th>\n",
              "      <th>index</th>\n",
              "      <th>id</th>\n",
              "      <th>tweet</th>\n",
              "      <th>tweettype</th>\n",
              "      <th>score</th>\n",
              "    </tr>\n",
              "  </thead>\n",
              "  <tbody>\n",
              "    <tr>\n",
              "      <th>0</th>\n",
              "      <td>1</td>\n",
              "      <td>10000</td>\n",
              "      <td>How the fu*k! Who the heck! moved my fridge!.....</td>\n",
              "      <td>anger</td>\n",
              "      <td>0.938</td>\n",
              "    </tr>\n",
              "    <tr>\n",
              "      <th>1</th>\n",
              "      <td>2</td>\n",
              "      <td>10001</td>\n",
              "      <td>So my Indian Uber driver just called someone t...</td>\n",
              "      <td>anger</td>\n",
              "      <td>0.896</td>\n",
              "    </tr>\n",
              "    <tr>\n",
              "      <th>2</th>\n",
              "      <td>3</td>\n",
              "      <td>10002</td>\n",
              "      <td>@DPD_UK I asked for my parcel to be delivered ...</td>\n",
              "      <td>anger</td>\n",
              "      <td>0.896</td>\n",
              "    </tr>\n",
              "    <tr>\n",
              "      <th>3</th>\n",
              "      <td>4</td>\n",
              "      <td>10003</td>\n",
              "      <td>so ef whichever butt wipe pulled the fire alar...</td>\n",
              "      <td>anger</td>\n",
              "      <td>0.896</td>\n",
              "    </tr>\n",
              "    <tr>\n",
              "      <th>4</th>\n",
              "      <td>5</td>\n",
              "      <td>10004</td>\n",
              "      <td>Don't join @BTCare they put the phone down on ...</td>\n",
              "      <td>anger</td>\n",
              "      <td>0.896</td>\n",
              "    </tr>\n",
              "    <tr>\n",
              "      <th>...</th>\n",
              "      <td>...</td>\n",
              "      <td>...</td>\n",
              "      <td>...</td>\n",
              "      <td>...</td>\n",
              "      <td>...</td>\n",
              "    </tr>\n",
              "    <tr>\n",
              "      <th>3921</th>\n",
              "      <td>36</td>\n",
              "      <td>40821</td>\n",
              "      <td>It feel like we lost a family member🙄😂</td>\n",
              "      <td>sadness</td>\n",
              "      <td>0.708</td>\n",
              "    </tr>\n",
              "    <tr>\n",
              "      <th>3922</th>\n",
              "      <td>37</td>\n",
              "      <td>40822</td>\n",
              "      <td>My life went from happy to unhappy..</td>\n",
              "      <td>sadness</td>\n",
              "      <td>0.812</td>\n",
              "    </tr>\n",
              "    <tr>\n",
              "      <th>3946</th>\n",
              "      <td>61</td>\n",
              "      <td>40846</td>\n",
              "      <td>Should of stayed in Dubai 😞</td>\n",
              "      <td>sadness</td>\n",
              "      <td>0.708</td>\n",
              "    </tr>\n",
              "    <tr>\n",
              "      <th>3955</th>\n",
              "      <td>70</td>\n",
              "      <td>40855</td>\n",
              "      <td>Common app just randomly logged me out as I wa...</td>\n",
              "      <td>sadness</td>\n",
              "      <td>0.833</td>\n",
              "    </tr>\n",
              "    <tr>\n",
              "      <th>3959</th>\n",
              "      <td>74</td>\n",
              "      <td>40859</td>\n",
              "      <td>@KeithOlbermann depressing how despicable Trum...</td>\n",
              "      <td>sadness</td>\n",
              "      <td>0.708</td>\n",
              "    </tr>\n",
              "  </tbody>\n",
              "</table>\n",
              "<p>625 rows × 5 columns</p>\n",
              "</div>"
            ],
            "text/plain": [
              "      index     id  ... tweettype  score\n",
              "0         1  10000  ...     anger  0.938\n",
              "1         2  10001  ...     anger  0.896\n",
              "2         3  10002  ...     anger  0.896\n",
              "3         4  10003  ...     anger  0.896\n",
              "4         5  10004  ...     anger  0.896\n",
              "...     ...    ...  ...       ...    ...\n",
              "3921     36  40821  ...   sadness  0.708\n",
              "3922     37  40822  ...   sadness  0.812\n",
              "3946     61  40846  ...   sadness  0.708\n",
              "3955     70  40855  ...   sadness  0.833\n",
              "3959     74  40859  ...   sadness  0.708\n",
              "\n",
              "[625 rows x 5 columns]"
            ]
          },
          "metadata": {},
          "execution_count": 10
        }
      ]
    },
    {
      "cell_type": "code",
      "metadata": {
        "execution": {
          "iopub.execute_input": "2021-11-11T12:38:05.831746Z",
          "iopub.status.busy": "2021-11-11T12:38:05.830916Z",
          "iopub.status.idle": "2021-11-11T12:38:05.856807Z",
          "shell.execute_reply": "2021-11-11T12:38:05.857256Z",
          "shell.execute_reply.started": "2021-11-11T08:45:53.71135Z"
        },
        "id": "bfc2ece3",
        "papermill": {
          "duration": 0.056599,
          "end_time": "2021-11-11T12:38:05.857382",
          "exception": false,
          "start_time": "2021-11-11T12:38:05.800783",
          "status": "completed"
        },
        "tags": [],
        "colab": {
          "base_uri": "https://localhost:8080/",
          "height": 414
        },
        "outputId": "077dabba-400f-4d21-a7a7-52e4f0d8ba12"
      },
      "source": [
        "## encode sentiment column to onehot\n",
        "from sklearn.preprocessing import OneHotEncoder\n",
        "\n",
        "enc = OneHotEncoder(handle_unknown='ignore')\n",
        "enc.fit(datanew['tweettype'].to_numpy().reshape(-1, 1))\n",
        "onehot_sentiment = enc.transform(datanew['tweettype'].to_numpy().reshape(-1, 1)).toarray()\n",
        "# onehot_sentiment = onehot_sentiment.reshape((40000, 1, 13))\n",
        "datanew.insert(1, \"onehot_sentiment\", list(onehot_sentiment))\n",
        "datanew"
      ],
      "id": "bfc2ece3",
      "execution_count": null,
      "outputs": [
        {
          "output_type": "execute_result",
          "data": {
            "text/html": [
              "<div>\n",
              "<style scoped>\n",
              "    .dataframe tbody tr th:only-of-type {\n",
              "        vertical-align: middle;\n",
              "    }\n",
              "\n",
              "    .dataframe tbody tr th {\n",
              "        vertical-align: top;\n",
              "    }\n",
              "\n",
              "    .dataframe thead th {\n",
              "        text-align: right;\n",
              "    }\n",
              "</style>\n",
              "<table border=\"1\" class=\"dataframe\">\n",
              "  <thead>\n",
              "    <tr style=\"text-align: right;\">\n",
              "      <th></th>\n",
              "      <th>index</th>\n",
              "      <th>onehot_sentiment</th>\n",
              "      <th>id</th>\n",
              "      <th>tweet</th>\n",
              "      <th>tweettype</th>\n",
              "      <th>score</th>\n",
              "    </tr>\n",
              "  </thead>\n",
              "  <tbody>\n",
              "    <tr>\n",
              "      <th>0</th>\n",
              "      <td>1</td>\n",
              "      <td>[1.0, 0.0, 0.0, 0.0]</td>\n",
              "      <td>10000</td>\n",
              "      <td>How the fu*k! Who the heck! moved my fridge!.....</td>\n",
              "      <td>anger</td>\n",
              "      <td>0.938</td>\n",
              "    </tr>\n",
              "    <tr>\n",
              "      <th>1</th>\n",
              "      <td>2</td>\n",
              "      <td>[1.0, 0.0, 0.0, 0.0]</td>\n",
              "      <td>10001</td>\n",
              "      <td>So my Indian Uber driver just called someone t...</td>\n",
              "      <td>anger</td>\n",
              "      <td>0.896</td>\n",
              "    </tr>\n",
              "    <tr>\n",
              "      <th>2</th>\n",
              "      <td>3</td>\n",
              "      <td>[1.0, 0.0, 0.0, 0.0]</td>\n",
              "      <td>10002</td>\n",
              "      <td>@DPD_UK I asked for my parcel to be delivered ...</td>\n",
              "      <td>anger</td>\n",
              "      <td>0.896</td>\n",
              "    </tr>\n",
              "    <tr>\n",
              "      <th>3</th>\n",
              "      <td>4</td>\n",
              "      <td>[1.0, 0.0, 0.0, 0.0]</td>\n",
              "      <td>10003</td>\n",
              "      <td>so ef whichever butt wipe pulled the fire alar...</td>\n",
              "      <td>anger</td>\n",
              "      <td>0.896</td>\n",
              "    </tr>\n",
              "    <tr>\n",
              "      <th>4</th>\n",
              "      <td>5</td>\n",
              "      <td>[1.0, 0.0, 0.0, 0.0]</td>\n",
              "      <td>10004</td>\n",
              "      <td>Don't join @BTCare they put the phone down on ...</td>\n",
              "      <td>anger</td>\n",
              "      <td>0.896</td>\n",
              "    </tr>\n",
              "    <tr>\n",
              "      <th>...</th>\n",
              "      <td>...</td>\n",
              "      <td>...</td>\n",
              "      <td>...</td>\n",
              "      <td>...</td>\n",
              "      <td>...</td>\n",
              "      <td>...</td>\n",
              "    </tr>\n",
              "    <tr>\n",
              "      <th>3921</th>\n",
              "      <td>36</td>\n",
              "      <td>[0.0, 0.0, 0.0, 1.0]</td>\n",
              "      <td>40821</td>\n",
              "      <td>It feel like we lost a family member🙄😂</td>\n",
              "      <td>sadness</td>\n",
              "      <td>0.708</td>\n",
              "    </tr>\n",
              "    <tr>\n",
              "      <th>3922</th>\n",
              "      <td>37</td>\n",
              "      <td>[0.0, 0.0, 0.0, 1.0]</td>\n",
              "      <td>40822</td>\n",
              "      <td>My life went from happy to unhappy..</td>\n",
              "      <td>sadness</td>\n",
              "      <td>0.812</td>\n",
              "    </tr>\n",
              "    <tr>\n",
              "      <th>3946</th>\n",
              "      <td>61</td>\n",
              "      <td>[0.0, 0.0, 0.0, 1.0]</td>\n",
              "      <td>40846</td>\n",
              "      <td>Should of stayed in Dubai 😞</td>\n",
              "      <td>sadness</td>\n",
              "      <td>0.708</td>\n",
              "    </tr>\n",
              "    <tr>\n",
              "      <th>3955</th>\n",
              "      <td>70</td>\n",
              "      <td>[0.0, 0.0, 0.0, 1.0]</td>\n",
              "      <td>40855</td>\n",
              "      <td>Common app just randomly logged me out as I wa...</td>\n",
              "      <td>sadness</td>\n",
              "      <td>0.833</td>\n",
              "    </tr>\n",
              "    <tr>\n",
              "      <th>3959</th>\n",
              "      <td>74</td>\n",
              "      <td>[0.0, 0.0, 0.0, 1.0]</td>\n",
              "      <td>40859</td>\n",
              "      <td>@KeithOlbermann depressing how despicable Trum...</td>\n",
              "      <td>sadness</td>\n",
              "      <td>0.708</td>\n",
              "    </tr>\n",
              "  </tbody>\n",
              "</table>\n",
              "<p>625 rows × 6 columns</p>\n",
              "</div>"
            ],
            "text/plain": [
              "      index      onehot_sentiment  ... tweettype  score\n",
              "0         1  [1.0, 0.0, 0.0, 0.0]  ...     anger  0.938\n",
              "1         2  [1.0, 0.0, 0.0, 0.0]  ...     anger  0.896\n",
              "2         3  [1.0, 0.0, 0.0, 0.0]  ...     anger  0.896\n",
              "3         4  [1.0, 0.0, 0.0, 0.0]  ...     anger  0.896\n",
              "4         5  [1.0, 0.0, 0.0, 0.0]  ...     anger  0.896\n",
              "...     ...                   ...  ...       ...    ...\n",
              "3921     36  [0.0, 0.0, 0.0, 1.0]  ...   sadness  0.708\n",
              "3922     37  [0.0, 0.0, 0.0, 1.0]  ...   sadness  0.812\n",
              "3946     61  [0.0, 0.0, 0.0, 1.0]  ...   sadness  0.708\n",
              "3955     70  [0.0, 0.0, 0.0, 1.0]  ...   sadness  0.833\n",
              "3959     74  [0.0, 0.0, 0.0, 1.0]  ...   sadness  0.708\n",
              "\n",
              "[625 rows x 6 columns]"
            ]
          },
          "metadata": {},
          "execution_count": 11
        }
      ]
    },
    {
      "cell_type": "markdown",
      "metadata": {
        "id": "ed67ebe0",
        "papermill": {
          "duration": 0.021682,
          "end_time": "2021-11-11T12:38:05.900686",
          "exception": false,
          "start_time": "2021-11-11T12:38:05.879004",
          "status": "completed"
        },
        "tags": []
      },
      "source": [
        "### encode word"
      ],
      "id": "ed67ebe0"
    },
    {
      "cell_type": "code",
      "metadata": {
        "execution": {
          "iopub.execute_input": "2021-11-11T12:38:05.953051Z",
          "iopub.status.busy": "2021-11-11T12:38:05.952355Z",
          "iopub.status.idle": "2021-11-11T12:38:05.954404Z",
          "shell.execute_reply": "2021-11-11T12:38:05.954862Z",
          "shell.execute_reply.started": "2021-11-11T08:45:53.747162Z"
        },
        "id": "106ee268",
        "papermill": {
          "duration": 0.032801,
          "end_time": "2021-11-11T12:38:05.954985",
          "exception": false,
          "start_time": "2021-11-11T12:38:05.922184",
          "status": "completed"
        },
        "tags": []
      },
      "source": [
        "def create_dico(item_list):\n",
        "    \"\"\"\n",
        "    Create a dictionary of items from a list of list of items.\n",
        "    (item:count) pairs\n",
        "    \"\"\"\n",
        "    assert type(item_list) is list\n",
        "    dico = {}\n",
        "    for items in item_list:\n",
        "        for item in items:\n",
        "            if item not in dico:\n",
        "                dico[item] = 1\n",
        "            else:\n",
        "                dico[item] += 1\n",
        "    return dico\n",
        "\n",
        "def create_mapping(dico):\n",
        "    \"\"\"\n",
        "    Create a mapping (item to ID / ID to item) from a dictionary.\n",
        "    Items are ordered by decreasing frequency.\n",
        "    \"\"\"\n",
        "    sorted_items = sorted(dico.items(), key=lambda x: (-x[1], x[0]))\n",
        "    id_to_item = {i: v[0] for i, v in enumerate(sorted_items)}\n",
        "    item_to_id = {v: k for k, v in id_to_item.items()}\n",
        "    return item_to_id, id_to_item\n",
        "\n",
        "def word_mapping(sentences, lower):\n",
        "    \"\"\"\n",
        "    Create a dictionary and a mapping of words, sorted by frequency.\n",
        "    \n",
        "    return:\n",
        "    dico: dictionary of (word:frequency) pairs\n",
        "    word_to_id: dictionary of (word, id)\n",
        "    id_to_word: dictionary of (id, word)\n",
        "    \"\"\"\n",
        "    words = [[x.lower() if lower else x[0] for x in s] for s in sentences]\n",
        "    dico = create_dico(words)\n",
        "    dico['<UNK>'] = 10000000 #UNK tag for unknown words\n",
        "    word_to_id, id_to_word = create_mapping(dico)\n",
        "    print(\"Found %i unique words (%i in total)\" % (\n",
        "        len(dico), sum(len(x) for x in words)\n",
        "    ))\n",
        "    return dico, word_to_id, id_to_word"
      ],
      "id": "106ee268",
      "execution_count": null,
      "outputs": []
    },
    {
      "cell_type": "code",
      "metadata": {
        "execution": {
          "iopub.execute_input": "2021-11-11T12:38:06.008414Z",
          "iopub.status.busy": "2021-11-11T12:38:06.002131Z",
          "iopub.status.idle": "2021-11-11T12:38:06.158585Z",
          "shell.execute_reply": "2021-11-11T12:38:06.157953Z",
          "shell.execute_reply.started": "2021-11-11T08:45:53.759347Z"
        },
        "id": "5bfc3888",
        "papermill": {
          "duration": 0.182242,
          "end_time": "2021-11-11T12:38:06.158752",
          "exception": false,
          "start_time": "2021-11-11T12:38:05.976510",
          "status": "completed"
        },
        "tags": [],
        "colab": {
          "base_uri": "https://localhost:8080/"
        },
        "outputId": "3fc373ab-ac8e-4b49-fbcf-731a54c5b363"
      },
      "source": [
        "import nltk\n",
        "nltk.download('punkt')"
      ],
      "id": "5bfc3888",
      "execution_count": null,
      "outputs": [
        {
          "output_type": "stream",
          "name": "stdout",
          "text": [
            "[nltk_data] Downloading package punkt to /root/nltk_data...\n",
            "[nltk_data]   Unzipping tokenizers/punkt.zip.\n"
          ]
        },
        {
          "output_type": "execute_result",
          "data": {
            "text/plain": [
              "True"
            ]
          },
          "metadata": {},
          "execution_count": 13
        }
      ]
    },
    {
      "cell_type": "code",
      "metadata": {
        "execution": {
          "iopub.execute_input": "2021-11-11T12:38:06.209187Z",
          "iopub.status.busy": "2021-11-11T12:38:06.208588Z",
          "iopub.status.idle": "2021-11-11T12:38:10.115516Z",
          "shell.execute_reply": "2021-11-11T12:38:10.115967Z",
          "shell.execute_reply.started": "2021-11-11T08:45:53.900373Z"
        },
        "id": "be4f3359",
        "papermill": {
          "duration": 3.934021,
          "end_time": "2021-11-11T12:38:10.116140",
          "exception": false,
          "start_time": "2021-11-11T12:38:06.182119",
          "status": "completed"
        },
        "tags": []
      },
      "source": [
        "## tokenising sentences\n",
        "raw_content = datanew['tweet'].to_numpy()\n",
        "\n",
        "processed_docs = []\n",
        "for doc in raw_content:\n",
        "    tokens = word_tokenize(doc)\n",
        "#        filtered = [word for word in tokens if word not in stop_words]\n",
        "#        stemmed = [stemmer.stem(word) for word in filtered]\n",
        "    processed_docs.append(tokens)"
      ],
      "id": "be4f3359",
      "execution_count": null,
      "outputs": []
    },
    {
      "cell_type": "code",
      "metadata": {
        "execution": {
          "iopub.execute_input": "2021-11-11T12:38:10.188401Z",
          "iopub.status.busy": "2021-11-11T12:38:10.183183Z",
          "iopub.status.idle": "2021-11-11T12:38:10.354285Z",
          "shell.execute_reply": "2021-11-11T12:38:10.354911Z",
          "shell.execute_reply.started": "2021-11-11T08:45:57.844923Z"
        },
        "id": "6ce5008d",
        "papermill": {
          "duration": 0.213568,
          "end_time": "2021-11-11T12:38:10.355105",
          "exception": false,
          "start_time": "2021-11-11T12:38:10.141537",
          "status": "completed"
        },
        "tags": [],
        "colab": {
          "base_uri": "https://localhost:8080/"
        },
        "outputId": "6b6429d4-1093-452a-8f01-c2406aea1101"
      },
      "source": [
        "dico_words,word_to_id,id_to_word = word_mapping(processed_docs, True)"
      ],
      "id": "6ce5008d",
      "execution_count": null,
      "outputs": [
        {
          "output_type": "stream",
          "name": "stdout",
          "text": [
            "Found 2790 unique words (12393 in total)\n"
          ]
        }
      ]
    },
    {
      "cell_type": "code",
      "metadata": {
        "execution": {
          "iopub.execute_input": "2021-11-11T12:38:10.406594Z",
          "iopub.status.busy": "2021-11-11T12:38:10.405185Z",
          "iopub.status.idle": "2021-11-11T12:38:10.407281Z",
          "shell.execute_reply": "2021-11-11T12:38:10.407686Z",
          "shell.execute_reply.started": "2021-11-11T08:45:58.045378Z"
        },
        "id": "8d88f9bd",
        "papermill": {
          "duration": 0.029045,
          "end_time": "2021-11-11T12:38:10.407808",
          "exception": false,
          "start_time": "2021-11-11T12:38:10.378763",
          "status": "completed"
        },
        "tags": []
      },
      "source": [
        "def lower_case(x,lower=False):\n",
        "    if lower:\n",
        "        return x.lower()  \n",
        "    else:\n",
        "        return x"
      ],
      "id": "8d88f9bd",
      "execution_count": null,
      "outputs": []
    },
    {
      "cell_type": "code",
      "metadata": {
        "execution": {
          "iopub.execute_input": "2021-11-11T12:38:10.470569Z",
          "iopub.status.busy": "2021-11-11T12:38:10.469697Z",
          "iopub.status.idle": "2021-11-11T12:38:11.087912Z",
          "shell.execute_reply": "2021-11-11T12:38:11.088508Z",
          "shell.execute_reply.started": "2021-11-11T08:45:58.055339Z"
        },
        "id": "9a46c214",
        "papermill": {
          "duration": 0.657769,
          "end_time": "2021-11-11T12:38:11.088699",
          "exception": false,
          "start_time": "2021-11-11T12:38:10.430930",
          "status": "completed"
        },
        "tags": [],
        "colab": {
          "base_uri": "https://localhost:8080/"
        },
        "outputId": "8510aea4-994d-4bd4-b8a6-df73d5da7349"
      },
      "source": [
        "def prepare_dataset(sentences, word_to_id, lower=False):\n",
        "    \"\"\"\n",
        "    Prepare the dataset. Return a list of lists of dictionaries containing:\n",
        "        - word indexes\n",
        "        - word char indexes\n",
        "        - tag indexes\n",
        "    \"\"\"\n",
        "    data = []\n",
        "    for s in sentences:\n",
        "        str_words = [w for w in s]\n",
        "        words = [word_to_id[lower_case(w,lower) if lower_case(w,lower) in word_to_id else '<UNK>']\n",
        "                 for w in str_words]\n",
        "        data.append({\n",
        "            'str_words': str_words, #list of all words in the sentence\n",
        "            'words': words, #list of word index for all words in the sentence\n",
        "        })\n",
        "    return data\n",
        "\n",
        "data = prepare_dataset(\n",
        "    processed_docs, word_to_id, True\n",
        ")\n",
        "\n",
        "print(\"{} sentences\".format(len(data)))"
      ],
      "id": "9a46c214",
      "execution_count": null,
      "outputs": [
        {
          "output_type": "stream",
          "name": "stdout",
          "text": [
            "625 sentences\n"
          ]
        }
      ]
    },
    {
      "cell_type": "code",
      "metadata": {
        "execution": {
          "iopub.execute_input": "2021-11-11T12:38:11.143704Z",
          "iopub.status.busy": "2021-11-11T12:38:11.139629Z",
          "iopub.status.idle": "2021-11-11T12:39:18.354055Z",
          "shell.execute_reply": "2021-11-11T12:39:18.354678Z",
          "shell.execute_reply.started": "2021-11-11T08:45:58.511265Z"
        },
        "id": "85ff8971",
        "papermill": {
          "duration": 67.241656,
          "end_time": "2021-11-11T12:39:18.354903",
          "exception": false,
          "start_time": "2021-11-11T12:38:11.113247",
          "status": "completed"
        },
        "scrolled": true,
        "tags": [],
        "colab": {
          "base_uri": "https://localhost:8080/"
        },
        "outputId": "de5dbcb7-d53a-4b0c-9a12-17b257ed8cb9"
      },
      "source": [
        "all_word_embeds = {}\n",
        "for i, line in enumerate(codecs.open('/content/drive/MyDrive/flowerdata/glove.6B.300d.txt', 'r', 'utf-8')):\n",
        "    s = line.strip().split()\n",
        "    if len(s) == parameters['word_dim'] + 1:\n",
        "        all_word_embeds[s[0]] = np.array([float(i) for i in s[1:]])\n",
        "\n",
        "#Intializing Word Embedding Matrix\n",
        "word_embeds = np.random.uniform(-np.sqrt(0.06), np.sqrt(0.06), (len(word_to_id), parameters['word_dim']))\n",
        "\n",
        "for w in word_to_id:\n",
        "    if w in all_word_embeds:\n",
        "        word_embeds[word_to_id[w]] = all_word_embeds[w]\n",
        "    elif w.lower() in all_word_embeds:\n",
        "        word_embeds[word_to_id[w]] = all_word_embeds[w.lower()]\n",
        "\n",
        "print('Loaded %i pretrained embeddings.' % len(all_word_embeds))"
      ],
      "id": "85ff8971",
      "execution_count": null,
      "outputs": [
        {
          "output_type": "stream",
          "name": "stdout",
          "text": [
            "Loaded 400000 pretrained embeddings.\n"
          ]
        }
      ]
    },
    {
      "cell_type": "code",
      "metadata": {
        "execution": {
          "iopub.execute_input": "2021-11-11T12:39:18.456465Z",
          "iopub.status.busy": "2021-11-11T12:39:18.446243Z",
          "iopub.status.idle": "2021-11-11T12:39:18.513859Z",
          "shell.execute_reply": "2021-11-11T12:39:18.514266Z",
          "shell.execute_reply.started": "2021-11-11T08:46:58.088603Z"
        },
        "id": "3f61c043",
        "papermill": {
          "duration": 0.135332,
          "end_time": "2021-11-11T12:39:18.514419",
          "exception": false,
          "start_time": "2021-11-11T12:39:18.379087",
          "status": "completed"
        },
        "tags": []
      },
      "source": [
        "word_indices = [i['words'] for i in data]\n",
        "padded_indices = []\n",
        "for sent in word_indices:\n",
        "    padding_size = 110 - len(sent)\n",
        "    padded = sent + [0 for i in range(padding_size)]\n",
        "    padded_indices.append(padded)"
      ],
      "id": "3f61c043",
      "execution_count": null,
      "outputs": []
    },
    {
      "cell_type": "code",
      "metadata": {
        "execution": {
          "iopub.execute_input": "2021-11-11T12:39:18.686092Z",
          "iopub.status.busy": "2021-11-11T12:39:18.685407Z",
          "iopub.status.idle": "2021-11-11T12:39:18.712838Z",
          "shell.execute_reply": "2021-11-11T12:39:18.712401Z",
          "shell.execute_reply.started": "2021-11-11T08:46:58.210055Z"
        },
        "id": "23b04934",
        "papermill": {
          "duration": 0.174761,
          "end_time": "2021-11-11T12:39:18.712964",
          "exception": false,
          "start_time": "2021-11-11T12:39:18.538203",
          "status": "completed"
        },
        "tags": [],
        "colab": {
          "base_uri": "https://localhost:8080/",
          "height": 581
        },
        "outputId": "a2354669-9c51-4fcc-ac74-6853535698a5"
      },
      "source": [
        "datanew.insert(1, \"padded_indices\", list(padded_indices))\n",
        "datanew"
      ],
      "id": "23b04934",
      "execution_count": null,
      "outputs": [
        {
          "output_type": "execute_result",
          "data": {
            "text/html": [
              "<div>\n",
              "<style scoped>\n",
              "    .dataframe tbody tr th:only-of-type {\n",
              "        vertical-align: middle;\n",
              "    }\n",
              "\n",
              "    .dataframe tbody tr th {\n",
              "        vertical-align: top;\n",
              "    }\n",
              "\n",
              "    .dataframe thead th {\n",
              "        text-align: right;\n",
              "    }\n",
              "</style>\n",
              "<table border=\"1\" class=\"dataframe\">\n",
              "  <thead>\n",
              "    <tr style=\"text-align: right;\">\n",
              "      <th></th>\n",
              "      <th>index</th>\n",
              "      <th>padded_indices</th>\n",
              "      <th>onehot_sentiment</th>\n",
              "      <th>id</th>\n",
              "      <th>tweet</th>\n",
              "      <th>tweettype</th>\n",
              "      <th>score</th>\n",
              "    </tr>\n",
              "  </thead>\n",
              "  <tbody>\n",
              "    <tr>\n",
              "      <th>0</th>\n",
              "      <td>1</td>\n",
              "      <td>[75, 5, 762, 6, 108, 5, 792, 6, 516, 12, 760, ...</td>\n",
              "      <td>[1.0, 0.0, 0.0, 0.0]</td>\n",
              "      <td>10000</td>\n",
              "      <td>How the fu*k! Who the heck! moved my fridge!.....</td>\n",
              "      <td>anger</td>\n",
              "      <td>0.938</td>\n",
              "    </tr>\n",
              "    <tr>\n",
              "      <th>1</th>\n",
              "      <td>2</td>\n",
              "      <td>[18, 12, 383, 1017, 718, 28, 677, 172, 5, 236,...</td>\n",
              "      <td>[1.0, 0.0, 0.0, 0.0]</td>\n",
              "      <td>10001</td>\n",
              "      <td>So my Indian Uber driver just called someone t...</td>\n",
              "      <td>anger</td>\n",
              "      <td>0.896</td>\n",
              "    </tr>\n",
              "    <tr>\n",
              "      <th>2</th>\n",
              "      <td>3</td>\n",
              "      <td>[4, 1504, 2, 633, 19, 12, 2165, 7, 27, 368, 7,...</td>\n",
              "      <td>[1.0, 0.0, 0.0, 0.0]</td>\n",
              "      <td>10002</td>\n",
              "      <td>@DPD_UK I asked for my parcel to be delivered ...</td>\n",
              "      <td>anger</td>\n",
              "      <td>0.896</td>\n",
              "    </tr>\n",
              "    <tr>\n",
              "      <th>3</th>\n",
              "      <td>4</td>\n",
              "      <td>[18, 722, 1029, 674, 1035, 913, 5, 482, 620, 1...</td>\n",
              "      <td>[1.0, 0.0, 0.0, 0.0]</td>\n",
              "      <td>10003</td>\n",
              "      <td>so ef whichever butt wipe pulled the fire alar...</td>\n",
              "      <td>anger</td>\n",
              "      <td>0.896</td>\n",
              "    </tr>\n",
              "    <tr>\n",
              "      <th>4</th>\n",
              "      <td>5</td>\n",
              "      <td>[30, 21, 1864, 4, 1309, 132, 335, 5, 284, 135,...</td>\n",
              "      <td>[1.0, 0.0, 0.0, 0.0]</td>\n",
              "      <td>10004</td>\n",
              "      <td>Don't join @BTCare they put the phone down on ...</td>\n",
              "      <td>anger</td>\n",
              "      <td>0.896</td>\n",
              "    </tr>\n",
              "    <tr>\n",
              "      <th>...</th>\n",
              "      <td>...</td>\n",
              "      <td>...</td>\n",
              "      <td>...</td>\n",
              "      <td>...</td>\n",
              "      <td>...</td>\n",
              "      <td>...</td>\n",
              "      <td>...</td>\n",
              "    </tr>\n",
              "    <tr>\n",
              "      <th>3921</th>\n",
              "      <td>36</td>\n",
              "      <td>[16, 64, 45, 56, 118, 8, 180, 2017, 0, 0, 0, 0...</td>\n",
              "      <td>[0.0, 0.0, 0.0, 1.0]</td>\n",
              "      <td>40821</td>\n",
              "      <td>It feel like we lost a family member🙄😂</td>\n",
              "      <td>sadness</td>\n",
              "      <td>0.708</td>\n",
              "    </tr>\n",
              "    <tr>\n",
              "      <th>3922</th>\n",
              "      <td>37</td>\n",
              "      <td>[12, 87, 2656, 51, 37, 7, 2596, 0, 0, 0, 0, 0,...</td>\n",
              "      <td>[0.0, 0.0, 0.0, 1.0]</td>\n",
              "      <td>40822</td>\n",
              "      <td>My life went from happy to unhappy..</td>\n",
              "      <td>sadness</td>\n",
              "      <td>0.812</td>\n",
              "    </tr>\n",
              "    <tr>\n",
              "      <th>3946</th>\n",
              "      <td>61</td>\n",
              "      <td>[130, 13, 2459, 15, 1513, 1060, 0, 0, 0, 0, 0,...</td>\n",
              "      <td>[0.0, 0.0, 0.0, 1.0]</td>\n",
              "      <td>40846</td>\n",
              "      <td>Should of stayed in Dubai 😞</td>\n",
              "      <td>sadness</td>\n",
              "      <td>0.708</td>\n",
              "    </tr>\n",
              "    <tr>\n",
              "      <th>3955</th>\n",
              "      <td>70</td>\n",
              "      <td>[1373, 630, 28, 2271, 1953, 17, 49, 74, 2, 32,...</td>\n",
              "      <td>[0.0, 0.0, 0.0, 1.0]</td>\n",
              "      <td>40855</td>\n",
              "      <td>Common app just randomly logged me out as I wa...</td>\n",
              "      <td>sadness</td>\n",
              "      <td>0.833</td>\n",
              "    </tr>\n",
              "    <tr>\n",
              "      <th>3959</th>\n",
              "      <td>74</td>\n",
              "      <td>[4, 1887, 101, 75, 1464, 215, 9, 33, 82, 2212,...</td>\n",
              "      <td>[0.0, 0.0, 0.0, 1.0]</td>\n",
              "      <td>40859</td>\n",
              "      <td>@KeithOlbermann depressing how despicable Trum...</td>\n",
              "      <td>sadness</td>\n",
              "      <td>0.708</td>\n",
              "    </tr>\n",
              "  </tbody>\n",
              "</table>\n",
              "<p>625 rows × 7 columns</p>\n",
              "</div>"
            ],
            "text/plain": [
              "      index                                     padded_indices  ... tweettype  score\n",
              "0         1  [75, 5, 762, 6, 108, 5, 792, 6, 516, 12, 760, ...  ...     anger  0.938\n",
              "1         2  [18, 12, 383, 1017, 718, 28, 677, 172, 5, 236,...  ...     anger  0.896\n",
              "2         3  [4, 1504, 2, 633, 19, 12, 2165, 7, 27, 368, 7,...  ...     anger  0.896\n",
              "3         4  [18, 722, 1029, 674, 1035, 913, 5, 482, 620, 1...  ...     anger  0.896\n",
              "4         5  [30, 21, 1864, 4, 1309, 132, 335, 5, 284, 135,...  ...     anger  0.896\n",
              "...     ...                                                ...  ...       ...    ...\n",
              "3921     36  [16, 64, 45, 56, 118, 8, 180, 2017, 0, 0, 0, 0...  ...   sadness  0.708\n",
              "3922     37  [12, 87, 2656, 51, 37, 7, 2596, 0, 0, 0, 0, 0,...  ...   sadness  0.812\n",
              "3946     61  [130, 13, 2459, 15, 1513, 1060, 0, 0, 0, 0, 0,...  ...   sadness  0.708\n",
              "3955     70  [1373, 630, 28, 2271, 1953, 17, 49, 74, 2, 32,...  ...   sadness  0.833\n",
              "3959     74  [4, 1887, 101, 75, 1464, 215, 9, 33, 82, 2212,...  ...   sadness  0.708\n",
              "\n",
              "[625 rows x 7 columns]"
            ]
          },
          "metadata": {},
          "execution_count": 20
        }
      ]
    },
    {
      "cell_type": "code",
      "metadata": {
        "execution": {
          "iopub.execute_input": "2021-11-11T12:39:18.773274Z",
          "iopub.status.busy": "2021-11-11T12:39:18.769829Z",
          "iopub.status.idle": "2021-11-11T12:39:18.776039Z",
          "shell.execute_reply": "2021-11-11T12:39:18.776614Z",
          "shell.execute_reply.started": "2021-11-11T08:46:58.362645Z"
        },
        "id": "804db8d5",
        "papermill": {
          "duration": 0.039886,
          "end_time": "2021-11-11T12:39:18.776778",
          "exception": false,
          "start_time": "2021-11-11T12:39:18.736892",
          "status": "completed"
        },
        "tags": [],
        "colab": {
          "base_uri": "https://localhost:8080/"
        },
        "outputId": "36240638-1ad7-4e40-89a5-7c3099d58fca"
      },
      "source": [
        "from sklearn.model_selection import train_test_split\n",
        "X = datanew['padded_indices'].to_numpy()\n",
        "y = datanew['onehot_sentiment'].to_numpy()\n",
        "X_train, X_test, y_train, y_test = train_test_split(X, y, test_size=0.2, random_state=42)\n",
        "print(\"X train: \", len(X_train), X_train.shape)\n",
        "print(\"y train: \", len(y_train), y_train.shape)\n",
        "print(\"y test: \", len(y_test), y_test.shape)"
      ],
      "id": "804db8d5",
      "execution_count": null,
      "outputs": [
        {
          "output_type": "stream",
          "name": "stdout",
          "text": [
            "X train:  500 (500,)\n",
            "y train:  500 (500,)\n",
            "y test:  125 (125,)\n"
          ]
        }
      ]
    },
    {
      "cell_type": "code",
      "metadata": {
        "execution": {
          "iopub.execute_input": "2021-11-11T12:39:18.853582Z",
          "iopub.status.busy": "2021-11-11T12:39:18.848558Z",
          "iopub.status.idle": "2021-11-11T12:39:19.331163Z",
          "shell.execute_reply": "2021-11-11T12:39:19.331797Z",
          "shell.execute_reply.started": "2021-11-11T08:46:58.377256Z"
        },
        "id": "19899b01",
        "papermill": {
          "duration": 0.529986,
          "end_time": "2021-11-11T12:39:19.332007",
          "exception": false,
          "start_time": "2021-11-11T12:39:18.802021",
          "status": "completed"
        },
        "tags": [],
        "colab": {
          "base_uri": "https://localhost:8080/"
        },
        "outputId": "300579c2-2c3d-4c4c-a6e4-7819f6bf3751"
      },
      "source": [
        "X_train = np.array([np.array(x) for x in X_train])\n",
        "y_train = np.array([np.array(x) for x in y_train])\n",
        "X_test = np.array([np.array(x) for x in X_test])\n",
        "y_test = np.array([np.array(x) for x in y_test])\n",
        "\n",
        "print(X_train.shape)\n",
        "print(y_train.shape)\n",
        "print(X_test.shape)\n",
        "print(y_test.shape)"
      ],
      "id": "19899b01",
      "execution_count": null,
      "outputs": [
        {
          "output_type": "stream",
          "name": "stdout",
          "text": [
            "(500, 110)\n",
            "(500, 4)\n",
            "(125, 110)\n",
            "(125, 4)\n"
          ]
        }
      ]
    },
    {
      "cell_type": "markdown",
      "metadata": {
        "id": "ca5ac836",
        "papermill": {
          "duration": 0.023931,
          "end_time": "2021-11-11T12:39:19.381178",
          "exception": false,
          "start_time": "2021-11-11T12:39:19.357247",
          "status": "completed"
        },
        "tags": []
      },
      "source": [
        "### Zhou model"
      ],
      "id": "ca5ac836"
    },
    {
      "cell_type": "code",
      "metadata": {
        "execution": {
          "iopub.execute_input": "2021-11-11T12:39:19.433717Z",
          "iopub.status.busy": "2021-11-11T12:39:19.432956Z",
          "iopub.status.idle": "2021-11-11T12:39:19.434993Z",
          "shell.execute_reply": "2021-11-11T12:39:19.435370Z",
          "shell.execute_reply.started": "2021-11-11T08:46:58.880177Z"
        },
        "id": "93168903",
        "papermill": {
          "duration": 0.030126,
          "end_time": "2021-11-11T12:39:19.435492",
          "exception": false,
          "start_time": "2021-11-11T12:39:19.405366",
          "status": "completed"
        },
        "tags": []
      },
      "source": [
        "# so that dont have to rerun\n",
        "import tensorflow as tf\n",
        "tf.compat.v1.reset_default_graph()"
      ],
      "id": "93168903",
      "execution_count": null,
      "outputs": []
    },
    {
      "cell_type": "code",
      "metadata": {
        "execution": {
          "iopub.execute_input": "2021-11-11T12:39:19.487353Z",
          "iopub.status.busy": "2021-11-11T12:39:19.486620Z",
          "iopub.status.idle": "2021-11-11T12:39:30.257980Z",
          "shell.execute_reply": "2021-11-11T12:39:30.257436Z",
          "shell.execute_reply.started": "2021-11-11T12:37:21.437346Z"
        },
        "papermill": {
          "duration": 10.798791,
          "end_time": "2021-11-11T12:39:30.258114",
          "exception": false,
          "start_time": "2021-11-11T12:39:19.459323",
          "status": "completed"
        },
        "tags": [],
        "colab": {
          "base_uri": "https://localhost:8080/"
        },
        "id": "11d78a64",
        "outputId": "253dd0aa-bf07-439d-df3c-eb2b2474aa58"
      },
      "source": [
        "!pip install keras_self_attention"
      ],
      "id": "11d78a64",
      "execution_count": null,
      "outputs": [
        {
          "output_type": "stream",
          "name": "stdout",
          "text": [
            "Collecting keras_self_attention\n",
            "  Downloading keras-self-attention-0.50.0.tar.gz (12 kB)\n",
            "Requirement already satisfied: numpy in /usr/local/lib/python3.7/dist-packages (from keras_self_attention) (1.19.5)\n",
            "Requirement already satisfied: Keras in /usr/local/lib/python3.7/dist-packages (from keras_self_attention) (2.7.0)\n",
            "Building wheels for collected packages: keras-self-attention\n",
            "  Building wheel for keras-self-attention (setup.py) ... \u001b[?25l\u001b[?25hdone\n",
            "  Created wheel for keras-self-attention: filename=keras_self_attention-0.50.0-py3-none-any.whl size=19414 sha256=f1b5e24fac46d9d1331df170ed3f9520ca371503b7315d94296663bd85294f47\n",
            "  Stored in directory: /root/.cache/pip/wheels/92/7a/a3/231bef5803298e7ec1815215bc0613239cb1e9c03c57b13c14\n",
            "Successfully built keras-self-attention\n",
            "Installing collected packages: keras-self-attention\n",
            "Successfully installed keras-self-attention-0.50.0\n"
          ]
        }
      ]
    },
    {
      "cell_type": "code",
      "metadata": {
        "execution": {
          "iopub.execute_input": "2021-11-11T12:39:30.341593Z",
          "iopub.status.busy": "2021-11-11T12:39:30.340726Z",
          "iopub.status.idle": "2021-11-11T12:39:40.011058Z",
          "shell.execute_reply": "2021-11-11T12:39:40.011695Z",
          "shell.execute_reply.started": "2021-11-11T08:46:58.886647Z"
        },
        "id": "0a4fab29",
        "papermill": {
          "duration": 9.72689,
          "end_time": "2021-11-11T12:39:40.011903",
          "exception": false,
          "start_time": "2021-11-11T12:39:30.285013",
          "status": "completed"
        },
        "tags": [],
        "colab": {
          "base_uri": "https://localhost:8080/"
        },
        "outputId": "a4530bc1-bb22-418d-bf96-70db54f96338"
      },
      "source": [
        "import tensorflow as tf\n",
        "from tensorflow.keras import layers\n",
        "import keras\n",
        "from keras_self_attention import SeqSelfAttention, SeqWeightedAttention\n",
        "\n",
        "\n",
        "class ZhouBLSTMCNNModel:\n",
        "\n",
        "    def __init__(self,\n",
        "        embedding,\n",
        "        em_drop_rate = 0.5,\n",
        "        lstm_units   = 300,\n",
        "        lstm_drop_rate = 0.5,\n",
        "        conv_size    = (3, 3),\n",
        "        conv_filters = 100,\n",
        "        pool_size    = (2, 2),\n",
        "        pool_drop_rate = 0.5):\n",
        "        '''Constructor.\n",
        "        # Parameters:\n",
        "        embedding: Numpy array representing the embedding.\n",
        "        em_drop_rate: Drop rate after the embedding layer.\n",
        "        lstm_units: Size of the internal states of the LSTM cells.\n",
        "        lstm_drop_rate: Drop rate after the lstm layer.\n",
        "        conv_size: Size of the convolutions.\n",
        "        conv_filters: Number of convolutions filters.\n",
        "        pool_size: Size for the max pooling layer.\n",
        "        pool_drop_rate: Drop rate of the max pooling layer.\n",
        "        '''\n",
        "        self._embedding      = embedding\n",
        "        self._em_drop_rate   = em_drop_rate\n",
        "        self._lstm_units     = lstm_units\n",
        "        self._lstm_drop_rate = lstm_drop_rate\n",
        "        self._conv_size      = conv_size\n",
        "        self._conv_filters   = conv_filters\n",
        "        self._pool_size      = pool_size\n",
        "        self._pool_drop_rate = pool_drop_rate\n",
        "\n",
        "    def __call__(self, input):\n",
        "        self._embedding_tf = self._create_embedding_layer(\n",
        "            self._em_drop_rate, self._embedding, input)\n",
        "\n",
        "        self._sequences_tf = self._create_blstm_layer(\n",
        "            self._lstm_units,\n",
        "            self._lstm_drop_rate,\n",
        "            self._embedding_tf)\n",
        "\n",
        "        self._convolution_tf = self._create_convolutional_layer(\n",
        "            self._conv_size,\n",
        "            self._conv_filters,\n",
        "            self._sequences_tf)\n",
        "        \n",
        "        self._pooling_tf = self._create_maxpooling_layer(\n",
        "            self._pool_size,\n",
        "            self._pool_drop_rate,\n",
        "            self._convolution_tf)\n",
        "\n",
        "        self._flatten_tf = self._create_flatten_layer(self._pooling_tf)\n",
        "\n",
        "        return self._flatten_tf\n",
        "\n",
        "    def summary(self):\n",
        "        print(\"embedding: \" + str(self._embedding_tf.shape))\n",
        "        print(\"lstm: \" + str(self._sequences_tf.shape))\n",
        "        print(\"conv: \" + str(self._convolution_tf.shape))\n",
        "        print(\"pooling: \" + str(self._pooling_tf.shape))\n",
        "        print(\"flatten: \" + str(self._flatten_tf.shape))\n",
        "\n",
        "    # this function converts each word from input_x into dense vector of dimension 300 (dimension depending on word2vec)\n",
        "    # embedding  = word_vector\n",
        "    def _create_embedding_layer(self, em_drop_rate, embedding, input_x):\n",
        "        embedding = tf.Variable(initial_value=embedding)\n",
        "\n",
        "        embedded_chars = tf.nn.embedding_lookup(  # lookup word_vector(embedding) by index (input_x)\n",
        "            embedding, tf.cast(input_x, 'int32'))\n",
        "\n",
        "        return tf.nn.dropout(embedded_chars, rate=em_drop_rate)\n",
        "\n",
        "    # bidirectional lstm layer\n",
        "    # \n",
        "    def _create_blstm_layer(self, lstm_units, lstm_drop_rate, embedding):\n",
        "        lstm_cell = tf.compat.v1.nn.rnn_cell.LSTMCell(lstm_units)\n",
        "        sequence = tf.unstack(embedding, axis=1) #embedded input words\n",
        "        \n",
        "        # hs, _, _ are outputs, output_state_fw, output_state_bw respectively\n",
        "        hs, _, _ = tf.compat.v1.nn.static_bidirectional_rnn(lstm_cell, lstm_cell, #forward and backward direction\n",
        "            sequence, #input\n",
        "            dtype=tf.float32)\n",
        "        \n",
        "        hs = tf.stack(\n",
        "            values=hs,\n",
        "            axis=1)\n",
        "        ss = tf.math.reduce_sum(\n",
        "            tf.reshape(hs, shape=[-1, hs.shape[1], 2, lstm_units]),\n",
        "            axis=2\n",
        "        )\n",
        "        \n",
        "        # attn = SeqSelfAttention(attention_activation='sigmoid',attention_type=SeqSelfAttention.ATTENTION_TYPE_MUL)(ss)\n",
        "\n",
        "        return tf.nn.dropout(ss, rate=lstm_drop_rate)\n",
        "\n",
        "    def _create_convolutional_layer(self,\n",
        "        conv_size, num_filters, tensor):\n",
        "        \n",
        "        print(str(tensor.shape))\n",
        "\n",
        "        filter_heigth = conv_size[0]\n",
        "        filter_width  = conv_size[1]\n",
        "\n",
        "        filter_shape = [filter_heigth, filter_width,\n",
        "            1, num_filters]\n",
        "\n",
        "        W = tf.Variable(\n",
        "            initial_value=tf.random.truncated_normal(\n",
        "                shape=filter_shape,\n",
        "                stddev=0.1))\n",
        "        b = tf.Variable(\n",
        "            initial_value=tf.random.truncated_normal(\n",
        "                shape=[num_filters]))\n",
        "\n",
        "        tensor_expanded = tf.expand_dims(tensor, -1)\n",
        "        conv = tf.nn.conv2d(\n",
        "            input=tensor_expanded,\n",
        "            filters=W, #####filter to filters, idk if it changed stuff\n",
        "            strides=[1,1,1,1],\n",
        "            padding='VALID')\n",
        "\n",
        "        bias = tf.nn.bias_add(conv, b)\n",
        "        c = tf.nn.relu(bias)\n",
        "\n",
        "        return c\n",
        "\n",
        "    def _create_maxpooling_layer(self, size, pool_drop_rate, conv):\n",
        "        pooled = tf.nn.max_pool3d(\n",
        "            input=tf.expand_dims(conv, -1),\n",
        "            ksize=[1, size[0], size[1], conv.shape[3], 1],\n",
        "            strides=[1, size[0], size[1], conv.shape[3], 1],\n",
        "            padding='VALID')\n",
        "        \n",
        "        return tf.nn.dropout(pooled, rate=pool_drop_rate)\n",
        "\n",
        "    def _create_flatten_layer(self, tensor):\n",
        "        return tf.reshape(tensor, [-1, tensor.shape[1] * tensor.shape[2]])\n",
        "\n",
        "\n",
        "if __name__ == '__main__':\n",
        "    embedding_size  = 300\n",
        "    num_words       = 1000\n",
        "    sentence_length = 10\n",
        "\n",
        "    embedding = [\n",
        "        [float(i) for i in range(embedding_size)] for _ in range(num_words)\n",
        "    ]\n",
        "    data = [\n",
        "        [i     for i in range(sentence_length)],\n",
        "        [i + 1 for i in range(sentence_length)]\n",
        "    ]\n",
        "\n",
        "    model = ZhouBLSTMCNNModel(embedding)\n",
        "    model(data)\n",
        "    model.summary()"
      ],
      "id": "0a4fab29",
      "execution_count": null,
      "outputs": [
        {
          "output_type": "stream",
          "name": "stdout",
          "text": [
            "WARNING:tensorflow:<keras.layers.legacy_rnn.rnn_cell_impl.LSTMCell object at 0x7fc73328a350>: Note that this cell is not optimized for performance. Please use tf.contrib.cudnn_rnn.CudnnLSTM for better performance on GPU.\n",
            "WARNING:tensorflow:From <ipython-input-25-1ba843cf151c>:87: static_bidirectional_rnn (from tensorflow.python.ops.rnn) is deprecated and will be removed in a future version.\n",
            "Instructions for updating:\n",
            "Please use `keras.layers.Bidirectional(keras.layers.RNN(cell, unroll=True))`, which is equivalent to this API\n",
            "WARNING:tensorflow:From /usr/local/lib/python3.7/dist-packages/tensorflow/python/ops/rnn.py:1658: static_rnn (from tensorflow.python.ops.rnn) is deprecated and will be removed in a future version.\n",
            "Instructions for updating:\n",
            "Please use `keras.layers.RNN(cell, unroll=True)`, which is equivalent to this API\n"
          ]
        },
        {
          "output_type": "stream",
          "name": "stderr",
          "text": [
            "/usr/local/lib/python3.7/dist-packages/ipykernel_launcher.py:81: UserWarning: `tf.nn.rnn_cell.LSTMCell` is deprecated and will be removed in a future version. This class is equivalent as `tf.keras.layers.LSTMCell`, and will be replaced by that in Tensorflow 2.0.\n",
            "/usr/local/lib/python3.7/dist-packages/keras/layers/legacy_rnn/rnn_cell_impl.py:988: UserWarning: `layer.add_variable` is deprecated and will be removed in a future version. Please use `layer.add_weight` method instead.\n",
            "  partitioner=maybe_partitioner)\n",
            "/usr/local/lib/python3.7/dist-packages/keras/layers/legacy_rnn/rnn_cell_impl.py:996: UserWarning: `layer.add_variable` is deprecated and will be removed in a future version. Please use `layer.add_weight` method instead.\n",
            "  initializer=initializer)\n"
          ]
        },
        {
          "output_type": "stream",
          "name": "stdout",
          "text": [
            "(2, 10, 300)\n",
            "embedding: (2, 10, 300)\n",
            "lstm: (2, 10, 300)\n",
            "conv: (2, 8, 298, 100)\n",
            "pooling: (2, 4, 149, 1, 1)\n",
            "flatten: (2, 596)\n"
          ]
        }
      ]
    },
    {
      "cell_type": "code",
      "metadata": {
        "execution": {
          "iopub.execute_input": "2021-11-11T12:39:40.096868Z",
          "iopub.status.busy": "2021-11-11T12:39:40.096142Z",
          "iopub.status.idle": "2021-11-11T12:39:40.639698Z",
          "shell.execute_reply": "2021-11-11T12:39:40.640348Z",
          "shell.execute_reply.started": "2021-11-11T08:47:01.136525Z"
        },
        "id": "bab9483b",
        "papermill": {
          "duration": 0.599019,
          "end_time": "2021-11-11T12:39:40.640515",
          "exception": false,
          "start_time": "2021-11-11T12:39:40.041496",
          "status": "completed"
        },
        "tags": []
      },
      "source": [
        "import tensorflow as tf\n",
        "from numba import jit, cuda\n",
        "\n",
        "class Classifier:\n",
        "\n",
        "    def __init__(self, model, input_length, output_length):\n",
        "        '''Constructor.\n",
        "        # Parameters:\n",
        "        input_length: sentence length (max number of words in sentence)\n",
        "        output_length: number of classes of sentiment\n",
        "        '''\n",
        "        self.model = model\n",
        "        self.input_length = input_length\n",
        "        self.output_length = output_length\n",
        "\n",
        "    def compile(self, batch_size=32):\n",
        "        tf.compat.v1.disable_eager_execution()\n",
        "        self._ds_x = tf.compat.v1.placeholder(tf.float32, [None, self.input_length])\n",
        "        self._ds_y = tf.compat.v1.placeholder(tf.float32, [None, self.output_length])\n",
        "\n",
        "        ds = tf.compat.v1.data.Dataset.from_tensor_slices((self._ds_x, self._ds_y))\n",
        "        ds = ds.batch(batch_size)\n",
        "\n",
        "        self._ds_it = ds.make_initializable_iterator()\n",
        "        self._input, self._labels = self._ds_it.get_next()\n",
        "\n",
        "        self._features = self.model(self._input)\n",
        "        self._output = _create_dense_layer(self._features, self.output_length)\n",
        "\n",
        "        self._create_acc_computations()\n",
        "        self._create_backpropagation()\n",
        "\n",
        "        self._session = tf.compat.v1.Session()\n",
        "        self._session.run(tf.compat.v1.global_variables_initializer())\n",
        "        self._session.run(tf.compat.v1.local_variables_initializer())\n",
        "\n",
        "    def _create_acc_computations(self):\n",
        "        self._predictions = tf.argmax(self._output, 1)\n",
        "        labels = tf.argmax(self._labels, 1)\n",
        "        self._accuracy = tf.reduce_mean(\n",
        "            tf.cast(tf.equal(self._predictions, labels), 'float32'))\n",
        "\n",
        "    def _create_backpropagation(self):\n",
        "        losses = tf.compat.v1.nn.softmax_cross_entropy_with_logits_v2(\n",
        "            logits=self._output,\n",
        "            labels=self._labels)\n",
        "        self._loss = tf.reduce_mean(losses)\n",
        "\n",
        "        optimizer = tf.compat.v1.train.AdamOptimizer(0.001)\n",
        "        global_step = tf.Variable(0, name=\"global_step\", trainable=False)\n",
        "        grads_and_vars = optimizer.compute_gradients(self._loss)\n",
        "\n",
        "        self._train_op = optimizer.apply_gradients(\n",
        "            grads_and_vars, global_step=global_step)\n",
        "\n",
        "    def summary(self):\n",
        "        print('input:', self._input.shape)\n",
        "        self.model.summary()\n",
        "        print('output:', self._output.shape)\n",
        "\n",
        "#     @jit(target =\"cuda\")  \n",
        "    def train(self, X_train, y_train, X_eval, y_eval, epochs=10):\n",
        "        import time\n",
        "        start_train = time.time()\n",
        "        losslist = []\n",
        "        acclist = []\n",
        "        val_losslist = []\n",
        "        val_acclist =[]\n",
        "        for e in range(epochs):\n",
        "            start_time = time.time()\n",
        "            loss, acc = self._train(X_train, y_train)\n",
        "            losslist.append(loss)\n",
        "            acclist.append(acc)\n",
        "            duration = time.time() - start_time\n",
        "\n",
        "            val_loss, val_acc = self._eval(X_eval, y_eval)\n",
        "            val_losslist.append(val_loss)\n",
        "            val_acclist.append(val_acc)\n",
        "            \n",
        "            output = 'Epoch: {}, loss = {:.4f}, acc = {:.4f}, val_loss = {:.4f}, val_acc = {:.4f}, Time = {:.2f}s'\n",
        "            print(output.format(e + 1, loss, acc, val_loss, val_acc, duration))\n",
        "        \n",
        "        total_duration = time.time() - start_train\n",
        "        return losslist, acclist, val_losslist, val_acclist, total_duration\n",
        "\n",
        "#     @jit(target =\"cuda\")  \n",
        "    def _train(self, X_train, y_train):\n",
        "        import numpy as np\n",
        "\n",
        "        self._session.run(\n",
        "            fetches=self._ds_it.initializer,\n",
        "            feed_dict={\n",
        "                self._ds_x: X_train,\n",
        "                self._ds_y: y_train\n",
        "            })\n",
        "        loss, acc, = [], []\n",
        "        while True:\n",
        "            try:\n",
        "                _, vloss, vacc = self._session.run(\n",
        "                    fetches=[self._train_op, self._loss, self._accuracy])\n",
        "\n",
        "                loss.append(vloss)\n",
        "                acc.append(vacc)\n",
        "            except tf.errors.OutOfRangeError:\n",
        "                break\n",
        "        # endwhile\n",
        "\n",
        "        loss, acc = np.mean(loss), np.mean(acc)\n",
        "        return loss, acc\n",
        "\n",
        "    def _eval(self, X_val, y_val):\n",
        "        self._session.run(\n",
        "            fetches=self._ds_it.initializer,\n",
        "            feed_dict={\n",
        "                self._ds_x: X_val,\n",
        "                self._ds_y: y_val\n",
        "            })\n",
        "\n",
        "        loss, acc, = 0, 0\n",
        "        while True:\n",
        "            try:\n",
        "                l, vloss, vacc = self._session.run(\n",
        "                    fetches=[self._labels, self._loss, self._accuracy])\n",
        "\n",
        "                loss += vloss * len(l)\n",
        "                acc += vacc * len(l)\n",
        "            except tf.errors.OutOfRangeError:\n",
        "                break\n",
        "\n",
        "        return loss / len(X_val), acc / len(X_val)\n",
        "\n",
        "    def predict(self, X):\n",
        "        import numpy as np\n",
        "\n",
        "        self._session.run(self._ds_it.initializer,\n",
        "                         feed_dict={\n",
        "                             self._ds_x: X,\n",
        "                             self._ds_y: np.empty((len(X), self.output_length))\n",
        "                         }\n",
        "                         )\n",
        "\n",
        "        pred = list()\n",
        "        while True:\n",
        "            try:\n",
        "                ppred = self._session.run(tf.nn.softmax(self._output))\n",
        "\n",
        "                pred.extend(map(lambda l: l.tolist(), ppred))\n",
        "            except tf.errors.OutOfRangeError:\n",
        "                break\n",
        "\n",
        "        return pred\n",
        "\n",
        "def _create_dense_layer(x, output_length):\n",
        "    '''Creates a dense layer\n",
        "    '''\n",
        "    input_size = x.shape[1] #.value\n",
        "    W = tf.Variable(\n",
        "        initial_value=tf.random.truncated_normal(\n",
        "            shape=[input_size, output_length],\n",
        "            stddev=0.1))\n",
        "    b = tf.Variable(\n",
        "        initial_value=tf.random.truncated_normal(\n",
        "            shape=[output_length]))\n",
        "\n",
        "    dense = tf.compat.v1.nn.xw_plus_b(x, W, b)\n",
        "\n",
        "    return dense\n",
        "\n",
        "\n",
        "if __name__ == '__main__':\n",
        "    pass"
      ],
      "id": "bab9483b",
      "execution_count": null,
      "outputs": []
    },
    {
      "cell_type": "code",
      "metadata": {
        "execution": {
          "iopub.execute_input": "2021-11-11T12:39:40.704159Z",
          "iopub.status.busy": "2021-11-11T12:39:40.698620Z",
          "iopub.status.idle": "2021-11-11T13:32:00.815082Z",
          "shell.execute_reply": "2021-11-11T13:32:00.814538Z",
          "shell.execute_reply.started": "2021-11-11T08:47:01.336617Z"
        },
        "id": "1af96586",
        "papermill": {
          "duration": 3140.146342,
          "end_time": "2021-11-11T13:32:00.815265",
          "exception": false,
          "start_time": "2021-11-11T12:39:40.668923",
          "status": "completed"
        },
        "tags": [],
        "colab": {
          "base_uri": "https://localhost:8080/"
        },
        "outputId": "6e0c2dca-bde8-4f60-cf3a-272d44aa1427"
      },
      "source": [
        "import pickle\n",
        "import numpy as np\n",
        "import sys\n",
        "# from fen.classifier import Classifier\n",
        "# from fen.pzhou_tf import ZhouBLSTMCNNModel\n",
        "\n",
        "if __name__ == '__main__':\n",
        "\n",
        "#     (X_train, y_train), (X_eval, y_eval) = (X_train, y_train), (X_test, y_test)\n",
        "\n",
        "    word_vector = word_embeds\n",
        "    word_vector = word_vector.astype('float32')\n",
        "    \n",
        "    sentence_length = X_train[0].shape[0] # sentence length = 37 -- if less than 37, remaining is 0\n",
        "    num_classes = y_train[0].shape[0] # 6 sentiment classes\n",
        "\n",
        "#     with tf.device('/device:GPU:0'):\n",
        "    model = ZhouBLSTMCNNModel(embedding=word_vector) #pass in word_vector as lookup table\n",
        "\n",
        "    classifier = Classifier(\n",
        "        model=model,\n",
        "        input_length=sentence_length,\n",
        "        output_length=num_classes)\n",
        "\n",
        "    classifier.compile(batch_size=10)\n",
        "    classifier.summary()\n",
        "    loss, acc, val_loss, val_acc, duration = classifier.train(\n",
        "        X_train=X_train,\n",
        "        y_train=y_train,\n",
        "        X_eval=X_test,\n",
        "        y_eval=y_test,\n",
        "        epochs=20\n",
        "    )\n",
        "\n",
        "    print(\"total time taken: \", duration)\n",
        "    print(\"Predictions:\", classifier.predict(X_train[0:2]))\n",
        "    print(\"Real:\", y_train[0:2])"
      ],
      "id": "1af96586",
      "execution_count": null,
      "outputs": [
        {
          "output_type": "stream",
          "name": "stdout",
          "text": [
            "WARNING:tensorflow:From <ipython-input-26-7f91d050f8d2>:24: DatasetV1.make_initializable_iterator (from tensorflow.python.data.ops.dataset_ops) is deprecated and will be removed in a future version.\n",
            "Instructions for updating:\n",
            "This is a deprecated API that should only be used in TF 1 graph mode and legacy TF 2 graph mode available through `tf.compat.v1`. In all other situations -- namely, eager mode and inside `tf.function` -- you can consume dataset elements using `for elem in dataset: ...` or by explicitly creating iterator via `iterator = iter(dataset)` and fetching its elements via `values = next(iterator)`. Furthermore, this API is not available in TF 2. During the transition from TF 1 to TF 2 you can use `tf.compat.v1.data.make_initializable_iterator(dataset)` to create a TF 1 graph mode style iterator for a dataset created through TF 2 APIs. Note that this should be a transient state of your code base as there are in general no guarantees about the interoperability of TF 1 and TF 2 code.\n",
            "WARNING:tensorflow:From /usr/local/lib/python3.7/dist-packages/keras/layers/legacy_rnn/rnn_cell_impl.py:992: calling Zeros.__init__ (from tensorflow.python.ops.init_ops) with dtype is deprecated and will be removed in a future version.\n",
            "Instructions for updating:\n",
            "Call initializer instance with the dtype argument instead of passing it to the constructor\n"
          ]
        },
        {
          "output_type": "stream",
          "name": "stderr",
          "text": [
            "/usr/local/lib/python3.7/dist-packages/ipykernel_launcher.py:81: UserWarning: `tf.nn.rnn_cell.LSTMCell` is deprecated and will be removed in a future version. This class is equivalent as `tf.keras.layers.LSTMCell`, and will be replaced by that in Tensorflow 2.0.\n",
            "/usr/local/lib/python3.7/dist-packages/keras/layers/legacy_rnn/rnn_cell_impl.py:988: UserWarning: `layer.add_variable` is deprecated and will be removed in a future version. Please use `layer.add_weight` method instead.\n",
            "  partitioner=maybe_partitioner)\n",
            "/usr/local/lib/python3.7/dist-packages/keras/layers/legacy_rnn/rnn_cell_impl.py:996: UserWarning: `layer.add_variable` is deprecated and will be removed in a future version. Please use `layer.add_weight` method instead.\n",
            "  initializer=initializer)\n"
          ]
        },
        {
          "output_type": "stream",
          "name": "stdout",
          "text": [
            "(None, 110, 300)\n",
            "input: (None, 110)\n",
            "embedding: (None, 110, 300)\n",
            "lstm: (None, 110, 300)\n",
            "conv: (None, 108, 298, 100)\n",
            "pooling: (None, 54, 149, 1, 1)\n",
            "flatten: (None, 8046)\n",
            "output: (None, 4)\n",
            "Epoch: 1, loss = 14.8403, acc = 0.2900, val_loss = 17.1771, val_acc = 0.1680, Time = 26.18s\n",
            "Epoch: 2, loss = 14.1750, acc = 0.2460, val_loss = 17.3013, val_acc = 0.2320, Time = 11.67s\n",
            "Epoch: 3, loss = 13.8255, acc = 0.2320, val_loss = 12.1708, val_acc = 0.2960, Time = 11.74s\n",
            "Epoch: 4, loss = 13.7944, acc = 0.2560, val_loss = 12.2572, val_acc = 0.3040, Time = 11.41s\n",
            "Epoch: 5, loss = 11.1466, acc = 0.3260, val_loss = 11.4901, val_acc = 0.2720, Time = 11.41s\n",
            "Epoch: 6, loss = 8.4650, acc = 0.4340, val_loss = 8.6509, val_acc = 0.3680, Time = 11.44s\n",
            "Epoch: 7, loss = 8.1992, acc = 0.4500, val_loss = 11.7710, val_acc = 0.4000, Time = 11.64s\n",
            "Epoch: 8, loss = 7.2240, acc = 0.5380, val_loss = 7.8780, val_acc = 0.5360, Time = 11.49s\n",
            "Epoch: 9, loss = 4.7132, acc = 0.6280, val_loss = 5.7646, val_acc = 0.5920, Time = 11.73s\n",
            "Epoch: 10, loss = 3.7992, acc = 0.6740, val_loss = 5.1976, val_acc = 0.6400, Time = 11.74s\n",
            "Epoch: 11, loss = 2.9328, acc = 0.7600, val_loss = 7.0233, val_acc = 0.5920, Time = 11.37s\n",
            "Epoch: 12, loss = 2.5849, acc = 0.8080, val_loss = 11.4788, val_acc = 0.4640, Time = 11.45s\n",
            "Epoch: 13, loss = 1.4738, acc = 0.8680, val_loss = 5.7737, val_acc = 0.7360, Time = 11.68s\n",
            "Epoch: 14, loss = 1.5707, acc = 0.8780, val_loss = 7.2811, val_acc = 0.6240, Time = 11.71s\n",
            "Epoch: 15, loss = 1.2486, acc = 0.8920, val_loss = 4.5018, val_acc = 0.7680, Time = 11.73s\n",
            "Epoch: 16, loss = 1.2925, acc = 0.9040, val_loss = 11.3948, val_acc = 0.5440, Time = 11.65s\n",
            "Epoch: 17, loss = 0.8426, acc = 0.9320, val_loss = 3.8033, val_acc = 0.8080, Time = 11.77s\n",
            "Epoch: 18, loss = 0.7030, acc = 0.9320, val_loss = 7.4524, val_acc = 0.7440, Time = 11.38s\n",
            "Epoch: 19, loss = 0.8118, acc = 0.9480, val_loss = 5.4944, val_acc = 0.7760, Time = 11.59s\n",
            "Epoch: 20, loss = 0.6520, acc = 0.9440, val_loss = 4.6286, val_acc = 0.7760, Time = 11.72s\n",
            "total time taken:  349.2570695877075\n",
            "Predictions: [[4.772493982996558e-17, 3.929432164427002e-17, 4.273554663318402e-30, 1.0], [1.808661913296306e-21, 3.305637436092845e-22, 1.8728226187637523e-27, 1.0]]\n",
            "Real: [[0. 0. 0. 1.]\n",
            " [0. 0. 0. 1.]]\n"
          ]
        }
      ]
    },
    {
      "cell_type": "code",
      "metadata": {
        "execution": {
          "iopub.execute_input": "2021-11-11T13:32:00.908287Z",
          "iopub.status.busy": "2021-11-11T13:32:00.907710Z",
          "iopub.status.idle": "2021-11-11T13:32:01.117712Z",
          "shell.execute_reply": "2021-11-11T13:32:01.118155Z",
          "shell.execute_reply.started": "2021-11-11T09:52:41.678475Z"
        },
        "papermill": {
          "duration": 0.265773,
          "end_time": "2021-11-11T13:32:01.118310",
          "exception": false,
          "start_time": "2021-11-11T13:32:00.852537",
          "status": "completed"
        },
        "tags": [],
        "colab": {
          "base_uri": "https://localhost:8080/",
          "height": 294
        },
        "id": "5eda7b01",
        "outputId": "8a148e07-f6d8-41cc-b5d3-b43e27fdd2f4"
      },
      "source": [
        "epochslist = [i for i in range(0,20)]\n",
        "plt.plot(epochslist, loss)\n",
        "plt.title('training loss')\n",
        "plt.xlabel('epochs')\n",
        "plt.ylabel('training loss')\n",
        "plt.show()"
      ],
      "id": "5eda7b01",
      "execution_count": null,
      "outputs": [
        {
          "output_type": "display_data",
          "data": {
            "image/png": "[encoded data removed]",
            "text/plain": [
              "<Figure size 432x288 with 1 Axes>"
            ]
          },
          "metadata": {
            "needs_background": "light"
          }
        }
      ]
    },
    {
      "cell_type": "code",
      "metadata": {
        "execution": {
          "iopub.execute_input": "2021-11-11T13:32:01.198315Z",
          "iopub.status.busy": "2021-11-11T13:32:01.197464Z",
          "iopub.status.idle": "2021-11-11T13:32:01.390970Z",
          "shell.execute_reply": "2021-11-11T13:32:01.390521Z",
          "shell.execute_reply.started": "2021-11-11T09:52:46.362674Z"
        },
        "papermill": {
          "duration": 0.237667,
          "end_time": "2021-11-11T13:32:01.391095",
          "exception": false,
          "start_time": "2021-11-11T13:32:01.153428",
          "status": "completed"
        },
        "tags": [],
        "colab": {
          "base_uri": "https://localhost:8080/"
        },
        "id": "2d6cad14",
        "outputId": "83bb9f5a-ab13-4df9-9ca7-178670372488"
      },
      "source": [
        "plt.plot(epochslist, acc)\n",
        "plt.title('training acc')\n",
        "plt.xlabel('epochs')\n",
        "plt.ylabel('training acc')\n",
        "plt.show()"
      ],
      "id": "2d6cad14",
      "execution_count": null,
      "outputs": [
        {
          "output_type": "display_data",
          "data": {
            "image/png": "[encoded data removed]",
            "text/plain": [
              "<Figure size 432x288 with 1 Axes>"
            ]
          },
          "metadata": {
            "needs_background": "light"
          }
        }
      ]
    },
    {
      "cell_type": "code",
      "metadata": {
        "execution": {
          "iopub.execute_input": "2021-11-11T13:32:01.485164Z",
          "iopub.status.busy": "2021-11-11T13:32:01.474392Z",
          "iopub.status.idle": "2021-11-11T13:32:01.667430Z",
          "shell.execute_reply": "2021-11-11T13:32:01.667867Z",
          "shell.execute_reply.started": "2021-11-11T09:52:50.096413Z"
        },
        "papermill": {
          "duration": 0.239918,
          "end_time": "2021-11-11T13:32:01.668078",
          "exception": false,
          "start_time": "2021-11-11T13:32:01.428160",
          "status": "completed"
        },
        "tags": [],
        "colab": {
          "base_uri": "https://localhost:8080/"
        },
        "id": "f7de6f22",
        "outputId": "cffa6baa-da38-46c9-fb86-81bd853d4301"
      },
      "source": [
        "plt.plot(epochslist, val_loss)\n",
        "plt.title('validation loss')\n",
        "plt.xlabel('epochs')\n",
        "plt.ylabel('validation loss')\n",
        "plt.show()"
      ],
      "id": "f7de6f22",
      "execution_count": null,
      "outputs": [
        {
          "output_type": "display_data",
          "data": {
            "image/png": "[encoded data removed]",
            "text/plain": [
              "<Figure size 432x288 with 1 Axes>"
            ]
          },
          "metadata": {
            "needs_background": "light"
          }
        }
      ]
    },
    {
      "cell_type": "code",
      "metadata": {
        "execution": {
          "iopub.execute_input": "2021-11-11T13:32:01.757475Z",
          "iopub.status.busy": "2021-11-11T13:32:01.745529Z",
          "iopub.status.idle": "2021-11-11T13:32:01.934731Z",
          "shell.execute_reply": "2021-11-11T13:32:01.935294Z",
          "shell.execute_reply.started": "2021-11-11T09:52:56.746409Z"
        },
        "papermill": {
          "duration": 0.229146,
          "end_time": "2021-11-11T13:32:01.935429",
          "exception": false,
          "start_time": "2021-11-11T13:32:01.706283",
          "status": "completed"
        },
        "tags": [],
        "colab": {
          "base_uri": "https://localhost:8080/",
          "height": 294
        },
        "id": "2fb18248",
        "outputId": "2766cf13-66d4-4e46-aed6-c1bd7c68a024"
      },
      "source": [
        "plt.plot(epochslist, val_acc)\n",
        "plt.title('validation acc')\n",
        "plt.xlabel('epochs')\n",
        "plt.ylabel('validation acc')\n",
        "plt.show()"
      ],
      "id": "2fb18248",
      "execution_count": null,
      "outputs": [
        {
          "output_type": "display_data",
          "data": {
            "image/png": "[encoded data removed]",
            "text/plain": [
              "<Figure size 432x288 with 1 Axes>"
            ]
          },
          "metadata": {
            "needs_background": "light"
          }
        }
      ]
    },
    {
      "cell_type": "code",
      "metadata": {
        "execution": {
          "iopub.execute_input": "2021-11-11T13:32:02.019903Z",
          "iopub.status.busy": "2021-11-11T13:32:02.019296Z",
          "iopub.status.idle": "2021-11-11T13:32:02.023691Z",
          "shell.execute_reply": "2021-11-11T13:32:02.023249Z",
          "shell.execute_reply.started": "2021-11-11T09:37:13.111276Z"
        },
        "id": "4707f28b",
        "papermill": {
          "duration": 0.051224,
          "end_time": "2021-11-11T13:32:02.023795",
          "exception": false,
          "start_time": "2021-11-11T13:32:01.972571",
          "status": "completed"
        },
        "tags": [],
        "colab": {
          "base_uri": "https://localhost:8080/"
        },
        "outputId": "911f8771-feaa-4471-879d-bb8eb20c0fb9"
      },
      "source": [
        "device_name = tf.test.gpu_device_name()\n",
        "print(device_name)"
      ],
      "id": "4707f28b",
      "execution_count": null,
      "outputs": [
        {
          "output_type": "stream",
          "name": "stdout",
          "text": [
            "/device:GPU:0\n"
          ]
        }
      ]
    },
    {
      "cell_type": "markdown",
      "metadata": {
        "id": "a5458bdc",
        "papermill": {
          "duration": 0.037533,
          "end_time": "2021-11-11T13:32:02.099079",
          "exception": false,
          "start_time": "2021-11-11T13:32:02.061546",
          "status": "completed"
        },
        "tags": []
      },
      "source": [
        "### testing"
      ],
      "id": "a5458bdc"
    },
    {
      "cell_type": "code",
      "metadata": {
        "execution": {
          "iopub.execute_input": "2021-11-11T13:32:02.177340Z",
          "iopub.status.busy": "2021-11-11T13:32:02.176663Z",
          "iopub.status.idle": "2021-11-11T13:32:02.179425Z",
          "shell.execute_reply": "2021-11-11T13:32:02.180018Z",
          "shell.execute_reply.started": "2021-11-11T09:37:13.113149Z"
        },
        "id": "89c1a317",
        "papermill": {
          "duration": 0.04421,
          "end_time": "2021-11-11T13:32:02.180194",
          "exception": false,
          "start_time": "2021-11-11T13:32:02.135984",
          "status": "completed"
        },
        "tags": [],
        "colab": {
          "base_uri": "https://localhost:8080/"
        },
        "outputId": "d1e128b3-0242-44a2-c11d-adad63fd5cfe"
      },
      "source": [
        "print(\"Num GPUs Available: \", len(tf.config.list_physical_devices('GPU')))"
      ],
      "id": "89c1a317",
      "execution_count": null,
      "outputs": [
        {
          "output_type": "stream",
          "name": "stdout",
          "text": [
            "Num GPUs Available:  1\n"
          ]
        }
      ]
    }
  ]
}